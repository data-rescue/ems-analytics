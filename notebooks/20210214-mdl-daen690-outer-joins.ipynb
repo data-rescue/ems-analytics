{
 "cells": [
  {
   "cell_type": "markdown",
   "metadata": {},
   "source": [
    "## DAEN690-OuterJoins\n",
    "\n",
    "The purpose of this notebook is to identify orphan records in the Procedures and Medications datasets that are not contained in the Patients dataset. This will be done leveraging the Pandas and NumPy Python libraries by performing left outer joins (actually, merge in Pandas) on the table keys on the left side compared to the same on the right side where the value is NULL.\n",
    "\n",
    "* You can run the notebook document step-by-step (one cell a time) by pressing shift + enter.\n",
    "\n",
    "* You can run the whole notebook in a single step by clicking on the menu Cell -> Run All."
   ]
  },
  {
   "cell_type": "code",
   "execution_count": 1,
   "metadata": {},
   "outputs": [],
   "source": [
    "# Import libraries\n",
    "import pandas as pd\n",
    "import numpy as np\n",
    "\n",
    "from matplotlib import pyplot as plt\n",
    "%matplotlib inline\n",
    "\n",
    "from matplotlib_venn import venn2, venn2_circles\n",
    "# You may not have this library, so to get you must open a conda cmd window from \n",
    "# Anaconda Navigator and run at the command line> pip install matplotlib-venn"
   ]
  },
  {
   "cell_type": "markdown",
   "metadata": {},
   "source": [
    "Use Pandas to read partner dataset(s) provided in Excel workbook into a dataframe by spreadsheet name, transforming and Not a Number (NaN) values into text “NA”, and only importing the PatientId and FRDPersonnelID columns. "
   ]
  },
  {
   "cell_type": "code",
   "execution_count": 2,
   "metadata": {},
   "outputs": [],
   "source": [
    "df_pat = pd.read_excel(r'DAEN690-2wDates.xlsx', \n",
    "                       sheet_name='Patients', \n",
    "                       na_values=['NA'], \n",
    "                       usecols = 'A,B')"
   ]
  },
  {
   "cell_type": "code",
   "execution_count": 3,
   "metadata": {},
   "outputs": [
    {
     "data": {
      "text/html": [
       "<div>\n",
       "<style scoped>\n",
       "    .dataframe tbody tr th:only-of-type {\n",
       "        vertical-align: middle;\n",
       "    }\n",
       "\n",
       "    .dataframe tbody tr th {\n",
       "        vertical-align: top;\n",
       "    }\n",
       "\n",
       "    .dataframe thead th {\n",
       "        text-align: right;\n",
       "    }\n",
       "</style>\n",
       "<table border=\"1\" class=\"dataframe\">\n",
       "  <thead>\n",
       "    <tr style=\"text-align: right;\">\n",
       "      <th></th>\n",
       "      <th>PatientId</th>\n",
       "      <th>FRDPersonnelID</th>\n",
       "    </tr>\n",
       "  </thead>\n",
       "  <tbody>\n",
       "    <tr>\n",
       "      <th>0</th>\n",
       "      <td>479838</td>\n",
       "      <td>6ED7C99E-9E01-E211-B5F5-78E7D18CFD3C</td>\n",
       "    </tr>\n",
       "    <tr>\n",
       "      <th>1</th>\n",
       "      <td>479838</td>\n",
       "      <td>F39A55F0-C619-E511-80CA-001DD8B71D38</td>\n",
       "    </tr>\n",
       "    <tr>\n",
       "      <th>2</th>\n",
       "      <td>479838</td>\n",
       "      <td>D6D3C99E-9E01-E211-B5F5-78E7D18CFD3C</td>\n",
       "    </tr>\n",
       "    <tr>\n",
       "      <th>3</th>\n",
       "      <td>479839</td>\n",
       "      <td>71D4C99E-9E01-E211-B5F5-78E7D18CFD3C</td>\n",
       "    </tr>\n",
       "    <tr>\n",
       "      <th>4</th>\n",
       "      <td>479839</td>\n",
       "      <td>F9D4C99E-9E01-E211-B5F5-78E7D18CFD3C</td>\n",
       "    </tr>\n",
       "  </tbody>\n",
       "</table>\n",
       "</div>"
      ],
      "text/plain": [
       "   PatientId                        FRDPersonnelID\n",
       "0     479838  6ED7C99E-9E01-E211-B5F5-78E7D18CFD3C\n",
       "1     479838  F39A55F0-C619-E511-80CA-001DD8B71D38\n",
       "2     479838  D6D3C99E-9E01-E211-B5F5-78E7D18CFD3C\n",
       "3     479839  71D4C99E-9E01-E211-B5F5-78E7D18CFD3C\n",
       "4     479839  F9D4C99E-9E01-E211-B5F5-78E7D18CFD3C"
      ]
     },
     "execution_count": 3,
     "metadata": {},
     "output_type": "execute_result"
    }
   ],
   "source": [
    "df_pat.head(5)"
   ]
  },
  {
   "cell_type": "code",
   "execution_count": 4,
   "metadata": {},
   "outputs": [
    {
     "data": {
      "text/plain": [
       "(545060, 2)"
      ]
     },
     "execution_count": 4,
     "metadata": {},
     "output_type": "execute_result"
    }
   ],
   "source": [
    "# get accurate row count for Venn Diagram later\n",
    "varPatCount = len(df_pat.index)\n",
    "# Display dataframe shape\n",
    "df_pat.shape"
   ]
  },
  {
   "cell_type": "markdown",
   "metadata": {},
   "source": [
    "Create a concatenated column based on the key values of PatientId and FRDPersonnelID for the Patients dataset. Purposefully named the new column \"_IDs\" in the Patients dataset to differentiate from what they will be named in the other datasets."
   ]
  },
  {
   "cell_type": "code",
   "execution_count": 5,
   "metadata": {},
   "outputs": [],
   "source": [
    "df_pat['_IDs'] = df_pat['PatientId'].map(str) + '|' + df_pat['FRDPersonnelID']"
   ]
  },
  {
   "cell_type": "code",
   "execution_count": 6,
   "metadata": {},
   "outputs": [
    {
     "data": {
      "text/html": [
       "<div>\n",
       "<style scoped>\n",
       "    .dataframe tbody tr th:only-of-type {\n",
       "        vertical-align: middle;\n",
       "    }\n",
       "\n",
       "    .dataframe tbody tr th {\n",
       "        vertical-align: top;\n",
       "    }\n",
       "\n",
       "    .dataframe thead th {\n",
       "        text-align: right;\n",
       "    }\n",
       "</style>\n",
       "<table border=\"1\" class=\"dataframe\">\n",
       "  <thead>\n",
       "    <tr style=\"text-align: right;\">\n",
       "      <th></th>\n",
       "      <th>PatientId</th>\n",
       "      <th>FRDPersonnelID</th>\n",
       "      <th>_IDs</th>\n",
       "    </tr>\n",
       "  </thead>\n",
       "  <tbody>\n",
       "    <tr>\n",
       "      <th>0</th>\n",
       "      <td>479838</td>\n",
       "      <td>6ED7C99E-9E01-E211-B5F5-78E7D18CFD3C</td>\n",
       "      <td>479838|6ED7C99E-9E01-E211-B5F5-78E7D18CFD3C</td>\n",
       "    </tr>\n",
       "    <tr>\n",
       "      <th>1</th>\n",
       "      <td>479838</td>\n",
       "      <td>F39A55F0-C619-E511-80CA-001DD8B71D38</td>\n",
       "      <td>479838|F39A55F0-C619-E511-80CA-001DD8B71D38</td>\n",
       "    </tr>\n",
       "    <tr>\n",
       "      <th>2</th>\n",
       "      <td>479838</td>\n",
       "      <td>D6D3C99E-9E01-E211-B5F5-78E7D18CFD3C</td>\n",
       "      <td>479838|D6D3C99E-9E01-E211-B5F5-78E7D18CFD3C</td>\n",
       "    </tr>\n",
       "    <tr>\n",
       "      <th>3</th>\n",
       "      <td>479839</td>\n",
       "      <td>71D4C99E-9E01-E211-B5F5-78E7D18CFD3C</td>\n",
       "      <td>479839|71D4C99E-9E01-E211-B5F5-78E7D18CFD3C</td>\n",
       "    </tr>\n",
       "    <tr>\n",
       "      <th>4</th>\n",
       "      <td>479839</td>\n",
       "      <td>F9D4C99E-9E01-E211-B5F5-78E7D18CFD3C</td>\n",
       "      <td>479839|F9D4C99E-9E01-E211-B5F5-78E7D18CFD3C</td>\n",
       "    </tr>\n",
       "  </tbody>\n",
       "</table>\n",
       "</div>"
      ],
      "text/plain": [
       "   PatientId                        FRDPersonnelID  \\\n",
       "0     479838  6ED7C99E-9E01-E211-B5F5-78E7D18CFD3C   \n",
       "1     479838  F39A55F0-C619-E511-80CA-001DD8B71D38   \n",
       "2     479838  D6D3C99E-9E01-E211-B5F5-78E7D18CFD3C   \n",
       "3     479839  71D4C99E-9E01-E211-B5F5-78E7D18CFD3C   \n",
       "4     479839  F9D4C99E-9E01-E211-B5F5-78E7D18CFD3C   \n",
       "\n",
       "                                          _IDs  \n",
       "0  479838|6ED7C99E-9E01-E211-B5F5-78E7D18CFD3C  \n",
       "1  479838|F39A55F0-C619-E511-80CA-001DD8B71D38  \n",
       "2  479838|D6D3C99E-9E01-E211-B5F5-78E7D18CFD3C  \n",
       "3  479839|71D4C99E-9E01-E211-B5F5-78E7D18CFD3C  \n",
       "4  479839|F9D4C99E-9E01-E211-B5F5-78E7D18CFD3C  "
      ]
     },
     "execution_count": 6,
     "metadata": {},
     "output_type": "execute_result"
    }
   ],
   "source": [
    "df_pat.head(5)"
   ]
  },
  {
   "cell_type": "code",
   "execution_count": 7,
   "metadata": {},
   "outputs": [
    {
     "data": {
      "text/html": [
       "<div>\n",
       "<style scoped>\n",
       "    .dataframe tbody tr th:only-of-type {\n",
       "        vertical-align: middle;\n",
       "    }\n",
       "\n",
       "    .dataframe tbody tr th {\n",
       "        vertical-align: top;\n",
       "    }\n",
       "\n",
       "    .dataframe thead th {\n",
       "        text-align: right;\n",
       "    }\n",
       "</style>\n",
       "<table border=\"1\" class=\"dataframe\">\n",
       "  <thead>\n",
       "    <tr style=\"text-align: right;\">\n",
       "      <th></th>\n",
       "      <th>PatientId</th>\n",
       "      <th>FRDPersonnelID</th>\n",
       "      <th>_IDs</th>\n",
       "    </tr>\n",
       "  </thead>\n",
       "  <tbody>\n",
       "    <tr>\n",
       "      <th>46</th>\n",
       "      <td>479920</td>\n",
       "      <td>A0A16D01-B819-E511-80CA-001DD8B71D38</td>\n",
       "      <td>479920|A0A16D01-B819-E511-80CA-001DD8B71D38</td>\n",
       "    </tr>\n",
       "    <tr>\n",
       "      <th>47</th>\n",
       "      <td>479920</td>\n",
       "      <td>995B70E4-8D50-E311-B3F8-AE437D699481</td>\n",
       "      <td>479920|995B70E4-8D50-E311-B3F8-AE437D699481</td>\n",
       "    </tr>\n",
       "  </tbody>\n",
       "</table>\n",
       "</div>"
      ],
      "text/plain": [
       "    PatientId                        FRDPersonnelID  \\\n",
       "46     479920  A0A16D01-B819-E511-80CA-001DD8B71D38   \n",
       "47     479920  995B70E4-8D50-E311-B3F8-AE437D699481   \n",
       "\n",
       "                                           _IDs  \n",
       "46  479920|A0A16D01-B819-E511-80CA-001DD8B71D38  \n",
       "47  479920|995B70E4-8D50-E311-B3F8-AE437D699481  "
      ]
     },
     "execution_count": 7,
     "metadata": {},
     "output_type": "execute_result"
    }
   ],
   "source": [
    "# run this for a single specific row\n",
    "df_pat.loc[df_pat['PatientId'] == 479920]"
   ]
  },
  {
   "cell_type": "markdown",
   "metadata": {},
   "source": [
    "Read in Medications dataset into dataframe transforming and Not a Number (NaN) values into text \"NA\", and only importing the PatientId and FRDPersonnelID columns. "
   ]
  },
  {
   "cell_type": "code",
   "execution_count": 8,
   "metadata": {},
   "outputs": [],
   "source": [
    "df_med = pd.read_excel(r'DAEN690-2wDates.xlsx', \n",
    "                       sheet_name='Medications', \n",
    "                       na_values=['NA'], \n",
    "                       usecols = 'A,D')"
   ]
  },
  {
   "cell_type": "code",
   "execution_count": 9,
   "metadata": {},
   "outputs": [
    {
     "data": {
      "text/html": [
       "<div>\n",
       "<style scoped>\n",
       "    .dataframe tbody tr th:only-of-type {\n",
       "        vertical-align: middle;\n",
       "    }\n",
       "\n",
       "    .dataframe tbody tr th {\n",
       "        vertical-align: top;\n",
       "    }\n",
       "\n",
       "    .dataframe thead th {\n",
       "        text-align: right;\n",
       "    }\n",
       "</style>\n",
       "<table border=\"1\" class=\"dataframe\">\n",
       "  <thead>\n",
       "    <tr style=\"text-align: right;\">\n",
       "      <th></th>\n",
       "      <th>PatientId</th>\n",
       "      <th>FRDPersonnelID</th>\n",
       "    </tr>\n",
       "  </thead>\n",
       "  <tbody>\n",
       "    <tr>\n",
       "      <th>0</th>\n",
       "      <td>480158</td>\n",
       "      <td>05CD4840-EB36-4EC3-9292-74904CFBD0C4</td>\n",
       "    </tr>\n",
       "    <tr>\n",
       "      <th>1</th>\n",
       "      <td>480158</td>\n",
       "      <td>05CD4840-EB36-4EC3-9292-74904CFBD0C4</td>\n",
       "    </tr>\n",
       "    <tr>\n",
       "      <th>2</th>\n",
       "      <td>480158</td>\n",
       "      <td>05CD4840-EB36-4EC3-9292-74904CFBD0C4</td>\n",
       "    </tr>\n",
       "    <tr>\n",
       "      <th>3</th>\n",
       "      <td>480158</td>\n",
       "      <td>05CD4840-EB36-4EC3-9292-74904CFBD0C4</td>\n",
       "    </tr>\n",
       "    <tr>\n",
       "      <th>4</th>\n",
       "      <td>480399</td>\n",
       "      <td>41D6C99E-9E01-E211-B5F5-78E7D18CFD3C</td>\n",
       "    </tr>\n",
       "  </tbody>\n",
       "</table>\n",
       "</div>"
      ],
      "text/plain": [
       "   PatientId                        FRDPersonnelID\n",
       "0     480158  05CD4840-EB36-4EC3-9292-74904CFBD0C4\n",
       "1     480158  05CD4840-EB36-4EC3-9292-74904CFBD0C4\n",
       "2     480158  05CD4840-EB36-4EC3-9292-74904CFBD0C4\n",
       "3     480158  05CD4840-EB36-4EC3-9292-74904CFBD0C4\n",
       "4     480399  41D6C99E-9E01-E211-B5F5-78E7D18CFD3C"
      ]
     },
     "execution_count": 9,
     "metadata": {},
     "output_type": "execute_result"
    }
   ],
   "source": [
    "df_med.head(5)"
   ]
  },
  {
   "cell_type": "code",
   "execution_count": 10,
   "metadata": {},
   "outputs": [
    {
     "data": {
      "text/plain": [
       "(63311, 2)"
      ]
     },
     "execution_count": 10,
     "metadata": {},
     "output_type": "execute_result"
    }
   ],
   "source": [
    "# get accurate row count for Venn Diagram later\n",
    "varMedCount = len(df_med.index)\n",
    "# Display dataframe shape\n",
    "df_med.shape"
   ]
  },
  {
   "cell_type": "markdown",
   "metadata": {},
   "source": [
    "Create a concatenated column based on the key values of PatientId and FRDPersonnelID for the Medications dataset. The new column is named \"IDs\" in this case and will be used in the left outer joins."
   ]
  },
  {
   "cell_type": "code",
   "execution_count": 11,
   "metadata": {},
   "outputs": [],
   "source": [
    "df_med['IDs'] = df_med['PatientId'].map(str) + '|' + df_med['FRDPersonnelID']"
   ]
  },
  {
   "cell_type": "code",
   "execution_count": 12,
   "metadata": {},
   "outputs": [
    {
     "data": {
      "text/html": [
       "<div>\n",
       "<style scoped>\n",
       "    .dataframe tbody tr th:only-of-type {\n",
       "        vertical-align: middle;\n",
       "    }\n",
       "\n",
       "    .dataframe tbody tr th {\n",
       "        vertical-align: top;\n",
       "    }\n",
       "\n",
       "    .dataframe thead th {\n",
       "        text-align: right;\n",
       "    }\n",
       "</style>\n",
       "<table border=\"1\" class=\"dataframe\">\n",
       "  <thead>\n",
       "    <tr style=\"text-align: right;\">\n",
       "      <th></th>\n",
       "      <th>PatientId</th>\n",
       "      <th>FRDPersonnelID</th>\n",
       "      <th>IDs</th>\n",
       "    </tr>\n",
       "  </thead>\n",
       "  <tbody>\n",
       "    <tr>\n",
       "      <th>0</th>\n",
       "      <td>480158</td>\n",
       "      <td>05CD4840-EB36-4EC3-9292-74904CFBD0C4</td>\n",
       "      <td>480158|05CD4840-EB36-4EC3-9292-74904CFBD0C4</td>\n",
       "    </tr>\n",
       "    <tr>\n",
       "      <th>1</th>\n",
       "      <td>480158</td>\n",
       "      <td>05CD4840-EB36-4EC3-9292-74904CFBD0C4</td>\n",
       "      <td>480158|05CD4840-EB36-4EC3-9292-74904CFBD0C4</td>\n",
       "    </tr>\n",
       "    <tr>\n",
       "      <th>2</th>\n",
       "      <td>480158</td>\n",
       "      <td>05CD4840-EB36-4EC3-9292-74904CFBD0C4</td>\n",
       "      <td>480158|05CD4840-EB36-4EC3-9292-74904CFBD0C4</td>\n",
       "    </tr>\n",
       "    <tr>\n",
       "      <th>3</th>\n",
       "      <td>480158</td>\n",
       "      <td>05CD4840-EB36-4EC3-9292-74904CFBD0C4</td>\n",
       "      <td>480158|05CD4840-EB36-4EC3-9292-74904CFBD0C4</td>\n",
       "    </tr>\n",
       "    <tr>\n",
       "      <th>4</th>\n",
       "      <td>480399</td>\n",
       "      <td>41D6C99E-9E01-E211-B5F5-78E7D18CFD3C</td>\n",
       "      <td>480399|41D6C99E-9E01-E211-B5F5-78E7D18CFD3C</td>\n",
       "    </tr>\n",
       "  </tbody>\n",
       "</table>\n",
       "</div>"
      ],
      "text/plain": [
       "   PatientId                        FRDPersonnelID  \\\n",
       "0     480158  05CD4840-EB36-4EC3-9292-74904CFBD0C4   \n",
       "1     480158  05CD4840-EB36-4EC3-9292-74904CFBD0C4   \n",
       "2     480158  05CD4840-EB36-4EC3-9292-74904CFBD0C4   \n",
       "3     480158  05CD4840-EB36-4EC3-9292-74904CFBD0C4   \n",
       "4     480399  41D6C99E-9E01-E211-B5F5-78E7D18CFD3C   \n",
       "\n",
       "                                           IDs  \n",
       "0  480158|05CD4840-EB36-4EC3-9292-74904CFBD0C4  \n",
       "1  480158|05CD4840-EB36-4EC3-9292-74904CFBD0C4  \n",
       "2  480158|05CD4840-EB36-4EC3-9292-74904CFBD0C4  \n",
       "3  480158|05CD4840-EB36-4EC3-9292-74904CFBD0C4  \n",
       "4  480399|41D6C99E-9E01-E211-B5F5-78E7D18CFD3C  "
      ]
     },
     "execution_count": 12,
     "metadata": {},
     "output_type": "execute_result"
    }
   ],
   "source": [
    "df_med.head(5)"
   ]
  },
  {
   "cell_type": "code",
   "execution_count": 13,
   "metadata": {},
   "outputs": [
    {
     "data": {
      "text/html": [
       "<div>\n",
       "<style scoped>\n",
       "    .dataframe tbody tr th:only-of-type {\n",
       "        vertical-align: middle;\n",
       "    }\n",
       "\n",
       "    .dataframe tbody tr th {\n",
       "        vertical-align: top;\n",
       "    }\n",
       "\n",
       "    .dataframe thead th {\n",
       "        text-align: right;\n",
       "    }\n",
       "</style>\n",
       "<table border=\"1\" class=\"dataframe\">\n",
       "  <thead>\n",
       "    <tr style=\"text-align: right;\">\n",
       "      <th></th>\n",
       "      <th>PatientId</th>\n",
       "      <th>FRDPersonnelID</th>\n",
       "      <th>IDs</th>\n",
       "    </tr>\n",
       "  </thead>\n",
       "  <tbody>\n",
       "    <tr>\n",
       "      <th>68</th>\n",
       "      <td>479920</td>\n",
       "      <td>C387923A-F613-E411-A585-F305C4522FCB</td>\n",
       "      <td>479920|C387923A-F613-E411-A585-F305C4522FCB</td>\n",
       "    </tr>\n",
       "  </tbody>\n",
       "</table>\n",
       "</div>"
      ],
      "text/plain": [
       "    PatientId                        FRDPersonnelID  \\\n",
       "68     479920  C387923A-F613-E411-A585-F305C4522FCB   \n",
       "\n",
       "                                            IDs  \n",
       "68  479920|C387923A-F613-E411-A585-F305C4522FCB  "
      ]
     },
     "execution_count": 13,
     "metadata": {},
     "output_type": "execute_result"
    }
   ],
   "source": [
    "# run this for a single specific row\n",
    "df_med.loc[df_med['PatientId'] == 479920]"
   ]
  },
  {
   "cell_type": "markdown",
   "metadata": {},
   "source": [
    "For the next part, set indexes to use for both the Medications and Patients datasets (IDs and _IDs). Then perform a left outer join from the Medications side against Patients where Patients rows are NULL. This done differently than SQL in that it uses the Pandas merge() function then uses Dataset_x and _y, it sets an indicator “i”, and finally displays rows where a “left_only” indicator is seen."
   ]
  },
  {
   "cell_type": "code",
   "execution_count": 14,
   "metadata": {},
   "outputs": [],
   "source": [
    "medIDi = df_med.set_index('IDs')\n",
    "patIDi = df_pat.set_index('_IDs')\n",
    "\n",
    "df_left_outer_med = df_med.merge(patIDi, \n",
    "                             how = 'left', \n",
    "                             left_on = 'IDs', \n",
    "                             right_on = '_IDs', \n",
    "                             indicator = 'i').query('i == \"left_only\"')\n",
    "\n",
    "# To view detailed detailed results, include the following statement to output csv to home dir.\n",
    "# df_left_outer_med.to_csv('dfLeftOuter-Med.csv', index = True)"
   ]
  },
  {
   "cell_type": "code",
   "execution_count": 15,
   "metadata": {},
   "outputs": [
    {
     "data": {
      "text/html": [
       "<div>\n",
       "<style scoped>\n",
       "    .dataframe tbody tr th:only-of-type {\n",
       "        vertical-align: middle;\n",
       "    }\n",
       "\n",
       "    .dataframe tbody tr th {\n",
       "        vertical-align: top;\n",
       "    }\n",
       "\n",
       "    .dataframe thead th {\n",
       "        text-align: right;\n",
       "    }\n",
       "</style>\n",
       "<table border=\"1\" class=\"dataframe\">\n",
       "  <thead>\n",
       "    <tr style=\"text-align: right;\">\n",
       "      <th></th>\n",
       "      <th>PatientId_x</th>\n",
       "      <th>FRDPersonnelID_x</th>\n",
       "      <th>IDs</th>\n",
       "      <th>PatientId_y</th>\n",
       "      <th>FRDPersonnelID_y</th>\n",
       "      <th>i</th>\n",
       "    </tr>\n",
       "  </thead>\n",
       "  <tbody>\n",
       "    <tr>\n",
       "      <th>68</th>\n",
       "      <td>479920</td>\n",
       "      <td>C387923A-F613-E411-A585-F305C4522FCB</td>\n",
       "      <td>479920|C387923A-F613-E411-A585-F305C4522FCB</td>\n",
       "      <td>NaN</td>\n",
       "      <td>NaN</td>\n",
       "      <td>left_only</td>\n",
       "    </tr>\n",
       "    <tr>\n",
       "      <th>72</th>\n",
       "      <td>480751</td>\n",
       "      <td>38D8C99E-9E01-E211-B5F5-78E7D18CFD3C</td>\n",
       "      <td>480751|38D8C99E-9E01-E211-B5F5-78E7D18CFD3C</td>\n",
       "      <td>NaN</td>\n",
       "      <td>NaN</td>\n",
       "      <td>left_only</td>\n",
       "    </tr>\n",
       "    <tr>\n",
       "      <th>129</th>\n",
       "      <td>493185</td>\n",
       "      <td>38D5C99E-9E01-E211-B5F5-78E7D18CFD3C</td>\n",
       "      <td>493185|38D5C99E-9E01-E211-B5F5-78E7D18CFD3C</td>\n",
       "      <td>NaN</td>\n",
       "      <td>NaN</td>\n",
       "      <td>left_only</td>\n",
       "    </tr>\n",
       "    <tr>\n",
       "      <th>150</th>\n",
       "      <td>482778</td>\n",
       "      <td>BFFA1ECF-CE19-E511-80CA-001DD8B71D38</td>\n",
       "      <td>482778|BFFA1ECF-CE19-E511-80CA-001DD8B71D38</td>\n",
       "      <td>NaN</td>\n",
       "      <td>NaN</td>\n",
       "      <td>left_only</td>\n",
       "    </tr>\n",
       "    <tr>\n",
       "      <th>179</th>\n",
       "      <td>488832</td>\n",
       "      <td>5ADFD4DD-39A0-47CF-AE61-A9F6AABF342F</td>\n",
       "      <td>488832|5ADFD4DD-39A0-47CF-AE61-A9F6AABF342F</td>\n",
       "      <td>NaN</td>\n",
       "      <td>NaN</td>\n",
       "      <td>left_only</td>\n",
       "    </tr>\n",
       "  </tbody>\n",
       "</table>\n",
       "</div>"
      ],
      "text/plain": [
       "     PatientId_x                      FRDPersonnelID_x  \\\n",
       "68        479920  C387923A-F613-E411-A585-F305C4522FCB   \n",
       "72        480751  38D8C99E-9E01-E211-B5F5-78E7D18CFD3C   \n",
       "129       493185  38D5C99E-9E01-E211-B5F5-78E7D18CFD3C   \n",
       "150       482778  BFFA1ECF-CE19-E511-80CA-001DD8B71D38   \n",
       "179       488832  5ADFD4DD-39A0-47CF-AE61-A9F6AABF342F   \n",
       "\n",
       "                                             IDs  PatientId_y  \\\n",
       "68   479920|C387923A-F613-E411-A585-F305C4522FCB          NaN   \n",
       "72   480751|38D8C99E-9E01-E211-B5F5-78E7D18CFD3C          NaN   \n",
       "129  493185|38D5C99E-9E01-E211-B5F5-78E7D18CFD3C          NaN   \n",
       "150  482778|BFFA1ECF-CE19-E511-80CA-001DD8B71D38          NaN   \n",
       "179  488832|5ADFD4DD-39A0-47CF-AE61-A9F6AABF342F          NaN   \n",
       "\n",
       "    FRDPersonnelID_y          i  \n",
       "68               NaN  left_only  \n",
       "72               NaN  left_only  \n",
       "129              NaN  left_only  \n",
       "150              NaN  left_only  \n",
       "179              NaN  left_only  "
      ]
     },
     "execution_count": 15,
     "metadata": {},
     "output_type": "execute_result"
    }
   ],
   "source": [
    "df_left_outer_med.head(5)"
   ]
  },
  {
   "cell_type": "code",
   "execution_count": 16,
   "metadata": {},
   "outputs": [
    {
     "data": {
      "text/html": [
       "<div>\n",
       "<style scoped>\n",
       "    .dataframe tbody tr th:only-of-type {\n",
       "        vertical-align: middle;\n",
       "    }\n",
       "\n",
       "    .dataframe tbody tr th {\n",
       "        vertical-align: top;\n",
       "    }\n",
       "\n",
       "    .dataframe thead th {\n",
       "        text-align: right;\n",
       "    }\n",
       "</style>\n",
       "<table border=\"1\" class=\"dataframe\">\n",
       "  <thead>\n",
       "    <tr style=\"text-align: right;\">\n",
       "      <th></th>\n",
       "      <th>PatientId_x</th>\n",
       "      <th>FRDPersonnelID_x</th>\n",
       "      <th>IDs</th>\n",
       "      <th>PatientId_y</th>\n",
       "      <th>FRDPersonnelID_y</th>\n",
       "      <th>i</th>\n",
       "    </tr>\n",
       "  </thead>\n",
       "  <tbody>\n",
       "    <tr>\n",
       "      <th>68</th>\n",
       "      <td>479920</td>\n",
       "      <td>C387923A-F613-E411-A585-F305C4522FCB</td>\n",
       "      <td>479920|C387923A-F613-E411-A585-F305C4522FCB</td>\n",
       "      <td>NaN</td>\n",
       "      <td>NaN</td>\n",
       "      <td>left_only</td>\n",
       "    </tr>\n",
       "  </tbody>\n",
       "</table>\n",
       "</div>"
      ],
      "text/plain": [
       "    PatientId_x                      FRDPersonnelID_x  \\\n",
       "68       479920  C387923A-F613-E411-A585-F305C4522FCB   \n",
       "\n",
       "                                            IDs  PatientId_y FRDPersonnelID_y  \\\n",
       "68  479920|C387923A-F613-E411-A585-F305C4522FCB          NaN              NaN   \n",
       "\n",
       "            i  \n",
       "68  left_only  "
      ]
     },
     "execution_count": 16,
     "metadata": {},
     "output_type": "execute_result"
    }
   ],
   "source": [
    "# run this for a single specific row\n",
    "df_left_outer_med.loc[df_left_outer_med['PatientId_x'] == 479920]"
   ]
  },
  {
   "cell_type": "code",
   "execution_count": 17,
   "metadata": {},
   "outputs": [
    {
     "data": {
      "text/plain": [
       "(4219, 6)"
      ]
     },
     "execution_count": 17,
     "metadata": {},
     "output_type": "execute_result"
    }
   ],
   "source": [
    "# get accurate row count for Venn Diagram later\n",
    "varMedLeftCount = len(df_left_outer_med.index)\n",
    "varMedDiffCount = varMedCount - varMedLeftCount\n",
    "varPatDiffCount = varPatCount - varMedDiffCount\n",
    "# Will show row count of Medications rows not in Patients\n",
    "df_left_outer_med.shape"
   ]
  },
  {
   "cell_type": "code",
   "execution_count": 18,
   "metadata": {},
   "outputs": [],
   "source": [
    "# Deduplicate IDs to get a unique count of IDs in Medications that are not in Patients.\n",
    "df_med_dedupe = df_left_outer_med.drop_duplicates(subset=['IDs'])"
   ]
  },
  {
   "cell_type": "code",
   "execution_count": 19,
   "metadata": {},
   "outputs": [
    {
     "data": {
      "text/plain": [
       "(2932, 6)"
      ]
     },
     "execution_count": 19,
     "metadata": {},
     "output_type": "execute_result"
    }
   ],
   "source": [
    "# For curiosity, this will show row count of deduplicated rows in Medications that are not in Patients.\n",
    "df_med_dedupe.shape"
   ]
  },
  {
   "cell_type": "code",
   "execution_count": 20,
   "metadata": {},
   "outputs": [
    {
     "data": {
      "image/png": "[encoded data removed]",
      "text/plain": [
       "<Figure size 432x288 with 1 Axes>"
      ]
     },
     "metadata": {},
     "output_type": "display_data"
    }
   ],
   "source": [
    "#venn2(subsets = (varMedLeftCount, varMedDiffCount, varPatCount),\n",
    "venn2(subsets = (varMedLeftCount, varPatDiffCount, varMedDiffCount),\n",
    "      set_labels = ('Medications', 'Patients'), \n",
    "      set_colors = ('gold', 'green'), #('r', 'g'), \n",
    "      alpha = 0.8);\n",
    "\n",
    "#venn2_circles(subsets = (varMedLeftCount, varPatDiffCount, varMedDiffCount), \n",
    "#              #linestyle='dashed', \n",
    "#              linewidth=1, \n",
    "#              color='k');\n",
    "\n",
    "plt.title('Count of Medications dataset rows not in Patients dataset\\n');"
   ]
  },
  {
   "cell_type": "markdown",
   "metadata": {},
   "source": [
    "Read in Procedures dataset into dataframe transforming and Not a Number (NaN) values into text \"NA\", and only importing the PatientId and FRDPersonnelID columns."
   ]
  },
  {
   "cell_type": "code",
   "execution_count": 21,
   "metadata": {},
   "outputs": [],
   "source": [
    "df_proc = pd.read_excel(r'DAEN690-2wDates.xlsx', \n",
    "                        sheet_name='Procedures', \n",
    "                        na_values=['NA'], \n",
    "                        usecols = 'A,D')"
   ]
  },
  {
   "cell_type": "code",
   "execution_count": 22,
   "metadata": {},
   "outputs": [
    {
     "data": {
      "text/html": [
       "<div>\n",
       "<style scoped>\n",
       "    .dataframe tbody tr th:only-of-type {\n",
       "        vertical-align: middle;\n",
       "    }\n",
       "\n",
       "    .dataframe tbody tr th {\n",
       "        vertical-align: top;\n",
       "    }\n",
       "\n",
       "    .dataframe thead th {\n",
       "        text-align: right;\n",
       "    }\n",
       "</style>\n",
       "<table border=\"1\" class=\"dataframe\">\n",
       "  <thead>\n",
       "    <tr style=\"text-align: right;\">\n",
       "      <th></th>\n",
       "      <th>PatientId</th>\n",
       "      <th>FRDPersonnelID</th>\n",
       "    </tr>\n",
       "  </thead>\n",
       "  <tbody>\n",
       "    <tr>\n",
       "      <th>0</th>\n",
       "      <td>481435</td>\n",
       "      <td>44D6C99E-9E01-E211-B5F5-78E7D18CFD3C</td>\n",
       "    </tr>\n",
       "    <tr>\n",
       "      <th>1</th>\n",
       "      <td>481435</td>\n",
       "      <td>44D6C99E-9E01-E211-B5F5-78E7D18CFD3C</td>\n",
       "    </tr>\n",
       "    <tr>\n",
       "      <th>2</th>\n",
       "      <td>481435</td>\n",
       "      <td>44D6C99E-9E01-E211-B5F5-78E7D18CFD3C</td>\n",
       "    </tr>\n",
       "    <tr>\n",
       "      <th>3</th>\n",
       "      <td>481491</td>\n",
       "      <td>882609CE-C6DB-49DA-92A5-5519ECD5BFF4</td>\n",
       "    </tr>\n",
       "    <tr>\n",
       "      <th>4</th>\n",
       "      <td>481501</td>\n",
       "      <td>78C0656B-4FD3-4AFD-8907-05258241F20A</td>\n",
       "    </tr>\n",
       "  </tbody>\n",
       "</table>\n",
       "</div>"
      ],
      "text/plain": [
       "   PatientId                        FRDPersonnelID\n",
       "0     481435  44D6C99E-9E01-E211-B5F5-78E7D18CFD3C\n",
       "1     481435  44D6C99E-9E01-E211-B5F5-78E7D18CFD3C\n",
       "2     481435  44D6C99E-9E01-E211-B5F5-78E7D18CFD3C\n",
       "3     481491  882609CE-C6DB-49DA-92A5-5519ECD5BFF4\n",
       "4     481501  78C0656B-4FD3-4AFD-8907-05258241F20A"
      ]
     },
     "execution_count": 22,
     "metadata": {},
     "output_type": "execute_result"
    }
   ],
   "source": [
    "df_proc.head(5)"
   ]
  },
  {
   "cell_type": "code",
   "execution_count": 23,
   "metadata": {},
   "outputs": [
    {
     "data": {
      "text/plain": [
       "(171515, 2)"
      ]
     },
     "execution_count": 23,
     "metadata": {},
     "output_type": "execute_result"
    }
   ],
   "source": [
    "# get accurate row count for Venn Diagram later\n",
    "varProcCount = len(df_proc.index)\n",
    "# Display dataframe shape\n",
    "df_proc.shape"
   ]
  },
  {
   "cell_type": "markdown",
   "metadata": {},
   "source": [
    "Create a concatenated column based on the key values of PatientId and FRDPersonnelID for the Procedures dataset. The new column is named \"IDs\" in this case and will be used in the left outer joins."
   ]
  },
  {
   "cell_type": "code",
   "execution_count": 24,
   "metadata": {},
   "outputs": [],
   "source": [
    "df_proc['IDs'] = df_proc['PatientId'].map(str) + '|' + df_proc['FRDPersonnelID']"
   ]
  },
  {
   "cell_type": "code",
   "execution_count": 25,
   "metadata": {},
   "outputs": [
    {
     "data": {
      "text/html": [
       "<div>\n",
       "<style scoped>\n",
       "    .dataframe tbody tr th:only-of-type {\n",
       "        vertical-align: middle;\n",
       "    }\n",
       "\n",
       "    .dataframe tbody tr th {\n",
       "        vertical-align: top;\n",
       "    }\n",
       "\n",
       "    .dataframe thead th {\n",
       "        text-align: right;\n",
       "    }\n",
       "</style>\n",
       "<table border=\"1\" class=\"dataframe\">\n",
       "  <thead>\n",
       "    <tr style=\"text-align: right;\">\n",
       "      <th></th>\n",
       "      <th>PatientId</th>\n",
       "      <th>FRDPersonnelID</th>\n",
       "      <th>IDs</th>\n",
       "    </tr>\n",
       "  </thead>\n",
       "  <tbody>\n",
       "    <tr>\n",
       "      <th>0</th>\n",
       "      <td>481435</td>\n",
       "      <td>44D6C99E-9E01-E211-B5F5-78E7D18CFD3C</td>\n",
       "      <td>481435|44D6C99E-9E01-E211-B5F5-78E7D18CFD3C</td>\n",
       "    </tr>\n",
       "    <tr>\n",
       "      <th>1</th>\n",
       "      <td>481435</td>\n",
       "      <td>44D6C99E-9E01-E211-B5F5-78E7D18CFD3C</td>\n",
       "      <td>481435|44D6C99E-9E01-E211-B5F5-78E7D18CFD3C</td>\n",
       "    </tr>\n",
       "    <tr>\n",
       "      <th>2</th>\n",
       "      <td>481435</td>\n",
       "      <td>44D6C99E-9E01-E211-B5F5-78E7D18CFD3C</td>\n",
       "      <td>481435|44D6C99E-9E01-E211-B5F5-78E7D18CFD3C</td>\n",
       "    </tr>\n",
       "    <tr>\n",
       "      <th>3</th>\n",
       "      <td>481491</td>\n",
       "      <td>882609CE-C6DB-49DA-92A5-5519ECD5BFF4</td>\n",
       "      <td>481491|882609CE-C6DB-49DA-92A5-5519ECD5BFF4</td>\n",
       "    </tr>\n",
       "    <tr>\n",
       "      <th>4</th>\n",
       "      <td>481501</td>\n",
       "      <td>78C0656B-4FD3-4AFD-8907-05258241F20A</td>\n",
       "      <td>481501|78C0656B-4FD3-4AFD-8907-05258241F20A</td>\n",
       "    </tr>\n",
       "  </tbody>\n",
       "</table>\n",
       "</div>"
      ],
      "text/plain": [
       "   PatientId                        FRDPersonnelID  \\\n",
       "0     481435  44D6C99E-9E01-E211-B5F5-78E7D18CFD3C   \n",
       "1     481435  44D6C99E-9E01-E211-B5F5-78E7D18CFD3C   \n",
       "2     481435  44D6C99E-9E01-E211-B5F5-78E7D18CFD3C   \n",
       "3     481491  882609CE-C6DB-49DA-92A5-5519ECD5BFF4   \n",
       "4     481501  78C0656B-4FD3-4AFD-8907-05258241F20A   \n",
       "\n",
       "                                           IDs  \n",
       "0  481435|44D6C99E-9E01-E211-B5F5-78E7D18CFD3C  \n",
       "1  481435|44D6C99E-9E01-E211-B5F5-78E7D18CFD3C  \n",
       "2  481435|44D6C99E-9E01-E211-B5F5-78E7D18CFD3C  \n",
       "3  481491|882609CE-C6DB-49DA-92A5-5519ECD5BFF4  \n",
       "4  481501|78C0656B-4FD3-4AFD-8907-05258241F20A  "
      ]
     },
     "execution_count": 25,
     "metadata": {},
     "output_type": "execute_result"
    }
   ],
   "source": [
    "df_proc.head(5)"
   ]
  },
  {
   "cell_type": "code",
   "execution_count": 26,
   "metadata": {},
   "outputs": [
    {
     "data": {
      "text/html": [
       "<div>\n",
       "<style scoped>\n",
       "    .dataframe tbody tr th:only-of-type {\n",
       "        vertical-align: middle;\n",
       "    }\n",
       "\n",
       "    .dataframe tbody tr th {\n",
       "        vertical-align: top;\n",
       "    }\n",
       "\n",
       "    .dataframe thead th {\n",
       "        text-align: right;\n",
       "    }\n",
       "</style>\n",
       "<table border=\"1\" class=\"dataframe\">\n",
       "  <thead>\n",
       "    <tr style=\"text-align: right;\">\n",
       "      <th></th>\n",
       "      <th>PatientId</th>\n",
       "      <th>FRDPersonnelID</th>\n",
       "      <th>IDs</th>\n",
       "    </tr>\n",
       "  </thead>\n",
       "  <tbody>\n",
       "    <tr>\n",
       "      <th>954</th>\n",
       "      <td>479920</td>\n",
       "      <td>C387923A-F613-E411-A585-F305C4522FCB</td>\n",
       "      <td>479920|C387923A-F613-E411-A585-F305C4522FCB</td>\n",
       "    </tr>\n",
       "  </tbody>\n",
       "</table>\n",
       "</div>"
      ],
      "text/plain": [
       "     PatientId                        FRDPersonnelID  \\\n",
       "954     479920  C387923A-F613-E411-A585-F305C4522FCB   \n",
       "\n",
       "                                             IDs  \n",
       "954  479920|C387923A-F613-E411-A585-F305C4522FCB  "
      ]
     },
     "execution_count": 26,
     "metadata": {},
     "output_type": "execute_result"
    }
   ],
   "source": [
    "# run this for a single specific row\n",
    "df_proc.loc[df_proc['PatientId'] == 479920]"
   ]
  },
  {
   "cell_type": "markdown",
   "metadata": {},
   "source": [
    "Set indexes to use for both the Procedures and Patients datasets (IDs and _IDs). Then perform a left outer join from the Procedures side against Patients where Patients rows are NULL. This done differently than SQL in that it uses the Pandas merge() function then uses Dataset_x and _y, it sets an indicator “i”, and finally displays rows where a “left_only” indicator is seen. It’s not necessary to reassign patIDi because this was done in earlier code. "
   ]
  },
  {
   "cell_type": "code",
   "execution_count": 27,
   "metadata": {},
   "outputs": [],
   "source": [
    "procIDi = df_proc.set_index('IDs')\n",
    "\n",
    "df_left_outer_proc = df_proc.merge(patIDi, \n",
    "                             how = 'left', \n",
    "                             left_on = 'IDs', \n",
    "                             right_on = '_IDs', \n",
    "                             indicator = 'i').query('i == \"left_only\"')\n",
    "\n",
    "# To view detailed detailed results, include the following statement to output csv to home dir.\n",
    "#df_left_outer_proc.to_csv('dfLeftOuter-Proc.csv', index = True)"
   ]
  },
  {
   "cell_type": "code",
   "execution_count": 28,
   "metadata": {},
   "outputs": [
    {
     "data": {
      "text/html": [
       "<div>\n",
       "<style scoped>\n",
       "    .dataframe tbody tr th:only-of-type {\n",
       "        vertical-align: middle;\n",
       "    }\n",
       "\n",
       "    .dataframe tbody tr th {\n",
       "        vertical-align: top;\n",
       "    }\n",
       "\n",
       "    .dataframe thead th {\n",
       "        text-align: right;\n",
       "    }\n",
       "</style>\n",
       "<table border=\"1\" class=\"dataframe\">\n",
       "  <thead>\n",
       "    <tr style=\"text-align: right;\">\n",
       "      <th></th>\n",
       "      <th>PatientId_x</th>\n",
       "      <th>FRDPersonnelID_x</th>\n",
       "      <th>IDs</th>\n",
       "      <th>PatientId_y</th>\n",
       "      <th>FRDPersonnelID_y</th>\n",
       "      <th>i</th>\n",
       "    </tr>\n",
       "  </thead>\n",
       "  <tbody>\n",
       "    <tr>\n",
       "      <th>4</th>\n",
       "      <td>481501</td>\n",
       "      <td>78C0656B-4FD3-4AFD-8907-05258241F20A</td>\n",
       "      <td>481501|78C0656B-4FD3-4AFD-8907-05258241F20A</td>\n",
       "      <td>NaN</td>\n",
       "      <td>NaN</td>\n",
       "      <td>left_only</td>\n",
       "    </tr>\n",
       "    <tr>\n",
       "      <th>6</th>\n",
       "      <td>481501</td>\n",
       "      <td>78C0656B-4FD3-4AFD-8907-05258241F20A</td>\n",
       "      <td>481501|78C0656B-4FD3-4AFD-8907-05258241F20A</td>\n",
       "      <td>NaN</td>\n",
       "      <td>NaN</td>\n",
       "      <td>left_only</td>\n",
       "    </tr>\n",
       "    <tr>\n",
       "      <th>12</th>\n",
       "      <td>481771</td>\n",
       "      <td>2DD5C99E-9E01-E211-B5F5-78E7D18CFD3C</td>\n",
       "      <td>481771|2DD5C99E-9E01-E211-B5F5-78E7D18CFD3C</td>\n",
       "      <td>NaN</td>\n",
       "      <td>NaN</td>\n",
       "      <td>left_only</td>\n",
       "    </tr>\n",
       "    <tr>\n",
       "      <th>34</th>\n",
       "      <td>480980</td>\n",
       "      <td>55D2C99E-9E01-E211-B5F5-78E7D18CFD3C</td>\n",
       "      <td>480980|55D2C99E-9E01-E211-B5F5-78E7D18CFD3C</td>\n",
       "      <td>NaN</td>\n",
       "      <td>NaN</td>\n",
       "      <td>left_only</td>\n",
       "    </tr>\n",
       "    <tr>\n",
       "      <th>46</th>\n",
       "      <td>485829</td>\n",
       "      <td>44D6C99E-9E01-E211-B5F5-78E7D18CFD3C</td>\n",
       "      <td>485829|44D6C99E-9E01-E211-B5F5-78E7D18CFD3C</td>\n",
       "      <td>NaN</td>\n",
       "      <td>NaN</td>\n",
       "      <td>left_only</td>\n",
       "    </tr>\n",
       "  </tbody>\n",
       "</table>\n",
       "</div>"
      ],
      "text/plain": [
       "    PatientId_x                      FRDPersonnelID_x  \\\n",
       "4        481501  78C0656B-4FD3-4AFD-8907-05258241F20A   \n",
       "6        481501  78C0656B-4FD3-4AFD-8907-05258241F20A   \n",
       "12       481771  2DD5C99E-9E01-E211-B5F5-78E7D18CFD3C   \n",
       "34       480980  55D2C99E-9E01-E211-B5F5-78E7D18CFD3C   \n",
       "46       485829  44D6C99E-9E01-E211-B5F5-78E7D18CFD3C   \n",
       "\n",
       "                                            IDs  PatientId_y FRDPersonnelID_y  \\\n",
       "4   481501|78C0656B-4FD3-4AFD-8907-05258241F20A          NaN              NaN   \n",
       "6   481501|78C0656B-4FD3-4AFD-8907-05258241F20A          NaN              NaN   \n",
       "12  481771|2DD5C99E-9E01-E211-B5F5-78E7D18CFD3C          NaN              NaN   \n",
       "34  480980|55D2C99E-9E01-E211-B5F5-78E7D18CFD3C          NaN              NaN   \n",
       "46  485829|44D6C99E-9E01-E211-B5F5-78E7D18CFD3C          NaN              NaN   \n",
       "\n",
       "            i  \n",
       "4   left_only  \n",
       "6   left_only  \n",
       "12  left_only  \n",
       "34  left_only  \n",
       "46  left_only  "
      ]
     },
     "execution_count": 28,
     "metadata": {},
     "output_type": "execute_result"
    }
   ],
   "source": [
    "df_left_outer_proc.head(5)"
   ]
  },
  {
   "cell_type": "code",
   "execution_count": 29,
   "metadata": {},
   "outputs": [
    {
     "data": {
      "text/html": [
       "<div>\n",
       "<style scoped>\n",
       "    .dataframe tbody tr th:only-of-type {\n",
       "        vertical-align: middle;\n",
       "    }\n",
       "\n",
       "    .dataframe tbody tr th {\n",
       "        vertical-align: top;\n",
       "    }\n",
       "\n",
       "    .dataframe thead th {\n",
       "        text-align: right;\n",
       "    }\n",
       "</style>\n",
       "<table border=\"1\" class=\"dataframe\">\n",
       "  <thead>\n",
       "    <tr style=\"text-align: right;\">\n",
       "      <th></th>\n",
       "      <th>PatientId_x</th>\n",
       "      <th>FRDPersonnelID_x</th>\n",
       "      <th>IDs</th>\n",
       "      <th>PatientId_y</th>\n",
       "      <th>FRDPersonnelID_y</th>\n",
       "      <th>i</th>\n",
       "    </tr>\n",
       "  </thead>\n",
       "  <tbody>\n",
       "    <tr>\n",
       "      <th>954</th>\n",
       "      <td>479920</td>\n",
       "      <td>C387923A-F613-E411-A585-F305C4522FCB</td>\n",
       "      <td>479920|C387923A-F613-E411-A585-F305C4522FCB</td>\n",
       "      <td>NaN</td>\n",
       "      <td>NaN</td>\n",
       "      <td>left_only</td>\n",
       "    </tr>\n",
       "  </tbody>\n",
       "</table>\n",
       "</div>"
      ],
      "text/plain": [
       "     PatientId_x                      FRDPersonnelID_x  \\\n",
       "954       479920  C387923A-F613-E411-A585-F305C4522FCB   \n",
       "\n",
       "                                             IDs  PatientId_y  \\\n",
       "954  479920|C387923A-F613-E411-A585-F305C4522FCB          NaN   \n",
       "\n",
       "    FRDPersonnelID_y          i  \n",
       "954              NaN  left_only  "
      ]
     },
     "execution_count": 29,
     "metadata": {},
     "output_type": "execute_result"
    }
   ],
   "source": [
    "# run this for a single specific row\n",
    "df_left_outer_proc.loc[df_left_outer_proc['PatientId_x'] == 479920]"
   ]
  },
  {
   "cell_type": "code",
   "execution_count": 30,
   "metadata": {},
   "outputs": [
    {
     "data": {
      "text/plain": [
       "(22956, 6)"
      ]
     },
     "execution_count": 30,
     "metadata": {},
     "output_type": "execute_result"
    }
   ],
   "source": [
    "# get accurate row count for Venn Diagram later\n",
    "varProcLeftCount = len(df_left_outer_proc.index)\n",
    "varProcDiffCount = varProcCount - varProcLeftCount\n",
    "varPatDiffCount = varPatCount - varProcDiffCount\n",
    "# Will show row count of Procedures rows not in Patients\n",
    "df_left_outer_proc.shape"
   ]
  },
  {
   "cell_type": "code",
   "execution_count": 31,
   "metadata": {},
   "outputs": [],
   "source": [
    "# Deduplicate IDs to get a unique count of IDs in Procedures that are not in Patients.\n",
    "df_proc_dedupe = df_left_outer_proc.drop_duplicates(subset=['IDs'])"
   ]
  },
  {
   "cell_type": "code",
   "execution_count": 32,
   "metadata": {},
   "outputs": [
    {
     "data": {
      "text/plain": [
       "(19989, 6)"
      ]
     },
     "execution_count": 32,
     "metadata": {},
     "output_type": "execute_result"
    }
   ],
   "source": [
    "# For curiosity, this will show row count of deduplicated rows in Procedures that are not in Patients.\n",
    "df_proc_dedupe.shape"
   ]
  },
  {
   "cell_type": "code",
   "execution_count": 33,
   "metadata": {},
   "outputs": [
    {
     "data": {
      "image/png": "[encoded data removed]",
      "text/plain": [
       "<Figure size 432x288 with 1 Axes>"
      ]
     },
     "metadata": {},
     "output_type": "display_data"
    }
   ],
   "source": [
    "#venn2(subsets = (varMedLeftCount, varMedDiffCount, varPatCount),\n",
    "venn2(subsets = (varProcLeftCount, varPatDiffCount, varProcDiffCount),\n",
    "      set_labels = ('Procedures', 'Patients'), \n",
    "      set_colors = ('gold', 'green'), \n",
    "      alpha = 0.8);\n",
    "\n",
    "venn2_circles(subsets = (varProcLeftCount, varPatDiffCount, varProcDiffCount), \n",
    "              #linestyle='dashed', \n",
    "              linewidth=1, \n",
    "              color='k');\n",
    "\n",
    "plt.title('Count of Procedures dataset rows not in Patients dataset\\n');"
   ]
  }
 ],
 "metadata": {
  "kernelspec": {
   "display_name": "Python 3",
   "language": "python",
   "name": "python3"
  },
  "language_info": {
   "codemirror_mode": {
    "name": "ipython",
    "version": 3
   },
   "file_extension": ".py",
   "mimetype": "text/x-python",
   "name": "python",
   "nbconvert_exporter": "python",
   "pygments_lexer": "ipython3",
   "version": "3.7.9"
  }
 },
 "nbformat": 4,
 "nbformat_minor": 4
}
