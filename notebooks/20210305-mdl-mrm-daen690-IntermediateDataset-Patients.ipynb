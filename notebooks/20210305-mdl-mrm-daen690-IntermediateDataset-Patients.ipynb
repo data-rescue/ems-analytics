{
 "cells": [
  {
   "cell_type": "markdown",
   "metadata": {},
   "source": [
    "# Merge and Prepare Intermediate Datasets -- Patients\n",
    "\n",
    "This notebook is the data engineering for the creation of the intermediate dataset for the \"Patients\" dataset. The script: \n",
    "* reads in the raw data provided by our project partner, \n",
    "* drops records where `FRDPersonnelStartDate` is NULL, \n",
    "* removes remaining duplicates, \n",
    "* add tenure by month attribute, \n",
    "* converts categorical data into numeric, \n",
    "* adds new numeric columns utilizing the the \"One Hot Encoding\" method, then \n",
    "* outputs dataframe to a CSV file. \n",
    "\n",
    "_Author: Mark Lee_<br>\n",
    "_Edited: Michael McRae_\n"
   ]
  },
  {
   "cell_type": "code",
   "execution_count": 1,
   "metadata": {},
   "outputs": [],
   "source": [
    "# Funtion to identify and print easy to understand variable types \n",
    "def get_var_category(series):\n",
    "    unique_count = series.nunique(dropna=False)\n",
    "    total_count = len(series)\n",
    "    if pd.api.types.is_numeric_dtype(series):\n",
    "        return 'Numerical'\n",
    "    elif pd.api.types.is_datetime64_dtype(series):\n",
    "        return 'Date'\n",
    "    elif unique_count == total_count:\n",
    "        return 'Text (Unique)'\n",
    "    else:\n",
    "        return 'Categorical'\n",
    "\n",
    "def print_categories(df):\n",
    "    for column_name in df.columns:\n",
    "        print(column_name, \": \", get_var_category(df[column_name]))"
   ]
  },
  {
   "cell_type": "code",
   "execution_count": 2,
   "metadata": {},
   "outputs": [
    {
     "data": {
      "text/html": [
       "<style>.container { width:80% !important; }</style>"
      ],
      "text/plain": [
       "<IPython.core.display.HTML object>"
      ]
     },
     "metadata": {},
     "output_type": "display_data"
    }
   ],
   "source": [
    "# Import libraires\n",
    "import numpy as np\n",
    "import pandas as pd\n",
    "\n",
    "# Setup HTML display\n",
    "from IPython.core.display import display, HTML\n",
    "# Notebook cell width adjustment\n",
    "display(HTML('<style>.container { width:80% !important; }</style>'))"
   ]
  },
  {
   "cell_type": "markdown",
   "metadata": {},
   "source": [
    "### Load data and calculate read-in time"
   ]
  },
  {
   "cell_type": "code",
   "execution_count": 3,
   "metadata": {},
   "outputs": [
    {
     "name": "stdout",
     "output_type": "stream",
     "text": [
      "The file was read in 1 minutes and 59 seconds.\n"
     ]
    },
    {
     "data": {
      "text/plain": [
       "(543774, 12)"
      ]
     },
     "execution_count": 3,
     "metadata": {},
     "output_type": "execute_result"
    }
   ],
   "source": [
    "# McRae addition to capture time it takes to read the file.  \n",
    "# Also edited location of datafile to be consistent with GIT file structure (data subdirectories)\n",
    "import os, time\n",
    "print(os.getcwd())\n",
    "readStart=time.time()\n",
    "\n",
    "# Edit the file name to make sure you are pointing to the right file.\n",
    "dfPatients = pd.read_excel(r'../data/01_raw/20210225-ems-raw-v04.xlsx', \n",
    "                        sheet_name='Patients', \n",
    "                        na_values=['NA'])\n",
    "\n",
    "# Stop the clock and calculate read time\n",
    "readStop=time.time()\n",
    "readTime=readStop-readStart\n",
    "readMin=np.floor(readTime/60)\n",
    "readSec=np.floor(readTime-(readMin*60))\n",
    "print(\"The file was read in {0:.0f} minutes and {1:.0f} seconds.\".format(readMin,readSec))\n",
    "\n",
    "dfPatients.shape"
   ]
  },
  {
   "cell_type": "markdown",
   "metadata": {},
   "source": [
    "### Display data types"
   ]
  },
  {
   "cell_type": "code",
   "execution_count": 4,
   "metadata": {},
   "outputs": [
    {
     "name": "stdout",
     "output_type": "stream",
     "text": [
      "PatientId :  Numerical\n",
      "FRDPersonnelID :  Categorical\n",
      "Shift :  Categorical\n",
      "UnitId :  Categorical\n",
      "FireStation :  Numerical\n",
      "Battalion :  Numerical\n",
      "PatientOutcome :  Categorical\n",
      "PatientGender :  Categorical\n",
      "CrewMemberRoles :  Categorical\n",
      "DispatchTime :  Date\n",
      "FRDPersonnelGender :  Categorical\n",
      "FRDPersonnelStartDate :  Date\n"
     ]
    }
   ],
   "source": [
    "print_categories(dfPatients)"
   ]
  },
  {
   "cell_type": "markdown",
   "metadata": {},
   "source": [
    "### Remove rows where Provider Start Date is NULL. This also removes rows where Provider Gender is NULL."
   ]
  },
  {
   "cell_type": "code",
   "execution_count": 5,
   "metadata": {},
   "outputs": [
    {
     "data": {
      "text/plain": [
       "(543300, 12)"
      ]
     },
     "execution_count": 5,
     "metadata": {},
     "output_type": "execute_result"
    }
   ],
   "source": [
    "dfPatients = dfPatients.drop(dfPatients[(dfPatients.FRDPersonnelStartDate.isnull())].index)\n",
    "dfPatients.shape"
   ]
  },
  {
   "cell_type": "markdown",
   "metadata": {},
   "source": [
    "### Remove duplicate rows"
   ]
  },
  {
   "cell_type": "code",
   "execution_count": 6,
   "metadata": {},
   "outputs": [
    {
     "data": {
      "text/plain": [
       "(543298, 12)"
      ]
     },
     "execution_count": 6,
     "metadata": {},
     "output_type": "execute_result"
    }
   ],
   "source": [
    "dfPatients_dedup = pd.DataFrame.drop_duplicates(dfPatients)\n",
    "dfPatients_dedup.shape\n",
    "# diff 543774 - 543760 = 14"
   ]
  },
  {
   "cell_type": "markdown",
   "metadata": {},
   "source": [
    "## Remove Duplicates and Merge CrewMemberRoles\n",
    "### This next step is here to solve the issue with extraneous records based on CrewMemberRoles.  "
   ]
  },
  {
   "cell_type": "code",
   "execution_count": 7,
   "metadata": {},
   "outputs": [
    {
     "name": "stderr",
     "output_type": "stream",
     "text": [
      "C:\\Users\\MDL\\Anaconda3\\lib\\site-packages\\pandas\\core\\indexing.py:1596: SettingWithCopyWarning: \n",
      "A value is trying to be set on a copy of a slice from a DataFrame.\n",
      "Try using .loc[row_indexer,col_indexer] = value instead\n",
      "\n",
      "See the caveats in the documentation: https://pandas.pydata.org/pandas-docs/stable/user_guide/indexing.html#returning-a-view-versus-a-copy\n",
      "  self.obj[key] = _infer_fill_value(value)\n",
      "C:\\Users\\MDL\\Anaconda3\\lib\\site-packages\\pandas\\core\\indexing.py:1745: SettingWithCopyWarning: \n",
      "A value is trying to be set on a copy of a slice from a DataFrame.\n",
      "Try using .loc[row_indexer,col_indexer] = value instead\n",
      "\n",
      "See the caveats in the documentation: https://pandas.pydata.org/pandas-docs/stable/user_guide/indexing.html#returning-a-view-versus-a-copy\n",
      "  isetter(ilocs[0], value)\n"
     ]
    },
    {
     "data": {
      "text/html": [
       "<div>\n",
       "<style scoped>\n",
       "    .dataframe tbody tr th:only-of-type {\n",
       "        vertical-align: middle;\n",
       "    }\n",
       "\n",
       "    .dataframe tbody tr th {\n",
       "        vertical-align: top;\n",
       "    }\n",
       "\n",
       "    .dataframe thead th {\n",
       "        text-align: right;\n",
       "    }\n",
       "</style>\n",
       "<table border=\"1\" class=\"dataframe\">\n",
       "  <thead>\n",
       "    <tr style=\"text-align: right;\">\n",
       "      <th></th>\n",
       "      <th>PatientId</th>\n",
       "      <th>FRDPersonnelID</th>\n",
       "      <th>CrewMemberRoles</th>\n",
       "      <th>key</th>\n",
       "    </tr>\n",
       "  </thead>\n",
       "  <tbody>\n",
       "    <tr>\n",
       "      <th>0</th>\n",
       "      <td>479838</td>\n",
       "      <td>6ED7C99E-9E01-E211-B5F5-78E7D18CFD3C</td>\n",
       "      <td>Primary Patient Caregiver-At Scene,Primary Pat...</td>\n",
       "      <td>479838-6ED7C99E-9E01-E211-B5F5-78E7D18CFD3C</td>\n",
       "    </tr>\n",
       "    <tr>\n",
       "      <th>1</th>\n",
       "      <td>479838</td>\n",
       "      <td>F39A55F0-C619-E511-80CA-001DD8B71D38</td>\n",
       "      <td>Driver-Transport,Other Patient Caregiver-At Scene</td>\n",
       "      <td>479838-F39A55F0-C619-E511-80CA-001DD8B71D38</td>\n",
       "    </tr>\n",
       "    <tr>\n",
       "      <th>2</th>\n",
       "      <td>479838</td>\n",
       "      <td>D6D3C99E-9E01-E211-B5F5-78E7D18CFD3C</td>\n",
       "      <td>Intern/Student,Other Patient Caregiver-At Scen...</td>\n",
       "      <td>479838-D6D3C99E-9E01-E211-B5F5-78E7D18CFD3C</td>\n",
       "    </tr>\n",
       "    <tr>\n",
       "      <th>3</th>\n",
       "      <td>479839</td>\n",
       "      <td>71D4C99E-9E01-E211-B5F5-78E7D18CFD3C</td>\n",
       "      <td>Primary Patient Caregiver-At Scene,Primary Pat...</td>\n",
       "      <td>479839-71D4C99E-9E01-E211-B5F5-78E7D18CFD3C</td>\n",
       "    </tr>\n",
       "    <tr>\n",
       "      <th>4</th>\n",
       "      <td>479839</td>\n",
       "      <td>F9D4C99E-9E01-E211-B5F5-78E7D18CFD3C</td>\n",
       "      <td>Driver-Response,Driver-Transport</td>\n",
       "      <td>479839-F9D4C99E-9E01-E211-B5F5-78E7D18CFD3C</td>\n",
       "    </tr>\n",
       "  </tbody>\n",
       "</table>\n",
       "</div>"
      ],
      "text/plain": [
       "   PatientId                        FRDPersonnelID  \\\n",
       "0     479838  6ED7C99E-9E01-E211-B5F5-78E7D18CFD3C   \n",
       "1     479838  F39A55F0-C619-E511-80CA-001DD8B71D38   \n",
       "2     479838  D6D3C99E-9E01-E211-B5F5-78E7D18CFD3C   \n",
       "3     479839  71D4C99E-9E01-E211-B5F5-78E7D18CFD3C   \n",
       "4     479839  F9D4C99E-9E01-E211-B5F5-78E7D18CFD3C   \n",
       "\n",
       "                                     CrewMemberRoles  \\\n",
       "0  Primary Patient Caregiver-At Scene,Primary Pat...   \n",
       "1  Driver-Transport,Other Patient Caregiver-At Scene   \n",
       "2  Intern/Student,Other Patient Caregiver-At Scen...   \n",
       "3  Primary Patient Caregiver-At Scene,Primary Pat...   \n",
       "4                   Driver-Response,Driver-Transport   \n",
       "\n",
       "                                           key  \n",
       "0  479838-6ED7C99E-9E01-E211-B5F5-78E7D18CFD3C  \n",
       "1  479838-F39A55F0-C619-E511-80CA-001DD8B71D38  \n",
       "2  479838-D6D3C99E-9E01-E211-B5F5-78E7D18CFD3C  \n",
       "3  479839-71D4C99E-9E01-E211-B5F5-78E7D18CFD3C  \n",
       "4  479839-F9D4C99E-9E01-E211-B5F5-78E7D18CFD3C  "
      ]
     },
     "execution_count": 7,
     "metadata": {},
     "output_type": "execute_result"
    }
   ],
   "source": [
    "#Create a separate dataframe with only key, PatientID, FRDPersonnelID, and CrewMemberRoles for simplicity\n",
    "df_Patients_dedup_sub=dfPatients_dedup[[\"PatientId\",\"FRDPersonnelID\",\"CrewMemberRoles\"]]\n",
    "\n",
    "#Create a composite key column to identify duplicate records\n",
    "df_Patients_dedup_sub.loc[:,\"key\"]=df_Patients_dedup_sub.PatientId.astype(str)+'-'+df_Patients_dedup_sub.FRDPersonnelID\n",
    "\n",
    "df_Patients_dedup_sub.head()"
   ]
  },
  {
   "cell_type": "code",
   "execution_count": 8,
   "metadata": {},
   "outputs": [
    {
     "data": {
      "text/plain": [
       "(543298, 4)"
      ]
     },
     "execution_count": 8,
     "metadata": {},
     "output_type": "execute_result"
    }
   ],
   "source": [
    "df_Patients_dedup_sub.shape"
   ]
  },
  {
   "cell_type": "markdown",
   "metadata": {},
   "source": [
    "### This next section groups by the key and creates duplicate columns to capture the values in the duplicate rows, so these values can be concatenated."
   ]
  },
  {
   "cell_type": "code",
   "execution_count": 9,
   "metadata": {},
   "outputs": [
    {
     "data": {
      "text/plain": [
       "(543258, 10)"
      ]
     },
     "execution_count": 9,
     "metadata": {},
     "output_type": "execute_result"
    }
   ],
   "source": [
    "s = df_Patients_dedup_sub.groupby('key').cumcount()\n",
    "m = s.astype(bool) * ('('+s.astype(str)+')')\n",
    "df_out = df_Patients_dedup_sub.set_index(['key', m]).unstack().sort_index(level=1, axis=1).reset_index()\n",
    "df_out.columns = df_out.columns.map(lambda x: f'{x[0]}{x[1]}')\n",
    "\n",
    "# df_out.head()\n",
    "\n",
    "df_out.shape"
   ]
  },
  {
   "cell_type": "markdown",
   "metadata": {},
   "source": [
    "### Notice that the row count has decreased.  That is because the duplicate lines have been removed with the values stored in the extra columns."
   ]
  },
  {
   "cell_type": "code",
   "execution_count": 10,
   "metadata": {},
   "outputs": [
    {
     "data": {
      "text/html": [
       "<div>\n",
       "<style scoped>\n",
       "    .dataframe tbody tr th:only-of-type {\n",
       "        vertical-align: middle;\n",
       "    }\n",
       "\n",
       "    .dataframe tbody tr th {\n",
       "        vertical-align: top;\n",
       "    }\n",
       "\n",
       "    .dataframe thead th {\n",
       "        text-align: right;\n",
       "    }\n",
       "</style>\n",
       "<table border=\"1\" class=\"dataframe\">\n",
       "  <thead>\n",
       "    <tr style=\"text-align: right;\">\n",
       "      <th></th>\n",
       "      <th>key</th>\n",
       "      <th>CrewMemberRoles</th>\n",
       "      <th>FRDPersonnelID</th>\n",
       "      <th>PatientId</th>\n",
       "      <th>CrewMemberRoles(1)</th>\n",
       "      <th>FRDPersonnelID(1)</th>\n",
       "      <th>PatientId(1)</th>\n",
       "      <th>CrewMemberRoles(2)</th>\n",
       "      <th>FRDPersonnelID(2)</th>\n",
       "      <th>PatientId(2)</th>\n",
       "    </tr>\n",
       "  </thead>\n",
       "  <tbody>\n",
       "    <tr>\n",
       "      <th>0</th>\n",
       "      <td>1000002-91F621B7-1D51-E311-B3F8-AE437D699481</td>\n",
       "      <td>Primary Patient Caregiver-At Scene,Primary Pat...</td>\n",
       "      <td>91F621B7-1D51-E311-B3F8-AE437D699481</td>\n",
       "      <td>1000002.0</td>\n",
       "      <td>NaN</td>\n",
       "      <td>NaN</td>\n",
       "      <td>NaN</td>\n",
       "      <td>NaN</td>\n",
       "      <td>NaN</td>\n",
       "      <td>NaN</td>\n",
       "    </tr>\n",
       "    <tr>\n",
       "      <th>1</th>\n",
       "      <td>1000002-ADFF314F-8E6F-4B99-9C81-DBBA88336FFE</td>\n",
       "      <td>Driver-Response,Driver-Transport,Other Patient...</td>\n",
       "      <td>ADFF314F-8E6F-4B99-9C81-DBBA88336FFE</td>\n",
       "      <td>1000002.0</td>\n",
       "      <td>NaN</td>\n",
       "      <td>NaN</td>\n",
       "      <td>NaN</td>\n",
       "      <td>NaN</td>\n",
       "      <td>NaN</td>\n",
       "      <td>NaN</td>\n",
       "    </tr>\n",
       "    <tr>\n",
       "      <th>2</th>\n",
       "      <td>1000009-1FB4635C-0444-4221-A903-FE298AF4A87A</td>\n",
       "      <td>Driver-Response,Driver-Transport</td>\n",
       "      <td>1FB4635C-0444-4221-A903-FE298AF4A87A</td>\n",
       "      <td>1000009.0</td>\n",
       "      <td>NaN</td>\n",
       "      <td>NaN</td>\n",
       "      <td>NaN</td>\n",
       "      <td>NaN</td>\n",
       "      <td>NaN</td>\n",
       "      <td>NaN</td>\n",
       "    </tr>\n",
       "    <tr>\n",
       "      <th>3</th>\n",
       "      <td>1000009-DFD8C99E-9E01-E211-B5F5-78E7D18CFD3C</td>\n",
       "      <td>Primary Patient Caregiver-At Scene,Primary Pat...</td>\n",
       "      <td>DFD8C99E-9E01-E211-B5F5-78E7D18CFD3C</td>\n",
       "      <td>1000009.0</td>\n",
       "      <td>NaN</td>\n",
       "      <td>NaN</td>\n",
       "      <td>NaN</td>\n",
       "      <td>NaN</td>\n",
       "      <td>NaN</td>\n",
       "      <td>NaN</td>\n",
       "    </tr>\n",
       "    <tr>\n",
       "      <th>4</th>\n",
       "      <td>1000024-0FC6D8A5-B755-49AF-B4FE-073AA2CEC1E8</td>\n",
       "      <td>Primary Patient Caregiver-At Scene,Primary Pat...</td>\n",
       "      <td>0FC6D8A5-B755-49AF-B4FE-073AA2CEC1E8</td>\n",
       "      <td>1000024.0</td>\n",
       "      <td>NaN</td>\n",
       "      <td>NaN</td>\n",
       "      <td>NaN</td>\n",
       "      <td>NaN</td>\n",
       "      <td>NaN</td>\n",
       "      <td>NaN</td>\n",
       "    </tr>\n",
       "  </tbody>\n",
       "</table>\n",
       "</div>"
      ],
      "text/plain": [
       "                                            key  \\\n",
       "0  1000002-91F621B7-1D51-E311-B3F8-AE437D699481   \n",
       "1  1000002-ADFF314F-8E6F-4B99-9C81-DBBA88336FFE   \n",
       "2  1000009-1FB4635C-0444-4221-A903-FE298AF4A87A   \n",
       "3  1000009-DFD8C99E-9E01-E211-B5F5-78E7D18CFD3C   \n",
       "4  1000024-0FC6D8A5-B755-49AF-B4FE-073AA2CEC1E8   \n",
       "\n",
       "                                     CrewMemberRoles  \\\n",
       "0  Primary Patient Caregiver-At Scene,Primary Pat...   \n",
       "1  Driver-Response,Driver-Transport,Other Patient...   \n",
       "2                   Driver-Response,Driver-Transport   \n",
       "3  Primary Patient Caregiver-At Scene,Primary Pat...   \n",
       "4  Primary Patient Caregiver-At Scene,Primary Pat...   \n",
       "\n",
       "                         FRDPersonnelID  PatientId CrewMemberRoles(1)  \\\n",
       "0  91F621B7-1D51-E311-B3F8-AE437D699481  1000002.0                NaN   \n",
       "1  ADFF314F-8E6F-4B99-9C81-DBBA88336FFE  1000002.0                NaN   \n",
       "2  1FB4635C-0444-4221-A903-FE298AF4A87A  1000009.0                NaN   \n",
       "3  DFD8C99E-9E01-E211-B5F5-78E7D18CFD3C  1000009.0                NaN   \n",
       "4  0FC6D8A5-B755-49AF-B4FE-073AA2CEC1E8  1000024.0                NaN   \n",
       "\n",
       "  FRDPersonnelID(1)  PatientId(1) CrewMemberRoles(2) FRDPersonnelID(2)  \\\n",
       "0               NaN           NaN                NaN               NaN   \n",
       "1               NaN           NaN                NaN               NaN   \n",
       "2               NaN           NaN                NaN               NaN   \n",
       "3               NaN           NaN                NaN               NaN   \n",
       "4               NaN           NaN                NaN               NaN   \n",
       "\n",
       "   PatientId(2)  \n",
       "0           NaN  \n",
       "1           NaN  \n",
       "2           NaN  \n",
       "3           NaN  \n",
       "4           NaN  "
      ]
     },
     "execution_count": 10,
     "metadata": {},
     "output_type": "execute_result"
    }
   ],
   "source": [
    "df_out.head()"
   ]
  },
  {
   "cell_type": "code",
   "execution_count": 11,
   "metadata": {},
   "outputs": [],
   "source": [
    "#Remove unnecessary columns generated in last step\n",
    "df_out2=df_out.drop(columns=['FRDPersonnelID(1)','PatientId(1)', 'FRDPersonnelID(2)', 'PatientId(2)'])\n",
    "\n",
    "#Remove records that don't have a second Role (not duplicate)\n",
    "df_out1=df_out2.dropna(how='all',subset=['CrewMemberRoles(1)','CrewMemberRoles(2)'])\n",
    "\n",
    "#create a dataset with only the rows that don't have duplicates for later merging\n",
    "df_nodup=pd.merge(df_out2,df_out1,how='outer',indicator=True).query('_merge == \"left_only\"').drop(columns=['_merge'])\n"
   ]
  },
  {
   "cell_type": "code",
   "execution_count": 12,
   "metadata": {},
   "outputs": [
    {
     "data": {
      "text/html": [
       "<div>\n",
       "<style scoped>\n",
       "    .dataframe tbody tr th:only-of-type {\n",
       "        vertical-align: middle;\n",
       "    }\n",
       "\n",
       "    .dataframe tbody tr th {\n",
       "        vertical-align: top;\n",
       "    }\n",
       "\n",
       "    .dataframe thead th {\n",
       "        text-align: right;\n",
       "    }\n",
       "</style>\n",
       "<table border=\"1\" class=\"dataframe\">\n",
       "  <thead>\n",
       "    <tr style=\"text-align: right;\">\n",
       "      <th></th>\n",
       "      <th>key</th>\n",
       "      <th>CrewMemberRoles</th>\n",
       "      <th>FRDPersonnelID</th>\n",
       "      <th>PatientId</th>\n",
       "      <th>CrewMemberRoles(1)</th>\n",
       "      <th>CrewMemberRoles(2)</th>\n",
       "    </tr>\n",
       "  </thead>\n",
       "  <tbody>\n",
       "    <tr>\n",
       "      <th>69</th>\n",
       "      <td>1000136-9D35C1F0-3E4C-4E24-87C2-44B32F463C83</td>\n",
       "      <td>Other Patient Caregiver-At Scene,Other Patient...</td>\n",
       "      <td>9D35C1F0-3E4C-4E24-87C2-44B32F463C83</td>\n",
       "      <td>1000136.0</td>\n",
       "      <td>Driver-Response,Driver-Transport,Other Patient...</td>\n",
       "      <td>NaN</td>\n",
       "    </tr>\n",
       "    <tr>\n",
       "      <th>797</th>\n",
       "      <td>1001604-8FD2C99E-9E01-E211-B5F5-78E7D18CFD3C</td>\n",
       "      <td>Driver-Response</td>\n",
       "      <td>8FD2C99E-9E01-E211-B5F5-78E7D18CFD3C</td>\n",
       "      <td>1001604.0</td>\n",
       "      <td>Primary Patient Caregiver-At Scene</td>\n",
       "      <td>NaN</td>\n",
       "    </tr>\n",
       "    <tr>\n",
       "      <th>84347</th>\n",
       "      <td>1158779-8AD7C99E-9E01-E211-B5F5-78E7D18CFD3C</td>\n",
       "      <td>Driver-Response</td>\n",
       "      <td>8AD7C99E-9E01-E211-B5F5-78E7D18CFD3C</td>\n",
       "      <td>1158779.0</td>\n",
       "      <td>Primary Patient Caregiver-At Scene</td>\n",
       "      <td>NaN</td>\n",
       "    </tr>\n",
       "    <tr>\n",
       "      <th>104033</th>\n",
       "      <td>1195070-86D6C99E-9E01-E211-B5F5-78E7D18CFD3C</td>\n",
       "      <td>Driver-Response</td>\n",
       "      <td>86D6C99E-9E01-E211-B5F5-78E7D18CFD3C</td>\n",
       "      <td>1195070.0</td>\n",
       "      <td>Primary Patient Caregiver-At Scene</td>\n",
       "      <td>NaN</td>\n",
       "    </tr>\n",
       "    <tr>\n",
       "      <th>105268</th>\n",
       "      <td>1197358-86D6C99E-9E01-E211-B5F5-78E7D18CFD3C</td>\n",
       "      <td>Other Patient Caregiver-At Scene,Primary Patie...</td>\n",
       "      <td>86D6C99E-9E01-E211-B5F5-78E7D18CFD3C</td>\n",
       "      <td>1197358.0</td>\n",
       "      <td>Driver-Response</td>\n",
       "      <td>NaN</td>\n",
       "    </tr>\n",
       "  </tbody>\n",
       "</table>\n",
       "</div>"
      ],
      "text/plain": [
       "                                                 key  \\\n",
       "69      1000136-9D35C1F0-3E4C-4E24-87C2-44B32F463C83   \n",
       "797     1001604-8FD2C99E-9E01-E211-B5F5-78E7D18CFD3C   \n",
       "84347   1158779-8AD7C99E-9E01-E211-B5F5-78E7D18CFD3C   \n",
       "104033  1195070-86D6C99E-9E01-E211-B5F5-78E7D18CFD3C   \n",
       "105268  1197358-86D6C99E-9E01-E211-B5F5-78E7D18CFD3C   \n",
       "\n",
       "                                          CrewMemberRoles  \\\n",
       "69      Other Patient Caregiver-At Scene,Other Patient...   \n",
       "797                                       Driver-Response   \n",
       "84347                                     Driver-Response   \n",
       "104033                                    Driver-Response   \n",
       "105268  Other Patient Caregiver-At Scene,Primary Patie...   \n",
       "\n",
       "                              FRDPersonnelID  PatientId  \\\n",
       "69      9D35C1F0-3E4C-4E24-87C2-44B32F463C83  1000136.0   \n",
       "797     8FD2C99E-9E01-E211-B5F5-78E7D18CFD3C  1001604.0   \n",
       "84347   8AD7C99E-9E01-E211-B5F5-78E7D18CFD3C  1158779.0   \n",
       "104033  86D6C99E-9E01-E211-B5F5-78E7D18CFD3C  1195070.0   \n",
       "105268  86D6C99E-9E01-E211-B5F5-78E7D18CFD3C  1197358.0   \n",
       "\n",
       "                                       CrewMemberRoles(1) CrewMemberRoles(2)  \n",
       "69      Driver-Response,Driver-Transport,Other Patient...                NaN  \n",
       "797                    Primary Patient Caregiver-At Scene                NaN  \n",
       "84347                  Primary Patient Caregiver-At Scene                NaN  \n",
       "104033                 Primary Patient Caregiver-At Scene                NaN  \n",
       "105268                                    Driver-Response                NaN  "
      ]
     },
     "execution_count": 12,
     "metadata": {},
     "output_type": "execute_result"
    }
   ],
   "source": [
    "df_out1.head()"
   ]
  },
  {
   "cell_type": "code",
   "execution_count": 13,
   "metadata": {},
   "outputs": [
    {
     "data": {
      "text/plain": [
       "(543219, 6)"
      ]
     },
     "execution_count": 13,
     "metadata": {},
     "output_type": "execute_result"
    }
   ],
   "source": [
    "df_nodup.shape"
   ]
  },
  {
   "cell_type": "code",
   "execution_count": 14,
   "metadata": {},
   "outputs": [
    {
     "data": {
      "text/plain": [
       "(39, 6)"
      ]
     },
     "execution_count": 14,
     "metadata": {},
     "output_type": "execute_result"
    }
   ],
   "source": [
    "df_out1.shape"
   ]
  },
  {
   "cell_type": "code",
   "execution_count": 15,
   "metadata": {},
   "outputs": [
    {
     "name": "stderr",
     "output_type": "stream",
     "text": [
      "C:\\Users\\MDL\\Anaconda3\\lib\\site-packages\\pandas\\core\\indexing.py:1596: SettingWithCopyWarning: \n",
      "A value is trying to be set on a copy of a slice from a DataFrame.\n",
      "Try using .loc[row_indexer,col_indexer] = value instead\n",
      "\n",
      "See the caveats in the documentation: https://pandas.pydata.org/pandas-docs/stable/user_guide/indexing.html#returning-a-view-versus-a-copy\n",
      "  self.obj[key] = _infer_fill_value(value)\n",
      "C:\\Users\\MDL\\Anaconda3\\lib\\site-packages\\pandas\\core\\indexing.py:1745: SettingWithCopyWarning: \n",
      "A value is trying to be set on a copy of a slice from a DataFrame.\n",
      "Try using .loc[row_indexer,col_indexer] = value instead\n",
      "\n",
      "See the caveats in the documentation: https://pandas.pydata.org/pandas-docs/stable/user_guide/indexing.html#returning-a-view-versus-a-copy\n",
      "  isetter(ilocs[0], value)\n",
      "C:\\Users\\MDL\\Anaconda3\\lib\\site-packages\\pandas\\core\\indexing.py:1745: SettingWithCopyWarning: \n",
      "A value is trying to be set on a copy of a slice from a DataFrame.\n",
      "Try using .loc[row_indexer,col_indexer] = value instead\n",
      "\n",
      "See the caveats in the documentation: https://pandas.pydata.org/pandas-docs/stable/user_guide/indexing.html#returning-a-view-versus-a-copy\n",
      "  isetter(ilocs[0], value)\n"
     ]
    },
    {
     "data": {
      "text/plain": [
       "(543258, 4)"
      ]
     },
     "execution_count": 15,
     "metadata": {},
     "output_type": "execute_result"
    }
   ],
   "source": [
    "#move the CrewMemberRoles over to the new column\n",
    "df_nodup.loc[:,'newCrewMemberRoles']=df_nodup['CrewMemberRoles']\n",
    "\n",
    "#concatenate the duplicate CrewMemberRoles and place in new column\n",
    "df_out1.loc[:,'newCrewMemberRoles']=df_out1['CrewMemberRoles']+', '+ df_out1['CrewMemberRoles(1)']\n",
    "\n",
    "#create a new dataframe with only the triplicates in it\n",
    "df_trips=df_out1.dropna(how='all',subset=['CrewMemberRoles(2)'])\n",
    "\n",
    "#create a new dataframe with only the duplicates (not the triplicates)\n",
    "df_dups=pd.merge(df_out1,df_trips,how='outer',indicator=True).query('_merge == \"left_only\"').drop(columns=['_merge'])\n",
    "\n",
    "#contatenate the triplicate CrewMemberRoles with data from prior steps into the new column\n",
    "df_trips.loc[:,'newCrewMemberRoles']=df_trips['newCrewMemberRoles']+', '+df_trips['CrewMemberRoles(2)']\n",
    "\n",
    "#Merge all three datasets (singles, duplicates, triplicates)\n",
    "df_Roles_deduped=pd.concat([df_nodup,df_dups,df_trips])\n",
    "\n",
    "#Drop extra columns that are no longer needed\n",
    "df_Roles_deduped=df_Roles_deduped.drop(columns=['CrewMemberRoles','CrewMemberRoles(1)','CrewMemberRoles(2)'])\n",
    "\n",
    "df_Roles_deduped.shape"
   ]
  },
  {
   "cell_type": "code",
   "execution_count": 16,
   "metadata": {},
   "outputs": [
    {
     "data": {
      "text/html": [
       "<div>\n",
       "<style scoped>\n",
       "    .dataframe tbody tr th:only-of-type {\n",
       "        vertical-align: middle;\n",
       "    }\n",
       "\n",
       "    .dataframe tbody tr th {\n",
       "        vertical-align: top;\n",
       "    }\n",
       "\n",
       "    .dataframe thead th {\n",
       "        text-align: right;\n",
       "    }\n",
       "</style>\n",
       "<table border=\"1\" class=\"dataframe\">\n",
       "  <thead>\n",
       "    <tr style=\"text-align: right;\">\n",
       "      <th></th>\n",
       "      <th>key</th>\n",
       "      <th>FRDPersonnelID</th>\n",
       "      <th>PatientId</th>\n",
       "      <th>newCrewMemberRoles</th>\n",
       "    </tr>\n",
       "  </thead>\n",
       "  <tbody>\n",
       "    <tr>\n",
       "      <th>0</th>\n",
       "      <td>1000002-91F621B7-1D51-E311-B3F8-AE437D699481</td>\n",
       "      <td>91F621B7-1D51-E311-B3F8-AE437D699481</td>\n",
       "      <td>1000002.0</td>\n",
       "      <td>Primary Patient Caregiver-At Scene,Primary Pat...</td>\n",
       "    </tr>\n",
       "    <tr>\n",
       "      <th>1</th>\n",
       "      <td>1000002-ADFF314F-8E6F-4B99-9C81-DBBA88336FFE</td>\n",
       "      <td>ADFF314F-8E6F-4B99-9C81-DBBA88336FFE</td>\n",
       "      <td>1000002.0</td>\n",
       "      <td>Driver-Response,Driver-Transport,Other Patient...</td>\n",
       "    </tr>\n",
       "    <tr>\n",
       "      <th>2</th>\n",
       "      <td>1000009-1FB4635C-0444-4221-A903-FE298AF4A87A</td>\n",
       "      <td>1FB4635C-0444-4221-A903-FE298AF4A87A</td>\n",
       "      <td>1000009.0</td>\n",
       "      <td>Driver-Response,Driver-Transport</td>\n",
       "    </tr>\n",
       "    <tr>\n",
       "      <th>3</th>\n",
       "      <td>1000009-DFD8C99E-9E01-E211-B5F5-78E7D18CFD3C</td>\n",
       "      <td>DFD8C99E-9E01-E211-B5F5-78E7D18CFD3C</td>\n",
       "      <td>1000009.0</td>\n",
       "      <td>Primary Patient Caregiver-At Scene,Primary Pat...</td>\n",
       "    </tr>\n",
       "    <tr>\n",
       "      <th>4</th>\n",
       "      <td>1000024-0FC6D8A5-B755-49AF-B4FE-073AA2CEC1E8</td>\n",
       "      <td>0FC6D8A5-B755-49AF-B4FE-073AA2CEC1E8</td>\n",
       "      <td>1000024.0</td>\n",
       "      <td>Primary Patient Caregiver-At Scene,Primary Pat...</td>\n",
       "    </tr>\n",
       "  </tbody>\n",
       "</table>\n",
       "</div>"
      ],
      "text/plain": [
       "                                            key  \\\n",
       "0  1000002-91F621B7-1D51-E311-B3F8-AE437D699481   \n",
       "1  1000002-ADFF314F-8E6F-4B99-9C81-DBBA88336FFE   \n",
       "2  1000009-1FB4635C-0444-4221-A903-FE298AF4A87A   \n",
       "3  1000009-DFD8C99E-9E01-E211-B5F5-78E7D18CFD3C   \n",
       "4  1000024-0FC6D8A5-B755-49AF-B4FE-073AA2CEC1E8   \n",
       "\n",
       "                         FRDPersonnelID  PatientId  \\\n",
       "0  91F621B7-1D51-E311-B3F8-AE437D699481  1000002.0   \n",
       "1  ADFF314F-8E6F-4B99-9C81-DBBA88336FFE  1000002.0   \n",
       "2  1FB4635C-0444-4221-A903-FE298AF4A87A  1000009.0   \n",
       "3  DFD8C99E-9E01-E211-B5F5-78E7D18CFD3C  1000009.0   \n",
       "4  0FC6D8A5-B755-49AF-B4FE-073AA2CEC1E8  1000024.0   \n",
       "\n",
       "                                  newCrewMemberRoles  \n",
       "0  Primary Patient Caregiver-At Scene,Primary Pat...  \n",
       "1  Driver-Response,Driver-Transport,Other Patient...  \n",
       "2                   Driver-Response,Driver-Transport  \n",
       "3  Primary Patient Caregiver-At Scene,Primary Pat...  \n",
       "4  Primary Patient Caregiver-At Scene,Primary Pat...  "
      ]
     },
     "execution_count": 16,
     "metadata": {},
     "output_type": "execute_result"
    }
   ],
   "source": [
    "df_Roles_deduped.head()"
   ]
  },
  {
   "cell_type": "code",
   "execution_count": 17,
   "metadata": {},
   "outputs": [
    {
     "data": {
      "text/html": [
       "<div>\n",
       "<style scoped>\n",
       "    .dataframe tbody tr th:only-of-type {\n",
       "        vertical-align: middle;\n",
       "    }\n",
       "\n",
       "    .dataframe tbody tr th {\n",
       "        vertical-align: top;\n",
       "    }\n",
       "\n",
       "    .dataframe thead th {\n",
       "        text-align: right;\n",
       "    }\n",
       "</style>\n",
       "<table border=\"1\" class=\"dataframe\">\n",
       "  <thead>\n",
       "    <tr style=\"text-align: right;\">\n",
       "      <th></th>\n",
       "      <th>PatientId</th>\n",
       "      <th>FRDPersonnelID</th>\n",
       "      <th>Shift</th>\n",
       "      <th>UnitId</th>\n",
       "      <th>FireStation</th>\n",
       "      <th>Battalion</th>\n",
       "      <th>PatientOutcome</th>\n",
       "      <th>PatientGender</th>\n",
       "      <th>CrewMemberRoles</th>\n",
       "      <th>DispatchTime</th>\n",
       "      <th>FRDPersonnelGender</th>\n",
       "      <th>FRDPersonnelStartDate</th>\n",
       "      <th>key</th>\n",
       "      <th>newCrewMemberRoles</th>\n",
       "    </tr>\n",
       "  </thead>\n",
       "  <tbody>\n",
       "    <tr>\n",
       "      <th>0</th>\n",
       "      <td>479838</td>\n",
       "      <td>6ED7C99E-9E01-E211-B5F5-78E7D18CFD3C</td>\n",
       "      <td>A - Shift</td>\n",
       "      <td>M404</td>\n",
       "      <td>4</td>\n",
       "      <td>401</td>\n",
       "      <td>Standby (No Services Performed)</td>\n",
       "      <td>NaN</td>\n",
       "      <td>Primary Patient Caregiver-At Scene,Primary Pat...</td>\n",
       "      <td>2018-01-01 00:29:02</td>\n",
       "      <td>Male</td>\n",
       "      <td>1997-08-18</td>\n",
       "      <td>479838-6ED7C99E-9E01-E211-B5F5-78E7D18CFD3C</td>\n",
       "      <td>Primary Patient Caregiver-At Scene,Primary Pat...</td>\n",
       "    </tr>\n",
       "    <tr>\n",
       "      <th>1</th>\n",
       "      <td>479838</td>\n",
       "      <td>F39A55F0-C619-E511-80CA-001DD8B71D38</td>\n",
       "      <td>A - Shift</td>\n",
       "      <td>M404</td>\n",
       "      <td>4</td>\n",
       "      <td>401</td>\n",
       "      <td>Standby (No Services Performed)</td>\n",
       "      <td>NaN</td>\n",
       "      <td>Driver-Transport,Other Patient Caregiver-At Scene</td>\n",
       "      <td>2018-01-01 00:29:02</td>\n",
       "      <td>Male</td>\n",
       "      <td>2007-02-19</td>\n",
       "      <td>479838-F39A55F0-C619-E511-80CA-001DD8B71D38</td>\n",
       "      <td>Driver-Transport,Other Patient Caregiver-At Scene</td>\n",
       "    </tr>\n",
       "    <tr>\n",
       "      <th>2</th>\n",
       "      <td>479838</td>\n",
       "      <td>D6D3C99E-9E01-E211-B5F5-78E7D18CFD3C</td>\n",
       "      <td>A - Shift</td>\n",
       "      <td>M404</td>\n",
       "      <td>4</td>\n",
       "      <td>401</td>\n",
       "      <td>Standby (No Services Performed)</td>\n",
       "      <td>NaN</td>\n",
       "      <td>Intern/Student,Other Patient Caregiver-At Scen...</td>\n",
       "      <td>2018-01-01 00:29:02</td>\n",
       "      <td>Male</td>\n",
       "      <td>2008-08-18</td>\n",
       "      <td>479838-D6D3C99E-9E01-E211-B5F5-78E7D18CFD3C</td>\n",
       "      <td>Intern/Student,Other Patient Caregiver-At Scen...</td>\n",
       "    </tr>\n",
       "    <tr>\n",
       "      <th>3</th>\n",
       "      <td>479839</td>\n",
       "      <td>71D4C99E-9E01-E211-B5F5-78E7D18CFD3C</td>\n",
       "      <td>A - Shift</td>\n",
       "      <td>M401</td>\n",
       "      <td>1</td>\n",
       "      <td>402</td>\n",
       "      <td>No Treatment/Transport Required</td>\n",
       "      <td>NaN</td>\n",
       "      <td>Primary Patient Caregiver-At Scene,Primary Pat...</td>\n",
       "      <td>2018-01-01 00:40:54</td>\n",
       "      <td>Male</td>\n",
       "      <td>2011-10-24</td>\n",
       "      <td>479839-71D4C99E-9E01-E211-B5F5-78E7D18CFD3C</td>\n",
       "      <td>Primary Patient Caregiver-At Scene,Primary Pat...</td>\n",
       "    </tr>\n",
       "    <tr>\n",
       "      <th>4</th>\n",
       "      <td>479839</td>\n",
       "      <td>F9D4C99E-9E01-E211-B5F5-78E7D18CFD3C</td>\n",
       "      <td>A - Shift</td>\n",
       "      <td>M401</td>\n",
       "      <td>1</td>\n",
       "      <td>402</td>\n",
       "      <td>No Treatment/Transport Required</td>\n",
       "      <td>NaN</td>\n",
       "      <td>Driver-Response,Driver-Transport</td>\n",
       "      <td>2018-01-01 00:40:54</td>\n",
       "      <td>Male</td>\n",
       "      <td>2012-02-27</td>\n",
       "      <td>479839-F9D4C99E-9E01-E211-B5F5-78E7D18CFD3C</td>\n",
       "      <td>Driver-Response,Driver-Transport</td>\n",
       "    </tr>\n",
       "  </tbody>\n",
       "</table>\n",
       "</div>"
      ],
      "text/plain": [
       "   PatientId                        FRDPersonnelID      Shift UnitId  \\\n",
       "0     479838  6ED7C99E-9E01-E211-B5F5-78E7D18CFD3C  A - Shift   M404   \n",
       "1     479838  F39A55F0-C619-E511-80CA-001DD8B71D38  A - Shift   M404   \n",
       "2     479838  D6D3C99E-9E01-E211-B5F5-78E7D18CFD3C  A - Shift   M404   \n",
       "3     479839  71D4C99E-9E01-E211-B5F5-78E7D18CFD3C  A - Shift   M401   \n",
       "4     479839  F9D4C99E-9E01-E211-B5F5-78E7D18CFD3C  A - Shift   M401   \n",
       "\n",
       "   FireStation  Battalion                   PatientOutcome PatientGender  \\\n",
       "0            4        401  Standby (No Services Performed)           NaN   \n",
       "1            4        401  Standby (No Services Performed)           NaN   \n",
       "2            4        401  Standby (No Services Performed)           NaN   \n",
       "3            1        402  No Treatment/Transport Required           NaN   \n",
       "4            1        402  No Treatment/Transport Required           NaN   \n",
       "\n",
       "                                     CrewMemberRoles        DispatchTime  \\\n",
       "0  Primary Patient Caregiver-At Scene,Primary Pat... 2018-01-01 00:29:02   \n",
       "1  Driver-Transport,Other Patient Caregiver-At Scene 2018-01-01 00:29:02   \n",
       "2  Intern/Student,Other Patient Caregiver-At Scen... 2018-01-01 00:29:02   \n",
       "3  Primary Patient Caregiver-At Scene,Primary Pat... 2018-01-01 00:40:54   \n",
       "4                   Driver-Response,Driver-Transport 2018-01-01 00:40:54   \n",
       "\n",
       "  FRDPersonnelGender FRDPersonnelStartDate  \\\n",
       "0               Male            1997-08-18   \n",
       "1               Male            2007-02-19   \n",
       "2               Male            2008-08-18   \n",
       "3               Male            2011-10-24   \n",
       "4               Male            2012-02-27   \n",
       "\n",
       "                                           key  \\\n",
       "0  479838-6ED7C99E-9E01-E211-B5F5-78E7D18CFD3C   \n",
       "1  479838-F39A55F0-C619-E511-80CA-001DD8B71D38   \n",
       "2  479838-D6D3C99E-9E01-E211-B5F5-78E7D18CFD3C   \n",
       "3  479839-71D4C99E-9E01-E211-B5F5-78E7D18CFD3C   \n",
       "4  479839-F9D4C99E-9E01-E211-B5F5-78E7D18CFD3C   \n",
       "\n",
       "                                  newCrewMemberRoles  \n",
       "0  Primary Patient Caregiver-At Scene,Primary Pat...  \n",
       "1  Driver-Transport,Other Patient Caregiver-At Scene  \n",
       "2  Intern/Student,Other Patient Caregiver-At Scen...  \n",
       "3  Primary Patient Caregiver-At Scene,Primary Pat...  \n",
       "4                   Driver-Response,Driver-Transport  "
      ]
     },
     "execution_count": 17,
     "metadata": {},
     "output_type": "execute_result"
    }
   ],
   "source": [
    "#merge back into patients\n",
    "dfPatients_dedup2=pd.merge(dfPatients_dedup,df_Roles_deduped,how='left',on=['FRDPersonnelID','PatientId']) \n",
    "           \n",
    "dfPatients_dedup2.head()"
   ]
  },
  {
   "cell_type": "code",
   "execution_count": 18,
   "metadata": {},
   "outputs": [
    {
     "data": {
      "text/plain": [
       "(543298, 14)"
      ]
     },
     "execution_count": 18,
     "metadata": {},
     "output_type": "execute_result"
    }
   ],
   "source": [
    "dfPatients_dedup2.shape"
   ]
  },
  {
   "cell_type": "code",
   "execution_count": 19,
   "metadata": {},
   "outputs": [
    {
     "data": {
      "text/html": [
       "<div>\n",
       "<style scoped>\n",
       "    .dataframe tbody tr th:only-of-type {\n",
       "        vertical-align: middle;\n",
       "    }\n",
       "\n",
       "    .dataframe tbody tr th {\n",
       "        vertical-align: top;\n",
       "    }\n",
       "\n",
       "    .dataframe thead th {\n",
       "        text-align: right;\n",
       "    }\n",
       "</style>\n",
       "<table border=\"1\" class=\"dataframe\">\n",
       "  <thead>\n",
       "    <tr style=\"text-align: right;\">\n",
       "      <th></th>\n",
       "      <th>PatientId</th>\n",
       "      <th>FRDPersonnelID</th>\n",
       "      <th>Shift</th>\n",
       "      <th>UnitId</th>\n",
       "      <th>FireStation</th>\n",
       "      <th>Battalion</th>\n",
       "      <th>PatientOutcome</th>\n",
       "      <th>PatientGender</th>\n",
       "      <th>DispatchTime</th>\n",
       "      <th>FRDPersonnelGender</th>\n",
       "      <th>FRDPersonnelStartDate</th>\n",
       "      <th>CrewMemberRoles</th>\n",
       "    </tr>\n",
       "  </thead>\n",
       "  <tbody>\n",
       "    <tr>\n",
       "      <th>0</th>\n",
       "      <td>479838</td>\n",
       "      <td>6ED7C99E-9E01-E211-B5F5-78E7D18CFD3C</td>\n",
       "      <td>A - Shift</td>\n",
       "      <td>M404</td>\n",
       "      <td>4</td>\n",
       "      <td>401</td>\n",
       "      <td>Standby (No Services Performed)</td>\n",
       "      <td>NaN</td>\n",
       "      <td>2018-01-01 00:29:02</td>\n",
       "      <td>Male</td>\n",
       "      <td>1997-08-18</td>\n",
       "      <td>Primary Patient Caregiver-At Scene,Primary Pat...</td>\n",
       "    </tr>\n",
       "    <tr>\n",
       "      <th>1</th>\n",
       "      <td>479838</td>\n",
       "      <td>F39A55F0-C619-E511-80CA-001DD8B71D38</td>\n",
       "      <td>A - Shift</td>\n",
       "      <td>M404</td>\n",
       "      <td>4</td>\n",
       "      <td>401</td>\n",
       "      <td>Standby (No Services Performed)</td>\n",
       "      <td>NaN</td>\n",
       "      <td>2018-01-01 00:29:02</td>\n",
       "      <td>Male</td>\n",
       "      <td>2007-02-19</td>\n",
       "      <td>Driver-Transport,Other Patient Caregiver-At Scene</td>\n",
       "    </tr>\n",
       "    <tr>\n",
       "      <th>2</th>\n",
       "      <td>479838</td>\n",
       "      <td>D6D3C99E-9E01-E211-B5F5-78E7D18CFD3C</td>\n",
       "      <td>A - Shift</td>\n",
       "      <td>M404</td>\n",
       "      <td>4</td>\n",
       "      <td>401</td>\n",
       "      <td>Standby (No Services Performed)</td>\n",
       "      <td>NaN</td>\n",
       "      <td>2018-01-01 00:29:02</td>\n",
       "      <td>Male</td>\n",
       "      <td>2008-08-18</td>\n",
       "      <td>Intern/Student,Other Patient Caregiver-At Scen...</td>\n",
       "    </tr>\n",
       "    <tr>\n",
       "      <th>3</th>\n",
       "      <td>479839</td>\n",
       "      <td>71D4C99E-9E01-E211-B5F5-78E7D18CFD3C</td>\n",
       "      <td>A - Shift</td>\n",
       "      <td>M401</td>\n",
       "      <td>1</td>\n",
       "      <td>402</td>\n",
       "      <td>No Treatment/Transport Required</td>\n",
       "      <td>NaN</td>\n",
       "      <td>2018-01-01 00:40:54</td>\n",
       "      <td>Male</td>\n",
       "      <td>2011-10-24</td>\n",
       "      <td>Primary Patient Caregiver-At Scene,Primary Pat...</td>\n",
       "    </tr>\n",
       "    <tr>\n",
       "      <th>4</th>\n",
       "      <td>479839</td>\n",
       "      <td>F9D4C99E-9E01-E211-B5F5-78E7D18CFD3C</td>\n",
       "      <td>A - Shift</td>\n",
       "      <td>M401</td>\n",
       "      <td>1</td>\n",
       "      <td>402</td>\n",
       "      <td>No Treatment/Transport Required</td>\n",
       "      <td>NaN</td>\n",
       "      <td>2018-01-01 00:40:54</td>\n",
       "      <td>Male</td>\n",
       "      <td>2012-02-27</td>\n",
       "      <td>Driver-Response,Driver-Transport</td>\n",
       "    </tr>\n",
       "  </tbody>\n",
       "</table>\n",
       "</div>"
      ],
      "text/plain": [
       "   PatientId                        FRDPersonnelID      Shift UnitId  \\\n",
       "0     479838  6ED7C99E-9E01-E211-B5F5-78E7D18CFD3C  A - Shift   M404   \n",
       "1     479838  F39A55F0-C619-E511-80CA-001DD8B71D38  A - Shift   M404   \n",
       "2     479838  D6D3C99E-9E01-E211-B5F5-78E7D18CFD3C  A - Shift   M404   \n",
       "3     479839  71D4C99E-9E01-E211-B5F5-78E7D18CFD3C  A - Shift   M401   \n",
       "4     479839  F9D4C99E-9E01-E211-B5F5-78E7D18CFD3C  A - Shift   M401   \n",
       "\n",
       "   FireStation  Battalion                   PatientOutcome PatientGender  \\\n",
       "0            4        401  Standby (No Services Performed)           NaN   \n",
       "1            4        401  Standby (No Services Performed)           NaN   \n",
       "2            4        401  Standby (No Services Performed)           NaN   \n",
       "3            1        402  No Treatment/Transport Required           NaN   \n",
       "4            1        402  No Treatment/Transport Required           NaN   \n",
       "\n",
       "         DispatchTime FRDPersonnelGender FRDPersonnelStartDate  \\\n",
       "0 2018-01-01 00:29:02               Male            1997-08-18   \n",
       "1 2018-01-01 00:29:02               Male            2007-02-19   \n",
       "2 2018-01-01 00:29:02               Male            2008-08-18   \n",
       "3 2018-01-01 00:40:54               Male            2011-10-24   \n",
       "4 2018-01-01 00:40:54               Male            2012-02-27   \n",
       "\n",
       "                                     CrewMemberRoles  \n",
       "0  Primary Patient Caregiver-At Scene,Primary Pat...  \n",
       "1  Driver-Transport,Other Patient Caregiver-At Scene  \n",
       "2  Intern/Student,Other Patient Caregiver-At Scen...  \n",
       "3  Primary Patient Caregiver-At Scene,Primary Pat...  \n",
       "4                   Driver-Response,Driver-Transport  "
      ]
     },
     "execution_count": 19,
     "metadata": {},
     "output_type": "execute_result"
    }
   ],
   "source": [
    "#replace CrewMemberRoles column with updated column\n",
    "dfPatients_dedup2=dfPatients_dedup2.drop(columns=[\"key\",\"CrewMemberRoles\"])\n",
    "dfPatients_dedup2=dfPatients_dedup2.rename(columns={\"newCrewMemberRoles\":\"CrewMemberRoles\"})\n",
    "dfPatients_dedup2.head()"
   ]
  },
  {
   "cell_type": "code",
   "execution_count": 20,
   "metadata": {},
   "outputs": [
    {
     "data": {
      "text/plain": [
       "(543298, 12)"
      ]
     },
     "execution_count": 20,
     "metadata": {},
     "output_type": "execute_result"
    }
   ],
   "source": [
    "dfPatients_dedup2.shape"
   ]
  },
  {
   "cell_type": "code",
   "execution_count": 21,
   "metadata": {},
   "outputs": [
    {
     "data": {
      "text/plain": [
       "(543258, 12)"
      ]
     },
     "execution_count": 21,
     "metadata": {},
     "output_type": "execute_result"
    }
   ],
   "source": [
    "# Drop duplicate records\n",
    "dfPatients_dedup2 = pd.DataFrame.drop_duplicates(dfPatients_dedup2)\n",
    "dfPatients_dedup=dfPatients_dedup2\n",
    "dfPatients_dedup.shape"
   ]
  },
  {
   "cell_type": "markdown",
   "metadata": {},
   "source": [
    "### Add TenureMonths, which is the count of months working at the time of the dispatch call"
   ]
  },
  {
   "cell_type": "code",
   "execution_count": 22,
   "metadata": {},
   "outputs": [
    {
     "data": {
      "text/plain": [
       "(543258, 13)"
      ]
     },
     "execution_count": 22,
     "metadata": {},
     "output_type": "execute_result"
    }
   ],
   "source": [
    "dfPatients_dedup.loc[:,'TenureMonths'] = ((dfPatients_dedup['DispatchTime'].dt.date - \\\n",
    "                                     dfPatients_dedup['FRDPersonnelStartDate'].dt.date) / \\\n",
    "                                    np.timedelta64(1, 'M')).astype(int)\n",
    "dfPatients_dedup.shape\n",
    "# error is just a warning, need to figure out even though using loc"
   ]
  },
  {
   "cell_type": "code",
   "execution_count": 23,
   "metadata": {},
   "outputs": [
    {
     "data": {
      "text/html": [
       "<div>\n",
       "<style scoped>\n",
       "    .dataframe tbody tr th:only-of-type {\n",
       "        vertical-align: middle;\n",
       "    }\n",
       "\n",
       "    .dataframe tbody tr th {\n",
       "        vertical-align: top;\n",
       "    }\n",
       "\n",
       "    .dataframe thead th {\n",
       "        text-align: right;\n",
       "    }\n",
       "</style>\n",
       "<table border=\"1\" class=\"dataframe\">\n",
       "  <thead>\n",
       "    <tr style=\"text-align: right;\">\n",
       "      <th></th>\n",
       "      <th>PatientId</th>\n",
       "      <th>FRDPersonnelID</th>\n",
       "      <th>Shift</th>\n",
       "      <th>UnitId</th>\n",
       "      <th>FireStation</th>\n",
       "      <th>Battalion</th>\n",
       "      <th>PatientOutcome</th>\n",
       "      <th>PatientGender</th>\n",
       "      <th>DispatchTime</th>\n",
       "      <th>FRDPersonnelGender</th>\n",
       "      <th>FRDPersonnelStartDate</th>\n",
       "      <th>CrewMemberRoles</th>\n",
       "      <th>TenureMonths</th>\n",
       "    </tr>\n",
       "  </thead>\n",
       "  <tbody>\n",
       "    <tr>\n",
       "      <th>0</th>\n",
       "      <td>479838</td>\n",
       "      <td>6ED7C99E-9E01-E211-B5F5-78E7D18CFD3C</td>\n",
       "      <td>A - Shift</td>\n",
       "      <td>M404</td>\n",
       "      <td>4</td>\n",
       "      <td>401</td>\n",
       "      <td>Standby (No Services Performed)</td>\n",
       "      <td>NaN</td>\n",
       "      <td>2018-01-01 00:29:02</td>\n",
       "      <td>Male</td>\n",
       "      <td>1997-08-18</td>\n",
       "      <td>Primary Patient Caregiver-At Scene,Primary Pat...</td>\n",
       "      <td>244</td>\n",
       "    </tr>\n",
       "    <tr>\n",
       "      <th>1</th>\n",
       "      <td>479838</td>\n",
       "      <td>F39A55F0-C619-E511-80CA-001DD8B71D38</td>\n",
       "      <td>A - Shift</td>\n",
       "      <td>M404</td>\n",
       "      <td>4</td>\n",
       "      <td>401</td>\n",
       "      <td>Standby (No Services Performed)</td>\n",
       "      <td>NaN</td>\n",
       "      <td>2018-01-01 00:29:02</td>\n",
       "      <td>Male</td>\n",
       "      <td>2007-02-19</td>\n",
       "      <td>Driver-Transport,Other Patient Caregiver-At Scene</td>\n",
       "      <td>130</td>\n",
       "    </tr>\n",
       "    <tr>\n",
       "      <th>2</th>\n",
       "      <td>479838</td>\n",
       "      <td>D6D3C99E-9E01-E211-B5F5-78E7D18CFD3C</td>\n",
       "      <td>A - Shift</td>\n",
       "      <td>M404</td>\n",
       "      <td>4</td>\n",
       "      <td>401</td>\n",
       "      <td>Standby (No Services Performed)</td>\n",
       "      <td>NaN</td>\n",
       "      <td>2018-01-01 00:29:02</td>\n",
       "      <td>Male</td>\n",
       "      <td>2008-08-18</td>\n",
       "      <td>Intern/Student,Other Patient Caregiver-At Scen...</td>\n",
       "      <td>112</td>\n",
       "    </tr>\n",
       "    <tr>\n",
       "      <th>3</th>\n",
       "      <td>479839</td>\n",
       "      <td>71D4C99E-9E01-E211-B5F5-78E7D18CFD3C</td>\n",
       "      <td>A - Shift</td>\n",
       "      <td>M401</td>\n",
       "      <td>1</td>\n",
       "      <td>402</td>\n",
       "      <td>No Treatment/Transport Required</td>\n",
       "      <td>NaN</td>\n",
       "      <td>2018-01-01 00:40:54</td>\n",
       "      <td>Male</td>\n",
       "      <td>2011-10-24</td>\n",
       "      <td>Primary Patient Caregiver-At Scene,Primary Pat...</td>\n",
       "      <td>74</td>\n",
       "    </tr>\n",
       "    <tr>\n",
       "      <th>4</th>\n",
       "      <td>479839</td>\n",
       "      <td>F9D4C99E-9E01-E211-B5F5-78E7D18CFD3C</td>\n",
       "      <td>A - Shift</td>\n",
       "      <td>M401</td>\n",
       "      <td>1</td>\n",
       "      <td>402</td>\n",
       "      <td>No Treatment/Transport Required</td>\n",
       "      <td>NaN</td>\n",
       "      <td>2018-01-01 00:40:54</td>\n",
       "      <td>Male</td>\n",
       "      <td>2012-02-27</td>\n",
       "      <td>Driver-Response,Driver-Transport</td>\n",
       "      <td>70</td>\n",
       "    </tr>\n",
       "  </tbody>\n",
       "</table>\n",
       "</div>"
      ],
      "text/plain": [
       "   PatientId                        FRDPersonnelID      Shift UnitId  \\\n",
       "0     479838  6ED7C99E-9E01-E211-B5F5-78E7D18CFD3C  A - Shift   M404   \n",
       "1     479838  F39A55F0-C619-E511-80CA-001DD8B71D38  A - Shift   M404   \n",
       "2     479838  D6D3C99E-9E01-E211-B5F5-78E7D18CFD3C  A - Shift   M404   \n",
       "3     479839  71D4C99E-9E01-E211-B5F5-78E7D18CFD3C  A - Shift   M401   \n",
       "4     479839  F9D4C99E-9E01-E211-B5F5-78E7D18CFD3C  A - Shift   M401   \n",
       "\n",
       "   FireStation  Battalion                   PatientOutcome PatientGender  \\\n",
       "0            4        401  Standby (No Services Performed)           NaN   \n",
       "1            4        401  Standby (No Services Performed)           NaN   \n",
       "2            4        401  Standby (No Services Performed)           NaN   \n",
       "3            1        402  No Treatment/Transport Required           NaN   \n",
       "4            1        402  No Treatment/Transport Required           NaN   \n",
       "\n",
       "         DispatchTime FRDPersonnelGender FRDPersonnelStartDate  \\\n",
       "0 2018-01-01 00:29:02               Male            1997-08-18   \n",
       "1 2018-01-01 00:29:02               Male            2007-02-19   \n",
       "2 2018-01-01 00:29:02               Male            2008-08-18   \n",
       "3 2018-01-01 00:40:54               Male            2011-10-24   \n",
       "4 2018-01-01 00:40:54               Male            2012-02-27   \n",
       "\n",
       "                                     CrewMemberRoles  TenureMonths  \n",
       "0  Primary Patient Caregiver-At Scene,Primary Pat...           244  \n",
       "1  Driver-Transport,Other Patient Caregiver-At Scene           130  \n",
       "2  Intern/Student,Other Patient Caregiver-At Scen...           112  \n",
       "3  Primary Patient Caregiver-At Scene,Primary Pat...            74  \n",
       "4                   Driver-Response,Driver-Transport            70  "
      ]
     },
     "execution_count": 23,
     "metadata": {},
     "output_type": "execute_result"
    }
   ],
   "source": [
    "dfPatients_dedup.head()"
   ]
  },
  {
   "cell_type": "code",
   "execution_count": 24,
   "metadata": {},
   "outputs": [
    {
     "data": {
      "text/plain": [
       "C - Shift    183295\n",
       "B - Shift    181956\n",
       "A - Shift    178007\n",
       "Name: Shift, dtype: int64"
      ]
     },
     "execution_count": 24,
     "metadata": {},
     "output_type": "execute_result"
    }
   ],
   "source": [
    "dfPatients_dedup['Shift'].value_counts()"
   ]
  },
  {
   "cell_type": "markdown",
   "metadata": {},
   "source": [
    "### Add a factorized column starting with 1 as opposed to the normal python 0"
   ]
  },
  {
   "cell_type": "code",
   "execution_count": 25,
   "metadata": {},
   "outputs": [],
   "source": [
    "dfPatients_dedup.loc[:,'ShiftCode'] = pd.factorize(dfPatients_dedup['Shift'])[0] + 1"
   ]
  },
  {
   "cell_type": "code",
   "execution_count": 26,
   "metadata": {},
   "outputs": [
    {
     "data": {
      "text/html": [
       "<div>\n",
       "<style scoped>\n",
       "    .dataframe tbody tr th:only-of-type {\n",
       "        vertical-align: middle;\n",
       "    }\n",
       "\n",
       "    .dataframe tbody tr th {\n",
       "        vertical-align: top;\n",
       "    }\n",
       "\n",
       "    .dataframe thead th {\n",
       "        text-align: right;\n",
       "    }\n",
       "</style>\n",
       "<table border=\"1\" class=\"dataframe\">\n",
       "  <thead>\n",
       "    <tr style=\"text-align: right;\">\n",
       "      <th></th>\n",
       "      <th>PatientId</th>\n",
       "      <th>FRDPersonnelID</th>\n",
       "      <th>Shift</th>\n",
       "      <th>UnitId</th>\n",
       "      <th>FireStation</th>\n",
       "      <th>Battalion</th>\n",
       "      <th>PatientOutcome</th>\n",
       "      <th>PatientGender</th>\n",
       "      <th>DispatchTime</th>\n",
       "      <th>FRDPersonnelGender</th>\n",
       "      <th>FRDPersonnelStartDate</th>\n",
       "      <th>CrewMemberRoles</th>\n",
       "      <th>TenureMonths</th>\n",
       "      <th>ShiftCode</th>\n",
       "    </tr>\n",
       "  </thead>\n",
       "  <tbody>\n",
       "    <tr>\n",
       "      <th>0</th>\n",
       "      <td>479838</td>\n",
       "      <td>6ED7C99E-9E01-E211-B5F5-78E7D18CFD3C</td>\n",
       "      <td>A - Shift</td>\n",
       "      <td>M404</td>\n",
       "      <td>4</td>\n",
       "      <td>401</td>\n",
       "      <td>Standby (No Services Performed)</td>\n",
       "      <td>NaN</td>\n",
       "      <td>2018-01-01 00:29:02</td>\n",
       "      <td>Male</td>\n",
       "      <td>1997-08-18</td>\n",
       "      <td>Primary Patient Caregiver-At Scene,Primary Pat...</td>\n",
       "      <td>244</td>\n",
       "      <td>1</td>\n",
       "    </tr>\n",
       "    <tr>\n",
       "      <th>1</th>\n",
       "      <td>479838</td>\n",
       "      <td>F39A55F0-C619-E511-80CA-001DD8B71D38</td>\n",
       "      <td>A - Shift</td>\n",
       "      <td>M404</td>\n",
       "      <td>4</td>\n",
       "      <td>401</td>\n",
       "      <td>Standby (No Services Performed)</td>\n",
       "      <td>NaN</td>\n",
       "      <td>2018-01-01 00:29:02</td>\n",
       "      <td>Male</td>\n",
       "      <td>2007-02-19</td>\n",
       "      <td>Driver-Transport,Other Patient Caregiver-At Scene</td>\n",
       "      <td>130</td>\n",
       "      <td>1</td>\n",
       "    </tr>\n",
       "    <tr>\n",
       "      <th>2</th>\n",
       "      <td>479838</td>\n",
       "      <td>D6D3C99E-9E01-E211-B5F5-78E7D18CFD3C</td>\n",
       "      <td>A - Shift</td>\n",
       "      <td>M404</td>\n",
       "      <td>4</td>\n",
       "      <td>401</td>\n",
       "      <td>Standby (No Services Performed)</td>\n",
       "      <td>NaN</td>\n",
       "      <td>2018-01-01 00:29:02</td>\n",
       "      <td>Male</td>\n",
       "      <td>2008-08-18</td>\n",
       "      <td>Intern/Student,Other Patient Caregiver-At Scen...</td>\n",
       "      <td>112</td>\n",
       "      <td>1</td>\n",
       "    </tr>\n",
       "    <tr>\n",
       "      <th>3</th>\n",
       "      <td>479839</td>\n",
       "      <td>71D4C99E-9E01-E211-B5F5-78E7D18CFD3C</td>\n",
       "      <td>A - Shift</td>\n",
       "      <td>M401</td>\n",
       "      <td>1</td>\n",
       "      <td>402</td>\n",
       "      <td>No Treatment/Transport Required</td>\n",
       "      <td>NaN</td>\n",
       "      <td>2018-01-01 00:40:54</td>\n",
       "      <td>Male</td>\n",
       "      <td>2011-10-24</td>\n",
       "      <td>Primary Patient Caregiver-At Scene,Primary Pat...</td>\n",
       "      <td>74</td>\n",
       "      <td>1</td>\n",
       "    </tr>\n",
       "    <tr>\n",
       "      <th>4</th>\n",
       "      <td>479839</td>\n",
       "      <td>F9D4C99E-9E01-E211-B5F5-78E7D18CFD3C</td>\n",
       "      <td>A - Shift</td>\n",
       "      <td>M401</td>\n",
       "      <td>1</td>\n",
       "      <td>402</td>\n",
       "      <td>No Treatment/Transport Required</td>\n",
       "      <td>NaN</td>\n",
       "      <td>2018-01-01 00:40:54</td>\n",
       "      <td>Male</td>\n",
       "      <td>2012-02-27</td>\n",
       "      <td>Driver-Response,Driver-Transport</td>\n",
       "      <td>70</td>\n",
       "      <td>1</td>\n",
       "    </tr>\n",
       "  </tbody>\n",
       "</table>\n",
       "</div>"
      ],
      "text/plain": [
       "   PatientId                        FRDPersonnelID      Shift UnitId  \\\n",
       "0     479838  6ED7C99E-9E01-E211-B5F5-78E7D18CFD3C  A - Shift   M404   \n",
       "1     479838  F39A55F0-C619-E511-80CA-001DD8B71D38  A - Shift   M404   \n",
       "2     479838  D6D3C99E-9E01-E211-B5F5-78E7D18CFD3C  A - Shift   M404   \n",
       "3     479839  71D4C99E-9E01-E211-B5F5-78E7D18CFD3C  A - Shift   M401   \n",
       "4     479839  F9D4C99E-9E01-E211-B5F5-78E7D18CFD3C  A - Shift   M401   \n",
       "\n",
       "   FireStation  Battalion                   PatientOutcome PatientGender  \\\n",
       "0            4        401  Standby (No Services Performed)           NaN   \n",
       "1            4        401  Standby (No Services Performed)           NaN   \n",
       "2            4        401  Standby (No Services Performed)           NaN   \n",
       "3            1        402  No Treatment/Transport Required           NaN   \n",
       "4            1        402  No Treatment/Transport Required           NaN   \n",
       "\n",
       "         DispatchTime FRDPersonnelGender FRDPersonnelStartDate  \\\n",
       "0 2018-01-01 00:29:02               Male            1997-08-18   \n",
       "1 2018-01-01 00:29:02               Male            2007-02-19   \n",
       "2 2018-01-01 00:29:02               Male            2008-08-18   \n",
       "3 2018-01-01 00:40:54               Male            2011-10-24   \n",
       "4 2018-01-01 00:40:54               Male            2012-02-27   \n",
       "\n",
       "                                     CrewMemberRoles  TenureMonths  ShiftCode  \n",
       "0  Primary Patient Caregiver-At Scene,Primary Pat...           244          1  \n",
       "1  Driver-Transport,Other Patient Caregiver-At Scene           130          1  \n",
       "2  Intern/Student,Other Patient Caregiver-At Scen...           112          1  \n",
       "3  Primary Patient Caregiver-At Scene,Primary Pat...            74          1  \n",
       "4                   Driver-Response,Driver-Transport            70          1  "
      ]
     },
     "execution_count": 26,
     "metadata": {},
     "output_type": "execute_result"
    }
   ],
   "source": [
    "dfPatients_dedup.head()"
   ]
  },
  {
   "cell_type": "code",
   "execution_count": 27,
   "metadata": {},
   "outputs": [
    {
     "data": {
      "text/plain": [
       "3    183295\n",
       "2    181956\n",
       "1    178007\n",
       "Name: ShiftCode, dtype: int64"
      ]
     },
     "execution_count": 27,
     "metadata": {},
     "output_type": "execute_result"
    }
   ],
   "source": [
    "dfPatients_dedup['ShiftCode'].value_counts()"
   ]
  },
  {
   "cell_type": "markdown",
   "metadata": {},
   "source": [
    "### Use the \"One Hot Encoding\" method using get_dummies to create a row of 1,0 for each Shift A, B, and C"
   ]
  },
  {
   "cell_type": "code",
   "execution_count": 28,
   "metadata": {},
   "outputs": [],
   "source": [
    "dingdongs = pd.get_dummies(dfPatients_dedup['Shift'])"
   ]
  },
  {
   "cell_type": "code",
   "execution_count": 29,
   "metadata": {},
   "outputs": [
    {
     "data": {
      "text/html": [
       "<div>\n",
       "<style scoped>\n",
       "    .dataframe tbody tr th:only-of-type {\n",
       "        vertical-align: middle;\n",
       "    }\n",
       "\n",
       "    .dataframe tbody tr th {\n",
       "        vertical-align: top;\n",
       "    }\n",
       "\n",
       "    .dataframe thead th {\n",
       "        text-align: right;\n",
       "    }\n",
       "</style>\n",
       "<table border=\"1\" class=\"dataframe\">\n",
       "  <thead>\n",
       "    <tr style=\"text-align: right;\">\n",
       "      <th></th>\n",
       "      <th>A - Shift</th>\n",
       "      <th>B - Shift</th>\n",
       "      <th>C - Shift</th>\n",
       "    </tr>\n",
       "  </thead>\n",
       "  <tbody>\n",
       "    <tr>\n",
       "      <th>0</th>\n",
       "      <td>1</td>\n",
       "      <td>0</td>\n",
       "      <td>0</td>\n",
       "    </tr>\n",
       "    <tr>\n",
       "      <th>1</th>\n",
       "      <td>1</td>\n",
       "      <td>0</td>\n",
       "      <td>0</td>\n",
       "    </tr>\n",
       "    <tr>\n",
       "      <th>2</th>\n",
       "      <td>1</td>\n",
       "      <td>0</td>\n",
       "      <td>0</td>\n",
       "    </tr>\n",
       "    <tr>\n",
       "      <th>3</th>\n",
       "      <td>1</td>\n",
       "      <td>0</td>\n",
       "      <td>0</td>\n",
       "    </tr>\n",
       "    <tr>\n",
       "      <th>4</th>\n",
       "      <td>1</td>\n",
       "      <td>0</td>\n",
       "      <td>0</td>\n",
       "    </tr>\n",
       "  </tbody>\n",
       "</table>\n",
       "</div>"
      ],
      "text/plain": [
       "   A - Shift  B - Shift  C - Shift\n",
       "0          1          0          0\n",
       "1          1          0          0\n",
       "2          1          0          0\n",
       "3          1          0          0\n",
       "4          1          0          0"
      ]
     },
     "execution_count": 29,
     "metadata": {},
     "output_type": "execute_result"
    }
   ],
   "source": [
    "dingdongs.head()"
   ]
  },
  {
   "cell_type": "code",
   "execution_count": 30,
   "metadata": {},
   "outputs": [
    {
     "data": {
      "text/plain": [
       "A - Shift  B - Shift  C - Shift\n",
       "0          0          1            183295\n",
       "           1          0            181956\n",
       "1          0          0            178007\n",
       "dtype: int64"
      ]
     },
     "execution_count": 30,
     "metadata": {},
     "output_type": "execute_result"
    }
   ],
   "source": [
    "dingdongs.value_counts()"
   ]
  },
  {
   "cell_type": "code",
   "execution_count": 31,
   "metadata": {},
   "outputs": [],
   "source": [
    "# Rename columns\n",
    "dingdongs.rename(columns={'A - Shift': 'Shift_A', 'B - Shift': 'Shift_B', 'C - Shift': 'Shift_C'}, inplace=True)"
   ]
  },
  {
   "cell_type": "code",
   "execution_count": 32,
   "metadata": {},
   "outputs": [
    {
     "data": {
      "text/plain": [
       "Shift_A  Shift_B  Shift_C\n",
       "0        0        1          183295\n",
       "         1        0          181956\n",
       "1        0        0          178007\n",
       "dtype: int64"
      ]
     },
     "execution_count": 32,
     "metadata": {},
     "output_type": "execute_result"
    }
   ],
   "source": [
    "dingdongs.value_counts()"
   ]
  },
  {
   "cell_type": "markdown",
   "metadata": {},
   "source": [
    "### Concatenate the Duplicated Patients and One Hot Encoding Shift dataframes together"
   ]
  },
  {
   "cell_type": "code",
   "execution_count": 33,
   "metadata": {},
   "outputs": [],
   "source": [
    "dfPatients_dedup = pd.concat([dfPatients_dedup, dingdongs], axis=1)"
   ]
  },
  {
   "cell_type": "code",
   "execution_count": 34,
   "metadata": {},
   "outputs": [
    {
     "data": {
      "text/html": [
       "<div>\n",
       "<style scoped>\n",
       "    .dataframe tbody tr th:only-of-type {\n",
       "        vertical-align: middle;\n",
       "    }\n",
       "\n",
       "    .dataframe tbody tr th {\n",
       "        vertical-align: top;\n",
       "    }\n",
       "\n",
       "    .dataframe thead th {\n",
       "        text-align: right;\n",
       "    }\n",
       "</style>\n",
       "<table border=\"1\" class=\"dataframe\">\n",
       "  <thead>\n",
       "    <tr style=\"text-align: right;\">\n",
       "      <th></th>\n",
       "      <th>PatientId</th>\n",
       "      <th>FRDPersonnelID</th>\n",
       "      <th>Shift</th>\n",
       "      <th>UnitId</th>\n",
       "      <th>FireStation</th>\n",
       "      <th>Battalion</th>\n",
       "      <th>PatientOutcome</th>\n",
       "      <th>PatientGender</th>\n",
       "      <th>DispatchTime</th>\n",
       "      <th>FRDPersonnelGender</th>\n",
       "      <th>FRDPersonnelStartDate</th>\n",
       "      <th>CrewMemberRoles</th>\n",
       "      <th>TenureMonths</th>\n",
       "      <th>ShiftCode</th>\n",
       "      <th>Shift_A</th>\n",
       "      <th>Shift_B</th>\n",
       "      <th>Shift_C</th>\n",
       "    </tr>\n",
       "  </thead>\n",
       "  <tbody>\n",
       "    <tr>\n",
       "      <th>0</th>\n",
       "      <td>479838</td>\n",
       "      <td>6ED7C99E-9E01-E211-B5F5-78E7D18CFD3C</td>\n",
       "      <td>A - Shift</td>\n",
       "      <td>M404</td>\n",
       "      <td>4</td>\n",
       "      <td>401</td>\n",
       "      <td>Standby (No Services Performed)</td>\n",
       "      <td>NaN</td>\n",
       "      <td>2018-01-01 00:29:02</td>\n",
       "      <td>Male</td>\n",
       "      <td>1997-08-18</td>\n",
       "      <td>Primary Patient Caregiver-At Scene,Primary Pat...</td>\n",
       "      <td>244</td>\n",
       "      <td>1</td>\n",
       "      <td>1</td>\n",
       "      <td>0</td>\n",
       "      <td>0</td>\n",
       "    </tr>\n",
       "    <tr>\n",
       "      <th>1</th>\n",
       "      <td>479838</td>\n",
       "      <td>F39A55F0-C619-E511-80CA-001DD8B71D38</td>\n",
       "      <td>A - Shift</td>\n",
       "      <td>M404</td>\n",
       "      <td>4</td>\n",
       "      <td>401</td>\n",
       "      <td>Standby (No Services Performed)</td>\n",
       "      <td>NaN</td>\n",
       "      <td>2018-01-01 00:29:02</td>\n",
       "      <td>Male</td>\n",
       "      <td>2007-02-19</td>\n",
       "      <td>Driver-Transport,Other Patient Caregiver-At Scene</td>\n",
       "      <td>130</td>\n",
       "      <td>1</td>\n",
       "      <td>1</td>\n",
       "      <td>0</td>\n",
       "      <td>0</td>\n",
       "    </tr>\n",
       "    <tr>\n",
       "      <th>2</th>\n",
       "      <td>479838</td>\n",
       "      <td>D6D3C99E-9E01-E211-B5F5-78E7D18CFD3C</td>\n",
       "      <td>A - Shift</td>\n",
       "      <td>M404</td>\n",
       "      <td>4</td>\n",
       "      <td>401</td>\n",
       "      <td>Standby (No Services Performed)</td>\n",
       "      <td>NaN</td>\n",
       "      <td>2018-01-01 00:29:02</td>\n",
       "      <td>Male</td>\n",
       "      <td>2008-08-18</td>\n",
       "      <td>Intern/Student,Other Patient Caregiver-At Scen...</td>\n",
       "      <td>112</td>\n",
       "      <td>1</td>\n",
       "      <td>1</td>\n",
       "      <td>0</td>\n",
       "      <td>0</td>\n",
       "    </tr>\n",
       "    <tr>\n",
       "      <th>3</th>\n",
       "      <td>479839</td>\n",
       "      <td>71D4C99E-9E01-E211-B5F5-78E7D18CFD3C</td>\n",
       "      <td>A - Shift</td>\n",
       "      <td>M401</td>\n",
       "      <td>1</td>\n",
       "      <td>402</td>\n",
       "      <td>No Treatment/Transport Required</td>\n",
       "      <td>NaN</td>\n",
       "      <td>2018-01-01 00:40:54</td>\n",
       "      <td>Male</td>\n",
       "      <td>2011-10-24</td>\n",
       "      <td>Primary Patient Caregiver-At Scene,Primary Pat...</td>\n",
       "      <td>74</td>\n",
       "      <td>1</td>\n",
       "      <td>1</td>\n",
       "      <td>0</td>\n",
       "      <td>0</td>\n",
       "    </tr>\n",
       "    <tr>\n",
       "      <th>4</th>\n",
       "      <td>479839</td>\n",
       "      <td>F9D4C99E-9E01-E211-B5F5-78E7D18CFD3C</td>\n",
       "      <td>A - Shift</td>\n",
       "      <td>M401</td>\n",
       "      <td>1</td>\n",
       "      <td>402</td>\n",
       "      <td>No Treatment/Transport Required</td>\n",
       "      <td>NaN</td>\n",
       "      <td>2018-01-01 00:40:54</td>\n",
       "      <td>Male</td>\n",
       "      <td>2012-02-27</td>\n",
       "      <td>Driver-Response,Driver-Transport</td>\n",
       "      <td>70</td>\n",
       "      <td>1</td>\n",
       "      <td>1</td>\n",
       "      <td>0</td>\n",
       "      <td>0</td>\n",
       "    </tr>\n",
       "  </tbody>\n",
       "</table>\n",
       "</div>"
      ],
      "text/plain": [
       "   PatientId                        FRDPersonnelID      Shift UnitId  \\\n",
       "0     479838  6ED7C99E-9E01-E211-B5F5-78E7D18CFD3C  A - Shift   M404   \n",
       "1     479838  F39A55F0-C619-E511-80CA-001DD8B71D38  A - Shift   M404   \n",
       "2     479838  D6D3C99E-9E01-E211-B5F5-78E7D18CFD3C  A - Shift   M404   \n",
       "3     479839  71D4C99E-9E01-E211-B5F5-78E7D18CFD3C  A - Shift   M401   \n",
       "4     479839  F9D4C99E-9E01-E211-B5F5-78E7D18CFD3C  A - Shift   M401   \n",
       "\n",
       "   FireStation  Battalion                   PatientOutcome PatientGender  \\\n",
       "0            4        401  Standby (No Services Performed)           NaN   \n",
       "1            4        401  Standby (No Services Performed)           NaN   \n",
       "2            4        401  Standby (No Services Performed)           NaN   \n",
       "3            1        402  No Treatment/Transport Required           NaN   \n",
       "4            1        402  No Treatment/Transport Required           NaN   \n",
       "\n",
       "         DispatchTime FRDPersonnelGender FRDPersonnelStartDate  \\\n",
       "0 2018-01-01 00:29:02               Male            1997-08-18   \n",
       "1 2018-01-01 00:29:02               Male            2007-02-19   \n",
       "2 2018-01-01 00:29:02               Male            2008-08-18   \n",
       "3 2018-01-01 00:40:54               Male            2011-10-24   \n",
       "4 2018-01-01 00:40:54               Male            2012-02-27   \n",
       "\n",
       "                                     CrewMemberRoles  TenureMonths  ShiftCode  \\\n",
       "0  Primary Patient Caregiver-At Scene,Primary Pat...           244          1   \n",
       "1  Driver-Transport,Other Patient Caregiver-At Scene           130          1   \n",
       "2  Intern/Student,Other Patient Caregiver-At Scen...           112          1   \n",
       "3  Primary Patient Caregiver-At Scene,Primary Pat...            74          1   \n",
       "4                   Driver-Response,Driver-Transport            70          1   \n",
       "\n",
       "   Shift_A  Shift_B  Shift_C  \n",
       "0        1        0        0  \n",
       "1        1        0        0  \n",
       "2        1        0        0  \n",
       "3        1        0        0  \n",
       "4        1        0        0  "
      ]
     },
     "execution_count": 34,
     "metadata": {},
     "output_type": "execute_result"
    }
   ],
   "source": [
    "dfPatients_dedup.head()"
   ]
  },
  {
   "cell_type": "code",
   "execution_count": 35,
   "metadata": {},
   "outputs": [
    {
     "data": {
      "text/plain": [
       "M422     18653\n",
       "M430     18102\n",
       "M405     15942\n",
       "M404     15896\n",
       "M425     15382\n",
       "         ...  \n",
       "BC405        2\n",
       "LA436        2\n",
       "LA437        2\n",
       "K441         1\n",
       "BC402        1\n",
       "Name: UnitId, Length: 167, dtype: int64"
      ]
     },
     "execution_count": 35,
     "metadata": {},
     "output_type": "execute_result"
    }
   ],
   "source": [
    "dfPatients_dedup['UnitId'].value_counts()"
   ]
  },
  {
   "cell_type": "markdown",
   "metadata": {},
   "source": [
    "### Add a new factorized column called UnitIdCode made from UnitId as to not lose the original column"
   ]
  },
  {
   "cell_type": "code",
   "execution_count": 36,
   "metadata": {},
   "outputs": [],
   "source": [
    "dfPatients_dedup['UnitIdCode'] = pd.factorize(dfPatients_dedup['UnitId'])[0] + 1"
   ]
  },
  {
   "cell_type": "code",
   "execution_count": 37,
   "metadata": {},
   "outputs": [
    {
     "data": {
      "text/plain": [
       "26     18653\n",
       "22     18102\n",
       "24     15942\n",
       "1      15896\n",
       "37     15382\n",
       "       ...  \n",
       "148        2\n",
       "145        2\n",
       "143        2\n",
       "146        1\n",
       "162        1\n",
       "Name: UnitIdCode, Length: 167, dtype: int64"
      ]
     },
     "execution_count": 37,
     "metadata": {},
     "output_type": "execute_result"
    }
   ],
   "source": [
    "dfPatients_dedup['UnitIdCode'].value_counts()"
   ]
  },
  {
   "cell_type": "code",
   "execution_count": 38,
   "metadata": {},
   "outputs": [
    {
     "data": {
      "text/plain": [
       "Treated & Transported                        356196\n",
       "Patient Refusal  (AMA)                        46598\n",
       "No Treatment/Transport Required               44876\n",
       "Canceled (Prior to Arrival)                   38674\n",
       "EMS Assist (Other Agency)                     13693\n",
       "Canceled (On Scene, No Patient Contact)       12194\n",
       "No Patient Found                              10499\n",
       "Standby (No Services Performed)                8659\n",
       "Patient Dead at Scene (No EMS CPR)             4857\n",
       "Standby (Operational Support Provided)         3238\n",
       "Treated, Transferred Care                      2470\n",
       "Patient Dead at Scene (EMS CPR Attempted)      1302\n",
       "Name: PatientOutcome, dtype: int64"
      ]
     },
     "execution_count": 38,
     "metadata": {},
     "output_type": "execute_result"
    }
   ],
   "source": [
    "# List out values and counts for Patient Outcome Codes\n",
    "dfPatients_dedup['PatientOutcome'].value_counts()"
   ]
  },
  {
   "cell_type": "markdown",
   "metadata": {},
   "source": [
    "### Add a new factorized column called PatientOutcomeCode made from PatientOutcome as to not lose the original column data"
   ]
  },
  {
   "cell_type": "code",
   "execution_count": 39,
   "metadata": {},
   "outputs": [],
   "source": [
    "dfPatients_dedup['PatientOutcomeCode'] = pd.factorize(dfPatients_dedup['PatientOutcome'])[0] + 1"
   ]
  },
  {
   "cell_type": "code",
   "execution_count": 40,
   "metadata": {},
   "outputs": [
    {
     "data": {
      "text/plain": [
       "4     356196\n",
       "3      46598\n",
       "2      44876\n",
       "7      38674\n",
       "11     13693\n",
       "5      12194\n",
       "6      10499\n",
       "1       8659\n",
       "9       4857\n",
       "8       3238\n",
       "10      2470\n",
       "12      1302\n",
       "0          2\n",
       "Name: PatientOutcomeCode, dtype: int64"
      ]
     },
     "execution_count": 40,
     "metadata": {},
     "output_type": "execute_result"
    }
   ],
   "source": [
    "dfPatients_dedup['PatientOutcomeCode'].value_counts()"
   ]
  },
  {
   "cell_type": "code",
   "execution_count": 41,
   "metadata": {},
   "outputs": [
    {
     "data": {
      "text/plain": [
       "Female                           210367\n",
       "Male                             201437\n",
       "Unknown (Unable to Determine)       177\n",
       "Name: PatientGender, dtype: int64"
      ]
     },
     "execution_count": 41,
     "metadata": {},
     "output_type": "execute_result"
    }
   ],
   "source": [
    "dfPatients_dedup['PatientGender'].value_counts()"
   ]
  },
  {
   "cell_type": "code",
   "execution_count": 42,
   "metadata": {},
   "outputs": [
    {
     "data": {
      "text/plain": [
       "2    210367\n",
       "1    201437\n",
       "0    131277\n",
       "3       177\n",
       "Name: PatientGenderCode, dtype: int64"
      ]
     },
     "execution_count": 42,
     "metadata": {},
     "output_type": "execute_result"
    }
   ],
   "source": [
    "## McRae added to include PatientGender encoding\n",
    "dfPatients_dedup['PatientGenderCode'] = pd.factorize(dfPatients_dedup['PatientGender'])[0] + 1\n",
    "dfPatients_dedup['PatientGenderCode'].value_counts()"
   ]
  },
  {
   "cell_type": "code",
   "execution_count": 43,
   "metadata": {},
   "outputs": [
    {
     "data": {
      "text/html": [
       "<div>\n",
       "<style scoped>\n",
       "    .dataframe tbody tr th:only-of-type {\n",
       "        vertical-align: middle;\n",
       "    }\n",
       "\n",
       "    .dataframe tbody tr th {\n",
       "        vertical-align: top;\n",
       "    }\n",
       "\n",
       "    .dataframe thead th {\n",
       "        text-align: right;\n",
       "    }\n",
       "</style>\n",
       "<table border=\"1\" class=\"dataframe\">\n",
       "  <thead>\n",
       "    <tr style=\"text-align: right;\">\n",
       "      <th></th>\n",
       "      <th>PatientId</th>\n",
       "      <th>FRDPersonnelID</th>\n",
       "      <th>Shift</th>\n",
       "      <th>UnitId</th>\n",
       "      <th>FireStation</th>\n",
       "      <th>Battalion</th>\n",
       "      <th>PatientOutcome</th>\n",
       "      <th>PatientGender</th>\n",
       "      <th>DispatchTime</th>\n",
       "      <th>FRDPersonnelGender</th>\n",
       "      <th>FRDPersonnelStartDate</th>\n",
       "      <th>CrewMemberRoles</th>\n",
       "      <th>TenureMonths</th>\n",
       "      <th>ShiftCode</th>\n",
       "      <th>Shift_A</th>\n",
       "      <th>Shift_B</th>\n",
       "      <th>Shift_C</th>\n",
       "      <th>UnitIdCode</th>\n",
       "      <th>PatientOutcomeCode</th>\n",
       "      <th>PatientGenderCode</th>\n",
       "    </tr>\n",
       "  </thead>\n",
       "  <tbody>\n",
       "    <tr>\n",
       "      <th>0</th>\n",
       "      <td>479838</td>\n",
       "      <td>6ED7C99E-9E01-E211-B5F5-78E7D18CFD3C</td>\n",
       "      <td>A - Shift</td>\n",
       "      <td>M404</td>\n",
       "      <td>4</td>\n",
       "      <td>401</td>\n",
       "      <td>Standby (No Services Performed)</td>\n",
       "      <td>NaN</td>\n",
       "      <td>2018-01-01 00:29:02</td>\n",
       "      <td>Male</td>\n",
       "      <td>1997-08-18</td>\n",
       "      <td>Primary Patient Caregiver-At Scene,Primary Pat...</td>\n",
       "      <td>244</td>\n",
       "      <td>1</td>\n",
       "      <td>1</td>\n",
       "      <td>0</td>\n",
       "      <td>0</td>\n",
       "      <td>1</td>\n",
       "      <td>1</td>\n",
       "      <td>0</td>\n",
       "    </tr>\n",
       "    <tr>\n",
       "      <th>1</th>\n",
       "      <td>479838</td>\n",
       "      <td>F39A55F0-C619-E511-80CA-001DD8B71D38</td>\n",
       "      <td>A - Shift</td>\n",
       "      <td>M404</td>\n",
       "      <td>4</td>\n",
       "      <td>401</td>\n",
       "      <td>Standby (No Services Performed)</td>\n",
       "      <td>NaN</td>\n",
       "      <td>2018-01-01 00:29:02</td>\n",
       "      <td>Male</td>\n",
       "      <td>2007-02-19</td>\n",
       "      <td>Driver-Transport,Other Patient Caregiver-At Scene</td>\n",
       "      <td>130</td>\n",
       "      <td>1</td>\n",
       "      <td>1</td>\n",
       "      <td>0</td>\n",
       "      <td>0</td>\n",
       "      <td>1</td>\n",
       "      <td>1</td>\n",
       "      <td>0</td>\n",
       "    </tr>\n",
       "    <tr>\n",
       "      <th>2</th>\n",
       "      <td>479838</td>\n",
       "      <td>D6D3C99E-9E01-E211-B5F5-78E7D18CFD3C</td>\n",
       "      <td>A - Shift</td>\n",
       "      <td>M404</td>\n",
       "      <td>4</td>\n",
       "      <td>401</td>\n",
       "      <td>Standby (No Services Performed)</td>\n",
       "      <td>NaN</td>\n",
       "      <td>2018-01-01 00:29:02</td>\n",
       "      <td>Male</td>\n",
       "      <td>2008-08-18</td>\n",
       "      <td>Intern/Student,Other Patient Caregiver-At Scen...</td>\n",
       "      <td>112</td>\n",
       "      <td>1</td>\n",
       "      <td>1</td>\n",
       "      <td>0</td>\n",
       "      <td>0</td>\n",
       "      <td>1</td>\n",
       "      <td>1</td>\n",
       "      <td>0</td>\n",
       "    </tr>\n",
       "    <tr>\n",
       "      <th>3</th>\n",
       "      <td>479839</td>\n",
       "      <td>71D4C99E-9E01-E211-B5F5-78E7D18CFD3C</td>\n",
       "      <td>A - Shift</td>\n",
       "      <td>M401</td>\n",
       "      <td>1</td>\n",
       "      <td>402</td>\n",
       "      <td>No Treatment/Transport Required</td>\n",
       "      <td>NaN</td>\n",
       "      <td>2018-01-01 00:40:54</td>\n",
       "      <td>Male</td>\n",
       "      <td>2011-10-24</td>\n",
       "      <td>Primary Patient Caregiver-At Scene,Primary Pat...</td>\n",
       "      <td>74</td>\n",
       "      <td>1</td>\n",
       "      <td>1</td>\n",
       "      <td>0</td>\n",
       "      <td>0</td>\n",
       "      <td>2</td>\n",
       "      <td>2</td>\n",
       "      <td>0</td>\n",
       "    </tr>\n",
       "    <tr>\n",
       "      <th>4</th>\n",
       "      <td>479839</td>\n",
       "      <td>F9D4C99E-9E01-E211-B5F5-78E7D18CFD3C</td>\n",
       "      <td>A - Shift</td>\n",
       "      <td>M401</td>\n",
       "      <td>1</td>\n",
       "      <td>402</td>\n",
       "      <td>No Treatment/Transport Required</td>\n",
       "      <td>NaN</td>\n",
       "      <td>2018-01-01 00:40:54</td>\n",
       "      <td>Male</td>\n",
       "      <td>2012-02-27</td>\n",
       "      <td>Driver-Response,Driver-Transport</td>\n",
       "      <td>70</td>\n",
       "      <td>1</td>\n",
       "      <td>1</td>\n",
       "      <td>0</td>\n",
       "      <td>0</td>\n",
       "      <td>2</td>\n",
       "      <td>2</td>\n",
       "      <td>0</td>\n",
       "    </tr>\n",
       "  </tbody>\n",
       "</table>\n",
       "</div>"
      ],
      "text/plain": [
       "   PatientId                        FRDPersonnelID      Shift UnitId  \\\n",
       "0     479838  6ED7C99E-9E01-E211-B5F5-78E7D18CFD3C  A - Shift   M404   \n",
       "1     479838  F39A55F0-C619-E511-80CA-001DD8B71D38  A - Shift   M404   \n",
       "2     479838  D6D3C99E-9E01-E211-B5F5-78E7D18CFD3C  A - Shift   M404   \n",
       "3     479839  71D4C99E-9E01-E211-B5F5-78E7D18CFD3C  A - Shift   M401   \n",
       "4     479839  F9D4C99E-9E01-E211-B5F5-78E7D18CFD3C  A - Shift   M401   \n",
       "\n",
       "   FireStation  Battalion                   PatientOutcome PatientGender  \\\n",
       "0            4        401  Standby (No Services Performed)           NaN   \n",
       "1            4        401  Standby (No Services Performed)           NaN   \n",
       "2            4        401  Standby (No Services Performed)           NaN   \n",
       "3            1        402  No Treatment/Transport Required           NaN   \n",
       "4            1        402  No Treatment/Transport Required           NaN   \n",
       "\n",
       "         DispatchTime FRDPersonnelGender FRDPersonnelStartDate  \\\n",
       "0 2018-01-01 00:29:02               Male            1997-08-18   \n",
       "1 2018-01-01 00:29:02               Male            2007-02-19   \n",
       "2 2018-01-01 00:29:02               Male            2008-08-18   \n",
       "3 2018-01-01 00:40:54               Male            2011-10-24   \n",
       "4 2018-01-01 00:40:54               Male            2012-02-27   \n",
       "\n",
       "                                     CrewMemberRoles  TenureMonths  ShiftCode  \\\n",
       "0  Primary Patient Caregiver-At Scene,Primary Pat...           244          1   \n",
       "1  Driver-Transport,Other Patient Caregiver-At Scene           130          1   \n",
       "2  Intern/Student,Other Patient Caregiver-At Scen...           112          1   \n",
       "3  Primary Patient Caregiver-At Scene,Primary Pat...            74          1   \n",
       "4                   Driver-Response,Driver-Transport            70          1   \n",
       "\n",
       "   Shift_A  Shift_B  Shift_C  UnitIdCode  PatientOutcomeCode  \\\n",
       "0        1        0        0           1                   1   \n",
       "1        1        0        0           1                   1   \n",
       "2        1        0        0           1                   1   \n",
       "3        1        0        0           2                   2   \n",
       "4        1        0        0           2                   2   \n",
       "\n",
       "   PatientGenderCode  \n",
       "0                  0  \n",
       "1                  0  \n",
       "2                  0  \n",
       "3                  0  \n",
       "4                  0  "
      ]
     },
     "execution_count": 43,
     "metadata": {},
     "output_type": "execute_result"
    }
   ],
   "source": [
    "dfPatients_dedup.head()"
   ]
  },
  {
   "cell_type": "code",
   "execution_count": 44,
   "metadata": {},
   "outputs": [
    {
     "data": {
      "text/plain": [
       "Male      455693\n",
       "Female     87565\n",
       "Name: FRDPersonnelGender, dtype: int64"
      ]
     },
     "execution_count": 44,
     "metadata": {},
     "output_type": "execute_result"
    }
   ],
   "source": [
    "dfPatients_dedup['FRDPersonnelGender'].value_counts()"
   ]
  },
  {
   "cell_type": "markdown",
   "metadata": {},
   "source": [
    "### Add a new factorized column called ProviderGenderCode made from ProviderGender as to not lose the original column"
   ]
  },
  {
   "cell_type": "code",
   "execution_count": 45,
   "metadata": {},
   "outputs": [],
   "source": [
    "dfPatients_dedup['ProviderGenderCode'] = pd.factorize(dfPatients_dedup['FRDPersonnelGender'])[0] + 1"
   ]
  },
  {
   "cell_type": "code",
   "execution_count": 46,
   "metadata": {},
   "outputs": [
    {
     "data": {
      "text/plain": [
       "1    455693\n",
       "2     87565\n",
       "Name: ProviderGenderCode, dtype: int64"
      ]
     },
     "execution_count": 46,
     "metadata": {},
     "output_type": "execute_result"
    }
   ],
   "source": [
    "dfPatients_dedup['ProviderGenderCode'].value_counts()"
   ]
  },
  {
   "cell_type": "code",
   "execution_count": 47,
   "metadata": {},
   "outputs": [
    {
     "data": {
      "text/html": [
       "<div>\n",
       "<style scoped>\n",
       "    .dataframe tbody tr th:only-of-type {\n",
       "        vertical-align: middle;\n",
       "    }\n",
       "\n",
       "    .dataframe tbody tr th {\n",
       "        vertical-align: top;\n",
       "    }\n",
       "\n",
       "    .dataframe thead th {\n",
       "        text-align: right;\n",
       "    }\n",
       "</style>\n",
       "<table border=\"1\" class=\"dataframe\">\n",
       "  <thead>\n",
       "    <tr style=\"text-align: right;\">\n",
       "      <th></th>\n",
       "      <th>PatientId</th>\n",
       "      <th>FRDPersonnelID</th>\n",
       "      <th>Shift</th>\n",
       "      <th>UnitId</th>\n",
       "      <th>FireStation</th>\n",
       "      <th>Battalion</th>\n",
       "      <th>PatientOutcome</th>\n",
       "      <th>PatientGender</th>\n",
       "      <th>DispatchTime</th>\n",
       "      <th>FRDPersonnelGender</th>\n",
       "      <th>...</th>\n",
       "      <th>CrewMemberRoles</th>\n",
       "      <th>TenureMonths</th>\n",
       "      <th>ShiftCode</th>\n",
       "      <th>Shift_A</th>\n",
       "      <th>Shift_B</th>\n",
       "      <th>Shift_C</th>\n",
       "      <th>UnitIdCode</th>\n",
       "      <th>PatientOutcomeCode</th>\n",
       "      <th>PatientGenderCode</th>\n",
       "      <th>ProviderGenderCode</th>\n",
       "    </tr>\n",
       "  </thead>\n",
       "  <tbody>\n",
       "    <tr>\n",
       "      <th>0</th>\n",
       "      <td>479838</td>\n",
       "      <td>6ED7C99E-9E01-E211-B5F5-78E7D18CFD3C</td>\n",
       "      <td>A - Shift</td>\n",
       "      <td>M404</td>\n",
       "      <td>4</td>\n",
       "      <td>401</td>\n",
       "      <td>Standby (No Services Performed)</td>\n",
       "      <td>NaN</td>\n",
       "      <td>2018-01-01 00:29:02</td>\n",
       "      <td>Male</td>\n",
       "      <td>...</td>\n",
       "      <td>Primary Patient Caregiver-At Scene,Primary Pat...</td>\n",
       "      <td>244</td>\n",
       "      <td>1</td>\n",
       "      <td>1</td>\n",
       "      <td>0</td>\n",
       "      <td>0</td>\n",
       "      <td>1</td>\n",
       "      <td>1</td>\n",
       "      <td>0</td>\n",
       "      <td>1</td>\n",
       "    </tr>\n",
       "    <tr>\n",
       "      <th>1</th>\n",
       "      <td>479838</td>\n",
       "      <td>F39A55F0-C619-E511-80CA-001DD8B71D38</td>\n",
       "      <td>A - Shift</td>\n",
       "      <td>M404</td>\n",
       "      <td>4</td>\n",
       "      <td>401</td>\n",
       "      <td>Standby (No Services Performed)</td>\n",
       "      <td>NaN</td>\n",
       "      <td>2018-01-01 00:29:02</td>\n",
       "      <td>Male</td>\n",
       "      <td>...</td>\n",
       "      <td>Driver-Transport,Other Patient Caregiver-At Scene</td>\n",
       "      <td>130</td>\n",
       "      <td>1</td>\n",
       "      <td>1</td>\n",
       "      <td>0</td>\n",
       "      <td>0</td>\n",
       "      <td>1</td>\n",
       "      <td>1</td>\n",
       "      <td>0</td>\n",
       "      <td>1</td>\n",
       "    </tr>\n",
       "    <tr>\n",
       "      <th>2</th>\n",
       "      <td>479838</td>\n",
       "      <td>D6D3C99E-9E01-E211-B5F5-78E7D18CFD3C</td>\n",
       "      <td>A - Shift</td>\n",
       "      <td>M404</td>\n",
       "      <td>4</td>\n",
       "      <td>401</td>\n",
       "      <td>Standby (No Services Performed)</td>\n",
       "      <td>NaN</td>\n",
       "      <td>2018-01-01 00:29:02</td>\n",
       "      <td>Male</td>\n",
       "      <td>...</td>\n",
       "      <td>Intern/Student,Other Patient Caregiver-At Scen...</td>\n",
       "      <td>112</td>\n",
       "      <td>1</td>\n",
       "      <td>1</td>\n",
       "      <td>0</td>\n",
       "      <td>0</td>\n",
       "      <td>1</td>\n",
       "      <td>1</td>\n",
       "      <td>0</td>\n",
       "      <td>1</td>\n",
       "    </tr>\n",
       "    <tr>\n",
       "      <th>3</th>\n",
       "      <td>479839</td>\n",
       "      <td>71D4C99E-9E01-E211-B5F5-78E7D18CFD3C</td>\n",
       "      <td>A - Shift</td>\n",
       "      <td>M401</td>\n",
       "      <td>1</td>\n",
       "      <td>402</td>\n",
       "      <td>No Treatment/Transport Required</td>\n",
       "      <td>NaN</td>\n",
       "      <td>2018-01-01 00:40:54</td>\n",
       "      <td>Male</td>\n",
       "      <td>...</td>\n",
       "      <td>Primary Patient Caregiver-At Scene,Primary Pat...</td>\n",
       "      <td>74</td>\n",
       "      <td>1</td>\n",
       "      <td>1</td>\n",
       "      <td>0</td>\n",
       "      <td>0</td>\n",
       "      <td>2</td>\n",
       "      <td>2</td>\n",
       "      <td>0</td>\n",
       "      <td>1</td>\n",
       "    </tr>\n",
       "    <tr>\n",
       "      <th>4</th>\n",
       "      <td>479839</td>\n",
       "      <td>F9D4C99E-9E01-E211-B5F5-78E7D18CFD3C</td>\n",
       "      <td>A - Shift</td>\n",
       "      <td>M401</td>\n",
       "      <td>1</td>\n",
       "      <td>402</td>\n",
       "      <td>No Treatment/Transport Required</td>\n",
       "      <td>NaN</td>\n",
       "      <td>2018-01-01 00:40:54</td>\n",
       "      <td>Male</td>\n",
       "      <td>...</td>\n",
       "      <td>Driver-Response,Driver-Transport</td>\n",
       "      <td>70</td>\n",
       "      <td>1</td>\n",
       "      <td>1</td>\n",
       "      <td>0</td>\n",
       "      <td>0</td>\n",
       "      <td>2</td>\n",
       "      <td>2</td>\n",
       "      <td>0</td>\n",
       "      <td>1</td>\n",
       "    </tr>\n",
       "  </tbody>\n",
       "</table>\n",
       "<p>5 rows × 21 columns</p>\n",
       "</div>"
      ],
      "text/plain": [
       "   PatientId                        FRDPersonnelID      Shift UnitId  \\\n",
       "0     479838  6ED7C99E-9E01-E211-B5F5-78E7D18CFD3C  A - Shift   M404   \n",
       "1     479838  F39A55F0-C619-E511-80CA-001DD8B71D38  A - Shift   M404   \n",
       "2     479838  D6D3C99E-9E01-E211-B5F5-78E7D18CFD3C  A - Shift   M404   \n",
       "3     479839  71D4C99E-9E01-E211-B5F5-78E7D18CFD3C  A - Shift   M401   \n",
       "4     479839  F9D4C99E-9E01-E211-B5F5-78E7D18CFD3C  A - Shift   M401   \n",
       "\n",
       "   FireStation  Battalion                   PatientOutcome PatientGender  \\\n",
       "0            4        401  Standby (No Services Performed)           NaN   \n",
       "1            4        401  Standby (No Services Performed)           NaN   \n",
       "2            4        401  Standby (No Services Performed)           NaN   \n",
       "3            1        402  No Treatment/Transport Required           NaN   \n",
       "4            1        402  No Treatment/Transport Required           NaN   \n",
       "\n",
       "         DispatchTime FRDPersonnelGender  ...  \\\n",
       "0 2018-01-01 00:29:02               Male  ...   \n",
       "1 2018-01-01 00:29:02               Male  ...   \n",
       "2 2018-01-01 00:29:02               Male  ...   \n",
       "3 2018-01-01 00:40:54               Male  ...   \n",
       "4 2018-01-01 00:40:54               Male  ...   \n",
       "\n",
       "                                     CrewMemberRoles TenureMonths  ShiftCode  \\\n",
       "0  Primary Patient Caregiver-At Scene,Primary Pat...          244          1   \n",
       "1  Driver-Transport,Other Patient Caregiver-At Scene          130          1   \n",
       "2  Intern/Student,Other Patient Caregiver-At Scen...          112          1   \n",
       "3  Primary Patient Caregiver-At Scene,Primary Pat...           74          1   \n",
       "4                   Driver-Response,Driver-Transport           70          1   \n",
       "\n",
       "   Shift_A  Shift_B  Shift_C  UnitIdCode  PatientOutcomeCode  \\\n",
       "0        1        0        0           1                   1   \n",
       "1        1        0        0           1                   1   \n",
       "2        1        0        0           1                   1   \n",
       "3        1        0        0           2                   2   \n",
       "4        1        0        0           2                   2   \n",
       "\n",
       "   PatientGenderCode  ProviderGenderCode  \n",
       "0                  0                   1  \n",
       "1                  0                   1  \n",
       "2                  0                   1  \n",
       "3                  0                   1  \n",
       "4                  0                   1  \n",
       "\n",
       "[5 rows x 21 columns]"
      ]
     },
     "execution_count": 47,
     "metadata": {},
     "output_type": "execute_result"
    }
   ],
   "source": [
    "dfPatients_dedup.head()"
   ]
  },
  {
   "cell_type": "markdown",
   "metadata": {},
   "source": [
    "### Display data types"
   ]
  },
  {
   "cell_type": "code",
   "execution_count": 48,
   "metadata": {},
   "outputs": [
    {
     "name": "stdout",
     "output_type": "stream",
     "text": [
      "PatientId :  Numerical\n",
      "FRDPersonnelID :  Categorical\n",
      "Shift :  Categorical\n",
      "UnitId :  Categorical\n",
      "FireStation :  Numerical\n",
      "Battalion :  Numerical\n",
      "PatientOutcome :  Categorical\n",
      "PatientGender :  Categorical\n",
      "DispatchTime :  Date\n",
      "FRDPersonnelGender :  Categorical\n",
      "FRDPersonnelStartDate :  Date\n",
      "CrewMemberRoles :  Categorical\n",
      "TenureMonths :  Numerical\n",
      "ShiftCode :  Numerical\n",
      "Shift_A :  Numerical\n",
      "Shift_B :  Numerical\n",
      "Shift_C :  Numerical\n",
      "UnitIdCode :  Numerical\n",
      "PatientOutcomeCode :  Numerical\n",
      "PatientGenderCode :  Numerical\n",
      "ProviderGenderCode :  Numerical\n"
     ]
    },
    {
     "data": {
      "text/plain": [
       "(543258, 21)"
      ]
     },
     "execution_count": 48,
     "metadata": {},
     "output_type": "execute_result"
    }
   ],
   "source": [
    "print_categories(dfPatients_dedup)\n",
    "dfPatients_dedup.shape"
   ]
  },
  {
   "cell_type": "markdown",
   "metadata": {},
   "source": [
    "### Output the intemediate data Patients dataframe to CSV into the Intermediate data directory"
   ]
  },
  {
   "cell_type": "code",
   "execution_count": 49,
   "metadata": {},
   "outputs": [],
   "source": [
    "# Make sure to edit the filename to be sure you are writing to the right place\n",
    "dfPatients_dedup.to_csv(r'../data/02_intermediate/dfPatients_dedup.csv', index = True)"
   ]
  }
 ],
 "metadata": {
  "kernelspec": {
   "display_name": "Python 3",
   "language": "python",
   "name": "python3"
  },
  "language_info": {
   "codemirror_mode": {
    "name": "ipython",
    "version": 3
   },
   "file_extension": ".py",
   "mimetype": "text/x-python",
   "name": "python",
   "nbconvert_exporter": "python",
   "pygments_lexer": "ipython3",
   "version": "3.7.9"
  }
 },
 "nbformat": 4,
 "nbformat_minor": 4
}
