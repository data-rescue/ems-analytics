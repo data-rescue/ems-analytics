{
 "metadata": {
  "language_info": {
   "codemirror_mode": {
    "name": "ipython",
    "version": 3
   },
   "file_extension": ".py",
   "mimetype": "text/x-python",
   "name": "python",
   "nbconvert_exporter": "python",
   "pygments_lexer": "ipython3",
   "version": "3.8.8-final"
  },
  "orig_nbformat": 2,
  "kernelspec": {
   "name": "python388jvsc74a57bd081f0e8689ef7b992ee3685823cb87e2d798b261ebe1feaf9f07a53b00eba808f",
   "display_name": "Python 3.8.8 64-bit ('emspe': conda)"
  }
 },
 "nbformat": 4,
 "nbformat_minor": 2,
 "cells": [
  {
   "cell_type": "code",
   "execution_count": 1,
   "metadata": {},
   "outputs": [],
   "source": [
    "import src.d07_visualization.q4_visualization_module as q4_vis"
   ]
  },
  {
   "cell_type": "code",
   "execution_count": 2,
   "metadata": {},
   "outputs": [
    {
     "output_type": "execute_result",
     "data": {
      "text/plain": [
       "<AxesSubplot:xlabel='count', ylabel='PatientOutcome'>"
      ]
     },
     "metadata": {},
     "execution_count": 2
    },
    {
     "output_type": "display_data",
     "data": {
      "text/plain": "<Figure size 1440x1800 with 1 Axes>",
      "image/svg+xml": "<?xml version=\"1.0\" encoding=\"utf-8\" standalone=\"no\"?>\r\n<!DOCTYPE svg PUBLIC \"-//W3C//DTD SVG 1.1//EN\"\r\n  \"http://www.w3.org/Graphics/SVG/1.1/DTD/svg11.dtd\">\r\n<!-- Created with matplotlib (https://matplotlib.org/) -->\r\n<svg height=\"1403.75625pt\" version=\"1.1\" viewBox=\"0 0 1374.0625 1403.75625\" width=\"1374.0625pt\" xmlns=\"http://www.w3.org/2000/svg\" xmlns:xlink=\"http://www.w3.org/1999/xlink\">\r\n <metadata>\r\n  <rdf:RDF xmlns:cc=\"http://creativecommons.org/ns#\" xmlns:dc=\"http://purl.org/dc/elements/1.1/\" xmlns:rdf=\"http://www.w3.org/1999/02/22-rdf-syntax-ns#\">\r\n   <cc:Work>\r\n    <dc:type rdf:resource=\"http://purl.org/dc/dcmitype/StillImage\"/>\r\n    <dc:date>2021-04-06T01:16:47.310858</dc:date>\r\n    <dc:format>image/svg+xml</dc:format>\r\n    <dc:creator>\r\n     <cc:Agent>\r\n      <dc:title>Matplotlib v3.3.4, https://matplotlib.org/</dc:title>\r\n     </cc:Agent>\r\n    </dc:creator>\r\n   </cc:Work>\r\n  </rdf:RDF>\r\n </metadata>\r\n <defs>\r\n  <style type=\"text/css\">*{stroke-linecap:butt;stroke-linejoin:round;}</style>\r\n </defs>\r\n <g id=\"figure_1\">\r\n  <g id=\"patch_1\">\r\n   <path d=\"M 0 1403.75625 \r\nL 1374.0625 1403.75625 \r\nL 1374.0625 0 \r\nL 0 0 \r\nz\r\n\" style=\"fill:none;\"/>\r\n  </g>\r\n  <g id=\"axes_1\">\r\n   <g id=\"patch_2\">\r\n    <path d=\"M 250.8625 1366.2 \r\nL 1366.8625 1366.2 \r\nL 1366.8625 7.2 \r\nL 250.8625 7.2 \r\nz\r\n\" style=\"fill:#ffffff;\"/>\r\n   </g>\r\n   <g id=\"patch_3\">\r\n    <path clip-path=\"url(#p6e5cd8c99f)\" d=\"M 250.8625 41.175 \r\nL 719.114248 41.175 \r\nL 719.114248 48.327632 \r\nL 250.8625 48.327632 \r\nz\r\n\" style=\"fill:#411453;\"/>\r\n   </g>\r\n   <g id=\"patch_4\">\r\n    <path clip-path=\"url(#p6e5cd8c99f)\" d=\"M 250.8625 380.925 \r\nL 689.383979 380.925 \r\nL 689.383979 388.077632 \r\nL 250.8625 388.077632 \r\nz\r\n\" style=\"fill:#411453;\"/>\r\n   </g>\r\n   <g id=\"patch_5\">\r\n    <path clip-path=\"url(#p6e5cd8c99f)\" d=\"M 250.8625 720.675 \r\nL 1313.719643 720.675 \r\nL 1313.719643 727.827632 \r\nL 250.8625 727.827632 \r\nz\r\n\" style=\"fill:#411453;\"/>\r\n   </g>\r\n   <g id=\"patch_6\">\r\n    <path clip-path=\"url(#p6e5cd8c99f)\" d=\"M 250.8625 1060.425 \r\nL 369.783579 1060.425 \r\nL 369.783579 1067.577632 \r\nL 250.8625 1067.577632 \r\nz\r\n\" style=\"fill:#411453;\"/>\r\n   </g>\r\n   <g id=\"patch_7\">\r\n    <path clip-path=\"url(#p6e5cd8c99f)\" d=\"M 250.8625 48.327632 \r\nL 369.783579 48.327632 \r\nL 369.783579 55.480263 \r\nL 250.8625 55.480263 \r\nz\r\n\" style=\"fill:#451e5c;\"/>\r\n   </g>\r\n   <g id=\"patch_8\">\r\n    <path clip-path=\"url(#p6e5cd8c99f)\" d=\"M 250.8625 388.077632 \r\nL 548.165197 388.077632 \r\nL 548.165197 395.230263 \r\nL 250.8625 395.230263 \r\nz\r\n\" style=\"fill:#451e5c;\"/>\r\n   </g>\r\n   <g id=\"patch_9\">\r\n    <path clip-path=\"url(#p6e5cd8c99f)\" d=\"M 250.8625 727.827632 \r\nL 414.378984 727.827632 \r\nL 414.378984 734.980263 \r\nL 250.8625 734.980263 \r\nz\r\n\" style=\"fill:#451e5c;\"/>\r\n   </g>\r\n   <g id=\"patch_10\">\r\n    <path clip-path=\"url(#p6e5cd8c99f)\" d=\"M 250.8625 1067.577632 \r\nL 265.727635 1067.577632 \r\nL 265.727635 1074.730263 \r\nL 250.8625 1074.730263 \r\nz\r\n\" style=\"fill:#451e5c;\"/>\r\n   </g>\r\n   <g id=\"patch_11\">\r\n    <path clip-path=\"url(#p6e5cd8c99f)\" d=\"M 250.8625 55.480263 \r\nL 466.406956 55.480263 \r\nL 466.406956 62.632895 \r\nL 250.8625 62.632895 \r\nz\r\n\" style=\"fill:#472664;\"/>\r\n   </g>\r\n   <g id=\"patch_12\">\r\n    <path clip-path=\"url(#p6e5cd8c99f)\" d=\"M 250.8625 395.230263 \r\nL 741.411951 395.230263 \r\nL 741.411951 402.382895 \r\nL 250.8625 402.382895 \r\nz\r\n\" style=\"fill:#472664;\"/>\r\n   </g>\r\n   <g id=\"patch_13\">\r\n    <path clip-path=\"url(#p6e5cd8c99f)\" d=\"M 250.8625 734.980263 \r\nL 511.00236 734.980263 \r\nL 511.00236 742.132895 \r\nL 250.8625 742.132895 \r\nz\r\n\" style=\"fill:#472664;\"/>\r\n   </g>\r\n   <g id=\"patch_14\">\r\n    <path clip-path=\"url(#p6e5cd8c99f)\" d=\"M 250.8625 1074.730263 \r\nL 332.620742 1074.730263 \r\nL 332.620742 1081.882895 \r\nL 250.8625 1081.882895 \r\nz\r\n\" style=\"fill:#472664;\"/>\r\n   </g>\r\n   <g id=\"patch_15\">\r\n    <path clip-path=\"url(#p6e5cd8c99f)\" d=\"M 250.8625 62.632895 \r\nL 637.356006 62.632895 \r\nL 637.356006 69.785526 \r\nL 250.8625 69.785526 \r\nz\r\n\" style=\"fill:#492f6c;\"/>\r\n   </g>\r\n   <g id=\"patch_16\">\r\n    <path clip-path=\"url(#p6e5cd8c99f)\" d=\"M 250.8625 402.382895 \r\nL 867.765597 402.382895 \r\nL 867.765597 409.535526 \r\nL 250.8625 409.535526 \r\nz\r\n\" style=\"fill:#492f6c;\"/>\r\n   </g>\r\n   <g id=\"patch_17\">\r\n    <path clip-path=\"url(#p6e5cd8c99f)\" d=\"M 250.8625 742.132895 \r\nL 369.783579 742.132895 \r\nL 369.783579 749.285526 \r\nL 250.8625 749.285526 \r\nz\r\n\" style=\"fill:#492f6c;\"/>\r\n   </g>\r\n   <g id=\"patch_18\">\r\n    <path clip-path=\"url(#p6e5cd8c99f)\" d=\"M 250.8625 1081.882895 \r\nL 369.783579 1081.882895 \r\nL 369.783579 1089.035526 \r\nL 250.8625 1089.035526 \r\nz\r\n\" style=\"fill:#492f6c;\"/>\r\n   </g>\r\n   <g id=\"patch_19\">\r\n    <path clip-path=\"url(#p6e5cd8c99f)\" d=\"M 250.8625 69.785526 \r\nL 533.300062 69.785526 \r\nL 533.300062 76.938158 \r\nL 250.8625 76.938158 \r\nz\r\n\" style=\"fill:#4a3771;\"/>\r\n   </g>\r\n   <g id=\"patch_20\">\r\n    <path clip-path=\"url(#p6e5cd8c99f)\" d=\"M 250.8625 409.535526 \r\nL 1157.635727 409.535526 \r\nL 1157.635727 416.688158 \r\nL 250.8625 416.688158 \r\nz\r\n\" style=\"fill:#4a3771;\"/>\r\n   </g>\r\n   <g id=\"patch_21\">\r\n    <path clip-path=\"url(#p6e5cd8c99f)\" d=\"M 250.8625 749.285526 \r\nL 362.351011 749.285526 \r\nL 362.351011 756.438158 \r\nL 250.8625 756.438158 \r\nz\r\n\" style=\"fill:#4a3771;\"/>\r\n   </g>\r\n   <g id=\"patch_22\">\r\n    <path clip-path=\"url(#p6e5cd8c99f)\" d=\"M 250.8625 1089.035526 \r\nL 488.704658 1089.035526 \r\nL 488.704658 1096.188158 \r\nL 250.8625 1096.188158 \r\nz\r\n\" style=\"fill:#4a3771;\"/>\r\n   </g>\r\n   <g id=\"patch_23\">\r\n    <path clip-path=\"url(#p6e5cd8c99f)\" d=\"M 250.8625 76.938158 \r\nL 652.221141 76.938158 \r\nL 652.221141 84.090789 \r\nL 250.8625 84.090789 \r\nz\r\n\" style=\"fill:#4b3f77;\"/>\r\n   </g>\r\n   <g id=\"patch_24\">\r\n    <path clip-path=\"url(#p6e5cd8c99f)\" d=\"M 250.8625 416.688158 \r\nL 1038.714648 416.688158 \r\nL 1038.714648 423.840789 \r\nL 250.8625 423.840789 \r\nz\r\n\" style=\"fill:#4b3f77;\"/>\r\n   </g>\r\n   <g id=\"patch_25\">\r\n    <path clip-path=\"url(#p6e5cd8c99f)\" d=\"M 250.8625 756.438158 \r\nL 317.755607 756.438158 \r\nL 317.755607 763.590789 \r\nL 250.8625 763.590789 \r\nz\r\n\" style=\"fill:#4b3f77;\"/>\r\n   </g>\r\n   <g id=\"patch_26\">\r\n    <path clip-path=\"url(#p6e5cd8c99f)\" d=\"M 250.8625 1096.188158 \r\nL 555.597765 1096.188158 \r\nL 555.597765 1103.340789 \r\nL 250.8625 1103.340789 \r\nz\r\n\" style=\"fill:#4b3f77;\"/>\r\n   </g>\r\n   <g id=\"patch_27\">\r\n    <path clip-path=\"url(#p6e5cd8c99f)\" d=\"M 250.8625 84.090789 \r\nL 1046.147215 84.090789 \r\nL 1046.147215 91.243421 \r\nL 250.8625 91.243421 \r\nz\r\n\" style=\"fill:#4b467b;\"/>\r\n   </g>\r\n   <g id=\"patch_28\">\r\n    <path clip-path=\"url(#p6e5cd8c99f)\" d=\"M 250.8625 423.840789 \r\nL 971.821541 423.840789 \r\nL 971.821541 430.993421 \r\nL 250.8625 430.993421 \r\nz\r\n\" style=\"fill:#4b467b;\"/>\r\n   </g>\r\n   <g id=\"patch_29\">\r\n    <path clip-path=\"url(#p6e5cd8c99f)\" d=\"M 250.8625 763.590789 \r\nL 347.485877 763.590789 \r\nL 347.485877 770.743421 \r\nL 250.8625 770.743421 \r\nz\r\n\" style=\"fill:#4b467b;\"/>\r\n   </g>\r\n   <g id=\"patch_30\">\r\n    <path clip-path=\"url(#p6e5cd8c99f)\" d=\"M 250.8625 1103.340789 \r\nL 473.839523 1103.340789 \r\nL 473.839523 1110.493421 \r\nL 250.8625 1110.493421 \r\nz\r\n\" style=\"fill:#4b467b;\"/>\r\n   </g>\r\n   <g id=\"patch_31\">\r\n    <path clip-path=\"url(#p6e5cd8c99f)\" d=\"M 250.8625 91.243421 \r\nL 860.333029 91.243421 \r\nL 860.333029 98.396053 \r\nL 250.8625 98.396053 \r\nz\r\n\" style=\"fill:#494d7f;\"/>\r\n   </g>\r\n   <g id=\"patch_32\">\r\n    <path clip-path=\"url(#p6e5cd8c99f)\" d=\"M 250.8625 430.993421 \r\nL 1038.714648 430.993421 \r\nL 1038.714648 438.146053 \r\nL 250.8625 438.146053 \r\nz\r\n\" style=\"fill:#494d7f;\"/>\r\n   </g>\r\n   <g id=\"patch_33\">\r\n    <path clip-path=\"url(#p6e5cd8c99f)\" d=\"M 250.8625 770.743421 \r\nL 488.704658 770.743421 \r\nL 488.704658 777.896053 \r\nL 250.8625 777.896053 \r\nz\r\n\" style=\"fill:#494d7f;\"/>\r\n   </g>\r\n   <g id=\"patch_34\">\r\n    <path clip-path=\"url(#p6e5cd8c99f)\" d=\"M 250.8625 1110.493421 \r\nL 392.081281 1110.493421 \r\nL 392.081281 1117.646053 \r\nL 250.8625 1117.646053 \r\nz\r\n\" style=\"fill:#494d7f;\"/>\r\n   </g>\r\n   <g id=\"patch_35\">\r\n    <path clip-path=\"url(#p6e5cd8c99f)\" d=\"M 250.8625 98.396053 \r\nL 362.351011 98.396053 \r\nL 362.351011 105.548684 \r\nL 250.8625 105.548684 \r\nz\r\n\" style=\"fill:#475280;\"/>\r\n   </g>\r\n   <g id=\"patch_36\">\r\n    <path clip-path=\"url(#p6e5cd8c99f)\" d=\"M 250.8625 438.146053 \r\nL 399.513849 438.146053 \r\nL 399.513849 445.298684 \r\nL 250.8625 445.298684 \r\nz\r\n\" style=\"fill:#475280;\"/>\r\n   </g>\r\n   <g id=\"patch_37\">\r\n    <path clip-path=\"url(#p6e5cd8c99f)\" d=\"M 250.8625 777.896053 \r\nL 258.295067 777.896053 \r\nL 258.295067 785.048684 \r\nL 250.8625 785.048684 \r\nz\r\n\" style=\"fill:#475280;\"/>\r\n   </g>\r\n   <g id=\"patch_38\">\r\n    <path clip-path=\"url(#p6e5cd8c99f)\" d=\"M 250.8625 1117.646053 \r\nL 288.025337 1117.646053 \r\nL 288.025337 1124.798684 \r\nL 250.8625 1124.798684 \r\nz\r\n\" style=\"fill:#475280;\"/>\r\n   </g>\r\n   <g id=\"patch_39\">\r\n    <path clip-path=\"url(#p6e5cd8c99f)\" d=\"M 250.8625 105.548684 \r\nL 518.434928 105.548684 \r\nL 518.434928 112.701316 \r\nL 250.8625 112.701316 \r\nz\r\n\" style=\"fill:#445781;\"/>\r\n   </g>\r\n   <g id=\"patch_40\">\r\n    <path clip-path=\"url(#p6e5cd8c99f)\" d=\"M 250.8625 445.298684 \r\nL 681.951411 445.298684 \r\nL 681.951411 452.451316 \r\nL 250.8625 452.451316 \r\nz\r\n\" style=\"fill:#445781;\"/>\r\n   </g>\r\n   <g id=\"patch_41\">\r\n    <path clip-path=\"url(#p6e5cd8c99f)\" d=\"M 250.8625 785.048684 \r\nL 332.620742 785.048684 \r\nL 332.620742 792.201316 \r\nL 250.8625 792.201316 \r\nz\r\n\" style=\"fill:#445781;\"/>\r\n   </g>\r\n   <g id=\"patch_42\">\r\n    <path clip-path=\"url(#p6e5cd8c99f)\" d=\"M 250.8625 1124.798684 \r\nL 295.457905 1124.798684 \r\nL 295.457905 1131.951316 \r\nL 250.8625 1131.951316 \r\nz\r\n\" style=\"fill:#445781;\"/>\r\n   </g>\r\n   <g id=\"patch_43\">\r\n    <path clip-path=\"url(#p6e5cd8c99f)\" d=\"M 250.8625 112.701316 \r\nL 548.165197 112.701316 \r\nL 548.165197 119.853947 \r\nL 250.8625 119.853947 \r\nz\r\n\" style=\"fill:#415c82;\"/>\r\n   </g>\r\n   <g id=\"patch_44\">\r\n    <path clip-path=\"url(#p6e5cd8c99f)\" d=\"M 250.8625 452.451316 \r\nL 741.411951 452.451316 \r\nL 741.411951 459.603947 \r\nL 250.8625 459.603947 \r\nz\r\n\" style=\"fill:#415c82;\"/>\r\n   </g>\r\n   <g id=\"patch_45\">\r\n    <path clip-path=\"url(#p6e5cd8c99f)\" d=\"M 250.8625 792.201316 \r\nL 362.351011 792.201316 \r\nL 362.351011 799.353947 \r\nL 250.8625 799.353947 \r\nz\r\n\" style=\"fill:#415c82;\"/>\r\n   </g>\r\n   <g id=\"patch_46\">\r\n    <path clip-path=\"url(#p6e5cd8c99f)\" d=\"M 250.8625 1131.951316 \r\nL 458.974388 1131.951316 \r\nL 458.974388 1139.103947 \r\nL 250.8625 1139.103947 \r\nz\r\n\" style=\"fill:#415c82;\"/>\r\n   </g>\r\n   <g id=\"patch_47\">\r\n    <path clip-path=\"url(#p6e5cd8c99f)\" d=\"M 250.8625 119.853947 \r\nL 503.569793 119.853947 \r\nL 503.569793 127.006579 \r\nL 250.8625 127.006579 \r\nz\r\n\" style=\"fill:#3f6182;\"/>\r\n   </g>\r\n   <g id=\"patch_48\">\r\n    <path clip-path=\"url(#p6e5cd8c99f)\" d=\"M 250.8625 459.603947 \r\nL 622.490872 459.603947 \r\nL 622.490872 466.756579 \r\nL 250.8625 466.756579 \r\nz\r\n\" style=\"fill:#3f6182;\"/>\r\n   </g>\r\n   <g id=\"patch_49\">\r\n    <path clip-path=\"url(#p6e5cd8c99f)\" d=\"M 250.8625 799.353947 \r\nL 429.244118 799.353947 \r\nL 429.244118 806.506579 \r\nL 250.8625 806.506579 \r\nz\r\n\" style=\"fill:#3f6182;\"/>\r\n   </g>\r\n   <g id=\"patch_50\">\r\n    <path clip-path=\"url(#p6e5cd8c99f)\" d=\"M 250.8625 1139.103947 \r\nL 347.485877 1139.103947 \r\nL 347.485877 1146.256579 \r\nL 250.8625 1146.256579 \r\nz\r\n\" style=\"fill:#3f6182;\"/>\r\n   </g>\r\n   <g id=\"patch_51\">\r\n    <path clip-path=\"url(#p6e5cd8c99f)\" d=\"M 250.8625 127.006579 \r\nL 302.890472 127.006579 \r\nL 302.890472 134.159211 \r\nL 250.8625 134.159211 \r\nz\r\n\" style=\"fill:#3c6682;\"/>\r\n   </g>\r\n   <g id=\"patch_52\">\r\n    <path clip-path=\"url(#p6e5cd8c99f)\" d=\"M 250.8625 466.756579 \r\nL 295.457905 466.756579 \r\nL 295.457905 473.909211 \r\nL 250.8625 473.909211 \r\nz\r\n\" style=\"fill:#3c6682;\"/>\r\n   </g>\r\n   <g id=\"patch_53\">\r\n    <path clip-path=\"url(#p6e5cd8c99f)\" d=\"M 250.8625 806.506579 \r\nL 280.59277 806.506579 \r\nL 280.59277 813.659211 \r\nL 250.8625 813.659211 \r\nz\r\n\" style=\"fill:#3c6682;\"/>\r\n   </g>\r\n   <g id=\"patch_54\">\r\n    <path clip-path=\"url(#p6e5cd8c99f)\" d=\"M 250.8625 1146.256579 \r\nL 265.727635 1146.256579 \r\nL 265.727635 1153.409211 \r\nL 250.8625 1153.409211 \r\nz\r\n\" style=\"fill:#3c6682;\"/>\r\n   </g>\r\n   <g id=\"patch_55\">\r\n    <path clip-path=\"url(#p6e5cd8c99f)\" d=\"M 250.8625 134.159211 \r\nL 518.434928 134.159211 \r\nL 518.434928 141.311842 \r\nL 250.8625 141.311842 \r\nz\r\n\" style=\"fill:#3a6a82;\"/>\r\n   </g>\r\n   <g id=\"patch_56\">\r\n    <path clip-path=\"url(#p6e5cd8c99f)\" d=\"M 250.8625 473.909211 \r\nL 667.086276 473.909211 \r\nL 667.086276 481.061842 \r\nL 250.8625 481.061842 \r\nz\r\n\" style=\"fill:#3a6a82;\"/>\r\n   </g>\r\n   <g id=\"patch_57\">\r\n    <path clip-path=\"url(#p6e5cd8c99f)\" d=\"M 250.8625 813.659211 \r\nL 444.109253 813.659211 \r\nL 444.109253 820.811842 \r\nL 250.8625 820.811842 \r\nz\r\n\" style=\"fill:#3a6a82;\"/>\r\n   </g>\r\n   <g id=\"patch_58\">\r\n    <path clip-path=\"url(#p6e5cd8c99f)\" d=\"M 250.8625 1153.409211 \r\nL 399.513849 1153.409211 \r\nL 399.513849 1160.561842 \r\nL 250.8625 1160.561842 \r\nz\r\n\" style=\"fill:#3a6a82;\"/>\r\n   </g>\r\n   <g id=\"patch_59\">\r\n    <path clip-path=\"url(#p6e5cd8c99f)\" d=\"M 250.8625 141.311842 \r\nL 429.244118 141.311842 \r\nL 429.244118 148.464474 \r\nL 250.8625 148.464474 \r\nz\r\n\" style=\"fill:#386e82;\"/>\r\n   </g>\r\n   <g id=\"patch_60\">\r\n    <path clip-path=\"url(#p6e5cd8c99f)\" d=\"M 250.8625 481.061842 \r\nL 696.816546 481.061842 \r\nL 696.816546 488.214474 \r\nL 250.8625 488.214474 \r\nz\r\n\" style=\"fill:#386e82;\"/>\r\n   </g>\r\n   <g id=\"patch_61\">\r\n    <path clip-path=\"url(#p6e5cd8c99f)\" d=\"M 250.8625 820.811842 \r\nL 956.956406 820.811842 \r\nL 956.956406 827.964474 \r\nL 250.8625 827.964474 \r\nz\r\n\" style=\"fill:#386e82;\"/>\r\n   </g>\r\n   <g id=\"patch_62\">\r\n    <path clip-path=\"url(#p6e5cd8c99f)\" d=\"M 250.8625 1160.561842 \r\nL 302.890472 1160.561842 \r\nL 302.890472 1167.714474 \r\nL 250.8625 1167.714474 \r\nz\r\n\" style=\"fill:#386e82;\"/>\r\n   </g>\r\n   <g id=\"patch_63\">\r\n    <path clip-path=\"url(#p6e5cd8c99f)\" d=\"M 250.8625 148.464474 \r\nL 414.378984 148.464474 \r\nL 414.378984 155.617105 \r\nL 250.8625 155.617105 \r\nz\r\n\" style=\"fill:#357382;\"/>\r\n   </g>\r\n   <g id=\"patch_64\">\r\n    <path clip-path=\"url(#p6e5cd8c99f)\" d=\"M 250.8625 488.214474 \r\nL 696.816546 488.214474 \r\nL 696.816546 495.367105 \r\nL 250.8625 495.367105 \r\nz\r\n\" style=\"fill:#357382;\"/>\r\n   </g>\r\n   <g id=\"patch_65\">\r\n    <path clip-path=\"url(#p6e5cd8c99f)\" d=\"M 250.8625 827.964474 \r\nL 258.295067 827.964474 \r\nL 258.295067 835.117105 \r\nL 250.8625 835.117105 \r\nz\r\n\" style=\"fill:#357382;\"/>\r\n   </g>\r\n   <g id=\"patch_66\">\r\n    <path clip-path=\"url(#p6e5cd8c99f)\" d=\"M 250.8625 1167.714474 \r\nL 347.485877 1167.714474 \r\nL 347.485877 1174.867105 \r\nL 250.8625 1174.867105 \r\nz\r\n\" style=\"fill:#357382;\"/>\r\n   </g>\r\n   <g id=\"patch_67\">\r\n    <path clip-path=\"url(#p6e5cd8c99f)\" d=\"M 250.8625 155.617105 \r\nL 288.025337 155.617105 \r\nL 288.025337 162.769737 \r\nL 250.8625 162.769737 \r\nz\r\n\" style=\"fill:#337781;\"/>\r\n   </g>\r\n   <g id=\"patch_68\">\r\n    <path clip-path=\"url(#p6e5cd8c99f)\" d=\"M 250.8625 495.367105 \r\nL 310.323039 495.367105 \r\nL 310.323039 502.519737 \r\nL 250.8625 502.519737 \r\nz\r\n\" style=\"fill:#337781;\"/>\r\n   </g>\r\n   <g id=\"patch_69\">\r\n    <path clip-path=\"url(#p6e5cd8c99f)\" d=\"M 250.8625 835.117105 \r\nL 273.160202 835.117105 \r\nL 273.160202 842.269737 \r\nL 250.8625 842.269737 \r\nz\r\n\" style=\"fill:#337781;\"/>\r\n   </g>\r\n   <g id=\"patch_70\">\r\n    <path clip-path=\"url(#p6e5cd8c99f)\" d=\"M 250.8625 1174.867105 \r\nL 265.727635 1174.867105 \r\nL 265.727635 1182.019737 \r\nL 250.8625 1182.019737 \r\nz\r\n\" style=\"fill:#337781;\"/>\r\n   </g>\r\n   <g id=\"patch_71\">\r\n    <path clip-path=\"url(#p6e5cd8c99f)\" d=\"M 250.8625 162.769737 \r\nL 570.4629 162.769737 \r\nL 570.4629 169.922368 \r\nL 250.8625 169.922368 \r\nz\r\n\" style=\"fill:#317c80;\"/>\r\n   </g>\r\n   <g id=\"patch_72\">\r\n    <path clip-path=\"url(#p6e5cd8c99f)\" d=\"M 250.8625 502.519737 \r\nL 667.086276 502.519737 \r\nL 667.086276 509.672368 \r\nL 250.8625 509.672368 \r\nz\r\n\" style=\"fill:#317c80;\"/>\r\n   </g>\r\n   <g id=\"patch_73\">\r\n    <path clip-path=\"url(#p6e5cd8c99f)\" d=\"M 250.8625 842.269737 \r\nL 384.648714 842.269737 \r\nL 384.648714 849.422368 \r\nL 250.8625 849.422368 \r\nz\r\n\" style=\"fill:#317c80;\"/>\r\n   </g>\r\n   <g id=\"patch_74\">\r\n    <path clip-path=\"url(#p6e5cd8c99f)\" d=\"M 250.8625 1182.019737 \r\nL 451.541821 1182.019737 \r\nL 451.541821 1189.172368 \r\nL 250.8625 1189.172368 \r\nz\r\n\" style=\"fill:#317c80;\"/>\r\n   </g>\r\n   <g id=\"patch_75\">\r\n    <path clip-path=\"url(#p6e5cd8c99f)\" d=\"M 250.8625 169.922368 \r\nL 488.704658 169.922368 \r\nL 488.704658 177.075 \r\nL 250.8625 177.075 \r\nz\r\n\" style=\"fill:#2f7f80;\"/>\r\n   </g>\r\n   <g id=\"patch_76\">\r\n    <path clip-path=\"url(#p6e5cd8c99f)\" d=\"M 250.8625 509.672368 \r\nL 808.305057 509.672368 \r\nL 808.305057 516.825 \r\nL 250.8625 516.825 \r\nz\r\n\" style=\"fill:#2f7f80;\"/>\r\n   </g>\r\n   <g id=\"patch_77\">\r\n    <path clip-path=\"url(#p6e5cd8c99f)\" d=\"M 250.8625 849.422368 \r\nL 317.755607 849.422368 \r\nL 317.755607 856.575 \r\nL 250.8625 856.575 \r\nz\r\n\" style=\"fill:#2f7f80;\"/>\r\n   </g>\r\n   <g id=\"patch_78\">\r\n    <path clip-path=\"url(#p6e5cd8c99f)\" d=\"M 250.8625 1189.172368 \r\nL 414.378984 1189.172368 \r\nL 414.378984 1196.325 \r\nL 250.8625 1196.325 \r\nz\r\n\" style=\"fill:#2f7f80;\"/>\r\n   </g>\r\n   <g id=\"patch_79\">\r\n    <path clip-path=\"url(#p6e5cd8c99f)\" d=\"M 250.8625 177.075 \r\nL 518.434928 177.075 \r\nL 518.434928 184.227632 \r\nL 250.8625 184.227632 \r\nz\r\n\" style=\"fill:#2e857f;\"/>\r\n   </g>\r\n   <g id=\"patch_80\">\r\n    <path clip-path=\"url(#p6e5cd8c99f)\" d=\"M 250.8625 516.825 \r\nL 629.923439 516.825 \r\nL 629.923439 523.977632 \r\nL 250.8625 523.977632 \r\nz\r\n\" style=\"fill:#2e857f;\"/>\r\n   </g>\r\n   <g id=\"patch_81\">\r\n    <path clip-path=\"url(#p6e5cd8c99f)\" d=\"M 250.8625 856.575 \r\nL 280.59277 856.575 \r\nL 280.59277 863.727632 \r\nL 250.8625 863.727632 \r\nz\r\n\" style=\"fill:#2e857f;\"/>\r\n   </g>\r\n   <g id=\"patch_82\">\r\n    <path clip-path=\"url(#p6e5cd8c99f)\" d=\"M 250.8625 1196.325 \r\nL 332.620742 1196.325 \r\nL 332.620742 1203.477632 \r\nL 250.8625 1203.477632 \r\nz\r\n\" style=\"fill:#2e857f;\"/>\r\n   </g>\r\n   <g id=\"patch_83\">\r\n    <path clip-path=\"url(#p6e5cd8c99f)\" d=\"M 250.8625 184.227632 \r\nL 570.4629 184.227632 \r\nL 570.4629 191.380263 \r\nL 250.8625 191.380263 \r\nz\r\n\" style=\"fill:#2e8a7f;\"/>\r\n   </g>\r\n   <g id=\"patch_84\">\r\n    <path clip-path=\"url(#p6e5cd8c99f)\" d=\"M 250.8625 523.977632 \r\nL 563.030332 523.977632 \r\nL 563.030332 531.130263 \r\nL 250.8625 531.130263 \r\nz\r\n\" style=\"fill:#2e8a7f;\"/>\r\n   </g>\r\n   <g id=\"patch_85\">\r\n    <path clip-path=\"url(#p6e5cd8c99f)\" d=\"M 250.8625 863.727632 \r\nL 288.025337 863.727632 \r\nL 288.025337 870.880263 \r\nL 250.8625 870.880263 \r\nz\r\n\" style=\"fill:#2e8a7f;\"/>\r\n   </g>\r\n   <g id=\"patch_86\">\r\n    <path clip-path=\"url(#p6e5cd8c99f)\" d=\"M 250.8625 1203.477632 \r\nL 332.620742 1203.477632 \r\nL 332.620742 1210.630263 \r\nL 250.8625 1210.630263 \r\nz\r\n\" style=\"fill:#2e8a7f;\"/>\r\n   </g>\r\n   <g id=\"patch_87\">\r\n    <path clip-path=\"url(#p6e5cd8c99f)\" d=\"M 250.8625 191.380263 \r\nL 488.704658 191.380263 \r\nL 488.704658 198.532895 \r\nL 250.8625 198.532895 \r\nz\r\n\" style=\"fill:#2f8f7e;\"/>\r\n   </g>\r\n   <g id=\"patch_88\">\r\n    <path clip-path=\"url(#p6e5cd8c99f)\" d=\"M 250.8625 531.130263 \r\nL 674.518844 531.130263 \r\nL 674.518844 538.282895 \r\nL 250.8625 538.282895 \r\nz\r\n\" style=\"fill:#2f8f7e;\"/>\r\n   </g>\r\n   <g id=\"patch_89\">\r\n    <path clip-path=\"url(#p6e5cd8c99f)\" d=\"M 250.8625 870.880263 \r\nL 265.727635 870.880263 \r\nL 265.727635 878.032895 \r\nL 250.8625 878.032895 \r\nz\r\n\" style=\"fill:#2f8f7e;\"/>\r\n   </g>\r\n   <g id=\"patch_90\">\r\n    <path clip-path=\"url(#p6e5cd8c99f)\" d=\"M 250.8625 1210.630263 \r\nL 310.323039 1210.630263 \r\nL 310.323039 1217.782895 \r\nL 250.8625 1217.782895 \r\nz\r\n\" style=\"fill:#2f8f7e;\"/>\r\n   </g>\r\n   <g id=\"patch_91\">\r\n    <path clip-path=\"url(#p6e5cd8c99f)\" d=\"M 250.8625 198.532895 \r\nL 503.569793 198.532895 \r\nL 503.569793 205.685526 \r\nL 250.8625 205.685526 \r\nz\r\n\" style=\"fill:#31957d;\"/>\r\n   </g>\r\n   <g id=\"patch_92\">\r\n    <path clip-path=\"url(#p6e5cd8c99f)\" d=\"M 250.8625 538.282895 \r\nL 696.816546 538.282895 \r\nL 696.816546 545.435526 \r\nL 250.8625 545.435526 \r\nz\r\n\" style=\"fill:#31957d;\"/>\r\n   </g>\r\n   <g id=\"patch_93\">\r\n    <path clip-path=\"url(#p6e5cd8c99f)\" d=\"M 250.8625 878.032895 \r\nL 325.188174 878.032895 \r\nL 325.188174 885.185526 \r\nL 250.8625 885.185526 \r\nz\r\n\" style=\"fill:#31957d;\"/>\r\n   </g>\r\n   <g id=\"patch_94\">\r\n    <path clip-path=\"url(#p6e5cd8c99f)\" d=\"M 250.8625 1217.782895 \r\nL 369.783579 1217.782895 \r\nL 369.783579 1224.935526 \r\nL 250.8625 1224.935526 \r\nz\r\n\" style=\"fill:#31957d;\"/>\r\n   </g>\r\n   <g id=\"patch_95\">\r\n    <path clip-path=\"url(#p6e5cd8c99f)\" d=\"M 250.8625 205.685526 \r\nL 548.165197 205.685526 \r\nL 548.165197 212.838158 \r\nL 250.8625 212.838158 \r\nz\r\n\" style=\"fill:#369b7b;\"/>\r\n   </g>\r\n   <g id=\"patch_96\">\r\n    <path clip-path=\"url(#p6e5cd8c99f)\" d=\"M 250.8625 545.435526 \r\nL 719.114248 545.435526 \r\nL 719.114248 552.588158 \r\nL 250.8625 552.588158 \r\nz\r\n\" style=\"fill:#369b7b;\"/>\r\n   </g>\r\n   <g id=\"patch_97\">\r\n    <path clip-path=\"url(#p6e5cd8c99f)\" d=\"M 250.8625 885.185526 \r\nL 273.160202 885.185526 \r\nL 273.160202 892.338158 \r\nL 250.8625 892.338158 \r\nz\r\n\" style=\"fill:#369b7b;\"/>\r\n   </g>\r\n   <g id=\"patch_98\">\r\n    <path clip-path=\"url(#p6e5cd8c99f)\" d=\"M 250.8625 1224.935526 \r\nL 295.457905 1224.935526 \r\nL 295.457905 1232.088158 \r\nL 250.8625 1232.088158 \r\nz\r\n\" style=\"fill:#369b7b;\"/>\r\n   </g>\r\n   <g id=\"patch_99\">\r\n    <path clip-path=\"url(#p6e5cd8c99f)\" d=\"M 250.8625 212.838158 \r\nL 436.676686 212.838158 \r\nL 436.676686 219.990789 \r\nL 250.8625 219.990789 \r\nz\r\n\" style=\"fill:#3da17a;\"/>\r\n   </g>\r\n   <g id=\"patch_100\">\r\n    <path clip-path=\"url(#p6e5cd8c99f)\" d=\"M 250.8625 552.588158 \r\nL 704.249113 552.588158 \r\nL 704.249113 559.740789 \r\nL 250.8625 559.740789 \r\nz\r\n\" style=\"fill:#3da17a;\"/>\r\n   </g>\r\n   <g id=\"patch_101\">\r\n    <path clip-path=\"url(#p6e5cd8c99f)\" d=\"M 250.8625 892.338158 \r\nL 466.406956 892.338158 \r\nL 466.406956 899.490789 \r\nL 250.8625 899.490789 \r\nz\r\n\" style=\"fill:#3da17a;\"/>\r\n   </g>\r\n   <g id=\"patch_102\">\r\n    <path clip-path=\"url(#p6e5cd8c99f)\" d=\"M 250.8625 1232.088158 \r\nL 340.053309 1232.088158 \r\nL 340.053309 1239.240789 \r\nL 250.8625 1239.240789 \r\nz\r\n\" style=\"fill:#3da17a;\"/>\r\n   </g>\r\n   <g id=\"patch_103\">\r\n    <path clip-path=\"url(#p6e5cd8c99f)\" d=\"M 250.8625 219.990789 \r\nL 503.569793 219.990789 \r\nL 503.569793 227.143421 \r\nL 250.8625 227.143421 \r\nz\r\n\" style=\"fill:#45a778;\"/>\r\n   </g>\r\n   <g id=\"patch_104\">\r\n    <path clip-path=\"url(#p6e5cd8c99f)\" d=\"M 250.8625 559.740789 \r\nL 607.625737 559.740789 \r\nL 607.625737 566.893421 \r\nL 250.8625 566.893421 \r\nz\r\n\" style=\"fill:#45a778;\"/>\r\n   </g>\r\n   <g id=\"patch_105\">\r\n    <path clip-path=\"url(#p6e5cd8c99f)\" d=\"M 250.8625 899.490789 \r\nL 302.890472 899.490789 \r\nL 302.890472 906.643421 \r\nL 250.8625 906.643421 \r\nz\r\n\" style=\"fill:#45a778;\"/>\r\n   </g>\r\n   <g id=\"patch_106\">\r\n    <path clip-path=\"url(#p6e5cd8c99f)\" d=\"M 250.8625 1239.240789 \r\nL 362.351011 1239.240789 \r\nL 362.351011 1246.393421 \r\nL 250.8625 1246.393421 \r\nz\r\n\" style=\"fill:#45a778;\"/>\r\n   </g>\r\n   <g id=\"patch_107\">\r\n    <path clip-path=\"url(#p6e5cd8c99f)\" d=\"M 250.8625 227.143421 \r\nL 421.811551 227.143421 \r\nL 421.811551 234.296053 \r\nL 250.8625 234.296053 \r\nz\r\n\" style=\"fill:#50ae75;\"/>\r\n   </g>\r\n   <g id=\"patch_108\">\r\n    <path clip-path=\"url(#p6e5cd8c99f)\" d=\"M 250.8625 566.893421 \r\nL 681.951411 566.893421 \r\nL 681.951411 574.046053 \r\nL 250.8625 574.046053 \r\nz\r\n\" style=\"fill:#50ae75;\"/>\r\n   </g>\r\n   <g id=\"patch_109\">\r\n    <path clip-path=\"url(#p6e5cd8c99f)\" d=\"M 250.8625 906.643421 \r\nL 406.946416 906.643421 \r\nL 406.946416 913.796053 \r\nL 250.8625 913.796053 \r\nz\r\n\" style=\"fill:#50ae75;\"/>\r\n   </g>\r\n   <g id=\"patch_110\">\r\n    <path clip-path=\"url(#p6e5cd8c99f)\" d=\"M 250.8625 1246.393421 \r\nL 362.351011 1246.393421 \r\nL 362.351011 1253.546053 \r\nL 250.8625 1253.546053 \r\nz\r\n\" style=\"fill:#50ae75;\"/>\r\n   </g>\r\n   <g id=\"patch_111\">\r\n    <path clip-path=\"url(#p6e5cd8c99f)\" d=\"M 250.8625 234.296053 \r\nL 659.653709 234.296053 \r\nL 659.653709 241.448684 \r\nL 250.8625 241.448684 \r\nz\r\n\" style=\"fill:#5ab373;\"/>\r\n   </g>\r\n   <g id=\"patch_112\">\r\n    <path clip-path=\"url(#p6e5cd8c99f)\" d=\"M 250.8625 574.046053 \r\nL 629.923439 574.046053 \r\nL 629.923439 581.198684 \r\nL 250.8625 581.198684 \r\nz\r\n\" style=\"fill:#5ab373;\"/>\r\n   </g>\r\n   <g id=\"patch_113\">\r\n    <path clip-path=\"url(#p6e5cd8c99f)\" d=\"M 250.8625 913.796053 \r\nL 258.295067 913.796053 \r\nL 258.295067 920.948684 \r\nL 250.8625 920.948684 \r\nz\r\n\" style=\"fill:#5ab373;\"/>\r\n   </g>\r\n   <g id=\"patch_114\">\r\n    <path clip-path=\"url(#p6e5cd8c99f)\" d=\"M 250.8625 1253.546053 \r\nL 347.485877 1253.546053 \r\nL 347.485877 1260.698684 \r\nL 250.8625 1260.698684 \r\nz\r\n\" style=\"fill:#5ab373;\"/>\r\n   </g>\r\n   <g id=\"patch_115\">\r\n    <path clip-path=\"url(#p6e5cd8c99f)\" d=\"M 250.8625 241.448684 \r\nL 525.867495 241.448684 \r\nL 525.867495 248.601316 \r\nL 250.8625 248.601316 \r\nz\r\n\" style=\"fill:#68ba6f;\"/>\r\n   </g>\r\n   <g id=\"patch_116\">\r\n    <path clip-path=\"url(#p6e5cd8c99f)\" d=\"M 250.8625 581.198684 \r\nL 563.030332 581.198684 \r\nL 563.030332 588.351316 \r\nL 250.8625 588.351316 \r\nz\r\n\" style=\"fill:#68ba6f;\"/>\r\n   </g>\r\n   <g id=\"patch_117\">\r\n    <path clip-path=\"url(#p6e5cd8c99f)\" d=\"M 250.8625 920.948684 \r\nL 310.323039 920.948684 \r\nL 310.323039 928.101316 \r\nL 250.8625 928.101316 \r\nz\r\n\" style=\"fill:#68ba6f;\"/>\r\n   </g>\r\n   <g id=\"patch_118\">\r\n    <path clip-path=\"url(#p6e5cd8c99f)\" d=\"M 250.8625 1260.698684 \r\nL 325.188174 1260.698684 \r\nL 325.188174 1267.851316 \r\nL 250.8625 1267.851316 \r\nz\r\n\" style=\"fill:#68ba6f;\"/>\r\n   </g>\r\n   <g id=\"patch_119\">\r\n    <path clip-path=\"url(#p6e5cd8c99f)\" d=\"M 250.8625 248.601316 \r\nL 592.760602 248.601316 \r\nL 592.760602 255.753947 \r\nL 250.8625 255.753947 \r\nz\r\n\" style=\"fill:#72be6a;\"/>\r\n   </g>\r\n   <g id=\"patch_120\">\r\n    <path clip-path=\"url(#p6e5cd8c99f)\" d=\"M 250.8625 588.351316 \r\nL 592.760602 588.351316 \r\nL 592.760602 595.503947 \r\nL 250.8625 595.503947 \r\nz\r\n\" style=\"fill:#72be6a;\"/>\r\n   </g>\r\n   <g id=\"patch_121\">\r\n    <path clip-path=\"url(#p6e5cd8c99f)\" d=\"M 250.8625 928.101316 \r\nL 295.457905 928.101316 \r\nL 295.457905 935.253947 \r\nL 250.8625 935.253947 \r\nz\r\n\" style=\"fill:#72be6a;\"/>\r\n   </g>\r\n   <g id=\"patch_122\">\r\n    <path clip-path=\"url(#p6e5cd8c99f)\" d=\"M 250.8625 1267.851316 \r\nL 325.188174 1267.851316 \r\nL 325.188174 1275.003947 \r\nL 250.8625 1275.003947 \r\nz\r\n\" style=\"fill:#72be6a;\"/>\r\n   </g>\r\n   <g id=\"patch_123\">\r\n    <path clip-path=\"url(#p6e5cd8c99f)\" d=\"M 250.8625 255.753947 \r\nL 466.406956 255.753947 \r\nL 466.406956 262.906579 \r\nL 250.8625 262.906579 \r\nz\r\n\" style=\"fill:#7ec162;\"/>\r\n   </g>\r\n   <g id=\"patch_124\">\r\n    <path clip-path=\"url(#p6e5cd8c99f)\" d=\"M 250.8625 595.503947 \r\nL 667.086276 595.503947 \r\nL 667.086276 602.656579 \r\nL 250.8625 602.656579 \r\nz\r\n\" style=\"fill:#7ec162;\"/>\r\n   </g>\r\n   <g id=\"patch_125\">\r\n    <path clip-path=\"url(#p6e5cd8c99f)\" d=\"M 250.8625 935.253947 \r\nL 258.295067 935.253947 \r\nL 258.295067 942.406579 \r\nL 250.8625 942.406579 \r\nz\r\n\" style=\"fill:#7ec162;\"/>\r\n   </g>\r\n   <g id=\"patch_126\">\r\n    <path clip-path=\"url(#p6e5cd8c99f)\" d=\"M 250.8625 1275.003947 \r\nL 399.513849 1275.003947 \r\nL 399.513849 1282.156579 \r\nL 250.8625 1282.156579 \r\nz\r\n\" style=\"fill:#7ec162;\"/>\r\n   </g>\r\n   <g id=\"patch_127\">\r\n    <path clip-path=\"url(#p6e5cd8c99f)\" d=\"M 250.8625 262.906579 \r\nL 362.351011 262.906579 \r\nL 362.351011 270.059211 \r\nL 250.8625 270.059211 \r\nz\r\n\" style=\"fill:#8ac35a;\"/>\r\n   </g>\r\n   <g id=\"patch_128\">\r\n    <path clip-path=\"url(#p6e5cd8c99f)\" d=\"M 250.8625 602.656579 \r\nL 681.951411 602.656579 \r\nL 681.951411 609.809211 \r\nL 250.8625 609.809211 \r\nz\r\n\" style=\"fill:#8ac35a;\"/>\r\n   </g>\r\n   <g id=\"patch_129\">\r\n    <path clip-path=\"url(#p6e5cd8c99f)\" d=\"M 250.8625 942.406579 \r\nL 414.378984 942.406579 \r\nL 414.378984 949.559211 \r\nL 250.8625 949.559211 \r\nz\r\n\" style=\"fill:#8ac35a;\"/>\r\n   </g>\r\n   <g id=\"patch_130\">\r\n    <path clip-path=\"url(#p6e5cd8c99f)\" d=\"M 250.8625 1282.156579 \r\nL 392.081281 1282.156579 \r\nL 392.081281 1289.309211 \r\nL 250.8625 1289.309211 \r\nz\r\n\" style=\"fill:#8ac35a;\"/>\r\n   </g>\r\n   <g id=\"patch_131\">\r\n    <path clip-path=\"url(#p6e5cd8c99f)\" d=\"M 250.8625 270.059211 \r\nL 496.137225 270.059211 \r\nL 496.137225 277.211842 \r\nL 250.8625 277.211842 \r\nz\r\n\" style=\"fill:#95c551;\"/>\r\n   </g>\r\n   <g id=\"patch_132\">\r\n    <path clip-path=\"url(#p6e5cd8c99f)\" d=\"M 250.8625 609.809211 \r\nL 429.244118 609.809211 \r\nL 429.244118 616.961842 \r\nL 250.8625 616.961842 \r\nz\r\n\" style=\"fill:#95c551;\"/>\r\n   </g>\r\n   <g id=\"patch_133\">\r\n    <path clip-path=\"url(#p6e5cd8c99f)\" d=\"M 250.8625 949.559211 \r\nL 273.160202 949.559211 \r\nL 273.160202 956.711842 \r\nL 250.8625 956.711842 \r\nz\r\n\" style=\"fill:#95c551;\"/>\r\n   </g>\r\n   <g id=\"patch_134\">\r\n    <path clip-path=\"url(#p6e5cd8c99f)\" d=\"M 250.8625 1289.309211 \r\nL 332.620742 1289.309211 \r\nL 332.620742 1296.461842 \r\nL 250.8625 1296.461842 \r\nz\r\n\" style=\"fill:#95c551;\"/>\r\n   </g>\r\n   <g id=\"patch_135\">\r\n    <path clip-path=\"url(#p6e5cd8c99f)\" d=\"M 250.8625 277.211842 \r\nL 496.137225 277.211842 \r\nL 496.137225 284.364474 \r\nL 250.8625 284.364474 \r\nz\r\n\" style=\"fill:#a1c747;\"/>\r\n   </g>\r\n   <g id=\"patch_136\">\r\n    <path clip-path=\"url(#p6e5cd8c99f)\" d=\"M 250.8625 616.961842 \r\nL 563.030332 616.961842 \r\nL 563.030332 624.114474 \r\nL 250.8625 624.114474 \r\nz\r\n\" style=\"fill:#a1c747;\"/>\r\n   </g>\r\n   <g id=\"patch_137\">\r\n    <path clip-path=\"url(#p6e5cd8c99f)\" d=\"M 250.8625 956.711842 \r\nL 369.783579 956.711842 \r\nL 369.783579 963.864474 \r\nL 250.8625 963.864474 \r\nz\r\n\" style=\"fill:#a1c747;\"/>\r\n   </g>\r\n   <g id=\"patch_138\">\r\n    <path clip-path=\"url(#p6e5cd8c99f)\" d=\"M 250.8625 1296.461842 \r\nL 310.323039 1296.461842 \r\nL 310.323039 1303.614474 \r\nL 250.8625 1303.614474 \r\nz\r\n\" style=\"fill:#a1c747;\"/>\r\n   </g>\r\n   <g id=\"patch_139\">\r\n    <path clip-path=\"url(#p6e5cd8c99f)\" d=\"M 250.8625 284.364474 \r\nL 429.244118 284.364474 \r\nL 429.244118 291.517105 \r\nL 250.8625 291.517105 \r\nz\r\n\" style=\"fill:#adc83f;\"/>\r\n   </g>\r\n   <g id=\"patch_140\">\r\n    <path clip-path=\"url(#p6e5cd8c99f)\" d=\"M 250.8625 624.114474 \r\nL 659.653709 624.114474 \r\nL 659.653709 631.267105 \r\nL 250.8625 631.267105 \r\nz\r\n\" style=\"fill:#adc83f;\"/>\r\n   </g>\r\n   <g id=\"patch_141\">\r\n    <path clip-path=\"url(#p6e5cd8c99f)\" d=\"M 250.8625 963.864474 \r\nL 377.216146 963.864474 \r\nL 377.216146 971.017105 \r\nL 250.8625 971.017105 \r\nz\r\n\" style=\"fill:#adc83f;\"/>\r\n   </g>\r\n   <g id=\"patch_142\">\r\n    <path clip-path=\"url(#p6e5cd8c99f)\" d=\"M 250.8625 1303.614474 \r\nL 362.351011 1303.614474 \r\nL 362.351011 1310.767105 \r\nL 250.8625 1310.767105 \r\nz\r\n\" style=\"fill:#adc83f;\"/>\r\n   </g>\r\n   <g id=\"patch_143\">\r\n    <path clip-path=\"url(#p6e5cd8c99f)\" d=\"M 250.8625 291.517105 \r\nL 563.030332 291.517105 \r\nL 563.030332 298.669737 \r\nL 250.8625 298.669737 \r\nz\r\n\" style=\"fill:#bac836;\"/>\r\n   </g>\r\n   <g id=\"patch_144\">\r\n    <path clip-path=\"url(#p6e5cd8c99f)\" d=\"M 250.8625 631.267105 \r\nL 555.597765 631.267105 \r\nL 555.597765 638.419737 \r\nL 250.8625 638.419737 \r\nz\r\n\" style=\"fill:#bac836;\"/>\r\n   </g>\r\n   <g id=\"patch_145\">\r\n    <path clip-path=\"url(#p6e5cd8c99f)\" d=\"M 250.8625 971.017105 \r\nL 540.73263 971.017105 \r\nL 540.73263 978.169737 \r\nL 250.8625 978.169737 \r\nz\r\n\" style=\"fill:#bac836;\"/>\r\n   </g>\r\n   <g id=\"patch_146\">\r\n    <path clip-path=\"url(#p6e5cd8c99f)\" d=\"M 250.8625 1310.767105 \r\nL 302.890472 1310.767105 \r\nL 302.890472 1317.919737 \r\nL 250.8625 1317.919737 \r\nz\r\n\" style=\"fill:#bac836;\"/>\r\n   </g>\r\n   <g id=\"patch_147\">\r\n    <path clip-path=\"url(#p6e5cd8c99f)\" d=\"M 250.8625 298.669737 \r\nL 340.053309 298.669737 \r\nL 340.053309 305.822368 \r\nL 250.8625 305.822368 \r\nz\r\n\" style=\"fill:#c5ca32;\"/>\r\n   </g>\r\n   <g id=\"patch_148\">\r\n    <path clip-path=\"url(#p6e5cd8c99f)\" d=\"M 250.8625 638.419737 \r\nL 466.406956 638.419737 \r\nL 466.406956 645.572368 \r\nL 250.8625 645.572368 \r\nz\r\n\" style=\"fill:#c5ca32;\"/>\r\n   </g>\r\n   <g id=\"patch_149\">\r\n    <path clip-path=\"url(#p6e5cd8c99f)\" d=\"M 250.8625 978.169737 \r\nL 265.727635 978.169737 \r\nL 265.727635 985.322368 \r\nL 250.8625 985.322368 \r\nz\r\n\" style=\"fill:#c5ca32;\"/>\r\n   </g>\r\n   <g id=\"patch_150\">\r\n    <path clip-path=\"url(#p6e5cd8c99f)\" d=\"M 250.8625 1317.919737 \r\nL 288.025337 1317.919737 \r\nL 288.025337 1325.072368 \r\nL 250.8625 1325.072368 \r\nz\r\n\" style=\"fill:#c5ca32;\"/>\r\n   </g>\r\n   <g id=\"patch_151\">\r\n    <path clip-path=\"url(#p6e5cd8c99f)\" d=\"M 250.8625 305.822368 \r\nL 473.839523 305.822368 \r\nL 473.839523 312.975 \r\nL 250.8625 312.975 \r\nz\r\n\" style=\"fill:#d4cd36;\"/>\r\n   </g>\r\n   <g id=\"patch_152\">\r\n    <path clip-path=\"url(#p6e5cd8c99f)\" d=\"M 250.8625 645.572368 \r\nL 563.030332 645.572368 \r\nL 563.030332 652.725 \r\nL 250.8625 652.725 \r\nz\r\n\" style=\"fill:#d4cd36;\"/>\r\n   </g>\r\n   <g id=\"patch_153\">\r\n    <path clip-path=\"url(#p6e5cd8c99f)\" d=\"M 250.8625 985.322368 \r\nL 295.457905 985.322368 \r\nL 295.457905 992.475 \r\nL 250.8625 992.475 \r\nz\r\n\" style=\"fill:#d4cd36;\"/>\r\n   </g>\r\n   <g id=\"patch_154\">\r\n    <path clip-path=\"url(#p6e5cd8c99f)\" d=\"M 250.8625 1325.072368 \r\nL 288.025337 1325.072368 \r\nL 288.025337 1332.225 \r\nL 250.8625 1332.225 \r\nz\r\n\" style=\"fill:#d4cd36;\"/>\r\n   </g>\r\n   <g id=\"matplotlib.axis_1\">\r\n    <g id=\"xtick_1\">\r\n     <g id=\"line2d_1\">\r\n      <defs>\r\n       <path d=\"M 0 0 \r\nL 0 3.5 \r\n\" id=\"m85c9317c77\" style=\"stroke:#000000;stroke-width:0.8;\"/>\r\n      </defs>\r\n      <g>\r\n       <use style=\"stroke:#000000;stroke-width:0.8;\" x=\"250.8625\" xlink:href=\"#m85c9317c77\" y=\"1366.2\"/>\r\n      </g>\r\n     </g>\r\n     <g id=\"text_1\">\r\n      <!-- 0 -->\r\n      <g transform=\"translate(247.68125 1380.798437)scale(0.1 -0.1)\">\r\n       <defs>\r\n        <path d=\"M 31.78125 66.40625 \r\nQ 24.171875 66.40625 20.328125 58.90625 \r\nQ 16.5 51.421875 16.5 36.375 \r\nQ 16.5 21.390625 20.328125 13.890625 \r\nQ 24.171875 6.390625 31.78125 6.390625 \r\nQ 39.453125 6.390625 43.28125 13.890625 \r\nQ 47.125 21.390625 47.125 36.375 \r\nQ 47.125 51.421875 43.28125 58.90625 \r\nQ 39.453125 66.40625 31.78125 66.40625 \r\nz\r\nM 31.78125 74.21875 \r\nQ 44.046875 74.21875 50.515625 64.515625 \r\nQ 56.984375 54.828125 56.984375 36.375 \r\nQ 56.984375 17.96875 50.515625 8.265625 \r\nQ 44.046875 -1.421875 31.78125 -1.421875 \r\nQ 19.53125 -1.421875 13.0625 8.265625 \r\nQ 6.59375 17.96875 6.59375 36.375 \r\nQ 6.59375 54.828125 13.0625 64.515625 \r\nQ 19.53125 74.21875 31.78125 74.21875 \r\nz\r\n\" id=\"DejaVuSans-48\"/>\r\n       </defs>\r\n       <use xlink:href=\"#DejaVuSans-48\"/>\r\n      </g>\r\n     </g>\r\n    </g>\r\n    <g id=\"xtick_2\">\r\n     <g id=\"line2d_2\">\r\n      <g>\r\n       <use style=\"stroke:#000000;stroke-width:0.8;\" x=\"399.513849\" xlink:href=\"#m85c9317c77\" y=\"1366.2\"/>\r\n      </g>\r\n     </g>\r\n     <g id=\"text_2\">\r\n      <!-- 20 -->\r\n      <g transform=\"translate(393.151349 1380.798437)scale(0.1 -0.1)\">\r\n       <defs>\r\n        <path d=\"M 19.1875 8.296875 \r\nL 53.609375 8.296875 \r\nL 53.609375 0 \r\nL 7.328125 0 \r\nL 7.328125 8.296875 \r\nQ 12.9375 14.109375 22.625 23.890625 \r\nQ 32.328125 33.6875 34.8125 36.53125 \r\nQ 39.546875 41.84375 41.421875 45.53125 \r\nQ 43.3125 49.21875 43.3125 52.78125 \r\nQ 43.3125 58.59375 39.234375 62.25 \r\nQ 35.15625 65.921875 28.609375 65.921875 \r\nQ 23.96875 65.921875 18.8125 64.3125 \r\nQ 13.671875 62.703125 7.8125 59.421875 \r\nL 7.8125 69.390625 \r\nQ 13.765625 71.78125 18.9375 73 \r\nQ 24.125 74.21875 28.421875 74.21875 \r\nQ 39.75 74.21875 46.484375 68.546875 \r\nQ 53.21875 62.890625 53.21875 53.421875 \r\nQ 53.21875 48.921875 51.53125 44.890625 \r\nQ 49.859375 40.875 45.40625 35.40625 \r\nQ 44.1875 33.984375 37.640625 27.21875 \r\nQ 31.109375 20.453125 19.1875 8.296875 \r\nz\r\n\" id=\"DejaVuSans-50\"/>\r\n       </defs>\r\n       <use xlink:href=\"#DejaVuSans-50\"/>\r\n       <use x=\"63.623047\" xlink:href=\"#DejaVuSans-48\"/>\r\n      </g>\r\n     </g>\r\n    </g>\r\n    <g id=\"xtick_3\">\r\n     <g id=\"line2d_3\">\r\n      <g>\r\n       <use style=\"stroke:#000000;stroke-width:0.8;\" x=\"548.165197\" xlink:href=\"#m85c9317c77\" y=\"1366.2\"/>\r\n      </g>\r\n     </g>\r\n     <g id=\"text_3\">\r\n      <!-- 40 -->\r\n      <g transform=\"translate(541.802697 1380.798437)scale(0.1 -0.1)\">\r\n       <defs>\r\n        <path d=\"M 37.796875 64.3125 \r\nL 12.890625 25.390625 \r\nL 37.796875 25.390625 \r\nz\r\nM 35.203125 72.90625 \r\nL 47.609375 72.90625 \r\nL 47.609375 25.390625 \r\nL 58.015625 25.390625 \r\nL 58.015625 17.1875 \r\nL 47.609375 17.1875 \r\nL 47.609375 0 \r\nL 37.796875 0 \r\nL 37.796875 17.1875 \r\nL 4.890625 17.1875 \r\nL 4.890625 26.703125 \r\nz\r\n\" id=\"DejaVuSans-52\"/>\r\n       </defs>\r\n       <use xlink:href=\"#DejaVuSans-52\"/>\r\n       <use x=\"63.623047\" xlink:href=\"#DejaVuSans-48\"/>\r\n      </g>\r\n     </g>\r\n    </g>\r\n    <g id=\"xtick_4\">\r\n     <g id=\"line2d_4\">\r\n      <g>\r\n       <use style=\"stroke:#000000;stroke-width:0.8;\" x=\"696.816546\" xlink:href=\"#m85c9317c77\" y=\"1366.2\"/>\r\n      </g>\r\n     </g>\r\n     <g id=\"text_4\">\r\n      <!-- 60 -->\r\n      <g transform=\"translate(690.454046 1380.798437)scale(0.1 -0.1)\">\r\n       <defs>\r\n        <path d=\"M 33.015625 40.375 \r\nQ 26.375 40.375 22.484375 35.828125 \r\nQ 18.609375 31.296875 18.609375 23.390625 \r\nQ 18.609375 15.53125 22.484375 10.953125 \r\nQ 26.375 6.390625 33.015625 6.390625 \r\nQ 39.65625 6.390625 43.53125 10.953125 \r\nQ 47.40625 15.53125 47.40625 23.390625 \r\nQ 47.40625 31.296875 43.53125 35.828125 \r\nQ 39.65625 40.375 33.015625 40.375 \r\nz\r\nM 52.59375 71.296875 \r\nL 52.59375 62.3125 \r\nQ 48.875 64.0625 45.09375 64.984375 \r\nQ 41.3125 65.921875 37.59375 65.921875 \r\nQ 27.828125 65.921875 22.671875 59.328125 \r\nQ 17.53125 52.734375 16.796875 39.40625 \r\nQ 19.671875 43.65625 24.015625 45.921875 \r\nQ 28.375 48.1875 33.59375 48.1875 \r\nQ 44.578125 48.1875 50.953125 41.515625 \r\nQ 57.328125 34.859375 57.328125 23.390625 \r\nQ 57.328125 12.15625 50.6875 5.359375 \r\nQ 44.046875 -1.421875 33.015625 -1.421875 \r\nQ 20.359375 -1.421875 13.671875 8.265625 \r\nQ 6.984375 17.96875 6.984375 36.375 \r\nQ 6.984375 53.65625 15.1875 63.9375 \r\nQ 23.390625 74.21875 37.203125 74.21875 \r\nQ 40.921875 74.21875 44.703125 73.484375 \r\nQ 48.484375 72.75 52.59375 71.296875 \r\nz\r\n\" id=\"DejaVuSans-54\"/>\r\n       </defs>\r\n       <use xlink:href=\"#DejaVuSans-54\"/>\r\n       <use x=\"63.623047\" xlink:href=\"#DejaVuSans-48\"/>\r\n      </g>\r\n     </g>\r\n    </g>\r\n    <g id=\"xtick_5\">\r\n     <g id=\"line2d_5\">\r\n      <g>\r\n       <use style=\"stroke:#000000;stroke-width:0.8;\" x=\"845.467895\" xlink:href=\"#m85c9317c77\" y=\"1366.2\"/>\r\n      </g>\r\n     </g>\r\n     <g id=\"text_5\">\r\n      <!-- 80 -->\r\n      <g transform=\"translate(839.105395 1380.798437)scale(0.1 -0.1)\">\r\n       <defs>\r\n        <path d=\"M 31.78125 34.625 \r\nQ 24.75 34.625 20.71875 30.859375 \r\nQ 16.703125 27.09375 16.703125 20.515625 \r\nQ 16.703125 13.921875 20.71875 10.15625 \r\nQ 24.75 6.390625 31.78125 6.390625 \r\nQ 38.8125 6.390625 42.859375 10.171875 \r\nQ 46.921875 13.96875 46.921875 20.515625 \r\nQ 46.921875 27.09375 42.890625 30.859375 \r\nQ 38.875 34.625 31.78125 34.625 \r\nz\r\nM 21.921875 38.8125 \r\nQ 15.578125 40.375 12.03125 44.71875 \r\nQ 8.5 49.078125 8.5 55.328125 \r\nQ 8.5 64.0625 14.71875 69.140625 \r\nQ 20.953125 74.21875 31.78125 74.21875 \r\nQ 42.671875 74.21875 48.875 69.140625 \r\nQ 55.078125 64.0625 55.078125 55.328125 \r\nQ 55.078125 49.078125 51.53125 44.71875 \r\nQ 48 40.375 41.703125 38.8125 \r\nQ 48.828125 37.15625 52.796875 32.3125 \r\nQ 56.78125 27.484375 56.78125 20.515625 \r\nQ 56.78125 9.90625 50.3125 4.234375 \r\nQ 43.84375 -1.421875 31.78125 -1.421875 \r\nQ 19.734375 -1.421875 13.25 4.234375 \r\nQ 6.78125 9.90625 6.78125 20.515625 \r\nQ 6.78125 27.484375 10.78125 32.3125 \r\nQ 14.796875 37.15625 21.921875 38.8125 \r\nz\r\nM 18.3125 54.390625 \r\nQ 18.3125 48.734375 21.84375 45.5625 \r\nQ 25.390625 42.390625 31.78125 42.390625 \r\nQ 38.140625 42.390625 41.71875 45.5625 \r\nQ 45.3125 48.734375 45.3125 54.390625 \r\nQ 45.3125 60.0625 41.71875 63.234375 \r\nQ 38.140625 66.40625 31.78125 66.40625 \r\nQ 25.390625 66.40625 21.84375 63.234375 \r\nQ 18.3125 60.0625 18.3125 54.390625 \r\nz\r\n\" id=\"DejaVuSans-56\"/>\r\n       </defs>\r\n       <use xlink:href=\"#DejaVuSans-56\"/>\r\n       <use x=\"63.623047\" xlink:href=\"#DejaVuSans-48\"/>\r\n      </g>\r\n     </g>\r\n    </g>\r\n    <g id=\"xtick_6\">\r\n     <g id=\"line2d_6\">\r\n      <g>\r\n       <use style=\"stroke:#000000;stroke-width:0.8;\" x=\"994.119243\" xlink:href=\"#m85c9317c77\" y=\"1366.2\"/>\r\n      </g>\r\n     </g>\r\n     <g id=\"text_6\">\r\n      <!-- 100 -->\r\n      <g transform=\"translate(984.575493 1380.798437)scale(0.1 -0.1)\">\r\n       <defs>\r\n        <path d=\"M 12.40625 8.296875 \r\nL 28.515625 8.296875 \r\nL 28.515625 63.921875 \r\nL 10.984375 60.40625 \r\nL 10.984375 69.390625 \r\nL 28.421875 72.90625 \r\nL 38.28125 72.90625 \r\nL 38.28125 8.296875 \r\nL 54.390625 8.296875 \r\nL 54.390625 0 \r\nL 12.40625 0 \r\nz\r\n\" id=\"DejaVuSans-49\"/>\r\n       </defs>\r\n       <use xlink:href=\"#DejaVuSans-49\"/>\r\n       <use x=\"63.623047\" xlink:href=\"#DejaVuSans-48\"/>\r\n       <use x=\"127.246094\" xlink:href=\"#DejaVuSans-48\"/>\r\n      </g>\r\n     </g>\r\n    </g>\r\n    <g id=\"xtick_7\">\r\n     <g id=\"line2d_7\">\r\n      <g>\r\n       <use style=\"stroke:#000000;stroke-width:0.8;\" x=\"1142.770592\" xlink:href=\"#m85c9317c77\" y=\"1366.2\"/>\r\n      </g>\r\n     </g>\r\n     <g id=\"text_7\">\r\n      <!-- 120 -->\r\n      <g transform=\"translate(1133.226842 1380.798437)scale(0.1 -0.1)\">\r\n       <use xlink:href=\"#DejaVuSans-49\"/>\r\n       <use x=\"63.623047\" xlink:href=\"#DejaVuSans-50\"/>\r\n       <use x=\"127.246094\" xlink:href=\"#DejaVuSans-48\"/>\r\n      </g>\r\n     </g>\r\n    </g>\r\n    <g id=\"xtick_8\">\r\n     <g id=\"line2d_8\">\r\n      <g>\r\n       <use style=\"stroke:#000000;stroke-width:0.8;\" x=\"1291.421941\" xlink:href=\"#m85c9317c77\" y=\"1366.2\"/>\r\n      </g>\r\n     </g>\r\n     <g id=\"text_8\">\r\n      <!-- 140 -->\r\n      <g transform=\"translate(1281.878191 1380.798437)scale(0.1 -0.1)\">\r\n       <use xlink:href=\"#DejaVuSans-49\"/>\r\n       <use x=\"63.623047\" xlink:href=\"#DejaVuSans-52\"/>\r\n       <use x=\"127.246094\" xlink:href=\"#DejaVuSans-48\"/>\r\n      </g>\r\n     </g>\r\n    </g>\r\n    <g id=\"text_9\">\r\n     <!-- count -->\r\n     <g transform=\"translate(794.75625 1394.476562)scale(0.1 -0.1)\">\r\n      <defs>\r\n       <path d=\"M 48.78125 52.59375 \r\nL 48.78125 44.1875 \r\nQ 44.96875 46.296875 41.140625 47.34375 \r\nQ 37.3125 48.390625 33.40625 48.390625 \r\nQ 24.65625 48.390625 19.8125 42.84375 \r\nQ 14.984375 37.3125 14.984375 27.296875 \r\nQ 14.984375 17.28125 19.8125 11.734375 \r\nQ 24.65625 6.203125 33.40625 6.203125 \r\nQ 37.3125 6.203125 41.140625 7.25 \r\nQ 44.96875 8.296875 48.78125 10.40625 \r\nL 48.78125 2.09375 \r\nQ 45.015625 0.34375 40.984375 -0.53125 \r\nQ 36.96875 -1.421875 32.421875 -1.421875 \r\nQ 20.0625 -1.421875 12.78125 6.34375 \r\nQ 5.515625 14.109375 5.515625 27.296875 \r\nQ 5.515625 40.671875 12.859375 48.328125 \r\nQ 20.21875 56 33.015625 56 \r\nQ 37.15625 56 41.109375 55.140625 \r\nQ 45.0625 54.296875 48.78125 52.59375 \r\nz\r\n\" id=\"DejaVuSans-99\"/>\r\n       <path d=\"M 30.609375 48.390625 \r\nQ 23.390625 48.390625 19.1875 42.75 \r\nQ 14.984375 37.109375 14.984375 27.296875 \r\nQ 14.984375 17.484375 19.15625 11.84375 \r\nQ 23.34375 6.203125 30.609375 6.203125 \r\nQ 37.796875 6.203125 41.984375 11.859375 \r\nQ 46.1875 17.53125 46.1875 27.296875 \r\nQ 46.1875 37.015625 41.984375 42.703125 \r\nQ 37.796875 48.390625 30.609375 48.390625 \r\nz\r\nM 30.609375 56 \r\nQ 42.328125 56 49.015625 48.375 \r\nQ 55.71875 40.765625 55.71875 27.296875 \r\nQ 55.71875 13.875 49.015625 6.21875 \r\nQ 42.328125 -1.421875 30.609375 -1.421875 \r\nQ 18.84375 -1.421875 12.171875 6.21875 \r\nQ 5.515625 13.875 5.515625 27.296875 \r\nQ 5.515625 40.765625 12.171875 48.375 \r\nQ 18.84375 56 30.609375 56 \r\nz\r\n\" id=\"DejaVuSans-111\"/>\r\n       <path d=\"M 8.5 21.578125 \r\nL 8.5 54.6875 \r\nL 17.484375 54.6875 \r\nL 17.484375 21.921875 \r\nQ 17.484375 14.15625 20.5 10.265625 \r\nQ 23.53125 6.390625 29.59375 6.390625 \r\nQ 36.859375 6.390625 41.078125 11.03125 \r\nQ 45.3125 15.671875 45.3125 23.6875 \r\nL 45.3125 54.6875 \r\nL 54.296875 54.6875 \r\nL 54.296875 0 \r\nL 45.3125 0 \r\nL 45.3125 8.40625 \r\nQ 42.046875 3.421875 37.71875 1 \r\nQ 33.40625 -1.421875 27.6875 -1.421875 \r\nQ 18.265625 -1.421875 13.375 4.4375 \r\nQ 8.5 10.296875 8.5 21.578125 \r\nz\r\nM 31.109375 56 \r\nz\r\n\" id=\"DejaVuSans-117\"/>\r\n       <path d=\"M 54.890625 33.015625 \r\nL 54.890625 0 \r\nL 45.90625 0 \r\nL 45.90625 32.71875 \r\nQ 45.90625 40.484375 42.875 44.328125 \r\nQ 39.84375 48.1875 33.796875 48.1875 \r\nQ 26.515625 48.1875 22.3125 43.546875 \r\nQ 18.109375 38.921875 18.109375 30.90625 \r\nL 18.109375 0 \r\nL 9.078125 0 \r\nL 9.078125 54.6875 \r\nL 18.109375 54.6875 \r\nL 18.109375 46.1875 \r\nQ 21.34375 51.125 25.703125 53.5625 \r\nQ 30.078125 56 35.796875 56 \r\nQ 45.21875 56 50.046875 50.171875 \r\nQ 54.890625 44.34375 54.890625 33.015625 \r\nz\r\n\" id=\"DejaVuSans-110\"/>\r\n       <path d=\"M 18.3125 70.21875 \r\nL 18.3125 54.6875 \r\nL 36.8125 54.6875 \r\nL 36.8125 47.703125 \r\nL 18.3125 47.703125 \r\nL 18.3125 18.015625 \r\nQ 18.3125 11.328125 20.140625 9.421875 \r\nQ 21.96875 7.515625 27.59375 7.515625 \r\nL 36.8125 7.515625 \r\nL 36.8125 0 \r\nL 27.59375 0 \r\nQ 17.1875 0 13.234375 3.875 \r\nQ 9.28125 7.765625 9.28125 18.015625 \r\nL 9.28125 47.703125 \r\nL 2.6875 47.703125 \r\nL 2.6875 54.6875 \r\nL 9.28125 54.6875 \r\nL 9.28125 70.21875 \r\nz\r\n\" id=\"DejaVuSans-116\"/>\r\n      </defs>\r\n      <use xlink:href=\"#DejaVuSans-99\"/>\r\n      <use x=\"54.980469\" xlink:href=\"#DejaVuSans-111\"/>\r\n      <use x=\"116.162109\" xlink:href=\"#DejaVuSans-117\"/>\r\n      <use x=\"179.541016\" xlink:href=\"#DejaVuSans-110\"/>\r\n      <use x=\"242.919922\" xlink:href=\"#DejaVuSans-116\"/>\r\n     </g>\r\n    </g>\r\n   </g>\r\n   <g id=\"matplotlib.axis_2\">\r\n    <g id=\"ytick_1\">\r\n     <g id=\"line2d_9\">\r\n      <defs>\r\n       <path d=\"M 0 0 \r\nL -3.5 0 \r\n\" id=\"mc3399cac42\" style=\"stroke:#000000;stroke-width:0.8;\"/>\r\n      </defs>\r\n      <g>\r\n       <use style=\"stroke:#000000;stroke-width:0.8;\" x=\"250.8625\" xlink:href=\"#mc3399cac42\" y=\"177.075\"/>\r\n      </g>\r\n     </g>\r\n     <g id=\"text_10\">\r\n      <!-- Standby (Operational Support Provided) -->\r\n      <g transform=\"translate(43.5625 180.874219)scale(0.1 -0.1)\">\r\n       <defs>\r\n        <path d=\"M 53.515625 70.515625 \r\nL 53.515625 60.890625 \r\nQ 47.90625 63.578125 42.921875 64.890625 \r\nQ 37.9375 66.21875 33.296875 66.21875 \r\nQ 25.25 66.21875 20.875 63.09375 \r\nQ 16.5 59.96875 16.5 54.203125 \r\nQ 16.5 49.359375 19.40625 46.890625 \r\nQ 22.3125 44.4375 30.421875 42.921875 \r\nL 36.375 41.703125 \r\nQ 47.40625 39.59375 52.65625 34.296875 \r\nQ 57.90625 29 57.90625 20.125 \r\nQ 57.90625 9.515625 50.796875 4.046875 \r\nQ 43.703125 -1.421875 29.984375 -1.421875 \r\nQ 24.8125 -1.421875 18.96875 -0.25 \r\nQ 13.140625 0.921875 6.890625 3.21875 \r\nL 6.890625 13.375 \r\nQ 12.890625 10.015625 18.65625 8.296875 \r\nQ 24.421875 6.59375 29.984375 6.59375 \r\nQ 38.421875 6.59375 43.015625 9.90625 \r\nQ 47.609375 13.234375 47.609375 19.390625 \r\nQ 47.609375 24.75 44.3125 27.78125 \r\nQ 41.015625 30.8125 33.5 32.328125 \r\nL 27.484375 33.5 \r\nQ 16.453125 35.6875 11.515625 40.375 \r\nQ 6.59375 45.0625 6.59375 53.421875 \r\nQ 6.59375 63.09375 13.40625 68.65625 \r\nQ 20.21875 74.21875 32.171875 74.21875 \r\nQ 37.3125 74.21875 42.625 73.28125 \r\nQ 47.953125 72.359375 53.515625 70.515625 \r\nz\r\n\" id=\"DejaVuSans-83\"/>\r\n        <path d=\"M 34.28125 27.484375 \r\nQ 23.390625 27.484375 19.1875 25 \r\nQ 14.984375 22.515625 14.984375 16.5 \r\nQ 14.984375 11.71875 18.140625 8.90625 \r\nQ 21.296875 6.109375 26.703125 6.109375 \r\nQ 34.1875 6.109375 38.703125 11.40625 \r\nQ 43.21875 16.703125 43.21875 25.484375 \r\nL 43.21875 27.484375 \r\nz\r\nM 52.203125 31.203125 \r\nL 52.203125 0 \r\nL 43.21875 0 \r\nL 43.21875 8.296875 \r\nQ 40.140625 3.328125 35.546875 0.953125 \r\nQ 30.953125 -1.421875 24.3125 -1.421875 \r\nQ 15.921875 -1.421875 10.953125 3.296875 \r\nQ 6 8.015625 6 15.921875 \r\nQ 6 25.140625 12.171875 29.828125 \r\nQ 18.359375 34.515625 30.609375 34.515625 \r\nL 43.21875 34.515625 \r\nL 43.21875 35.40625 \r\nQ 43.21875 41.609375 39.140625 45 \r\nQ 35.0625 48.390625 27.6875 48.390625 \r\nQ 23 48.390625 18.546875 47.265625 \r\nQ 14.109375 46.140625 10.015625 43.890625 \r\nL 10.015625 52.203125 \r\nQ 14.9375 54.109375 19.578125 55.046875 \r\nQ 24.21875 56 28.609375 56 \r\nQ 40.484375 56 46.34375 49.84375 \r\nQ 52.203125 43.703125 52.203125 31.203125 \r\nz\r\n\" id=\"DejaVuSans-97\"/>\r\n        <path d=\"M 45.40625 46.390625 \r\nL 45.40625 75.984375 \r\nL 54.390625 75.984375 \r\nL 54.390625 0 \r\nL 45.40625 0 \r\nL 45.40625 8.203125 \r\nQ 42.578125 3.328125 38.25 0.953125 \r\nQ 33.9375 -1.421875 27.875 -1.421875 \r\nQ 17.96875 -1.421875 11.734375 6.484375 \r\nQ 5.515625 14.40625 5.515625 27.296875 \r\nQ 5.515625 40.1875 11.734375 48.09375 \r\nQ 17.96875 56 27.875 56 \r\nQ 33.9375 56 38.25 53.625 \r\nQ 42.578125 51.265625 45.40625 46.390625 \r\nz\r\nM 14.796875 27.296875 \r\nQ 14.796875 17.390625 18.875 11.75 \r\nQ 22.953125 6.109375 30.078125 6.109375 \r\nQ 37.203125 6.109375 41.296875 11.75 \r\nQ 45.40625 17.390625 45.40625 27.296875 \r\nQ 45.40625 37.203125 41.296875 42.84375 \r\nQ 37.203125 48.484375 30.078125 48.484375 \r\nQ 22.953125 48.484375 18.875 42.84375 \r\nQ 14.796875 37.203125 14.796875 27.296875 \r\nz\r\n\" id=\"DejaVuSans-100\"/>\r\n        <path d=\"M 48.6875 27.296875 \r\nQ 48.6875 37.203125 44.609375 42.84375 \r\nQ 40.53125 48.484375 33.40625 48.484375 \r\nQ 26.265625 48.484375 22.1875 42.84375 \r\nQ 18.109375 37.203125 18.109375 27.296875 \r\nQ 18.109375 17.390625 22.1875 11.75 \r\nQ 26.265625 6.109375 33.40625 6.109375 \r\nQ 40.53125 6.109375 44.609375 11.75 \r\nQ 48.6875 17.390625 48.6875 27.296875 \r\nz\r\nM 18.109375 46.390625 \r\nQ 20.953125 51.265625 25.265625 53.625 \r\nQ 29.59375 56 35.59375 56 \r\nQ 45.5625 56 51.78125 48.09375 \r\nQ 58.015625 40.1875 58.015625 27.296875 \r\nQ 58.015625 14.40625 51.78125 6.484375 \r\nQ 45.5625 -1.421875 35.59375 -1.421875 \r\nQ 29.59375 -1.421875 25.265625 0.953125 \r\nQ 20.953125 3.328125 18.109375 8.203125 \r\nL 18.109375 0 \r\nL 9.078125 0 \r\nL 9.078125 75.984375 \r\nL 18.109375 75.984375 \r\nz\r\n\" id=\"DejaVuSans-98\"/>\r\n        <path d=\"M 32.171875 -5.078125 \r\nQ 28.375 -14.84375 24.75 -17.8125 \r\nQ 21.140625 -20.796875 15.09375 -20.796875 \r\nL 7.90625 -20.796875 \r\nL 7.90625 -13.28125 \r\nL 13.1875 -13.28125 \r\nQ 16.890625 -13.28125 18.9375 -11.515625 \r\nQ 21 -9.765625 23.484375 -3.21875 \r\nL 25.09375 0.875 \r\nL 2.984375 54.6875 \r\nL 12.5 54.6875 \r\nL 29.59375 11.921875 \r\nL 46.6875 54.6875 \r\nL 56.203125 54.6875 \r\nz\r\n\" id=\"DejaVuSans-121\"/>\r\n        <path id=\"DejaVuSans-32\"/>\r\n        <path d=\"M 31 75.875 \r\nQ 24.46875 64.65625 21.28125 53.65625 \r\nQ 18.109375 42.671875 18.109375 31.390625 \r\nQ 18.109375 20.125 21.3125 9.0625 \r\nQ 24.515625 -2 31 -13.1875 \r\nL 23.1875 -13.1875 \r\nQ 15.875 -1.703125 12.234375 9.375 \r\nQ 8.59375 20.453125 8.59375 31.390625 \r\nQ 8.59375 42.28125 12.203125 53.3125 \r\nQ 15.828125 64.359375 23.1875 75.875 \r\nz\r\n\" id=\"DejaVuSans-40\"/>\r\n        <path d=\"M 39.40625 66.21875 \r\nQ 28.65625 66.21875 22.328125 58.203125 \r\nQ 16.015625 50.203125 16.015625 36.375 \r\nQ 16.015625 22.609375 22.328125 14.59375 \r\nQ 28.65625 6.59375 39.40625 6.59375 \r\nQ 50.140625 6.59375 56.421875 14.59375 \r\nQ 62.703125 22.609375 62.703125 36.375 \r\nQ 62.703125 50.203125 56.421875 58.203125 \r\nQ 50.140625 66.21875 39.40625 66.21875 \r\nz\r\nM 39.40625 74.21875 \r\nQ 54.734375 74.21875 63.90625 63.9375 \r\nQ 73.09375 53.65625 73.09375 36.375 \r\nQ 73.09375 19.140625 63.90625 8.859375 \r\nQ 54.734375 -1.421875 39.40625 -1.421875 \r\nQ 24.03125 -1.421875 14.8125 8.828125 \r\nQ 5.609375 19.09375 5.609375 36.375 \r\nQ 5.609375 53.65625 14.8125 63.9375 \r\nQ 24.03125 74.21875 39.40625 74.21875 \r\nz\r\n\" id=\"DejaVuSans-79\"/>\r\n        <path d=\"M 18.109375 8.203125 \r\nL 18.109375 -20.796875 \r\nL 9.078125 -20.796875 \r\nL 9.078125 54.6875 \r\nL 18.109375 54.6875 \r\nL 18.109375 46.390625 \r\nQ 20.953125 51.265625 25.265625 53.625 \r\nQ 29.59375 56 35.59375 56 \r\nQ 45.5625 56 51.78125 48.09375 \r\nQ 58.015625 40.1875 58.015625 27.296875 \r\nQ 58.015625 14.40625 51.78125 6.484375 \r\nQ 45.5625 -1.421875 35.59375 -1.421875 \r\nQ 29.59375 -1.421875 25.265625 0.953125 \r\nQ 20.953125 3.328125 18.109375 8.203125 \r\nz\r\nM 48.6875 27.296875 \r\nQ 48.6875 37.203125 44.609375 42.84375 \r\nQ 40.53125 48.484375 33.40625 48.484375 \r\nQ 26.265625 48.484375 22.1875 42.84375 \r\nQ 18.109375 37.203125 18.109375 27.296875 \r\nQ 18.109375 17.390625 22.1875 11.75 \r\nQ 26.265625 6.109375 33.40625 6.109375 \r\nQ 40.53125 6.109375 44.609375 11.75 \r\nQ 48.6875 17.390625 48.6875 27.296875 \r\nz\r\n\" id=\"DejaVuSans-112\"/>\r\n        <path d=\"M 56.203125 29.59375 \r\nL 56.203125 25.203125 \r\nL 14.890625 25.203125 \r\nQ 15.484375 15.921875 20.484375 11.0625 \r\nQ 25.484375 6.203125 34.421875 6.203125 \r\nQ 39.59375 6.203125 44.453125 7.46875 \r\nQ 49.3125 8.734375 54.109375 11.28125 \r\nL 54.109375 2.78125 \r\nQ 49.265625 0.734375 44.1875 -0.34375 \r\nQ 39.109375 -1.421875 33.890625 -1.421875 \r\nQ 20.796875 -1.421875 13.15625 6.1875 \r\nQ 5.515625 13.8125 5.515625 26.8125 \r\nQ 5.515625 40.234375 12.765625 48.109375 \r\nQ 20.015625 56 32.328125 56 \r\nQ 43.359375 56 49.78125 48.890625 \r\nQ 56.203125 41.796875 56.203125 29.59375 \r\nz\r\nM 47.21875 32.234375 \r\nQ 47.125 39.59375 43.09375 43.984375 \r\nQ 39.0625 48.390625 32.421875 48.390625 \r\nQ 24.90625 48.390625 20.390625 44.140625 \r\nQ 15.875 39.890625 15.1875 32.171875 \r\nz\r\n\" id=\"DejaVuSans-101\"/>\r\n        <path d=\"M 41.109375 46.296875 \r\nQ 39.59375 47.171875 37.8125 47.578125 \r\nQ 36.03125 48 33.890625 48 \r\nQ 26.265625 48 22.1875 43.046875 \r\nQ 18.109375 38.09375 18.109375 28.8125 \r\nL 18.109375 0 \r\nL 9.078125 0 \r\nL 9.078125 54.6875 \r\nL 18.109375 54.6875 \r\nL 18.109375 46.1875 \r\nQ 20.953125 51.171875 25.484375 53.578125 \r\nQ 30.03125 56 36.53125 56 \r\nQ 37.453125 56 38.578125 55.875 \r\nQ 39.703125 55.765625 41.0625 55.515625 \r\nz\r\n\" id=\"DejaVuSans-114\"/>\r\n        <path d=\"M 9.421875 54.6875 \r\nL 18.40625 54.6875 \r\nL 18.40625 0 \r\nL 9.421875 0 \r\nz\r\nM 9.421875 75.984375 \r\nL 18.40625 75.984375 \r\nL 18.40625 64.59375 \r\nL 9.421875 64.59375 \r\nz\r\n\" id=\"DejaVuSans-105\"/>\r\n        <path d=\"M 9.421875 75.984375 \r\nL 18.40625 75.984375 \r\nL 18.40625 0 \r\nL 9.421875 0 \r\nz\r\n\" id=\"DejaVuSans-108\"/>\r\n        <path d=\"M 19.671875 64.796875 \r\nL 19.671875 37.40625 \r\nL 32.078125 37.40625 \r\nQ 38.96875 37.40625 42.71875 40.96875 \r\nQ 46.484375 44.53125 46.484375 51.125 \r\nQ 46.484375 57.671875 42.71875 61.234375 \r\nQ 38.96875 64.796875 32.078125 64.796875 \r\nz\r\nM 9.8125 72.90625 \r\nL 32.078125 72.90625 \r\nQ 44.34375 72.90625 50.609375 67.359375 \r\nQ 56.890625 61.8125 56.890625 51.125 \r\nQ 56.890625 40.328125 50.609375 34.8125 \r\nQ 44.34375 29.296875 32.078125 29.296875 \r\nL 19.671875 29.296875 \r\nL 19.671875 0 \r\nL 9.8125 0 \r\nz\r\n\" id=\"DejaVuSans-80\"/>\r\n        <path d=\"M 2.984375 54.6875 \r\nL 12.5 54.6875 \r\nL 29.59375 8.796875 \r\nL 46.6875 54.6875 \r\nL 56.203125 54.6875 \r\nL 35.6875 0 \r\nL 23.484375 0 \r\nz\r\n\" id=\"DejaVuSans-118\"/>\r\n        <path d=\"M 8.015625 75.875 \r\nL 15.828125 75.875 \r\nQ 23.140625 64.359375 26.78125 53.3125 \r\nQ 30.421875 42.28125 30.421875 31.390625 \r\nQ 30.421875 20.453125 26.78125 9.375 \r\nQ 23.140625 -1.703125 15.828125 -13.1875 \r\nL 8.015625 -13.1875 \r\nQ 14.5 -2 17.703125 9.0625 \r\nQ 20.90625 20.125 20.90625 31.390625 \r\nQ 20.90625 42.671875 17.703125 53.65625 \r\nQ 14.5 64.65625 8.015625 75.875 \r\nz\r\n\" id=\"DejaVuSans-41\"/>\r\n       </defs>\r\n       <use xlink:href=\"#DejaVuSans-83\"/>\r\n       <use x=\"63.476562\" xlink:href=\"#DejaVuSans-116\"/>\r\n       <use x=\"102.685547\" xlink:href=\"#DejaVuSans-97\"/>\r\n       <use x=\"163.964844\" xlink:href=\"#DejaVuSans-110\"/>\r\n       <use x=\"227.34375\" xlink:href=\"#DejaVuSans-100\"/>\r\n       <use x=\"290.820312\" xlink:href=\"#DejaVuSans-98\"/>\r\n       <use x=\"354.296875\" xlink:href=\"#DejaVuSans-121\"/>\r\n       <use x=\"413.476562\" xlink:href=\"#DejaVuSans-32\"/>\r\n       <use x=\"445.263672\" xlink:href=\"#DejaVuSans-40\"/>\r\n       <use x=\"484.277344\" xlink:href=\"#DejaVuSans-79\"/>\r\n       <use x=\"562.988281\" xlink:href=\"#DejaVuSans-112\"/>\r\n       <use x=\"626.464844\" xlink:href=\"#DejaVuSans-101\"/>\r\n       <use x=\"687.988281\" xlink:href=\"#DejaVuSans-114\"/>\r\n       <use x=\"729.101562\" xlink:href=\"#DejaVuSans-97\"/>\r\n       <use x=\"790.380859\" xlink:href=\"#DejaVuSans-116\"/>\r\n       <use x=\"829.589844\" xlink:href=\"#DejaVuSans-105\"/>\r\n       <use x=\"857.373047\" xlink:href=\"#DejaVuSans-111\"/>\r\n       <use x=\"918.554688\" xlink:href=\"#DejaVuSans-110\"/>\r\n       <use x=\"981.933594\" xlink:href=\"#DejaVuSans-97\"/>\r\n       <use x=\"1043.212891\" xlink:href=\"#DejaVuSans-108\"/>\r\n       <use x=\"1070.996094\" xlink:href=\"#DejaVuSans-32\"/>\r\n       <use x=\"1102.783203\" xlink:href=\"#DejaVuSans-83\"/>\r\n       <use x=\"1166.259766\" xlink:href=\"#DejaVuSans-117\"/>\r\n       <use x=\"1229.638672\" xlink:href=\"#DejaVuSans-112\"/>\r\n       <use x=\"1293.115234\" xlink:href=\"#DejaVuSans-112\"/>\r\n       <use x=\"1356.591797\" xlink:href=\"#DejaVuSans-111\"/>\r\n       <use x=\"1417.773438\" xlink:href=\"#DejaVuSans-114\"/>\r\n       <use x=\"1458.886719\" xlink:href=\"#DejaVuSans-116\"/>\r\n       <use x=\"1498.095703\" xlink:href=\"#DejaVuSans-32\"/>\r\n       <use x=\"1529.882812\" xlink:href=\"#DejaVuSans-80\"/>\r\n       <use x=\"1588.435547\" xlink:href=\"#DejaVuSans-114\"/>\r\n       <use x=\"1627.298828\" xlink:href=\"#DejaVuSans-111\"/>\r\n       <use x=\"1688.480469\" xlink:href=\"#DejaVuSans-118\"/>\r\n       <use x=\"1747.660156\" xlink:href=\"#DejaVuSans-105\"/>\r\n       <use x=\"1775.443359\" xlink:href=\"#DejaVuSans-100\"/>\r\n       <use x=\"1838.919922\" xlink:href=\"#DejaVuSans-101\"/>\r\n       <use x=\"1900.443359\" xlink:href=\"#DejaVuSans-100\"/>\r\n       <use x=\"1963.919922\" xlink:href=\"#DejaVuSans-41\"/>\r\n      </g>\r\n     </g>\r\n    </g>\r\n    <g id=\"ytick_2\">\r\n     <g id=\"line2d_10\">\r\n      <g>\r\n       <use style=\"stroke:#000000;stroke-width:0.8;\" x=\"250.8625\" xlink:href=\"#mc3399cac42\" y=\"516.825\"/>\r\n      </g>\r\n     </g>\r\n     <g id=\"text_11\">\r\n      <!-- Patient Dead at Scene (No EMS CPR) -->\r\n      <g transform=\"translate(60.448438 520.624219)scale(0.1 -0.1)\">\r\n       <defs>\r\n        <path d=\"M 19.671875 64.796875 \r\nL 19.671875 8.109375 \r\nL 31.59375 8.109375 \r\nQ 46.6875 8.109375 53.6875 14.9375 \r\nQ 60.6875 21.78125 60.6875 36.53125 \r\nQ 60.6875 51.171875 53.6875 57.984375 \r\nQ 46.6875 64.796875 31.59375 64.796875 \r\nz\r\nM 9.8125 72.90625 \r\nL 30.078125 72.90625 \r\nQ 51.265625 72.90625 61.171875 64.09375 \r\nQ 71.09375 55.28125 71.09375 36.53125 \r\nQ 71.09375 17.671875 61.125 8.828125 \r\nQ 51.171875 0 30.078125 0 \r\nL 9.8125 0 \r\nz\r\n\" id=\"DejaVuSans-68\"/>\r\n        <path d=\"M 9.8125 72.90625 \r\nL 23.09375 72.90625 \r\nL 55.421875 11.921875 \r\nL 55.421875 72.90625 \r\nL 64.984375 72.90625 \r\nL 64.984375 0 \r\nL 51.703125 0 \r\nL 19.390625 60.984375 \r\nL 19.390625 0 \r\nL 9.8125 0 \r\nz\r\n\" id=\"DejaVuSans-78\"/>\r\n        <path d=\"M 9.8125 72.90625 \r\nL 55.90625 72.90625 \r\nL 55.90625 64.59375 \r\nL 19.671875 64.59375 \r\nL 19.671875 43.015625 \r\nL 54.390625 43.015625 \r\nL 54.390625 34.71875 \r\nL 19.671875 34.71875 \r\nL 19.671875 8.296875 \r\nL 56.78125 8.296875 \r\nL 56.78125 0 \r\nL 9.8125 0 \r\nz\r\n\" id=\"DejaVuSans-69\"/>\r\n        <path d=\"M 9.8125 72.90625 \r\nL 24.515625 72.90625 \r\nL 43.109375 23.296875 \r\nL 61.8125 72.90625 \r\nL 76.515625 72.90625 \r\nL 76.515625 0 \r\nL 66.890625 0 \r\nL 66.890625 64.015625 \r\nL 48.09375 14.015625 \r\nL 38.1875 14.015625 \r\nL 19.390625 64.015625 \r\nL 19.390625 0 \r\nL 9.8125 0 \r\nz\r\n\" id=\"DejaVuSans-77\"/>\r\n        <path d=\"M 64.40625 67.28125 \r\nL 64.40625 56.890625 \r\nQ 59.421875 61.53125 53.78125 63.8125 \r\nQ 48.140625 66.109375 41.796875 66.109375 \r\nQ 29.296875 66.109375 22.65625 58.46875 \r\nQ 16.015625 50.828125 16.015625 36.375 \r\nQ 16.015625 21.96875 22.65625 14.328125 \r\nQ 29.296875 6.6875 41.796875 6.6875 \r\nQ 48.140625 6.6875 53.78125 8.984375 \r\nQ 59.421875 11.28125 64.40625 15.921875 \r\nL 64.40625 5.609375 \r\nQ 59.234375 2.09375 53.4375 0.328125 \r\nQ 47.65625 -1.421875 41.21875 -1.421875 \r\nQ 24.65625 -1.421875 15.125 8.703125 \r\nQ 5.609375 18.84375 5.609375 36.375 \r\nQ 5.609375 53.953125 15.125 64.078125 \r\nQ 24.65625 74.21875 41.21875 74.21875 \r\nQ 47.75 74.21875 53.53125 72.484375 \r\nQ 59.328125 70.75 64.40625 67.28125 \r\nz\r\n\" id=\"DejaVuSans-67\"/>\r\n        <path d=\"M 44.390625 34.1875 \r\nQ 47.5625 33.109375 50.5625 29.59375 \r\nQ 53.5625 26.078125 56.59375 19.921875 \r\nL 66.609375 0 \r\nL 56 0 \r\nL 46.6875 18.703125 \r\nQ 43.0625 26.03125 39.671875 28.421875 \r\nQ 36.28125 30.8125 30.421875 30.8125 \r\nL 19.671875 30.8125 \r\nL 19.671875 0 \r\nL 9.8125 0 \r\nL 9.8125 72.90625 \r\nL 32.078125 72.90625 \r\nQ 44.578125 72.90625 50.734375 67.671875 \r\nQ 56.890625 62.453125 56.890625 51.90625 \r\nQ 56.890625 45.015625 53.6875 40.46875 \r\nQ 50.484375 35.9375 44.390625 34.1875 \r\nz\r\nM 19.671875 64.796875 \r\nL 19.671875 38.921875 \r\nL 32.078125 38.921875 \r\nQ 39.203125 38.921875 42.84375 42.21875 \r\nQ 46.484375 45.515625 46.484375 51.90625 \r\nQ 46.484375 58.296875 42.84375 61.546875 \r\nQ 39.203125 64.796875 32.078125 64.796875 \r\nz\r\n\" id=\"DejaVuSans-82\"/>\r\n       </defs>\r\n       <use xlink:href=\"#DejaVuSans-80\"/>\r\n       <use x=\"55.802734\" xlink:href=\"#DejaVuSans-97\"/>\r\n       <use x=\"117.082031\" xlink:href=\"#DejaVuSans-116\"/>\r\n       <use x=\"156.291016\" xlink:href=\"#DejaVuSans-105\"/>\r\n       <use x=\"184.074219\" xlink:href=\"#DejaVuSans-101\"/>\r\n       <use x=\"245.597656\" xlink:href=\"#DejaVuSans-110\"/>\r\n       <use x=\"308.976562\" xlink:href=\"#DejaVuSans-116\"/>\r\n       <use x=\"348.185547\" xlink:href=\"#DejaVuSans-32\"/>\r\n       <use x=\"379.972656\" xlink:href=\"#DejaVuSans-68\"/>\r\n       <use x=\"456.974609\" xlink:href=\"#DejaVuSans-101\"/>\r\n       <use x=\"518.498047\" xlink:href=\"#DejaVuSans-97\"/>\r\n       <use x=\"579.777344\" xlink:href=\"#DejaVuSans-100\"/>\r\n       <use x=\"643.253906\" xlink:href=\"#DejaVuSans-32\"/>\r\n       <use x=\"675.041016\" xlink:href=\"#DejaVuSans-97\"/>\r\n       <use x=\"736.320312\" xlink:href=\"#DejaVuSans-116\"/>\r\n       <use x=\"775.529297\" xlink:href=\"#DejaVuSans-32\"/>\r\n       <use x=\"807.316406\" xlink:href=\"#DejaVuSans-83\"/>\r\n       <use x=\"870.792969\" xlink:href=\"#DejaVuSans-99\"/>\r\n       <use x=\"925.773438\" xlink:href=\"#DejaVuSans-101\"/>\r\n       <use x=\"987.296875\" xlink:href=\"#DejaVuSans-110\"/>\r\n       <use x=\"1050.675781\" xlink:href=\"#DejaVuSans-101\"/>\r\n       <use x=\"1112.199219\" xlink:href=\"#DejaVuSans-32\"/>\r\n       <use x=\"1143.986328\" xlink:href=\"#DejaVuSans-40\"/>\r\n       <use x=\"1183\" xlink:href=\"#DejaVuSans-78\"/>\r\n       <use x=\"1257.804688\" xlink:href=\"#DejaVuSans-111\"/>\r\n       <use x=\"1318.986328\" xlink:href=\"#DejaVuSans-32\"/>\r\n       <use x=\"1350.773438\" xlink:href=\"#DejaVuSans-69\"/>\r\n       <use x=\"1413.957031\" xlink:href=\"#DejaVuSans-77\"/>\r\n       <use x=\"1500.236328\" xlink:href=\"#DejaVuSans-83\"/>\r\n       <use x=\"1563.712891\" xlink:href=\"#DejaVuSans-32\"/>\r\n       <use x=\"1595.5\" xlink:href=\"#DejaVuSans-67\"/>\r\n       <use x=\"1665.324219\" xlink:href=\"#DejaVuSans-80\"/>\r\n       <use x=\"1725.626953\" xlink:href=\"#DejaVuSans-82\"/>\r\n       <use x=\"1795.109375\" xlink:href=\"#DejaVuSans-41\"/>\r\n      </g>\r\n     </g>\r\n    </g>\r\n    <g id=\"ytick_3\">\r\n     <g id=\"line2d_11\">\r\n      <g>\r\n       <use style=\"stroke:#000000;stroke-width:0.8;\" x=\"250.8625\" xlink:href=\"#mc3399cac42\" y=\"856.575\"/>\r\n      </g>\r\n     </g>\r\n     <g id=\"text_12\">\r\n      <!-- Treated, Transferred Care -->\r\n      <g transform=\"translate(117.540625 860.374219)scale(0.1 -0.1)\">\r\n       <defs>\r\n        <path d=\"M -0.296875 72.90625 \r\nL 61.375 72.90625 \r\nL 61.375 64.59375 \r\nL 35.5 64.59375 \r\nL 35.5 0 \r\nL 25.59375 0 \r\nL 25.59375 64.59375 \r\nL -0.296875 64.59375 \r\nz\r\n\" id=\"DejaVuSans-84\"/>\r\n        <path d=\"M 11.71875 12.40625 \r\nL 22.015625 12.40625 \r\nL 22.015625 4 \r\nL 14.015625 -11.625 \r\nL 7.71875 -11.625 \r\nL 11.71875 4 \r\nz\r\n\" id=\"DejaVuSans-44\"/>\r\n        <path d=\"M 44.28125 53.078125 \r\nL 44.28125 44.578125 \r\nQ 40.484375 46.53125 36.375 47.5 \r\nQ 32.28125 48.484375 27.875 48.484375 \r\nQ 21.1875 48.484375 17.84375 46.4375 \r\nQ 14.5 44.390625 14.5 40.28125 \r\nQ 14.5 37.15625 16.890625 35.375 \r\nQ 19.28125 33.59375 26.515625 31.984375 \r\nL 29.59375 31.296875 \r\nQ 39.15625 29.25 43.1875 25.515625 \r\nQ 47.21875 21.78125 47.21875 15.09375 \r\nQ 47.21875 7.46875 41.1875 3.015625 \r\nQ 35.15625 -1.421875 24.609375 -1.421875 \r\nQ 20.21875 -1.421875 15.453125 -0.5625 \r\nQ 10.6875 0.296875 5.421875 2 \r\nL 5.421875 11.28125 \r\nQ 10.40625 8.6875 15.234375 7.390625 \r\nQ 20.0625 6.109375 24.8125 6.109375 \r\nQ 31.15625 6.109375 34.5625 8.28125 \r\nQ 37.984375 10.453125 37.984375 14.40625 \r\nQ 37.984375 18.0625 35.515625 20.015625 \r\nQ 33.0625 21.96875 24.703125 23.78125 \r\nL 21.578125 24.515625 \r\nQ 13.234375 26.265625 9.515625 29.90625 \r\nQ 5.8125 33.546875 5.8125 39.890625 \r\nQ 5.8125 47.609375 11.28125 51.796875 \r\nQ 16.75 56 26.8125 56 \r\nQ 31.78125 56 36.171875 55.265625 \r\nQ 40.578125 54.546875 44.28125 53.078125 \r\nz\r\n\" id=\"DejaVuSans-115\"/>\r\n        <path d=\"M 37.109375 75.984375 \r\nL 37.109375 68.5 \r\nL 28.515625 68.5 \r\nQ 23.6875 68.5 21.796875 66.546875 \r\nQ 19.921875 64.59375 19.921875 59.515625 \r\nL 19.921875 54.6875 \r\nL 34.71875 54.6875 \r\nL 34.71875 47.703125 \r\nL 19.921875 47.703125 \r\nL 19.921875 0 \r\nL 10.890625 0 \r\nL 10.890625 47.703125 \r\nL 2.296875 47.703125 \r\nL 2.296875 54.6875 \r\nL 10.890625 54.6875 \r\nL 10.890625 58.5 \r\nQ 10.890625 67.625 15.140625 71.796875 \r\nQ 19.390625 75.984375 28.609375 75.984375 \r\nz\r\n\" id=\"DejaVuSans-102\"/>\r\n       </defs>\r\n       <use xlink:href=\"#DejaVuSans-84\"/>\r\n       <use x=\"46.333984\" xlink:href=\"#DejaVuSans-114\"/>\r\n       <use x=\"85.197266\" xlink:href=\"#DejaVuSans-101\"/>\r\n       <use x=\"146.720703\" xlink:href=\"#DejaVuSans-97\"/>\r\n       <use x=\"208\" xlink:href=\"#DejaVuSans-116\"/>\r\n       <use x=\"247.208984\" xlink:href=\"#DejaVuSans-101\"/>\r\n       <use x=\"308.732422\" xlink:href=\"#DejaVuSans-100\"/>\r\n       <use x=\"372.208984\" xlink:href=\"#DejaVuSans-44\"/>\r\n       <use x=\"403.996094\" xlink:href=\"#DejaVuSans-32\"/>\r\n       <use x=\"435.783203\" xlink:href=\"#DejaVuSans-84\"/>\r\n       <use x=\"482.117188\" xlink:href=\"#DejaVuSans-114\"/>\r\n       <use x=\"523.230469\" xlink:href=\"#DejaVuSans-97\"/>\r\n       <use x=\"584.509766\" xlink:href=\"#DejaVuSans-110\"/>\r\n       <use x=\"647.888672\" xlink:href=\"#DejaVuSans-115\"/>\r\n       <use x=\"699.988281\" xlink:href=\"#DejaVuSans-102\"/>\r\n       <use x=\"735.193359\" xlink:href=\"#DejaVuSans-101\"/>\r\n       <use x=\"796.716797\" xlink:href=\"#DejaVuSans-114\"/>\r\n       <use x=\"836.080078\" xlink:href=\"#DejaVuSans-114\"/>\r\n       <use x=\"874.943359\" xlink:href=\"#DejaVuSans-101\"/>\r\n       <use x=\"936.466797\" xlink:href=\"#DejaVuSans-100\"/>\r\n       <use x=\"999.943359\" xlink:href=\"#DejaVuSans-32\"/>\r\n       <use x=\"1031.730469\" xlink:href=\"#DejaVuSans-67\"/>\r\n       <use x=\"1101.554688\" xlink:href=\"#DejaVuSans-97\"/>\r\n       <use x=\"1162.833984\" xlink:href=\"#DejaVuSans-114\"/>\r\n       <use x=\"1201.697266\" xlink:href=\"#DejaVuSans-101\"/>\r\n      </g>\r\n     </g>\r\n    </g>\r\n    <g id=\"ytick_4\">\r\n     <g id=\"line2d_12\">\r\n      <g>\r\n       <use style=\"stroke:#000000;stroke-width:0.8;\" x=\"250.8625\" xlink:href=\"#mc3399cac42\" y=\"1196.325\"/>\r\n      </g>\r\n     </g>\r\n     <g id=\"text_13\">\r\n      <!-- Patient Dead at Scene (EMS CPR Attempted) -->\r\n      <g transform=\"translate(20.878125 1200.124219)scale(0.1 -0.1)\">\r\n       <defs>\r\n        <path d=\"M 34.1875 63.1875 \r\nL 20.796875 26.90625 \r\nL 47.609375 26.90625 \r\nz\r\nM 28.609375 72.90625 \r\nL 39.796875 72.90625 \r\nL 67.578125 0 \r\nL 57.328125 0 \r\nL 50.6875 18.703125 \r\nL 17.828125 18.703125 \r\nL 11.1875 0 \r\nL 0.78125 0 \r\nz\r\n\" id=\"DejaVuSans-65\"/>\r\n        <path d=\"M 52 44.1875 \r\nQ 55.375 50.25 60.0625 53.125 \r\nQ 64.75 56 71.09375 56 \r\nQ 79.640625 56 84.28125 50.015625 \r\nQ 88.921875 44.046875 88.921875 33.015625 \r\nL 88.921875 0 \r\nL 79.890625 0 \r\nL 79.890625 32.71875 \r\nQ 79.890625 40.578125 77.09375 44.375 \r\nQ 74.3125 48.1875 68.609375 48.1875 \r\nQ 61.625 48.1875 57.5625 43.546875 \r\nQ 53.515625 38.921875 53.515625 30.90625 \r\nL 53.515625 0 \r\nL 44.484375 0 \r\nL 44.484375 32.71875 \r\nQ 44.484375 40.625 41.703125 44.40625 \r\nQ 38.921875 48.1875 33.109375 48.1875 \r\nQ 26.21875 48.1875 22.15625 43.53125 \r\nQ 18.109375 38.875 18.109375 30.90625 \r\nL 18.109375 0 \r\nL 9.078125 0 \r\nL 9.078125 54.6875 \r\nL 18.109375 54.6875 \r\nL 18.109375 46.1875 \r\nQ 21.1875 51.21875 25.484375 53.609375 \r\nQ 29.78125 56 35.6875 56 \r\nQ 41.65625 56 45.828125 52.96875 \r\nQ 50 49.953125 52 44.1875 \r\nz\r\n\" id=\"DejaVuSans-109\"/>\r\n       </defs>\r\n       <use xlink:href=\"#DejaVuSans-80\"/>\r\n       <use x=\"55.802734\" xlink:href=\"#DejaVuSans-97\"/>\r\n       <use x=\"117.082031\" xlink:href=\"#DejaVuSans-116\"/>\r\n       <use x=\"156.291016\" xlink:href=\"#DejaVuSans-105\"/>\r\n       <use x=\"184.074219\" xlink:href=\"#DejaVuSans-101\"/>\r\n       <use x=\"245.597656\" xlink:href=\"#DejaVuSans-110\"/>\r\n       <use x=\"308.976562\" xlink:href=\"#DejaVuSans-116\"/>\r\n       <use x=\"348.185547\" xlink:href=\"#DejaVuSans-32\"/>\r\n       <use x=\"379.972656\" xlink:href=\"#DejaVuSans-68\"/>\r\n       <use x=\"456.974609\" xlink:href=\"#DejaVuSans-101\"/>\r\n       <use x=\"518.498047\" xlink:href=\"#DejaVuSans-97\"/>\r\n       <use x=\"579.777344\" xlink:href=\"#DejaVuSans-100\"/>\r\n       <use x=\"643.253906\" xlink:href=\"#DejaVuSans-32\"/>\r\n       <use x=\"675.041016\" xlink:href=\"#DejaVuSans-97\"/>\r\n       <use x=\"736.320312\" xlink:href=\"#DejaVuSans-116\"/>\r\n       <use x=\"775.529297\" xlink:href=\"#DejaVuSans-32\"/>\r\n       <use x=\"807.316406\" xlink:href=\"#DejaVuSans-83\"/>\r\n       <use x=\"870.792969\" xlink:href=\"#DejaVuSans-99\"/>\r\n       <use x=\"925.773438\" xlink:href=\"#DejaVuSans-101\"/>\r\n       <use x=\"987.296875\" xlink:href=\"#DejaVuSans-110\"/>\r\n       <use x=\"1050.675781\" xlink:href=\"#DejaVuSans-101\"/>\r\n       <use x=\"1112.199219\" xlink:href=\"#DejaVuSans-32\"/>\r\n       <use x=\"1143.986328\" xlink:href=\"#DejaVuSans-40\"/>\r\n       <use x=\"1183\" xlink:href=\"#DejaVuSans-69\"/>\r\n       <use x=\"1246.183594\" xlink:href=\"#DejaVuSans-77\"/>\r\n       <use x=\"1332.462891\" xlink:href=\"#DejaVuSans-83\"/>\r\n       <use x=\"1395.939453\" xlink:href=\"#DejaVuSans-32\"/>\r\n       <use x=\"1427.726562\" xlink:href=\"#DejaVuSans-67\"/>\r\n       <use x=\"1497.550781\" xlink:href=\"#DejaVuSans-80\"/>\r\n       <use x=\"1557.853516\" xlink:href=\"#DejaVuSans-82\"/>\r\n       <use x=\"1627.335938\" xlink:href=\"#DejaVuSans-32\"/>\r\n       <use x=\"1659.123047\" xlink:href=\"#DejaVuSans-65\"/>\r\n       <use x=\"1725.78125\" xlink:href=\"#DejaVuSans-116\"/>\r\n       <use x=\"1764.990234\" xlink:href=\"#DejaVuSans-116\"/>\r\n       <use x=\"1804.199219\" xlink:href=\"#DejaVuSans-101\"/>\r\n       <use x=\"1865.722656\" xlink:href=\"#DejaVuSans-109\"/>\r\n       <use x=\"1963.134766\" xlink:href=\"#DejaVuSans-112\"/>\r\n       <use x=\"2026.611328\" xlink:href=\"#DejaVuSans-116\"/>\r\n       <use x=\"2065.820312\" xlink:href=\"#DejaVuSans-101\"/>\r\n       <use x=\"2127.34375\" xlink:href=\"#DejaVuSans-100\"/>\r\n       <use x=\"2190.820312\" xlink:href=\"#DejaVuSans-41\"/>\r\n      </g>\r\n     </g>\r\n    </g>\r\n    <g id=\"text_14\">\r\n     <!-- PatientOutcome -->\r\n     <g transform=\"translate(14.798438 726.928906)rotate(-90)scale(0.1 -0.1)\">\r\n      <use xlink:href=\"#DejaVuSans-80\"/>\r\n      <use x=\"55.802734\" xlink:href=\"#DejaVuSans-97\"/>\r\n      <use x=\"117.082031\" xlink:href=\"#DejaVuSans-116\"/>\r\n      <use x=\"156.291016\" xlink:href=\"#DejaVuSans-105\"/>\r\n      <use x=\"184.074219\" xlink:href=\"#DejaVuSans-101\"/>\r\n      <use x=\"245.597656\" xlink:href=\"#DejaVuSans-110\"/>\r\n      <use x=\"308.976562\" xlink:href=\"#DejaVuSans-116\"/>\r\n      <use x=\"348.185547\" xlink:href=\"#DejaVuSans-79\"/>\r\n      <use x=\"426.896484\" xlink:href=\"#DejaVuSans-117\"/>\r\n      <use x=\"490.275391\" xlink:href=\"#DejaVuSans-116\"/>\r\n      <use x=\"529.484375\" xlink:href=\"#DejaVuSans-99\"/>\r\n      <use x=\"584.464844\" xlink:href=\"#DejaVuSans-111\"/>\r\n      <use x=\"645.646484\" xlink:href=\"#DejaVuSans-109\"/>\r\n      <use x=\"743.058594\" xlink:href=\"#DejaVuSans-101\"/>\r\n     </g>\r\n    </g>\r\n   </g>\r\n   <g id=\"patch_155\">\r\n    <path d=\"M 250.8625 1366.2 \r\nL 250.8625 7.2 \r\n\" style=\"fill:none;stroke:#000000;stroke-linecap:square;stroke-linejoin:miter;stroke-width:0.8;\"/>\r\n   </g>\r\n   <g id=\"patch_156\">\r\n    <path d=\"M 1366.8625 1366.2 \r\nL 1366.8625 7.2 \r\n\" style=\"fill:none;stroke:#000000;stroke-linecap:square;stroke-linejoin:miter;stroke-width:0.8;\"/>\r\n   </g>\r\n   <g id=\"patch_157\">\r\n    <path d=\"M 250.8625 1366.2 \r\nL 1366.8625 1366.2 \r\n\" style=\"fill:none;stroke:#000000;stroke-linecap:square;stroke-linejoin:miter;stroke-width:0.8;\"/>\r\n   </g>\r\n   <g id=\"patch_158\">\r\n    <path d=\"M 250.8625 7.2 \r\nL 1366.8625 7.2 \r\n\" style=\"fill:none;stroke:#000000;stroke-linecap:square;stroke-linejoin:miter;stroke-width:0.8;\"/>\r\n   </g>\r\n   <g id=\"legend_1\">\r\n    <g id=\"patch_159\">\r\n     <path d=\"M 1302.467187 587.646875 \r\nL 1359.8625 587.646875 \r\nQ 1361.8625 587.646875 1361.8625 585.646875 \r\nL 1361.8625 14.2 \r\nQ 1361.8625 12.2 1359.8625 12.2 \r\nL 1302.467187 12.2 \r\nQ 1300.467187 12.2 1300.467187 14.2 \r\nL 1300.467187 585.646875 \r\nQ 1300.467187 587.646875 1302.467187 587.646875 \r\nz\r\n\" style=\"fill:#ffffff;opacity:0.8;stroke:#cccccc;stroke-linejoin:miter;\"/>\r\n    </g>\r\n    <g id=\"text_15\">\r\n     <!-- FireStation -->\r\n     <g transform=\"translate(1304.467187 23.798438)scale(0.1 -0.1)\">\r\n      <defs>\r\n       <path d=\"M 9.8125 72.90625 \r\nL 51.703125 72.90625 \r\nL 51.703125 64.59375 \r\nL 19.671875 64.59375 \r\nL 19.671875 43.109375 \r\nL 48.578125 43.109375 \r\nL 48.578125 34.8125 \r\nL 19.671875 34.8125 \r\nL 19.671875 0 \r\nL 9.8125 0 \r\nz\r\n\" id=\"DejaVuSans-70\"/>\r\n      </defs>\r\n      <use xlink:href=\"#DejaVuSans-70\"/>\r\n      <use x=\"50.269531\" xlink:href=\"#DejaVuSans-105\"/>\r\n      <use x=\"78.052734\" xlink:href=\"#DejaVuSans-114\"/>\r\n      <use x=\"116.916016\" xlink:href=\"#DejaVuSans-101\"/>\r\n      <use x=\"178.439453\" xlink:href=\"#DejaVuSans-83\"/>\r\n      <use x=\"241.916016\" xlink:href=\"#DejaVuSans-116\"/>\r\n      <use x=\"281.125\" xlink:href=\"#DejaVuSans-97\"/>\r\n      <use x=\"342.404297\" xlink:href=\"#DejaVuSans-116\"/>\r\n      <use x=\"381.613281\" xlink:href=\"#DejaVuSans-105\"/>\r\n      <use x=\"409.396484\" xlink:href=\"#DejaVuSans-111\"/>\r\n      <use x=\"470.578125\" xlink:href=\"#DejaVuSans-110\"/>\r\n     </g>\r\n    </g>\r\n    <g id=\"patch_160\">\r\n     <path d=\"M 1310.802344 38.476562 \r\nL 1330.802344 38.476562 \r\nL 1330.802344 31.476562 \r\nL 1310.802344 31.476562 \r\nz\r\n\" style=\"fill:#411453;\"/>\r\n    </g>\r\n    <g id=\"text_16\">\r\n     <!-- 1 -->\r\n     <g transform=\"translate(1338.802344 38.476562)scale(0.1 -0.1)\">\r\n      <use xlink:href=\"#DejaVuSans-49\"/>\r\n     </g>\r\n    </g>\r\n    <g id=\"patch_161\">\r\n     <path d=\"M 1310.802344 53.154687 \r\nL 1330.802344 53.154687 \r\nL 1330.802344 46.154687 \r\nL 1310.802344 46.154687 \r\nz\r\n\" style=\"fill:#451e5c;\"/>\r\n    </g>\r\n    <g id=\"text_17\">\r\n     <!-- 2 -->\r\n     <g transform=\"translate(1338.802344 53.154687)scale(0.1 -0.1)\">\r\n      <use xlink:href=\"#DejaVuSans-50\"/>\r\n     </g>\r\n    </g>\r\n    <g id=\"patch_162\">\r\n     <path d=\"M 1310.802344 67.832812 \r\nL 1330.802344 67.832812 \r\nL 1330.802344 60.832812 \r\nL 1310.802344 60.832812 \r\nz\r\n\" style=\"fill:#472664;\"/>\r\n    </g>\r\n    <g id=\"text_18\">\r\n     <!-- 4 -->\r\n     <g transform=\"translate(1338.802344 67.832812)scale(0.1 -0.1)\">\r\n      <use xlink:href=\"#DejaVuSans-52\"/>\r\n     </g>\r\n    </g>\r\n    <g id=\"patch_163\">\r\n     <path d=\"M 1310.802344 82.510937 \r\nL 1330.802344 82.510937 \r\nL 1330.802344 75.510937 \r\nL 1310.802344 75.510937 \r\nz\r\n\" style=\"fill:#492f6c;\"/>\r\n    </g>\r\n    <g id=\"text_19\">\r\n     <!-- 5 -->\r\n     <g transform=\"translate(1338.802344 82.510937)scale(0.1 -0.1)\">\r\n      <defs>\r\n       <path d=\"M 10.796875 72.90625 \r\nL 49.515625 72.90625 \r\nL 49.515625 64.59375 \r\nL 19.828125 64.59375 \r\nL 19.828125 46.734375 \r\nQ 21.96875 47.46875 24.109375 47.828125 \r\nQ 26.265625 48.1875 28.421875 48.1875 \r\nQ 40.625 48.1875 47.75 41.5 \r\nQ 54.890625 34.8125 54.890625 23.390625 \r\nQ 54.890625 11.625 47.5625 5.09375 \r\nQ 40.234375 -1.421875 26.90625 -1.421875 \r\nQ 22.3125 -1.421875 17.546875 -0.640625 \r\nQ 12.796875 0.140625 7.71875 1.703125 \r\nL 7.71875 11.625 \r\nQ 12.109375 9.234375 16.796875 8.0625 \r\nQ 21.484375 6.890625 26.703125 6.890625 \r\nQ 35.15625 6.890625 40.078125 11.328125 \r\nQ 45.015625 15.765625 45.015625 23.390625 \r\nQ 45.015625 31 40.078125 35.4375 \r\nQ 35.15625 39.890625 26.703125 39.890625 \r\nQ 22.75 39.890625 18.8125 39.015625 \r\nQ 14.890625 38.140625 10.796875 36.28125 \r\nz\r\n\" id=\"DejaVuSans-53\"/>\r\n      </defs>\r\n      <use xlink:href=\"#DejaVuSans-53\"/>\r\n     </g>\r\n    </g>\r\n    <g id=\"patch_164\">\r\n     <path d=\"M 1310.802344 97.189063 \r\nL 1330.802344 97.189063 \r\nL 1330.802344 90.189063 \r\nL 1310.802344 90.189063 \r\nz\r\n\" style=\"fill:#4a3771;\"/>\r\n    </g>\r\n    <g id=\"text_20\">\r\n     <!-- 8 -->\r\n     <g transform=\"translate(1338.802344 97.189063)scale(0.1 -0.1)\">\r\n      <use xlink:href=\"#DejaVuSans-56\"/>\r\n     </g>\r\n    </g>\r\n    <g id=\"patch_165\">\r\n     <path d=\"M 1310.802344 111.867188 \r\nL 1330.802344 111.867188 \r\nL 1330.802344 104.867188 \r\nL 1310.802344 104.867188 \r\nz\r\n\" style=\"fill:#4b3f77;\"/>\r\n    </g>\r\n    <g id=\"text_21\">\r\n     <!-- 9 -->\r\n     <g transform=\"translate(1338.802344 111.867188)scale(0.1 -0.1)\">\r\n      <defs>\r\n       <path d=\"M 10.984375 1.515625 \r\nL 10.984375 10.5 \r\nQ 14.703125 8.734375 18.5 7.8125 \r\nQ 22.3125 6.890625 25.984375 6.890625 \r\nQ 35.75 6.890625 40.890625 13.453125 \r\nQ 46.046875 20.015625 46.78125 33.40625 \r\nQ 43.953125 29.203125 39.59375 26.953125 \r\nQ 35.25 24.703125 29.984375 24.703125 \r\nQ 19.046875 24.703125 12.671875 31.3125 \r\nQ 6.296875 37.9375 6.296875 49.421875 \r\nQ 6.296875 60.640625 12.9375 67.421875 \r\nQ 19.578125 74.21875 30.609375 74.21875 \r\nQ 43.265625 74.21875 49.921875 64.515625 \r\nQ 56.59375 54.828125 56.59375 36.375 \r\nQ 56.59375 19.140625 48.40625 8.859375 \r\nQ 40.234375 -1.421875 26.421875 -1.421875 \r\nQ 22.703125 -1.421875 18.890625 -0.6875 \r\nQ 15.09375 0.046875 10.984375 1.515625 \r\nz\r\nM 30.609375 32.421875 \r\nQ 37.25 32.421875 41.125 36.953125 \r\nQ 45.015625 41.5 45.015625 49.421875 \r\nQ 45.015625 57.28125 41.125 61.84375 \r\nQ 37.25 66.40625 30.609375 66.40625 \r\nQ 23.96875 66.40625 20.09375 61.84375 \r\nQ 16.21875 57.28125 16.21875 49.421875 \r\nQ 16.21875 41.5 20.09375 36.953125 \r\nQ 23.96875 32.421875 30.609375 32.421875 \r\nz\r\n\" id=\"DejaVuSans-57\"/>\r\n      </defs>\r\n      <use xlink:href=\"#DejaVuSans-57\"/>\r\n     </g>\r\n    </g>\r\n    <g id=\"patch_166\">\r\n     <path d=\"M 1310.802344 126.545312 \r\nL 1330.802344 126.545312 \r\nL 1330.802344 119.545312 \r\nL 1310.802344 119.545312 \r\nz\r\n\" style=\"fill:#4b467b;\"/>\r\n    </g>\r\n    <g id=\"text_22\">\r\n     <!-- 10 -->\r\n     <g transform=\"translate(1338.802344 126.545312)scale(0.1 -0.1)\">\r\n      <use xlink:href=\"#DejaVuSans-49\"/>\r\n      <use x=\"63.623047\" xlink:href=\"#DejaVuSans-48\"/>\r\n     </g>\r\n    </g>\r\n    <g id=\"patch_167\">\r\n     <path d=\"M 1310.802344 141.223437 \r\nL 1330.802344 141.223437 \r\nL 1330.802344 134.223437 \r\nL 1310.802344 134.223437 \r\nz\r\n\" style=\"fill:#494d7f;\"/>\r\n    </g>\r\n    <g id=\"text_23\">\r\n     <!-- 11 -->\r\n     <g transform=\"translate(1338.802344 141.223437)scale(0.1 -0.1)\">\r\n      <use xlink:href=\"#DejaVuSans-49\"/>\r\n      <use x=\"63.623047\" xlink:href=\"#DejaVuSans-49\"/>\r\n     </g>\r\n    </g>\r\n    <g id=\"patch_168\">\r\n     <path d=\"M 1310.802344 155.901562 \r\nL 1330.802344 155.901562 \r\nL 1330.802344 148.901562 \r\nL 1310.802344 148.901562 \r\nz\r\n\" style=\"fill:#475280;\"/>\r\n    </g>\r\n    <g id=\"text_24\">\r\n     <!-- 12 -->\r\n     <g transform=\"translate(1338.802344 155.901562)scale(0.1 -0.1)\">\r\n      <use xlink:href=\"#DejaVuSans-49\"/>\r\n      <use x=\"63.623047\" xlink:href=\"#DejaVuSans-50\"/>\r\n     </g>\r\n    </g>\r\n    <g id=\"patch_169\">\r\n     <path d=\"M 1310.802344 170.579687 \r\nL 1330.802344 170.579687 \r\nL 1330.802344 163.579687 \r\nL 1310.802344 163.579687 \r\nz\r\n\" style=\"fill:#445781;\"/>\r\n    </g>\r\n    <g id=\"text_25\">\r\n     <!-- 13 -->\r\n     <g transform=\"translate(1338.802344 170.579687)scale(0.1 -0.1)\">\r\n      <defs>\r\n       <path d=\"M 40.578125 39.3125 \r\nQ 47.65625 37.796875 51.625 33 \r\nQ 55.609375 28.21875 55.609375 21.1875 \r\nQ 55.609375 10.40625 48.1875 4.484375 \r\nQ 40.765625 -1.421875 27.09375 -1.421875 \r\nQ 22.515625 -1.421875 17.65625 -0.515625 \r\nQ 12.796875 0.390625 7.625 2.203125 \r\nL 7.625 11.71875 \r\nQ 11.71875 9.328125 16.59375 8.109375 \r\nQ 21.484375 6.890625 26.8125 6.890625 \r\nQ 36.078125 6.890625 40.9375 10.546875 \r\nQ 45.796875 14.203125 45.796875 21.1875 \r\nQ 45.796875 27.640625 41.28125 31.265625 \r\nQ 36.765625 34.90625 28.71875 34.90625 \r\nL 20.21875 34.90625 \r\nL 20.21875 43.015625 \r\nL 29.109375 43.015625 \r\nQ 36.375 43.015625 40.234375 45.921875 \r\nQ 44.09375 48.828125 44.09375 54.296875 \r\nQ 44.09375 59.90625 40.109375 62.90625 \r\nQ 36.140625 65.921875 28.71875 65.921875 \r\nQ 24.65625 65.921875 20.015625 65.03125 \r\nQ 15.375 64.15625 9.8125 62.3125 \r\nL 9.8125 71.09375 \r\nQ 15.4375 72.65625 20.34375 73.4375 \r\nQ 25.25 74.21875 29.59375 74.21875 \r\nQ 40.828125 74.21875 47.359375 69.109375 \r\nQ 53.90625 64.015625 53.90625 55.328125 \r\nQ 53.90625 49.265625 50.4375 45.09375 \r\nQ 46.96875 40.921875 40.578125 39.3125 \r\nz\r\n\" id=\"DejaVuSans-51\"/>\r\n      </defs>\r\n      <use xlink:href=\"#DejaVuSans-49\"/>\r\n      <use x=\"63.623047\" xlink:href=\"#DejaVuSans-51\"/>\r\n     </g>\r\n    </g>\r\n    <g id=\"patch_170\">\r\n     <path d=\"M 1310.802344 185.257812 \r\nL 1330.802344 185.257812 \r\nL 1330.802344 178.257812 \r\nL 1310.802344 178.257812 \r\nz\r\n\" style=\"fill:#415c82;\"/>\r\n    </g>\r\n    <g id=\"text_26\">\r\n     <!-- 14 -->\r\n     <g transform=\"translate(1338.802344 185.257812)scale(0.1 -0.1)\">\r\n      <use xlink:href=\"#DejaVuSans-49\"/>\r\n      <use x=\"63.623047\" xlink:href=\"#DejaVuSans-52\"/>\r\n     </g>\r\n    </g>\r\n    <g id=\"patch_171\">\r\n     <path d=\"M 1310.802344 199.935937 \r\nL 1330.802344 199.935937 \r\nL 1330.802344 192.935937 \r\nL 1310.802344 192.935937 \r\nz\r\n\" style=\"fill:#3f6182;\"/>\r\n    </g>\r\n    <g id=\"text_27\">\r\n     <!-- 15 -->\r\n     <g transform=\"translate(1338.802344 199.935937)scale(0.1 -0.1)\">\r\n      <use xlink:href=\"#DejaVuSans-49\"/>\r\n      <use x=\"63.623047\" xlink:href=\"#DejaVuSans-53\"/>\r\n     </g>\r\n    </g>\r\n    <g id=\"patch_172\">\r\n     <path d=\"M 1310.802344 214.614062 \r\nL 1330.802344 214.614062 \r\nL 1330.802344 207.614062 \r\nL 1310.802344 207.614062 \r\nz\r\n\" style=\"fill:#3c6682;\"/>\r\n    </g>\r\n    <g id=\"text_28\">\r\n     <!-- 16 -->\r\n     <g transform=\"translate(1338.802344 214.614062)scale(0.1 -0.1)\">\r\n      <use xlink:href=\"#DejaVuSans-49\"/>\r\n      <use x=\"63.623047\" xlink:href=\"#DejaVuSans-54\"/>\r\n     </g>\r\n    </g>\r\n    <g id=\"patch_173\">\r\n     <path d=\"M 1310.802344 229.292187 \r\nL 1330.802344 229.292187 \r\nL 1330.802344 222.292187 \r\nL 1310.802344 222.292187 \r\nz\r\n\" style=\"fill:#3a6a82;\"/>\r\n    </g>\r\n    <g id=\"text_29\">\r\n     <!-- 17 -->\r\n     <g transform=\"translate(1338.802344 229.292187)scale(0.1 -0.1)\">\r\n      <defs>\r\n       <path d=\"M 8.203125 72.90625 \r\nL 55.078125 72.90625 \r\nL 55.078125 68.703125 \r\nL 28.609375 0 \r\nL 18.3125 0 \r\nL 43.21875 64.59375 \r\nL 8.203125 64.59375 \r\nz\r\n\" id=\"DejaVuSans-55\"/>\r\n      </defs>\r\n      <use xlink:href=\"#DejaVuSans-49\"/>\r\n      <use x=\"63.623047\" xlink:href=\"#DejaVuSans-55\"/>\r\n     </g>\r\n    </g>\r\n    <g id=\"patch_174\">\r\n     <path d=\"M 1310.802344 243.970312 \r\nL 1330.802344 243.970312 \r\nL 1330.802344 236.970312 \r\nL 1310.802344 236.970312 \r\nz\r\n\" style=\"fill:#386e82;\"/>\r\n    </g>\r\n    <g id=\"text_30\">\r\n     <!-- 18 -->\r\n     <g transform=\"translate(1338.802344 243.970312)scale(0.1 -0.1)\">\r\n      <use xlink:href=\"#DejaVuSans-49\"/>\r\n      <use x=\"63.623047\" xlink:href=\"#DejaVuSans-56\"/>\r\n     </g>\r\n    </g>\r\n    <g id=\"patch_175\">\r\n     <path d=\"M 1310.802344 258.648438 \r\nL 1330.802344 258.648438 \r\nL 1330.802344 251.648438 \r\nL 1310.802344 251.648438 \r\nz\r\n\" style=\"fill:#357382;\"/>\r\n    </g>\r\n    <g id=\"text_31\">\r\n     <!-- 19 -->\r\n     <g transform=\"translate(1338.802344 258.648438)scale(0.1 -0.1)\">\r\n      <use xlink:href=\"#DejaVuSans-49\"/>\r\n      <use x=\"63.623047\" xlink:href=\"#DejaVuSans-57\"/>\r\n     </g>\r\n    </g>\r\n    <g id=\"patch_176\">\r\n     <path d=\"M 1310.802344 273.326562 \r\nL 1330.802344 273.326562 \r\nL 1330.802344 266.326562 \r\nL 1310.802344 266.326562 \r\nz\r\n\" style=\"fill:#337781;\"/>\r\n    </g>\r\n    <g id=\"text_32\">\r\n     <!-- 20 -->\r\n     <g transform=\"translate(1338.802344 273.326562)scale(0.1 -0.1)\">\r\n      <use xlink:href=\"#DejaVuSans-50\"/>\r\n      <use x=\"63.623047\" xlink:href=\"#DejaVuSans-48\"/>\r\n     </g>\r\n    </g>\r\n    <g id=\"patch_177\">\r\n     <path d=\"M 1310.802344 288.004687 \r\nL 1330.802344 288.004687 \r\nL 1330.802344 281.004687 \r\nL 1310.802344 281.004687 \r\nz\r\n\" style=\"fill:#317c80;\"/>\r\n    </g>\r\n    <g id=\"text_33\">\r\n     <!-- 21 -->\r\n     <g transform=\"translate(1338.802344 288.004687)scale(0.1 -0.1)\">\r\n      <use xlink:href=\"#DejaVuSans-50\"/>\r\n      <use x=\"63.623047\" xlink:href=\"#DejaVuSans-49\"/>\r\n     </g>\r\n    </g>\r\n    <g id=\"patch_178\">\r\n     <path d=\"M 1310.802344 302.682812 \r\nL 1330.802344 302.682812 \r\nL 1330.802344 295.682812 \r\nL 1310.802344 295.682812 \r\nz\r\n\" style=\"fill:#2f7f80;\"/>\r\n    </g>\r\n    <g id=\"text_34\">\r\n     <!-- 22 -->\r\n     <g transform=\"translate(1338.802344 302.682812)scale(0.1 -0.1)\">\r\n      <use xlink:href=\"#DejaVuSans-50\"/>\r\n      <use x=\"63.623047\" xlink:href=\"#DejaVuSans-50\"/>\r\n     </g>\r\n    </g>\r\n    <g id=\"patch_179\">\r\n     <path d=\"M 1310.802344 317.360937 \r\nL 1330.802344 317.360937 \r\nL 1330.802344 310.360937 \r\nL 1310.802344 310.360937 \r\nz\r\n\" style=\"fill:#2e857f;\"/>\r\n    </g>\r\n    <g id=\"text_35\">\r\n     <!-- 23 -->\r\n     <g transform=\"translate(1338.802344 317.360937)scale(0.1 -0.1)\">\r\n      <use xlink:href=\"#DejaVuSans-50\"/>\r\n      <use x=\"63.623047\" xlink:href=\"#DejaVuSans-51\"/>\r\n     </g>\r\n    </g>\r\n    <g id=\"patch_180\">\r\n     <path d=\"M 1310.802344 332.039062 \r\nL 1330.802344 332.039062 \r\nL 1330.802344 325.039062 \r\nL 1310.802344 325.039062 \r\nz\r\n\" style=\"fill:#2e8a7f;\"/>\r\n    </g>\r\n    <g id=\"text_36\">\r\n     <!-- 24 -->\r\n     <g transform=\"translate(1338.802344 332.039062)scale(0.1 -0.1)\">\r\n      <use xlink:href=\"#DejaVuSans-50\"/>\r\n      <use x=\"63.623047\" xlink:href=\"#DejaVuSans-52\"/>\r\n     </g>\r\n    </g>\r\n    <g id=\"patch_181\">\r\n     <path d=\"M 1310.802344 346.717187 \r\nL 1330.802344 346.717187 \r\nL 1330.802344 339.717187 \r\nL 1310.802344 339.717187 \r\nz\r\n\" style=\"fill:#2f8f7e;\"/>\r\n    </g>\r\n    <g id=\"text_37\">\r\n     <!-- 25 -->\r\n     <g transform=\"translate(1338.802344 346.717187)scale(0.1 -0.1)\">\r\n      <use xlink:href=\"#DejaVuSans-50\"/>\r\n      <use x=\"63.623047\" xlink:href=\"#DejaVuSans-53\"/>\r\n     </g>\r\n    </g>\r\n    <g id=\"patch_182\">\r\n     <path d=\"M 1310.802344 361.395313 \r\nL 1330.802344 361.395313 \r\nL 1330.802344 354.395313 \r\nL 1310.802344 354.395313 \r\nz\r\n\" style=\"fill:#31957d;\"/>\r\n    </g>\r\n    <g id=\"text_38\">\r\n     <!-- 26 -->\r\n     <g transform=\"translate(1338.802344 361.395313)scale(0.1 -0.1)\">\r\n      <use xlink:href=\"#DejaVuSans-50\"/>\r\n      <use x=\"63.623047\" xlink:href=\"#DejaVuSans-54\"/>\r\n     </g>\r\n    </g>\r\n    <g id=\"patch_183\">\r\n     <path d=\"M 1310.802344 376.073437 \r\nL 1330.802344 376.073437 \r\nL 1330.802344 369.073437 \r\nL 1310.802344 369.073437 \r\nz\r\n\" style=\"fill:#369b7b;\"/>\r\n    </g>\r\n    <g id=\"text_39\">\r\n     <!-- 27 -->\r\n     <g transform=\"translate(1338.802344 376.073437)scale(0.1 -0.1)\">\r\n      <use xlink:href=\"#DejaVuSans-50\"/>\r\n      <use x=\"63.623047\" xlink:href=\"#DejaVuSans-55\"/>\r\n     </g>\r\n    </g>\r\n    <g id=\"patch_184\">\r\n     <path d=\"M 1310.802344 390.751563 \r\nL 1330.802344 390.751563 \r\nL 1330.802344 383.751563 \r\nL 1310.802344 383.751563 \r\nz\r\n\" style=\"fill:#3da17a;\"/>\r\n    </g>\r\n    <g id=\"text_40\">\r\n     <!-- 28 -->\r\n     <g transform=\"translate(1338.802344 390.751563)scale(0.1 -0.1)\">\r\n      <use xlink:href=\"#DejaVuSans-50\"/>\r\n      <use x=\"63.623047\" xlink:href=\"#DejaVuSans-56\"/>\r\n     </g>\r\n    </g>\r\n    <g id=\"patch_185\">\r\n     <path d=\"M 1310.802344 405.429688 \r\nL 1330.802344 405.429688 \r\nL 1330.802344 398.429688 \r\nL 1310.802344 398.429688 \r\nz\r\n\" style=\"fill:#45a778;\"/>\r\n    </g>\r\n    <g id=\"text_41\">\r\n     <!-- 29 -->\r\n     <g transform=\"translate(1338.802344 405.429688)scale(0.1 -0.1)\">\r\n      <use xlink:href=\"#DejaVuSans-50\"/>\r\n      <use x=\"63.623047\" xlink:href=\"#DejaVuSans-57\"/>\r\n     </g>\r\n    </g>\r\n    <g id=\"patch_186\">\r\n     <path d=\"M 1310.802344 420.107813 \r\nL 1330.802344 420.107813 \r\nL 1330.802344 413.107813 \r\nL 1310.802344 413.107813 \r\nz\r\n\" style=\"fill:#50ae75;\"/>\r\n    </g>\r\n    <g id=\"text_42\">\r\n     <!-- 30 -->\r\n     <g transform=\"translate(1338.802344 420.107813)scale(0.1 -0.1)\">\r\n      <use xlink:href=\"#DejaVuSans-51\"/>\r\n      <use x=\"63.623047\" xlink:href=\"#DejaVuSans-48\"/>\r\n     </g>\r\n    </g>\r\n    <g id=\"patch_187\">\r\n     <path d=\"M 1310.802344 434.785938 \r\nL 1330.802344 434.785938 \r\nL 1330.802344 427.785938 \r\nL 1310.802344 427.785938 \r\nz\r\n\" style=\"fill:#5ab373;\"/>\r\n    </g>\r\n    <g id=\"text_43\">\r\n     <!-- 31 -->\r\n     <g transform=\"translate(1338.802344 434.785938)scale(0.1 -0.1)\">\r\n      <use xlink:href=\"#DejaVuSans-51\"/>\r\n      <use x=\"63.623047\" xlink:href=\"#DejaVuSans-49\"/>\r\n     </g>\r\n    </g>\r\n    <g id=\"patch_188\">\r\n     <path d=\"M 1310.802344 449.464063 \r\nL 1330.802344 449.464063 \r\nL 1330.802344 442.464063 \r\nL 1310.802344 442.464063 \r\nz\r\n\" style=\"fill:#68ba6f;\"/>\r\n    </g>\r\n    <g id=\"text_44\">\r\n     <!-- 32 -->\r\n     <g transform=\"translate(1338.802344 449.464063)scale(0.1 -0.1)\">\r\n      <use xlink:href=\"#DejaVuSans-51\"/>\r\n      <use x=\"63.623047\" xlink:href=\"#DejaVuSans-50\"/>\r\n     </g>\r\n    </g>\r\n    <g id=\"patch_189\">\r\n     <path d=\"M 1310.802344 464.142188 \r\nL 1330.802344 464.142188 \r\nL 1330.802344 457.142188 \r\nL 1310.802344 457.142188 \r\nz\r\n\" style=\"fill:#72be6a;\"/>\r\n    </g>\r\n    <g id=\"text_45\">\r\n     <!-- 34 -->\r\n     <g transform=\"translate(1338.802344 464.142188)scale(0.1 -0.1)\">\r\n      <use xlink:href=\"#DejaVuSans-51\"/>\r\n      <use x=\"63.623047\" xlink:href=\"#DejaVuSans-52\"/>\r\n     </g>\r\n    </g>\r\n    <g id=\"patch_190\">\r\n     <path d=\"M 1310.802344 478.820313 \r\nL 1330.802344 478.820313 \r\nL 1330.802344 471.820313 \r\nL 1310.802344 471.820313 \r\nz\r\n\" style=\"fill:#7ec162;\"/>\r\n    </g>\r\n    <g id=\"text_46\">\r\n     <!-- 35 -->\r\n     <g transform=\"translate(1338.802344 478.820313)scale(0.1 -0.1)\">\r\n      <use xlink:href=\"#DejaVuSans-51\"/>\r\n      <use x=\"63.623047\" xlink:href=\"#DejaVuSans-53\"/>\r\n     </g>\r\n    </g>\r\n    <g id=\"patch_191\">\r\n     <path d=\"M 1310.802344 493.498438 \r\nL 1330.802344 493.498438 \r\nL 1330.802344 486.498438 \r\nL 1310.802344 486.498438 \r\nz\r\n\" style=\"fill:#8ac35a;\"/>\r\n    </g>\r\n    <g id=\"text_47\">\r\n     <!-- 36 -->\r\n     <g transform=\"translate(1338.802344 493.498438)scale(0.1 -0.1)\">\r\n      <use xlink:href=\"#DejaVuSans-51\"/>\r\n      <use x=\"63.623047\" xlink:href=\"#DejaVuSans-54\"/>\r\n     </g>\r\n    </g>\r\n    <g id=\"patch_192\">\r\n     <path d=\"M 1310.802344 508.176563 \r\nL 1330.802344 508.176563 \r\nL 1330.802344 501.176563 \r\nL 1310.802344 501.176563 \r\nz\r\n\" style=\"fill:#95c551;\"/>\r\n    </g>\r\n    <g id=\"text_48\">\r\n     <!-- 37 -->\r\n     <g transform=\"translate(1338.802344 508.176563)scale(0.1 -0.1)\">\r\n      <use xlink:href=\"#DejaVuSans-51\"/>\r\n      <use x=\"63.623047\" xlink:href=\"#DejaVuSans-55\"/>\r\n     </g>\r\n    </g>\r\n    <g id=\"patch_193\">\r\n     <path d=\"M 1310.802344 522.854688 \r\nL 1330.802344 522.854688 \r\nL 1330.802344 515.854688 \r\nL 1310.802344 515.854688 \r\nz\r\n\" style=\"fill:#a1c747;\"/>\r\n    </g>\r\n    <g id=\"text_49\">\r\n     <!-- 38 -->\r\n     <g transform=\"translate(1338.802344 522.854688)scale(0.1 -0.1)\">\r\n      <use xlink:href=\"#DejaVuSans-51\"/>\r\n      <use x=\"63.623047\" xlink:href=\"#DejaVuSans-56\"/>\r\n     </g>\r\n    </g>\r\n    <g id=\"patch_194\">\r\n     <path d=\"M 1310.802344 537.532813 \r\nL 1330.802344 537.532813 \r\nL 1330.802344 530.532813 \r\nL 1310.802344 530.532813 \r\nz\r\n\" style=\"fill:#adc83f;\"/>\r\n    </g>\r\n    <g id=\"text_50\">\r\n     <!-- 39 -->\r\n     <g transform=\"translate(1338.802344 537.532813)scale(0.1 -0.1)\">\r\n      <use xlink:href=\"#DejaVuSans-51\"/>\r\n      <use x=\"63.623047\" xlink:href=\"#DejaVuSans-57\"/>\r\n     </g>\r\n    </g>\r\n    <g id=\"patch_195\">\r\n     <path d=\"M 1310.802344 552.210938 \r\nL 1330.802344 552.210938 \r\nL 1330.802344 545.210938 \r\nL 1310.802344 545.210938 \r\nz\r\n\" style=\"fill:#bac836;\"/>\r\n    </g>\r\n    <g id=\"text_51\">\r\n     <!-- 40 -->\r\n     <g transform=\"translate(1338.802344 552.210938)scale(0.1 -0.1)\">\r\n      <use xlink:href=\"#DejaVuSans-52\"/>\r\n      <use x=\"63.623047\" xlink:href=\"#DejaVuSans-48\"/>\r\n     </g>\r\n    </g>\r\n    <g id=\"patch_196\">\r\n     <path d=\"M 1310.802344 566.889063 \r\nL 1330.802344 566.889063 \r\nL 1330.802344 559.889063 \r\nL 1310.802344 559.889063 \r\nz\r\n\" style=\"fill:#c5ca32;\"/>\r\n    </g>\r\n    <g id=\"text_52\">\r\n     <!-- 41 -->\r\n     <g transform=\"translate(1338.802344 566.889063)scale(0.1 -0.1)\">\r\n      <use xlink:href=\"#DejaVuSans-52\"/>\r\n      <use x=\"63.623047\" xlink:href=\"#DejaVuSans-49\"/>\r\n     </g>\r\n    </g>\r\n    <g id=\"patch_197\">\r\n     <path d=\"M 1310.802344 581.567188 \r\nL 1330.802344 581.567188 \r\nL 1330.802344 574.567188 \r\nL 1310.802344 574.567188 \r\nz\r\n\" style=\"fill:#d4cd36;\"/>\r\n    </g>\r\n    <g id=\"text_53\">\r\n     <!-- 42 -->\r\n     <g transform=\"translate(1338.802344 581.567188)scale(0.1 -0.1)\">\r\n      <use xlink:href=\"#DejaVuSans-52\"/>\r\n      <use x=\"63.623047\" xlink:href=\"#DejaVuSans-50\"/>\r\n     </g>\r\n    </g>\r\n   </g>\r\n  </g>\r\n </g>\r\n <defs>\r\n  <clipPath id=\"p6e5cd8c99f\">\r\n   <rect height=\"1359\" width=\"1116\" x=\"250.8625\" y=\"7.2\"/>\r\n  </clipPath>\r\n </defs>\r\n</svg>\r\n",
      "image/png": "[encoded data removed]"
     },
     "metadata": {
      "needs_background": "light"
     }
    }
   ],
   "source": [
    "q4_vis.frequency_plot_station_outcome(140,'station')\n",
    "#q4_vis.frequency_plot_station_outcome(700,'station')\n",
    "#q4_vis.frequency_plot_station_outcome(1400,'station')\n",
    "#q4_vis.frequency_plot_station_outcome(8000,'station')"
   ]
  },
  {
   "cell_type": "code",
   "execution_count": 3,
   "metadata": {},
   "outputs": [
    {
     "output_type": "execute_result",
     "data": {
      "text/plain": [
       "<AxesSubplot:xlabel='count', ylabel='FireStation'>"
      ]
     },
     "metadata": {},
     "execution_count": 3
    },
    {
     "output_type": "display_data",
     "data": {
      "text/plain": "<Figure size 1440x1800 with 1 Axes>",
      "image/svg+xml": "<?xml version=\"1.0\" encoding=\"utf-8\" standalone=\"no\"?>\r\n<!DOCTYPE svg PUBLIC \"-//W3C//DTD SVG 1.1//EN\"\r\n  \"http://www.w3.org/Graphics/SVG/1.1/DTD/svg11.dtd\">\r\n<!-- Created with matplotlib (https://matplotlib.org/) -->\r\n<svg height=\"1403.75625pt\" version=\"1.1\" viewBox=\"0 0 1163.803125 1403.75625\" width=\"1163.803125pt\" xmlns=\"http://www.w3.org/2000/svg\" xmlns:xlink=\"http://www.w3.org/1999/xlink\">\r\n <metadata>\r\n  <rdf:RDF xmlns:cc=\"http://creativecommons.org/ns#\" xmlns:dc=\"http://purl.org/dc/elements/1.1/\" xmlns:rdf=\"http://www.w3.org/1999/02/22-rdf-syntax-ns#\">\r\n   <cc:Work>\r\n    <dc:type rdf:resource=\"http://purl.org/dc/dcmitype/StillImage\"/>\r\n    <dc:date>2021-04-06T01:16:49.353041</dc:date>\r\n    <dc:format>image/svg+xml</dc:format>\r\n    <dc:creator>\r\n     <cc:Agent>\r\n      <dc:title>Matplotlib v3.3.4, https://matplotlib.org/</dc:title>\r\n     </cc:Agent>\r\n    </dc:creator>\r\n   </cc:Work>\r\n  </rdf:RDF>\r\n </metadata>\r\n <defs>\r\n  <style type=\"text/css\">*{stroke-linecap:butt;stroke-linejoin:round;}</style>\r\n </defs>\r\n <g id=\"figure_1\">\r\n  <g id=\"patch_1\">\r\n   <path d=\"M 0 1403.75625 \r\nL 1163.803125 1403.75625 \r\nL 1163.803125 0 \r\nL 0 0 \r\nz\r\n\" style=\"fill:none;\"/>\r\n  </g>\r\n  <g id=\"axes_1\">\r\n   <g id=\"patch_2\">\r\n    <path d=\"M 40.603125 1366.2 \r\nL 1156.603125 1366.2 \r\nL 1156.603125 7.2 \r\nL 40.603125 7.2 \r\nz\r\n\" style=\"fill:#ffffff;\"/>\r\n   </g>\r\n   <g id=\"patch_3\">\r\n    <path clip-path=\"url(#p0822e8fe48)\" d=\"M 40.603125 10.776316 \r\nL 508.854873 10.776316 \r\nL 508.854873 17.928947 \r\nL 40.603125 17.928947 \r\nz\r\n\" style=\"fill:#4a4c7e;\"/>\r\n   </g>\r\n   <g id=\"patch_4\">\r\n    <path clip-path=\"url(#p0822e8fe48)\" d=\"M 40.603125 46.539474 \r\nL 159.524204 46.539474 \r\nL 159.524204 53.692105 \r\nL 40.603125 53.692105 \r\nz\r\n\" style=\"fill:#4a4c7e;\"/>\r\n   </g>\r\n   <g id=\"patch_5\">\r\n    <path clip-path=\"url(#p0822e8fe48)\" d=\"M 40.603125 82.302632 \r\nL 256.147581 82.302632 \r\nL 256.147581 89.455263 \r\nL 40.603125 89.455263 \r\nz\r\n\" style=\"fill:#4a4c7e;\"/>\r\n   </g>\r\n   <g id=\"patch_6\">\r\n    <path clip-path=\"url(#p0822e8fe48)\" d=\"M 40.603125 118.065789 \r\nL 427.096631 118.065789 \r\nL 427.096631 125.218421 \r\nL 40.603125 125.218421 \r\nz\r\n\" style=\"fill:#4a4c7e;\"/>\r\n   </g>\r\n   <g id=\"patch_7\">\r\n    <path clip-path=\"url(#p0822e8fe48)\" d=\"M 40.603125 153.828947 \r\nL 323.040687 153.828947 \r\nL 323.040687 160.981579 \r\nL 40.603125 160.981579 \r\nz\r\n\" style=\"fill:#4a4c7e;\"/>\r\n   </g>\r\n   <g id=\"patch_8\">\r\n    <path clip-path=\"url(#p0822e8fe48)\" d=\"M 40.603125 189.592105 \r\nL 441.961766 189.592105 \r\nL 441.961766 196.744737 \r\nL 40.603125 196.744737 \r\nz\r\n\" style=\"fill:#4a4c7e;\"/>\r\n   </g>\r\n   <g id=\"patch_9\">\r\n    <path clip-path=\"url(#p0822e8fe48)\" d=\"M 40.603125 225.355263 \r\nL 835.88784 225.355263 \r\nL 835.88784 232.507895 \r\nL 40.603125 232.507895 \r\nz\r\n\" style=\"fill:#4a4c7e;\"/>\r\n   </g>\r\n   <g id=\"patch_10\">\r\n    <path clip-path=\"url(#p0822e8fe48)\" d=\"M 40.603125 261.118421 \r\nL 650.073654 261.118421 \r\nL 650.073654 268.271053 \r\nL 40.603125 268.271053 \r\nz\r\n\" style=\"fill:#4a4c7e;\"/>\r\n   </g>\r\n   <g id=\"patch_11\">\r\n    <path clip-path=\"url(#p0822e8fe48)\" d=\"M 40.603125 296.881579 \r\nL 152.091636 296.881579 \r\nL 152.091636 304.034211 \r\nL 40.603125 304.034211 \r\nz\r\n\" style=\"fill:#4a4c7e;\"/>\r\n   </g>\r\n   <g id=\"patch_12\">\r\n    <path clip-path=\"url(#p0822e8fe48)\" d=\"M 40.603125 332.644737 \r\nL 308.175553 332.644737 \r\nL 308.175553 339.797368 \r\nL 40.603125 339.797368 \r\nz\r\n\" style=\"fill:#4a4c7e;\"/>\r\n   </g>\r\n   <g id=\"patch_13\">\r\n    <path clip-path=\"url(#p0822e8fe48)\" d=\"M 40.603125 368.407895 \r\nL 337.905822 368.407895 \r\nL 337.905822 375.560526 \r\nL 40.603125 375.560526 \r\nz\r\n\" style=\"fill:#4a4c7e;\"/>\r\n   </g>\r\n   <g id=\"patch_14\">\r\n    <path clip-path=\"url(#p0822e8fe48)\" d=\"M 40.603125 404.171053 \r\nL 293.310418 404.171053 \r\nL 293.310418 411.323684 \r\nL 40.603125 411.323684 \r\nz\r\n\" style=\"fill:#4a4c7e;\"/>\r\n   </g>\r\n   <g id=\"patch_15\">\r\n    <path clip-path=\"url(#p0822e8fe48)\" d=\"M 40.603125 439.934211 \r\nL 92.631097 439.934211 \r\nL 92.631097 447.086842 \r\nL 40.603125 447.086842 \r\nz\r\n\" style=\"fill:#4a4c7e;\"/>\r\n   </g>\r\n   <g id=\"patch_16\">\r\n    <path clip-path=\"url(#p0822e8fe48)\" d=\"M 40.603125 475.697368 \r\nL 308.175553 475.697368 \r\nL 308.175553 482.85 \r\nL 40.603125 482.85 \r\nz\r\n\" style=\"fill:#4a4c7e;\"/>\r\n   </g>\r\n   <g id=\"patch_17\">\r\n    <path clip-path=\"url(#p0822e8fe48)\" d=\"M 40.603125 511.460526 \r\nL 218.984743 511.460526 \r\nL 218.984743 518.613158 \r\nL 40.603125 518.613158 \r\nz\r\n\" style=\"fill:#4a4c7e;\"/>\r\n   </g>\r\n   <g id=\"patch_18\">\r\n    <path clip-path=\"url(#p0822e8fe48)\" d=\"M 40.603125 547.223684 \r\nL 204.119609 547.223684 \r\nL 204.119609 554.376316 \r\nL 40.603125 554.376316 \r\nz\r\n\" style=\"fill:#4a4c7e;\"/>\r\n   </g>\r\n   <g id=\"patch_19\">\r\n    <path clip-path=\"url(#p0822e8fe48)\" d=\"M 40.603125 582.986842 \r\nL 77.765962 582.986842 \r\nL 77.765962 590.139474 \r\nL 40.603125 590.139474 \r\nz\r\n\" style=\"fill:#4a4c7e;\"/>\r\n   </g>\r\n   <g id=\"patch_20\">\r\n    <path clip-path=\"url(#p0822e8fe48)\" d=\"M 40.603125 618.75 \r\nL 360.203525 618.75 \r\nL 360.203525 625.902632 \r\nL 40.603125 625.902632 \r\nz\r\n\" style=\"fill:#4a4c7e;\"/>\r\n   </g>\r\n   <g id=\"patch_21\">\r\n    <path clip-path=\"url(#p0822e8fe48)\" d=\"M 40.603125 654.513158 \r\nL 278.445283 654.513158 \r\nL 278.445283 661.665789 \r\nL 40.603125 661.665789 \r\nz\r\n\" style=\"fill:#4a4c7e;\"/>\r\n   </g>\r\n   <g id=\"patch_22\">\r\n    <path clip-path=\"url(#p0822e8fe48)\" d=\"M 40.603125 690.276316 \r\nL 308.175553 690.276316 \r\nL 308.175553 697.428947 \r\nL 40.603125 697.428947 \r\nz\r\n\" style=\"fill:#4a4c7e;\"/>\r\n   </g>\r\n   <g id=\"patch_23\">\r\n    <path clip-path=\"url(#p0822e8fe48)\" d=\"M 40.603125 726.039474 \r\nL 360.203525 726.039474 \r\nL 360.203525 733.192105 \r\nL 40.603125 733.192105 \r\nz\r\n\" style=\"fill:#4a4c7e;\"/>\r\n   </g>\r\n   <g id=\"patch_24\">\r\n    <path clip-path=\"url(#p0822e8fe48)\" d=\"M 40.603125 761.802632 \r\nL 278.445283 761.802632 \r\nL 278.445283 768.955263 \r\nL 40.603125 768.955263 \r\nz\r\n\" style=\"fill:#4a4c7e;\"/>\r\n   </g>\r\n   <g id=\"patch_25\">\r\n    <path clip-path=\"url(#p0822e8fe48)\" d=\"M 40.603125 797.565789 \r\nL 293.310418 797.565789 \r\nL 293.310418 804.718421 \r\nL 40.603125 804.718421 \r\nz\r\n\" style=\"fill:#4a4c7e;\"/>\r\n   </g>\r\n   <g id=\"patch_26\">\r\n    <path clip-path=\"url(#p0822e8fe48)\" d=\"M 40.603125 833.328947 \r\nL 337.905822 833.328947 \r\nL 337.905822 840.481579 \r\nL 40.603125 840.481579 \r\nz\r\n\" style=\"fill:#4a4c7e;\"/>\r\n   </g>\r\n   <g id=\"patch_27\">\r\n    <path clip-path=\"url(#p0822e8fe48)\" d=\"M 40.603125 869.092105 \r\nL 226.417311 869.092105 \r\nL 226.417311 876.244737 \r\nL 40.603125 876.244737 \r\nz\r\n\" style=\"fill:#4a4c7e;\"/>\r\n   </g>\r\n   <g id=\"patch_28\">\r\n    <path clip-path=\"url(#p0822e8fe48)\" d=\"M 40.603125 904.855263 \r\nL 293.310418 904.855263 \r\nL 293.310418 912.007895 \r\nL 40.603125 912.007895 \r\nz\r\n\" style=\"fill:#4a4c7e;\"/>\r\n   </g>\r\n   <g id=\"patch_29\">\r\n    <path clip-path=\"url(#p0822e8fe48)\" d=\"M 40.603125 940.618421 \r\nL 211.552176 940.618421 \r\nL 211.552176 947.771053 \r\nL 40.603125 947.771053 \r\nz\r\n\" style=\"fill:#4a4c7e;\"/>\r\n   </g>\r\n   <g id=\"patch_30\">\r\n    <path clip-path=\"url(#p0822e8fe48)\" d=\"M 40.603125 976.381579 \r\nL 449.394334 976.381579 \r\nL 449.394334 983.534211 \r\nL 40.603125 983.534211 \r\nz\r\n\" style=\"fill:#4a4c7e;\"/>\r\n   </g>\r\n   <g id=\"patch_31\">\r\n    <path clip-path=\"url(#p0822e8fe48)\" d=\"M 40.603125 1012.144737 \r\nL 315.60812 1012.144737 \r\nL 315.60812 1019.297368 \r\nL 40.603125 1019.297368 \r\nz\r\n\" style=\"fill:#4a4c7e;\"/>\r\n   </g>\r\n   <g id=\"patch_32\">\r\n    <path clip-path=\"url(#p0822e8fe48)\" d=\"M 40.603125 1047.907895 \r\nL 382.501227 1047.907895 \r\nL 382.501227 1055.060526 \r\nL 40.603125 1055.060526 \r\nz\r\n\" style=\"fill:#4a4c7e;\"/>\r\n   </g>\r\n   <g id=\"patch_33\">\r\n    <path clip-path=\"url(#p0822e8fe48)\" d=\"M 40.603125 1083.671053 \r\nL 256.147581 1083.671053 \r\nL 256.147581 1090.823684 \r\nL 40.603125 1090.823684 \r\nz\r\n\" style=\"fill:#4a4c7e;\"/>\r\n   </g>\r\n   <g id=\"patch_34\">\r\n    <path clip-path=\"url(#p0822e8fe48)\" d=\"M 40.603125 1119.434211 \r\nL 152.091636 1119.434211 \r\nL 152.091636 1126.586842 \r\nL 40.603125 1126.586842 \r\nz\r\n\" style=\"fill:#4a4c7e;\"/>\r\n   </g>\r\n   <g id=\"patch_35\">\r\n    <path clip-path=\"url(#p0822e8fe48)\" d=\"M 40.603125 1155.197368 \r\nL 285.87785 1155.197368 \r\nL 285.87785 1162.35 \r\nL 40.603125 1162.35 \r\nz\r\n\" style=\"fill:#4a4c7e;\"/>\r\n   </g>\r\n   <g id=\"patch_36\">\r\n    <path clip-path=\"url(#p0822e8fe48)\" d=\"M 40.603125 1190.960526 \r\nL 285.87785 1190.960526 \r\nL 285.87785 1198.113158 \r\nL 40.603125 1198.113158 \r\nz\r\n\" style=\"fill:#4a4c7e;\"/>\r\n   </g>\r\n   <g id=\"patch_37\">\r\n    <path clip-path=\"url(#p0822e8fe48)\" d=\"M 40.603125 1226.723684 \r\nL 218.984743 1226.723684 \r\nL 218.984743 1233.876316 \r\nL 40.603125 1233.876316 \r\nz\r\n\" style=\"fill:#4a4c7e;\"/>\r\n   </g>\r\n   <g id=\"patch_38\">\r\n    <path clip-path=\"url(#p0822e8fe48)\" d=\"M 40.603125 1262.486842 \r\nL 352.770957 1262.486842 \r\nL 352.770957 1269.639474 \r\nL 40.603125 1269.639474 \r\nz\r\n\" style=\"fill:#4a4c7e;\"/>\r\n   </g>\r\n   <g id=\"patch_39\">\r\n    <path clip-path=\"url(#p0822e8fe48)\" d=\"M 40.603125 1298.25 \r\nL 129.793934 1298.25 \r\nL 129.793934 1305.402632 \r\nL 40.603125 1305.402632 \r\nz\r\n\" style=\"fill:#4a4c7e;\"/>\r\n   </g>\r\n   <g id=\"patch_40\">\r\n    <path clip-path=\"url(#p0822e8fe48)\" d=\"M 40.603125 1334.013158 \r\nL 263.580148 1334.013158 \r\nL 263.580148 1341.165789 \r\nL 40.603125 1341.165789 \r\nz\r\n\" style=\"fill:#4a4c7e;\"/>\r\n   </g>\r\n   <g id=\"patch_41\">\r\n    <path clip-path=\"url(#p0822e8fe48)\" d=\"M 40.603125 17.928947 \r\nL 479.124604 17.928947 \r\nL 479.124604 25.081579 \r\nL 40.603125 25.081579 \r\nz\r\n\" style=\"fill:#367182;\"/>\r\n   </g>\r\n   <g id=\"patch_42\">\r\n    <path clip-path=\"url(#p0822e8fe48)\" d=\"M 40.603125 53.692105 \r\nL 337.905822 53.692105 \r\nL 337.905822 60.844737 \r\nL 40.603125 60.844737 \r\nz\r\n\" style=\"fill:#367182;\"/>\r\n   </g>\r\n   <g id=\"patch_43\">\r\n    <path clip-path=\"url(#p0822e8fe48)\" d=\"M 40.603125 89.455263 \r\nL 531.152576 89.455263 \r\nL 531.152576 96.607895 \r\nL 40.603125 96.607895 \r\nz\r\n\" style=\"fill:#367182;\"/>\r\n   </g>\r\n   <g id=\"patch_44\">\r\n    <path clip-path=\"url(#p0822e8fe48)\" d=\"M 40.603125 125.218421 \r\nL 657.506222 125.218421 \r\nL 657.506222 132.371053 \r\nL 40.603125 132.371053 \r\nz\r\n\" style=\"fill:#367182;\"/>\r\n   </g>\r\n   <g id=\"patch_45\">\r\n    <path clip-path=\"url(#p0822e8fe48)\" d=\"M 40.603125 160.981579 \r\nL 947.376352 160.981579 \r\nL 947.376352 168.134211 \r\nL 40.603125 168.134211 \r\nz\r\n\" style=\"fill:#367182;\"/>\r\n   </g>\r\n   <g id=\"patch_46\">\r\n    <path clip-path=\"url(#p0822e8fe48)\" d=\"M 40.603125 196.744737 \r\nL 828.455273 196.744737 \r\nL 828.455273 203.897368 \r\nL 40.603125 203.897368 \r\nz\r\n\" style=\"fill:#367182;\"/>\r\n   </g>\r\n   <g id=\"patch_47\">\r\n    <path clip-path=\"url(#p0822e8fe48)\" d=\"M 40.603125 232.507895 \r\nL 761.562166 232.507895 \r\nL 761.562166 239.660526 \r\nL 40.603125 239.660526 \r\nz\r\n\" style=\"fill:#367182;\"/>\r\n   </g>\r\n   <g id=\"patch_48\">\r\n    <path clip-path=\"url(#p0822e8fe48)\" d=\"M 40.603125 268.271053 \r\nL 828.455273 268.271053 \r\nL 828.455273 275.423684 \r\nL 40.603125 275.423684 \r\nz\r\n\" style=\"fill:#367182;\"/>\r\n   </g>\r\n   <g id=\"patch_49\">\r\n    <path clip-path=\"url(#p0822e8fe48)\" d=\"M 40.603125 304.034211 \r\nL 189.254474 304.034211 \r\nL 189.254474 311.186842 \r\nL 40.603125 311.186842 \r\nz\r\n\" style=\"fill:#367182;\"/>\r\n   </g>\r\n   <g id=\"patch_50\">\r\n    <path clip-path=\"url(#p0822e8fe48)\" d=\"M 40.603125 339.797368 \r\nL 471.692036 339.797368 \r\nL 471.692036 346.95 \r\nL 40.603125 346.95 \r\nz\r\n\" style=\"fill:#367182;\"/>\r\n   </g>\r\n   <g id=\"patch_51\">\r\n    <path clip-path=\"url(#p0822e8fe48)\" d=\"M 40.603125 375.560526 \r\nL 531.152576 375.560526 \r\nL 531.152576 382.713158 \r\nL 40.603125 382.713158 \r\nz\r\n\" style=\"fill:#367182;\"/>\r\n   </g>\r\n   <g id=\"patch_52\">\r\n    <path clip-path=\"url(#p0822e8fe48)\" d=\"M 40.603125 411.323684 \r\nL 412.231497 411.323684 \r\nL 412.231497 418.476316 \r\nL 40.603125 418.476316 \r\nz\r\n\" style=\"fill:#367182;\"/>\r\n   </g>\r\n   <g id=\"patch_53\">\r\n    <path clip-path=\"url(#p0822e8fe48)\" d=\"M 40.603125 447.086842 \r\nL 85.19853 447.086842 \r\nL 85.19853 454.239474 \r\nL 40.603125 454.239474 \r\nz\r\n\" style=\"fill:#367182;\"/>\r\n   </g>\r\n   <g id=\"patch_54\">\r\n    <path clip-path=\"url(#p0822e8fe48)\" d=\"M 40.603125 482.85 \r\nL 456.826901 482.85 \r\nL 456.826901 490.002632 \r\nL 40.603125 490.002632 \r\nz\r\n\" style=\"fill:#367182;\"/>\r\n   </g>\r\n   <g id=\"patch_55\">\r\n    <path clip-path=\"url(#p0822e8fe48)\" d=\"M 40.603125 518.613158 \r\nL 486.557171 518.613158 \r\nL 486.557171 525.765789 \r\nL 40.603125 525.765789 \r\nz\r\n\" style=\"fill:#367182;\"/>\r\n   </g>\r\n   <g id=\"patch_56\">\r\n    <path clip-path=\"url(#p0822e8fe48)\" d=\"M 40.603125 554.376316 \r\nL 486.557171 554.376316 \r\nL 486.557171 561.528947 \r\nL 40.603125 561.528947 \r\nz\r\n\" style=\"fill:#367182;\"/>\r\n   </g>\r\n   <g id=\"patch_57\">\r\n    <path clip-path=\"url(#p0822e8fe48)\" d=\"M 40.603125 590.139474 \r\nL 100.063664 590.139474 \r\nL 100.063664 597.292105 \r\nL 40.603125 597.292105 \r\nz\r\n\" style=\"fill:#367182;\"/>\r\n   </g>\r\n   <g id=\"patch_58\">\r\n    <path clip-path=\"url(#p0822e8fe48)\" d=\"M 40.603125 625.902632 \r\nL 456.826901 625.902632 \r\nL 456.826901 633.055263 \r\nL 40.603125 633.055263 \r\nz\r\n\" style=\"fill:#367182;\"/>\r\n   </g>\r\n   <g id=\"patch_59\">\r\n    <path clip-path=\"url(#p0822e8fe48)\" d=\"M 40.603125 661.665789 \r\nL 598.045682 661.665789 \r\nL 598.045682 668.818421 \r\nL 40.603125 668.818421 \r\nz\r\n\" style=\"fill:#367182;\"/>\r\n   </g>\r\n   <g id=\"patch_60\">\r\n    <path clip-path=\"url(#p0822e8fe48)\" d=\"M 40.603125 697.428947 \r\nL 419.664064 697.428947 \r\nL 419.664064 704.581579 \r\nL 40.603125 704.581579 \r\nz\r\n\" style=\"fill:#367182;\"/>\r\n   </g>\r\n   <g id=\"patch_61\">\r\n    <path clip-path=\"url(#p0822e8fe48)\" d=\"M 40.603125 733.192105 \r\nL 352.770957 733.192105 \r\nL 352.770957 740.344737 \r\nL 40.603125 740.344737 \r\nz\r\n\" style=\"fill:#367182;\"/>\r\n   </g>\r\n   <g id=\"patch_62\">\r\n    <path clip-path=\"url(#p0822e8fe48)\" d=\"M 40.603125 768.955263 \r\nL 464.259469 768.955263 \r\nL 464.259469 776.107895 \r\nL 40.603125 776.107895 \r\nz\r\n\" style=\"fill:#367182;\"/>\r\n   </g>\r\n   <g id=\"patch_63\">\r\n    <path clip-path=\"url(#p0822e8fe48)\" d=\"M 40.603125 804.718421 \r\nL 486.557171 804.718421 \r\nL 486.557171 811.871053 \r\nL 40.603125 811.871053 \r\nz\r\n\" style=\"fill:#367182;\"/>\r\n   </g>\r\n   <g id=\"patch_64\">\r\n    <path clip-path=\"url(#p0822e8fe48)\" d=\"M 40.603125 840.481579 \r\nL 508.854873 840.481579 \r\nL 508.854873 847.634211 \r\nL 40.603125 847.634211 \r\nz\r\n\" style=\"fill:#367182;\"/>\r\n   </g>\r\n   <g id=\"patch_65\">\r\n    <path clip-path=\"url(#p0822e8fe48)\" d=\"M 40.603125 876.244737 \r\nL 493.989738 876.244737 \r\nL 493.989738 883.397368 \r\nL 40.603125 883.397368 \r\nz\r\n\" style=\"fill:#367182;\"/>\r\n   </g>\r\n   <g id=\"patch_66\">\r\n    <path clip-path=\"url(#p0822e8fe48)\" d=\"M 40.603125 912.007895 \r\nL 397.366362 912.007895 \r\nL 397.366362 919.160526 \r\nL 40.603125 919.160526 \r\nz\r\n\" style=\"fill:#367182;\"/>\r\n   </g>\r\n   <g id=\"patch_67\">\r\n    <path clip-path=\"url(#p0822e8fe48)\" d=\"M 40.603125 947.771053 \r\nL 471.692036 947.771053 \r\nL 471.692036 954.923684 \r\nL 40.603125 954.923684 \r\nz\r\n\" style=\"fill:#367182;\"/>\r\n   </g>\r\n   <g id=\"patch_68\">\r\n    <path clip-path=\"url(#p0822e8fe48)\" d=\"M 40.603125 983.534211 \r\nL 419.664064 983.534211 \r\nL 419.664064 990.686842 \r\nL 40.603125 990.686842 \r\nz\r\n\" style=\"fill:#367182;\"/>\r\n   </g>\r\n   <g id=\"patch_69\">\r\n    <path clip-path=\"url(#p0822e8fe48)\" d=\"M 40.603125 1019.297368 \r\nL 352.770957 1019.297368 \r\nL 352.770957 1026.45 \r\nL 40.603125 1026.45 \r\nz\r\n\" style=\"fill:#367182;\"/>\r\n   </g>\r\n   <g id=\"patch_70\">\r\n    <path clip-path=\"url(#p0822e8fe48)\" d=\"M 40.603125 1055.060526 \r\nL 382.501227 1055.060526 \r\nL 382.501227 1062.213158 \r\nL 40.603125 1062.213158 \r\nz\r\n\" style=\"fill:#367182;\"/>\r\n   </g>\r\n   <g id=\"patch_71\">\r\n    <path clip-path=\"url(#p0822e8fe48)\" d=\"M 40.603125 1090.823684 \r\nL 456.826901 1090.823684 \r\nL 456.826901 1097.976316 \r\nL 40.603125 1097.976316 \r\nz\r\n\" style=\"fill:#367182;\"/>\r\n   </g>\r\n   <g id=\"patch_72\">\r\n    <path clip-path=\"url(#p0822e8fe48)\" d=\"M 40.603125 1126.586842 \r\nL 471.692036 1126.586842 \r\nL 471.692036 1133.739474 \r\nL 40.603125 1133.739474 \r\nz\r\n\" style=\"fill:#367182;\"/>\r\n   </g>\r\n   <g id=\"patch_73\">\r\n    <path clip-path=\"url(#p0822e8fe48)\" d=\"M 40.603125 1162.35 \r\nL 218.984743 1162.35 \r\nL 218.984743 1169.502632 \r\nL 40.603125 1169.502632 \r\nz\r\n\" style=\"fill:#367182;\"/>\r\n   </g>\r\n   <g id=\"patch_74\">\r\n    <path clip-path=\"url(#p0822e8fe48)\" d=\"M 40.603125 1198.113158 \r\nL 352.770957 1198.113158 \r\nL 352.770957 1205.265789 \r\nL 40.603125 1205.265789 \r\nz\r\n\" style=\"fill:#367182;\"/>\r\n   </g>\r\n   <g id=\"patch_75\">\r\n    <path clip-path=\"url(#p0822e8fe48)\" d=\"M 40.603125 1233.876316 \r\nL 449.394334 1233.876316 \r\nL 449.394334 1241.028947 \r\nL 40.603125 1241.028947 \r\nz\r\n\" style=\"fill:#367182;\"/>\r\n   </g>\r\n   <g id=\"patch_76\">\r\n    <path clip-path=\"url(#p0822e8fe48)\" d=\"M 40.603125 1269.639474 \r\nL 345.33839 1269.639474 \r\nL 345.33839 1276.792105 \r\nL 40.603125 1276.792105 \r\nz\r\n\" style=\"fill:#367182;\"/>\r\n   </g>\r\n   <g id=\"patch_77\">\r\n    <path clip-path=\"url(#p0822e8fe48)\" d=\"M 40.603125 1305.402632 \r\nL 256.147581 1305.402632 \r\nL 256.147581 1312.555263 \r\nL 40.603125 1312.555263 \r\nz\r\n\" style=\"fill:#367182;\"/>\r\n   </g>\r\n   <g id=\"patch_78\">\r\n    <path clip-path=\"url(#p0822e8fe48)\" d=\"M 40.603125 1341.165789 \r\nL 352.770957 1341.165789 \r\nL 352.770957 1348.318421 \r\nL 40.603125 1348.318421 \r\nz\r\n\" style=\"fill:#367182;\"/>\r\n   </g>\r\n   <g id=\"patch_79\">\r\n    <path clip-path=\"url(#p0822e8fe48)\" d=\"M 40.603125 25.081579 \r\nL 1103.460268 25.081579 \r\nL 1103.460268 32.234211 \r\nL 40.603125 32.234211 \r\nz\r\n\" style=\"fill:#33977c;\"/>\r\n   </g>\r\n   <g id=\"patch_80\">\r\n    <path clip-path=\"url(#p0822e8fe48)\" d=\"M 40.603125 60.844737 \r\nL 204.119609 60.844737 \r\nL 204.119609 67.997368 \r\nL 40.603125 67.997368 \r\nz\r\n\" style=\"fill:#33977c;\"/>\r\n   </g>\r\n   <g id=\"patch_81\">\r\n    <path clip-path=\"url(#p0822e8fe48)\" d=\"M 40.603125 96.607895 \r\nL 300.742985 96.607895 \r\nL 300.742985 103.760526 \r\nL 40.603125 103.760526 \r\nz\r\n\" style=\"fill:#33977c;\"/>\r\n   </g>\r\n   <g id=\"patch_82\">\r\n    <path clip-path=\"url(#p0822e8fe48)\" d=\"M 40.603125 132.371053 \r\nL 159.524204 132.371053 \r\nL 159.524204 139.523684 \r\nL 40.603125 139.523684 \r\nz\r\n\" style=\"fill:#33977c;\"/>\r\n   </g>\r\n   <g id=\"patch_83\">\r\n    <path clip-path=\"url(#p0822e8fe48)\" d=\"M 40.603125 168.134211 \r\nL 152.091636 168.134211 \r\nL 152.091636 175.286842 \r\nL 40.603125 175.286842 \r\nz\r\n\" style=\"fill:#33977c;\"/>\r\n   </g>\r\n   <g id=\"patch_84\">\r\n    <path clip-path=\"url(#p0822e8fe48)\" d=\"M 40.603125 203.897368 \r\nL 107.496232 203.897368 \r\nL 107.496232 211.05 \r\nL 40.603125 211.05 \r\nz\r\n\" style=\"fill:#33977c;\"/>\r\n   </g>\r\n   <g id=\"patch_85\">\r\n    <path clip-path=\"url(#p0822e8fe48)\" d=\"M 40.603125 239.660526 \r\nL 137.226502 239.660526 \r\nL 137.226502 246.813158 \r\nL 40.603125 246.813158 \r\nz\r\n\" style=\"fill:#33977c;\"/>\r\n   </g>\r\n   <g id=\"patch_86\">\r\n    <path clip-path=\"url(#p0822e8fe48)\" d=\"M 40.603125 275.423684 \r\nL 278.445283 275.423684 \r\nL 278.445283 282.576316 \r\nL 40.603125 282.576316 \r\nz\r\n\" style=\"fill:#33977c;\"/>\r\n   </g>\r\n   <g id=\"patch_87\">\r\n    <path clip-path=\"url(#p0822e8fe48)\" d=\"M 40.603125 311.186842 \r\nL 48.035692 311.186842 \r\nL 48.035692 318.339474 \r\nL 40.603125 318.339474 \r\nz\r\n\" style=\"fill:#33977c;\"/>\r\n   </g>\r\n   <g id=\"patch_88\">\r\n    <path clip-path=\"url(#p0822e8fe48)\" d=\"M 40.603125 346.95 \r\nL 122.361367 346.95 \r\nL 122.361367 354.102632 \r\nL 40.603125 354.102632 \r\nz\r\n\" style=\"fill:#33977c;\"/>\r\n   </g>\r\n   <g id=\"patch_89\">\r\n    <path clip-path=\"url(#p0822e8fe48)\" d=\"M 40.603125 382.713158 \r\nL 152.091636 382.713158 \r\nL 152.091636 389.865789 \r\nL 40.603125 389.865789 \r\nz\r\n\" style=\"fill:#33977c;\"/>\r\n   </g>\r\n   <g id=\"patch_90\">\r\n    <path clip-path=\"url(#p0822e8fe48)\" d=\"M 40.603125 418.476316 \r\nL 218.984743 418.476316 \r\nL 218.984743 425.628947 \r\nL 40.603125 425.628947 \r\nz\r\n\" style=\"fill:#33977c;\"/>\r\n   </g>\r\n   <g id=\"patch_91\">\r\n    <path clip-path=\"url(#p0822e8fe48)\" d=\"M 40.603125 454.239474 \r\nL 70.333395 454.239474 \r\nL 70.333395 461.392105 \r\nL 40.603125 461.392105 \r\nz\r\n\" style=\"fill:#33977c;\"/>\r\n   </g>\r\n   <g id=\"patch_92\">\r\n    <path clip-path=\"url(#p0822e8fe48)\" d=\"M 40.603125 490.002632 \r\nL 233.849878 490.002632 \r\nL 233.849878 497.155263 \r\nL 40.603125 497.155263 \r\nz\r\n\" style=\"fill:#33977c;\"/>\r\n   </g>\r\n   <g id=\"patch_93\">\r\n    <path clip-path=\"url(#p0822e8fe48)\" d=\"M 40.603125 525.765789 \r\nL 746.697031 525.765789 \r\nL 746.697031 532.918421 \r\nL 40.603125 532.918421 \r\nz\r\n\" style=\"fill:#33977c;\"/>\r\n   </g>\r\n   <g id=\"patch_94\">\r\n    <path clip-path=\"url(#p0822e8fe48)\" d=\"M 40.603125 561.528947 \r\nL 48.035692 561.528947 \r\nL 48.035692 568.681579 \r\nL 40.603125 568.681579 \r\nz\r\n\" style=\"fill:#33977c;\"/>\r\n   </g>\r\n   <g id=\"patch_95\">\r\n    <path clip-path=\"url(#p0822e8fe48)\" d=\"M 40.603125 597.292105 \r\nL 62.900827 597.292105 \r\nL 62.900827 604.444737 \r\nL 40.603125 604.444737 \r\nz\r\n\" style=\"fill:#33977c;\"/>\r\n   </g>\r\n   <g id=\"patch_96\">\r\n    <path clip-path=\"url(#p0822e8fe48)\" d=\"M 40.603125 633.055263 \r\nL 174.389339 633.055263 \r\nL 174.389339 640.207895 \r\nL 40.603125 640.207895 \r\nz\r\n\" style=\"fill:#33977c;\"/>\r\n   </g>\r\n   <g id=\"patch_97\">\r\n    <path clip-path=\"url(#p0822e8fe48)\" d=\"M 40.603125 668.818421 \r\nL 107.496232 668.818421 \r\nL 107.496232 675.971053 \r\nL 40.603125 675.971053 \r\nz\r\n\" style=\"fill:#33977c;\"/>\r\n   </g>\r\n   <g id=\"patch_98\">\r\n    <path clip-path=\"url(#p0822e8fe48)\" d=\"M 40.603125 704.581579 \r\nL 70.333395 704.581579 \r\nL 70.333395 711.734211 \r\nL 40.603125 711.734211 \r\nz\r\n\" style=\"fill:#33977c;\"/>\r\n   </g>\r\n   <g id=\"patch_99\">\r\n    <path clip-path=\"url(#p0822e8fe48)\" d=\"M 40.603125 740.344737 \r\nL 77.765962 740.344737 \r\nL 77.765962 747.497368 \r\nL 40.603125 747.497368 \r\nz\r\n\" style=\"fill:#33977c;\"/>\r\n   </g>\r\n   <g id=\"patch_100\">\r\n    <path clip-path=\"url(#p0822e8fe48)\" d=\"M 40.603125 776.107895 \r\nL 55.46826 776.107895 \r\nL 55.46826 783.260526 \r\nL 40.603125 783.260526 \r\nz\r\n\" style=\"fill:#33977c;\"/>\r\n   </g>\r\n   <g id=\"patch_101\">\r\n    <path clip-path=\"url(#p0822e8fe48)\" d=\"M 40.603125 811.871053 \r\nL 114.928799 811.871053 \r\nL 114.928799 819.023684 \r\nL 40.603125 819.023684 \r\nz\r\n\" style=\"fill:#33977c;\"/>\r\n   </g>\r\n   <g id=\"patch_102\">\r\n    <path clip-path=\"url(#p0822e8fe48)\" d=\"M 40.603125 847.634211 \r\nL 62.900827 847.634211 \r\nL 62.900827 854.786842 \r\nL 40.603125 854.786842 \r\nz\r\n\" style=\"fill:#33977c;\"/>\r\n   </g>\r\n   <g id=\"patch_103\">\r\n    <path clip-path=\"url(#p0822e8fe48)\" d=\"M 40.603125 883.397368 \r\nL 256.147581 883.397368 \r\nL 256.147581 890.55 \r\nL 40.603125 890.55 \r\nz\r\n\" style=\"fill:#33977c;\"/>\r\n   </g>\r\n   <g id=\"patch_104\">\r\n    <path clip-path=\"url(#p0822e8fe48)\" d=\"M 40.603125 919.160526 \r\nL 92.631097 919.160526 \r\nL 92.631097 926.313158 \r\nL 40.603125 926.313158 \r\nz\r\n\" style=\"fill:#33977c;\"/>\r\n   </g>\r\n   <g id=\"patch_105\">\r\n    <path clip-path=\"url(#p0822e8fe48)\" d=\"M 40.603125 954.923684 \r\nL 196.687041 954.923684 \r\nL 196.687041 962.076316 \r\nL 40.603125 962.076316 \r\nz\r\n\" style=\"fill:#33977c;\"/>\r\n   </g>\r\n   <g id=\"patch_106\">\r\n    <path clip-path=\"url(#p0822e8fe48)\" d=\"M 40.603125 990.686842 \r\nL 48.035692 990.686842 \r\nL 48.035692 997.839474 \r\nL 40.603125 997.839474 \r\nz\r\n\" style=\"fill:#33977c;\"/>\r\n   </g>\r\n   <g id=\"patch_107\">\r\n    <path clip-path=\"url(#p0822e8fe48)\" d=\"M 40.603125 1026.45 \r\nL 100.063664 1026.45 \r\nL 100.063664 1033.602632 \r\nL 40.603125 1033.602632 \r\nz\r\n\" style=\"fill:#33977c;\"/>\r\n   </g>\r\n   <g id=\"patch_108\">\r\n    <path clip-path=\"url(#p0822e8fe48)\" d=\"M 40.603125 1062.213158 \r\nL 85.19853 1062.213158 \r\nL 85.19853 1069.365789 \r\nL 40.603125 1069.365789 \r\nz\r\n\" style=\"fill:#33977c;\"/>\r\n   </g>\r\n   <g id=\"patch_109\">\r\n    <path clip-path=\"url(#p0822e8fe48)\" d=\"M 40.603125 1097.976316 \r\nL 48.035692 1097.976316 \r\nL 48.035692 1105.128947 \r\nL 40.603125 1105.128947 \r\nz\r\n\" style=\"fill:#33977c;\"/>\r\n   </g>\r\n   <g id=\"patch_110\">\r\n    <path clip-path=\"url(#p0822e8fe48)\" d=\"M 40.603125 1133.739474 \r\nL 204.119609 1133.739474 \r\nL 204.119609 1140.892105 \r\nL 40.603125 1140.892105 \r\nz\r\n\" style=\"fill:#33977c;\"/>\r\n   </g>\r\n   <g id=\"patch_111\">\r\n    <path clip-path=\"url(#p0822e8fe48)\" d=\"M 40.603125 1169.502632 \r\nL 62.900827 1169.502632 \r\nL 62.900827 1176.655263 \r\nL 40.603125 1176.655263 \r\nz\r\n\" style=\"fill:#33977c;\"/>\r\n   </g>\r\n   <g id=\"patch_112\">\r\n    <path clip-path=\"url(#p0822e8fe48)\" d=\"M 40.603125 1205.265789 \r\nL 159.524204 1205.265789 \r\nL 159.524204 1212.418421 \r\nL 40.603125 1212.418421 \r\nz\r\n\" style=\"fill:#33977c;\"/>\r\n   </g>\r\n   <g id=\"patch_113\">\r\n    <path clip-path=\"url(#p0822e8fe48)\" d=\"M 40.603125 1241.028947 \r\nL 166.956771 1241.028947 \r\nL 166.956771 1248.181579 \r\nL 40.603125 1248.181579 \r\nz\r\n\" style=\"fill:#33977c;\"/>\r\n   </g>\r\n   <g id=\"patch_114\">\r\n    <path clip-path=\"url(#p0822e8fe48)\" d=\"M 40.603125 1276.792105 \r\nL 330.473255 1276.792105 \r\nL 330.473255 1283.944737 \r\nL 40.603125 1283.944737 \r\nz\r\n\" style=\"fill:#33977c;\"/>\r\n   </g>\r\n   <g id=\"patch_115\">\r\n    <path clip-path=\"url(#p0822e8fe48)\" d=\"M 40.603125 1312.555263 \r\nL 55.46826 1312.555263 \r\nL 55.46826 1319.707895 \r\nL 40.603125 1319.707895 \r\nz\r\n\" style=\"fill:#33977c;\"/>\r\n   </g>\r\n   <g id=\"patch_116\">\r\n    <path clip-path=\"url(#p0822e8fe48)\" d=\"M 40.603125 1348.318421 \r\nL 85.19853 1348.318421 \r\nL 85.19853 1355.471053 \r\nL 40.603125 1355.471053 \r\nz\r\n\" style=\"fill:#33977c;\"/>\r\n   </g>\r\n   <g id=\"patch_117\">\r\n    <path clip-path=\"url(#p0822e8fe48)\" d=\"M 40.603125 32.234211 \r\nL 159.524204 32.234211 \r\nL 159.524204 39.386842 \r\nL 40.603125 39.386842 \r\nz\r\n\" style=\"fill:#80c161;\"/>\r\n   </g>\r\n   <g id=\"patch_118\">\r\n    <path clip-path=\"url(#p0822e8fe48)\" d=\"M 40.603125 67.997368 \r\nL 55.46826 67.997368 \r\nL 55.46826 75.15 \r\nL 40.603125 75.15 \r\nz\r\n\" style=\"fill:#80c161;\"/>\r\n   </g>\r\n   <g id=\"patch_119\">\r\n    <path clip-path=\"url(#p0822e8fe48)\" d=\"M 40.603125 103.760526 \r\nL 122.361367 103.760526 \r\nL 122.361367 110.913158 \r\nL 40.603125 110.913158 \r\nz\r\n\" style=\"fill:#80c161;\"/>\r\n   </g>\r\n   <g id=\"patch_120\">\r\n    <path clip-path=\"url(#p0822e8fe48)\" d=\"M 40.603125 139.523684 \r\nL 159.524204 139.523684 \r\nL 159.524204 146.676316 \r\nL 40.603125 146.676316 \r\nz\r\n\" style=\"fill:#80c161;\"/>\r\n   </g>\r\n   <g id=\"patch_121\">\r\n    <path clip-path=\"url(#p0822e8fe48)\" d=\"M 40.603125 175.286842 \r\nL 278.445283 175.286842 \r\nL 278.445283 182.439474 \r\nL 40.603125 182.439474 \r\nz\r\n\" style=\"fill:#80c161;\"/>\r\n   </g>\r\n   <g id=\"patch_122\">\r\n    <path clip-path=\"url(#p0822e8fe48)\" d=\"M 40.603125 211.05 \r\nL 345.33839 211.05 \r\nL 345.33839 218.202632 \r\nL 40.603125 218.202632 \r\nz\r\n\" style=\"fill:#80c161;\"/>\r\n   </g>\r\n   <g id=\"patch_123\">\r\n    <path clip-path=\"url(#p0822e8fe48)\" d=\"M 40.603125 246.813158 \r\nL 263.580148 246.813158 \r\nL 263.580148 253.965789 \r\nL 40.603125 253.965789 \r\nz\r\n\" style=\"fill:#80c161;\"/>\r\n   </g>\r\n   <g id=\"patch_124\">\r\n    <path clip-path=\"url(#p0822e8fe48)\" d=\"M 40.603125 282.576316 \r\nL 181.821906 282.576316 \r\nL 181.821906 289.728947 \r\nL 40.603125 289.728947 \r\nz\r\n\" style=\"fill:#80c161;\"/>\r\n   </g>\r\n   <g id=\"patch_125\">\r\n    <path clip-path=\"url(#p0822e8fe48)\" d=\"M 40.603125 318.339474 \r\nL 77.765962 318.339474 \r\nL 77.765962 325.492105 \r\nL 40.603125 325.492105 \r\nz\r\n\" style=\"fill:#80c161;\"/>\r\n   </g>\r\n   <g id=\"patch_126\">\r\n    <path clip-path=\"url(#p0822e8fe48)\" d=\"M 40.603125 354.102632 \r\nL 85.19853 354.102632 \r\nL 85.19853 361.255263 \r\nL 40.603125 361.255263 \r\nz\r\n\" style=\"fill:#80c161;\"/>\r\n   </g>\r\n   <g id=\"patch_127\">\r\n    <path clip-path=\"url(#p0822e8fe48)\" d=\"M 40.603125 389.865789 \r\nL 248.715013 389.865789 \r\nL 248.715013 397.018421 \r\nL 40.603125 397.018421 \r\nz\r\n\" style=\"fill:#80c161;\"/>\r\n   </g>\r\n   <g id=\"patch_128\">\r\n    <path clip-path=\"url(#p0822e8fe48)\" d=\"M 40.603125 425.628947 \r\nL 137.226502 425.628947 \r\nL 137.226502 432.781579 \r\nL 40.603125 432.781579 \r\nz\r\n\" style=\"fill:#80c161;\"/>\r\n   </g>\r\n   <g id=\"patch_129\">\r\n    <path clip-path=\"url(#p0822e8fe48)\" d=\"M 40.603125 461.392105 \r\nL 55.46826 461.392105 \r\nL 55.46826 468.544737 \r\nL 40.603125 468.544737 \r\nz\r\n\" style=\"fill:#80c161;\"/>\r\n   </g>\r\n   <g id=\"patch_130\">\r\n    <path clip-path=\"url(#p0822e8fe48)\" d=\"M 40.603125 497.155263 \r\nL 189.254474 497.155263 \r\nL 189.254474 504.307895 \r\nL 40.603125 504.307895 \r\nz\r\n\" style=\"fill:#80c161;\"/>\r\n   </g>\r\n   <g id=\"patch_131\">\r\n    <path clip-path=\"url(#p0822e8fe48)\" d=\"M 40.603125 532.918421 \r\nL 92.631097 532.918421 \r\nL 92.631097 540.071053 \r\nL 40.603125 540.071053 \r\nz\r\n\" style=\"fill:#80c161;\"/>\r\n   </g>\r\n   <g id=\"patch_132\">\r\n    <path clip-path=\"url(#p0822e8fe48)\" d=\"M 40.603125 568.681579 \r\nL 137.226502 568.681579 \r\nL 137.226502 575.834211 \r\nL 40.603125 575.834211 \r\nz\r\n\" style=\"fill:#80c161;\"/>\r\n   </g>\r\n   <g id=\"patch_133\">\r\n    <path clip-path=\"url(#p0822e8fe48)\" d=\"M 40.603125 604.444737 \r\nL 55.46826 604.444737 \r\nL 55.46826 611.597368 \r\nL 40.603125 611.597368 \r\nz\r\n\" style=\"fill:#80c161;\"/>\r\n   </g>\r\n   <g id=\"patch_134\">\r\n    <path clip-path=\"url(#p0822e8fe48)\" d=\"M 40.603125 640.207895 \r\nL 241.282446 640.207895 \r\nL 241.282446 647.360526 \r\nL 40.603125 647.360526 \r\nz\r\n\" style=\"fill:#80c161;\"/>\r\n   </g>\r\n   <g id=\"patch_135\">\r\n    <path clip-path=\"url(#p0822e8fe48)\" d=\"M 40.603125 675.971053 \r\nL 204.119609 675.971053 \r\nL 204.119609 683.123684 \r\nL 40.603125 683.123684 \r\nz\r\n\" style=\"fill:#80c161;\"/>\r\n   </g>\r\n   <g id=\"patch_136\">\r\n    <path clip-path=\"url(#p0822e8fe48)\" d=\"M 40.603125 711.734211 \r\nL 122.361367 711.734211 \r\nL 122.361367 718.886842 \r\nL 40.603125 718.886842 \r\nz\r\n\" style=\"fill:#80c161;\"/>\r\n   </g>\r\n   <g id=\"patch_137\">\r\n    <path clip-path=\"url(#p0822e8fe48)\" d=\"M 40.603125 747.497368 \r\nL 122.361367 747.497368 \r\nL 122.361367 754.65 \r\nL 40.603125 754.65 \r\nz\r\n\" style=\"fill:#80c161;\"/>\r\n   </g>\r\n   <g id=\"patch_138\">\r\n    <path clip-path=\"url(#p0822e8fe48)\" d=\"M 40.603125 783.260526 \r\nL 100.063664 783.260526 \r\nL 100.063664 790.413158 \r\nL 40.603125 790.413158 \r\nz\r\n\" style=\"fill:#80c161;\"/>\r\n   </g>\r\n   <g id=\"patch_139\">\r\n    <path clip-path=\"url(#p0822e8fe48)\" d=\"M 40.603125 819.023684 \r\nL 159.524204 819.023684 \r\nL 159.524204 826.176316 \r\nL 40.603125 826.176316 \r\nz\r\n\" style=\"fill:#80c161;\"/>\r\n   </g>\r\n   <g id=\"patch_140\">\r\n    <path clip-path=\"url(#p0822e8fe48)\" d=\"M 40.603125 854.786842 \r\nL 85.19853 854.786842 \r\nL 85.19853 861.939474 \r\nL 40.603125 861.939474 \r\nz\r\n\" style=\"fill:#80c161;\"/>\r\n   </g>\r\n   <g id=\"patch_141\">\r\n    <path clip-path=\"url(#p0822e8fe48)\" d=\"M 40.603125 890.55 \r\nL 129.793934 890.55 \r\nL 129.793934 897.702632 \r\nL 40.603125 897.702632 \r\nz\r\n\" style=\"fill:#80c161;\"/>\r\n   </g>\r\n   <g id=\"patch_142\">\r\n    <path clip-path=\"url(#p0822e8fe48)\" d=\"M 40.603125 926.313158 \r\nL 152.091636 926.313158 \r\nL 152.091636 933.465789 \r\nL 40.603125 933.465789 \r\nz\r\n\" style=\"fill:#80c161;\"/>\r\n   </g>\r\n   <g id=\"patch_143\">\r\n    <path clip-path=\"url(#p0822e8fe48)\" d=\"M 40.603125 962.076316 \r\nL 152.091636 962.076316 \r\nL 152.091636 969.228947 \r\nL 40.603125 969.228947 \r\nz\r\n\" style=\"fill:#80c161;\"/>\r\n   </g>\r\n   <g id=\"patch_144\">\r\n    <path clip-path=\"url(#p0822e8fe48)\" d=\"M 40.603125 997.839474 \r\nL 137.226502 997.839474 \r\nL 137.226502 1004.992105 \r\nL 40.603125 1004.992105 \r\nz\r\n\" style=\"fill:#80c161;\"/>\r\n   </g>\r\n   <g id=\"patch_145\">\r\n    <path clip-path=\"url(#p0822e8fe48)\" d=\"M 40.603125 1033.602632 \r\nL 114.928799 1033.602632 \r\nL 114.928799 1040.755263 \r\nL 40.603125 1040.755263 \r\nz\r\n\" style=\"fill:#80c161;\"/>\r\n   </g>\r\n   <g id=\"patch_146\">\r\n    <path clip-path=\"url(#p0822e8fe48)\" d=\"M 40.603125 1069.365789 \r\nL 114.928799 1069.365789 \r\nL 114.928799 1076.518421 \r\nL 40.603125 1076.518421 \r\nz\r\n\" style=\"fill:#80c161;\"/>\r\n   </g>\r\n   <g id=\"patch_147\">\r\n    <path clip-path=\"url(#p0822e8fe48)\" d=\"M 40.603125 1105.128947 \r\nL 189.254474 1105.128947 \r\nL 189.254474 1112.281579 \r\nL 40.603125 1112.281579 \r\nz\r\n\" style=\"fill:#80c161;\"/>\r\n   </g>\r\n   <g id=\"patch_148\">\r\n    <path clip-path=\"url(#p0822e8fe48)\" d=\"M 40.603125 1140.892105 \r\nL 181.821906 1140.892105 \r\nL 181.821906 1148.044737 \r\nL 40.603125 1148.044737 \r\nz\r\n\" style=\"fill:#80c161;\"/>\r\n   </g>\r\n   <g id=\"patch_149\">\r\n    <path clip-path=\"url(#p0822e8fe48)\" d=\"M 40.603125 1176.655263 \r\nL 122.361367 1176.655263 \r\nL 122.361367 1183.807895 \r\nL 40.603125 1183.807895 \r\nz\r\n\" style=\"fill:#80c161;\"/>\r\n   </g>\r\n   <g id=\"patch_150\">\r\n    <path clip-path=\"url(#p0822e8fe48)\" d=\"M 40.603125 1212.418421 \r\nL 100.063664 1212.418421 \r\nL 100.063664 1219.571053 \r\nL 40.603125 1219.571053 \r\nz\r\n\" style=\"fill:#80c161;\"/>\r\n   </g>\r\n   <g id=\"patch_151\">\r\n    <path clip-path=\"url(#p0822e8fe48)\" d=\"M 40.603125 1248.181579 \r\nL 152.091636 1248.181579 \r\nL 152.091636 1255.334211 \r\nL 40.603125 1255.334211 \r\nz\r\n\" style=\"fill:#80c161;\"/>\r\n   </g>\r\n   <g id=\"patch_152\">\r\n    <path clip-path=\"url(#p0822e8fe48)\" d=\"M 40.603125 1283.944737 \r\nL 92.631097 1283.944737 \r\nL 92.631097 1291.097368 \r\nL 40.603125 1291.097368 \r\nz\r\n\" style=\"fill:#80c161;\"/>\r\n   </g>\r\n   <g id=\"patch_153\">\r\n    <path clip-path=\"url(#p0822e8fe48)\" d=\"M 40.603125 1319.707895 \r\nL 77.765962 1319.707895 \r\nL 77.765962 1326.860526 \r\nL 40.603125 1326.860526 \r\nz\r\n\" style=\"fill:#80c161;\"/>\r\n   </g>\r\n   <g id=\"patch_154\">\r\n    <path clip-path=\"url(#p0822e8fe48)\" d=\"M 40.603125 1355.471053 \r\nL 77.765962 1355.471053 \r\nL 77.765962 1362.623684 \r\nL 40.603125 1362.623684 \r\nz\r\n\" style=\"fill:#80c161;\"/>\r\n   </g>\r\n   <g id=\"matplotlib.axis_1\">\r\n    <g id=\"xtick_1\">\r\n     <g id=\"line2d_1\">\r\n      <defs>\r\n       <path d=\"M 0 0 \r\nL 0 3.5 \r\n\" id=\"m765c906c6c\" style=\"stroke:#000000;stroke-width:0.8;\"/>\r\n      </defs>\r\n      <g>\r\n       <use style=\"stroke:#000000;stroke-width:0.8;\" x=\"40.603125\" xlink:href=\"#m765c906c6c\" y=\"1366.2\"/>\r\n      </g>\r\n     </g>\r\n     <g id=\"text_1\">\r\n      <!-- 0 -->\r\n      <g transform=\"translate(37.421875 1380.798437)scale(0.1 -0.1)\">\r\n       <defs>\r\n        <path d=\"M 31.78125 66.40625 \r\nQ 24.171875 66.40625 20.328125 58.90625 \r\nQ 16.5 51.421875 16.5 36.375 \r\nQ 16.5 21.390625 20.328125 13.890625 \r\nQ 24.171875 6.390625 31.78125 6.390625 \r\nQ 39.453125 6.390625 43.28125 13.890625 \r\nQ 47.125 21.390625 47.125 36.375 \r\nQ 47.125 51.421875 43.28125 58.90625 \r\nQ 39.453125 66.40625 31.78125 66.40625 \r\nz\r\nM 31.78125 74.21875 \r\nQ 44.046875 74.21875 50.515625 64.515625 \r\nQ 56.984375 54.828125 56.984375 36.375 \r\nQ 56.984375 17.96875 50.515625 8.265625 \r\nQ 44.046875 -1.421875 31.78125 -1.421875 \r\nQ 19.53125 -1.421875 13.0625 8.265625 \r\nQ 6.59375 17.96875 6.59375 36.375 \r\nQ 6.59375 54.828125 13.0625 64.515625 \r\nQ 19.53125 74.21875 31.78125 74.21875 \r\nz\r\n\" id=\"DejaVuSans-48\"/>\r\n       </defs>\r\n       <use xlink:href=\"#DejaVuSans-48\"/>\r\n      </g>\r\n     </g>\r\n    </g>\r\n    <g id=\"xtick_2\">\r\n     <g id=\"line2d_2\">\r\n      <g>\r\n       <use style=\"stroke:#000000;stroke-width:0.8;\" x=\"189.254474\" xlink:href=\"#m765c906c6c\" y=\"1366.2\"/>\r\n      </g>\r\n     </g>\r\n     <g id=\"text_2\">\r\n      <!-- 20 -->\r\n      <g transform=\"translate(182.891974 1380.798437)scale(0.1 -0.1)\">\r\n       <defs>\r\n        <path d=\"M 19.1875 8.296875 \r\nL 53.609375 8.296875 \r\nL 53.609375 0 \r\nL 7.328125 0 \r\nL 7.328125 8.296875 \r\nQ 12.9375 14.109375 22.625 23.890625 \r\nQ 32.328125 33.6875 34.8125 36.53125 \r\nQ 39.546875 41.84375 41.421875 45.53125 \r\nQ 43.3125 49.21875 43.3125 52.78125 \r\nQ 43.3125 58.59375 39.234375 62.25 \r\nQ 35.15625 65.921875 28.609375 65.921875 \r\nQ 23.96875 65.921875 18.8125 64.3125 \r\nQ 13.671875 62.703125 7.8125 59.421875 \r\nL 7.8125 69.390625 \r\nQ 13.765625 71.78125 18.9375 73 \r\nQ 24.125 74.21875 28.421875 74.21875 \r\nQ 39.75 74.21875 46.484375 68.546875 \r\nQ 53.21875 62.890625 53.21875 53.421875 \r\nQ 53.21875 48.921875 51.53125 44.890625 \r\nQ 49.859375 40.875 45.40625 35.40625 \r\nQ 44.1875 33.984375 37.640625 27.21875 \r\nQ 31.109375 20.453125 19.1875 8.296875 \r\nz\r\n\" id=\"DejaVuSans-50\"/>\r\n       </defs>\r\n       <use xlink:href=\"#DejaVuSans-50\"/>\r\n       <use x=\"63.623047\" xlink:href=\"#DejaVuSans-48\"/>\r\n      </g>\r\n     </g>\r\n    </g>\r\n    <g id=\"xtick_3\">\r\n     <g id=\"line2d_3\">\r\n      <g>\r\n       <use style=\"stroke:#000000;stroke-width:0.8;\" x=\"337.905822\" xlink:href=\"#m765c906c6c\" y=\"1366.2\"/>\r\n      </g>\r\n     </g>\r\n     <g id=\"text_3\">\r\n      <!-- 40 -->\r\n      <g transform=\"translate(331.543322 1380.798437)scale(0.1 -0.1)\">\r\n       <defs>\r\n        <path d=\"M 37.796875 64.3125 \r\nL 12.890625 25.390625 \r\nL 37.796875 25.390625 \r\nz\r\nM 35.203125 72.90625 \r\nL 47.609375 72.90625 \r\nL 47.609375 25.390625 \r\nL 58.015625 25.390625 \r\nL 58.015625 17.1875 \r\nL 47.609375 17.1875 \r\nL 47.609375 0 \r\nL 37.796875 0 \r\nL 37.796875 17.1875 \r\nL 4.890625 17.1875 \r\nL 4.890625 26.703125 \r\nz\r\n\" id=\"DejaVuSans-52\"/>\r\n       </defs>\r\n       <use xlink:href=\"#DejaVuSans-52\"/>\r\n       <use x=\"63.623047\" xlink:href=\"#DejaVuSans-48\"/>\r\n      </g>\r\n     </g>\r\n    </g>\r\n    <g id=\"xtick_4\">\r\n     <g id=\"line2d_4\">\r\n      <g>\r\n       <use style=\"stroke:#000000;stroke-width:0.8;\" x=\"486.557171\" xlink:href=\"#m765c906c6c\" y=\"1366.2\"/>\r\n      </g>\r\n     </g>\r\n     <g id=\"text_4\">\r\n      <!-- 60 -->\r\n      <g transform=\"translate(480.194671 1380.798437)scale(0.1 -0.1)\">\r\n       <defs>\r\n        <path d=\"M 33.015625 40.375 \r\nQ 26.375 40.375 22.484375 35.828125 \r\nQ 18.609375 31.296875 18.609375 23.390625 \r\nQ 18.609375 15.53125 22.484375 10.953125 \r\nQ 26.375 6.390625 33.015625 6.390625 \r\nQ 39.65625 6.390625 43.53125 10.953125 \r\nQ 47.40625 15.53125 47.40625 23.390625 \r\nQ 47.40625 31.296875 43.53125 35.828125 \r\nQ 39.65625 40.375 33.015625 40.375 \r\nz\r\nM 52.59375 71.296875 \r\nL 52.59375 62.3125 \r\nQ 48.875 64.0625 45.09375 64.984375 \r\nQ 41.3125 65.921875 37.59375 65.921875 \r\nQ 27.828125 65.921875 22.671875 59.328125 \r\nQ 17.53125 52.734375 16.796875 39.40625 \r\nQ 19.671875 43.65625 24.015625 45.921875 \r\nQ 28.375 48.1875 33.59375 48.1875 \r\nQ 44.578125 48.1875 50.953125 41.515625 \r\nQ 57.328125 34.859375 57.328125 23.390625 \r\nQ 57.328125 12.15625 50.6875 5.359375 \r\nQ 44.046875 -1.421875 33.015625 -1.421875 \r\nQ 20.359375 -1.421875 13.671875 8.265625 \r\nQ 6.984375 17.96875 6.984375 36.375 \r\nQ 6.984375 53.65625 15.1875 63.9375 \r\nQ 23.390625 74.21875 37.203125 74.21875 \r\nQ 40.921875 74.21875 44.703125 73.484375 \r\nQ 48.484375 72.75 52.59375 71.296875 \r\nz\r\n\" id=\"DejaVuSans-54\"/>\r\n       </defs>\r\n       <use xlink:href=\"#DejaVuSans-54\"/>\r\n       <use x=\"63.623047\" xlink:href=\"#DejaVuSans-48\"/>\r\n      </g>\r\n     </g>\r\n    </g>\r\n    <g id=\"xtick_5\">\r\n     <g id=\"line2d_5\">\r\n      <g>\r\n       <use style=\"stroke:#000000;stroke-width:0.8;\" x=\"635.20852\" xlink:href=\"#m765c906c6c\" y=\"1366.2\"/>\r\n      </g>\r\n     </g>\r\n     <g id=\"text_5\">\r\n      <!-- 80 -->\r\n      <g transform=\"translate(628.84602 1380.798437)scale(0.1 -0.1)\">\r\n       <defs>\r\n        <path d=\"M 31.78125 34.625 \r\nQ 24.75 34.625 20.71875 30.859375 \r\nQ 16.703125 27.09375 16.703125 20.515625 \r\nQ 16.703125 13.921875 20.71875 10.15625 \r\nQ 24.75 6.390625 31.78125 6.390625 \r\nQ 38.8125 6.390625 42.859375 10.171875 \r\nQ 46.921875 13.96875 46.921875 20.515625 \r\nQ 46.921875 27.09375 42.890625 30.859375 \r\nQ 38.875 34.625 31.78125 34.625 \r\nz\r\nM 21.921875 38.8125 \r\nQ 15.578125 40.375 12.03125 44.71875 \r\nQ 8.5 49.078125 8.5 55.328125 \r\nQ 8.5 64.0625 14.71875 69.140625 \r\nQ 20.953125 74.21875 31.78125 74.21875 \r\nQ 42.671875 74.21875 48.875 69.140625 \r\nQ 55.078125 64.0625 55.078125 55.328125 \r\nQ 55.078125 49.078125 51.53125 44.71875 \r\nQ 48 40.375 41.703125 38.8125 \r\nQ 48.828125 37.15625 52.796875 32.3125 \r\nQ 56.78125 27.484375 56.78125 20.515625 \r\nQ 56.78125 9.90625 50.3125 4.234375 \r\nQ 43.84375 -1.421875 31.78125 -1.421875 \r\nQ 19.734375 -1.421875 13.25 4.234375 \r\nQ 6.78125 9.90625 6.78125 20.515625 \r\nQ 6.78125 27.484375 10.78125 32.3125 \r\nQ 14.796875 37.15625 21.921875 38.8125 \r\nz\r\nM 18.3125 54.390625 \r\nQ 18.3125 48.734375 21.84375 45.5625 \r\nQ 25.390625 42.390625 31.78125 42.390625 \r\nQ 38.140625 42.390625 41.71875 45.5625 \r\nQ 45.3125 48.734375 45.3125 54.390625 \r\nQ 45.3125 60.0625 41.71875 63.234375 \r\nQ 38.140625 66.40625 31.78125 66.40625 \r\nQ 25.390625 66.40625 21.84375 63.234375 \r\nQ 18.3125 60.0625 18.3125 54.390625 \r\nz\r\n\" id=\"DejaVuSans-56\"/>\r\n       </defs>\r\n       <use xlink:href=\"#DejaVuSans-56\"/>\r\n       <use x=\"63.623047\" xlink:href=\"#DejaVuSans-48\"/>\r\n      </g>\r\n     </g>\r\n    </g>\r\n    <g id=\"xtick_6\">\r\n     <g id=\"line2d_6\">\r\n      <g>\r\n       <use style=\"stroke:#000000;stroke-width:0.8;\" x=\"783.859868\" xlink:href=\"#m765c906c6c\" y=\"1366.2\"/>\r\n      </g>\r\n     </g>\r\n     <g id=\"text_6\">\r\n      <!-- 100 -->\r\n      <g transform=\"translate(774.316118 1380.798437)scale(0.1 -0.1)\">\r\n       <defs>\r\n        <path d=\"M 12.40625 8.296875 \r\nL 28.515625 8.296875 \r\nL 28.515625 63.921875 \r\nL 10.984375 60.40625 \r\nL 10.984375 69.390625 \r\nL 28.421875 72.90625 \r\nL 38.28125 72.90625 \r\nL 38.28125 8.296875 \r\nL 54.390625 8.296875 \r\nL 54.390625 0 \r\nL 12.40625 0 \r\nz\r\n\" id=\"DejaVuSans-49\"/>\r\n       </defs>\r\n       <use xlink:href=\"#DejaVuSans-49\"/>\r\n       <use x=\"63.623047\" xlink:href=\"#DejaVuSans-48\"/>\r\n       <use x=\"127.246094\" xlink:href=\"#DejaVuSans-48\"/>\r\n      </g>\r\n     </g>\r\n    </g>\r\n    <g id=\"xtick_7\">\r\n     <g id=\"line2d_7\">\r\n      <g>\r\n       <use style=\"stroke:#000000;stroke-width:0.8;\" x=\"932.511217\" xlink:href=\"#m765c906c6c\" y=\"1366.2\"/>\r\n      </g>\r\n     </g>\r\n     <g id=\"text_7\">\r\n      <!-- 120 -->\r\n      <g transform=\"translate(922.967467 1380.798437)scale(0.1 -0.1)\">\r\n       <use xlink:href=\"#DejaVuSans-49\"/>\r\n       <use x=\"63.623047\" xlink:href=\"#DejaVuSans-50\"/>\r\n       <use x=\"127.246094\" xlink:href=\"#DejaVuSans-48\"/>\r\n      </g>\r\n     </g>\r\n    </g>\r\n    <g id=\"xtick_8\">\r\n     <g id=\"line2d_8\">\r\n      <g>\r\n       <use style=\"stroke:#000000;stroke-width:0.8;\" x=\"1081.162566\" xlink:href=\"#m765c906c6c\" y=\"1366.2\"/>\r\n      </g>\r\n     </g>\r\n     <g id=\"text_8\">\r\n      <!-- 140 -->\r\n      <g transform=\"translate(1071.618816 1380.798437)scale(0.1 -0.1)\">\r\n       <use xlink:href=\"#DejaVuSans-49\"/>\r\n       <use x=\"63.623047\" xlink:href=\"#DejaVuSans-52\"/>\r\n       <use x=\"127.246094\" xlink:href=\"#DejaVuSans-48\"/>\r\n      </g>\r\n     </g>\r\n    </g>\r\n    <g id=\"text_9\">\r\n     <!-- count -->\r\n     <g transform=\"translate(584.496875 1394.476562)scale(0.1 -0.1)\">\r\n      <defs>\r\n       <path d=\"M 48.78125 52.59375 \r\nL 48.78125 44.1875 \r\nQ 44.96875 46.296875 41.140625 47.34375 \r\nQ 37.3125 48.390625 33.40625 48.390625 \r\nQ 24.65625 48.390625 19.8125 42.84375 \r\nQ 14.984375 37.3125 14.984375 27.296875 \r\nQ 14.984375 17.28125 19.8125 11.734375 \r\nQ 24.65625 6.203125 33.40625 6.203125 \r\nQ 37.3125 6.203125 41.140625 7.25 \r\nQ 44.96875 8.296875 48.78125 10.40625 \r\nL 48.78125 2.09375 \r\nQ 45.015625 0.34375 40.984375 -0.53125 \r\nQ 36.96875 -1.421875 32.421875 -1.421875 \r\nQ 20.0625 -1.421875 12.78125 6.34375 \r\nQ 5.515625 14.109375 5.515625 27.296875 \r\nQ 5.515625 40.671875 12.859375 48.328125 \r\nQ 20.21875 56 33.015625 56 \r\nQ 37.15625 56 41.109375 55.140625 \r\nQ 45.0625 54.296875 48.78125 52.59375 \r\nz\r\n\" id=\"DejaVuSans-99\"/>\r\n       <path d=\"M 30.609375 48.390625 \r\nQ 23.390625 48.390625 19.1875 42.75 \r\nQ 14.984375 37.109375 14.984375 27.296875 \r\nQ 14.984375 17.484375 19.15625 11.84375 \r\nQ 23.34375 6.203125 30.609375 6.203125 \r\nQ 37.796875 6.203125 41.984375 11.859375 \r\nQ 46.1875 17.53125 46.1875 27.296875 \r\nQ 46.1875 37.015625 41.984375 42.703125 \r\nQ 37.796875 48.390625 30.609375 48.390625 \r\nz\r\nM 30.609375 56 \r\nQ 42.328125 56 49.015625 48.375 \r\nQ 55.71875 40.765625 55.71875 27.296875 \r\nQ 55.71875 13.875 49.015625 6.21875 \r\nQ 42.328125 -1.421875 30.609375 -1.421875 \r\nQ 18.84375 -1.421875 12.171875 6.21875 \r\nQ 5.515625 13.875 5.515625 27.296875 \r\nQ 5.515625 40.765625 12.171875 48.375 \r\nQ 18.84375 56 30.609375 56 \r\nz\r\n\" id=\"DejaVuSans-111\"/>\r\n       <path d=\"M 8.5 21.578125 \r\nL 8.5 54.6875 \r\nL 17.484375 54.6875 \r\nL 17.484375 21.921875 \r\nQ 17.484375 14.15625 20.5 10.265625 \r\nQ 23.53125 6.390625 29.59375 6.390625 \r\nQ 36.859375 6.390625 41.078125 11.03125 \r\nQ 45.3125 15.671875 45.3125 23.6875 \r\nL 45.3125 54.6875 \r\nL 54.296875 54.6875 \r\nL 54.296875 0 \r\nL 45.3125 0 \r\nL 45.3125 8.40625 \r\nQ 42.046875 3.421875 37.71875 1 \r\nQ 33.40625 -1.421875 27.6875 -1.421875 \r\nQ 18.265625 -1.421875 13.375 4.4375 \r\nQ 8.5 10.296875 8.5 21.578125 \r\nz\r\nM 31.109375 56 \r\nz\r\n\" id=\"DejaVuSans-117\"/>\r\n       <path d=\"M 54.890625 33.015625 \r\nL 54.890625 0 \r\nL 45.90625 0 \r\nL 45.90625 32.71875 \r\nQ 45.90625 40.484375 42.875 44.328125 \r\nQ 39.84375 48.1875 33.796875 48.1875 \r\nQ 26.515625 48.1875 22.3125 43.546875 \r\nQ 18.109375 38.921875 18.109375 30.90625 \r\nL 18.109375 0 \r\nL 9.078125 0 \r\nL 9.078125 54.6875 \r\nL 18.109375 54.6875 \r\nL 18.109375 46.1875 \r\nQ 21.34375 51.125 25.703125 53.5625 \r\nQ 30.078125 56 35.796875 56 \r\nQ 45.21875 56 50.046875 50.171875 \r\nQ 54.890625 44.34375 54.890625 33.015625 \r\nz\r\n\" id=\"DejaVuSans-110\"/>\r\n       <path d=\"M 18.3125 70.21875 \r\nL 18.3125 54.6875 \r\nL 36.8125 54.6875 \r\nL 36.8125 47.703125 \r\nL 18.3125 47.703125 \r\nL 18.3125 18.015625 \r\nQ 18.3125 11.328125 20.140625 9.421875 \r\nQ 21.96875 7.515625 27.59375 7.515625 \r\nL 36.8125 7.515625 \r\nL 36.8125 0 \r\nL 27.59375 0 \r\nQ 17.1875 0 13.234375 3.875 \r\nQ 9.28125 7.765625 9.28125 18.015625 \r\nL 9.28125 47.703125 \r\nL 2.6875 47.703125 \r\nL 2.6875 54.6875 \r\nL 9.28125 54.6875 \r\nL 9.28125 70.21875 \r\nz\r\n\" id=\"DejaVuSans-116\"/>\r\n      </defs>\r\n      <use xlink:href=\"#DejaVuSans-99\"/>\r\n      <use x=\"54.980469\" xlink:href=\"#DejaVuSans-111\"/>\r\n      <use x=\"116.162109\" xlink:href=\"#DejaVuSans-117\"/>\r\n      <use x=\"179.541016\" xlink:href=\"#DejaVuSans-110\"/>\r\n      <use x=\"242.919922\" xlink:href=\"#DejaVuSans-116\"/>\r\n     </g>\r\n    </g>\r\n   </g>\r\n   <g id=\"matplotlib.axis_2\">\r\n    <g id=\"ytick_1\">\r\n     <g id=\"line2d_9\">\r\n      <defs>\r\n       <path d=\"M 0 0 \r\nL -3.5 0 \r\n\" id=\"m5377686948\" style=\"stroke:#000000;stroke-width:0.8;\"/>\r\n      </defs>\r\n      <g>\r\n       <use style=\"stroke:#000000;stroke-width:0.8;\" x=\"40.603125\" xlink:href=\"#m5377686948\" y=\"25.081579\"/>\r\n      </g>\r\n     </g>\r\n     <g id=\"text_10\">\r\n      <!-- 1 -->\r\n      <g transform=\"translate(27.240625 28.880798)scale(0.1 -0.1)\">\r\n       <use xlink:href=\"#DejaVuSans-49\"/>\r\n      </g>\r\n     </g>\r\n    </g>\r\n    <g id=\"ytick_2\">\r\n     <g id=\"line2d_10\">\r\n      <g>\r\n       <use style=\"stroke:#000000;stroke-width:0.8;\" x=\"40.603125\" xlink:href=\"#m5377686948\" y=\"60.844737\"/>\r\n      </g>\r\n     </g>\r\n     <g id=\"text_11\">\r\n      <!-- 2 -->\r\n      <g transform=\"translate(27.240625 64.643956)scale(0.1 -0.1)\">\r\n       <use xlink:href=\"#DejaVuSans-50\"/>\r\n      </g>\r\n     </g>\r\n    </g>\r\n    <g id=\"ytick_3\">\r\n     <g id=\"line2d_11\">\r\n      <g>\r\n       <use style=\"stroke:#000000;stroke-width:0.8;\" x=\"40.603125\" xlink:href=\"#m5377686948\" y=\"96.607895\"/>\r\n      </g>\r\n     </g>\r\n     <g id=\"text_12\">\r\n      <!-- 4 -->\r\n      <g transform=\"translate(27.240625 100.407113)scale(0.1 -0.1)\">\r\n       <use xlink:href=\"#DejaVuSans-52\"/>\r\n      </g>\r\n     </g>\r\n    </g>\r\n    <g id=\"ytick_4\">\r\n     <g id=\"line2d_12\">\r\n      <g>\r\n       <use style=\"stroke:#000000;stroke-width:0.8;\" x=\"40.603125\" xlink:href=\"#m5377686948\" y=\"132.371053\"/>\r\n      </g>\r\n     </g>\r\n     <g id=\"text_13\">\r\n      <!-- 5 -->\r\n      <g transform=\"translate(27.240625 136.170271)scale(0.1 -0.1)\">\r\n       <defs>\r\n        <path d=\"M 10.796875 72.90625 \r\nL 49.515625 72.90625 \r\nL 49.515625 64.59375 \r\nL 19.828125 64.59375 \r\nL 19.828125 46.734375 \r\nQ 21.96875 47.46875 24.109375 47.828125 \r\nQ 26.265625 48.1875 28.421875 48.1875 \r\nQ 40.625 48.1875 47.75 41.5 \r\nQ 54.890625 34.8125 54.890625 23.390625 \r\nQ 54.890625 11.625 47.5625 5.09375 \r\nQ 40.234375 -1.421875 26.90625 -1.421875 \r\nQ 22.3125 -1.421875 17.546875 -0.640625 \r\nQ 12.796875 0.140625 7.71875 1.703125 \r\nL 7.71875 11.625 \r\nQ 12.109375 9.234375 16.796875 8.0625 \r\nQ 21.484375 6.890625 26.703125 6.890625 \r\nQ 35.15625 6.890625 40.078125 11.328125 \r\nQ 45.015625 15.765625 45.015625 23.390625 \r\nQ 45.015625 31 40.078125 35.4375 \r\nQ 35.15625 39.890625 26.703125 39.890625 \r\nQ 22.75 39.890625 18.8125 39.015625 \r\nQ 14.890625 38.140625 10.796875 36.28125 \r\nz\r\n\" id=\"DejaVuSans-53\"/>\r\n       </defs>\r\n       <use xlink:href=\"#DejaVuSans-53\"/>\r\n      </g>\r\n     </g>\r\n    </g>\r\n    <g id=\"ytick_5\">\r\n     <g id=\"line2d_13\">\r\n      <g>\r\n       <use style=\"stroke:#000000;stroke-width:0.8;\" x=\"40.603125\" xlink:href=\"#m5377686948\" y=\"168.134211\"/>\r\n      </g>\r\n     </g>\r\n     <g id=\"text_14\">\r\n      <!-- 8 -->\r\n      <g transform=\"translate(27.240625 171.933429)scale(0.1 -0.1)\">\r\n       <use xlink:href=\"#DejaVuSans-56\"/>\r\n      </g>\r\n     </g>\r\n    </g>\r\n    <g id=\"ytick_6\">\r\n     <g id=\"line2d_14\">\r\n      <g>\r\n       <use style=\"stroke:#000000;stroke-width:0.8;\" x=\"40.603125\" xlink:href=\"#m5377686948\" y=\"203.897368\"/>\r\n      </g>\r\n     </g>\r\n     <g id=\"text_15\">\r\n      <!-- 9 -->\r\n      <g transform=\"translate(27.240625 207.696587)scale(0.1 -0.1)\">\r\n       <defs>\r\n        <path d=\"M 10.984375 1.515625 \r\nL 10.984375 10.5 \r\nQ 14.703125 8.734375 18.5 7.8125 \r\nQ 22.3125 6.890625 25.984375 6.890625 \r\nQ 35.75 6.890625 40.890625 13.453125 \r\nQ 46.046875 20.015625 46.78125 33.40625 \r\nQ 43.953125 29.203125 39.59375 26.953125 \r\nQ 35.25 24.703125 29.984375 24.703125 \r\nQ 19.046875 24.703125 12.671875 31.3125 \r\nQ 6.296875 37.9375 6.296875 49.421875 \r\nQ 6.296875 60.640625 12.9375 67.421875 \r\nQ 19.578125 74.21875 30.609375 74.21875 \r\nQ 43.265625 74.21875 49.921875 64.515625 \r\nQ 56.59375 54.828125 56.59375 36.375 \r\nQ 56.59375 19.140625 48.40625 8.859375 \r\nQ 40.234375 -1.421875 26.421875 -1.421875 \r\nQ 22.703125 -1.421875 18.890625 -0.6875 \r\nQ 15.09375 0.046875 10.984375 1.515625 \r\nz\r\nM 30.609375 32.421875 \r\nQ 37.25 32.421875 41.125 36.953125 \r\nQ 45.015625 41.5 45.015625 49.421875 \r\nQ 45.015625 57.28125 41.125 61.84375 \r\nQ 37.25 66.40625 30.609375 66.40625 \r\nQ 23.96875 66.40625 20.09375 61.84375 \r\nQ 16.21875 57.28125 16.21875 49.421875 \r\nQ 16.21875 41.5 20.09375 36.953125 \r\nQ 23.96875 32.421875 30.609375 32.421875 \r\nz\r\n\" id=\"DejaVuSans-57\"/>\r\n       </defs>\r\n       <use xlink:href=\"#DejaVuSans-57\"/>\r\n      </g>\r\n     </g>\r\n    </g>\r\n    <g id=\"ytick_7\">\r\n     <g id=\"line2d_15\">\r\n      <g>\r\n       <use style=\"stroke:#000000;stroke-width:0.8;\" x=\"40.603125\" xlink:href=\"#m5377686948\" y=\"239.660526\"/>\r\n      </g>\r\n     </g>\r\n     <g id=\"text_16\">\r\n      <!-- 10 -->\r\n      <g transform=\"translate(20.878125 243.459745)scale(0.1 -0.1)\">\r\n       <use xlink:href=\"#DejaVuSans-49\"/>\r\n       <use x=\"63.623047\" xlink:href=\"#DejaVuSans-48\"/>\r\n      </g>\r\n     </g>\r\n    </g>\r\n    <g id=\"ytick_8\">\r\n     <g id=\"line2d_16\">\r\n      <g>\r\n       <use style=\"stroke:#000000;stroke-width:0.8;\" x=\"40.603125\" xlink:href=\"#m5377686948\" y=\"275.423684\"/>\r\n      </g>\r\n     </g>\r\n     <g id=\"text_17\">\r\n      <!-- 11 -->\r\n      <g transform=\"translate(20.878125 279.222903)scale(0.1 -0.1)\">\r\n       <use xlink:href=\"#DejaVuSans-49\"/>\r\n       <use x=\"63.623047\" xlink:href=\"#DejaVuSans-49\"/>\r\n      </g>\r\n     </g>\r\n    </g>\r\n    <g id=\"ytick_9\">\r\n     <g id=\"line2d_17\">\r\n      <g>\r\n       <use style=\"stroke:#000000;stroke-width:0.8;\" x=\"40.603125\" xlink:href=\"#m5377686948\" y=\"311.186842\"/>\r\n      </g>\r\n     </g>\r\n     <g id=\"text_18\">\r\n      <!-- 12 -->\r\n      <g transform=\"translate(20.878125 314.986061)scale(0.1 -0.1)\">\r\n       <use xlink:href=\"#DejaVuSans-49\"/>\r\n       <use x=\"63.623047\" xlink:href=\"#DejaVuSans-50\"/>\r\n      </g>\r\n     </g>\r\n    </g>\r\n    <g id=\"ytick_10\">\r\n     <g id=\"line2d_18\">\r\n      <g>\r\n       <use style=\"stroke:#000000;stroke-width:0.8;\" x=\"40.603125\" xlink:href=\"#m5377686948\" y=\"346.95\"/>\r\n      </g>\r\n     </g>\r\n     <g id=\"text_19\">\r\n      <!-- 13 -->\r\n      <g transform=\"translate(20.878125 350.749219)scale(0.1 -0.1)\">\r\n       <defs>\r\n        <path d=\"M 40.578125 39.3125 \r\nQ 47.65625 37.796875 51.625 33 \r\nQ 55.609375 28.21875 55.609375 21.1875 \r\nQ 55.609375 10.40625 48.1875 4.484375 \r\nQ 40.765625 -1.421875 27.09375 -1.421875 \r\nQ 22.515625 -1.421875 17.65625 -0.515625 \r\nQ 12.796875 0.390625 7.625 2.203125 \r\nL 7.625 11.71875 \r\nQ 11.71875 9.328125 16.59375 8.109375 \r\nQ 21.484375 6.890625 26.8125 6.890625 \r\nQ 36.078125 6.890625 40.9375 10.546875 \r\nQ 45.796875 14.203125 45.796875 21.1875 \r\nQ 45.796875 27.640625 41.28125 31.265625 \r\nQ 36.765625 34.90625 28.71875 34.90625 \r\nL 20.21875 34.90625 \r\nL 20.21875 43.015625 \r\nL 29.109375 43.015625 \r\nQ 36.375 43.015625 40.234375 45.921875 \r\nQ 44.09375 48.828125 44.09375 54.296875 \r\nQ 44.09375 59.90625 40.109375 62.90625 \r\nQ 36.140625 65.921875 28.71875 65.921875 \r\nQ 24.65625 65.921875 20.015625 65.03125 \r\nQ 15.375 64.15625 9.8125 62.3125 \r\nL 9.8125 71.09375 \r\nQ 15.4375 72.65625 20.34375 73.4375 \r\nQ 25.25 74.21875 29.59375 74.21875 \r\nQ 40.828125 74.21875 47.359375 69.109375 \r\nQ 53.90625 64.015625 53.90625 55.328125 \r\nQ 53.90625 49.265625 50.4375 45.09375 \r\nQ 46.96875 40.921875 40.578125 39.3125 \r\nz\r\n\" id=\"DejaVuSans-51\"/>\r\n       </defs>\r\n       <use xlink:href=\"#DejaVuSans-49\"/>\r\n       <use x=\"63.623047\" xlink:href=\"#DejaVuSans-51\"/>\r\n      </g>\r\n     </g>\r\n    </g>\r\n    <g id=\"ytick_11\">\r\n     <g id=\"line2d_19\">\r\n      <g>\r\n       <use style=\"stroke:#000000;stroke-width:0.8;\" x=\"40.603125\" xlink:href=\"#m5377686948\" y=\"382.713158\"/>\r\n      </g>\r\n     </g>\r\n     <g id=\"text_20\">\r\n      <!-- 14 -->\r\n      <g transform=\"translate(20.878125 386.512377)scale(0.1 -0.1)\">\r\n       <use xlink:href=\"#DejaVuSans-49\"/>\r\n       <use x=\"63.623047\" xlink:href=\"#DejaVuSans-52\"/>\r\n      </g>\r\n     </g>\r\n    </g>\r\n    <g id=\"ytick_12\">\r\n     <g id=\"line2d_20\">\r\n      <g>\r\n       <use style=\"stroke:#000000;stroke-width:0.8;\" x=\"40.603125\" xlink:href=\"#m5377686948\" y=\"418.476316\"/>\r\n      </g>\r\n     </g>\r\n     <g id=\"text_21\">\r\n      <!-- 15 -->\r\n      <g transform=\"translate(20.878125 422.275535)scale(0.1 -0.1)\">\r\n       <use xlink:href=\"#DejaVuSans-49\"/>\r\n       <use x=\"63.623047\" xlink:href=\"#DejaVuSans-53\"/>\r\n      </g>\r\n     </g>\r\n    </g>\r\n    <g id=\"ytick_13\">\r\n     <g id=\"line2d_21\">\r\n      <g>\r\n       <use style=\"stroke:#000000;stroke-width:0.8;\" x=\"40.603125\" xlink:href=\"#m5377686948\" y=\"454.239474\"/>\r\n      </g>\r\n     </g>\r\n     <g id=\"text_22\">\r\n      <!-- 16 -->\r\n      <g transform=\"translate(20.878125 458.038692)scale(0.1 -0.1)\">\r\n       <use xlink:href=\"#DejaVuSans-49\"/>\r\n       <use x=\"63.623047\" xlink:href=\"#DejaVuSans-54\"/>\r\n      </g>\r\n     </g>\r\n    </g>\r\n    <g id=\"ytick_14\">\r\n     <g id=\"line2d_22\">\r\n      <g>\r\n       <use style=\"stroke:#000000;stroke-width:0.8;\" x=\"40.603125\" xlink:href=\"#m5377686948\" y=\"490.002632\"/>\r\n      </g>\r\n     </g>\r\n     <g id=\"text_23\">\r\n      <!-- 17 -->\r\n      <g transform=\"translate(20.878125 493.80185)scale(0.1 -0.1)\">\r\n       <defs>\r\n        <path d=\"M 8.203125 72.90625 \r\nL 55.078125 72.90625 \r\nL 55.078125 68.703125 \r\nL 28.609375 0 \r\nL 18.3125 0 \r\nL 43.21875 64.59375 \r\nL 8.203125 64.59375 \r\nz\r\n\" id=\"DejaVuSans-55\"/>\r\n       </defs>\r\n       <use xlink:href=\"#DejaVuSans-49\"/>\r\n       <use x=\"63.623047\" xlink:href=\"#DejaVuSans-55\"/>\r\n      </g>\r\n     </g>\r\n    </g>\r\n    <g id=\"ytick_15\">\r\n     <g id=\"line2d_23\">\r\n      <g>\r\n       <use style=\"stroke:#000000;stroke-width:0.8;\" x=\"40.603125\" xlink:href=\"#m5377686948\" y=\"525.765789\"/>\r\n      </g>\r\n     </g>\r\n     <g id=\"text_24\">\r\n      <!-- 18 -->\r\n      <g transform=\"translate(20.878125 529.565008)scale(0.1 -0.1)\">\r\n       <use xlink:href=\"#DejaVuSans-49\"/>\r\n       <use x=\"63.623047\" xlink:href=\"#DejaVuSans-56\"/>\r\n      </g>\r\n     </g>\r\n    </g>\r\n    <g id=\"ytick_16\">\r\n     <g id=\"line2d_24\">\r\n      <g>\r\n       <use style=\"stroke:#000000;stroke-width:0.8;\" x=\"40.603125\" xlink:href=\"#m5377686948\" y=\"561.528947\"/>\r\n      </g>\r\n     </g>\r\n     <g id=\"text_25\">\r\n      <!-- 19 -->\r\n      <g transform=\"translate(20.878125 565.328166)scale(0.1 -0.1)\">\r\n       <use xlink:href=\"#DejaVuSans-49\"/>\r\n       <use x=\"63.623047\" xlink:href=\"#DejaVuSans-57\"/>\r\n      </g>\r\n     </g>\r\n    </g>\r\n    <g id=\"ytick_17\">\r\n     <g id=\"line2d_25\">\r\n      <g>\r\n       <use style=\"stroke:#000000;stroke-width:0.8;\" x=\"40.603125\" xlink:href=\"#m5377686948\" y=\"597.292105\"/>\r\n      </g>\r\n     </g>\r\n     <g id=\"text_26\">\r\n      <!-- 20 -->\r\n      <g transform=\"translate(20.878125 601.091324)scale(0.1 -0.1)\">\r\n       <use xlink:href=\"#DejaVuSans-50\"/>\r\n       <use x=\"63.623047\" xlink:href=\"#DejaVuSans-48\"/>\r\n      </g>\r\n     </g>\r\n    </g>\r\n    <g id=\"ytick_18\">\r\n     <g id=\"line2d_26\">\r\n      <g>\r\n       <use style=\"stroke:#000000;stroke-width:0.8;\" x=\"40.603125\" xlink:href=\"#m5377686948\" y=\"633.055263\"/>\r\n      </g>\r\n     </g>\r\n     <g id=\"text_27\">\r\n      <!-- 21 -->\r\n      <g transform=\"translate(20.878125 636.854482)scale(0.1 -0.1)\">\r\n       <use xlink:href=\"#DejaVuSans-50\"/>\r\n       <use x=\"63.623047\" xlink:href=\"#DejaVuSans-49\"/>\r\n      </g>\r\n     </g>\r\n    </g>\r\n    <g id=\"ytick_19\">\r\n     <g id=\"line2d_27\">\r\n      <g>\r\n       <use style=\"stroke:#000000;stroke-width:0.8;\" x=\"40.603125\" xlink:href=\"#m5377686948\" y=\"668.818421\"/>\r\n      </g>\r\n     </g>\r\n     <g id=\"text_28\">\r\n      <!-- 22 -->\r\n      <g transform=\"translate(20.878125 672.61764)scale(0.1 -0.1)\">\r\n       <use xlink:href=\"#DejaVuSans-50\"/>\r\n       <use x=\"63.623047\" xlink:href=\"#DejaVuSans-50\"/>\r\n      </g>\r\n     </g>\r\n    </g>\r\n    <g id=\"ytick_20\">\r\n     <g id=\"line2d_28\">\r\n      <g>\r\n       <use style=\"stroke:#000000;stroke-width:0.8;\" x=\"40.603125\" xlink:href=\"#m5377686948\" y=\"704.581579\"/>\r\n      </g>\r\n     </g>\r\n     <g id=\"text_29\">\r\n      <!-- 23 -->\r\n      <g transform=\"translate(20.878125 708.380798)scale(0.1 -0.1)\">\r\n       <use xlink:href=\"#DejaVuSans-50\"/>\r\n       <use x=\"63.623047\" xlink:href=\"#DejaVuSans-51\"/>\r\n      </g>\r\n     </g>\r\n    </g>\r\n    <g id=\"ytick_21\">\r\n     <g id=\"line2d_29\">\r\n      <g>\r\n       <use style=\"stroke:#000000;stroke-width:0.8;\" x=\"40.603125\" xlink:href=\"#m5377686948\" y=\"740.344737\"/>\r\n      </g>\r\n     </g>\r\n     <g id=\"text_30\">\r\n      <!-- 24 -->\r\n      <g transform=\"translate(20.878125 744.143956)scale(0.1 -0.1)\">\r\n       <use xlink:href=\"#DejaVuSans-50\"/>\r\n       <use x=\"63.623047\" xlink:href=\"#DejaVuSans-52\"/>\r\n      </g>\r\n     </g>\r\n    </g>\r\n    <g id=\"ytick_22\">\r\n     <g id=\"line2d_30\">\r\n      <g>\r\n       <use style=\"stroke:#000000;stroke-width:0.8;\" x=\"40.603125\" xlink:href=\"#m5377686948\" y=\"776.107895\"/>\r\n      </g>\r\n     </g>\r\n     <g id=\"text_31\">\r\n      <!-- 25 -->\r\n      <g transform=\"translate(20.878125 779.907113)scale(0.1 -0.1)\">\r\n       <use xlink:href=\"#DejaVuSans-50\"/>\r\n       <use x=\"63.623047\" xlink:href=\"#DejaVuSans-53\"/>\r\n      </g>\r\n     </g>\r\n    </g>\r\n    <g id=\"ytick_23\">\r\n     <g id=\"line2d_31\">\r\n      <g>\r\n       <use style=\"stroke:#000000;stroke-width:0.8;\" x=\"40.603125\" xlink:href=\"#m5377686948\" y=\"811.871053\"/>\r\n      </g>\r\n     </g>\r\n     <g id=\"text_32\">\r\n      <!-- 26 -->\r\n      <g transform=\"translate(20.878125 815.670271)scale(0.1 -0.1)\">\r\n       <use xlink:href=\"#DejaVuSans-50\"/>\r\n       <use x=\"63.623047\" xlink:href=\"#DejaVuSans-54\"/>\r\n      </g>\r\n     </g>\r\n    </g>\r\n    <g id=\"ytick_24\">\r\n     <g id=\"line2d_32\">\r\n      <g>\r\n       <use style=\"stroke:#000000;stroke-width:0.8;\" x=\"40.603125\" xlink:href=\"#m5377686948\" y=\"847.634211\"/>\r\n      </g>\r\n     </g>\r\n     <g id=\"text_33\">\r\n      <!-- 27 -->\r\n      <g transform=\"translate(20.878125 851.433429)scale(0.1 -0.1)\">\r\n       <use xlink:href=\"#DejaVuSans-50\"/>\r\n       <use x=\"63.623047\" xlink:href=\"#DejaVuSans-55\"/>\r\n      </g>\r\n     </g>\r\n    </g>\r\n    <g id=\"ytick_25\">\r\n     <g id=\"line2d_33\">\r\n      <g>\r\n       <use style=\"stroke:#000000;stroke-width:0.8;\" x=\"40.603125\" xlink:href=\"#m5377686948\" y=\"883.397368\"/>\r\n      </g>\r\n     </g>\r\n     <g id=\"text_34\">\r\n      <!-- 28 -->\r\n      <g transform=\"translate(20.878125 887.196587)scale(0.1 -0.1)\">\r\n       <use xlink:href=\"#DejaVuSans-50\"/>\r\n       <use x=\"63.623047\" xlink:href=\"#DejaVuSans-56\"/>\r\n      </g>\r\n     </g>\r\n    </g>\r\n    <g id=\"ytick_26\">\r\n     <g id=\"line2d_34\">\r\n      <g>\r\n       <use style=\"stroke:#000000;stroke-width:0.8;\" x=\"40.603125\" xlink:href=\"#m5377686948\" y=\"919.160526\"/>\r\n      </g>\r\n     </g>\r\n     <g id=\"text_35\">\r\n      <!-- 29 -->\r\n      <g transform=\"translate(20.878125 922.959745)scale(0.1 -0.1)\">\r\n       <use xlink:href=\"#DejaVuSans-50\"/>\r\n       <use x=\"63.623047\" xlink:href=\"#DejaVuSans-57\"/>\r\n      </g>\r\n     </g>\r\n    </g>\r\n    <g id=\"ytick_27\">\r\n     <g id=\"line2d_35\">\r\n      <g>\r\n       <use style=\"stroke:#000000;stroke-width:0.8;\" x=\"40.603125\" xlink:href=\"#m5377686948\" y=\"954.923684\"/>\r\n      </g>\r\n     </g>\r\n     <g id=\"text_36\">\r\n      <!-- 30 -->\r\n      <g transform=\"translate(20.878125 958.722903)scale(0.1 -0.1)\">\r\n       <use xlink:href=\"#DejaVuSans-51\"/>\r\n       <use x=\"63.623047\" xlink:href=\"#DejaVuSans-48\"/>\r\n      </g>\r\n     </g>\r\n    </g>\r\n    <g id=\"ytick_28\">\r\n     <g id=\"line2d_36\">\r\n      <g>\r\n       <use style=\"stroke:#000000;stroke-width:0.8;\" x=\"40.603125\" xlink:href=\"#m5377686948\" y=\"990.686842\"/>\r\n      </g>\r\n     </g>\r\n     <g id=\"text_37\">\r\n      <!-- 31 -->\r\n      <g transform=\"translate(20.878125 994.486061)scale(0.1 -0.1)\">\r\n       <use xlink:href=\"#DejaVuSans-51\"/>\r\n       <use x=\"63.623047\" xlink:href=\"#DejaVuSans-49\"/>\r\n      </g>\r\n     </g>\r\n    </g>\r\n    <g id=\"ytick_29\">\r\n     <g id=\"line2d_37\">\r\n      <g>\r\n       <use style=\"stroke:#000000;stroke-width:0.8;\" x=\"40.603125\" xlink:href=\"#m5377686948\" y=\"1026.45\"/>\r\n      </g>\r\n     </g>\r\n     <g id=\"text_38\">\r\n      <!-- 32 -->\r\n      <g transform=\"translate(20.878125 1030.249219)scale(0.1 -0.1)\">\r\n       <use xlink:href=\"#DejaVuSans-51\"/>\r\n       <use x=\"63.623047\" xlink:href=\"#DejaVuSans-50\"/>\r\n      </g>\r\n     </g>\r\n    </g>\r\n    <g id=\"ytick_30\">\r\n     <g id=\"line2d_38\">\r\n      <g>\r\n       <use style=\"stroke:#000000;stroke-width:0.8;\" x=\"40.603125\" xlink:href=\"#m5377686948\" y=\"1062.213158\"/>\r\n      </g>\r\n     </g>\r\n     <g id=\"text_39\">\r\n      <!-- 34 -->\r\n      <g transform=\"translate(20.878125 1066.012377)scale(0.1 -0.1)\">\r\n       <use xlink:href=\"#DejaVuSans-51\"/>\r\n       <use x=\"63.623047\" xlink:href=\"#DejaVuSans-52\"/>\r\n      </g>\r\n     </g>\r\n    </g>\r\n    <g id=\"ytick_31\">\r\n     <g id=\"line2d_39\">\r\n      <g>\r\n       <use style=\"stroke:#000000;stroke-width:0.8;\" x=\"40.603125\" xlink:href=\"#m5377686948\" y=\"1097.976316\"/>\r\n      </g>\r\n     </g>\r\n     <g id=\"text_40\">\r\n      <!-- 35 -->\r\n      <g transform=\"translate(20.878125 1101.775535)scale(0.1 -0.1)\">\r\n       <use xlink:href=\"#DejaVuSans-51\"/>\r\n       <use x=\"63.623047\" xlink:href=\"#DejaVuSans-53\"/>\r\n      </g>\r\n     </g>\r\n    </g>\r\n    <g id=\"ytick_32\">\r\n     <g id=\"line2d_40\">\r\n      <g>\r\n       <use style=\"stroke:#000000;stroke-width:0.8;\" x=\"40.603125\" xlink:href=\"#m5377686948\" y=\"1133.739474\"/>\r\n      </g>\r\n     </g>\r\n     <g id=\"text_41\">\r\n      <!-- 36 -->\r\n      <g transform=\"translate(20.878125 1137.538692)scale(0.1 -0.1)\">\r\n       <use xlink:href=\"#DejaVuSans-51\"/>\r\n       <use x=\"63.623047\" xlink:href=\"#DejaVuSans-54\"/>\r\n      </g>\r\n     </g>\r\n    </g>\r\n    <g id=\"ytick_33\">\r\n     <g id=\"line2d_41\">\r\n      <g>\r\n       <use style=\"stroke:#000000;stroke-width:0.8;\" x=\"40.603125\" xlink:href=\"#m5377686948\" y=\"1169.502632\"/>\r\n      </g>\r\n     </g>\r\n     <g id=\"text_42\">\r\n      <!-- 37 -->\r\n      <g transform=\"translate(20.878125 1173.30185)scale(0.1 -0.1)\">\r\n       <use xlink:href=\"#DejaVuSans-51\"/>\r\n       <use x=\"63.623047\" xlink:href=\"#DejaVuSans-55\"/>\r\n      </g>\r\n     </g>\r\n    </g>\r\n    <g id=\"ytick_34\">\r\n     <g id=\"line2d_42\">\r\n      <g>\r\n       <use style=\"stroke:#000000;stroke-width:0.8;\" x=\"40.603125\" xlink:href=\"#m5377686948\" y=\"1205.265789\"/>\r\n      </g>\r\n     </g>\r\n     <g id=\"text_43\">\r\n      <!-- 38 -->\r\n      <g transform=\"translate(20.878125 1209.065008)scale(0.1 -0.1)\">\r\n       <use xlink:href=\"#DejaVuSans-51\"/>\r\n       <use x=\"63.623047\" xlink:href=\"#DejaVuSans-56\"/>\r\n      </g>\r\n     </g>\r\n    </g>\r\n    <g id=\"ytick_35\">\r\n     <g id=\"line2d_43\">\r\n      <g>\r\n       <use style=\"stroke:#000000;stroke-width:0.8;\" x=\"40.603125\" xlink:href=\"#m5377686948\" y=\"1241.028947\"/>\r\n      </g>\r\n     </g>\r\n     <g id=\"text_44\">\r\n      <!-- 39 -->\r\n      <g transform=\"translate(20.878125 1244.828166)scale(0.1 -0.1)\">\r\n       <use xlink:href=\"#DejaVuSans-51\"/>\r\n       <use x=\"63.623047\" xlink:href=\"#DejaVuSans-57\"/>\r\n      </g>\r\n     </g>\r\n    </g>\r\n    <g id=\"ytick_36\">\r\n     <g id=\"line2d_44\">\r\n      <g>\r\n       <use style=\"stroke:#000000;stroke-width:0.8;\" x=\"40.603125\" xlink:href=\"#m5377686948\" y=\"1276.792105\"/>\r\n      </g>\r\n     </g>\r\n     <g id=\"text_45\">\r\n      <!-- 40 -->\r\n      <g transform=\"translate(20.878125 1280.591324)scale(0.1 -0.1)\">\r\n       <use xlink:href=\"#DejaVuSans-52\"/>\r\n       <use x=\"63.623047\" xlink:href=\"#DejaVuSans-48\"/>\r\n      </g>\r\n     </g>\r\n    </g>\r\n    <g id=\"ytick_37\">\r\n     <g id=\"line2d_45\">\r\n      <g>\r\n       <use style=\"stroke:#000000;stroke-width:0.8;\" x=\"40.603125\" xlink:href=\"#m5377686948\" y=\"1312.555263\"/>\r\n      </g>\r\n     </g>\r\n     <g id=\"text_46\">\r\n      <!-- 41 -->\r\n      <g transform=\"translate(20.878125 1316.354482)scale(0.1 -0.1)\">\r\n       <use xlink:href=\"#DejaVuSans-52\"/>\r\n       <use x=\"63.623047\" xlink:href=\"#DejaVuSans-49\"/>\r\n      </g>\r\n     </g>\r\n    </g>\r\n    <g id=\"ytick_38\">\r\n     <g id=\"line2d_46\">\r\n      <g>\r\n       <use style=\"stroke:#000000;stroke-width:0.8;\" x=\"40.603125\" xlink:href=\"#m5377686948\" y=\"1348.318421\"/>\r\n      </g>\r\n     </g>\r\n     <g id=\"text_47\">\r\n      <!-- 42 -->\r\n      <g transform=\"translate(20.878125 1352.11764)scale(0.1 -0.1)\">\r\n       <use xlink:href=\"#DejaVuSans-52\"/>\r\n       <use x=\"63.623047\" xlink:href=\"#DejaVuSans-50\"/>\r\n      </g>\r\n     </g>\r\n    </g>\r\n    <g id=\"text_48\">\r\n     <!-- FireStation -->\r\n     <g transform=\"translate(14.798438 713.397656)rotate(-90)scale(0.1 -0.1)\">\r\n      <defs>\r\n       <path d=\"M 9.8125 72.90625 \r\nL 51.703125 72.90625 \r\nL 51.703125 64.59375 \r\nL 19.671875 64.59375 \r\nL 19.671875 43.109375 \r\nL 48.578125 43.109375 \r\nL 48.578125 34.8125 \r\nL 19.671875 34.8125 \r\nL 19.671875 0 \r\nL 9.8125 0 \r\nz\r\n\" id=\"DejaVuSans-70\"/>\r\n       <path d=\"M 9.421875 54.6875 \r\nL 18.40625 54.6875 \r\nL 18.40625 0 \r\nL 9.421875 0 \r\nz\r\nM 9.421875 75.984375 \r\nL 18.40625 75.984375 \r\nL 18.40625 64.59375 \r\nL 9.421875 64.59375 \r\nz\r\n\" id=\"DejaVuSans-105\"/>\r\n       <path d=\"M 41.109375 46.296875 \r\nQ 39.59375 47.171875 37.8125 47.578125 \r\nQ 36.03125 48 33.890625 48 \r\nQ 26.265625 48 22.1875 43.046875 \r\nQ 18.109375 38.09375 18.109375 28.8125 \r\nL 18.109375 0 \r\nL 9.078125 0 \r\nL 9.078125 54.6875 \r\nL 18.109375 54.6875 \r\nL 18.109375 46.1875 \r\nQ 20.953125 51.171875 25.484375 53.578125 \r\nQ 30.03125 56 36.53125 56 \r\nQ 37.453125 56 38.578125 55.875 \r\nQ 39.703125 55.765625 41.0625 55.515625 \r\nz\r\n\" id=\"DejaVuSans-114\"/>\r\n       <path d=\"M 56.203125 29.59375 \r\nL 56.203125 25.203125 \r\nL 14.890625 25.203125 \r\nQ 15.484375 15.921875 20.484375 11.0625 \r\nQ 25.484375 6.203125 34.421875 6.203125 \r\nQ 39.59375 6.203125 44.453125 7.46875 \r\nQ 49.3125 8.734375 54.109375 11.28125 \r\nL 54.109375 2.78125 \r\nQ 49.265625 0.734375 44.1875 -0.34375 \r\nQ 39.109375 -1.421875 33.890625 -1.421875 \r\nQ 20.796875 -1.421875 13.15625 6.1875 \r\nQ 5.515625 13.8125 5.515625 26.8125 \r\nQ 5.515625 40.234375 12.765625 48.109375 \r\nQ 20.015625 56 32.328125 56 \r\nQ 43.359375 56 49.78125 48.890625 \r\nQ 56.203125 41.796875 56.203125 29.59375 \r\nz\r\nM 47.21875 32.234375 \r\nQ 47.125 39.59375 43.09375 43.984375 \r\nQ 39.0625 48.390625 32.421875 48.390625 \r\nQ 24.90625 48.390625 20.390625 44.140625 \r\nQ 15.875 39.890625 15.1875 32.171875 \r\nz\r\n\" id=\"DejaVuSans-101\"/>\r\n       <path d=\"M 53.515625 70.515625 \r\nL 53.515625 60.890625 \r\nQ 47.90625 63.578125 42.921875 64.890625 \r\nQ 37.9375 66.21875 33.296875 66.21875 \r\nQ 25.25 66.21875 20.875 63.09375 \r\nQ 16.5 59.96875 16.5 54.203125 \r\nQ 16.5 49.359375 19.40625 46.890625 \r\nQ 22.3125 44.4375 30.421875 42.921875 \r\nL 36.375 41.703125 \r\nQ 47.40625 39.59375 52.65625 34.296875 \r\nQ 57.90625 29 57.90625 20.125 \r\nQ 57.90625 9.515625 50.796875 4.046875 \r\nQ 43.703125 -1.421875 29.984375 -1.421875 \r\nQ 24.8125 -1.421875 18.96875 -0.25 \r\nQ 13.140625 0.921875 6.890625 3.21875 \r\nL 6.890625 13.375 \r\nQ 12.890625 10.015625 18.65625 8.296875 \r\nQ 24.421875 6.59375 29.984375 6.59375 \r\nQ 38.421875 6.59375 43.015625 9.90625 \r\nQ 47.609375 13.234375 47.609375 19.390625 \r\nQ 47.609375 24.75 44.3125 27.78125 \r\nQ 41.015625 30.8125 33.5 32.328125 \r\nL 27.484375 33.5 \r\nQ 16.453125 35.6875 11.515625 40.375 \r\nQ 6.59375 45.0625 6.59375 53.421875 \r\nQ 6.59375 63.09375 13.40625 68.65625 \r\nQ 20.21875 74.21875 32.171875 74.21875 \r\nQ 37.3125 74.21875 42.625 73.28125 \r\nQ 47.953125 72.359375 53.515625 70.515625 \r\nz\r\n\" id=\"DejaVuSans-83\"/>\r\n       <path d=\"M 34.28125 27.484375 \r\nQ 23.390625 27.484375 19.1875 25 \r\nQ 14.984375 22.515625 14.984375 16.5 \r\nQ 14.984375 11.71875 18.140625 8.90625 \r\nQ 21.296875 6.109375 26.703125 6.109375 \r\nQ 34.1875 6.109375 38.703125 11.40625 \r\nQ 43.21875 16.703125 43.21875 25.484375 \r\nL 43.21875 27.484375 \r\nz\r\nM 52.203125 31.203125 \r\nL 52.203125 0 \r\nL 43.21875 0 \r\nL 43.21875 8.296875 \r\nQ 40.140625 3.328125 35.546875 0.953125 \r\nQ 30.953125 -1.421875 24.3125 -1.421875 \r\nQ 15.921875 -1.421875 10.953125 3.296875 \r\nQ 6 8.015625 6 15.921875 \r\nQ 6 25.140625 12.171875 29.828125 \r\nQ 18.359375 34.515625 30.609375 34.515625 \r\nL 43.21875 34.515625 \r\nL 43.21875 35.40625 \r\nQ 43.21875 41.609375 39.140625 45 \r\nQ 35.0625 48.390625 27.6875 48.390625 \r\nQ 23 48.390625 18.546875 47.265625 \r\nQ 14.109375 46.140625 10.015625 43.890625 \r\nL 10.015625 52.203125 \r\nQ 14.9375 54.109375 19.578125 55.046875 \r\nQ 24.21875 56 28.609375 56 \r\nQ 40.484375 56 46.34375 49.84375 \r\nQ 52.203125 43.703125 52.203125 31.203125 \r\nz\r\n\" id=\"DejaVuSans-97\"/>\r\n      </defs>\r\n      <use xlink:href=\"#DejaVuSans-70\"/>\r\n      <use x=\"50.269531\" xlink:href=\"#DejaVuSans-105\"/>\r\n      <use x=\"78.052734\" xlink:href=\"#DejaVuSans-114\"/>\r\n      <use x=\"116.916016\" xlink:href=\"#DejaVuSans-101\"/>\r\n      <use x=\"178.439453\" xlink:href=\"#DejaVuSans-83\"/>\r\n      <use x=\"241.916016\" xlink:href=\"#DejaVuSans-116\"/>\r\n      <use x=\"281.125\" xlink:href=\"#DejaVuSans-97\"/>\r\n      <use x=\"342.404297\" xlink:href=\"#DejaVuSans-116\"/>\r\n      <use x=\"381.613281\" xlink:href=\"#DejaVuSans-105\"/>\r\n      <use x=\"409.396484\" xlink:href=\"#DejaVuSans-111\"/>\r\n      <use x=\"470.578125\" xlink:href=\"#DejaVuSans-110\"/>\r\n     </g>\r\n    </g>\r\n   </g>\r\n   <g id=\"patch_155\">\r\n    <path d=\"M 40.603125 1366.2 \r\nL 40.603125 7.2 \r\n\" style=\"fill:none;stroke:#000000;stroke-linecap:square;stroke-linejoin:miter;stroke-width:0.8;\"/>\r\n   </g>\r\n   <g id=\"patch_156\">\r\n    <path d=\"M 1156.603125 1366.2 \r\nL 1156.603125 7.2 \r\n\" style=\"fill:none;stroke:#000000;stroke-linecap:square;stroke-linejoin:miter;stroke-width:0.8;\"/>\r\n   </g>\r\n   <g id=\"patch_157\">\r\n    <path d=\"M 40.603125 1366.2 \r\nL 1156.603125 1366.2 \r\n\" style=\"fill:none;stroke:#000000;stroke-linecap:square;stroke-linejoin:miter;stroke-width:0.8;\"/>\r\n   </g>\r\n   <g id=\"patch_158\">\r\n    <path d=\"M 40.603125 7.2 \r\nL 1156.603125 7.2 \r\n\" style=\"fill:none;stroke:#000000;stroke-linecap:square;stroke-linejoin:miter;stroke-width:0.8;\"/>\r\n   </g>\r\n   <g id=\"legend_1\">\r\n    <g id=\"patch_159\">\r\n     <path d=\"M 894.61875 1361.2 \r\nL 1149.603125 1361.2 \r\nQ 1151.603125 1361.2 1151.603125 1359.2 \r\nL 1151.603125 1286.809375 \r\nQ 1151.603125 1284.809375 1149.603125 1284.809375 \r\nL 894.61875 1284.809375 \r\nQ 892.61875 1284.809375 892.61875 1286.809375 \r\nL 892.61875 1359.2 \r\nQ 892.61875 1361.2 894.61875 1361.2 \r\nz\r\n\" style=\"fill:#ffffff;opacity:0.8;stroke:#cccccc;stroke-linejoin:miter;\"/>\r\n    </g>\r\n    <g id=\"text_49\">\r\n     <!-- PatientOutcome -->\r\n     <g transform=\"translate(981.882031 1296.407812)scale(0.1 -0.1)\">\r\n      <defs>\r\n       <path d=\"M 19.671875 64.796875 \r\nL 19.671875 37.40625 \r\nL 32.078125 37.40625 \r\nQ 38.96875 37.40625 42.71875 40.96875 \r\nQ 46.484375 44.53125 46.484375 51.125 \r\nQ 46.484375 57.671875 42.71875 61.234375 \r\nQ 38.96875 64.796875 32.078125 64.796875 \r\nz\r\nM 9.8125 72.90625 \r\nL 32.078125 72.90625 \r\nQ 44.34375 72.90625 50.609375 67.359375 \r\nQ 56.890625 61.8125 56.890625 51.125 \r\nQ 56.890625 40.328125 50.609375 34.8125 \r\nQ 44.34375 29.296875 32.078125 29.296875 \r\nL 19.671875 29.296875 \r\nL 19.671875 0 \r\nL 9.8125 0 \r\nz\r\n\" id=\"DejaVuSans-80\"/>\r\n       <path d=\"M 39.40625 66.21875 \r\nQ 28.65625 66.21875 22.328125 58.203125 \r\nQ 16.015625 50.203125 16.015625 36.375 \r\nQ 16.015625 22.609375 22.328125 14.59375 \r\nQ 28.65625 6.59375 39.40625 6.59375 \r\nQ 50.140625 6.59375 56.421875 14.59375 \r\nQ 62.703125 22.609375 62.703125 36.375 \r\nQ 62.703125 50.203125 56.421875 58.203125 \r\nQ 50.140625 66.21875 39.40625 66.21875 \r\nz\r\nM 39.40625 74.21875 \r\nQ 54.734375 74.21875 63.90625 63.9375 \r\nQ 73.09375 53.65625 73.09375 36.375 \r\nQ 73.09375 19.140625 63.90625 8.859375 \r\nQ 54.734375 -1.421875 39.40625 -1.421875 \r\nQ 24.03125 -1.421875 14.8125 8.828125 \r\nQ 5.609375 19.09375 5.609375 36.375 \r\nQ 5.609375 53.65625 14.8125 63.9375 \r\nQ 24.03125 74.21875 39.40625 74.21875 \r\nz\r\n\" id=\"DejaVuSans-79\"/>\r\n       <path d=\"M 52 44.1875 \r\nQ 55.375 50.25 60.0625 53.125 \r\nQ 64.75 56 71.09375 56 \r\nQ 79.640625 56 84.28125 50.015625 \r\nQ 88.921875 44.046875 88.921875 33.015625 \r\nL 88.921875 0 \r\nL 79.890625 0 \r\nL 79.890625 32.71875 \r\nQ 79.890625 40.578125 77.09375 44.375 \r\nQ 74.3125 48.1875 68.609375 48.1875 \r\nQ 61.625 48.1875 57.5625 43.546875 \r\nQ 53.515625 38.921875 53.515625 30.90625 \r\nL 53.515625 0 \r\nL 44.484375 0 \r\nL 44.484375 32.71875 \r\nQ 44.484375 40.625 41.703125 44.40625 \r\nQ 38.921875 48.1875 33.109375 48.1875 \r\nQ 26.21875 48.1875 22.15625 43.53125 \r\nQ 18.109375 38.875 18.109375 30.90625 \r\nL 18.109375 0 \r\nL 9.078125 0 \r\nL 9.078125 54.6875 \r\nL 18.109375 54.6875 \r\nL 18.109375 46.1875 \r\nQ 21.1875 51.21875 25.484375 53.609375 \r\nQ 29.78125 56 35.6875 56 \r\nQ 41.65625 56 45.828125 52.96875 \r\nQ 50 49.953125 52 44.1875 \r\nz\r\n\" id=\"DejaVuSans-109\"/>\r\n      </defs>\r\n      <use xlink:href=\"#DejaVuSans-80\"/>\r\n      <use x=\"55.802734\" xlink:href=\"#DejaVuSans-97\"/>\r\n      <use x=\"117.082031\" xlink:href=\"#DejaVuSans-116\"/>\r\n      <use x=\"156.291016\" xlink:href=\"#DejaVuSans-105\"/>\r\n      <use x=\"184.074219\" xlink:href=\"#DejaVuSans-101\"/>\r\n      <use x=\"245.597656\" xlink:href=\"#DejaVuSans-110\"/>\r\n      <use x=\"308.976562\" xlink:href=\"#DejaVuSans-116\"/>\r\n      <use x=\"348.185547\" xlink:href=\"#DejaVuSans-79\"/>\r\n      <use x=\"426.896484\" xlink:href=\"#DejaVuSans-117\"/>\r\n      <use x=\"490.275391\" xlink:href=\"#DejaVuSans-116\"/>\r\n      <use x=\"529.484375\" xlink:href=\"#DejaVuSans-99\"/>\r\n      <use x=\"584.464844\" xlink:href=\"#DejaVuSans-111\"/>\r\n      <use x=\"645.646484\" xlink:href=\"#DejaVuSans-109\"/>\r\n      <use x=\"743.058594\" xlink:href=\"#DejaVuSans-101\"/>\r\n     </g>\r\n    </g>\r\n    <g id=\"patch_160\">\r\n     <path d=\"M 896.61875 1311.085938 \r\nL 916.61875 1311.085938 \r\nL 916.61875 1304.085938 \r\nL 896.61875 1304.085938 \r\nz\r\n\" style=\"fill:#4a4c7e;\"/>\r\n    </g>\r\n    <g id=\"text_50\">\r\n     <!-- Standby (Operational Support Provided) -->\r\n     <g transform=\"translate(924.61875 1311.085938)scale(0.1 -0.1)\">\r\n      <defs>\r\n       <path d=\"M 45.40625 46.390625 \r\nL 45.40625 75.984375 \r\nL 54.390625 75.984375 \r\nL 54.390625 0 \r\nL 45.40625 0 \r\nL 45.40625 8.203125 \r\nQ 42.578125 3.328125 38.25 0.953125 \r\nQ 33.9375 -1.421875 27.875 -1.421875 \r\nQ 17.96875 -1.421875 11.734375 6.484375 \r\nQ 5.515625 14.40625 5.515625 27.296875 \r\nQ 5.515625 40.1875 11.734375 48.09375 \r\nQ 17.96875 56 27.875 56 \r\nQ 33.9375 56 38.25 53.625 \r\nQ 42.578125 51.265625 45.40625 46.390625 \r\nz\r\nM 14.796875 27.296875 \r\nQ 14.796875 17.390625 18.875 11.75 \r\nQ 22.953125 6.109375 30.078125 6.109375 \r\nQ 37.203125 6.109375 41.296875 11.75 \r\nQ 45.40625 17.390625 45.40625 27.296875 \r\nQ 45.40625 37.203125 41.296875 42.84375 \r\nQ 37.203125 48.484375 30.078125 48.484375 \r\nQ 22.953125 48.484375 18.875 42.84375 \r\nQ 14.796875 37.203125 14.796875 27.296875 \r\nz\r\n\" id=\"DejaVuSans-100\"/>\r\n       <path d=\"M 48.6875 27.296875 \r\nQ 48.6875 37.203125 44.609375 42.84375 \r\nQ 40.53125 48.484375 33.40625 48.484375 \r\nQ 26.265625 48.484375 22.1875 42.84375 \r\nQ 18.109375 37.203125 18.109375 27.296875 \r\nQ 18.109375 17.390625 22.1875 11.75 \r\nQ 26.265625 6.109375 33.40625 6.109375 \r\nQ 40.53125 6.109375 44.609375 11.75 \r\nQ 48.6875 17.390625 48.6875 27.296875 \r\nz\r\nM 18.109375 46.390625 \r\nQ 20.953125 51.265625 25.265625 53.625 \r\nQ 29.59375 56 35.59375 56 \r\nQ 45.5625 56 51.78125 48.09375 \r\nQ 58.015625 40.1875 58.015625 27.296875 \r\nQ 58.015625 14.40625 51.78125 6.484375 \r\nQ 45.5625 -1.421875 35.59375 -1.421875 \r\nQ 29.59375 -1.421875 25.265625 0.953125 \r\nQ 20.953125 3.328125 18.109375 8.203125 \r\nL 18.109375 0 \r\nL 9.078125 0 \r\nL 9.078125 75.984375 \r\nL 18.109375 75.984375 \r\nz\r\n\" id=\"DejaVuSans-98\"/>\r\n       <path d=\"M 32.171875 -5.078125 \r\nQ 28.375 -14.84375 24.75 -17.8125 \r\nQ 21.140625 -20.796875 15.09375 -20.796875 \r\nL 7.90625 -20.796875 \r\nL 7.90625 -13.28125 \r\nL 13.1875 -13.28125 \r\nQ 16.890625 -13.28125 18.9375 -11.515625 \r\nQ 21 -9.765625 23.484375 -3.21875 \r\nL 25.09375 0.875 \r\nL 2.984375 54.6875 \r\nL 12.5 54.6875 \r\nL 29.59375 11.921875 \r\nL 46.6875 54.6875 \r\nL 56.203125 54.6875 \r\nz\r\n\" id=\"DejaVuSans-121\"/>\r\n       <path id=\"DejaVuSans-32\"/>\r\n       <path d=\"M 31 75.875 \r\nQ 24.46875 64.65625 21.28125 53.65625 \r\nQ 18.109375 42.671875 18.109375 31.390625 \r\nQ 18.109375 20.125 21.3125 9.0625 \r\nQ 24.515625 -2 31 -13.1875 \r\nL 23.1875 -13.1875 \r\nQ 15.875 -1.703125 12.234375 9.375 \r\nQ 8.59375 20.453125 8.59375 31.390625 \r\nQ 8.59375 42.28125 12.203125 53.3125 \r\nQ 15.828125 64.359375 23.1875 75.875 \r\nz\r\n\" id=\"DejaVuSans-40\"/>\r\n       <path d=\"M 18.109375 8.203125 \r\nL 18.109375 -20.796875 \r\nL 9.078125 -20.796875 \r\nL 9.078125 54.6875 \r\nL 18.109375 54.6875 \r\nL 18.109375 46.390625 \r\nQ 20.953125 51.265625 25.265625 53.625 \r\nQ 29.59375 56 35.59375 56 \r\nQ 45.5625 56 51.78125 48.09375 \r\nQ 58.015625 40.1875 58.015625 27.296875 \r\nQ 58.015625 14.40625 51.78125 6.484375 \r\nQ 45.5625 -1.421875 35.59375 -1.421875 \r\nQ 29.59375 -1.421875 25.265625 0.953125 \r\nQ 20.953125 3.328125 18.109375 8.203125 \r\nz\r\nM 48.6875 27.296875 \r\nQ 48.6875 37.203125 44.609375 42.84375 \r\nQ 40.53125 48.484375 33.40625 48.484375 \r\nQ 26.265625 48.484375 22.1875 42.84375 \r\nQ 18.109375 37.203125 18.109375 27.296875 \r\nQ 18.109375 17.390625 22.1875 11.75 \r\nQ 26.265625 6.109375 33.40625 6.109375 \r\nQ 40.53125 6.109375 44.609375 11.75 \r\nQ 48.6875 17.390625 48.6875 27.296875 \r\nz\r\n\" id=\"DejaVuSans-112\"/>\r\n       <path d=\"M 9.421875 75.984375 \r\nL 18.40625 75.984375 \r\nL 18.40625 0 \r\nL 9.421875 0 \r\nz\r\n\" id=\"DejaVuSans-108\"/>\r\n       <path d=\"M 2.984375 54.6875 \r\nL 12.5 54.6875 \r\nL 29.59375 8.796875 \r\nL 46.6875 54.6875 \r\nL 56.203125 54.6875 \r\nL 35.6875 0 \r\nL 23.484375 0 \r\nz\r\n\" id=\"DejaVuSans-118\"/>\r\n       <path d=\"M 8.015625 75.875 \r\nL 15.828125 75.875 \r\nQ 23.140625 64.359375 26.78125 53.3125 \r\nQ 30.421875 42.28125 30.421875 31.390625 \r\nQ 30.421875 20.453125 26.78125 9.375 \r\nQ 23.140625 -1.703125 15.828125 -13.1875 \r\nL 8.015625 -13.1875 \r\nQ 14.5 -2 17.703125 9.0625 \r\nQ 20.90625 20.125 20.90625 31.390625 \r\nQ 20.90625 42.671875 17.703125 53.65625 \r\nQ 14.5 64.65625 8.015625 75.875 \r\nz\r\n\" id=\"DejaVuSans-41\"/>\r\n      </defs>\r\n      <use xlink:href=\"#DejaVuSans-83\"/>\r\n      <use x=\"63.476562\" xlink:href=\"#DejaVuSans-116\"/>\r\n      <use x=\"102.685547\" xlink:href=\"#DejaVuSans-97\"/>\r\n      <use x=\"163.964844\" xlink:href=\"#DejaVuSans-110\"/>\r\n      <use x=\"227.34375\" xlink:href=\"#DejaVuSans-100\"/>\r\n      <use x=\"290.820312\" xlink:href=\"#DejaVuSans-98\"/>\r\n      <use x=\"354.296875\" xlink:href=\"#DejaVuSans-121\"/>\r\n      <use x=\"413.476562\" xlink:href=\"#DejaVuSans-32\"/>\r\n      <use x=\"445.263672\" xlink:href=\"#DejaVuSans-40\"/>\r\n      <use x=\"484.277344\" xlink:href=\"#DejaVuSans-79\"/>\r\n      <use x=\"562.988281\" xlink:href=\"#DejaVuSans-112\"/>\r\n      <use x=\"626.464844\" xlink:href=\"#DejaVuSans-101\"/>\r\n      <use x=\"687.988281\" xlink:href=\"#DejaVuSans-114\"/>\r\n      <use x=\"729.101562\" xlink:href=\"#DejaVuSans-97\"/>\r\n      <use x=\"790.380859\" xlink:href=\"#DejaVuSans-116\"/>\r\n      <use x=\"829.589844\" xlink:href=\"#DejaVuSans-105\"/>\r\n      <use x=\"857.373047\" xlink:href=\"#DejaVuSans-111\"/>\r\n      <use x=\"918.554688\" xlink:href=\"#DejaVuSans-110\"/>\r\n      <use x=\"981.933594\" xlink:href=\"#DejaVuSans-97\"/>\r\n      <use x=\"1043.212891\" xlink:href=\"#DejaVuSans-108\"/>\r\n      <use x=\"1070.996094\" xlink:href=\"#DejaVuSans-32\"/>\r\n      <use x=\"1102.783203\" xlink:href=\"#DejaVuSans-83\"/>\r\n      <use x=\"1166.259766\" xlink:href=\"#DejaVuSans-117\"/>\r\n      <use x=\"1229.638672\" xlink:href=\"#DejaVuSans-112\"/>\r\n      <use x=\"1293.115234\" xlink:href=\"#DejaVuSans-112\"/>\r\n      <use x=\"1356.591797\" xlink:href=\"#DejaVuSans-111\"/>\r\n      <use x=\"1417.773438\" xlink:href=\"#DejaVuSans-114\"/>\r\n      <use x=\"1458.886719\" xlink:href=\"#DejaVuSans-116\"/>\r\n      <use x=\"1498.095703\" xlink:href=\"#DejaVuSans-32\"/>\r\n      <use x=\"1529.882812\" xlink:href=\"#DejaVuSans-80\"/>\r\n      <use x=\"1588.435547\" xlink:href=\"#DejaVuSans-114\"/>\r\n      <use x=\"1627.298828\" xlink:href=\"#DejaVuSans-111\"/>\r\n      <use x=\"1688.480469\" xlink:href=\"#DejaVuSans-118\"/>\r\n      <use x=\"1747.660156\" xlink:href=\"#DejaVuSans-105\"/>\r\n      <use x=\"1775.443359\" xlink:href=\"#DejaVuSans-100\"/>\r\n      <use x=\"1838.919922\" xlink:href=\"#DejaVuSans-101\"/>\r\n      <use x=\"1900.443359\" xlink:href=\"#DejaVuSans-100\"/>\r\n      <use x=\"1963.919922\" xlink:href=\"#DejaVuSans-41\"/>\r\n     </g>\r\n    </g>\r\n    <g id=\"patch_161\">\r\n     <path d=\"M 896.61875 1325.764062 \r\nL 916.61875 1325.764062 \r\nL 916.61875 1318.764062 \r\nL 896.61875 1318.764062 \r\nz\r\n\" style=\"fill:#367182;\"/>\r\n    </g>\r\n    <g id=\"text_51\">\r\n     <!-- Patient Dead at Scene (No EMS CPR) -->\r\n     <g transform=\"translate(924.61875 1325.764062)scale(0.1 -0.1)\">\r\n      <defs>\r\n       <path d=\"M 19.671875 64.796875 \r\nL 19.671875 8.109375 \r\nL 31.59375 8.109375 \r\nQ 46.6875 8.109375 53.6875 14.9375 \r\nQ 60.6875 21.78125 60.6875 36.53125 \r\nQ 60.6875 51.171875 53.6875 57.984375 \r\nQ 46.6875 64.796875 31.59375 64.796875 \r\nz\r\nM 9.8125 72.90625 \r\nL 30.078125 72.90625 \r\nQ 51.265625 72.90625 61.171875 64.09375 \r\nQ 71.09375 55.28125 71.09375 36.53125 \r\nQ 71.09375 17.671875 61.125 8.828125 \r\nQ 51.171875 0 30.078125 0 \r\nL 9.8125 0 \r\nz\r\n\" id=\"DejaVuSans-68\"/>\r\n       <path d=\"M 9.8125 72.90625 \r\nL 23.09375 72.90625 \r\nL 55.421875 11.921875 \r\nL 55.421875 72.90625 \r\nL 64.984375 72.90625 \r\nL 64.984375 0 \r\nL 51.703125 0 \r\nL 19.390625 60.984375 \r\nL 19.390625 0 \r\nL 9.8125 0 \r\nz\r\n\" id=\"DejaVuSans-78\"/>\r\n       <path d=\"M 9.8125 72.90625 \r\nL 55.90625 72.90625 \r\nL 55.90625 64.59375 \r\nL 19.671875 64.59375 \r\nL 19.671875 43.015625 \r\nL 54.390625 43.015625 \r\nL 54.390625 34.71875 \r\nL 19.671875 34.71875 \r\nL 19.671875 8.296875 \r\nL 56.78125 8.296875 \r\nL 56.78125 0 \r\nL 9.8125 0 \r\nz\r\n\" id=\"DejaVuSans-69\"/>\r\n       <path d=\"M 9.8125 72.90625 \r\nL 24.515625 72.90625 \r\nL 43.109375 23.296875 \r\nL 61.8125 72.90625 \r\nL 76.515625 72.90625 \r\nL 76.515625 0 \r\nL 66.890625 0 \r\nL 66.890625 64.015625 \r\nL 48.09375 14.015625 \r\nL 38.1875 14.015625 \r\nL 19.390625 64.015625 \r\nL 19.390625 0 \r\nL 9.8125 0 \r\nz\r\n\" id=\"DejaVuSans-77\"/>\r\n       <path d=\"M 64.40625 67.28125 \r\nL 64.40625 56.890625 \r\nQ 59.421875 61.53125 53.78125 63.8125 \r\nQ 48.140625 66.109375 41.796875 66.109375 \r\nQ 29.296875 66.109375 22.65625 58.46875 \r\nQ 16.015625 50.828125 16.015625 36.375 \r\nQ 16.015625 21.96875 22.65625 14.328125 \r\nQ 29.296875 6.6875 41.796875 6.6875 \r\nQ 48.140625 6.6875 53.78125 8.984375 \r\nQ 59.421875 11.28125 64.40625 15.921875 \r\nL 64.40625 5.609375 \r\nQ 59.234375 2.09375 53.4375 0.328125 \r\nQ 47.65625 -1.421875 41.21875 -1.421875 \r\nQ 24.65625 -1.421875 15.125 8.703125 \r\nQ 5.609375 18.84375 5.609375 36.375 \r\nQ 5.609375 53.953125 15.125 64.078125 \r\nQ 24.65625 74.21875 41.21875 74.21875 \r\nQ 47.75 74.21875 53.53125 72.484375 \r\nQ 59.328125 70.75 64.40625 67.28125 \r\nz\r\n\" id=\"DejaVuSans-67\"/>\r\n       <path d=\"M 44.390625 34.1875 \r\nQ 47.5625 33.109375 50.5625 29.59375 \r\nQ 53.5625 26.078125 56.59375 19.921875 \r\nL 66.609375 0 \r\nL 56 0 \r\nL 46.6875 18.703125 \r\nQ 43.0625 26.03125 39.671875 28.421875 \r\nQ 36.28125 30.8125 30.421875 30.8125 \r\nL 19.671875 30.8125 \r\nL 19.671875 0 \r\nL 9.8125 0 \r\nL 9.8125 72.90625 \r\nL 32.078125 72.90625 \r\nQ 44.578125 72.90625 50.734375 67.671875 \r\nQ 56.890625 62.453125 56.890625 51.90625 \r\nQ 56.890625 45.015625 53.6875 40.46875 \r\nQ 50.484375 35.9375 44.390625 34.1875 \r\nz\r\nM 19.671875 64.796875 \r\nL 19.671875 38.921875 \r\nL 32.078125 38.921875 \r\nQ 39.203125 38.921875 42.84375 42.21875 \r\nQ 46.484375 45.515625 46.484375 51.90625 \r\nQ 46.484375 58.296875 42.84375 61.546875 \r\nQ 39.203125 64.796875 32.078125 64.796875 \r\nz\r\n\" id=\"DejaVuSans-82\"/>\r\n      </defs>\r\n      <use xlink:href=\"#DejaVuSans-80\"/>\r\n      <use x=\"55.802734\" xlink:href=\"#DejaVuSans-97\"/>\r\n      <use x=\"117.082031\" xlink:href=\"#DejaVuSans-116\"/>\r\n      <use x=\"156.291016\" xlink:href=\"#DejaVuSans-105\"/>\r\n      <use x=\"184.074219\" xlink:href=\"#DejaVuSans-101\"/>\r\n      <use x=\"245.597656\" xlink:href=\"#DejaVuSans-110\"/>\r\n      <use x=\"308.976562\" xlink:href=\"#DejaVuSans-116\"/>\r\n      <use x=\"348.185547\" xlink:href=\"#DejaVuSans-32\"/>\r\n      <use x=\"379.972656\" xlink:href=\"#DejaVuSans-68\"/>\r\n      <use x=\"456.974609\" xlink:href=\"#DejaVuSans-101\"/>\r\n      <use x=\"518.498047\" xlink:href=\"#DejaVuSans-97\"/>\r\n      <use x=\"579.777344\" xlink:href=\"#DejaVuSans-100\"/>\r\n      <use x=\"643.253906\" xlink:href=\"#DejaVuSans-32\"/>\r\n      <use x=\"675.041016\" xlink:href=\"#DejaVuSans-97\"/>\r\n      <use x=\"736.320312\" xlink:href=\"#DejaVuSans-116\"/>\r\n      <use x=\"775.529297\" xlink:href=\"#DejaVuSans-32\"/>\r\n      <use x=\"807.316406\" xlink:href=\"#DejaVuSans-83\"/>\r\n      <use x=\"870.792969\" xlink:href=\"#DejaVuSans-99\"/>\r\n      <use x=\"925.773438\" xlink:href=\"#DejaVuSans-101\"/>\r\n      <use x=\"987.296875\" xlink:href=\"#DejaVuSans-110\"/>\r\n      <use x=\"1050.675781\" xlink:href=\"#DejaVuSans-101\"/>\r\n      <use x=\"1112.199219\" xlink:href=\"#DejaVuSans-32\"/>\r\n      <use x=\"1143.986328\" xlink:href=\"#DejaVuSans-40\"/>\r\n      <use x=\"1183\" xlink:href=\"#DejaVuSans-78\"/>\r\n      <use x=\"1257.804688\" xlink:href=\"#DejaVuSans-111\"/>\r\n      <use x=\"1318.986328\" xlink:href=\"#DejaVuSans-32\"/>\r\n      <use x=\"1350.773438\" xlink:href=\"#DejaVuSans-69\"/>\r\n      <use x=\"1413.957031\" xlink:href=\"#DejaVuSans-77\"/>\r\n      <use x=\"1500.236328\" xlink:href=\"#DejaVuSans-83\"/>\r\n      <use x=\"1563.712891\" xlink:href=\"#DejaVuSans-32\"/>\r\n      <use x=\"1595.5\" xlink:href=\"#DejaVuSans-67\"/>\r\n      <use x=\"1665.324219\" xlink:href=\"#DejaVuSans-80\"/>\r\n      <use x=\"1725.626953\" xlink:href=\"#DejaVuSans-82\"/>\r\n      <use x=\"1795.109375\" xlink:href=\"#DejaVuSans-41\"/>\r\n     </g>\r\n    </g>\r\n    <g id=\"patch_162\">\r\n     <path d=\"M 896.61875 1340.442188 \r\nL 916.61875 1340.442188 \r\nL 916.61875 1333.442188 \r\nL 896.61875 1333.442188 \r\nz\r\n\" style=\"fill:#33977c;\"/>\r\n    </g>\r\n    <g id=\"text_52\">\r\n     <!-- Treated, Transferred Care -->\r\n     <g transform=\"translate(924.61875 1340.442188)scale(0.1 -0.1)\">\r\n      <defs>\r\n       <path d=\"M -0.296875 72.90625 \r\nL 61.375 72.90625 \r\nL 61.375 64.59375 \r\nL 35.5 64.59375 \r\nL 35.5 0 \r\nL 25.59375 0 \r\nL 25.59375 64.59375 \r\nL -0.296875 64.59375 \r\nz\r\n\" id=\"DejaVuSans-84\"/>\r\n       <path d=\"M 11.71875 12.40625 \r\nL 22.015625 12.40625 \r\nL 22.015625 4 \r\nL 14.015625 -11.625 \r\nL 7.71875 -11.625 \r\nL 11.71875 4 \r\nz\r\n\" id=\"DejaVuSans-44\"/>\r\n       <path d=\"M 44.28125 53.078125 \r\nL 44.28125 44.578125 \r\nQ 40.484375 46.53125 36.375 47.5 \r\nQ 32.28125 48.484375 27.875 48.484375 \r\nQ 21.1875 48.484375 17.84375 46.4375 \r\nQ 14.5 44.390625 14.5 40.28125 \r\nQ 14.5 37.15625 16.890625 35.375 \r\nQ 19.28125 33.59375 26.515625 31.984375 \r\nL 29.59375 31.296875 \r\nQ 39.15625 29.25 43.1875 25.515625 \r\nQ 47.21875 21.78125 47.21875 15.09375 \r\nQ 47.21875 7.46875 41.1875 3.015625 \r\nQ 35.15625 -1.421875 24.609375 -1.421875 \r\nQ 20.21875 -1.421875 15.453125 -0.5625 \r\nQ 10.6875 0.296875 5.421875 2 \r\nL 5.421875 11.28125 \r\nQ 10.40625 8.6875 15.234375 7.390625 \r\nQ 20.0625 6.109375 24.8125 6.109375 \r\nQ 31.15625 6.109375 34.5625 8.28125 \r\nQ 37.984375 10.453125 37.984375 14.40625 \r\nQ 37.984375 18.0625 35.515625 20.015625 \r\nQ 33.0625 21.96875 24.703125 23.78125 \r\nL 21.578125 24.515625 \r\nQ 13.234375 26.265625 9.515625 29.90625 \r\nQ 5.8125 33.546875 5.8125 39.890625 \r\nQ 5.8125 47.609375 11.28125 51.796875 \r\nQ 16.75 56 26.8125 56 \r\nQ 31.78125 56 36.171875 55.265625 \r\nQ 40.578125 54.546875 44.28125 53.078125 \r\nz\r\n\" id=\"DejaVuSans-115\"/>\r\n       <path d=\"M 37.109375 75.984375 \r\nL 37.109375 68.5 \r\nL 28.515625 68.5 \r\nQ 23.6875 68.5 21.796875 66.546875 \r\nQ 19.921875 64.59375 19.921875 59.515625 \r\nL 19.921875 54.6875 \r\nL 34.71875 54.6875 \r\nL 34.71875 47.703125 \r\nL 19.921875 47.703125 \r\nL 19.921875 0 \r\nL 10.890625 0 \r\nL 10.890625 47.703125 \r\nL 2.296875 47.703125 \r\nL 2.296875 54.6875 \r\nL 10.890625 54.6875 \r\nL 10.890625 58.5 \r\nQ 10.890625 67.625 15.140625 71.796875 \r\nQ 19.390625 75.984375 28.609375 75.984375 \r\nz\r\n\" id=\"DejaVuSans-102\"/>\r\n      </defs>\r\n      <use xlink:href=\"#DejaVuSans-84\"/>\r\n      <use x=\"46.333984\" xlink:href=\"#DejaVuSans-114\"/>\r\n      <use x=\"85.197266\" xlink:href=\"#DejaVuSans-101\"/>\r\n      <use x=\"146.720703\" xlink:href=\"#DejaVuSans-97\"/>\r\n      <use x=\"208\" xlink:href=\"#DejaVuSans-116\"/>\r\n      <use x=\"247.208984\" xlink:href=\"#DejaVuSans-101\"/>\r\n      <use x=\"308.732422\" xlink:href=\"#DejaVuSans-100\"/>\r\n      <use x=\"372.208984\" xlink:href=\"#DejaVuSans-44\"/>\r\n      <use x=\"403.996094\" xlink:href=\"#DejaVuSans-32\"/>\r\n      <use x=\"435.783203\" xlink:href=\"#DejaVuSans-84\"/>\r\n      <use x=\"482.117188\" xlink:href=\"#DejaVuSans-114\"/>\r\n      <use x=\"523.230469\" xlink:href=\"#DejaVuSans-97\"/>\r\n      <use x=\"584.509766\" xlink:href=\"#DejaVuSans-110\"/>\r\n      <use x=\"647.888672\" xlink:href=\"#DejaVuSans-115\"/>\r\n      <use x=\"699.988281\" xlink:href=\"#DejaVuSans-102\"/>\r\n      <use x=\"735.193359\" xlink:href=\"#DejaVuSans-101\"/>\r\n      <use x=\"796.716797\" xlink:href=\"#DejaVuSans-114\"/>\r\n      <use x=\"836.080078\" xlink:href=\"#DejaVuSans-114\"/>\r\n      <use x=\"874.943359\" xlink:href=\"#DejaVuSans-101\"/>\r\n      <use x=\"936.466797\" xlink:href=\"#DejaVuSans-100\"/>\r\n      <use x=\"999.943359\" xlink:href=\"#DejaVuSans-32\"/>\r\n      <use x=\"1031.730469\" xlink:href=\"#DejaVuSans-67\"/>\r\n      <use x=\"1101.554688\" xlink:href=\"#DejaVuSans-97\"/>\r\n      <use x=\"1162.833984\" xlink:href=\"#DejaVuSans-114\"/>\r\n      <use x=\"1201.697266\" xlink:href=\"#DejaVuSans-101\"/>\r\n     </g>\r\n    </g>\r\n    <g id=\"patch_163\">\r\n     <path d=\"M 896.61875 1355.120312 \r\nL 916.61875 1355.120312 \r\nL 916.61875 1348.120312 \r\nL 896.61875 1348.120312 \r\nz\r\n\" style=\"fill:#80c161;\"/>\r\n    </g>\r\n    <g id=\"text_53\">\r\n     <!-- Patient Dead at Scene (EMS CPR Attempted) -->\r\n     <g transform=\"translate(924.61875 1355.120312)scale(0.1 -0.1)\">\r\n      <defs>\r\n       <path d=\"M 34.1875 63.1875 \r\nL 20.796875 26.90625 \r\nL 47.609375 26.90625 \r\nz\r\nM 28.609375 72.90625 \r\nL 39.796875 72.90625 \r\nL 67.578125 0 \r\nL 57.328125 0 \r\nL 50.6875 18.703125 \r\nL 17.828125 18.703125 \r\nL 11.1875 0 \r\nL 0.78125 0 \r\nz\r\n\" id=\"DejaVuSans-65\"/>\r\n      </defs>\r\n      <use xlink:href=\"#DejaVuSans-80\"/>\r\n      <use x=\"55.802734\" xlink:href=\"#DejaVuSans-97\"/>\r\n      <use x=\"117.082031\" xlink:href=\"#DejaVuSans-116\"/>\r\n      <use x=\"156.291016\" xlink:href=\"#DejaVuSans-105\"/>\r\n      <use x=\"184.074219\" xlink:href=\"#DejaVuSans-101\"/>\r\n      <use x=\"245.597656\" xlink:href=\"#DejaVuSans-110\"/>\r\n      <use x=\"308.976562\" xlink:href=\"#DejaVuSans-116\"/>\r\n      <use x=\"348.185547\" xlink:href=\"#DejaVuSans-32\"/>\r\n      <use x=\"379.972656\" xlink:href=\"#DejaVuSans-68\"/>\r\n      <use x=\"456.974609\" xlink:href=\"#DejaVuSans-101\"/>\r\n      <use x=\"518.498047\" xlink:href=\"#DejaVuSans-97\"/>\r\n      <use x=\"579.777344\" xlink:href=\"#DejaVuSans-100\"/>\r\n      <use x=\"643.253906\" xlink:href=\"#DejaVuSans-32\"/>\r\n      <use x=\"675.041016\" xlink:href=\"#DejaVuSans-97\"/>\r\n      <use x=\"736.320312\" xlink:href=\"#DejaVuSans-116\"/>\r\n      <use x=\"775.529297\" xlink:href=\"#DejaVuSans-32\"/>\r\n      <use x=\"807.316406\" xlink:href=\"#DejaVuSans-83\"/>\r\n      <use x=\"870.792969\" xlink:href=\"#DejaVuSans-99\"/>\r\n      <use x=\"925.773438\" xlink:href=\"#DejaVuSans-101\"/>\r\n      <use x=\"987.296875\" xlink:href=\"#DejaVuSans-110\"/>\r\n      <use x=\"1050.675781\" xlink:href=\"#DejaVuSans-101\"/>\r\n      <use x=\"1112.199219\" xlink:href=\"#DejaVuSans-32\"/>\r\n      <use x=\"1143.986328\" xlink:href=\"#DejaVuSans-40\"/>\r\n      <use x=\"1183\" xlink:href=\"#DejaVuSans-69\"/>\r\n      <use x=\"1246.183594\" xlink:href=\"#DejaVuSans-77\"/>\r\n      <use x=\"1332.462891\" xlink:href=\"#DejaVuSans-83\"/>\r\n      <use x=\"1395.939453\" xlink:href=\"#DejaVuSans-32\"/>\r\n      <use x=\"1427.726562\" xlink:href=\"#DejaVuSans-67\"/>\r\n      <use x=\"1497.550781\" xlink:href=\"#DejaVuSans-80\"/>\r\n      <use x=\"1557.853516\" xlink:href=\"#DejaVuSans-82\"/>\r\n      <use x=\"1627.335938\" xlink:href=\"#DejaVuSans-32\"/>\r\n      <use x=\"1659.123047\" xlink:href=\"#DejaVuSans-65\"/>\r\n      <use x=\"1725.78125\" xlink:href=\"#DejaVuSans-116\"/>\r\n      <use x=\"1764.990234\" xlink:href=\"#DejaVuSans-116\"/>\r\n      <use x=\"1804.199219\" xlink:href=\"#DejaVuSans-101\"/>\r\n      <use x=\"1865.722656\" xlink:href=\"#DejaVuSans-109\"/>\r\n      <use x=\"1963.134766\" xlink:href=\"#DejaVuSans-112\"/>\r\n      <use x=\"2026.611328\" xlink:href=\"#DejaVuSans-116\"/>\r\n      <use x=\"2065.820312\" xlink:href=\"#DejaVuSans-101\"/>\r\n      <use x=\"2127.34375\" xlink:href=\"#DejaVuSans-100\"/>\r\n      <use x=\"2190.820312\" xlink:href=\"#DejaVuSans-41\"/>\r\n     </g>\r\n    </g>\r\n   </g>\r\n  </g>\r\n </g>\r\n <defs>\r\n  <clipPath id=\"p0822e8fe48\">\r\n   <rect height=\"1359\" width=\"1116\" x=\"40.603125\" y=\"7.2\"/>\r\n  </clipPath>\r\n </defs>\r\n</svg>\r\n",
      "image/png": "[encoded data removed]"
     },
     "metadata": {
      "needs_background": "light"
     }
    }
   ],
   "source": [
    "q4_vis.frequency_plot_station_outcome(140,'outcome')\n",
    "#q4_vis.frequency_plot_station_outcome(700,'outcome')\n",
    "#q4_vis.frequency_plot_station_outcome(1400,'outcome')\n",
    "#q4_vis.frequency_plot_station_outcome(8000,'outcome')"
   ]
  },
  {
   "cell_type": "code",
   "execution_count": 4,
   "metadata": {},
   "outputs": [
    {
     "output_type": "display_data",
     "data": {
      "text/plain": "<Figure size 720x1440 with 1 Axes>",
      "image/svg+xml": "<?xml version=\"1.0\" encoding=\"utf-8\" standalone=\"no\"?>\r\n<!DOCTYPE svg PUBLIC \"-//W3C//DTD SVG 1.1//EN\"\r\n  \"http://www.w3.org/Graphics/SVG/1.1/DTD/svg11.dtd\">\r\n<!-- Created with matplotlib (https://matplotlib.org/) -->\r\n<svg height=\"1136.134219pt\" version=\"1.1\" viewBox=\"0 0 614.845791 1136.134219\" width=\"614.845791pt\" xmlns=\"http://www.w3.org/2000/svg\" xmlns:xlink=\"http://www.w3.org/1999/xlink\">\r\n <metadata>\r\n  <rdf:RDF xmlns:cc=\"http://creativecommons.org/ns#\" xmlns:dc=\"http://purl.org/dc/elements/1.1/\" xmlns:rdf=\"http://www.w3.org/1999/02/22-rdf-syntax-ns#\">\r\n   <cc:Work>\r\n    <dc:type rdf:resource=\"http://purl.org/dc/dcmitype/StillImage\"/>\r\n    <dc:date>2021-04-06T01:16:55.076915</dc:date>\r\n    <dc:format>image/svg+xml</dc:format>\r\n    <dc:creator>\r\n     <cc:Agent>\r\n      <dc:title>Matplotlib v3.3.4, https://matplotlib.org/</dc:title>\r\n     </cc:Agent>\r\n    </dc:creator>\r\n   </cc:Work>\r\n  </rdf:RDF>\r\n </metadata>\r\n <defs>\r\n  <style type=\"text/css\">*{stroke-linecap:butt;stroke-linejoin:round;}</style>\r\n </defs>\r\n <g id=\"figure_1\">\r\n  <g id=\"patch_1\">\r\n   <path d=\"M 0 1136.134219 \r\nL 614.845791 1136.134219 \r\nL 614.845791 0 \r\nL 0 0 \r\nz\r\n\" style=\"fill:#ffffff;\"/>\r\n  </g>\r\n  <g id=\"axes_1\">\r\n   <g id=\"patch_2\">\r\n    <path d=\"M 43.908437 1094.4 \r\nL 601.908437 1094.4 \r\nL 601.908437 7.2 \r\nL 43.908437 7.2 \r\nz\r\n\" style=\"fill:#eaeaf2;\"/>\r\n   </g>\r\n   <g id=\"matplotlib.axis_1\">\r\n    <g id=\"xtick_1\">\r\n     <g id=\"line2d_1\">\r\n      <path clip-path=\"url(#p65d25428b4)\" d=\"M 43.908437 1094.4 \r\nL 43.908437 7.2 \r\n\" style=\"fill:none;stroke:#ffffff;stroke-linecap:round;\"/>\r\n     </g>\r\n     <g id=\"text_1\">\r\n      <!-- 0 -->\r\n      <g style=\"fill:#262626;\" transform=\"translate(40.849922 1111.773594)scale(0.11 -0.11)\">\r\n       <defs>\r\n        <path d=\"M 4.15625 35.296875 \r\nQ 4.15625 48 6.765625 55.734375 \r\nQ 9.375 63.484375 14.515625 67.671875 \r\nQ 19.671875 71.875 27.484375 71.875 \r\nQ 33.25 71.875 37.59375 69.546875 \r\nQ 41.9375 67.234375 44.765625 62.859375 \r\nQ 47.609375 58.5 49.21875 52.21875 \r\nQ 50.828125 45.953125 50.828125 35.296875 \r\nQ 50.828125 22.703125 48.234375 14.96875 \r\nQ 45.65625 7.234375 40.5 3 \r\nQ 35.359375 -1.21875 27.484375 -1.21875 \r\nQ 17.140625 -1.21875 11.234375 6.203125 \r\nQ 4.15625 15.140625 4.15625 35.296875 \r\nz\r\nM 13.1875 35.296875 \r\nQ 13.1875 17.671875 17.3125 11.828125 \r\nQ 21.4375 6 27.484375 6 \r\nQ 33.546875 6 37.671875 11.859375 \r\nQ 41.796875 17.71875 41.796875 35.296875 \r\nQ 41.796875 52.984375 37.671875 58.78125 \r\nQ 33.546875 64.59375 27.390625 64.59375 \r\nQ 21.34375 64.59375 17.71875 59.46875 \r\nQ 13.1875 52.9375 13.1875 35.296875 \r\nz\r\n\" id=\"ArialMT-48\"/>\r\n       </defs>\r\n       <use xlink:href=\"#ArialMT-48\"/>\r\n      </g>\r\n     </g>\r\n    </g>\r\n    <g id=\"xtick_2\">\r\n     <g id=\"line2d_2\">\r\n      <path clip-path=\"url(#p65d25428b4)\" d=\"M 154.209096 1094.4 \r\nL 154.209096 7.2 \r\n\" style=\"fill:none;stroke:#ffffff;stroke-linecap:round;\"/>\r\n     </g>\r\n     <g id=\"text_2\">\r\n      <!-- 1000 -->\r\n      <g style=\"fill:#262626;\" transform=\"translate(141.975033 1111.773594)scale(0.11 -0.11)\">\r\n       <defs>\r\n        <path d=\"M 37.25 0 \r\nL 28.46875 0 \r\nL 28.46875 56 \r\nQ 25.296875 52.984375 20.140625 49.953125 \r\nQ 14.984375 46.921875 10.890625 45.40625 \r\nL 10.890625 53.90625 \r\nQ 18.265625 57.375 23.78125 62.296875 \r\nQ 29.296875 67.234375 31.59375 71.875 \r\nL 37.25 71.875 \r\nz\r\n\" id=\"ArialMT-49\"/>\r\n       </defs>\r\n       <use xlink:href=\"#ArialMT-49\"/>\r\n       <use x=\"55.615234\" xlink:href=\"#ArialMT-48\"/>\r\n       <use x=\"111.230469\" xlink:href=\"#ArialMT-48\"/>\r\n       <use x=\"166.845703\" xlink:href=\"#ArialMT-48\"/>\r\n      </g>\r\n     </g>\r\n    </g>\r\n    <g id=\"xtick_3\">\r\n     <g id=\"line2d_3\">\r\n      <path clip-path=\"url(#p65d25428b4)\" d=\"M 264.509754 1094.4 \r\nL 264.509754 7.2 \r\n\" style=\"fill:none;stroke:#ffffff;stroke-linecap:round;\"/>\r\n     </g>\r\n     <g id=\"text_3\">\r\n      <!-- 2000 -->\r\n      <g style=\"fill:#262626;\" transform=\"translate(252.275691 1111.773594)scale(0.11 -0.11)\">\r\n       <defs>\r\n        <path d=\"M 50.34375 8.453125 \r\nL 50.34375 0 \r\nL 3.03125 0 \r\nQ 2.9375 3.171875 4.046875 6.109375 \r\nQ 5.859375 10.9375 9.828125 15.625 \r\nQ 13.8125 20.3125 21.34375 26.46875 \r\nQ 33.015625 36.03125 37.109375 41.625 \r\nQ 41.21875 47.21875 41.21875 52.203125 \r\nQ 41.21875 57.421875 37.46875 61 \r\nQ 33.734375 64.59375 27.734375 64.59375 \r\nQ 21.390625 64.59375 17.578125 60.78125 \r\nQ 13.765625 56.984375 13.71875 50.25 \r\nL 4.6875 51.171875 \r\nQ 5.609375 61.28125 11.65625 66.578125 \r\nQ 17.71875 71.875 27.9375 71.875 \r\nQ 38.234375 71.875 44.234375 66.15625 \r\nQ 50.25 60.453125 50.25 52 \r\nQ 50.25 47.703125 48.484375 43.546875 \r\nQ 46.734375 39.40625 42.65625 34.8125 \r\nQ 38.578125 30.21875 29.109375 22.21875 \r\nQ 21.1875 15.578125 18.9375 13.203125 \r\nQ 16.703125 10.84375 15.234375 8.453125 \r\nz\r\n\" id=\"ArialMT-50\"/>\r\n       </defs>\r\n       <use xlink:href=\"#ArialMT-50\"/>\r\n       <use x=\"55.615234\" xlink:href=\"#ArialMT-48\"/>\r\n       <use x=\"111.230469\" xlink:href=\"#ArialMT-48\"/>\r\n       <use x=\"166.845703\" xlink:href=\"#ArialMT-48\"/>\r\n      </g>\r\n     </g>\r\n    </g>\r\n    <g id=\"xtick_4\">\r\n     <g id=\"line2d_4\">\r\n      <path clip-path=\"url(#p65d25428b4)\" d=\"M 374.810412 1094.4 \r\nL 374.810412 7.2 \r\n\" style=\"fill:none;stroke:#ffffff;stroke-linecap:round;\"/>\r\n     </g>\r\n     <g id=\"text_4\">\r\n      <!-- 3000 -->\r\n      <g style=\"fill:#262626;\" transform=\"translate(362.57635 1111.773594)scale(0.11 -0.11)\">\r\n       <defs>\r\n        <path d=\"M 4.203125 18.890625 \r\nL 12.984375 20.0625 \r\nQ 14.5 12.59375 18.140625 9.296875 \r\nQ 21.78125 6 27 6 \r\nQ 33.203125 6 37.46875 10.296875 \r\nQ 41.75 14.59375 41.75 20.953125 \r\nQ 41.75 27 37.796875 30.921875 \r\nQ 33.84375 34.859375 27.734375 34.859375 \r\nQ 25.25 34.859375 21.53125 33.890625 \r\nL 22.515625 41.609375 \r\nQ 23.390625 41.5 23.921875 41.5 \r\nQ 29.546875 41.5 34.03125 44.421875 \r\nQ 38.53125 47.359375 38.53125 53.46875 \r\nQ 38.53125 58.296875 35.25 61.46875 \r\nQ 31.984375 64.65625 26.8125 64.65625 \r\nQ 21.6875 64.65625 18.265625 61.421875 \r\nQ 14.84375 58.203125 13.875 51.765625 \r\nL 5.078125 53.328125 \r\nQ 6.6875 62.15625 12.390625 67.015625 \r\nQ 18.109375 71.875 26.609375 71.875 \r\nQ 32.46875 71.875 37.390625 69.359375 \r\nQ 42.328125 66.84375 44.9375 62.5 \r\nQ 47.5625 58.15625 47.5625 53.265625 \r\nQ 47.5625 48.640625 45.0625 44.828125 \r\nQ 42.578125 41.015625 37.703125 38.765625 \r\nQ 44.046875 37.3125 47.5625 32.6875 \r\nQ 51.078125 28.078125 51.078125 21.140625 \r\nQ 51.078125 11.765625 44.234375 5.25 \r\nQ 37.40625 -1.265625 26.953125 -1.265625 \r\nQ 17.53125 -1.265625 11.296875 4.34375 \r\nQ 5.078125 9.96875 4.203125 18.890625 \r\nz\r\n\" id=\"ArialMT-51\"/>\r\n       </defs>\r\n       <use xlink:href=\"#ArialMT-51\"/>\r\n       <use x=\"55.615234\" xlink:href=\"#ArialMT-48\"/>\r\n       <use x=\"111.230469\" xlink:href=\"#ArialMT-48\"/>\r\n       <use x=\"166.845703\" xlink:href=\"#ArialMT-48\"/>\r\n      </g>\r\n     </g>\r\n    </g>\r\n    <g id=\"xtick_5\">\r\n     <g id=\"line2d_5\">\r\n      <path clip-path=\"url(#p65d25428b4)\" d=\"M 485.11107 1094.4 \r\nL 485.11107 7.2 \r\n\" style=\"fill:none;stroke:#ffffff;stroke-linecap:round;\"/>\r\n     </g>\r\n     <g id=\"text_5\">\r\n      <!-- 4000 -->\r\n      <g style=\"fill:#262626;\" transform=\"translate(472.877008 1111.773594)scale(0.11 -0.11)\">\r\n       <defs>\r\n        <path d=\"M 32.328125 0 \r\nL 32.328125 17.140625 \r\nL 1.265625 17.140625 \r\nL 1.265625 25.203125 \r\nL 33.9375 71.578125 \r\nL 41.109375 71.578125 \r\nL 41.109375 25.203125 \r\nL 50.78125 25.203125 \r\nL 50.78125 17.140625 \r\nL 41.109375 17.140625 \r\nL 41.109375 0 \r\nz\r\nM 32.328125 25.203125 \r\nL 32.328125 57.46875 \r\nL 9.90625 25.203125 \r\nz\r\n\" id=\"ArialMT-52\"/>\r\n       </defs>\r\n       <use xlink:href=\"#ArialMT-52\"/>\r\n       <use x=\"55.615234\" xlink:href=\"#ArialMT-48\"/>\r\n       <use x=\"111.230469\" xlink:href=\"#ArialMT-48\"/>\r\n       <use x=\"166.845703\" xlink:href=\"#ArialMT-48\"/>\r\n      </g>\r\n     </g>\r\n    </g>\r\n    <g id=\"xtick_6\">\r\n     <g id=\"line2d_6\">\r\n      <path clip-path=\"url(#p65d25428b4)\" d=\"M 595.411729 1094.4 \r\nL 595.411729 7.2 \r\n\" style=\"fill:none;stroke:#ffffff;stroke-linecap:round;\"/>\r\n     </g>\r\n     <g id=\"text_6\">\r\n      <!-- 5000 -->\r\n      <g style=\"fill:#262626;\" transform=\"translate(583.177666 1111.773594)scale(0.11 -0.11)\">\r\n       <defs>\r\n        <path d=\"M 4.15625 18.75 \r\nL 13.375 19.53125 \r\nQ 14.40625 12.796875 18.140625 9.390625 \r\nQ 21.875 6 27.15625 6 \r\nQ 33.5 6 37.890625 10.78125 \r\nQ 42.28125 15.578125 42.28125 23.484375 \r\nQ 42.28125 31 38.0625 35.34375 \r\nQ 33.84375 39.703125 27 39.703125 \r\nQ 22.75 39.703125 19.328125 37.765625 \r\nQ 15.921875 35.84375 13.96875 32.765625 \r\nL 5.71875 33.84375 \r\nL 12.640625 70.609375 \r\nL 48.25 70.609375 \r\nL 48.25 62.203125 \r\nL 19.671875 62.203125 \r\nL 15.828125 42.96875 \r\nQ 22.265625 47.46875 29.34375 47.46875 \r\nQ 38.71875 47.46875 45.15625 40.96875 \r\nQ 51.609375 34.46875 51.609375 24.265625 \r\nQ 51.609375 14.546875 45.953125 7.46875 \r\nQ 39.0625 -1.21875 27.15625 -1.21875 \r\nQ 17.390625 -1.21875 11.203125 4.25 \r\nQ 5.03125 9.71875 4.15625 18.75 \r\nz\r\n\" id=\"ArialMT-53\"/>\r\n       </defs>\r\n       <use xlink:href=\"#ArialMT-53\"/>\r\n       <use x=\"55.615234\" xlink:href=\"#ArialMT-48\"/>\r\n       <use x=\"111.230469\" xlink:href=\"#ArialMT-48\"/>\r\n       <use x=\"166.845703\" xlink:href=\"#ArialMT-48\"/>\r\n      </g>\r\n     </g>\r\n    </g>\r\n    <g id=\"text_7\">\r\n     <!-- count -->\r\n     <g style=\"fill:#262626;\" transform=\"translate(308.231875 1126.549219)scale(0.12 -0.12)\">\r\n      <defs>\r\n       <path d=\"M 40.4375 19 \r\nL 49.078125 17.875 \r\nQ 47.65625 8.9375 41.8125 3.875 \r\nQ 35.984375 -1.171875 27.484375 -1.171875 \r\nQ 16.84375 -1.171875 10.375 5.78125 \r\nQ 3.90625 12.75 3.90625 25.734375 \r\nQ 3.90625 34.125 6.6875 40.421875 \r\nQ 9.46875 46.734375 15.15625 49.875 \r\nQ 20.84375 53.03125 27.546875 53.03125 \r\nQ 35.984375 53.03125 41.359375 48.75 \r\nQ 46.734375 44.484375 48.25 36.625 \r\nL 39.703125 35.296875 \r\nQ 38.484375 40.53125 35.375 43.15625 \r\nQ 32.28125 45.796875 27.875 45.796875 \r\nQ 21.234375 45.796875 17.078125 41.03125 \r\nQ 12.9375 36.28125 12.9375 25.984375 \r\nQ 12.9375 15.53125 16.9375 10.796875 \r\nQ 20.953125 6.0625 27.390625 6.0625 \r\nQ 32.5625 6.0625 36.03125 9.234375 \r\nQ 39.5 12.40625 40.4375 19 \r\nz\r\n\" id=\"ArialMT-99\"/>\r\n       <path d=\"M 3.328125 25.921875 \r\nQ 3.328125 40.328125 11.328125 47.265625 \r\nQ 18.015625 53.03125 27.640625 53.03125 \r\nQ 38.328125 53.03125 45.109375 46.015625 \r\nQ 51.90625 39.015625 51.90625 26.65625 \r\nQ 51.90625 16.65625 48.90625 10.90625 \r\nQ 45.90625 5.171875 40.15625 2 \r\nQ 34.421875 -1.171875 27.640625 -1.171875 \r\nQ 16.75 -1.171875 10.03125 5.8125 \r\nQ 3.328125 12.796875 3.328125 25.921875 \r\nz\r\nM 12.359375 25.921875 \r\nQ 12.359375 15.96875 16.703125 11.015625 \r\nQ 21.046875 6.0625 27.640625 6.0625 \r\nQ 34.1875 6.0625 38.53125 11.03125 \r\nQ 42.875 16.015625 42.875 26.21875 \r\nQ 42.875 35.84375 38.5 40.796875 \r\nQ 34.125 45.75 27.640625 45.75 \r\nQ 21.046875 45.75 16.703125 40.8125 \r\nQ 12.359375 35.890625 12.359375 25.921875 \r\nz\r\n\" id=\"ArialMT-111\"/>\r\n       <path d=\"M 40.578125 0 \r\nL 40.578125 7.625 \r\nQ 34.515625 -1.171875 24.125 -1.171875 \r\nQ 19.53125 -1.171875 15.546875 0.578125 \r\nQ 11.578125 2.34375 9.640625 5 \r\nQ 7.71875 7.671875 6.9375 11.53125 \r\nQ 6.390625 14.109375 6.390625 19.734375 \r\nL 6.390625 51.859375 \r\nL 15.1875 51.859375 \r\nL 15.1875 23.09375 \r\nQ 15.1875 16.21875 15.71875 13.8125 \r\nQ 16.546875 10.359375 19.234375 8.375 \r\nQ 21.921875 6.390625 25.875 6.390625 \r\nQ 29.828125 6.390625 33.296875 8.421875 \r\nQ 36.765625 10.453125 38.203125 13.9375 \r\nQ 39.65625 17.4375 39.65625 24.078125 \r\nL 39.65625 51.859375 \r\nL 48.4375 51.859375 \r\nL 48.4375 0 \r\nz\r\n\" id=\"ArialMT-117\"/>\r\n       <path d=\"M 6.59375 0 \r\nL 6.59375 51.859375 \r\nL 14.5 51.859375 \r\nL 14.5 44.484375 \r\nQ 20.21875 53.03125 31 53.03125 \r\nQ 35.6875 53.03125 39.625 51.34375 \r\nQ 43.5625 49.65625 45.515625 46.921875 \r\nQ 47.46875 44.1875 48.25 40.4375 \r\nQ 48.734375 37.984375 48.734375 31.890625 \r\nL 48.734375 0 \r\nL 39.9375 0 \r\nL 39.9375 31.546875 \r\nQ 39.9375 36.921875 38.90625 39.578125 \r\nQ 37.890625 42.234375 35.28125 43.8125 \r\nQ 32.671875 45.40625 29.15625 45.40625 \r\nQ 23.53125 45.40625 19.453125 41.84375 \r\nQ 15.375 38.28125 15.375 28.328125 \r\nL 15.375 0 \r\nz\r\n\" id=\"ArialMT-110\"/>\r\n       <path d=\"M 25.78125 7.859375 \r\nL 27.046875 0.09375 \r\nQ 23.34375 -0.6875 20.40625 -0.6875 \r\nQ 15.625 -0.6875 12.984375 0.828125 \r\nQ 10.359375 2.34375 9.28125 4.8125 \r\nQ 8.203125 7.28125 8.203125 15.1875 \r\nL 8.203125 45.015625 \r\nL 1.765625 45.015625 \r\nL 1.765625 51.859375 \r\nL 8.203125 51.859375 \r\nL 8.203125 64.703125 \r\nL 16.9375 69.96875 \r\nL 16.9375 51.859375 \r\nL 25.78125 51.859375 \r\nL 25.78125 45.015625 \r\nL 16.9375 45.015625 \r\nL 16.9375 14.703125 \r\nQ 16.9375 10.9375 17.40625 9.859375 \r\nQ 17.875 8.796875 18.921875 8.15625 \r\nQ 19.96875 7.515625 21.921875 7.515625 \r\nQ 23.390625 7.515625 25.78125 7.859375 \r\nz\r\n\" id=\"ArialMT-116\"/>\r\n      </defs>\r\n      <use xlink:href=\"#ArialMT-99\"/>\r\n      <use x=\"50\" xlink:href=\"#ArialMT-111\"/>\r\n      <use x=\"105.615234\" xlink:href=\"#ArialMT-117\"/>\r\n      <use x=\"161.230469\" xlink:href=\"#ArialMT-110\"/>\r\n      <use x=\"216.845703\" xlink:href=\"#ArialMT-116\"/>\r\n     </g>\r\n    </g>\r\n   </g>\r\n   <g id=\"matplotlib.axis_2\">\r\n    <g id=\"ytick_1\">\r\n     <g id=\"text_8\">\r\n      <!-- 1 -->\r\n      <g style=\"fill:#262626;\" transform=\"translate(28.291406 25.44206)scale(0.11 -0.11)\">\r\n       <use xlink:href=\"#ArialMT-49\"/>\r\n      </g>\r\n     </g>\r\n    </g>\r\n    <g id=\"ytick_2\">\r\n     <g id=\"text_9\">\r\n      <!-- 2 -->\r\n      <g style=\"fill:#262626;\" transform=\"translate(28.291406 54.052586)scale(0.11 -0.11)\">\r\n       <use xlink:href=\"#ArialMT-50\"/>\r\n      </g>\r\n     </g>\r\n    </g>\r\n    <g id=\"ytick_3\">\r\n     <g id=\"text_10\">\r\n      <!-- 4 -->\r\n      <g style=\"fill:#262626;\" transform=\"translate(28.291406 82.663113)scale(0.11 -0.11)\">\r\n       <use xlink:href=\"#ArialMT-52\"/>\r\n      </g>\r\n     </g>\r\n    </g>\r\n    <g id=\"ytick_4\">\r\n     <g id=\"text_11\">\r\n      <!-- 5 -->\r\n      <g style=\"fill:#262626;\" transform=\"translate(28.291406 111.273639)scale(0.11 -0.11)\">\r\n       <use xlink:href=\"#ArialMT-53\"/>\r\n      </g>\r\n     </g>\r\n    </g>\r\n    <g id=\"ytick_5\">\r\n     <g id=\"text_12\">\r\n      <!-- 8 -->\r\n      <g style=\"fill:#262626;\" transform=\"translate(28.291406 139.884165)scale(0.11 -0.11)\">\r\n       <defs>\r\n        <path d=\"M 17.671875 38.8125 \r\nQ 12.203125 40.828125 9.5625 44.53125 \r\nQ 6.9375 48.25 6.9375 53.421875 \r\nQ 6.9375 61.234375 12.546875 66.546875 \r\nQ 18.171875 71.875 27.484375 71.875 \r\nQ 36.859375 71.875 42.578125 66.421875 \r\nQ 48.296875 60.984375 48.296875 53.171875 \r\nQ 48.296875 48.1875 45.671875 44.5 \r\nQ 43.0625 40.828125 37.75 38.8125 \r\nQ 44.34375 36.671875 47.78125 31.875 \r\nQ 51.21875 27.09375 51.21875 20.453125 \r\nQ 51.21875 11.28125 44.71875 5.03125 \r\nQ 38.234375 -1.21875 27.640625 -1.21875 \r\nQ 17.046875 -1.21875 10.546875 5.046875 \r\nQ 4.046875 11.328125 4.046875 20.703125 \r\nQ 4.046875 27.6875 7.59375 32.390625 \r\nQ 11.140625 37.109375 17.671875 38.8125 \r\nz\r\nM 15.921875 53.71875 \r\nQ 15.921875 48.640625 19.1875 45.40625 \r\nQ 22.46875 42.1875 27.6875 42.1875 \r\nQ 32.765625 42.1875 36.015625 45.375 \r\nQ 39.265625 48.578125 39.265625 53.21875 \r\nQ 39.265625 58.0625 35.90625 61.359375 \r\nQ 32.5625 64.65625 27.59375 64.65625 \r\nQ 22.5625 64.65625 19.234375 61.421875 \r\nQ 15.921875 58.203125 15.921875 53.71875 \r\nz\r\nM 13.09375 20.65625 \r\nQ 13.09375 16.890625 14.875 13.375 \r\nQ 16.65625 9.859375 20.171875 7.921875 \r\nQ 23.6875 6 27.734375 6 \r\nQ 34.03125 6 38.125 10.046875 \r\nQ 42.234375 14.109375 42.234375 20.359375 \r\nQ 42.234375 26.703125 38.015625 30.859375 \r\nQ 33.796875 35.015625 27.4375 35.015625 \r\nQ 21.234375 35.015625 17.15625 30.90625 \r\nQ 13.09375 26.8125 13.09375 20.65625 \r\nz\r\n\" id=\"ArialMT-56\"/>\r\n       </defs>\r\n       <use xlink:href=\"#ArialMT-56\"/>\r\n      </g>\r\n     </g>\r\n    </g>\r\n    <g id=\"ytick_6\">\r\n     <g id=\"text_13\">\r\n      <!-- 9 -->\r\n      <g style=\"fill:#262626;\" transform=\"translate(28.291406 168.494692)scale(0.11 -0.11)\">\r\n       <defs>\r\n        <path d=\"M 5.46875 16.546875 \r\nL 13.921875 17.328125 \r\nQ 14.984375 11.375 18.015625 8.6875 \r\nQ 21.046875 6 25.78125 6 \r\nQ 29.828125 6 32.875 7.859375 \r\nQ 35.9375 9.71875 37.890625 12.8125 \r\nQ 39.84375 15.921875 41.15625 21.1875 \r\nQ 42.484375 26.46875 42.484375 31.9375 \r\nQ 42.484375 32.515625 42.4375 33.6875 \r\nQ 39.796875 29.5 35.234375 26.875 \r\nQ 30.671875 24.265625 25.34375 24.265625 \r\nQ 16.453125 24.265625 10.296875 30.703125 \r\nQ 4.15625 37.15625 4.15625 47.703125 \r\nQ 4.15625 58.59375 10.578125 65.234375 \r\nQ 17 71.875 26.65625 71.875 \r\nQ 33.640625 71.875 39.421875 68.109375 \r\nQ 45.21875 64.359375 48.21875 57.390625 \r\nQ 51.21875 50.4375 51.21875 37.25 \r\nQ 51.21875 23.53125 48.234375 15.40625 \r\nQ 45.265625 7.28125 39.375 3.03125 \r\nQ 33.5 -1.21875 25.59375 -1.21875 \r\nQ 17.1875 -1.21875 11.859375 3.4375 \r\nQ 6.546875 8.109375 5.46875 16.546875 \r\nz\r\nM 41.453125 48.140625 \r\nQ 41.453125 55.71875 37.421875 60.15625 \r\nQ 33.40625 64.59375 27.734375 64.59375 \r\nQ 21.875 64.59375 17.53125 59.8125 \r\nQ 13.1875 55.03125 13.1875 47.40625 \r\nQ 13.1875 40.578125 17.3125 36.296875 \r\nQ 21.4375 32.03125 27.484375 32.03125 \r\nQ 33.59375 32.03125 37.515625 36.296875 \r\nQ 41.453125 40.578125 41.453125 48.140625 \r\nz\r\n\" id=\"ArialMT-57\"/>\r\n       </defs>\r\n       <use xlink:href=\"#ArialMT-57\"/>\r\n      </g>\r\n     </g>\r\n    </g>\r\n    <g id=\"ytick_7\">\r\n     <g id=\"text_14\">\r\n      <!-- 10 -->\r\n      <g style=\"fill:#262626;\" transform=\"translate(22.174375 197.105218)scale(0.11 -0.11)\">\r\n       <use xlink:href=\"#ArialMT-49\"/>\r\n       <use x=\"55.615234\" xlink:href=\"#ArialMT-48\"/>\r\n      </g>\r\n     </g>\r\n    </g>\r\n    <g id=\"ytick_8\">\r\n     <g id=\"text_15\">\r\n      <!-- 11 -->\r\n      <g style=\"fill:#262626;\" transform=\"translate(22.985625 225.715744)scale(0.11 -0.11)\">\r\n       <use xlink:href=\"#ArialMT-49\"/>\r\n       <use x=\"48.240234\" xlink:href=\"#ArialMT-49\"/>\r\n      </g>\r\n     </g>\r\n    </g>\r\n    <g id=\"ytick_9\">\r\n     <g id=\"text_16\">\r\n      <!-- 12 -->\r\n      <g style=\"fill:#262626;\" transform=\"translate(22.174375 254.326271)scale(0.11 -0.11)\">\r\n       <use xlink:href=\"#ArialMT-49\"/>\r\n       <use x=\"55.615234\" xlink:href=\"#ArialMT-50\"/>\r\n      </g>\r\n     </g>\r\n    </g>\r\n    <g id=\"ytick_10\">\r\n     <g id=\"text_17\">\r\n      <!-- 13 -->\r\n      <g style=\"fill:#262626;\" transform=\"translate(22.174375 282.936797)scale(0.11 -0.11)\">\r\n       <use xlink:href=\"#ArialMT-49\"/>\r\n       <use x=\"55.615234\" xlink:href=\"#ArialMT-51\"/>\r\n      </g>\r\n     </g>\r\n    </g>\r\n    <g id=\"ytick_11\">\r\n     <g id=\"text_18\">\r\n      <!-- 14 -->\r\n      <g style=\"fill:#262626;\" transform=\"translate(22.174375 311.547323)scale(0.11 -0.11)\">\r\n       <use xlink:href=\"#ArialMT-49\"/>\r\n       <use x=\"55.615234\" xlink:href=\"#ArialMT-52\"/>\r\n      </g>\r\n     </g>\r\n    </g>\r\n    <g id=\"ytick_12\">\r\n     <g id=\"text_19\">\r\n      <!-- 15 -->\r\n      <g style=\"fill:#262626;\" transform=\"translate(22.174375 340.15785)scale(0.11 -0.11)\">\r\n       <use xlink:href=\"#ArialMT-49\"/>\r\n       <use x=\"55.615234\" xlink:href=\"#ArialMT-53\"/>\r\n      </g>\r\n     </g>\r\n    </g>\r\n    <g id=\"ytick_13\">\r\n     <g id=\"text_20\">\r\n      <!-- 16 -->\r\n      <g style=\"fill:#262626;\" transform=\"translate(22.174375 368.768376)scale(0.11 -0.11)\">\r\n       <defs>\r\n        <path d=\"M 49.75 54.046875 \r\nL 41.015625 53.375 \r\nQ 39.84375 58.546875 37.703125 60.890625 \r\nQ 34.125 64.65625 28.90625 64.65625 \r\nQ 24.703125 64.65625 21.53125 62.3125 \r\nQ 17.390625 59.28125 14.984375 53.46875 \r\nQ 12.59375 47.65625 12.5 36.921875 \r\nQ 15.671875 41.75 20.265625 44.09375 \r\nQ 24.859375 46.4375 29.890625 46.4375 \r\nQ 38.671875 46.4375 44.84375 39.96875 \r\nQ 51.03125 33.5 51.03125 23.25 \r\nQ 51.03125 16.5 48.125 10.71875 \r\nQ 45.21875 4.9375 40.140625 1.859375 \r\nQ 35.0625 -1.21875 28.609375 -1.21875 \r\nQ 17.625 -1.21875 10.6875 6.859375 \r\nQ 3.765625 14.9375 3.765625 33.5 \r\nQ 3.765625 54.25 11.421875 63.671875 \r\nQ 18.109375 71.875 29.4375 71.875 \r\nQ 37.890625 71.875 43.28125 67.140625 \r\nQ 48.6875 62.40625 49.75 54.046875 \r\nz\r\nM 13.875 23.1875 \r\nQ 13.875 18.65625 15.796875 14.5 \r\nQ 17.71875 10.359375 21.1875 8.171875 \r\nQ 24.65625 6 28.46875 6 \r\nQ 34.03125 6 38.03125 10.484375 \r\nQ 42.046875 14.984375 42.046875 22.703125 \r\nQ 42.046875 30.125 38.078125 34.390625 \r\nQ 34.125 38.671875 28.125 38.671875 \r\nQ 22.171875 38.671875 18.015625 34.390625 \r\nQ 13.875 30.125 13.875 23.1875 \r\nz\r\n\" id=\"ArialMT-54\"/>\r\n       </defs>\r\n       <use xlink:href=\"#ArialMT-49\"/>\r\n       <use x=\"55.615234\" xlink:href=\"#ArialMT-54\"/>\r\n      </g>\r\n     </g>\r\n    </g>\r\n    <g id=\"ytick_14\">\r\n     <g id=\"text_21\">\r\n      <!-- 17 -->\r\n      <g style=\"fill:#262626;\" transform=\"translate(22.174375 397.378902)scale(0.11 -0.11)\">\r\n       <defs>\r\n        <path d=\"M 4.734375 62.203125 \r\nL 4.734375 70.65625 \r\nL 51.078125 70.65625 \r\nL 51.078125 63.8125 \r\nQ 44.234375 56.546875 37.515625 44.484375 \r\nQ 30.8125 32.421875 27.15625 19.671875 \r\nQ 24.515625 10.6875 23.78125 0 \r\nL 14.75 0 \r\nQ 14.890625 8.453125 18.0625 20.40625 \r\nQ 21.234375 32.375 27.171875 43.484375 \r\nQ 33.109375 54.59375 39.796875 62.203125 \r\nz\r\n\" id=\"ArialMT-55\"/>\r\n       </defs>\r\n       <use xlink:href=\"#ArialMT-49\"/>\r\n       <use x=\"55.615234\" xlink:href=\"#ArialMT-55\"/>\r\n      </g>\r\n     </g>\r\n    </g>\r\n    <g id=\"ytick_15\">\r\n     <g id=\"text_22\">\r\n      <!-- 18 -->\r\n      <g style=\"fill:#262626;\" transform=\"translate(22.174375 425.989428)scale(0.11 -0.11)\">\r\n       <use xlink:href=\"#ArialMT-49\"/>\r\n       <use x=\"55.615234\" xlink:href=\"#ArialMT-56\"/>\r\n      </g>\r\n     </g>\r\n    </g>\r\n    <g id=\"ytick_16\">\r\n     <g id=\"text_23\">\r\n      <!-- 19 -->\r\n      <g style=\"fill:#262626;\" transform=\"translate(22.174375 454.599955)scale(0.11 -0.11)\">\r\n       <use xlink:href=\"#ArialMT-49\"/>\r\n       <use x=\"55.615234\" xlink:href=\"#ArialMT-57\"/>\r\n      </g>\r\n     </g>\r\n    </g>\r\n    <g id=\"ytick_17\">\r\n     <g id=\"text_24\">\r\n      <!-- 20 -->\r\n      <g style=\"fill:#262626;\" transform=\"translate(22.174375 483.210481)scale(0.11 -0.11)\">\r\n       <use xlink:href=\"#ArialMT-50\"/>\r\n       <use x=\"55.615234\" xlink:href=\"#ArialMT-48\"/>\r\n      </g>\r\n     </g>\r\n    </g>\r\n    <g id=\"ytick_18\">\r\n     <g id=\"text_25\">\r\n      <!-- 21 -->\r\n      <g style=\"fill:#262626;\" transform=\"translate(22.174375 511.821007)scale(0.11 -0.11)\">\r\n       <use xlink:href=\"#ArialMT-50\"/>\r\n       <use x=\"55.615234\" xlink:href=\"#ArialMT-49\"/>\r\n      </g>\r\n     </g>\r\n    </g>\r\n    <g id=\"ytick_19\">\r\n     <g id=\"text_26\">\r\n      <!-- 22 -->\r\n      <g style=\"fill:#262626;\" transform=\"translate(22.174375 540.431534)scale(0.11 -0.11)\">\r\n       <use xlink:href=\"#ArialMT-50\"/>\r\n       <use x=\"55.615234\" xlink:href=\"#ArialMT-50\"/>\r\n      </g>\r\n     </g>\r\n    </g>\r\n    <g id=\"ytick_20\">\r\n     <g id=\"text_27\">\r\n      <!-- 23 -->\r\n      <g style=\"fill:#262626;\" transform=\"translate(22.174375 569.04206)scale(0.11 -0.11)\">\r\n       <use xlink:href=\"#ArialMT-50\"/>\r\n       <use x=\"55.615234\" xlink:href=\"#ArialMT-51\"/>\r\n      </g>\r\n     </g>\r\n    </g>\r\n    <g id=\"ytick_21\">\r\n     <g id=\"text_28\">\r\n      <!-- 24 -->\r\n      <g style=\"fill:#262626;\" transform=\"translate(22.174375 597.652586)scale(0.11 -0.11)\">\r\n       <use xlink:href=\"#ArialMT-50\"/>\r\n       <use x=\"55.615234\" xlink:href=\"#ArialMT-52\"/>\r\n      </g>\r\n     </g>\r\n    </g>\r\n    <g id=\"ytick_22\">\r\n     <g id=\"text_29\">\r\n      <!-- 25 -->\r\n      <g style=\"fill:#262626;\" transform=\"translate(22.174375 626.263113)scale(0.11 -0.11)\">\r\n       <use xlink:href=\"#ArialMT-50\"/>\r\n       <use x=\"55.615234\" xlink:href=\"#ArialMT-53\"/>\r\n      </g>\r\n     </g>\r\n    </g>\r\n    <g id=\"ytick_23\">\r\n     <g id=\"text_30\">\r\n      <!-- 26 -->\r\n      <g style=\"fill:#262626;\" transform=\"translate(22.174375 654.873639)scale(0.11 -0.11)\">\r\n       <use xlink:href=\"#ArialMT-50\"/>\r\n       <use x=\"55.615234\" xlink:href=\"#ArialMT-54\"/>\r\n      </g>\r\n     </g>\r\n    </g>\r\n    <g id=\"ytick_24\">\r\n     <g id=\"text_31\">\r\n      <!-- 27 -->\r\n      <g style=\"fill:#262626;\" transform=\"translate(22.174375 683.484165)scale(0.11 -0.11)\">\r\n       <use xlink:href=\"#ArialMT-50\"/>\r\n       <use x=\"55.615234\" xlink:href=\"#ArialMT-55\"/>\r\n      </g>\r\n     </g>\r\n    </g>\r\n    <g id=\"ytick_25\">\r\n     <g id=\"text_32\">\r\n      <!-- 28 -->\r\n      <g style=\"fill:#262626;\" transform=\"translate(22.174375 712.094692)scale(0.11 -0.11)\">\r\n       <use xlink:href=\"#ArialMT-50\"/>\r\n       <use x=\"55.615234\" xlink:href=\"#ArialMT-56\"/>\r\n      </g>\r\n     </g>\r\n    </g>\r\n    <g id=\"ytick_26\">\r\n     <g id=\"text_33\">\r\n      <!-- 29 -->\r\n      <g style=\"fill:#262626;\" transform=\"translate(22.174375 740.705218)scale(0.11 -0.11)\">\r\n       <use xlink:href=\"#ArialMT-50\"/>\r\n       <use x=\"55.615234\" xlink:href=\"#ArialMT-57\"/>\r\n      </g>\r\n     </g>\r\n    </g>\r\n    <g id=\"ytick_27\">\r\n     <g id=\"text_34\">\r\n      <!-- 30 -->\r\n      <g style=\"fill:#262626;\" transform=\"translate(22.174375 769.315744)scale(0.11 -0.11)\">\r\n       <use xlink:href=\"#ArialMT-51\"/>\r\n       <use x=\"55.615234\" xlink:href=\"#ArialMT-48\"/>\r\n      </g>\r\n     </g>\r\n    </g>\r\n    <g id=\"ytick_28\">\r\n     <g id=\"text_35\">\r\n      <!-- 31 -->\r\n      <g style=\"fill:#262626;\" transform=\"translate(22.174375 797.926271)scale(0.11 -0.11)\">\r\n       <use xlink:href=\"#ArialMT-51\"/>\r\n       <use x=\"55.615234\" xlink:href=\"#ArialMT-49\"/>\r\n      </g>\r\n     </g>\r\n    </g>\r\n    <g id=\"ytick_29\">\r\n     <g id=\"text_36\">\r\n      <!-- 32 -->\r\n      <g style=\"fill:#262626;\" transform=\"translate(22.174375 826.536797)scale(0.11 -0.11)\">\r\n       <use xlink:href=\"#ArialMT-51\"/>\r\n       <use x=\"55.615234\" xlink:href=\"#ArialMT-50\"/>\r\n      </g>\r\n     </g>\r\n    </g>\r\n    <g id=\"ytick_30\">\r\n     <g id=\"text_37\">\r\n      <!-- 34 -->\r\n      <g style=\"fill:#262626;\" transform=\"translate(22.174375 855.147323)scale(0.11 -0.11)\">\r\n       <use xlink:href=\"#ArialMT-51\"/>\r\n       <use x=\"55.615234\" xlink:href=\"#ArialMT-52\"/>\r\n      </g>\r\n     </g>\r\n    </g>\r\n    <g id=\"ytick_31\">\r\n     <g id=\"text_38\">\r\n      <!-- 35 -->\r\n      <g style=\"fill:#262626;\" transform=\"translate(22.174375 883.75785)scale(0.11 -0.11)\">\r\n       <use xlink:href=\"#ArialMT-51\"/>\r\n       <use x=\"55.615234\" xlink:href=\"#ArialMT-53\"/>\r\n      </g>\r\n     </g>\r\n    </g>\r\n    <g id=\"ytick_32\">\r\n     <g id=\"text_39\">\r\n      <!-- 36 -->\r\n      <g style=\"fill:#262626;\" transform=\"translate(22.174375 912.368376)scale(0.11 -0.11)\">\r\n       <use xlink:href=\"#ArialMT-51\"/>\r\n       <use x=\"55.615234\" xlink:href=\"#ArialMT-54\"/>\r\n      </g>\r\n     </g>\r\n    </g>\r\n    <g id=\"ytick_33\">\r\n     <g id=\"text_40\">\r\n      <!-- 37 -->\r\n      <g style=\"fill:#262626;\" transform=\"translate(22.174375 940.978902)scale(0.11 -0.11)\">\r\n       <use xlink:href=\"#ArialMT-51\"/>\r\n       <use x=\"55.615234\" xlink:href=\"#ArialMT-55\"/>\r\n      </g>\r\n     </g>\r\n    </g>\r\n    <g id=\"ytick_34\">\r\n     <g id=\"text_41\">\r\n      <!-- 38 -->\r\n      <g style=\"fill:#262626;\" transform=\"translate(22.174375 969.589428)scale(0.11 -0.11)\">\r\n       <use xlink:href=\"#ArialMT-51\"/>\r\n       <use x=\"55.615234\" xlink:href=\"#ArialMT-56\"/>\r\n      </g>\r\n     </g>\r\n    </g>\r\n    <g id=\"ytick_35\">\r\n     <g id=\"text_42\">\r\n      <!-- 39 -->\r\n      <g style=\"fill:#262626;\" transform=\"translate(22.174375 998.199955)scale(0.11 -0.11)\">\r\n       <use xlink:href=\"#ArialMT-51\"/>\r\n       <use x=\"55.615234\" xlink:href=\"#ArialMT-57\"/>\r\n      </g>\r\n     </g>\r\n    </g>\r\n    <g id=\"ytick_36\">\r\n     <g id=\"text_43\">\r\n      <!-- 40 -->\r\n      <g style=\"fill:#262626;\" transform=\"translate(22.174375 1026.810481)scale(0.11 -0.11)\">\r\n       <use xlink:href=\"#ArialMT-52\"/>\r\n       <use x=\"55.615234\" xlink:href=\"#ArialMT-48\"/>\r\n      </g>\r\n     </g>\r\n    </g>\r\n    <g id=\"ytick_37\">\r\n     <g id=\"text_44\">\r\n      <!-- 41 -->\r\n      <g style=\"fill:#262626;\" transform=\"translate(22.174375 1055.421007)scale(0.11 -0.11)\">\r\n       <use xlink:href=\"#ArialMT-52\"/>\r\n       <use x=\"55.615234\" xlink:href=\"#ArialMT-49\"/>\r\n      </g>\r\n     </g>\r\n    </g>\r\n    <g id=\"ytick_38\">\r\n     <g id=\"text_45\">\r\n      <!-- 42 -->\r\n      <g style=\"fill:#262626;\" transform=\"translate(22.174375 1084.031534)scale(0.11 -0.11)\">\r\n       <use xlink:href=\"#ArialMT-52\"/>\r\n       <use x=\"55.615234\" xlink:href=\"#ArialMT-50\"/>\r\n      </g>\r\n     </g>\r\n    </g>\r\n    <g id=\"text_46\">\r\n     <!-- FireStation -->\r\n     <g style=\"fill:#262626;\" transform=\"translate(15.789375 579.810938)rotate(-90)scale(0.12 -0.12)\">\r\n      <defs>\r\n       <path d=\"M 8.203125 0 \r\nL 8.203125 71.578125 \r\nL 56.5 71.578125 \r\nL 56.5 63.140625 \r\nL 17.671875 63.140625 \r\nL 17.671875 40.96875 \r\nL 51.265625 40.96875 \r\nL 51.265625 32.515625 \r\nL 17.671875 32.515625 \r\nL 17.671875 0 \r\nz\r\n\" id=\"ArialMT-70\"/>\r\n       <path d=\"M 6.640625 61.46875 \r\nL 6.640625 71.578125 \r\nL 15.4375 71.578125 \r\nL 15.4375 61.46875 \r\nz\r\nM 6.640625 0 \r\nL 6.640625 51.859375 \r\nL 15.4375 51.859375 \r\nL 15.4375 0 \r\nz\r\n\" id=\"ArialMT-105\"/>\r\n       <path d=\"M 6.5 0 \r\nL 6.5 51.859375 \r\nL 14.40625 51.859375 \r\nL 14.40625 44 \r\nQ 17.4375 49.515625 20 51.265625 \r\nQ 22.5625 53.03125 25.640625 53.03125 \r\nQ 30.078125 53.03125 34.671875 50.203125 \r\nL 31.640625 42.046875 \r\nQ 28.421875 43.953125 25.203125 43.953125 \r\nQ 22.3125 43.953125 20.015625 42.21875 \r\nQ 17.71875 40.484375 16.75 37.40625 \r\nQ 15.28125 32.71875 15.28125 27.15625 \r\nL 15.28125 0 \r\nz\r\n\" id=\"ArialMT-114\"/>\r\n       <path d=\"M 42.09375 16.703125 \r\nL 51.171875 15.578125 \r\nQ 49.03125 7.625 43.21875 3.21875 \r\nQ 37.40625 -1.171875 28.375 -1.171875 \r\nQ 17 -1.171875 10.328125 5.828125 \r\nQ 3.65625 12.84375 3.65625 25.484375 \r\nQ 3.65625 38.578125 10.390625 45.796875 \r\nQ 17.140625 53.03125 27.875 53.03125 \r\nQ 38.28125 53.03125 44.875 45.953125 \r\nQ 51.46875 38.875 51.46875 26.03125 \r\nQ 51.46875 25.25 51.421875 23.6875 \r\nL 12.75 23.6875 \r\nQ 13.234375 15.140625 17.578125 10.59375 \r\nQ 21.921875 6.0625 28.421875 6.0625 \r\nQ 33.25 6.0625 36.671875 8.59375 \r\nQ 40.09375 11.140625 42.09375 16.703125 \r\nz\r\nM 13.234375 30.90625 \r\nL 42.1875 30.90625 \r\nQ 41.609375 37.453125 38.875 40.71875 \r\nQ 34.671875 45.796875 27.984375 45.796875 \r\nQ 21.921875 45.796875 17.796875 41.75 \r\nQ 13.671875 37.703125 13.234375 30.90625 \r\nz\r\n\" id=\"ArialMT-101\"/>\r\n       <path d=\"M 4.5 23 \r\nL 13.421875 23.78125 \r\nQ 14.0625 18.40625 16.375 14.96875 \r\nQ 18.703125 11.53125 23.578125 9.40625 \r\nQ 28.46875 7.28125 34.578125 7.28125 \r\nQ 39.984375 7.28125 44.140625 8.890625 \r\nQ 48.296875 10.5 50.3125 13.296875 \r\nQ 52.34375 16.109375 52.34375 19.4375 \r\nQ 52.34375 22.796875 50.390625 25.3125 \r\nQ 48.4375 27.828125 43.953125 29.546875 \r\nQ 41.0625 30.671875 31.203125 33.03125 \r\nQ 21.34375 35.40625 17.390625 37.5 \r\nQ 12.25 40.1875 9.734375 44.15625 \r\nQ 7.234375 48.140625 7.234375 53.078125 \r\nQ 7.234375 58.5 10.296875 63.203125 \r\nQ 13.375 67.921875 19.28125 70.359375 \r\nQ 25.203125 72.796875 32.421875 72.796875 \r\nQ 40.375 72.796875 46.453125 70.234375 \r\nQ 52.546875 67.671875 55.8125 62.6875 \r\nQ 59.078125 57.71875 59.328125 51.421875 \r\nL 50.25 50.734375 \r\nQ 49.515625 57.515625 45.28125 60.984375 \r\nQ 41.0625 64.453125 32.8125 64.453125 \r\nQ 24.21875 64.453125 20.28125 61.296875 \r\nQ 16.359375 58.15625 16.359375 53.71875 \r\nQ 16.359375 49.859375 19.140625 47.359375 \r\nQ 21.875 44.875 33.421875 42.265625 \r\nQ 44.96875 39.65625 49.265625 37.703125 \r\nQ 55.515625 34.8125 58.484375 30.390625 \r\nQ 61.46875 25.984375 61.46875 20.21875 \r\nQ 61.46875 14.5 58.203125 9.4375 \r\nQ 54.9375 4.390625 48.796875 1.578125 \r\nQ 42.671875 -1.21875 35.015625 -1.21875 \r\nQ 25.296875 -1.21875 18.71875 1.609375 \r\nQ 12.15625 4.4375 8.421875 10.125 \r\nQ 4.6875 15.828125 4.5 23 \r\nz\r\n\" id=\"ArialMT-83\"/>\r\n       <path d=\"M 40.4375 6.390625 \r\nQ 35.546875 2.25 31.03125 0.53125 \r\nQ 26.515625 -1.171875 21.34375 -1.171875 \r\nQ 12.796875 -1.171875 8.203125 3 \r\nQ 3.609375 7.171875 3.609375 13.671875 \r\nQ 3.609375 17.484375 5.34375 20.625 \r\nQ 7.078125 23.78125 9.890625 25.6875 \r\nQ 12.703125 27.59375 16.21875 28.5625 \r\nQ 18.796875 29.25 24.03125 29.890625 \r\nQ 34.671875 31.15625 39.703125 32.90625 \r\nQ 39.75 34.71875 39.75 35.203125 \r\nQ 39.75 40.578125 37.25 42.78125 \r\nQ 33.890625 45.75 27.25 45.75 \r\nQ 21.046875 45.75 18.09375 43.578125 \r\nQ 15.140625 41.40625 13.71875 35.890625 \r\nL 5.125 37.0625 \r\nQ 6.296875 42.578125 8.984375 45.96875 \r\nQ 11.671875 49.359375 16.75 51.1875 \r\nQ 21.828125 53.03125 28.515625 53.03125 \r\nQ 35.15625 53.03125 39.296875 51.46875 \r\nQ 43.453125 49.90625 45.40625 47.53125 \r\nQ 47.359375 45.171875 48.140625 41.546875 \r\nQ 48.578125 39.3125 48.578125 33.453125 \r\nL 48.578125 21.734375 \r\nQ 48.578125 9.46875 49.140625 6.21875 \r\nQ 49.703125 2.984375 51.375 0 \r\nL 42.1875 0 \r\nQ 40.828125 2.734375 40.4375 6.390625 \r\nz\r\nM 39.703125 26.03125 \r\nQ 34.90625 24.078125 25.34375 22.703125 \r\nQ 19.921875 21.921875 17.671875 20.9375 \r\nQ 15.4375 19.96875 14.203125 18.09375 \r\nQ 12.984375 16.21875 12.984375 13.921875 \r\nQ 12.984375 10.40625 15.640625 8.0625 \r\nQ 18.3125 5.71875 23.4375 5.71875 \r\nQ 28.515625 5.71875 32.46875 7.9375 \r\nQ 36.421875 10.15625 38.28125 14.015625 \r\nQ 39.703125 17 39.703125 22.796875 \r\nz\r\n\" id=\"ArialMT-97\"/>\r\n      </defs>\r\n      <use xlink:href=\"#ArialMT-70\"/>\r\n      <use x=\"61.083984\" xlink:href=\"#ArialMT-105\"/>\r\n      <use x=\"83.300781\" xlink:href=\"#ArialMT-114\"/>\r\n      <use x=\"116.601562\" xlink:href=\"#ArialMT-101\"/>\r\n      <use x=\"172.216797\" xlink:href=\"#ArialMT-83\"/>\r\n      <use x=\"238.916016\" xlink:href=\"#ArialMT-116\"/>\r\n      <use x=\"266.699219\" xlink:href=\"#ArialMT-97\"/>\r\n      <use x=\"322.314453\" xlink:href=\"#ArialMT-116\"/>\r\n      <use x=\"350.097656\" xlink:href=\"#ArialMT-105\"/>\r\n      <use x=\"372.314453\" xlink:href=\"#ArialMT-111\"/>\r\n      <use x=\"427.929688\" xlink:href=\"#ArialMT-110\"/>\r\n     </g>\r\n    </g>\r\n   </g>\r\n   <g id=\"patch_3\">\r\n    <path clip-path=\"url(#p65d25428b4)\" d=\"M 43.908437 10.061053 \r\nL 293.518827 10.061053 \r\nL 293.518827 15.783158 \r\nL 43.908437 15.783158 \r\nz\r\n\" style=\"fill:#2b8e70;stroke:#ffffff;stroke-linejoin:miter;\"/>\r\n   </g>\r\n   <g id=\"patch_4\">\r\n    <path clip-path=\"url(#p65d25428b4)\" d=\"M 43.908437 38.671579 \r\nL 222.374903 38.671579 \r\nL 222.374903 44.393684 \r\nL 43.908437 44.393684 \r\nz\r\n\" style=\"fill:#2b8e70;stroke:#ffffff;stroke-linejoin:miter;\"/>\r\n   </g>\r\n   <g id=\"patch_5\">\r\n    <path clip-path=\"url(#p65d25428b4)\" d=\"M 43.908437 67.282105 \r\nL 297.269049 67.282105 \r\nL 297.269049 73.004211 \r\nL 43.908437 73.004211 \r\nz\r\n\" style=\"fill:#2b8e70;stroke:#ffffff;stroke-linejoin:miter;\"/>\r\n   </g>\r\n   <g id=\"patch_6\">\r\n    <path clip-path=\"url(#p65d25428b4)\" d=\"M 43.908437 95.892632 \r\nL 340.506908 95.892632 \r\nL 340.506908 101.614737 \r\nL 43.908437 101.614737 \r\nz\r\n\" style=\"fill:#2b8e70;stroke:#ffffff;stroke-linejoin:miter;\"/>\r\n   </g>\r\n   <g id=\"patch_7\">\r\n    <path clip-path=\"url(#p65d25428b4)\" d=\"M 43.908437 124.503158 \r\nL 519.855778 124.503158 \r\nL 519.855778 130.225263 \r\nL 43.908437 130.225263 \r\nz\r\n\" style=\"fill:#2b8e70;stroke:#ffffff;stroke-linejoin:miter;\"/>\r\n   </g>\r\n   <g id=\"patch_8\">\r\n    <path clip-path=\"url(#p65d25428b4)\" d=\"M 43.908437 153.113684 \r\nL 503.200378 153.113684 \r\nL 503.200378 158.835789 \r\nL 43.908437 158.835789 \r\nz\r\n\" style=\"fill:#2b8e70;stroke:#ffffff;stroke-linejoin:miter;\"/>\r\n   </g>\r\n   <g id=\"patch_9\">\r\n    <path clip-path=\"url(#p65d25428b4)\" d=\"M 43.908437 181.724211 \r\nL 555.151988 181.724211 \r\nL 555.151988 187.446316 \r\nL 43.908437 187.446316 \r\nz\r\n\" style=\"fill:#2b8e70;stroke:#ffffff;stroke-linejoin:miter;\"/>\r\n   </g>\r\n   <g id=\"patch_10\">\r\n    <path clip-path=\"url(#p65d25428b4)\" d=\"M 43.908437 210.334737 \r\nL 575.337009 210.334737 \r\nL 575.337009 216.056842 \r\nL 43.908437 216.056842 \r\nz\r\n\" style=\"fill:#2b8e70;stroke:#ffffff;stroke-linejoin:miter;\"/>\r\n   </g>\r\n   <g id=\"patch_11\">\r\n    <path clip-path=\"url(#p65d25428b4)\" d=\"M 43.908437 238.945263 \r\nL 105.345904 238.945263 \r\nL 105.345904 244.667368 \r\nL 43.908437 244.667368 \r\nz\r\n\" style=\"fill:#2b8e70;stroke:#ffffff;stroke-linejoin:miter;\"/>\r\n   </g>\r\n   <g id=\"patch_12\">\r\n    <path clip-path=\"url(#p65d25428b4)\" d=\"M 43.908437 267.555789 \r\nL 311.497834 267.555789 \r\nL 311.497834 273.277895 \r\nL 43.908437 273.277895 \r\nz\r\n\" style=\"fill:#2b8e70;stroke:#ffffff;stroke-linejoin:miter;\"/>\r\n   </g>\r\n   <g id=\"patch_13\">\r\n    <path clip-path=\"url(#p65d25428b4)\" d=\"M 43.908437 296.166316 \r\nL 274.547114 296.166316 \r\nL 274.547114 301.888421 \r\nL 43.908437 301.888421 \r\nz\r\n\" style=\"fill:#2b8e70;stroke:#ffffff;stroke-linejoin:miter;\"/>\r\n   </g>\r\n   <g id=\"patch_14\">\r\n    <path clip-path=\"url(#p65d25428b4)\" d=\"M 43.908437 324.776842 \r\nL 294.511533 324.776842 \r\nL 294.511533 330.498947 \r\nL 43.908437 330.498947 \r\nz\r\n\" style=\"fill:#2b8e70;stroke:#ffffff;stroke-linejoin:miter;\"/>\r\n   </g>\r\n   <g id=\"patch_15\">\r\n    <path clip-path=\"url(#p65d25428b4)\" d=\"M 43.908437 353.387368 \r\nL 92.109825 353.387368 \r\nL 92.109825 359.109474 \r\nL 43.908437 359.109474 \r\nz\r\n\" style=\"fill:#2b8e70;stroke:#ffffff;stroke-linejoin:miter;\"/>\r\n   </g>\r\n   <g id=\"patch_16\">\r\n    <path clip-path=\"url(#p65d25428b4)\" d=\"M 43.908437 381.997895 \r\nL 302.34288 381.997895 \r\nL 302.34288 387.72 \r\nL 43.908437 387.72 \r\nz\r\n\" style=\"fill:#2b8e70;stroke:#ffffff;stroke-linejoin:miter;\"/>\r\n   </g>\r\n   <g id=\"patch_17\">\r\n    <path clip-path=\"url(#p65d25428b4)\" d=\"M 43.908437 410.608421 \r\nL 273.554408 410.608421 \r\nL 273.554408 416.330526 \r\nL 43.908437 416.330526 \r\nz\r\n\" style=\"fill:#2b8e70;stroke:#ffffff;stroke-linejoin:miter;\"/>\r\n   </g>\r\n   <g id=\"patch_18\">\r\n    <path clip-path=\"url(#p65d25428b4)\" d=\"M 43.908437 439.218947 \r\nL 270.57629 439.218947 \r\nL 270.57629 444.941053 \r\nL 43.908437 444.941053 \r\nz\r\n\" style=\"fill:#2b8e70;stroke:#ffffff;stroke-linejoin:miter;\"/>\r\n   </g>\r\n   <g id=\"patch_19\">\r\n    <path clip-path=\"url(#p65d25428b4)\" d=\"M 43.908437 467.829474 \r\nL 101.154479 467.829474 \r\nL 101.154479 473.551579 \r\nL 43.908437 473.551579 \r\nz\r\n\" style=\"fill:#2b8e70;stroke:#ffffff;stroke-linejoin:miter;\"/>\r\n   </g>\r\n   <g id=\"patch_20\">\r\n    <path clip-path=\"url(#p65d25428b4)\" d=\"M 43.908437 496.44 \r\nL 310.174227 496.44 \r\nL 310.174227 502.162105 \r\nL 43.908437 502.162105 \r\nz\r\n\" style=\"fill:#2b8e70;stroke:#ffffff;stroke-linejoin:miter;\"/>\r\n   </g>\r\n   <g id=\"patch_21\">\r\n    <path clip-path=\"url(#p65d25428b4)\" d=\"M 43.908437 525.050526 \r\nL 385.178674 525.050526 \r\nL 385.178674 530.772632 \r\nL 43.908437 530.772632 \r\nz\r\n\" style=\"fill:#2b8e70;stroke:#ffffff;stroke-linejoin:miter;\"/>\r\n   </g>\r\n   <g id=\"patch_22\">\r\n    <path clip-path=\"url(#p65d25428b4)\" d=\"M 43.908437 553.661053 \r\nL 255.354799 553.661053 \r\nL 255.354799 559.383158 \r\nL 43.908437 559.383158 \r\nz\r\n\" style=\"fill:#2b8e70;stroke:#ffffff;stroke-linejoin:miter;\"/>\r\n   </g>\r\n   <g id=\"patch_23\">\r\n    <path clip-path=\"url(#p65d25428b4)\" d=\"M 43.908437 582.271579 \r\nL 247.523453 582.271579 \r\nL 247.523453 587.993684 \r\nL 43.908437 587.993684 \r\nz\r\n\" style=\"fill:#2b8e70;stroke:#ffffff;stroke-linejoin:miter;\"/>\r\n   </g>\r\n   <g id=\"patch_24\">\r\n    <path clip-path=\"url(#p65d25428b4)\" d=\"M 43.908437 610.882105 \r\nL 310.505128 610.882105 \r\nL 310.505128 616.604211 \r\nL 43.908437 616.604211 \r\nz\r\n\" style=\"fill:#2b8e70;stroke:#ffffff;stroke-linejoin:miter;\"/>\r\n   </g>\r\n   <g id=\"patch_25\">\r\n    <path clip-path=\"url(#p65d25428b4)\" d=\"M 43.908437 639.492632 \r\nL 318.998279 639.492632 \r\nL 318.998279 645.214737 \r\nL 43.908437 645.214737 \r\nz\r\n\" style=\"fill:#2b8e70;stroke:#ffffff;stroke-linejoin:miter;\"/>\r\n   </g>\r\n   <g id=\"patch_26\">\r\n    <path clip-path=\"url(#p65d25428b4)\" d=\"M 43.908437 668.103158 \r\nL 265.281859 668.103158 \r\nL 265.281859 673.825263 \r\nL 43.908437 673.825263 \r\nz\r\n\" style=\"fill:#2b8e70;stroke:#ffffff;stroke-linejoin:miter;\"/>\r\n   </g>\r\n   <g id=\"patch_27\">\r\n    <path clip-path=\"url(#p65d25428b4)\" d=\"M 43.908437 696.713684 \r\nL 277.856134 696.713684 \r\nL 277.856134 702.435789 \r\nL 43.908437 702.435789 \r\nz\r\n\" style=\"fill:#2b8e70;stroke:#ffffff;stroke-linejoin:miter;\"/>\r\n   </g>\r\n   <g id=\"patch_28\">\r\n    <path clip-path=\"url(#p65d25428b4)\" d=\"M 43.908437 725.324211 \r\nL 304.328292 725.324211 \r\nL 304.328292 731.046316 \r\nL 43.908437 731.046316 \r\nz\r\n\" style=\"fill:#2b8e70;stroke:#ffffff;stroke-linejoin:miter;\"/>\r\n   </g>\r\n   <g id=\"patch_29\">\r\n    <path clip-path=\"url(#p65d25428b4)\" d=\"M 43.908437 753.934737 \r\nL 345.139535 753.934737 \r\nL 345.139535 759.656842 \r\nL 43.908437 759.656842 \r\nz\r\n\" style=\"fill:#2b8e70;stroke:#ffffff;stroke-linejoin:miter;\"/>\r\n   </g>\r\n   <g id=\"patch_30\">\r\n    <path clip-path=\"url(#p65d25428b4)\" d=\"M 43.908437 782.545263 \r\nL 231.860759 782.545263 \r\nL 231.860759 788.267368 \r\nL 43.908437 788.267368 \r\nz\r\n\" style=\"fill:#2b8e70;stroke:#ffffff;stroke-linejoin:miter;\"/>\r\n   </g>\r\n   <g id=\"patch_31\">\r\n    <path clip-path=\"url(#p65d25428b4)\" d=\"M 43.908437 811.155789 \r\nL 223.69851 811.155789 \r\nL 223.69851 816.877895 \r\nL 43.908437 816.877895 \r\nz\r\n\" style=\"fill:#2b8e70;stroke:#ffffff;stroke-linejoin:miter;\"/>\r\n   </g>\r\n   <g id=\"patch_32\">\r\n    <path clip-path=\"url(#p65d25428b4)\" d=\"M 43.908437 839.766316 \r\nL 243.442328 839.766316 \r\nL 243.442328 845.488421 \r\nL 43.908437 845.488421 \r\nz\r\n\" style=\"fill:#2b8e70;stroke:#ffffff;stroke-linejoin:miter;\"/>\r\n   </g>\r\n   <g id=\"patch_33\">\r\n    <path clip-path=\"url(#p65d25428b4)\" d=\"M 43.908437 868.376842 \r\nL 212.778745 868.376842 \r\nL 212.778745 874.098947 \r\nL 43.908437 874.098947 \r\nz\r\n\" style=\"fill:#2b8e70;stroke:#ffffff;stroke-linejoin:miter;\"/>\r\n   </g>\r\n   <g id=\"patch_34\">\r\n    <path clip-path=\"url(#p65d25428b4)\" d=\"M 43.908437 896.987368 \r\nL 258.663819 896.987368 \r\nL 258.663819 902.709474 \r\nL 43.908437 902.709474 \r\nz\r\n\" style=\"fill:#2b8e70;stroke:#ffffff;stroke-linejoin:miter;\"/>\r\n   </g>\r\n   <g id=\"patch_35\">\r\n    <path clip-path=\"url(#p65d25428b4)\" d=\"M 43.908437 925.597895 \r\nL 197.667555 925.597895 \r\nL 197.667555 931.32 \r\nL 43.908437 931.32 \r\nz\r\n\" style=\"fill:#2b8e70;stroke:#ffffff;stroke-linejoin:miter;\"/>\r\n   </g>\r\n   <g id=\"patch_36\">\r\n    <path clip-path=\"url(#p65d25428b4)\" d=\"M 43.908437 954.208421 \r\nL 243.221727 954.208421 \r\nL 243.221727 959.930526 \r\nL 43.908437 959.930526 \r\nz\r\n\" style=\"fill:#2b8e70;stroke:#ffffff;stroke-linejoin:miter;\"/>\r\n   </g>\r\n   <g id=\"patch_37\">\r\n    <path clip-path=\"url(#p65d25428b4)\" d=\"M 43.908437 982.818947 \r\nL 205.609202 982.818947 \r\nL 205.609202 988.541053 \r\nL 43.908437 988.541053 \r\nz\r\n\" style=\"fill:#2b8e70;stroke:#ffffff;stroke-linejoin:miter;\"/>\r\n   </g>\r\n   <g id=\"patch_38\">\r\n    <path clip-path=\"url(#p65d25428b4)\" d=\"M 43.908437 1011.429474 \r\nL 265.171558 1011.429474 \r\nL 265.171558 1017.151579 \r\nL 43.908437 1017.151579 \r\nz\r\n\" style=\"fill:#2b8e70;stroke:#ffffff;stroke-linejoin:miter;\"/>\r\n   </g>\r\n   <g id=\"patch_39\">\r\n    <path clip-path=\"url(#p65d25428b4)\" d=\"M 43.908437 1040.04 \r\nL 130.935657 1040.04 \r\nL 130.935657 1045.762105 \r\nL 43.908437 1045.762105 \r\nz\r\n\" style=\"fill:#2b8e70;stroke:#ffffff;stroke-linejoin:miter;\"/>\r\n   </g>\r\n   <g id=\"patch_40\">\r\n    <path clip-path=\"url(#p65d25428b4)\" d=\"M 43.908437 1068.650526 \r\nL 181.563659 1068.650526 \r\nL 181.563659 1074.372632 \r\nL 43.908437 1074.372632 \r\nz\r\n\" style=\"fill:#2b8e70;stroke:#ffffff;stroke-linejoin:miter;\"/>\r\n   </g>\r\n   <g id=\"patch_41\">\r\n    <path clip-path=\"url(#p65d25428b4)\" d=\"M 43.908437 15.783158 \r\nL 284.805075 15.783158 \r\nL 284.805075 21.505263 \r\nL 43.908437 21.505263 \r\nz\r\n\" style=\"fill:#be631d;stroke:#ffffff;stroke-linejoin:miter;\"/>\r\n   </g>\r\n   <g id=\"patch_42\">\r\n    <path clip-path=\"url(#p65d25428b4)\" d=\"M 43.908437 44.393684 \r\nL 231.309256 44.393684 \r\nL 231.309256 50.115789 \r\nL 43.908437 50.115789 \r\nz\r\n\" style=\"fill:#be631d;stroke:#ffffff;stroke-linejoin:miter;\"/>\r\n   </g>\r\n   <g id=\"patch_43\">\r\n    <path clip-path=\"url(#p65d25428b4)\" d=\"M 43.908437 73.004211 \r\nL 312.159638 73.004211 \r\nL 312.159638 78.726316 \r\nL 43.908437 78.726316 \r\nz\r\n\" style=\"fill:#be631d;stroke:#ffffff;stroke-linejoin:miter;\"/>\r\n   </g>\r\n   <g id=\"patch_44\">\r\n    <path clip-path=\"url(#p65d25428b4)\" d=\"M 43.908437 101.614737 \r\nL 317.343769 101.614737 \r\nL 317.343769 107.336842 \r\nL 43.908437 107.336842 \r\nz\r\n\" style=\"fill:#be631d;stroke:#ffffff;stroke-linejoin:miter;\"/>\r\n   </g>\r\n   <g id=\"patch_45\">\r\n    <path clip-path=\"url(#p65d25428b4)\" d=\"M 43.908437 130.225263 \r\nL 513.899542 130.225263 \r\nL 513.899542 135.947368 \r\nL 43.908437 135.947368 \r\nz\r\n\" style=\"fill:#be631d;stroke:#ffffff;stroke-linejoin:miter;\"/>\r\n   </g>\r\n   <g id=\"patch_46\">\r\n    <path clip-path=\"url(#p65d25428b4)\" d=\"M 43.908437 158.835789 \r\nL 499.560457 158.835789 \r\nL 499.560457 164.557895 \r\nL 43.908437 164.557895 \r\nz\r\n\" style=\"fill:#be631d;stroke:#ffffff;stroke-linejoin:miter;\"/>\r\n   </g>\r\n   <g id=\"patch_47\">\r\n    <path clip-path=\"url(#p65d25428b4)\" d=\"M 43.908437 187.446316 \r\nL 551.842969 187.446316 \r\nL 551.842969 193.168421 \r\nL 43.908437 193.168421 \r\nz\r\n\" style=\"fill:#be631d;stroke:#ffffff;stroke-linejoin:miter;\"/>\r\n   </g>\r\n   <g id=\"patch_48\">\r\n    <path clip-path=\"url(#p65d25428b4)\" d=\"M 43.908437 216.056842 \r\nL 550.29876 216.056842 \r\nL 550.29876 221.778947 \r\nL 43.908437 221.778947 \r\nz\r\n\" style=\"fill:#be631d;stroke:#ffffff;stroke-linejoin:miter;\"/>\r\n   </g>\r\n   <g id=\"patch_49\">\r\n    <path clip-path=\"url(#p65d25428b4)\" d=\"M 43.908437 244.667368 \r\nL 105.897407 244.667368 \r\nL 105.897407 250.389474 \r\nL 43.908437 250.389474 \r\nz\r\n\" style=\"fill:#be631d;stroke:#ffffff;stroke-linejoin:miter;\"/>\r\n   </g>\r\n   <g id=\"patch_50\">\r\n    <path clip-path=\"url(#p65d25428b4)\" d=\"M 43.908437 273.277895 \r\nL 314.03475 273.277895 \r\nL 314.03475 279 \r\nL 43.908437 279 \r\nz\r\n\" style=\"fill:#be631d;stroke:#ffffff;stroke-linejoin:miter;\"/>\r\n   </g>\r\n   <g id=\"patch_51\">\r\n    <path clip-path=\"url(#p65d25428b4)\" d=\"M 43.908437 301.888421 \r\nL 275.098617 301.888421 \r\nL 275.098617 307.610526 \r\nL 43.908437 307.610526 \r\nz\r\n\" style=\"fill:#be631d;stroke:#ffffff;stroke-linejoin:miter;\"/>\r\n   </g>\r\n   <g id=\"patch_52\">\r\n    <path clip-path=\"url(#p65d25428b4)\" d=\"M 43.908437 330.498947 \r\nL 296.496945 330.498947 \r\nL 296.496945 336.221053 \r\nL 43.908437 336.221053 \r\nz\r\n\" style=\"fill:#be631d;stroke:#ffffff;stroke-linejoin:miter;\"/>\r\n   </g>\r\n   <g id=\"patch_53\">\r\n    <path clip-path=\"url(#p65d25428b4)\" d=\"M 43.908437 359.109474 \r\nL 86.374191 359.109474 \r\nL 86.374191 364.831579 \r\nL 43.908437 364.831579 \r\nz\r\n\" style=\"fill:#be631d;stroke:#ffffff;stroke-linejoin:miter;\"/>\r\n   </g>\r\n   <g id=\"patch_54\">\r\n    <path clip-path=\"url(#p65d25428b4)\" d=\"M 43.908437 387.72 \r\nL 308.299115 387.72 \r\nL 308.299115 393.442105 \r\nL 43.908437 393.442105 \r\nz\r\n\" style=\"fill:#be631d;stroke:#ffffff;stroke-linejoin:miter;\"/>\r\n   </g>\r\n   <g id=\"patch_55\">\r\n    <path clip-path=\"url(#p65d25428b4)\" d=\"M 43.908437 416.330526 \r\nL 279.620944 416.330526 \r\nL 279.620944 422.052632 \r\nL 43.908437 422.052632 \r\nz\r\n\" style=\"fill:#be631d;stroke:#ffffff;stroke-linejoin:miter;\"/>\r\n   </g>\r\n   <g id=\"patch_56\">\r\n    <path clip-path=\"url(#p65d25428b4)\" d=\"M 43.908437 444.941053 \r\nL 276.311924 444.941053 \r\nL 276.311924 450.663158 \r\nL 43.908437 450.663158 \r\nz\r\n\" style=\"fill:#be631d;stroke:#ffffff;stroke-linejoin:miter;\"/>\r\n   </g>\r\n   <g id=\"patch_57\">\r\n    <path clip-path=\"url(#p65d25428b4)\" d=\"M 43.908437 473.551579 \r\nL 102.588388 473.551579 \r\nL 102.588388 479.273684 \r\nL 43.908437 479.273684 \r\nz\r\n\" style=\"fill:#be631d;stroke:#ffffff;stroke-linejoin:miter;\"/>\r\n   </g>\r\n   <g id=\"patch_58\">\r\n    <path clip-path=\"url(#p65d25428b4)\" d=\"M 43.908437 502.162105 \r\nL 318.336475 502.162105 \r\nL 318.336475 507.884211 \r\nL 43.908437 507.884211 \r\nz\r\n\" style=\"fill:#be631d;stroke:#ffffff;stroke-linejoin:miter;\"/>\r\n   </g>\r\n   <g id=\"patch_59\">\r\n    <path clip-path=\"url(#p65d25428b4)\" d=\"M 43.908437 530.772632 \r\nL 385.619877 530.772632 \r\nL 385.619877 536.494737 \r\nL 43.908437 536.494737 \r\nz\r\n\" style=\"fill:#be631d;stroke:#ffffff;stroke-linejoin:miter;\"/>\r\n   </g>\r\n   <g id=\"patch_60\">\r\n    <path clip-path=\"url(#p65d25428b4)\" d=\"M 43.908437 559.383158 \r\nL 251.053074 559.383158 \r\nL 251.053074 565.105263 \r\nL 43.908437 565.105263 \r\nz\r\n\" style=\"fill:#be631d;stroke:#ffffff;stroke-linejoin:miter;\"/>\r\n   </g>\r\n   <g id=\"patch_61\">\r\n    <path clip-path=\"url(#p65d25428b4)\" d=\"M 43.908437 587.993684 \r\nL 256.457806 587.993684 \r\nL 256.457806 593.715789 \r\nL 43.908437 593.715789 \r\nz\r\n\" style=\"fill:#be631d;stroke:#ffffff;stroke-linejoin:miter;\"/>\r\n   </g>\r\n   <g id=\"patch_62\">\r\n    <path clip-path=\"url(#p65d25428b4)\" d=\"M 43.908437 616.604211 \r\nL 306.093102 616.604211 \r\nL 306.093102 622.326316 \r\nL 43.908437 622.326316 \r\nz\r\n\" style=\"fill:#be631d;stroke:#ffffff;stroke-linejoin:miter;\"/>\r\n   </g>\r\n   <g id=\"patch_63\">\r\n    <path clip-path=\"url(#p65d25428b4)\" d=\"M 43.908437 645.214737 \r\nL 321.314593 645.214737 \r\nL 321.314593 650.936842 \r\nL 43.908437 650.936842 \r\nz\r\n\" style=\"fill:#be631d;stroke:#ffffff;stroke-linejoin:miter;\"/>\r\n   </g>\r\n   <g id=\"patch_64\">\r\n    <path clip-path=\"url(#p65d25428b4)\" d=\"M 43.908437 673.825263 \r\nL 266.274565 673.825263 \r\nL 266.274565 679.547368 \r\nL 43.908437 679.547368 \r\nz\r\n\" style=\"fill:#be631d;stroke:#ffffff;stroke-linejoin:miter;\"/>\r\n   </g>\r\n   <g id=\"patch_65\">\r\n    <path clip-path=\"url(#p65d25428b4)\" d=\"M 43.908437 702.435789 \r\nL 281.937258 702.435789 \r\nL 281.937258 708.157895 \r\nL 43.908437 708.157895 \r\nz\r\n\" style=\"fill:#be631d;stroke:#ffffff;stroke-linejoin:miter;\"/>\r\n   </g>\r\n   <g id=\"patch_66\">\r\n    <path clip-path=\"url(#p65d25428b4)\" d=\"M 43.908437 731.046316 \r\nL 303.887089 731.046316 \r\nL 303.887089 736.768421 \r\nL 43.908437 736.768421 \r\nz\r\n\" style=\"fill:#be631d;stroke:#ffffff;stroke-linejoin:miter;\"/>\r\n   </g>\r\n   <g id=\"patch_67\">\r\n    <path clip-path=\"url(#p65d25428b4)\" d=\"M 43.908437 759.656842 \r\nL 355.507797 759.656842 \r\nL 355.507797 765.378947 \r\nL 43.908437 765.378947 \r\nz\r\n\" style=\"fill:#be631d;stroke:#ffffff;stroke-linejoin:miter;\"/>\r\n   </g>\r\n   <g id=\"patch_68\">\r\n    <path clip-path=\"url(#p65d25428b4)\" d=\"M 43.908437 788.267368 \r\nL 243.77323 788.267368 \r\nL 243.77323 793.989474 \r\nL 43.908437 793.989474 \r\nz\r\n\" style=\"fill:#be631d;stroke:#ffffff;stroke-linejoin:miter;\"/>\r\n   </g>\r\n   <g id=\"patch_69\">\r\n    <path clip-path=\"url(#p65d25428b4)\" d=\"M 43.908437 816.877895 \r\nL 221.713099 816.877895 \r\nL 221.713099 822.6 \r\nL 43.908437 822.6 \r\nz\r\n\" style=\"fill:#be631d;stroke:#ffffff;stroke-linejoin:miter;\"/>\r\n   </g>\r\n   <g id=\"patch_70\">\r\n    <path clip-path=\"url(#p65d25428b4)\" d=\"M 43.908437 845.488421 \r\nL 244.214433 845.488421 \r\nL 244.214433 851.210526 \r\nL 43.908437 851.210526 \r\nz\r\n\" style=\"fill:#be631d;stroke:#ffffff;stroke-linejoin:miter;\"/>\r\n   </g>\r\n   <g id=\"patch_71\">\r\n    <path clip-path=\"url(#p65d25428b4)\" d=\"M 43.908437 874.098947 \r\nL 200.755974 874.098947 \r\nL 200.755974 879.821053 \r\nL 43.908437 879.821053 \r\nz\r\n\" style=\"fill:#be631d;stroke:#ffffff;stroke-linejoin:miter;\"/>\r\n   </g>\r\n   <g id=\"patch_72\">\r\n    <path clip-path=\"url(#p65d25428b4)\" d=\"M 43.908437 902.709474 \r\nL 261.200734 902.709474 \r\nL 261.200734 908.431579 \r\nL 43.908437 908.431579 \r\nz\r\n\" style=\"fill:#be631d;stroke:#ffffff;stroke-linejoin:miter;\"/>\r\n   </g>\r\n   <g id=\"patch_73\">\r\n    <path clip-path=\"url(#p65d25428b4)\" d=\"M 43.908437 931.32 \r\nL 204.064993 931.32 \r\nL 204.064993 937.042105 \r\nL 43.908437 937.042105 \r\nz\r\n\" style=\"fill:#be631d;stroke:#ffffff;stroke-linejoin:miter;\"/>\r\n   </g>\r\n   <g id=\"patch_74\">\r\n    <path clip-path=\"url(#p65d25428b4)\" d=\"M 43.908437 959.930526 \r\nL 235.610982 959.930526 \r\nL 235.610982 965.652632 \r\nL 43.908437 965.652632 \r\nz\r\n\" style=\"fill:#be631d;stroke:#ffffff;stroke-linejoin:miter;\"/>\r\n   </g>\r\n   <g id=\"patch_75\">\r\n    <path clip-path=\"url(#p65d25428b4)\" d=\"M 43.908437 988.541053 \r\nL 224.580916 988.541053 \r\nL 224.580916 994.263158 \r\nL 43.908437 994.263158 \r\nz\r\n\" style=\"fill:#be631d;stroke:#ffffff;stroke-linejoin:miter;\"/>\r\n   </g>\r\n   <g id=\"patch_76\">\r\n    <path clip-path=\"url(#p65d25428b4)\" d=\"M 43.908437 1017.151579 \r\nL 276.532526 1017.151579 \r\nL 276.532526 1022.873684 \r\nL 43.908437 1022.873684 \r\nz\r\n\" style=\"fill:#be631d;stroke:#ffffff;stroke-linejoin:miter;\"/>\r\n   </g>\r\n   <g id=\"patch_77\">\r\n    <path clip-path=\"url(#p65d25428b4)\" d=\"M 43.908437 1045.762105 \r\nL 124.317617 1045.762105 \r\nL 124.317617 1051.484211 \r\nL 43.908437 1051.484211 \r\nz\r\n\" style=\"fill:#be631d;stroke:#ffffff;stroke-linejoin:miter;\"/>\r\n   </g>\r\n   <g id=\"patch_78\">\r\n    <path clip-path=\"url(#p65d25428b4)\" d=\"M 43.908437 1074.372632 \r\nL 180.681254 1074.372632 \r\nL 180.681254 1080.094737 \r\nL 43.908437 1080.094737 \r\nz\r\n\" style=\"fill:#be631d;stroke:#ffffff;stroke-linejoin:miter;\"/>\r\n   </g>\r\n   <g id=\"patch_79\">\r\n    <path clip-path=\"url(#p65d25428b4)\" d=\"M 43.908437 21.505263 \r\nL 259.105022 21.505263 \r\nL 259.105022 27.227368 \r\nL 43.908437 27.227368 \r\nz\r\n\" style=\"fill:#7c78ab;stroke:#ffffff;stroke-linejoin:miter;\"/>\r\n   </g>\r\n   <g id=\"patch_80\">\r\n    <path clip-path=\"url(#p65d25428b4)\" d=\"M 43.908437 50.115789 \r\nL 195.682143 50.115789 \r\nL 195.682143 55.837895 \r\nL 43.908437 55.837895 \r\nz\r\n\" style=\"fill:#7c78ab;stroke:#ffffff;stroke-linejoin:miter;\"/>\r\n   </g>\r\n   <g id=\"patch_81\">\r\n    <path clip-path=\"url(#p65d25428b4)\" d=\"M 43.908437 78.726316 \r\nL 277.525232 78.726316 \r\nL 277.525232 84.448421 \r\nL 43.908437 84.448421 \r\nz\r\n\" style=\"fill:#7c78ab;stroke:#ffffff;stroke-linejoin:miter;\"/>\r\n   </g>\r\n   <g id=\"patch_82\">\r\n    <path clip-path=\"url(#p65d25428b4)\" d=\"M 43.908437 107.336842 \r\nL 305.320998 107.336842 \r\nL 305.320998 113.058947 \r\nL 43.908437 113.058947 \r\nz\r\n\" style=\"fill:#7c78ab;stroke:#ffffff;stroke-linejoin:miter;\"/>\r\n   </g>\r\n   <g id=\"patch_83\">\r\n    <path clip-path=\"url(#p65d25428b4)\" d=\"M 43.908437 135.947368 \r\nL 468.34537 135.947368 \r\nL 468.34537 141.669474 \r\nL 43.908437 141.669474 \r\nz\r\n\" style=\"fill:#7c78ab;stroke:#ffffff;stroke-linejoin:miter;\"/>\r\n   </g>\r\n   <g id=\"patch_84\">\r\n    <path clip-path=\"url(#p65d25428b4)\" d=\"M 43.908437 164.557895 \r\nL 463.492141 164.557895 \r\nL 463.492141 170.28 \r\nL 43.908437 170.28 \r\nz\r\n\" style=\"fill:#7c78ab;stroke:#ffffff;stroke-linejoin:miter;\"/>\r\n   </g>\r\n   <g id=\"patch_85\">\r\n    <path clip-path=\"url(#p65d25428b4)\" d=\"M 43.908437 193.168421 \r\nL 515.002549 193.168421 \r\nL 515.002549 198.890526 \r\nL 43.908437 198.890526 \r\nz\r\n\" style=\"fill:#7c78ab;stroke:#ffffff;stroke-linejoin:miter;\"/>\r\n   </g>\r\n   <g id=\"patch_86\">\r\n    <path clip-path=\"url(#p65d25428b4)\" d=\"M 43.908437 221.778947 \r\nL 568.608669 221.778947 \r\nL 568.608669 227.501053 \r\nL 43.908437 227.501053 \r\nz\r\n\" style=\"fill:#7c78ab;stroke:#ffffff;stroke-linejoin:miter;\"/>\r\n   </g>\r\n   <g id=\"patch_87\">\r\n    <path clip-path=\"url(#p65d25428b4)\" d=\"M 43.908437 250.389474 \r\nL 93.654034 250.389474 \r\nL 93.654034 256.111579 \r\nL 43.908437 256.111579 \r\nz\r\n\" style=\"fill:#7c78ab;stroke:#ffffff;stroke-linejoin:miter;\"/>\r\n   </g>\r\n   <g id=\"patch_88\">\r\n    <path clip-path=\"url(#p65d25428b4)\" d=\"M 43.908437 279 \r\nL 265.833362 279 \r\nL 265.833362 284.722105 \r\nL 43.908437 284.722105 \r\nz\r\n\" style=\"fill:#7c78ab;stroke:#ffffff;stroke-linejoin:miter;\"/>\r\n   </g>\r\n   <g id=\"patch_89\">\r\n    <path clip-path=\"url(#p65d25428b4)\" d=\"M 43.908437 307.610526 \r\nL 242.229021 307.610526 \r\nL 242.229021 313.332632 \r\nL 43.908437 313.332632 \r\nz\r\n\" style=\"fill:#7c78ab;stroke:#ffffff;stroke-linejoin:miter;\"/>\r\n   </g>\r\n   <g id=\"patch_90\">\r\n    <path clip-path=\"url(#p65d25428b4)\" d=\"M 43.908437 336.221053 \r\nL 255.4651 336.221053 \r\nL 255.4651 341.943158 \r\nL 43.908437 341.943158 \r\nz\r\n\" style=\"fill:#7c78ab;stroke:#ffffff;stroke-linejoin:miter;\"/>\r\n   </g>\r\n   <g id=\"patch_91\">\r\n    <path clip-path=\"url(#p65d25428b4)\" d=\"M 43.908437 364.831579 \r\nL 82.182766 364.831579 \r\nL 82.182766 370.553684 \r\nL 43.908437 370.553684 \r\nz\r\n\" style=\"fill:#7c78ab;stroke:#ffffff;stroke-linejoin:miter;\"/>\r\n   </g>\r\n   <g id=\"patch_92\">\r\n    <path clip-path=\"url(#p65d25428b4)\" d=\"M 43.908437 393.442105 \r\nL 271.238094 393.442105 \r\nL 271.238094 399.164211 \r\nL 43.908437 399.164211 \r\nz\r\n\" style=\"fill:#7c78ab;stroke:#ffffff;stroke-linejoin:miter;\"/>\r\n   </g>\r\n   <g id=\"patch_93\">\r\n    <path clip-path=\"url(#p65d25428b4)\" d=\"M 43.908437 422.052632 \r\nL 287.34199 422.052632 \r\nL 287.34199 427.774737 \r\nL 43.908437 427.774737 \r\nz\r\n\" style=\"fill:#7c78ab;stroke:#ffffff;stroke-linejoin:miter;\"/>\r\n   </g>\r\n   <g id=\"patch_94\">\r\n    <path clip-path=\"url(#p65d25428b4)\" d=\"M 43.908437 450.663158 \r\nL 264.178852 450.663158 \r\nL 264.178852 456.385263 \r\nL 43.908437 456.385263 \r\nz\r\n\" style=\"fill:#7c78ab;stroke:#ffffff;stroke-linejoin:miter;\"/>\r\n   </g>\r\n   <g id=\"patch_95\">\r\n    <path clip-path=\"url(#p65d25428b4)\" d=\"M 43.908437 479.273684 \r\nL 88.469903 479.273684 \r\nL 88.469903 484.995789 \r\nL 43.908437 484.995789 \r\nz\r\n\" style=\"fill:#7c78ab;stroke:#ffffff;stroke-linejoin:miter;\"/>\r\n   </g>\r\n   <g id=\"patch_96\">\r\n    <path clip-path=\"url(#p65d25428b4)\" d=\"M 43.908437 507.884211 \r\nL 279.951846 507.884211 \r\nL 279.951846 513.606316 \r\nL 43.908437 513.606316 \r\nz\r\n\" style=\"fill:#7c78ab;stroke:#ffffff;stroke-linejoin:miter;\"/>\r\n   </g>\r\n   <g id=\"patch_97\">\r\n    <path clip-path=\"url(#p65d25428b4)\" d=\"M 43.908437 536.494737 \r\nL 346.794045 536.494737 \r\nL 346.794045 542.216842 \r\nL 43.908437 542.216842 \r\nz\r\n\" style=\"fill:#7c78ab;stroke:#ffffff;stroke-linejoin:miter;\"/>\r\n   </g>\r\n   <g id=\"patch_98\">\r\n    <path clip-path=\"url(#p65d25428b4)\" d=\"M 43.908437 565.105263 \r\nL 214.874458 565.105263 \r\nL 214.874458 570.827368 \r\nL 43.908437 570.827368 \r\nz\r\n\" style=\"fill:#7c78ab;stroke:#ffffff;stroke-linejoin:miter;\"/>\r\n   </g>\r\n   <g id=\"patch_99\">\r\n    <path clip-path=\"url(#p65d25428b4)\" d=\"M 43.908437 593.715789 \r\nL 239.361204 593.715789 \r\nL 239.361204 599.437895 \r\nL 43.908437 599.437895 \r\nz\r\n\" style=\"fill:#7c78ab;stroke:#ffffff;stroke-linejoin:miter;\"/>\r\n   </g>\r\n   <g id=\"patch_100\">\r\n    <path clip-path=\"url(#p65d25428b4)\" d=\"M 43.908437 622.326316 \r\nL 291.754017 622.326316 \r\nL 291.754017 628.048421 \r\nL 43.908437 628.048421 \r\nz\r\n\" style=\"fill:#7c78ab;stroke:#ffffff;stroke-linejoin:miter;\"/>\r\n   </g>\r\n   <g id=\"patch_101\">\r\n    <path clip-path=\"url(#p65d25428b4)\" d=\"M 43.908437 650.936842 \r\nL 295.945442 650.936842 \r\nL 295.945442 656.658947 \r\nL 43.908437 656.658947 \r\nz\r\n\" style=\"fill:#7c78ab;stroke:#ffffff;stroke-linejoin:miter;\"/>\r\n   </g>\r\n   <g id=\"patch_102\">\r\n    <path clip-path=\"url(#p65d25428b4)\" d=\"M 43.908437 679.547368 \r\nL 247.192551 679.547368 \r\nL 247.192551 685.269474 \r\nL 43.908437 685.269474 \r\nz\r\n\" style=\"fill:#7c78ab;stroke:#ffffff;stroke-linejoin:miter;\"/>\r\n   </g>\r\n   <g id=\"patch_103\">\r\n    <path clip-path=\"url(#p65d25428b4)\" d=\"M 43.908437 708.157895 \r\nL 263.186146 708.157895 \r\nL 263.186146 713.88 \r\nL 43.908437 713.88 \r\nz\r\n\" style=\"fill:#7c78ab;stroke:#ffffff;stroke-linejoin:miter;\"/>\r\n   </g>\r\n   <g id=\"patch_104\">\r\n    <path clip-path=\"url(#p65d25428b4)\" d=\"M 43.908437 736.768421 \r\nL 263.737649 736.768421 \r\nL 263.737649 742.490526 \r\nL 43.908437 742.490526 \r\nz\r\n\" style=\"fill:#7c78ab;stroke:#ffffff;stroke-linejoin:miter;\"/>\r\n   </g>\r\n   <g id=\"patch_105\">\r\n    <path clip-path=\"url(#p65d25428b4)\" d=\"M 43.908437 765.378947 \r\nL 340.506908 765.378947 \r\nL 340.506908 771.101053 \r\nL 43.908437 771.101053 \r\nz\r\n\" style=\"fill:#7c78ab;stroke:#ffffff;stroke-linejoin:miter;\"/>\r\n   </g>\r\n   <g id=\"patch_106\">\r\n    <path clip-path=\"url(#p65d25428b4)\" d=\"M 43.908437 793.989474 \r\nL 244.435034 793.989474 \r\nL 244.435034 799.711579 \r\nL 43.908437 799.711579 \r\nz\r\n\" style=\"fill:#7c78ab;stroke:#ffffff;stroke-linejoin:miter;\"/>\r\n   </g>\r\n   <g id=\"patch_107\">\r\n    <path clip-path=\"url(#p65d25428b4)\" d=\"M 43.908437 822.6 \r\nL 199.432366 822.6 \r\nL 199.432366 828.322105 \r\nL 43.908437 828.322105 \r\nz\r\n\" style=\"fill:#7c78ab;stroke:#ffffff;stroke-linejoin:miter;\"/>\r\n   </g>\r\n   <g id=\"patch_108\">\r\n    <path clip-path=\"url(#p65d25428b4)\" d=\"M 43.908437 851.210526 \r\nL 221.271896 851.210526 \r\nL 221.271896 856.932632 \r\nL 43.908437 856.932632 \r\nz\r\n\" style=\"fill:#7c78ab;stroke:#ffffff;stroke-linejoin:miter;\"/>\r\n   </g>\r\n   <g id=\"patch_109\">\r\n    <path clip-path=\"url(#p65d25428b4)\" d=\"M 43.908437 879.821053 \r\nL 202.189882 879.821053 \r\nL 202.189882 885.543158 \r\nL 43.908437 885.543158 \r\nz\r\n\" style=\"fill:#7c78ab;stroke:#ffffff;stroke-linejoin:miter;\"/>\r\n   </g>\r\n   <g id=\"patch_110\">\r\n    <path clip-path=\"url(#p65d25428b4)\" d=\"M 43.908437 908.431579 \r\nL 241.236315 908.431579 \r\nL 241.236315 914.153684 \r\nL 43.908437 914.153684 \r\nz\r\n\" style=\"fill:#7c78ab;stroke:#ffffff;stroke-linejoin:miter;\"/>\r\n   </g>\r\n   <g id=\"patch_111\">\r\n    <path clip-path=\"url(#p65d25428b4)\" d=\"M 43.908437 937.042105 \r\nL 186.74779 937.042105 \r\nL 186.74779 942.764211 \r\nL 43.908437 942.764211 \r\nz\r\n\" style=\"fill:#7c78ab;stroke:#ffffff;stroke-linejoin:miter;\"/>\r\n   </g>\r\n   <g id=\"patch_112\">\r\n    <path clip-path=\"url(#p65d25428b4)\" d=\"M 43.908437 965.652632 \r\nL 214.433255 965.652632 \r\nL 214.433255 971.374737 \r\nL 43.908437 971.374737 \r\nz\r\n\" style=\"fill:#7c78ab;stroke:#ffffff;stroke-linejoin:miter;\"/>\r\n   </g>\r\n   <g id=\"patch_113\">\r\n    <path clip-path=\"url(#p65d25428b4)\" d=\"M 43.908437 994.263158 \r\nL 190.498012 994.263158 \r\nL 190.498012 999.985263 \r\nL 43.908437 999.985263 \r\nz\r\n\" style=\"fill:#7c78ab;stroke:#ffffff;stroke-linejoin:miter;\"/>\r\n   </g>\r\n   <g id=\"patch_114\">\r\n    <path clip-path=\"url(#p65d25428b4)\" d=\"M 43.908437 1022.873684 \r\nL 244.655636 1022.873684 \r\nL 244.655636 1028.595789 \r\nL 43.908437 1028.595789 \r\nz\r\n\" style=\"fill:#7c78ab;stroke:#ffffff;stroke-linejoin:miter;\"/>\r\n   </g>\r\n   <g id=\"patch_115\">\r\n    <path clip-path=\"url(#p65d25428b4)\" d=\"M 43.908437 1051.484211 \r\nL 117.258375 1051.484211 \r\nL 117.258375 1057.206316 \r\nL 43.908437 1057.206316 \r\nz\r\n\" style=\"fill:#7c78ab;stroke:#ffffff;stroke-linejoin:miter;\"/>\r\n   </g>\r\n   <g id=\"patch_116\">\r\n    <path clip-path=\"url(#p65d25428b4)\" d=\"M 43.908437 1080.094737 \r\nL 164.136155 1080.094737 \r\nL 164.136155 1085.816842 \r\nL 43.908437 1085.816842 \r\nz\r\n\" style=\"fill:#7c78ab;stroke:#ffffff;stroke-linejoin:miter;\"/>\r\n   </g>\r\n   <g id=\"patch_117\">\r\n    <path clip-path=\"url(#p65d25428b4)\" d=\"M 43.908437 27.227368 \r\nL 64.865563 27.227368 \r\nL 64.865563 32.949474 \r\nL 43.908437 32.949474 \r\nz\r\n\" style=\"fill:#cf418a;stroke:#ffffff;stroke-linejoin:miter;\"/>\r\n   </g>\r\n   <g id=\"patch_118\">\r\n    <path clip-path=\"url(#p65d25428b4)\" d=\"M 43.908437 55.837895 \r\nL 59.681432 55.837895 \r\nL 59.681432 61.56 \r\nL 43.908437 61.56 \r\nz\r\n\" style=\"fill:#cf418a;stroke:#ffffff;stroke-linejoin:miter;\"/>\r\n   </g>\r\n   <g id=\"patch_119\">\r\n    <path clip-path=\"url(#p65d25428b4)\" d=\"M 43.908437 84.448421 \r\nL 66.18917 84.448421 \r\nL 66.18917 90.170526 \r\nL 43.908437 90.170526 \r\nz\r\n\" style=\"fill:#cf418a;stroke:#ffffff;stroke-linejoin:miter;\"/>\r\n   </g>\r\n   <g id=\"patch_120\">\r\n    <path clip-path=\"url(#p65d25428b4)\" d=\"M 43.908437 113.058947 \r\nL 70.049694 113.058947 \r\nL 70.049694 118.781053 \r\nL 43.908437 118.781053 \r\nz\r\n\" style=\"fill:#cf418a;stroke:#ffffff;stroke-linejoin:miter;\"/>\r\n   </g>\r\n   <g id=\"patch_121\">\r\n    <path clip-path=\"url(#p65d25428b4)\" d=\"M 43.908437 141.669474 \r\nL 88.911106 141.669474 \r\nL 88.911106 147.391579 \r\nL 43.908437 147.391579 \r\nz\r\n\" style=\"fill:#cf418a;stroke:#ffffff;stroke-linejoin:miter;\"/>\r\n   </g>\r\n   <g id=\"patch_122\">\r\n    <path clip-path=\"url(#p65d25428b4)\" d=\"M 43.908437 170.28 \r\nL 88.911106 170.28 \r\nL 88.911106 176.002105 \r\nL 43.908437 176.002105 \r\nz\r\n\" style=\"fill:#cf418a;stroke:#ffffff;stroke-linejoin:miter;\"/>\r\n   </g>\r\n   <g id=\"patch_123\">\r\n    <path clip-path=\"url(#p65d25428b4)\" d=\"M 43.908437 198.890526 \r\nL 90.234714 198.890526 \r\nL 90.234714 204.612632 \r\nL 43.908437 204.612632 \r\nz\r\n\" style=\"fill:#cf418a;stroke:#ffffff;stroke-linejoin:miter;\"/>\r\n   </g>\r\n   <g id=\"patch_124\">\r\n    <path clip-path=\"url(#p65d25428b4)\" d=\"M 43.908437 227.501053 \r\nL 90.234714 227.501053 \r\nL 90.234714 233.223158 \r\nL 43.908437 233.223158 \r\nz\r\n\" style=\"fill:#cf418a;stroke:#ffffff;stroke-linejoin:miter;\"/>\r\n   </g>\r\n   <g id=\"patch_125\">\r\n    <path clip-path=\"url(#p65d25428b4)\" d=\"M 43.908437 256.111579 \r\nL 50.305876 256.111579 \r\nL 50.305876 261.833684 \r\nL 43.908437 261.833684 \r\nz\r\n\" style=\"fill:#cf418a;stroke:#ffffff;stroke-linejoin:miter;\"/>\r\n   </g>\r\n   <g id=\"patch_126\">\r\n    <path clip-path=\"url(#p65d25428b4)\" d=\"M 43.908437 284.722105 \r\nL 66.740674 284.722105 \r\nL 66.740674 290.444211 \r\nL 43.908437 290.444211 \r\nz\r\n\" style=\"fill:#cf418a;stroke:#ffffff;stroke-linejoin:miter;\"/>\r\n   </g>\r\n   <g id=\"patch_127\">\r\n    <path clip-path=\"url(#p65d25428b4)\" d=\"M 43.908437 313.332632 \r\nL 64.42436 313.332632 \r\nL 64.42436 319.054737 \r\nL 43.908437 319.054737 \r\nz\r\n\" style=\"fill:#cf418a;stroke:#ffffff;stroke-linejoin:miter;\"/>\r\n   </g>\r\n   <g id=\"patch_128\">\r\n    <path clip-path=\"url(#p65d25428b4)\" d=\"M 43.908437 341.943158 \r\nL 63.762556 341.943158 \r\nL 63.762556 347.665263 \r\nL 43.908437 347.665263 \r\nz\r\n\" style=\"fill:#cf418a;stroke:#ffffff;stroke-linejoin:miter;\"/>\r\n   </g>\r\n   <g id=\"patch_129\">\r\n    <path clip-path=\"url(#p65d25428b4)\" d=\"M 43.908437 370.553684 \r\nL 47.107157 370.553684 \r\nL 47.107157 376.275789 \r\nL 43.908437 376.275789 \r\nz\r\n\" style=\"fill:#cf418a;stroke:#ffffff;stroke-linejoin:miter;\"/>\r\n   </g>\r\n   <g id=\"patch_130\">\r\n    <path clip-path=\"url(#p65d25428b4)\" d=\"M 43.908437 399.164211 \r\nL 64.644961 399.164211 \r\nL 64.644961 404.886316 \r\nL 43.908437 404.886316 \r\nz\r\n\" style=\"fill:#cf418a;stroke:#ffffff;stroke-linejoin:miter;\"/>\r\n   </g>\r\n   <g id=\"patch_131\">\r\n    <path clip-path=\"url(#p65d25428b4)\" d=\"M 43.908437 427.774737 \r\nL 67.953981 427.774737 \r\nL 67.953981 433.496842 \r\nL 43.908437 433.496842 \r\nz\r\n\" style=\"fill:#cf418a;stroke:#ffffff;stroke-linejoin:miter;\"/>\r\n   </g>\r\n   <g id=\"patch_132\">\r\n    <path clip-path=\"url(#p65d25428b4)\" d=\"M 43.908437 456.385263 \r\nL 62.328647 456.385263 \r\nL 62.328647 462.107368 \r\nL 43.908437 462.107368 \r\nz\r\n\" style=\"fill:#cf418a;stroke:#ffffff;stroke-linejoin:miter;\"/>\r\n   </g>\r\n   <g id=\"patch_133\">\r\n    <path clip-path=\"url(#p65d25428b4)\" d=\"M 43.908437 484.995789 \r\nL 49.533771 484.995789 \r\nL 49.533771 490.717895 \r\nL 43.908437 490.717895 \r\nz\r\n\" style=\"fill:#cf418a;stroke:#ffffff;stroke-linejoin:miter;\"/>\r\n   </g>\r\n   <g id=\"patch_134\">\r\n    <path clip-path=\"url(#p65d25428b4)\" d=\"M 43.908437 513.606316 \r\nL 66.299471 513.606316 \r\nL 66.299471 519.328421 \r\nL 43.908437 519.328421 \r\nz\r\n\" style=\"fill:#cf418a;stroke:#ffffff;stroke-linejoin:miter;\"/>\r\n   </g>\r\n   <g id=\"patch_135\">\r\n    <path clip-path=\"url(#p65d25428b4)\" d=\"M 43.908437 542.216842 \r\nL 71.1527 542.216842 \r\nL 71.1527 547.938947 \r\nL 43.908437 547.938947 \r\nz\r\n\" style=\"fill:#cf418a;stroke:#ffffff;stroke-linejoin:miter;\"/>\r\n   </g>\r\n   <g id=\"patch_136\">\r\n    <path clip-path=\"url(#p65d25428b4)\" d=\"M 43.908437 570.827368 \r\nL 61.225641 570.827368 \r\nL 61.225641 576.549474 \r\nL 43.908437 576.549474 \r\nz\r\n\" style=\"fill:#cf418a;stroke:#ffffff;stroke-linejoin:miter;\"/>\r\n   </g>\r\n   <g id=\"patch_137\">\r\n    <path clip-path=\"url(#p65d25428b4)\" d=\"M 43.908437 599.437895 \r\nL 65.417066 599.437895 \r\nL 65.417066 605.16 \r\nL 43.908437 605.16 \r\nz\r\n\" style=\"fill:#cf418a;stroke:#ffffff;stroke-linejoin:miter;\"/>\r\n   </g>\r\n   <g id=\"patch_138\">\r\n    <path clip-path=\"url(#p65d25428b4)\" d=\"M 43.908437 628.048421 \r\nL 66.850974 628.048421 \r\nL 66.850974 633.770526 \r\nL 43.908437 633.770526 \r\nz\r\n\" style=\"fill:#cf418a;stroke:#ffffff;stroke-linejoin:miter;\"/>\r\n   </g>\r\n   <g id=\"patch_139\">\r\n    <path clip-path=\"url(#p65d25428b4)\" d=\"M 43.908437 656.658947 \r\nL 67.84368 656.658947 \r\nL 67.84368 662.381053 \r\nL 43.908437 662.381053 \r\nz\r\n\" style=\"fill:#cf418a;stroke:#ffffff;stroke-linejoin:miter;\"/>\r\n   </g>\r\n   <g id=\"patch_140\">\r\n    <path clip-path=\"url(#p65d25428b4)\" d=\"M 43.908437 685.269474 \r\nL 62.438948 685.269474 \r\nL 62.438948 690.991579 \r\nL 43.908437 690.991579 \r\nz\r\n\" style=\"fill:#cf418a;stroke:#ffffff;stroke-linejoin:miter;\"/>\r\n   </g>\r\n   <g id=\"patch_141\">\r\n    <path clip-path=\"url(#p65d25428b4)\" d=\"M 43.908437 713.88 \r\nL 65.417066 713.88 \r\nL 65.417066 719.602105 \r\nL 43.908437 719.602105 \r\nz\r\n\" style=\"fill:#cf418a;stroke:#ffffff;stroke-linejoin:miter;\"/>\r\n   </g>\r\n   <g id=\"patch_142\">\r\n    <path clip-path=\"url(#p65d25428b4)\" d=\"M 43.908437 742.490526 \r\nL 68.395184 742.490526 \r\nL 68.395184 748.212632 \r\nL 43.908437 748.212632 \r\nz\r\n\" style=\"fill:#cf418a;stroke:#ffffff;stroke-linejoin:miter;\"/>\r\n   </g>\r\n   <g id=\"patch_143\">\r\n    <path clip-path=\"url(#p65d25428b4)\" d=\"M 43.908437 771.101053 \r\nL 74.792622 771.101053 \r\nL 74.792622 776.823158 \r\nL 43.908437 776.823158 \r\nz\r\n\" style=\"fill:#cf418a;stroke:#ffffff;stroke-linejoin:miter;\"/>\r\n   </g>\r\n   <g id=\"patch_144\">\r\n    <path clip-path=\"url(#p65d25428b4)\" d=\"M 43.908437 799.711579 \r\nL 61.225641 799.711579 \r\nL 61.225641 805.433684 \r\nL 43.908437 805.433684 \r\nz\r\n\" style=\"fill:#cf418a;stroke:#ffffff;stroke-linejoin:miter;\"/>\r\n   </g>\r\n   <g id=\"patch_145\">\r\n    <path clip-path=\"url(#p65d25428b4)\" d=\"M 43.908437 828.322105 \r\nL 59.681432 828.322105 \r\nL 59.681432 834.044211 \r\nL 43.908437 834.044211 \r\nz\r\n\" style=\"fill:#cf418a;stroke:#ffffff;stroke-linejoin:miter;\"/>\r\n   </g>\r\n   <g id=\"patch_146\">\r\n    <path clip-path=\"url(#p65d25428b4)\" d=\"M 43.908437 856.932632 \r\nL 60.122634 856.932632 \r\nL 60.122634 862.654737 \r\nL 43.908437 862.654737 \r\nz\r\n\" style=\"fill:#cf418a;stroke:#ffffff;stroke-linejoin:miter;\"/>\r\n   </g>\r\n   <g id=\"patch_147\">\r\n    <path clip-path=\"url(#p65d25428b4)\" d=\"M 43.908437 885.543158 \r\nL 60.453536 885.543158 \r\nL 60.453536 891.265263 \r\nL 43.908437 891.265263 \r\nz\r\n\" style=\"fill:#cf418a;stroke:#ffffff;stroke-linejoin:miter;\"/>\r\n   </g>\r\n   <g id=\"patch_148\">\r\n    <path clip-path=\"url(#p65d25428b4)\" d=\"M 43.908437 914.153684 \r\nL 63.762556 914.153684 \r\nL 63.762556 919.875789 \r\nL 43.908437 919.875789 \r\nz\r\n\" style=\"fill:#cf418a;stroke:#ffffff;stroke-linejoin:miter;\"/>\r\n   </g>\r\n   <g id=\"patch_149\">\r\n    <path clip-path=\"url(#p65d25428b4)\" d=\"M 43.908437 942.764211 \r\nL 58.578425 942.764211 \r\nL 58.578425 948.486316 \r\nL 43.908437 948.486316 \r\nz\r\n\" style=\"fill:#cf418a;stroke:#ffffff;stroke-linejoin:miter;\"/>\r\n   </g>\r\n   <g id=\"patch_150\">\r\n    <path clip-path=\"url(#p65d25428b4)\" d=\"M 43.908437 971.374737 \r\nL 60.232935 971.374737 \r\nL 60.232935 977.096842 \r\nL 43.908437 977.096842 \r\nz\r\n\" style=\"fill:#cf418a;stroke:#ffffff;stroke-linejoin:miter;\"/>\r\n   </g>\r\n   <g id=\"patch_151\">\r\n    <path clip-path=\"url(#p65d25428b4)\" d=\"M 43.908437 999.985263 \r\nL 58.688726 999.985263 \r\nL 58.688726 1005.707368 \r\nL 43.908437 1005.707368 \r\nz\r\n\" style=\"fill:#cf418a;stroke:#ffffff;stroke-linejoin:miter;\"/>\r\n   </g>\r\n   <g id=\"patch_152\">\r\n    <path clip-path=\"url(#p65d25428b4)\" d=\"M 43.908437 1028.595789 \r\nL 61.997745 1028.595789 \r\nL 61.997745 1034.317895 \r\nL 43.908437 1034.317895 \r\nz\r\n\" style=\"fill:#cf418a;stroke:#ffffff;stroke-linejoin:miter;\"/>\r\n   </g>\r\n   <g id=\"patch_153\">\r\n    <path clip-path=\"url(#p65d25428b4)\" d=\"M 43.908437 1057.206316 \r\nL 51.960386 1057.206316 \r\nL 51.960386 1062.928421 \r\nL 43.908437 1062.928421 \r\nz\r\n\" style=\"fill:#cf418a;stroke:#ffffff;stroke-linejoin:miter;\"/>\r\n   </g>\r\n   <g id=\"patch_154\">\r\n    <path clip-path=\"url(#p65d25428b4)\" d=\"M 43.908437 1085.816842 \r\nL 57.034216 1085.816842 \r\nL 57.034216 1091.538947 \r\nL 43.908437 1091.538947 \r\nz\r\n\" style=\"fill:#cf418a;stroke:#ffffff;stroke-linejoin:miter;\"/>\r\n   </g>\r\n   <g id=\"patch_155\">\r\n    <path d=\"M 43.908437 1094.4 \r\nL 43.908437 7.2 \r\n\" style=\"fill:none;stroke:#ffffff;stroke-linecap:square;stroke-linejoin:miter;stroke-width:1.25;\"/>\r\n   </g>\r\n   <g id=\"patch_156\">\r\n    <path d=\"M 601.908437 1094.4 \r\nL 601.908437 7.2 \r\n\" style=\"fill:none;stroke:#ffffff;stroke-linecap:square;stroke-linejoin:miter;stroke-width:1.25;\"/>\r\n   </g>\r\n   <g id=\"patch_157\">\r\n    <path d=\"M 43.908437 1094.4 \r\nL 601.908437 1094.4 \r\n\" style=\"fill:none;stroke:#ffffff;stroke-linecap:square;stroke-linejoin:miter;stroke-width:1.25;\"/>\r\n   </g>\r\n   <g id=\"patch_158\">\r\n    <path d=\"M 43.908437 7.2 \r\nL 601.908437 7.2 \r\n\" style=\"fill:none;stroke:#ffffff;stroke-linecap:square;stroke-linejoin:miter;stroke-width:1.25;\"/>\r\n   </g>\r\n   <g id=\"legend_1\">\r\n    <g id=\"patch_159\">\r\n     <path d=\"M 516.908438 94.71375 \r\nL 594.208437 94.71375 \r\nQ 596.408437 94.71375 596.408437 92.51375 \r\nL 596.408437 14.9 \r\nQ 596.408437 12.7 594.208437 12.7 \r\nL 516.908438 12.7 \r\nQ 514.708438 12.7 514.708438 14.9 \r\nL 514.708438 92.51375 \r\nQ 514.708438 94.71375 516.908438 94.71375 \r\nz\r\n\" style=\"fill:#eaeaf2;opacity:0.8;stroke:#cccccc;stroke-linejoin:miter;\"/>\r\n    </g>\r\n    <g id=\"text_47\">\r\n     <!-- DispatchTime -->\r\n     <g style=\"fill:#262626;\" transform=\"translate(519.108438 25.689375)scale(0.12 -0.12)\">\r\n      <defs>\r\n       <path d=\"M 7.71875 0 \r\nL 7.71875 71.578125 \r\nL 32.375 71.578125 \r\nQ 40.71875 71.578125 45.125 70.5625 \r\nQ 51.265625 69.140625 55.609375 65.4375 \r\nQ 61.28125 60.640625 64.078125 53.1875 \r\nQ 66.890625 45.75 66.890625 36.1875 \r\nQ 66.890625 28.03125 64.984375 21.734375 \r\nQ 63.09375 15.4375 60.109375 11.296875 \r\nQ 57.125 7.171875 53.578125 4.796875 \r\nQ 50.046875 2.4375 45.046875 1.21875 \r\nQ 40.046875 0 33.546875 0 \r\nz\r\nM 17.1875 8.453125 \r\nL 32.46875 8.453125 \r\nQ 39.546875 8.453125 43.578125 9.765625 \r\nQ 47.609375 11.078125 50 13.484375 \r\nQ 53.375 16.84375 55.25 22.53125 \r\nQ 57.125 28.21875 57.125 36.328125 \r\nQ 57.125 47.5625 53.4375 53.59375 \r\nQ 49.75 59.625 44.484375 61.671875 \r\nQ 40.671875 63.140625 32.234375 63.140625 \r\nL 17.1875 63.140625 \r\nz\r\n\" id=\"ArialMT-68\"/>\r\n       <path d=\"M 3.078125 15.484375 \r\nL 11.765625 16.84375 \r\nQ 12.5 11.625 15.84375 8.84375 \r\nQ 19.1875 6.0625 25.203125 6.0625 \r\nQ 31.25 6.0625 34.171875 8.515625 \r\nQ 37.109375 10.984375 37.109375 14.3125 \r\nQ 37.109375 17.28125 34.515625 19 \r\nQ 32.71875 20.171875 25.53125 21.96875 \r\nQ 15.875 24.421875 12.140625 26.203125 \r\nQ 8.40625 27.984375 6.46875 31.125 \r\nQ 4.546875 34.28125 4.546875 38.09375 \r\nQ 4.546875 41.546875 6.125 44.5 \r\nQ 7.71875 47.46875 10.453125 49.421875 \r\nQ 12.5 50.921875 16.03125 51.96875 \r\nQ 19.578125 53.03125 23.640625 53.03125 \r\nQ 29.734375 53.03125 34.34375 51.265625 \r\nQ 38.96875 49.515625 41.15625 46.5 \r\nQ 43.359375 43.5 44.1875 38.484375 \r\nL 35.59375 37.3125 \r\nQ 35.015625 41.3125 32.203125 43.546875 \r\nQ 29.390625 45.796875 24.265625 45.796875 \r\nQ 18.21875 45.796875 15.625 43.796875 \r\nQ 13.03125 41.796875 13.03125 39.109375 \r\nQ 13.03125 37.40625 14.109375 36.03125 \r\nQ 15.1875 34.625 17.484375 33.6875 \r\nQ 18.796875 33.203125 25.25 31.453125 \r\nQ 34.578125 28.953125 38.25 27.359375 \r\nQ 41.9375 25.78125 44.03125 22.75 \r\nQ 46.140625 19.734375 46.140625 15.234375 \r\nQ 46.140625 10.84375 43.578125 6.953125 \r\nQ 41.015625 3.078125 36.171875 0.953125 \r\nQ 31.34375 -1.171875 25.25 -1.171875 \r\nQ 15.140625 -1.171875 9.84375 3.03125 \r\nQ 4.546875 7.234375 3.078125 15.484375 \r\nz\r\n\" id=\"ArialMT-115\"/>\r\n       <path d=\"M 6.59375 -19.875 \r\nL 6.59375 51.859375 \r\nL 14.59375 51.859375 \r\nL 14.59375 45.125 \r\nQ 17.4375 49.078125 21 51.046875 \r\nQ 24.5625 53.03125 29.640625 53.03125 \r\nQ 36.28125 53.03125 41.359375 49.609375 \r\nQ 46.4375 46.1875 49.015625 39.953125 \r\nQ 51.609375 33.734375 51.609375 26.3125 \r\nQ 51.609375 18.359375 48.75 11.984375 \r\nQ 45.90625 5.609375 40.453125 2.21875 \r\nQ 35.015625 -1.171875 29 -1.171875 \r\nQ 24.609375 -1.171875 21.109375 0.6875 \r\nQ 17.625 2.546875 15.375 5.375 \r\nL 15.375 -19.875 \r\nz\r\nM 14.546875 25.640625 \r\nQ 14.546875 15.625 18.59375 10.84375 \r\nQ 22.65625 6.0625 28.421875 6.0625 \r\nQ 34.28125 6.0625 38.453125 11.015625 \r\nQ 42.625 15.96875 42.625 26.375 \r\nQ 42.625 36.28125 38.546875 41.203125 \r\nQ 34.46875 46.140625 28.8125 46.140625 \r\nQ 23.1875 46.140625 18.859375 40.890625 \r\nQ 14.546875 35.640625 14.546875 25.640625 \r\nz\r\n\" id=\"ArialMT-112\"/>\r\n       <path d=\"M 6.59375 0 \r\nL 6.59375 71.578125 \r\nL 15.375 71.578125 \r\nL 15.375 45.90625 \r\nQ 21.53125 53.03125 30.90625 53.03125 \r\nQ 36.671875 53.03125 40.921875 50.75 \r\nQ 45.171875 48.484375 47 44.484375 \r\nQ 48.828125 40.484375 48.828125 32.859375 \r\nL 48.828125 0 \r\nL 40.046875 0 \r\nL 40.046875 32.859375 \r\nQ 40.046875 39.453125 37.1875 42.453125 \r\nQ 34.328125 45.453125 29.109375 45.453125 \r\nQ 25.203125 45.453125 21.75 43.421875 \r\nQ 18.3125 41.40625 16.84375 37.9375 \r\nQ 15.375 34.46875 15.375 28.375 \r\nL 15.375 0 \r\nz\r\n\" id=\"ArialMT-104\"/>\r\n       <path d=\"M 25.921875 0 \r\nL 25.921875 63.140625 \r\nL 2.34375 63.140625 \r\nL 2.34375 71.578125 \r\nL 59.078125 71.578125 \r\nL 59.078125 63.140625 \r\nL 35.40625 63.140625 \r\nL 35.40625 0 \r\nz\r\n\" id=\"ArialMT-84\"/>\r\n       <path d=\"M 6.59375 0 \r\nL 6.59375 51.859375 \r\nL 14.453125 51.859375 \r\nL 14.453125 44.578125 \r\nQ 16.890625 48.390625 20.9375 50.703125 \r\nQ 25 53.03125 30.171875 53.03125 \r\nQ 35.9375 53.03125 39.625 50.640625 \r\nQ 43.3125 48.25 44.828125 43.953125 \r\nQ 50.984375 53.03125 60.84375 53.03125 \r\nQ 68.5625 53.03125 72.703125 48.75 \r\nQ 76.859375 44.484375 76.859375 35.59375 \r\nL 76.859375 0 \r\nL 68.109375 0 \r\nL 68.109375 32.671875 \r\nQ 68.109375 37.9375 67.25 40.25 \r\nQ 66.40625 42.578125 64.15625 43.984375 \r\nQ 61.921875 45.40625 58.890625 45.40625 \r\nQ 53.421875 45.40625 49.796875 41.765625 \r\nQ 46.1875 38.140625 46.1875 30.125 \r\nL 46.1875 0 \r\nL 37.40625 0 \r\nL 37.40625 33.6875 \r\nQ 37.40625 39.546875 35.25 42.46875 \r\nQ 33.109375 45.40625 28.21875 45.40625 \r\nQ 24.515625 45.40625 21.359375 43.453125 \r\nQ 18.21875 41.5 16.796875 37.734375 \r\nQ 15.375 33.984375 15.375 26.90625 \r\nL 15.375 0 \r\nz\r\n\" id=\"ArialMT-109\"/>\r\n      </defs>\r\n      <use xlink:href=\"#ArialMT-68\"/>\r\n      <use x=\"72.216797\" xlink:href=\"#ArialMT-105\"/>\r\n      <use x=\"94.433594\" xlink:href=\"#ArialMT-115\"/>\r\n      <use x=\"144.433594\" xlink:href=\"#ArialMT-112\"/>\r\n      <use x=\"200.048828\" xlink:href=\"#ArialMT-97\"/>\r\n      <use x=\"255.664062\" xlink:href=\"#ArialMT-116\"/>\r\n      <use x=\"283.447266\" xlink:href=\"#ArialMT-99\"/>\r\n      <use x=\"333.447266\" xlink:href=\"#ArialMT-104\"/>\r\n      <use x=\"389.0625\" xlink:href=\"#ArialMT-84\"/>\r\n      <use x=\"446.396484\" xlink:href=\"#ArialMT-105\"/>\r\n      <use x=\"468.613281\" xlink:href=\"#ArialMT-109\"/>\r\n      <use x=\"551.914062\" xlink:href=\"#ArialMT-101\"/>\r\n     </g>\r\n    </g>\r\n    <g id=\"patch_160\">\r\n     <path d=\"M 527.924375 41.447969 \r\nL 549.924375 41.447969 \r\nL 549.924375 33.747969 \r\nL 527.924375 33.747969 \r\nz\r\n\" style=\"fill:#2b8e70;stroke:#ffffff;stroke-linejoin:miter;\"/>\r\n    </g>\r\n    <g id=\"text_48\">\r\n     <!-- 2018 -->\r\n     <g style=\"fill:#262626;\" transform=\"translate(558.724375 41.447969)scale(0.11 -0.11)\">\r\n      <use xlink:href=\"#ArialMT-50\"/>\r\n      <use x=\"55.615234\" xlink:href=\"#ArialMT-48\"/>\r\n      <use x=\"111.230469\" xlink:href=\"#ArialMT-49\"/>\r\n      <use x=\"166.845703\" xlink:href=\"#ArialMT-56\"/>\r\n     </g>\r\n    </g>\r\n    <g id=\"patch_161\">\r\n     <path d=\"M 527.924375 57.007813 \r\nL 549.924375 57.007813 \r\nL 549.924375 49.307813 \r\nL 527.924375 49.307813 \r\nz\r\n\" style=\"fill:#be631d;stroke:#ffffff;stroke-linejoin:miter;\"/>\r\n    </g>\r\n    <g id=\"text_49\">\r\n     <!-- 2019 -->\r\n     <g style=\"fill:#262626;\" transform=\"translate(558.724375 57.007813)scale(0.11 -0.11)\">\r\n      <use xlink:href=\"#ArialMT-50\"/>\r\n      <use x=\"55.615234\" xlink:href=\"#ArialMT-48\"/>\r\n      <use x=\"111.230469\" xlink:href=\"#ArialMT-49\"/>\r\n      <use x=\"166.845703\" xlink:href=\"#ArialMT-57\"/>\r\n     </g>\r\n    </g>\r\n    <g id=\"patch_162\">\r\n     <path d=\"M 527.924375 72.567656 \r\nL 549.924375 72.567656 \r\nL 549.924375 64.867656 \r\nL 527.924375 64.867656 \r\nz\r\n\" style=\"fill:#7c78ab;stroke:#ffffff;stroke-linejoin:miter;\"/>\r\n    </g>\r\n    <g id=\"text_50\">\r\n     <!-- 2020 -->\r\n     <g style=\"fill:#262626;\" transform=\"translate(558.724375 72.567656)scale(0.11 -0.11)\">\r\n      <use xlink:href=\"#ArialMT-50\"/>\r\n      <use x=\"55.615234\" xlink:href=\"#ArialMT-48\"/>\r\n      <use x=\"111.230469\" xlink:href=\"#ArialMT-50\"/>\r\n      <use x=\"166.845703\" xlink:href=\"#ArialMT-48\"/>\r\n     </g>\r\n    </g>\r\n    <g id=\"patch_163\">\r\n     <path d=\"M 527.924375 88.1275 \r\nL 549.924375 88.1275 \r\nL 549.924375 80.4275 \r\nL 527.924375 80.4275 \r\nz\r\n\" style=\"fill:#cf418a;stroke:#ffffff;stroke-linejoin:miter;\"/>\r\n    </g>\r\n    <g id=\"text_51\">\r\n     <!-- 2021 -->\r\n     <g style=\"fill:#262626;\" transform=\"translate(558.724375 88.1275)scale(0.11 -0.11)\">\r\n      <use xlink:href=\"#ArialMT-50\"/>\r\n      <use x=\"55.615234\" xlink:href=\"#ArialMT-48\"/>\r\n      <use x=\"111.230469\" xlink:href=\"#ArialMT-50\"/>\r\n      <use x=\"166.845703\" xlink:href=\"#ArialMT-49\"/>\r\n     </g>\r\n    </g>\r\n   </g>\r\n  </g>\r\n </g>\r\n <defs>\r\n  <clipPath id=\"p65d25428b4\">\r\n   <rect height=\"1087.2\" width=\"558\" x=\"43.908437\" y=\"7.2\"/>\r\n  </clipPath>\r\n </defs>\r\n</svg>\r\n",
      "image/png": "[encoded data removed]"
     },
     "metadata": {}
    }
   ],
   "source": [
    "q4_vis.frequency_plot_station('year')"
   ]
  },
  {
   "cell_type": "code",
   "execution_count": 5,
   "metadata": {},
   "outputs": [
    {
     "output_type": "display_data",
     "data": {
      "text/plain": "<Figure size 720x1440 with 1 Axes>",
      "image/svg+xml": "<?xml version=\"1.0\" encoding=\"utf-8\" standalone=\"no\"?>\r\n<!DOCTYPE svg PUBLIC \"-//W3C//DTD SVG 1.1//EN\"\r\n  \"http://www.w3.org/Graphics/SVG/1.1/DTD/svg11.dtd\">\r\n<!-- Created with matplotlib (https://matplotlib.org/) -->\r\n<svg height=\"1136.134219pt\" version=\"1.1\" viewBox=\"0 0 609.108437 1136.134219\" width=\"609.108437pt\" xmlns=\"http://www.w3.org/2000/svg\" xmlns:xlink=\"http://www.w3.org/1999/xlink\">\r\n <metadata>\r\n  <rdf:RDF xmlns:cc=\"http://creativecommons.org/ns#\" xmlns:dc=\"http://purl.org/dc/elements/1.1/\" xmlns:rdf=\"http://www.w3.org/1999/02/22-rdf-syntax-ns#\">\r\n   <cc:Work>\r\n    <dc:type rdf:resource=\"http://purl.org/dc/dcmitype/StillImage\"/>\r\n    <dc:date>2021-04-06T01:16:57.006207</dc:date>\r\n    <dc:format>image/svg+xml</dc:format>\r\n    <dc:creator>\r\n     <cc:Agent>\r\n      <dc:title>Matplotlib v3.3.4, https://matplotlib.org/</dc:title>\r\n     </cc:Agent>\r\n    </dc:creator>\r\n   </cc:Work>\r\n  </rdf:RDF>\r\n </metadata>\r\n <defs>\r\n  <style type=\"text/css\">*{stroke-linecap:butt;stroke-linejoin:round;}</style>\r\n </defs>\r\n <g id=\"figure_1\">\r\n  <g id=\"patch_1\">\r\n   <path d=\"M 0 1136.134219 \r\nL 609.108437 1136.134219 \r\nL 609.108437 0 \r\nL 0 0 \r\nz\r\n\" style=\"fill:#ffffff;\"/>\r\n  </g>\r\n  <g id=\"axes_1\">\r\n   <g id=\"patch_2\">\r\n    <path d=\"M 43.908437 1094.4 \r\nL 601.908437 1094.4 \r\nL 601.908437 7.2 \r\nL 43.908437 7.2 \r\nz\r\n\" style=\"fill:#eaeaf2;\"/>\r\n   </g>\r\n   <g id=\"matplotlib.axis_1\">\r\n    <g id=\"xtick_1\">\r\n     <g id=\"line2d_1\">\r\n      <path clip-path=\"url(#p15cad258a4)\" d=\"M 43.908437 1094.4 \r\nL 43.908437 7.2 \r\n\" style=\"fill:none;stroke:#ffffff;stroke-linecap:round;\"/>\r\n     </g>\r\n     <g id=\"text_1\">\r\n      <!-- 0 -->\r\n      <g style=\"fill:#262626;\" transform=\"translate(40.849922 1111.773594)scale(0.11 -0.11)\">\r\n       <defs>\r\n        <path d=\"M 4.15625 35.296875 \r\nQ 4.15625 48 6.765625 55.734375 \r\nQ 9.375 63.484375 14.515625 67.671875 \r\nQ 19.671875 71.875 27.484375 71.875 \r\nQ 33.25 71.875 37.59375 69.546875 \r\nQ 41.9375 67.234375 44.765625 62.859375 \r\nQ 47.609375 58.5 49.21875 52.21875 \r\nQ 50.828125 45.953125 50.828125 35.296875 \r\nQ 50.828125 22.703125 48.234375 14.96875 \r\nQ 45.65625 7.234375 40.5 3 \r\nQ 35.359375 -1.21875 27.484375 -1.21875 \r\nQ 17.140625 -1.21875 11.234375 6.203125 \r\nQ 4.15625 15.140625 4.15625 35.296875 \r\nz\r\nM 13.1875 35.296875 \r\nQ 13.1875 17.671875 17.3125 11.828125 \r\nQ 21.4375 6 27.484375 6 \r\nQ 33.546875 6 37.671875 11.859375 \r\nQ 41.796875 17.71875 41.796875 35.296875 \r\nQ 41.796875 52.984375 37.671875 58.78125 \r\nQ 33.546875 64.59375 27.390625 64.59375 \r\nQ 21.34375 64.59375 17.71875 59.46875 \r\nQ 13.1875 52.9375 13.1875 35.296875 \r\nz\r\n\" id=\"ArialMT-48\"/>\r\n       </defs>\r\n       <use xlink:href=\"#ArialMT-48\"/>\r\n      </g>\r\n     </g>\r\n    </g>\r\n    <g id=\"xtick_2\">\r\n     <g id=\"line2d_2\">\r\n      <path clip-path=\"url(#p15cad258a4)\" d=\"M 148.479191 1094.4 \r\nL 148.479191 7.2 \r\n\" style=\"fill:none;stroke:#ffffff;stroke-linecap:round;\"/>\r\n     </g>\r\n     <g id=\"text_2\">\r\n      <!-- 1000 -->\r\n      <g style=\"fill:#262626;\" transform=\"translate(136.245129 1111.773594)scale(0.11 -0.11)\">\r\n       <defs>\r\n        <path d=\"M 37.25 0 \r\nL 28.46875 0 \r\nL 28.46875 56 \r\nQ 25.296875 52.984375 20.140625 49.953125 \r\nQ 14.984375 46.921875 10.890625 45.40625 \r\nL 10.890625 53.90625 \r\nQ 18.265625 57.375 23.78125 62.296875 \r\nQ 29.296875 67.234375 31.59375 71.875 \r\nL 37.25 71.875 \r\nz\r\n\" id=\"ArialMT-49\"/>\r\n       </defs>\r\n       <use xlink:href=\"#ArialMT-49\"/>\r\n       <use x=\"55.615234\" xlink:href=\"#ArialMT-48\"/>\r\n       <use x=\"111.230469\" xlink:href=\"#ArialMT-48\"/>\r\n       <use x=\"166.845703\" xlink:href=\"#ArialMT-48\"/>\r\n      </g>\r\n     </g>\r\n    </g>\r\n    <g id=\"xtick_3\">\r\n     <g id=\"line2d_3\">\r\n      <path clip-path=\"url(#p15cad258a4)\" d=\"M 253.049945 1094.4 \r\nL 253.049945 7.2 \r\n\" style=\"fill:none;stroke:#ffffff;stroke-linecap:round;\"/>\r\n     </g>\r\n     <g id=\"text_3\">\r\n      <!-- 2000 -->\r\n      <g style=\"fill:#262626;\" transform=\"translate(240.815883 1111.773594)scale(0.11 -0.11)\">\r\n       <defs>\r\n        <path d=\"M 50.34375 8.453125 \r\nL 50.34375 0 \r\nL 3.03125 0 \r\nQ 2.9375 3.171875 4.046875 6.109375 \r\nQ 5.859375 10.9375 9.828125 15.625 \r\nQ 13.8125 20.3125 21.34375 26.46875 \r\nQ 33.015625 36.03125 37.109375 41.625 \r\nQ 41.21875 47.21875 41.21875 52.203125 \r\nQ 41.21875 57.421875 37.46875 61 \r\nQ 33.734375 64.59375 27.734375 64.59375 \r\nQ 21.390625 64.59375 17.578125 60.78125 \r\nQ 13.765625 56.984375 13.71875 50.25 \r\nL 4.6875 51.171875 \r\nQ 5.609375 61.28125 11.65625 66.578125 \r\nQ 17.71875 71.875 27.9375 71.875 \r\nQ 38.234375 71.875 44.234375 66.15625 \r\nQ 50.25 60.453125 50.25 52 \r\nQ 50.25 47.703125 48.484375 43.546875 \r\nQ 46.734375 39.40625 42.65625 34.8125 \r\nQ 38.578125 30.21875 29.109375 22.21875 \r\nQ 21.1875 15.578125 18.9375 13.203125 \r\nQ 16.703125 10.84375 15.234375 8.453125 \r\nz\r\n\" id=\"ArialMT-50\"/>\r\n       </defs>\r\n       <use xlink:href=\"#ArialMT-50\"/>\r\n       <use x=\"55.615234\" xlink:href=\"#ArialMT-48\"/>\r\n       <use x=\"111.230469\" xlink:href=\"#ArialMT-48\"/>\r\n       <use x=\"166.845703\" xlink:href=\"#ArialMT-48\"/>\r\n      </g>\r\n     </g>\r\n    </g>\r\n    <g id=\"xtick_4\">\r\n     <g id=\"line2d_4\">\r\n      <path clip-path=\"url(#p15cad258a4)\" d=\"M 357.620699 1094.4 \r\nL 357.620699 7.2 \r\n\" style=\"fill:none;stroke:#ffffff;stroke-linecap:round;\"/>\r\n     </g>\r\n     <g id=\"text_4\">\r\n      <!-- 3000 -->\r\n      <g style=\"fill:#262626;\" transform=\"translate(345.386637 1111.773594)scale(0.11 -0.11)\">\r\n       <defs>\r\n        <path d=\"M 4.203125 18.890625 \r\nL 12.984375 20.0625 \r\nQ 14.5 12.59375 18.140625 9.296875 \r\nQ 21.78125 6 27 6 \r\nQ 33.203125 6 37.46875 10.296875 \r\nQ 41.75 14.59375 41.75 20.953125 \r\nQ 41.75 27 37.796875 30.921875 \r\nQ 33.84375 34.859375 27.734375 34.859375 \r\nQ 25.25 34.859375 21.53125 33.890625 \r\nL 22.515625 41.609375 \r\nQ 23.390625 41.5 23.921875 41.5 \r\nQ 29.546875 41.5 34.03125 44.421875 \r\nQ 38.53125 47.359375 38.53125 53.46875 \r\nQ 38.53125 58.296875 35.25 61.46875 \r\nQ 31.984375 64.65625 26.8125 64.65625 \r\nQ 21.6875 64.65625 18.265625 61.421875 \r\nQ 14.84375 58.203125 13.875 51.765625 \r\nL 5.078125 53.328125 \r\nQ 6.6875 62.15625 12.390625 67.015625 \r\nQ 18.109375 71.875 26.609375 71.875 \r\nQ 32.46875 71.875 37.390625 69.359375 \r\nQ 42.328125 66.84375 44.9375 62.5 \r\nQ 47.5625 58.15625 47.5625 53.265625 \r\nQ 47.5625 48.640625 45.0625 44.828125 \r\nQ 42.578125 41.015625 37.703125 38.765625 \r\nQ 44.046875 37.3125 47.5625 32.6875 \r\nQ 51.078125 28.078125 51.078125 21.140625 \r\nQ 51.078125 11.765625 44.234375 5.25 \r\nQ 37.40625 -1.265625 26.953125 -1.265625 \r\nQ 17.53125 -1.265625 11.296875 4.34375 \r\nQ 5.078125 9.96875 4.203125 18.890625 \r\nz\r\n\" id=\"ArialMT-51\"/>\r\n       </defs>\r\n       <use xlink:href=\"#ArialMT-51\"/>\r\n       <use x=\"55.615234\" xlink:href=\"#ArialMT-48\"/>\r\n       <use x=\"111.230469\" xlink:href=\"#ArialMT-48\"/>\r\n       <use x=\"166.845703\" xlink:href=\"#ArialMT-48\"/>\r\n      </g>\r\n     </g>\r\n    </g>\r\n    <g id=\"xtick_5\">\r\n     <g id=\"line2d_5\">\r\n      <path clip-path=\"url(#p15cad258a4)\" d=\"M 462.191453 1094.4 \r\nL 462.191453 7.2 \r\n\" style=\"fill:none;stroke:#ffffff;stroke-linecap:round;\"/>\r\n     </g>\r\n     <g id=\"text_5\">\r\n      <!-- 4000 -->\r\n      <g style=\"fill:#262626;\" transform=\"translate(449.957391 1111.773594)scale(0.11 -0.11)\">\r\n       <defs>\r\n        <path d=\"M 32.328125 0 \r\nL 32.328125 17.140625 \r\nL 1.265625 17.140625 \r\nL 1.265625 25.203125 \r\nL 33.9375 71.578125 \r\nL 41.109375 71.578125 \r\nL 41.109375 25.203125 \r\nL 50.78125 25.203125 \r\nL 50.78125 17.140625 \r\nL 41.109375 17.140625 \r\nL 41.109375 0 \r\nz\r\nM 32.328125 25.203125 \r\nL 32.328125 57.46875 \r\nL 9.90625 25.203125 \r\nz\r\n\" id=\"ArialMT-52\"/>\r\n       </defs>\r\n       <use xlink:href=\"#ArialMT-52\"/>\r\n       <use x=\"55.615234\" xlink:href=\"#ArialMT-48\"/>\r\n       <use x=\"111.230469\" xlink:href=\"#ArialMT-48\"/>\r\n       <use x=\"166.845703\" xlink:href=\"#ArialMT-48\"/>\r\n      </g>\r\n     </g>\r\n    </g>\r\n    <g id=\"xtick_6\">\r\n     <g id=\"line2d_6\">\r\n      <path clip-path=\"url(#p15cad258a4)\" d=\"M 566.762207 1094.4 \r\nL 566.762207 7.2 \r\n\" style=\"fill:none;stroke:#ffffff;stroke-linecap:round;\"/>\r\n     </g>\r\n     <g id=\"text_6\">\r\n      <!-- 5000 -->\r\n      <g style=\"fill:#262626;\" transform=\"translate(554.528145 1111.773594)scale(0.11 -0.11)\">\r\n       <defs>\r\n        <path d=\"M 4.15625 18.75 \r\nL 13.375 19.53125 \r\nQ 14.40625 12.796875 18.140625 9.390625 \r\nQ 21.875 6 27.15625 6 \r\nQ 33.5 6 37.890625 10.78125 \r\nQ 42.28125 15.578125 42.28125 23.484375 \r\nQ 42.28125 31 38.0625 35.34375 \r\nQ 33.84375 39.703125 27 39.703125 \r\nQ 22.75 39.703125 19.328125 37.765625 \r\nQ 15.921875 35.84375 13.96875 32.765625 \r\nL 5.71875 33.84375 \r\nL 12.640625 70.609375 \r\nL 48.25 70.609375 \r\nL 48.25 62.203125 \r\nL 19.671875 62.203125 \r\nL 15.828125 42.96875 \r\nQ 22.265625 47.46875 29.34375 47.46875 \r\nQ 38.71875 47.46875 45.15625 40.96875 \r\nQ 51.609375 34.46875 51.609375 24.265625 \r\nQ 51.609375 14.546875 45.953125 7.46875 \r\nQ 39.0625 -1.21875 27.15625 -1.21875 \r\nQ 17.390625 -1.21875 11.203125 4.25 \r\nQ 5.03125 9.71875 4.15625 18.75 \r\nz\r\n\" id=\"ArialMT-53\"/>\r\n       </defs>\r\n       <use xlink:href=\"#ArialMT-53\"/>\r\n       <use x=\"55.615234\" xlink:href=\"#ArialMT-48\"/>\r\n       <use x=\"111.230469\" xlink:href=\"#ArialMT-48\"/>\r\n       <use x=\"166.845703\" xlink:href=\"#ArialMT-48\"/>\r\n      </g>\r\n     </g>\r\n    </g>\r\n    <g id=\"text_7\">\r\n     <!-- count -->\r\n     <g style=\"fill:#262626;\" transform=\"translate(308.231875 1126.549219)scale(0.12 -0.12)\">\r\n      <defs>\r\n       <path d=\"M 40.4375 19 \r\nL 49.078125 17.875 \r\nQ 47.65625 8.9375 41.8125 3.875 \r\nQ 35.984375 -1.171875 27.484375 -1.171875 \r\nQ 16.84375 -1.171875 10.375 5.78125 \r\nQ 3.90625 12.75 3.90625 25.734375 \r\nQ 3.90625 34.125 6.6875 40.421875 \r\nQ 9.46875 46.734375 15.15625 49.875 \r\nQ 20.84375 53.03125 27.546875 53.03125 \r\nQ 35.984375 53.03125 41.359375 48.75 \r\nQ 46.734375 44.484375 48.25 36.625 \r\nL 39.703125 35.296875 \r\nQ 38.484375 40.53125 35.375 43.15625 \r\nQ 32.28125 45.796875 27.875 45.796875 \r\nQ 21.234375 45.796875 17.078125 41.03125 \r\nQ 12.9375 36.28125 12.9375 25.984375 \r\nQ 12.9375 15.53125 16.9375 10.796875 \r\nQ 20.953125 6.0625 27.390625 6.0625 \r\nQ 32.5625 6.0625 36.03125 9.234375 \r\nQ 39.5 12.40625 40.4375 19 \r\nz\r\n\" id=\"ArialMT-99\"/>\r\n       <path d=\"M 3.328125 25.921875 \r\nQ 3.328125 40.328125 11.328125 47.265625 \r\nQ 18.015625 53.03125 27.640625 53.03125 \r\nQ 38.328125 53.03125 45.109375 46.015625 \r\nQ 51.90625 39.015625 51.90625 26.65625 \r\nQ 51.90625 16.65625 48.90625 10.90625 \r\nQ 45.90625 5.171875 40.15625 2 \r\nQ 34.421875 -1.171875 27.640625 -1.171875 \r\nQ 16.75 -1.171875 10.03125 5.8125 \r\nQ 3.328125 12.796875 3.328125 25.921875 \r\nz\r\nM 12.359375 25.921875 \r\nQ 12.359375 15.96875 16.703125 11.015625 \r\nQ 21.046875 6.0625 27.640625 6.0625 \r\nQ 34.1875 6.0625 38.53125 11.03125 \r\nQ 42.875 16.015625 42.875 26.21875 \r\nQ 42.875 35.84375 38.5 40.796875 \r\nQ 34.125 45.75 27.640625 45.75 \r\nQ 21.046875 45.75 16.703125 40.8125 \r\nQ 12.359375 35.890625 12.359375 25.921875 \r\nz\r\n\" id=\"ArialMT-111\"/>\r\n       <path d=\"M 40.578125 0 \r\nL 40.578125 7.625 \r\nQ 34.515625 -1.171875 24.125 -1.171875 \r\nQ 19.53125 -1.171875 15.546875 0.578125 \r\nQ 11.578125 2.34375 9.640625 5 \r\nQ 7.71875 7.671875 6.9375 11.53125 \r\nQ 6.390625 14.109375 6.390625 19.734375 \r\nL 6.390625 51.859375 \r\nL 15.1875 51.859375 \r\nL 15.1875 23.09375 \r\nQ 15.1875 16.21875 15.71875 13.8125 \r\nQ 16.546875 10.359375 19.234375 8.375 \r\nQ 21.921875 6.390625 25.875 6.390625 \r\nQ 29.828125 6.390625 33.296875 8.421875 \r\nQ 36.765625 10.453125 38.203125 13.9375 \r\nQ 39.65625 17.4375 39.65625 24.078125 \r\nL 39.65625 51.859375 \r\nL 48.4375 51.859375 \r\nL 48.4375 0 \r\nz\r\n\" id=\"ArialMT-117\"/>\r\n       <path d=\"M 6.59375 0 \r\nL 6.59375 51.859375 \r\nL 14.5 51.859375 \r\nL 14.5 44.484375 \r\nQ 20.21875 53.03125 31 53.03125 \r\nQ 35.6875 53.03125 39.625 51.34375 \r\nQ 43.5625 49.65625 45.515625 46.921875 \r\nQ 47.46875 44.1875 48.25 40.4375 \r\nQ 48.734375 37.984375 48.734375 31.890625 \r\nL 48.734375 0 \r\nL 39.9375 0 \r\nL 39.9375 31.546875 \r\nQ 39.9375 36.921875 38.90625 39.578125 \r\nQ 37.890625 42.234375 35.28125 43.8125 \r\nQ 32.671875 45.40625 29.15625 45.40625 \r\nQ 23.53125 45.40625 19.453125 41.84375 \r\nQ 15.375 38.28125 15.375 28.328125 \r\nL 15.375 0 \r\nz\r\n\" id=\"ArialMT-110\"/>\r\n       <path d=\"M 25.78125 7.859375 \r\nL 27.046875 0.09375 \r\nQ 23.34375 -0.6875 20.40625 -0.6875 \r\nQ 15.625 -0.6875 12.984375 0.828125 \r\nQ 10.359375 2.34375 9.28125 4.8125 \r\nQ 8.203125 7.28125 8.203125 15.1875 \r\nL 8.203125 45.015625 \r\nL 1.765625 45.015625 \r\nL 1.765625 51.859375 \r\nL 8.203125 51.859375 \r\nL 8.203125 64.703125 \r\nL 16.9375 69.96875 \r\nL 16.9375 51.859375 \r\nL 25.78125 51.859375 \r\nL 25.78125 45.015625 \r\nL 16.9375 45.015625 \r\nL 16.9375 14.703125 \r\nQ 16.9375 10.9375 17.40625 9.859375 \r\nQ 17.875 8.796875 18.921875 8.15625 \r\nQ 19.96875 7.515625 21.921875 7.515625 \r\nQ 23.390625 7.515625 25.78125 7.859375 \r\nz\r\n\" id=\"ArialMT-116\"/>\r\n      </defs>\r\n      <use xlink:href=\"#ArialMT-99\"/>\r\n      <use x=\"50\" xlink:href=\"#ArialMT-111\"/>\r\n      <use x=\"105.615234\" xlink:href=\"#ArialMT-117\"/>\r\n      <use x=\"161.230469\" xlink:href=\"#ArialMT-110\"/>\r\n      <use x=\"216.845703\" xlink:href=\"#ArialMT-116\"/>\r\n     </g>\r\n    </g>\r\n   </g>\r\n   <g id=\"matplotlib.axis_2\">\r\n    <g id=\"ytick_1\">\r\n     <g id=\"text_8\">\r\n      <!-- 1 -->\r\n      <g style=\"fill:#262626;\" transform=\"translate(28.291406 25.44206)scale(0.11 -0.11)\">\r\n       <use xlink:href=\"#ArialMT-49\"/>\r\n      </g>\r\n     </g>\r\n    </g>\r\n    <g id=\"ytick_2\">\r\n     <g id=\"text_9\">\r\n      <!-- 2 -->\r\n      <g style=\"fill:#262626;\" transform=\"translate(28.291406 54.052586)scale(0.11 -0.11)\">\r\n       <use xlink:href=\"#ArialMT-50\"/>\r\n      </g>\r\n     </g>\r\n    </g>\r\n    <g id=\"ytick_3\">\r\n     <g id=\"text_10\">\r\n      <!-- 4 -->\r\n      <g style=\"fill:#262626;\" transform=\"translate(28.291406 82.663113)scale(0.11 -0.11)\">\r\n       <use xlink:href=\"#ArialMT-52\"/>\r\n      </g>\r\n     </g>\r\n    </g>\r\n    <g id=\"ytick_4\">\r\n     <g id=\"text_11\">\r\n      <!-- 5 -->\r\n      <g style=\"fill:#262626;\" transform=\"translate(28.291406 111.273639)scale(0.11 -0.11)\">\r\n       <use xlink:href=\"#ArialMT-53\"/>\r\n      </g>\r\n     </g>\r\n    </g>\r\n    <g id=\"ytick_5\">\r\n     <g id=\"text_12\">\r\n      <!-- 8 -->\r\n      <g style=\"fill:#262626;\" transform=\"translate(28.291406 139.884165)scale(0.11 -0.11)\">\r\n       <defs>\r\n        <path d=\"M 17.671875 38.8125 \r\nQ 12.203125 40.828125 9.5625 44.53125 \r\nQ 6.9375 48.25 6.9375 53.421875 \r\nQ 6.9375 61.234375 12.546875 66.546875 \r\nQ 18.171875 71.875 27.484375 71.875 \r\nQ 36.859375 71.875 42.578125 66.421875 \r\nQ 48.296875 60.984375 48.296875 53.171875 \r\nQ 48.296875 48.1875 45.671875 44.5 \r\nQ 43.0625 40.828125 37.75 38.8125 \r\nQ 44.34375 36.671875 47.78125 31.875 \r\nQ 51.21875 27.09375 51.21875 20.453125 \r\nQ 51.21875 11.28125 44.71875 5.03125 \r\nQ 38.234375 -1.21875 27.640625 -1.21875 \r\nQ 17.046875 -1.21875 10.546875 5.046875 \r\nQ 4.046875 11.328125 4.046875 20.703125 \r\nQ 4.046875 27.6875 7.59375 32.390625 \r\nQ 11.140625 37.109375 17.671875 38.8125 \r\nz\r\nM 15.921875 53.71875 \r\nQ 15.921875 48.640625 19.1875 45.40625 \r\nQ 22.46875 42.1875 27.6875 42.1875 \r\nQ 32.765625 42.1875 36.015625 45.375 \r\nQ 39.265625 48.578125 39.265625 53.21875 \r\nQ 39.265625 58.0625 35.90625 61.359375 \r\nQ 32.5625 64.65625 27.59375 64.65625 \r\nQ 22.5625 64.65625 19.234375 61.421875 \r\nQ 15.921875 58.203125 15.921875 53.71875 \r\nz\r\nM 13.09375 20.65625 \r\nQ 13.09375 16.890625 14.875 13.375 \r\nQ 16.65625 9.859375 20.171875 7.921875 \r\nQ 23.6875 6 27.734375 6 \r\nQ 34.03125 6 38.125 10.046875 \r\nQ 42.234375 14.109375 42.234375 20.359375 \r\nQ 42.234375 26.703125 38.015625 30.859375 \r\nQ 33.796875 35.015625 27.4375 35.015625 \r\nQ 21.234375 35.015625 17.15625 30.90625 \r\nQ 13.09375 26.8125 13.09375 20.65625 \r\nz\r\n\" id=\"ArialMT-56\"/>\r\n       </defs>\r\n       <use xlink:href=\"#ArialMT-56\"/>\r\n      </g>\r\n     </g>\r\n    </g>\r\n    <g id=\"ytick_6\">\r\n     <g id=\"text_13\">\r\n      <!-- 9 -->\r\n      <g style=\"fill:#262626;\" transform=\"translate(28.291406 168.494692)scale(0.11 -0.11)\">\r\n       <defs>\r\n        <path d=\"M 5.46875 16.546875 \r\nL 13.921875 17.328125 \r\nQ 14.984375 11.375 18.015625 8.6875 \r\nQ 21.046875 6 25.78125 6 \r\nQ 29.828125 6 32.875 7.859375 \r\nQ 35.9375 9.71875 37.890625 12.8125 \r\nQ 39.84375 15.921875 41.15625 21.1875 \r\nQ 42.484375 26.46875 42.484375 31.9375 \r\nQ 42.484375 32.515625 42.4375 33.6875 \r\nQ 39.796875 29.5 35.234375 26.875 \r\nQ 30.671875 24.265625 25.34375 24.265625 \r\nQ 16.453125 24.265625 10.296875 30.703125 \r\nQ 4.15625 37.15625 4.15625 47.703125 \r\nQ 4.15625 58.59375 10.578125 65.234375 \r\nQ 17 71.875 26.65625 71.875 \r\nQ 33.640625 71.875 39.421875 68.109375 \r\nQ 45.21875 64.359375 48.21875 57.390625 \r\nQ 51.21875 50.4375 51.21875 37.25 \r\nQ 51.21875 23.53125 48.234375 15.40625 \r\nQ 45.265625 7.28125 39.375 3.03125 \r\nQ 33.5 -1.21875 25.59375 -1.21875 \r\nQ 17.1875 -1.21875 11.859375 3.4375 \r\nQ 6.546875 8.109375 5.46875 16.546875 \r\nz\r\nM 41.453125 48.140625 \r\nQ 41.453125 55.71875 37.421875 60.15625 \r\nQ 33.40625 64.59375 27.734375 64.59375 \r\nQ 21.875 64.59375 17.53125 59.8125 \r\nQ 13.1875 55.03125 13.1875 47.40625 \r\nQ 13.1875 40.578125 17.3125 36.296875 \r\nQ 21.4375 32.03125 27.484375 32.03125 \r\nQ 33.59375 32.03125 37.515625 36.296875 \r\nQ 41.453125 40.578125 41.453125 48.140625 \r\nz\r\n\" id=\"ArialMT-57\"/>\r\n       </defs>\r\n       <use xlink:href=\"#ArialMT-57\"/>\r\n      </g>\r\n     </g>\r\n    </g>\r\n    <g id=\"ytick_7\">\r\n     <g id=\"text_14\">\r\n      <!-- 10 -->\r\n      <g style=\"fill:#262626;\" transform=\"translate(22.174375 197.105218)scale(0.11 -0.11)\">\r\n       <use xlink:href=\"#ArialMT-49\"/>\r\n       <use x=\"55.615234\" xlink:href=\"#ArialMT-48\"/>\r\n      </g>\r\n     </g>\r\n    </g>\r\n    <g id=\"ytick_8\">\r\n     <g id=\"text_15\">\r\n      <!-- 11 -->\r\n      <g style=\"fill:#262626;\" transform=\"translate(22.985625 225.715744)scale(0.11 -0.11)\">\r\n       <use xlink:href=\"#ArialMT-49\"/>\r\n       <use x=\"48.240234\" xlink:href=\"#ArialMT-49\"/>\r\n      </g>\r\n     </g>\r\n    </g>\r\n    <g id=\"ytick_9\">\r\n     <g id=\"text_16\">\r\n      <!-- 12 -->\r\n      <g style=\"fill:#262626;\" transform=\"translate(22.174375 254.326271)scale(0.11 -0.11)\">\r\n       <use xlink:href=\"#ArialMT-49\"/>\r\n       <use x=\"55.615234\" xlink:href=\"#ArialMT-50\"/>\r\n      </g>\r\n     </g>\r\n    </g>\r\n    <g id=\"ytick_10\">\r\n     <g id=\"text_17\">\r\n      <!-- 13 -->\r\n      <g style=\"fill:#262626;\" transform=\"translate(22.174375 282.936797)scale(0.11 -0.11)\">\r\n       <use xlink:href=\"#ArialMT-49\"/>\r\n       <use x=\"55.615234\" xlink:href=\"#ArialMT-51\"/>\r\n      </g>\r\n     </g>\r\n    </g>\r\n    <g id=\"ytick_11\">\r\n     <g id=\"text_18\">\r\n      <!-- 14 -->\r\n      <g style=\"fill:#262626;\" transform=\"translate(22.174375 311.547323)scale(0.11 -0.11)\">\r\n       <use xlink:href=\"#ArialMT-49\"/>\r\n       <use x=\"55.615234\" xlink:href=\"#ArialMT-52\"/>\r\n      </g>\r\n     </g>\r\n    </g>\r\n    <g id=\"ytick_12\">\r\n     <g id=\"text_19\">\r\n      <!-- 15 -->\r\n      <g style=\"fill:#262626;\" transform=\"translate(22.174375 340.15785)scale(0.11 -0.11)\">\r\n       <use xlink:href=\"#ArialMT-49\"/>\r\n       <use x=\"55.615234\" xlink:href=\"#ArialMT-53\"/>\r\n      </g>\r\n     </g>\r\n    </g>\r\n    <g id=\"ytick_13\">\r\n     <g id=\"text_20\">\r\n      <!-- 16 -->\r\n      <g style=\"fill:#262626;\" transform=\"translate(22.174375 368.768376)scale(0.11 -0.11)\">\r\n       <defs>\r\n        <path d=\"M 49.75 54.046875 \r\nL 41.015625 53.375 \r\nQ 39.84375 58.546875 37.703125 60.890625 \r\nQ 34.125 64.65625 28.90625 64.65625 \r\nQ 24.703125 64.65625 21.53125 62.3125 \r\nQ 17.390625 59.28125 14.984375 53.46875 \r\nQ 12.59375 47.65625 12.5 36.921875 \r\nQ 15.671875 41.75 20.265625 44.09375 \r\nQ 24.859375 46.4375 29.890625 46.4375 \r\nQ 38.671875 46.4375 44.84375 39.96875 \r\nQ 51.03125 33.5 51.03125 23.25 \r\nQ 51.03125 16.5 48.125 10.71875 \r\nQ 45.21875 4.9375 40.140625 1.859375 \r\nQ 35.0625 -1.21875 28.609375 -1.21875 \r\nQ 17.625 -1.21875 10.6875 6.859375 \r\nQ 3.765625 14.9375 3.765625 33.5 \r\nQ 3.765625 54.25 11.421875 63.671875 \r\nQ 18.109375 71.875 29.4375 71.875 \r\nQ 37.890625 71.875 43.28125 67.140625 \r\nQ 48.6875 62.40625 49.75 54.046875 \r\nz\r\nM 13.875 23.1875 \r\nQ 13.875 18.65625 15.796875 14.5 \r\nQ 17.71875 10.359375 21.1875 8.171875 \r\nQ 24.65625 6 28.46875 6 \r\nQ 34.03125 6 38.03125 10.484375 \r\nQ 42.046875 14.984375 42.046875 22.703125 \r\nQ 42.046875 30.125 38.078125 34.390625 \r\nQ 34.125 38.671875 28.125 38.671875 \r\nQ 22.171875 38.671875 18.015625 34.390625 \r\nQ 13.875 30.125 13.875 23.1875 \r\nz\r\n\" id=\"ArialMT-54\"/>\r\n       </defs>\r\n       <use xlink:href=\"#ArialMT-49\"/>\r\n       <use x=\"55.615234\" xlink:href=\"#ArialMT-54\"/>\r\n      </g>\r\n     </g>\r\n    </g>\r\n    <g id=\"ytick_14\">\r\n     <g id=\"text_21\">\r\n      <!-- 17 -->\r\n      <g style=\"fill:#262626;\" transform=\"translate(22.174375 397.378902)scale(0.11 -0.11)\">\r\n       <defs>\r\n        <path d=\"M 4.734375 62.203125 \r\nL 4.734375 70.65625 \r\nL 51.078125 70.65625 \r\nL 51.078125 63.8125 \r\nQ 44.234375 56.546875 37.515625 44.484375 \r\nQ 30.8125 32.421875 27.15625 19.671875 \r\nQ 24.515625 10.6875 23.78125 0 \r\nL 14.75 0 \r\nQ 14.890625 8.453125 18.0625 20.40625 \r\nQ 21.234375 32.375 27.171875 43.484375 \r\nQ 33.109375 54.59375 39.796875 62.203125 \r\nz\r\n\" id=\"ArialMT-55\"/>\r\n       </defs>\r\n       <use xlink:href=\"#ArialMT-49\"/>\r\n       <use x=\"55.615234\" xlink:href=\"#ArialMT-55\"/>\r\n      </g>\r\n     </g>\r\n    </g>\r\n    <g id=\"ytick_15\">\r\n     <g id=\"text_22\">\r\n      <!-- 18 -->\r\n      <g style=\"fill:#262626;\" transform=\"translate(22.174375 425.989428)scale(0.11 -0.11)\">\r\n       <use xlink:href=\"#ArialMT-49\"/>\r\n       <use x=\"55.615234\" xlink:href=\"#ArialMT-56\"/>\r\n      </g>\r\n     </g>\r\n    </g>\r\n    <g id=\"ytick_16\">\r\n     <g id=\"text_23\">\r\n      <!-- 19 -->\r\n      <g style=\"fill:#262626;\" transform=\"translate(22.174375 454.599955)scale(0.11 -0.11)\">\r\n       <use xlink:href=\"#ArialMT-49\"/>\r\n       <use x=\"55.615234\" xlink:href=\"#ArialMT-57\"/>\r\n      </g>\r\n     </g>\r\n    </g>\r\n    <g id=\"ytick_17\">\r\n     <g id=\"text_24\">\r\n      <!-- 20 -->\r\n      <g style=\"fill:#262626;\" transform=\"translate(22.174375 483.210481)scale(0.11 -0.11)\">\r\n       <use xlink:href=\"#ArialMT-50\"/>\r\n       <use x=\"55.615234\" xlink:href=\"#ArialMT-48\"/>\r\n      </g>\r\n     </g>\r\n    </g>\r\n    <g id=\"ytick_18\">\r\n     <g id=\"text_25\">\r\n      <!-- 21 -->\r\n      <g style=\"fill:#262626;\" transform=\"translate(22.174375 511.821007)scale(0.11 -0.11)\">\r\n       <use xlink:href=\"#ArialMT-50\"/>\r\n       <use x=\"55.615234\" xlink:href=\"#ArialMT-49\"/>\r\n      </g>\r\n     </g>\r\n    </g>\r\n    <g id=\"ytick_19\">\r\n     <g id=\"text_26\">\r\n      <!-- 22 -->\r\n      <g style=\"fill:#262626;\" transform=\"translate(22.174375 540.431534)scale(0.11 -0.11)\">\r\n       <use xlink:href=\"#ArialMT-50\"/>\r\n       <use x=\"55.615234\" xlink:href=\"#ArialMT-50\"/>\r\n      </g>\r\n     </g>\r\n    </g>\r\n    <g id=\"ytick_20\">\r\n     <g id=\"text_27\">\r\n      <!-- 23 -->\r\n      <g style=\"fill:#262626;\" transform=\"translate(22.174375 569.04206)scale(0.11 -0.11)\">\r\n       <use xlink:href=\"#ArialMT-50\"/>\r\n       <use x=\"55.615234\" xlink:href=\"#ArialMT-51\"/>\r\n      </g>\r\n     </g>\r\n    </g>\r\n    <g id=\"ytick_21\">\r\n     <g id=\"text_28\">\r\n      <!-- 24 -->\r\n      <g style=\"fill:#262626;\" transform=\"translate(22.174375 597.652586)scale(0.11 -0.11)\">\r\n       <use xlink:href=\"#ArialMT-50\"/>\r\n       <use x=\"55.615234\" xlink:href=\"#ArialMT-52\"/>\r\n      </g>\r\n     </g>\r\n    </g>\r\n    <g id=\"ytick_22\">\r\n     <g id=\"text_29\">\r\n      <!-- 25 -->\r\n      <g style=\"fill:#262626;\" transform=\"translate(22.174375 626.263113)scale(0.11 -0.11)\">\r\n       <use xlink:href=\"#ArialMT-50\"/>\r\n       <use x=\"55.615234\" xlink:href=\"#ArialMT-53\"/>\r\n      </g>\r\n     </g>\r\n    </g>\r\n    <g id=\"ytick_23\">\r\n     <g id=\"text_30\">\r\n      <!-- 26 -->\r\n      <g style=\"fill:#262626;\" transform=\"translate(22.174375 654.873639)scale(0.11 -0.11)\">\r\n       <use xlink:href=\"#ArialMT-50\"/>\r\n       <use x=\"55.615234\" xlink:href=\"#ArialMT-54\"/>\r\n      </g>\r\n     </g>\r\n    </g>\r\n    <g id=\"ytick_24\">\r\n     <g id=\"text_31\">\r\n      <!-- 27 -->\r\n      <g style=\"fill:#262626;\" transform=\"translate(22.174375 683.484165)scale(0.11 -0.11)\">\r\n       <use xlink:href=\"#ArialMT-50\"/>\r\n       <use x=\"55.615234\" xlink:href=\"#ArialMT-55\"/>\r\n      </g>\r\n     </g>\r\n    </g>\r\n    <g id=\"ytick_25\">\r\n     <g id=\"text_32\">\r\n      <!-- 28 -->\r\n      <g style=\"fill:#262626;\" transform=\"translate(22.174375 712.094692)scale(0.11 -0.11)\">\r\n       <use xlink:href=\"#ArialMT-50\"/>\r\n       <use x=\"55.615234\" xlink:href=\"#ArialMT-56\"/>\r\n      </g>\r\n     </g>\r\n    </g>\r\n    <g id=\"ytick_26\">\r\n     <g id=\"text_33\">\r\n      <!-- 29 -->\r\n      <g style=\"fill:#262626;\" transform=\"translate(22.174375 740.705218)scale(0.11 -0.11)\">\r\n       <use xlink:href=\"#ArialMT-50\"/>\r\n       <use x=\"55.615234\" xlink:href=\"#ArialMT-57\"/>\r\n      </g>\r\n     </g>\r\n    </g>\r\n    <g id=\"ytick_27\">\r\n     <g id=\"text_34\">\r\n      <!-- 30 -->\r\n      <g style=\"fill:#262626;\" transform=\"translate(22.174375 769.315744)scale(0.11 -0.11)\">\r\n       <use xlink:href=\"#ArialMT-51\"/>\r\n       <use x=\"55.615234\" xlink:href=\"#ArialMT-48\"/>\r\n      </g>\r\n     </g>\r\n    </g>\r\n    <g id=\"ytick_28\">\r\n     <g id=\"text_35\">\r\n      <!-- 31 -->\r\n      <g style=\"fill:#262626;\" transform=\"translate(22.174375 797.926271)scale(0.11 -0.11)\">\r\n       <use xlink:href=\"#ArialMT-51\"/>\r\n       <use x=\"55.615234\" xlink:href=\"#ArialMT-49\"/>\r\n      </g>\r\n     </g>\r\n    </g>\r\n    <g id=\"ytick_29\">\r\n     <g id=\"text_36\">\r\n      <!-- 32 -->\r\n      <g style=\"fill:#262626;\" transform=\"translate(22.174375 826.536797)scale(0.11 -0.11)\">\r\n       <use xlink:href=\"#ArialMT-51\"/>\r\n       <use x=\"55.615234\" xlink:href=\"#ArialMT-50\"/>\r\n      </g>\r\n     </g>\r\n    </g>\r\n    <g id=\"ytick_30\">\r\n     <g id=\"text_37\">\r\n      <!-- 34 -->\r\n      <g style=\"fill:#262626;\" transform=\"translate(22.174375 855.147323)scale(0.11 -0.11)\">\r\n       <use xlink:href=\"#ArialMT-51\"/>\r\n       <use x=\"55.615234\" xlink:href=\"#ArialMT-52\"/>\r\n      </g>\r\n     </g>\r\n    </g>\r\n    <g id=\"ytick_31\">\r\n     <g id=\"text_38\">\r\n      <!-- 35 -->\r\n      <g style=\"fill:#262626;\" transform=\"translate(22.174375 883.75785)scale(0.11 -0.11)\">\r\n       <use xlink:href=\"#ArialMT-51\"/>\r\n       <use x=\"55.615234\" xlink:href=\"#ArialMT-53\"/>\r\n      </g>\r\n     </g>\r\n    </g>\r\n    <g id=\"ytick_32\">\r\n     <g id=\"text_39\">\r\n      <!-- 36 -->\r\n      <g style=\"fill:#262626;\" transform=\"translate(22.174375 912.368376)scale(0.11 -0.11)\">\r\n       <use xlink:href=\"#ArialMT-51\"/>\r\n       <use x=\"55.615234\" xlink:href=\"#ArialMT-54\"/>\r\n      </g>\r\n     </g>\r\n    </g>\r\n    <g id=\"ytick_33\">\r\n     <g id=\"text_40\">\r\n      <!-- 37 -->\r\n      <g style=\"fill:#262626;\" transform=\"translate(22.174375 940.978902)scale(0.11 -0.11)\">\r\n       <use xlink:href=\"#ArialMT-51\"/>\r\n       <use x=\"55.615234\" xlink:href=\"#ArialMT-55\"/>\r\n      </g>\r\n     </g>\r\n    </g>\r\n    <g id=\"ytick_34\">\r\n     <g id=\"text_41\">\r\n      <!-- 38 -->\r\n      <g style=\"fill:#262626;\" transform=\"translate(22.174375 969.589428)scale(0.11 -0.11)\">\r\n       <use xlink:href=\"#ArialMT-51\"/>\r\n       <use x=\"55.615234\" xlink:href=\"#ArialMT-56\"/>\r\n      </g>\r\n     </g>\r\n    </g>\r\n    <g id=\"ytick_35\">\r\n     <g id=\"text_42\">\r\n      <!-- 39 -->\r\n      <g style=\"fill:#262626;\" transform=\"translate(22.174375 998.199955)scale(0.11 -0.11)\">\r\n       <use xlink:href=\"#ArialMT-51\"/>\r\n       <use x=\"55.615234\" xlink:href=\"#ArialMT-57\"/>\r\n      </g>\r\n     </g>\r\n    </g>\r\n    <g id=\"ytick_36\">\r\n     <g id=\"text_43\">\r\n      <!-- 40 -->\r\n      <g style=\"fill:#262626;\" transform=\"translate(22.174375 1026.810481)scale(0.11 -0.11)\">\r\n       <use xlink:href=\"#ArialMT-52\"/>\r\n       <use x=\"55.615234\" xlink:href=\"#ArialMT-48\"/>\r\n      </g>\r\n     </g>\r\n    </g>\r\n    <g id=\"ytick_37\">\r\n     <g id=\"text_44\">\r\n      <!-- 41 -->\r\n      <g style=\"fill:#262626;\" transform=\"translate(22.174375 1055.421007)scale(0.11 -0.11)\">\r\n       <use xlink:href=\"#ArialMT-52\"/>\r\n       <use x=\"55.615234\" xlink:href=\"#ArialMT-49\"/>\r\n      </g>\r\n     </g>\r\n    </g>\r\n    <g id=\"ytick_38\">\r\n     <g id=\"text_45\">\r\n      <!-- 42 -->\r\n      <g style=\"fill:#262626;\" transform=\"translate(22.174375 1084.031534)scale(0.11 -0.11)\">\r\n       <use xlink:href=\"#ArialMT-52\"/>\r\n       <use x=\"55.615234\" xlink:href=\"#ArialMT-50\"/>\r\n      </g>\r\n     </g>\r\n    </g>\r\n    <g id=\"text_46\">\r\n     <!-- FireStation -->\r\n     <g style=\"fill:#262626;\" transform=\"translate(15.789375 579.810938)rotate(-90)scale(0.12 -0.12)\">\r\n      <defs>\r\n       <path d=\"M 8.203125 0 \r\nL 8.203125 71.578125 \r\nL 56.5 71.578125 \r\nL 56.5 63.140625 \r\nL 17.671875 63.140625 \r\nL 17.671875 40.96875 \r\nL 51.265625 40.96875 \r\nL 51.265625 32.515625 \r\nL 17.671875 32.515625 \r\nL 17.671875 0 \r\nz\r\n\" id=\"ArialMT-70\"/>\r\n       <path d=\"M 6.640625 61.46875 \r\nL 6.640625 71.578125 \r\nL 15.4375 71.578125 \r\nL 15.4375 61.46875 \r\nz\r\nM 6.640625 0 \r\nL 6.640625 51.859375 \r\nL 15.4375 51.859375 \r\nL 15.4375 0 \r\nz\r\n\" id=\"ArialMT-105\"/>\r\n       <path d=\"M 6.5 0 \r\nL 6.5 51.859375 \r\nL 14.40625 51.859375 \r\nL 14.40625 44 \r\nQ 17.4375 49.515625 20 51.265625 \r\nQ 22.5625 53.03125 25.640625 53.03125 \r\nQ 30.078125 53.03125 34.671875 50.203125 \r\nL 31.640625 42.046875 \r\nQ 28.421875 43.953125 25.203125 43.953125 \r\nQ 22.3125 43.953125 20.015625 42.21875 \r\nQ 17.71875 40.484375 16.75 37.40625 \r\nQ 15.28125 32.71875 15.28125 27.15625 \r\nL 15.28125 0 \r\nz\r\n\" id=\"ArialMT-114\"/>\r\n       <path d=\"M 42.09375 16.703125 \r\nL 51.171875 15.578125 \r\nQ 49.03125 7.625 43.21875 3.21875 \r\nQ 37.40625 -1.171875 28.375 -1.171875 \r\nQ 17 -1.171875 10.328125 5.828125 \r\nQ 3.65625 12.84375 3.65625 25.484375 \r\nQ 3.65625 38.578125 10.390625 45.796875 \r\nQ 17.140625 53.03125 27.875 53.03125 \r\nQ 38.28125 53.03125 44.875 45.953125 \r\nQ 51.46875 38.875 51.46875 26.03125 \r\nQ 51.46875 25.25 51.421875 23.6875 \r\nL 12.75 23.6875 \r\nQ 13.234375 15.140625 17.578125 10.59375 \r\nQ 21.921875 6.0625 28.421875 6.0625 \r\nQ 33.25 6.0625 36.671875 8.59375 \r\nQ 40.09375 11.140625 42.09375 16.703125 \r\nz\r\nM 13.234375 30.90625 \r\nL 42.1875 30.90625 \r\nQ 41.609375 37.453125 38.875 40.71875 \r\nQ 34.671875 45.796875 27.984375 45.796875 \r\nQ 21.921875 45.796875 17.796875 41.75 \r\nQ 13.671875 37.703125 13.234375 30.90625 \r\nz\r\n\" id=\"ArialMT-101\"/>\r\n       <path d=\"M 4.5 23 \r\nL 13.421875 23.78125 \r\nQ 14.0625 18.40625 16.375 14.96875 \r\nQ 18.703125 11.53125 23.578125 9.40625 \r\nQ 28.46875 7.28125 34.578125 7.28125 \r\nQ 39.984375 7.28125 44.140625 8.890625 \r\nQ 48.296875 10.5 50.3125 13.296875 \r\nQ 52.34375 16.109375 52.34375 19.4375 \r\nQ 52.34375 22.796875 50.390625 25.3125 \r\nQ 48.4375 27.828125 43.953125 29.546875 \r\nQ 41.0625 30.671875 31.203125 33.03125 \r\nQ 21.34375 35.40625 17.390625 37.5 \r\nQ 12.25 40.1875 9.734375 44.15625 \r\nQ 7.234375 48.140625 7.234375 53.078125 \r\nQ 7.234375 58.5 10.296875 63.203125 \r\nQ 13.375 67.921875 19.28125 70.359375 \r\nQ 25.203125 72.796875 32.421875 72.796875 \r\nQ 40.375 72.796875 46.453125 70.234375 \r\nQ 52.546875 67.671875 55.8125 62.6875 \r\nQ 59.078125 57.71875 59.328125 51.421875 \r\nL 50.25 50.734375 \r\nQ 49.515625 57.515625 45.28125 60.984375 \r\nQ 41.0625 64.453125 32.8125 64.453125 \r\nQ 24.21875 64.453125 20.28125 61.296875 \r\nQ 16.359375 58.15625 16.359375 53.71875 \r\nQ 16.359375 49.859375 19.140625 47.359375 \r\nQ 21.875 44.875 33.421875 42.265625 \r\nQ 44.96875 39.65625 49.265625 37.703125 \r\nQ 55.515625 34.8125 58.484375 30.390625 \r\nQ 61.46875 25.984375 61.46875 20.21875 \r\nQ 61.46875 14.5 58.203125 9.4375 \r\nQ 54.9375 4.390625 48.796875 1.578125 \r\nQ 42.671875 -1.21875 35.015625 -1.21875 \r\nQ 25.296875 -1.21875 18.71875 1.609375 \r\nQ 12.15625 4.4375 8.421875 10.125 \r\nQ 4.6875 15.828125 4.5 23 \r\nz\r\n\" id=\"ArialMT-83\"/>\r\n       <path d=\"M 40.4375 6.390625 \r\nQ 35.546875 2.25 31.03125 0.53125 \r\nQ 26.515625 -1.171875 21.34375 -1.171875 \r\nQ 12.796875 -1.171875 8.203125 3 \r\nQ 3.609375 7.171875 3.609375 13.671875 \r\nQ 3.609375 17.484375 5.34375 20.625 \r\nQ 7.078125 23.78125 9.890625 25.6875 \r\nQ 12.703125 27.59375 16.21875 28.5625 \r\nQ 18.796875 29.25 24.03125 29.890625 \r\nQ 34.671875 31.15625 39.703125 32.90625 \r\nQ 39.75 34.71875 39.75 35.203125 \r\nQ 39.75 40.578125 37.25 42.78125 \r\nQ 33.890625 45.75 27.25 45.75 \r\nQ 21.046875 45.75 18.09375 43.578125 \r\nQ 15.140625 41.40625 13.71875 35.890625 \r\nL 5.125 37.0625 \r\nQ 6.296875 42.578125 8.984375 45.96875 \r\nQ 11.671875 49.359375 16.75 51.1875 \r\nQ 21.828125 53.03125 28.515625 53.03125 \r\nQ 35.15625 53.03125 39.296875 51.46875 \r\nQ 43.453125 49.90625 45.40625 47.53125 \r\nQ 47.359375 45.171875 48.140625 41.546875 \r\nQ 48.578125 39.3125 48.578125 33.453125 \r\nL 48.578125 21.734375 \r\nQ 48.578125 9.46875 49.140625 6.21875 \r\nQ 49.703125 2.984375 51.375 0 \r\nL 42.1875 0 \r\nQ 40.828125 2.734375 40.4375 6.390625 \r\nz\r\nM 39.703125 26.03125 \r\nQ 34.90625 24.078125 25.34375 22.703125 \r\nQ 19.921875 21.921875 17.671875 20.9375 \r\nQ 15.4375 19.96875 14.203125 18.09375 \r\nQ 12.984375 16.21875 12.984375 13.921875 \r\nQ 12.984375 10.40625 15.640625 8.0625 \r\nQ 18.3125 5.71875 23.4375 5.71875 \r\nQ 28.515625 5.71875 32.46875 7.9375 \r\nQ 36.421875 10.15625 38.28125 14.015625 \r\nQ 39.703125 17 39.703125 22.796875 \r\nz\r\n\" id=\"ArialMT-97\"/>\r\n      </defs>\r\n      <use xlink:href=\"#ArialMT-70\"/>\r\n      <use x=\"61.083984\" xlink:href=\"#ArialMT-105\"/>\r\n      <use x=\"83.300781\" xlink:href=\"#ArialMT-114\"/>\r\n      <use x=\"116.601562\" xlink:href=\"#ArialMT-101\"/>\r\n      <use x=\"172.216797\" xlink:href=\"#ArialMT-83\"/>\r\n      <use x=\"238.916016\" xlink:href=\"#ArialMT-116\"/>\r\n      <use x=\"266.699219\" xlink:href=\"#ArialMT-97\"/>\r\n      <use x=\"322.314453\" xlink:href=\"#ArialMT-116\"/>\r\n      <use x=\"350.097656\" xlink:href=\"#ArialMT-105\"/>\r\n      <use x=\"372.314453\" xlink:href=\"#ArialMT-111\"/>\r\n      <use x=\"427.929688\" xlink:href=\"#ArialMT-110\"/>\r\n     </g>\r\n    </g>\r\n   </g>\r\n   <g id=\"patch_3\">\r\n    <path clip-path=\"url(#p15cad258a4)\" d=\"M 43.908437 10.061053 \r\nL 280.238341 10.061053 \r\nL 280.238341 17.690526 \r\nL 43.908437 17.690526 \r\nz\r\n\" style=\"fill:#2b8e70;stroke:#ffffff;stroke-linejoin:miter;\"/>\r\n   </g>\r\n   <g id=\"patch_4\">\r\n    <path clip-path=\"url(#p15cad258a4)\" d=\"M 43.908437 38.671579 \r\nL 198.882295 38.671579 \r\nL 198.882295 46.301053 \r\nL 43.908437 46.301053 \r\nz\r\n\" style=\"fill:#2b8e70;stroke:#ffffff;stroke-linejoin:miter;\"/>\r\n   </g>\r\n   <g id=\"patch_5\">\r\n    <path clip-path=\"url(#p15cad258a4)\" d=\"M 43.908437 67.282105 \r\nL 280.0292 67.282105 \r\nL 280.0292 74.911579 \r\nL 43.908437 74.911579 \r\nz\r\n\" style=\"fill:#2b8e70;stroke:#ffffff;stroke-linejoin:miter;\"/>\r\n   </g>\r\n   <g id=\"patch_6\">\r\n    <path clip-path=\"url(#p15cad258a4)\" d=\"M 43.908437 95.892632 \r\nL 319.556945 95.892632 \r\nL 319.556945 103.522105 \r\nL 43.908437 103.522105 \r\nz\r\n\" style=\"fill:#2b8e70;stroke:#ffffff;stroke-linejoin:miter;\"/>\r\n   </g>\r\n   <g id=\"patch_7\">\r\n    <path clip-path=\"url(#p15cad258a4)\" d=\"M 43.908437 124.503158 \r\nL 492.30783 124.503158 \r\nL 492.30783 132.132632 \r\nL 43.908437 132.132632 \r\nz\r\n\" style=\"fill:#2b8e70;stroke:#ffffff;stroke-linejoin:miter;\"/>\r\n   </g>\r\n   <g id=\"patch_8\">\r\n    <path clip-path=\"url(#p15cad258a4)\" d=\"M 43.908437 153.113684 \r\nL 488.543283 153.113684 \r\nL 488.543283 160.743158 \r\nL 43.908437 160.743158 \r\nz\r\n\" style=\"fill:#2b8e70;stroke:#ffffff;stroke-linejoin:miter;\"/>\r\n   </g>\r\n   <g id=\"patch_9\">\r\n    <path clip-path=\"url(#p15cad258a4)\" d=\"M 43.908437 181.724211 \r\nL 523.051632 181.724211 \r\nL 523.051632 189.353684 \r\nL 43.908437 189.353684 \r\nz\r\n\" style=\"fill:#2b8e70;stroke:#ffffff;stroke-linejoin:miter;\"/>\r\n   </g>\r\n   <g id=\"patch_10\">\r\n    <path clip-path=\"url(#p15cad258a4)\" d=\"M 43.908437 210.334737 \r\nL 527.861887 210.334737 \r\nL 527.861887 217.964211 \r\nL 43.908437 217.964211 \r\nz\r\n\" style=\"fill:#2b8e70;stroke:#ffffff;stroke-linejoin:miter;\"/>\r\n   </g>\r\n   <g id=\"patch_11\">\r\n    <path clip-path=\"url(#p15cad258a4)\" d=\"M 43.908437 238.945263 \r\nL 98.912654 238.945263 \r\nL 98.912654 246.574737 \r\nL 43.908437 246.574737 \r\nz\r\n\" style=\"fill:#2b8e70;stroke:#ffffff;stroke-linejoin:miter;\"/>\r\n   </g>\r\n   <g id=\"patch_12\">\r\n    <path clip-path=\"url(#p15cad258a4)\" d=\"M 43.908437 267.555789 \r\nL 284.630313 267.555789 \r\nL 284.630313 275.185263 \r\nL 43.908437 275.185263 \r\nz\r\n\" style=\"fill:#2b8e70;stroke:#ffffff;stroke-linejoin:miter;\"/>\r\n   </g>\r\n   <g id=\"patch_13\">\r\n    <path clip-path=\"url(#p15cad258a4)\" d=\"M 43.908437 296.166316 \r\nL 254.932219 296.166316 \r\nL 254.932219 303.795789 \r\nL 43.908437 303.795789 \r\nz\r\n\" style=\"fill:#2b8e70;stroke:#ffffff;stroke-linejoin:miter;\"/>\r\n   </g>\r\n   <g id=\"patch_14\">\r\n    <path clip-path=\"url(#p15cad258a4)\" d=\"M 43.908437 324.776842 \r\nL 284.21203 324.776842 \r\nL 284.21203 332.406316 \r\nL 43.908437 332.406316 \r\nz\r\n\" style=\"fill:#2b8e70;stroke:#ffffff;stroke-linejoin:miter;\"/>\r\n   </g>\r\n   <g id=\"patch_15\">\r\n    <path clip-path=\"url(#p15cad258a4)\" d=\"M 43.908437 353.387368 \r\nL 85.527598 353.387368 \r\nL 85.527598 361.016842 \r\nL 43.908437 361.016842 \r\nz\r\n\" style=\"fill:#2b8e70;stroke:#ffffff;stroke-linejoin:miter;\"/>\r\n   </g>\r\n   <g id=\"patch_16\">\r\n    <path clip-path=\"url(#p15cad258a4)\" d=\"M 43.908437 381.997895 \r\nL 285.362308 381.997895 \r\nL 285.362308 389.627368 \r\nL 43.908437 389.627368 \r\nz\r\n\" style=\"fill:#2b8e70;stroke:#ffffff;stroke-linejoin:miter;\"/>\r\n   </g>\r\n   <g id=\"patch_17\">\r\n    <path clip-path=\"url(#p15cad258a4)\" d=\"M 43.908437 410.608421 \r\nL 271.558969 410.608421 \r\nL 271.558969 418.237895 \r\nL 43.908437 418.237895 \r\nz\r\n\" style=\"fill:#2b8e70;stroke:#ffffff;stroke-linejoin:miter;\"/>\r\n   </g>\r\n   <g id=\"patch_18\">\r\n    <path clip-path=\"url(#p15cad258a4)\" d=\"M 43.908437 439.218947 \r\nL 261.833889 439.218947 \r\nL 261.833889 446.848421 \r\nL 43.908437 446.848421 \r\nz\r\n\" style=\"fill:#2b8e70;stroke:#ffffff;stroke-linejoin:miter;\"/>\r\n   </g>\r\n   <g id=\"patch_19\">\r\n    <path clip-path=\"url(#p15cad258a4)\" d=\"M 43.908437 467.829474 \r\nL 89.710428 467.829474 \r\nL 89.710428 475.458947 \r\nL 43.908437 475.458947 \r\nz\r\n\" style=\"fill:#2b8e70;stroke:#ffffff;stroke-linejoin:miter;\"/>\r\n   </g>\r\n   <g id=\"patch_20\">\r\n    <path clip-path=\"url(#p15cad258a4)\" d=\"M 43.908437 496.44 \r\nL 302.407341 496.44 \r\nL 302.407341 504.069474 \r\nL 43.908437 504.069474 \r\nz\r\n\" style=\"fill:#2b8e70;stroke:#ffffff;stroke-linejoin:miter;\"/>\r\n   </g>\r\n   <g id=\"patch_21\">\r\n    <path clip-path=\"url(#p15cad258a4)\" d=\"M 43.908437 525.050526 \r\nL 370.587473 525.050526 \r\nL 370.587473 532.68 \r\nL 43.908437 532.68 \r\nz\r\n\" style=\"fill:#2b8e70;stroke:#ffffff;stroke-linejoin:miter;\"/>\r\n   </g>\r\n   <g id=\"patch_22\">\r\n    <path clip-path=\"url(#p15cad258a4)\" d=\"M 43.908437 553.661053 \r\nL 233.286073 553.661053 \r\nL 233.286073 561.290526 \r\nL 43.908437 561.290526 \r\nz\r\n\" style=\"fill:#2b8e70;stroke:#ffffff;stroke-linejoin:miter;\"/>\r\n   </g>\r\n   <g id=\"patch_23\">\r\n    <path clip-path=\"url(#p15cad258a4)\" d=\"M 43.908437 582.271579 \r\nL 247.089412 582.271579 \r\nL 247.089412 589.901053 \r\nL 43.908437 589.901053 \r\nz\r\n\" style=\"fill:#2b8e70;stroke:#ffffff;stroke-linejoin:miter;\"/>\r\n   </g>\r\n   <g id=\"patch_24\">\r\n    <path clip-path=\"url(#p15cad258a4)\" d=\"M 43.908437 610.882105 \r\nL 306.485601 610.882105 \r\nL 306.485601 618.511579 \r\nL 43.908437 618.511579 \r\nz\r\n\" style=\"fill:#2b8e70;stroke:#ffffff;stroke-linejoin:miter;\"/>\r\n   </g>\r\n   <g id=\"patch_25\">\r\n    <path clip-path=\"url(#p15cad258a4)\" d=\"M 43.908437 639.492632 \r\nL 305.230752 639.492632 \r\nL 305.230752 647.122105 \r\nL 43.908437 647.122105 \r\nz\r\n\" style=\"fill:#2b8e70;stroke:#ffffff;stroke-linejoin:miter;\"/>\r\n   </g>\r\n   <g id=\"patch_26\">\r\n    <path clip-path=\"url(#p15cad258a4)\" d=\"M 43.908437 668.103158 \r\nL 250.85396 668.103158 \r\nL 250.85396 675.732632 \r\nL 43.908437 675.732632 \r\nz\r\n\" style=\"fill:#2b8e70;stroke:#ffffff;stroke-linejoin:miter;\"/>\r\n   </g>\r\n   <g id=\"patch_27\">\r\n    <path clip-path=\"url(#p15cad258a4)\" d=\"M 43.908437 696.713684 \r\nL 261.624747 696.713684 \r\nL 261.624747 704.343158 \r\nL 43.908437 704.343158 \r\nz\r\n\" style=\"fill:#2b8e70;stroke:#ffffff;stroke-linejoin:miter;\"/>\r\n   </g>\r\n   <g id=\"patch_28\">\r\n    <path clip-path=\"url(#p15cad258a4)\" d=\"M 43.908437 725.324211 \r\nL 276.682936 725.324211 \r\nL 276.682936 732.953684 \r\nL 43.908437 732.953684 \r\nz\r\n\" style=\"fill:#2b8e70;stroke:#ffffff;stroke-linejoin:miter;\"/>\r\n   </g>\r\n   <g id=\"patch_29\">\r\n    <path clip-path=\"url(#p15cad258a4)\" d=\"M 43.908437 753.934737 \r\nL 333.464855 753.934737 \r\nL 333.464855 761.564211 \r\nL 43.908437 761.564211 \r\nz\r\n\" style=\"fill:#2b8e70;stroke:#ffffff;stroke-linejoin:miter;\"/>\r\n   </g>\r\n   <g id=\"patch_30\">\r\n    <path clip-path=\"url(#p15cad258a4)\" d=\"M 43.908437 782.545263 \r\nL 239.246606 782.545263 \r\nL 239.246606 790.174737 \r\nL 43.908437 790.174737 \r\nz\r\n\" style=\"fill:#2b8e70;stroke:#ffffff;stroke-linejoin:miter;\"/>\r\n   </g>\r\n   <g id=\"patch_31\">\r\n    <path clip-path=\"url(#p15cad258a4)\" d=\"M 43.908437 811.155789 \r\nL 211.535356 811.155789 \r\nL 211.535356 818.785263 \r\nL 43.908437 818.785263 \r\nz\r\n\" style=\"fill:#2b8e70;stroke:#ffffff;stroke-linejoin:miter;\"/>\r\n   </g>\r\n   <g id=\"patch_32\">\r\n    <path clip-path=\"url(#p15cad258a4)\" d=\"M 43.908437 839.766316 \r\nL 229.312384 839.766316 \r\nL 229.312384 847.395789 \r\nL 43.908437 847.395789 \r\nz\r\n\" style=\"fill:#2b8e70;stroke:#ffffff;stroke-linejoin:miter;\"/>\r\n   </g>\r\n   <g id=\"patch_33\">\r\n    <path clip-path=\"url(#p15cad258a4)\" d=\"M 43.908437 868.376842 \r\nL 193.235474 868.376842 \r\nL 193.235474 876.006316 \r\nL 43.908437 876.006316 \r\nz\r\n\" style=\"fill:#2b8e70;stroke:#ffffff;stroke-linejoin:miter;\"/>\r\n   </g>\r\n   <g id=\"patch_34\">\r\n    <path clip-path=\"url(#p15cad258a4)\" d=\"M 43.908437 896.987368 \r\nL 233.913497 896.987368 \r\nL 233.913497 904.616842 \r\nL 43.908437 904.616842 \r\nz\r\n\" style=\"fill:#2b8e70;stroke:#ffffff;stroke-linejoin:miter;\"/>\r\n   </g>\r\n   <g id=\"patch_35\">\r\n    <path clip-path=\"url(#p15cad258a4)\" d=\"M 43.908437 925.597895 \r\nL 174.935592 925.597895 \r\nL 174.935592 933.227368 \r\nL 43.908437 933.227368 \r\nz\r\n\" style=\"fill:#2b8e70;stroke:#ffffff;stroke-linejoin:miter;\"/>\r\n   </g>\r\n   <g id=\"patch_36\">\r\n    <path clip-path=\"url(#p15cad258a4)\" d=\"M 43.908437 954.208421 \r\nL 234.540922 954.208421 \r\nL 234.540922 961.837895 \r\nL 43.908437 961.837895 \r\nz\r\n\" style=\"fill:#2b8e70;stroke:#ffffff;stroke-linejoin:miter;\"/>\r\n   </g>\r\n   <g id=\"patch_37\">\r\n    <path clip-path=\"url(#p15cad258a4)\" d=\"M 43.908437 982.818947 \r\nL 196.372597 982.818947 \r\nL 196.372597 990.448421 \r\nL 43.908437 990.448421 \r\nz\r\n\" style=\"fill:#2b8e70;stroke:#ffffff;stroke-linejoin:miter;\"/>\r\n   </g>\r\n   <g id=\"patch_38\">\r\n    <path clip-path=\"url(#p15cad258a4)\" d=\"M 43.908437 1011.429474 \r\nL 253.67737 1011.429474 \r\nL 253.67737 1019.058947 \r\nL 43.908437 1019.058947 \r\nz\r\n\" style=\"fill:#2b8e70;stroke:#ffffff;stroke-linejoin:miter;\"/>\r\n   </g>\r\n   <g id=\"patch_39\">\r\n    <path clip-path=\"url(#p15cad258a4)\" d=\"M 43.908437 1040.04 \r\nL 125.159913 1040.04 \r\nL 125.159913 1047.669474 \r\nL 43.908437 1047.669474 \r\nz\r\n\" style=\"fill:#2b8e70;stroke:#ffffff;stroke-linejoin:miter;\"/>\r\n   </g>\r\n   <g id=\"patch_40\">\r\n    <path clip-path=\"url(#p15cad258a4)\" d=\"M 43.908437 1068.650526 \r\nL 170.54362 1068.650526 \r\nL 170.54362 1076.28 \r\nL 43.908437 1076.28 \r\nz\r\n\" style=\"fill:#2b8e70;stroke:#ffffff;stroke-linejoin:miter;\"/>\r\n   </g>\r\n   <g id=\"patch_41\">\r\n    <path clip-path=\"url(#p15cad258a4)\" d=\"M 43.908437 17.690526 \r\nL 272.081823 17.690526 \r\nL 272.081823 25.32 \r\nL 43.908437 25.32 \r\nz\r\n\" style=\"fill:#be631d;stroke:#ffffff;stroke-linejoin:miter;\"/>\r\n   </g>\r\n   <g id=\"patch_42\">\r\n    <path clip-path=\"url(#p15cad258a4)\" d=\"M 43.908437 46.301053 \r\nL 223.770134 46.301053 \r\nL 223.770134 53.930526 \r\nL 43.908437 53.930526 \r\nz\r\n\" style=\"fill:#be631d;stroke:#ffffff;stroke-linejoin:miter;\"/>\r\n   </g>\r\n   <g id=\"patch_43\">\r\n    <path clip-path=\"url(#p15cad258a4)\" d=\"M 43.908437 74.911579 \r\nL 293.93711 74.911579 \r\nL 293.93711 82.541053 \r\nL 43.908437 82.541053 \r\nz\r\n\" style=\"fill:#be631d;stroke:#ffffff;stroke-linejoin:miter;\"/>\r\n   </g>\r\n   <g id=\"patch_44\">\r\n    <path clip-path=\"url(#p15cad258a4)\" d=\"M 43.908437 103.522105 \r\nL 340.052813 103.522105 \r\nL 340.052813 111.151579 \r\nL 43.908437 111.151579 \r\nz\r\n\" style=\"fill:#be631d;stroke:#ffffff;stroke-linejoin:miter;\"/>\r\n   </g>\r\n   <g id=\"patch_45\">\r\n    <path clip-path=\"url(#p15cad258a4)\" d=\"M 43.908437 132.132632 \r\nL 477.981637 132.132632 \r\nL 477.981637 139.762105 \r\nL 43.908437 139.762105 \r\nz\r\n\" style=\"fill:#be631d;stroke:#ffffff;stroke-linejoin:miter;\"/>\r\n   </g>\r\n   <g id=\"patch_46\">\r\n    <path clip-path=\"url(#p15cad258a4)\" d=\"M 43.908437 160.743158 \r\nL 479.341057 160.743158 \r\nL 479.341057 168.372632 \r\nL 43.908437 168.372632 \r\nz\r\n\" style=\"fill:#be631d;stroke:#ffffff;stroke-linejoin:miter;\"/>\r\n   </g>\r\n   <g id=\"patch_47\">\r\n    <path clip-path=\"url(#p15cad258a4)\" d=\"M 43.908437 189.353684 \r\nL 531.731005 189.353684 \r\nL 531.731005 196.983158 \r\nL 43.908437 196.983158 \r\nz\r\n\" style=\"fill:#be631d;stroke:#ffffff;stroke-linejoin:miter;\"/>\r\n   </g>\r\n   <g id=\"patch_48\">\r\n    <path clip-path=\"url(#p15cad258a4)\" d=\"M 43.908437 217.964211 \r\nL 553.795434 217.964211 \r\nL 553.795434 225.593684 \r\nL 43.908437 225.593684 \r\nz\r\n\" style=\"fill:#be631d;stroke:#ffffff;stroke-linejoin:miter;\"/>\r\n   </g>\r\n   <g id=\"patch_49\">\r\n    <path clip-path=\"url(#p15cad258a4)\" d=\"M 43.908437 246.574737 \r\nL 100.794928 246.574737 \r\nL 100.794928 254.204211 \r\nL 43.908437 254.204211 \r\nz\r\n\" style=\"fill:#be631d;stroke:#ffffff;stroke-linejoin:miter;\"/>\r\n   </g>\r\n   <g id=\"patch_50\">\r\n    <path clip-path=\"url(#p15cad258a4)\" d=\"M 43.908437 275.185263 \r\nL 297.178803 275.185263 \r\nL 297.178803 282.814737 \r\nL 43.908437 282.814737 \r\nz\r\n\" style=\"fill:#be631d;stroke:#ffffff;stroke-linejoin:miter;\"/>\r\n   </g>\r\n   <g id=\"patch_51\">\r\n    <path clip-path=\"url(#p15cad258a4)\" d=\"M 43.908437 303.795789 \r\nL 255.873356 303.795789 \r\nL 255.873356 311.425263 \r\nL 43.908437 311.425263 \r\nz\r\n\" style=\"fill:#be631d;stroke:#ffffff;stroke-linejoin:miter;\"/>\r\n   </g>\r\n   <g id=\"patch_52\">\r\n    <path clip-path=\"url(#p15cad258a4)\" d=\"M 43.908437 332.406316 \r\nL 271.140686 332.406316 \r\nL 271.140686 340.035789 \r\nL 43.908437 340.035789 \r\nz\r\n\" style=\"fill:#be631d;stroke:#ffffff;stroke-linejoin:miter;\"/>\r\n   </g>\r\n   <g id=\"patch_53\">\r\n    <path clip-path=\"url(#p15cad258a4)\" d=\"M 43.908437 361.016842 \r\nL 81.449338 361.016842 \r\nL 81.449338 368.646316 \r\nL 43.908437 368.646316 \r\nz\r\n\" style=\"fill:#be631d;stroke:#ffffff;stroke-linejoin:miter;\"/>\r\n   </g>\r\n   <g id=\"patch_54\">\r\n    <path clip-path=\"url(#p15cad258a4)\" d=\"M 43.908437 389.627368 \r\nL 282.434327 389.627368 \r\nL 282.434327 397.256842 \r\nL 43.908437 397.256842 \r\nz\r\n\" style=\"fill:#be631d;stroke:#ffffff;stroke-linejoin:miter;\"/>\r\n   </g>\r\n   <g id=\"patch_55\">\r\n    <path clip-path=\"url(#p15cad258a4)\" d=\"M 43.908437 418.237895 \r\nL 271.76811 418.237895 \r\nL 271.76811 425.867368 \r\nL 43.908437 425.867368 \r\nz\r\n\" style=\"fill:#be631d;stroke:#ffffff;stroke-linejoin:miter;\"/>\r\n   </g>\r\n   <g id=\"patch_56\">\r\n    <path clip-path=\"url(#p15cad258a4)\" d=\"M 43.908437 446.848421 \r\nL 268.108134 446.848421 \r\nL 268.108134 454.477895 \r\nL 43.908437 454.477895 \r\nz\r\n\" style=\"fill:#be631d;stroke:#ffffff;stroke-linejoin:miter;\"/>\r\n   </g>\r\n   <g id=\"patch_57\">\r\n    <path clip-path=\"url(#p15cad258a4)\" d=\"M 43.908437 475.458947 \r\nL 101.840635 475.458947 \r\nL 101.840635 483.088421 \r\nL 43.908437 483.088421 \r\nz\r\n\" style=\"fill:#be631d;stroke:#ffffff;stroke-linejoin:miter;\"/>\r\n   </g>\r\n   <g id=\"patch_58\">\r\n    <path clip-path=\"url(#p15cad258a4)\" d=\"M 43.908437 504.069474 \r\nL 304.707898 504.069474 \r\nL 304.707898 511.698947 \r\nL 43.908437 511.698947 \r\nz\r\n\" style=\"fill:#be631d;stroke:#ffffff;stroke-linejoin:miter;\"/>\r\n   </g>\r\n   <g id=\"patch_59\">\r\n    <path clip-path=\"url(#p15cad258a4)\" d=\"M 43.908437 532.68 \r\nL 371.737751 532.68 \r\nL 371.737751 540.309474 \r\nL 43.908437 540.309474 \r\nz\r\n\" style=\"fill:#be631d;stroke:#ffffff;stroke-linejoin:miter;\"/>\r\n   </g>\r\n   <g id=\"patch_60\">\r\n    <path clip-path=\"url(#p15cad258a4)\" d=\"M 43.908437 561.290526 \r\nL 230.776375 561.290526 \r\nL 230.776375 568.92 \r\nL 43.908437 568.92 \r\nz\r\n\" style=\"fill:#be631d;stroke:#ffffff;stroke-linejoin:miter;\"/>\r\n   </g>\r\n   <g id=\"patch_61\">\r\n    <path clip-path=\"url(#p15cad258a4)\" d=\"M 43.908437 589.901053 \r\nL 242.279158 589.901053 \r\nL 242.279158 597.530526 \r\nL 43.908437 597.530526 \r\nz\r\n\" style=\"fill:#be631d;stroke:#ffffff;stroke-linejoin:miter;\"/>\r\n   </g>\r\n   <g id=\"patch_62\">\r\n    <path clip-path=\"url(#p15cad258a4)\" d=\"M 43.908437 618.511579 \r\nL 286.512587 618.511579 \r\nL 286.512587 626.141053 \r\nL 43.908437 626.141053 \r\nz\r\n\" style=\"fill:#be631d;stroke:#ffffff;stroke-linejoin:miter;\"/>\r\n   </g>\r\n   <g id=\"patch_63\">\r\n    <path clip-path=\"url(#p15cad258a4)\" d=\"M 43.908437 647.122105 \r\nL 308.472445 647.122105 \r\nL 308.472445 654.751579 \r\nL 43.908437 654.751579 \r\nz\r\n\" style=\"fill:#be631d;stroke:#ffffff;stroke-linejoin:miter;\"/>\r\n   </g>\r\n   <g id=\"patch_64\">\r\n    <path clip-path=\"url(#p15cad258a4)\" d=\"M 43.908437 675.732632 \r\nL 245.625422 675.732632 \r\nL 245.625422 683.362105 \r\nL 43.908437 683.362105 \r\nz\r\n\" style=\"fill:#be631d;stroke:#ffffff;stroke-linejoin:miter;\"/>\r\n   </g>\r\n   <g id=\"patch_65\">\r\n    <path clip-path=\"url(#p15cad258a4)\" d=\"M 43.908437 704.343158 \r\nL 273.232101 704.343158 \r\nL 273.232101 711.972632 \r\nL 43.908437 711.972632 \r\nz\r\n\" style=\"fill:#be631d;stroke:#ffffff;stroke-linejoin:miter;\"/>\r\n   </g>\r\n   <g id=\"patch_66\">\r\n    <path clip-path=\"url(#p15cad258a4)\" d=\"M 43.908437 732.953684 \r\nL 286.512587 732.953684 \r\nL 286.512587 740.583158 \r\nL 43.908437 740.583158 \r\nz\r\n\" style=\"fill:#be631d;stroke:#ffffff;stroke-linejoin:miter;\"/>\r\n   </g>\r\n   <g id=\"patch_67\">\r\n    <path clip-path=\"url(#p15cad258a4)\" d=\"M 43.908437 761.564211 \r\nL 336.601978 761.564211 \r\nL 336.601978 769.193684 \r\nL 43.908437 769.193684 \r\nz\r\n\" style=\"fill:#be631d;stroke:#ffffff;stroke-linejoin:miter;\"/>\r\n   </g>\r\n   <g id=\"patch_68\">\r\n    <path clip-path=\"url(#p15cad258a4)\" d=\"M 43.908437 790.174737 \r\nL 231.612941 790.174737 \r\nL 231.612941 797.804211 \r\nL 43.908437 797.804211 \r\nz\r\n\" style=\"fill:#be631d;stroke:#ffffff;stroke-linejoin:miter;\"/>\r\n   </g>\r\n   <g id=\"patch_69\">\r\n    <path clip-path=\"url(#p15cad258a4)\" d=\"M 43.908437 818.785263 \r\nL 209.653082 818.785263 \r\nL 209.653082 826.414737 \r\nL 43.908437 826.414737 \r\nz\r\n\" style=\"fill:#be631d;stroke:#ffffff;stroke-linejoin:miter;\"/>\r\n   </g>\r\n   <g id=\"patch_70\">\r\n    <path clip-path=\"url(#p15cad258a4)\" d=\"M 43.908437 847.395789 \r\nL 229.416955 847.395789 \r\nL 229.416955 855.025263 \r\nL 43.908437 855.025263 \r\nz\r\n\" style=\"fill:#be631d;stroke:#ffffff;stroke-linejoin:miter;\"/>\r\n   </g>\r\n   <g id=\"patch_71\">\r\n    <path clip-path=\"url(#p15cad258a4)\" d=\"M 43.908437 876.006316 \r\nL 205.470252 876.006316 \r\nL 205.470252 883.635789 \r\nL 43.908437 883.635789 \r\nz\r\n\" style=\"fill:#be631d;stroke:#ffffff;stroke-linejoin:miter;\"/>\r\n   </g>\r\n   <g id=\"patch_72\">\r\n    <path clip-path=\"url(#p15cad258a4)\" d=\"M 43.908437 904.616842 \r\nL 261.833889 904.616842 \r\nL 261.833889 912.246316 \r\nL 43.908437 912.246316 \r\nz\r\n\" style=\"fill:#be631d;stroke:#ffffff;stroke-linejoin:miter;\"/>\r\n   </g>\r\n   <g id=\"patch_73\">\r\n    <path clip-path=\"url(#p15cad258a4)\" d=\"M 43.908437 933.227368 \r\nL 203.483408 933.227368 \r\nL 203.483408 940.856842 \r\nL 43.908437 940.856842 \r\nz\r\n\" style=\"fill:#be631d;stroke:#ffffff;stroke-linejoin:miter;\"/>\r\n   </g>\r\n   <g id=\"patch_74\">\r\n    <path clip-path=\"url(#p15cad258a4)\" d=\"M 43.908437 961.837895 \r\nL 224.188417 961.837895 \r\nL 224.188417 969.467368 \r\nL 43.908437 969.467368 \r\nz\r\n\" style=\"fill:#be631d;stroke:#ffffff;stroke-linejoin:miter;\"/>\r\n   </g>\r\n   <g id=\"patch_75\">\r\n    <path clip-path=\"url(#p15cad258a4)\" d=\"M 43.908437 990.448421 \r\nL 213.313059 990.448421 \r\nL 213.313059 998.077895 \r\nL 43.908437 998.077895 \r\nz\r\n\" style=\"fill:#be631d;stroke:#ffffff;stroke-linejoin:miter;\"/>\r\n   </g>\r\n   <g id=\"patch_76\">\r\n    <path clip-path=\"url(#p15cad258a4)\" d=\"M 43.908437 1019.058947 \r\nL 254.304794 1019.058947 \r\nL 254.304794 1026.688421 \r\nL 43.908437 1026.688421 \r\nz\r\n\" style=\"fill:#be631d;stroke:#ffffff;stroke-linejoin:miter;\"/>\r\n   </g>\r\n   <g id=\"patch_77\">\r\n    <path clip-path=\"url(#p15cad258a4)\" d=\"M 43.908437 1047.669474 \r\nL 122.336503 1047.669474 \r\nL 122.336503 1055.298947 \r\nL 43.908437 1055.298947 \r\nz\r\n\" style=\"fill:#be631d;stroke:#ffffff;stroke-linejoin:miter;\"/>\r\n   </g>\r\n   <g id=\"patch_78\">\r\n    <path clip-path=\"url(#p15cad258a4)\" d=\"M 43.908437 1076.28 \r\nL 173.053319 1076.28 \r\nL 173.053319 1083.909474 \r\nL 43.908437 1083.909474 \r\nz\r\n\" style=\"fill:#be631d;stroke:#ffffff;stroke-linejoin:miter;\"/>\r\n   </g>\r\n   <g id=\"patch_79\">\r\n    <path clip-path=\"url(#p15cad258a4)\" d=\"M 43.908437 25.32 \r\nL 268.317275 25.32 \r\nL 268.317275 32.949474 \r\nL 43.908437 32.949474 \r\nz\r\n\" style=\"fill:#7c78ab;stroke:#ffffff;stroke-linejoin:miter;\"/>\r\n   </g>\r\n   <g id=\"patch_80\">\r\n    <path clip-path=\"url(#p15cad258a4)\" d=\"M 43.908437 53.930526 \r\nL 214.777049 53.930526 \r\nL 214.777049 61.56 \r\nL 43.908437 61.56 \r\nz\r\n\" style=\"fill:#7c78ab;stroke:#ffffff;stroke-linejoin:miter;\"/>\r\n   </g>\r\n   <g id=\"patch_81\">\r\n    <path clip-path=\"url(#p15cad258a4)\" d=\"M 43.908437 82.541053 \r\nL 294.878247 82.541053 \r\nL 294.878247 90.170526 \r\nL 43.908437 90.170526 \r\nz\r\n\" style=\"fill:#7c78ab;stroke:#ffffff;stroke-linejoin:miter;\"/>\r\n   </g>\r\n   <g id=\"patch_82\">\r\n    <path clip-path=\"url(#p15cad258a4)\" d=\"M 43.908437 111.151579 \r\nL 285.153167 111.151579 \r\nL 285.153167 118.781053 \r\nL 43.908437 118.781053 \r\nz\r\n\" style=\"fill:#7c78ab;stroke:#ffffff;stroke-linejoin:miter;\"/>\r\n   </g>\r\n   <g id=\"patch_83\">\r\n    <path clip-path=\"url(#p15cad258a4)\" d=\"M 43.908437 139.762105 \r\nL 503.287759 139.762105 \r\nL 503.287759 147.391579 \r\nL 43.908437 147.391579 \r\nz\r\n\" style=\"fill:#7c78ab;stroke:#ffffff;stroke-linejoin:miter;\"/>\r\n   </g>\r\n   <g id=\"patch_84\">\r\n    <path clip-path=\"url(#p15cad258a4)\" d=\"M 43.908437 168.372632 \r\nL 471.707392 168.372632 \r\nL 471.707392 176.002105 \r\nL 43.908437 176.002105 \r\nz\r\n\" style=\"fill:#7c78ab;stroke:#ffffff;stroke-linejoin:miter;\"/>\r\n   </g>\r\n   <g id=\"patch_85\">\r\n    <path clip-path=\"url(#p15cad258a4)\" d=\"M 43.908437 196.983158 \r\nL 533.717849 196.983158 \r\nL 533.717849 204.612632 \r\nL 43.908437 204.612632 \r\nz\r\n\" style=\"fill:#7c78ab;stroke:#ffffff;stroke-linejoin:miter;\"/>\r\n   </g>\r\n   <g id=\"patch_86\">\r\n    <path clip-path=\"url(#p15cad258a4)\" d=\"M 43.908437 225.593684 \r\nL 575.337009 225.593684 \r\nL 575.337009 233.223158 \r\nL 43.908437 233.223158 \r\nz\r\n\" style=\"fill:#7c78ab;stroke:#ffffff;stroke-linejoin:miter;\"/>\r\n   </g>\r\n   <g id=\"patch_87\">\r\n    <path clip-path=\"url(#p15cad258a4)\" d=\"M 43.908437 254.204211 \r\nL 102.258918 254.204211 \r\nL 102.258918 261.833684 \r\nL 43.908437 261.833684 \r\nz\r\n\" style=\"fill:#7c78ab;stroke:#ffffff;stroke-linejoin:miter;\"/>\r\n   </g>\r\n   <g id=\"patch_88\">\r\n    <path clip-path=\"url(#p15cad258a4)\" d=\"M 43.908437 282.814737 \r\nL 291.741124 282.814737 \r\nL 291.741124 290.444211 \r\nL 43.908437 290.444211 \r\nz\r\n\" style=\"fill:#7c78ab;stroke:#ffffff;stroke-linejoin:miter;\"/>\r\n   </g>\r\n   <g id=\"patch_89\">\r\n    <path clip-path=\"url(#p15cad258a4)\" d=\"M 43.908437 311.425263 \r\nL 266.22586 311.425263 \r\nL 266.22586 319.054737 \r\nL 43.908437 319.054737 \r\nz\r\n\" style=\"fill:#7c78ab;stroke:#ffffff;stroke-linejoin:miter;\"/>\r\n   </g>\r\n   <g id=\"patch_90\">\r\n    <path clip-path=\"url(#p15cad258a4)\" d=\"M 43.908437 340.035789 \r\nL 272.813818 340.035789 \r\nL 272.813818 347.665263 \r\nL 43.908437 347.665263 \r\nz\r\n\" style=\"fill:#7c78ab;stroke:#ffffff;stroke-linejoin:miter;\"/>\r\n   </g>\r\n   <g id=\"patch_91\">\r\n    <path clip-path=\"url(#p15cad258a4)\" d=\"M 43.908437 368.646316 \r\nL 90.02414 368.646316 \r\nL 90.02414 376.275789 \r\nL 43.908437 376.275789 \r\nz\r\n\" style=\"fill:#7c78ab;stroke:#ffffff;stroke-linejoin:miter;\"/>\r\n   </g>\r\n   <g id=\"patch_92\">\r\n    <path clip-path=\"url(#p15cad258a4)\" d=\"M 43.908437 397.256842 \r\nL 294.773676 397.256842 \r\nL 294.773676 404.886316 \r\nL 43.908437 404.886316 \r\nz\r\n\" style=\"fill:#7c78ab;stroke:#ffffff;stroke-linejoin:miter;\"/>\r\n   </g>\r\n   <g id=\"patch_93\">\r\n    <path clip-path=\"url(#p15cad258a4)\" d=\"M 43.908437 425.867368 \r\nL 283.166322 425.867368 \r\nL 283.166322 433.496842 \r\nL 43.908437 433.496842 \r\nz\r\n\" style=\"fill:#7c78ab;stroke:#ffffff;stroke-linejoin:miter;\"/>\r\n   </g>\r\n   <g id=\"patch_94\">\r\n    <path clip-path=\"url(#p15cad258a4)\" d=\"M 43.908437 454.477895 \r\nL 263.297879 454.477895 \r\nL 263.297879 462.107368 \r\nL 43.908437 462.107368 \r\nz\r\n\" style=\"fill:#7c78ab;stroke:#ffffff;stroke-linejoin:miter;\"/>\r\n   </g>\r\n   <g id=\"patch_95\">\r\n    <path clip-path=\"url(#p15cad258a4)\" d=\"M 43.908437 483.088421 \r\nL 97.657805 483.088421 \r\nL 97.657805 490.717895 \r\nL 43.908437 490.717895 \r\nz\r\n\" style=\"fill:#7c78ab;stroke:#ffffff;stroke-linejoin:miter;\"/>\r\n   </g>\r\n   <g id=\"patch_96\">\r\n    <path clip-path=\"url(#p15cad258a4)\" d=\"M 43.908437 511.698947 \r\nL 282.225186 511.698947 \r\nL 282.225186 519.328421 \r\nL 43.908437 519.328421 \r\nz\r\n\" style=\"fill:#7c78ab;stroke:#ffffff;stroke-linejoin:miter;\"/>\r\n   </g>\r\n   <g id=\"patch_97\">\r\n    <path clip-path=\"url(#p15cad258a4)\" d=\"M 43.908437 540.309474 \r\nL 349.882463 540.309474 \r\nL 349.882463 547.938947 \r\nL 43.908437 547.938947 \r\nz\r\n\" style=\"fill:#7c78ab;stroke:#ffffff;stroke-linejoin:miter;\"/>\r\n   </g>\r\n   <g id=\"patch_98\">\r\n    <path clip-path=\"url(#p15cad258a4)\" d=\"M 43.908437 568.92 \r\nL 243.011153 568.92 \r\nL 243.011153 576.549474 \r\nL 43.908437 576.549474 \r\nz\r\n\" style=\"fill:#7c78ab;stroke:#ffffff;stroke-linejoin:miter;\"/>\r\n   </g>\r\n   <g id=\"patch_99\">\r\n    <path clip-path=\"url(#p15cad258a4)\" d=\"M 43.908437 597.530526 \r\nL 242.59287 597.530526 \r\nL 242.59287 605.16 \r\nL 43.908437 605.16 \r\nz\r\n\" style=\"fill:#7c78ab;stroke:#ffffff;stroke-linejoin:miter;\"/>\r\n   </g>\r\n   <g id=\"patch_100\">\r\n    <path clip-path=\"url(#p15cad258a4)\" d=\"M 43.908437 626.141053 \r\nL 296.76052 626.141053 \r\nL 296.76052 633.770526 \r\nL 43.908437 633.770526 \r\nz\r\n\" style=\"fill:#7c78ab;stroke:#ffffff;stroke-linejoin:miter;\"/>\r\n   </g>\r\n   <g id=\"patch_101\">\r\n    <path clip-path=\"url(#p15cad258a4)\" d=\"M 43.908437 654.751579 \r\nL 303.453049 654.751579 \r\nL 303.453049 662.381053 \r\nL 43.908437 662.381053 \r\nz\r\n\" style=\"fill:#7c78ab;stroke:#ffffff;stroke-linejoin:miter;\"/>\r\n   </g>\r\n   <g id=\"patch_102\">\r\n    <path clip-path=\"url(#p15cad258a4)\" d=\"M 43.908437 683.362105 \r\nL 266.22586 683.362105 \r\nL 266.22586 690.991579 \r\nL 43.908437 690.991579 \r\nz\r\n\" style=\"fill:#7c78ab;stroke:#ffffff;stroke-linejoin:miter;\"/>\r\n   </g>\r\n   <g id=\"patch_103\">\r\n    <path clip-path=\"url(#p15cad258a4)\" d=\"M 43.908437 711.972632 \r\nL 272.604676 711.972632 \r\nL 272.604676 719.602105 \r\nL 43.908437 719.602105 \r\nz\r\n\" style=\"fill:#7c78ab;stroke:#ffffff;stroke-linejoin:miter;\"/>\r\n   </g>\r\n   <g id=\"patch_104\">\r\n    <path clip-path=\"url(#p15cad258a4)\" d=\"M 43.908437 740.583158 \r\nL 293.518827 740.583158 \r\nL 293.518827 748.212632 \r\nL 43.908437 748.212632 \r\nz\r\n\" style=\"fill:#7c78ab;stroke:#ffffff;stroke-linejoin:miter;\"/>\r\n   </g>\r\n   <g id=\"patch_105\">\r\n    <path clip-path=\"url(#p15cad258a4)\" d=\"M 43.908437 769.193684 \r\nL 353.124157 769.193684 \r\nL 353.124157 776.823158 \r\nL 43.908437 776.823158 \r\nz\r\n\" style=\"fill:#7c78ab;stroke:#ffffff;stroke-linejoin:miter;\"/>\r\n   </g>\r\n   <g id=\"patch_106\">\r\n    <path clip-path=\"url(#p15cad258a4)\" d=\"M 43.908437 797.804211 \r\nL 235.063776 797.804211 \r\nL 235.063776 805.433684 \r\nL 43.908437 805.433684 \r\nz\r\n\" style=\"fill:#7c78ab;stroke:#ffffff;stroke-linejoin:miter;\"/>\r\n   </g>\r\n   <g id=\"patch_107\">\r\n    <path clip-path=\"url(#p15cad258a4)\" d=\"M 43.908437 826.414737 \r\nL 211.953639 826.414737 \r\nL 211.953639 834.044211 \r\nL 43.908437 834.044211 \r\nz\r\n\" style=\"fill:#7c78ab;stroke:#ffffff;stroke-linejoin:miter;\"/>\r\n   </g>\r\n   <g id=\"patch_108\">\r\n    <path clip-path=\"url(#p15cad258a4)\" d=\"M 43.908437 855.025263 \r\nL 235.586629 855.025263 \r\nL 235.586629 862.654737 \r\nL 43.908437 862.654737 \r\nz\r\n\" style=\"fill:#7c78ab;stroke:#ffffff;stroke-linejoin:miter;\"/>\r\n   </g>\r\n   <g id=\"patch_109\">\r\n    <path clip-path=\"url(#p15cad258a4)\" d=\"M 43.908437 883.635789 \r\nL 207.561667 883.635789 \r\nL 207.561667 891.265263 \r\nL 43.908437 891.265263 \r\nz\r\n\" style=\"fill:#7c78ab;stroke:#ffffff;stroke-linejoin:miter;\"/>\r\n   </g>\r\n   <g id=\"patch_110\">\r\n    <path clip-path=\"url(#p15cad258a4)\" d=\"M 43.908437 912.246316 \r\nL 251.481384 912.246316 \r\nL 251.481384 919.875789 \r\nL 43.908437 919.875789 \r\nz\r\n\" style=\"fill:#7c78ab;stroke:#ffffff;stroke-linejoin:miter;\"/>\r\n   </g>\r\n   <g id=\"patch_111\">\r\n    <path clip-path=\"url(#p15cad258a4)\" d=\"M 43.908437 940.856842 \r\nL 200.241715 940.856842 \r\nL 200.241715 948.486316 \r\nL 43.908437 948.486316 \r\nz\r\n\" style=\"fill:#7c78ab;stroke:#ffffff;stroke-linejoin:miter;\"/>\r\n   </g>\r\n   <g id=\"patch_112\">\r\n    <path clip-path=\"url(#p15cad258a4)\" d=\"M 43.908437 969.467368 \r\nL 220.842153 969.467368 \r\nL 220.842153 977.096842 \r\nL 43.908437 977.096842 \r\nz\r\n\" style=\"fill:#7c78ab;stroke:#ffffff;stroke-linejoin:miter;\"/>\r\n   </g>\r\n   <g id=\"patch_113\">\r\n    <path clip-path=\"url(#p15cad258a4)\" d=\"M 43.908437 998.077895 \r\nL 199.61429 998.077895 \r\nL 199.61429 1005.707368 \r\nL 43.908437 1005.707368 \r\nz\r\n\" style=\"fill:#7c78ab;stroke:#ffffff;stroke-linejoin:miter;\"/>\r\n   </g>\r\n   <g id=\"patch_114\">\r\n    <path clip-path=\"url(#p15cad258a4)\" d=\"M 43.908437 1026.688421 \r\nL 261.520176 1026.688421 \r\nL 261.520176 1034.317895 \r\nL 43.908437 1034.317895 \r\nz\r\n\" style=\"fill:#7c78ab;stroke:#ffffff;stroke-linejoin:miter;\"/>\r\n   </g>\r\n   <g id=\"patch_115\">\r\n    <path clip-path=\"url(#p15cad258a4)\" d=\"M 43.908437 1055.298947 \r\nL 120.140517 1055.298947 \r\nL 120.140517 1062.928421 \r\nL 43.908437 1062.928421 \r\nz\r\n\" style=\"fill:#7c78ab;stroke:#ffffff;stroke-linejoin:miter;\"/>\r\n   </g>\r\n   <g id=\"patch_116\">\r\n    <path clip-path=\"url(#p15cad258a4)\" d=\"M 43.908437 1083.909474 \r\nL 174.726451 1083.909474 \r\nL 174.726451 1091.538947 \r\nL 43.908437 1091.538947 \r\nz\r\n\" style=\"fill:#7c78ab;stroke:#ffffff;stroke-linejoin:miter;\"/>\r\n   </g>\r\n   <g id=\"patch_117\">\r\n    <path d=\"M 43.908437 1094.4 \r\nL 43.908437 7.2 \r\n\" style=\"fill:none;stroke:#ffffff;stroke-linecap:square;stroke-linejoin:miter;stroke-width:1.25;\"/>\r\n   </g>\r\n   <g id=\"patch_118\">\r\n    <path d=\"M 601.908437 1094.4 \r\nL 601.908437 7.2 \r\n\" style=\"fill:none;stroke:#ffffff;stroke-linecap:square;stroke-linejoin:miter;stroke-width:1.25;\"/>\r\n   </g>\r\n   <g id=\"patch_119\">\r\n    <path d=\"M 43.908437 1094.4 \r\nL 601.908437 1094.4 \r\n\" style=\"fill:none;stroke:#ffffff;stroke-linecap:square;stroke-linejoin:miter;stroke-width:1.25;\"/>\r\n   </g>\r\n   <g id=\"patch_120\">\r\n    <path d=\"M 43.908437 7.2 \r\nL 601.908437 7.2 \r\n\" style=\"fill:none;stroke:#ffffff;stroke-linecap:square;stroke-linejoin:miter;stroke-width:1.25;\"/>\r\n   </g>\r\n   <g id=\"legend_1\">\r\n    <g id=\"patch_121\">\r\n     <path d=\"M 519.279531 79.153906 \r\nL 594.208438 79.153906 \r\nQ 596.408438 79.153906 596.408438 76.953906 \r\nL 596.408438 14.9 \r\nQ 596.408438 12.7 594.208438 12.7 \r\nL 519.279531 12.7 \r\nQ 517.079531 12.7 517.079531 14.9 \r\nL 517.079531 76.953906 \r\nQ 517.079531 79.153906 519.279531 79.153906 \r\nz\r\n\" style=\"fill:#eaeaf2;opacity:0.8;stroke:#cccccc;stroke-linejoin:miter;\"/>\r\n    </g>\r\n    <g id=\"text_47\">\r\n     <!-- Shift -->\r\n     <g style=\"fill:#262626;\" transform=\"translate(544.738359 25.689375)scale(0.12 -0.12)\">\r\n      <defs>\r\n       <path d=\"M 6.59375 0 \r\nL 6.59375 71.578125 \r\nL 15.375 71.578125 \r\nL 15.375 45.90625 \r\nQ 21.53125 53.03125 30.90625 53.03125 \r\nQ 36.671875 53.03125 40.921875 50.75 \r\nQ 45.171875 48.484375 47 44.484375 \r\nQ 48.828125 40.484375 48.828125 32.859375 \r\nL 48.828125 0 \r\nL 40.046875 0 \r\nL 40.046875 32.859375 \r\nQ 40.046875 39.453125 37.1875 42.453125 \r\nQ 34.328125 45.453125 29.109375 45.453125 \r\nQ 25.203125 45.453125 21.75 43.421875 \r\nQ 18.3125 41.40625 16.84375 37.9375 \r\nQ 15.375 34.46875 15.375 28.375 \r\nL 15.375 0 \r\nz\r\n\" id=\"ArialMT-104\"/>\r\n       <path d=\"M 8.6875 0 \r\nL 8.6875 45.015625 \r\nL 0.921875 45.015625 \r\nL 0.921875 51.859375 \r\nL 8.6875 51.859375 \r\nL 8.6875 57.375 \r\nQ 8.6875 62.59375 9.625 65.140625 \r\nQ 10.890625 68.5625 14.078125 70.671875 \r\nQ 17.28125 72.796875 23.046875 72.796875 \r\nQ 26.765625 72.796875 31.25 71.921875 \r\nL 29.9375 64.265625 \r\nQ 27.203125 64.75 24.75 64.75 \r\nQ 20.75 64.75 19.09375 63.03125 \r\nQ 17.4375 61.328125 17.4375 56.640625 \r\nL 17.4375 51.859375 \r\nL 27.546875 51.859375 \r\nL 27.546875 45.015625 \r\nL 17.4375 45.015625 \r\nL 17.4375 0 \r\nz\r\n\" id=\"ArialMT-102\"/>\r\n      </defs>\r\n      <use xlink:href=\"#ArialMT-83\"/>\r\n      <use x=\"66.699219\" xlink:href=\"#ArialMT-104\"/>\r\n      <use x=\"122.314453\" xlink:href=\"#ArialMT-105\"/>\r\n      <use x=\"144.53125\" xlink:href=\"#ArialMT-102\"/>\r\n      <use x=\"172.314453\" xlink:href=\"#ArialMT-116\"/>\r\n     </g>\r\n    </g>\r\n    <g id=\"patch_122\">\r\n     <path d=\"M 521.479531 41.447969 \r\nL 543.479531 41.447969 \r\nL 543.479531 33.747969 \r\nL 521.479531 33.747969 \r\nz\r\n\" style=\"fill:#2b8e70;stroke:#ffffff;stroke-linejoin:miter;\"/>\r\n    </g>\r\n    <g id=\"text_48\">\r\n     <!-- A - Shift -->\r\n     <g style=\"fill:#262626;\" transform=\"translate(552.279531 41.447969)scale(0.11 -0.11)\">\r\n      <defs>\r\n       <path d=\"M -0.140625 0 \r\nL 27.34375 71.578125 \r\nL 37.546875 71.578125 \r\nL 66.84375 0 \r\nL 56.0625 0 \r\nL 47.703125 21.6875 \r\nL 17.78125 21.6875 \r\nL 9.90625 0 \r\nz\r\nM 20.515625 29.390625 \r\nL 44.78125 29.390625 \r\nL 37.3125 49.21875 \r\nQ 33.890625 58.25 32.234375 64.0625 \r\nQ 30.859375 57.171875 28.375 50.390625 \r\nz\r\n\" id=\"ArialMT-65\"/>\r\n       <path id=\"ArialMT-32\"/>\r\n       <path d=\"M 3.171875 21.484375 \r\nL 3.171875 30.328125 \r\nL 30.171875 30.328125 \r\nL 30.171875 21.484375 \r\nz\r\n\" id=\"ArialMT-45\"/>\r\n      </defs>\r\n      <use xlink:href=\"#ArialMT-65\"/>\r\n      <use x=\"61.199219\" xlink:href=\"#ArialMT-32\"/>\r\n      <use x=\"88.982422\" xlink:href=\"#ArialMT-45\"/>\r\n      <use x=\"122.283203\" xlink:href=\"#ArialMT-32\"/>\r\n      <use x=\"150.066406\" xlink:href=\"#ArialMT-83\"/>\r\n      <use x=\"216.765625\" xlink:href=\"#ArialMT-104\"/>\r\n      <use x=\"272.380859\" xlink:href=\"#ArialMT-105\"/>\r\n      <use x=\"294.597656\" xlink:href=\"#ArialMT-102\"/>\r\n      <use x=\"322.380859\" xlink:href=\"#ArialMT-116\"/>\r\n     </g>\r\n    </g>\r\n    <g id=\"patch_123\">\r\n     <path d=\"M 521.479531 57.007813 \r\nL 543.479531 57.007813 \r\nL 543.479531 49.307813 \r\nL 521.479531 49.307813 \r\nz\r\n\" style=\"fill:#be631d;stroke:#ffffff;stroke-linejoin:miter;\"/>\r\n    </g>\r\n    <g id=\"text_49\">\r\n     <!-- B - Shift -->\r\n     <g style=\"fill:#262626;\" transform=\"translate(552.279531 57.007813)scale(0.11 -0.11)\">\r\n      <defs>\r\n       <path d=\"M 7.328125 0 \r\nL 7.328125 71.578125 \r\nL 34.1875 71.578125 \r\nQ 42.390625 71.578125 47.34375 69.40625 \r\nQ 52.296875 67.234375 55.09375 62.71875 \r\nQ 57.90625 58.203125 57.90625 53.265625 \r\nQ 57.90625 48.6875 55.421875 44.625 \r\nQ 52.9375 40.578125 47.90625 38.09375 \r\nQ 54.390625 36.1875 57.875 31.59375 \r\nQ 61.375 27 61.375 20.75 \r\nQ 61.375 15.71875 59.25 11.390625 \r\nQ 57.125 7.078125 54 4.734375 \r\nQ 50.875 2.390625 46.15625 1.1875 \r\nQ 41.453125 0 34.625 0 \r\nz\r\nM 16.796875 41.5 \r\nL 32.28125 41.5 \r\nQ 38.578125 41.5 41.3125 42.328125 \r\nQ 44.921875 43.40625 46.75 45.890625 \r\nQ 48.578125 48.390625 48.578125 52.15625 \r\nQ 48.578125 55.71875 46.875 58.421875 \r\nQ 45.171875 61.140625 41.984375 62.140625 \r\nQ 38.8125 63.140625 31.109375 63.140625 \r\nL 16.796875 63.140625 \r\nz\r\nM 16.796875 8.453125 \r\nL 34.625 8.453125 \r\nQ 39.203125 8.453125 41.0625 8.796875 \r\nQ 44.34375 9.375 46.53125 10.734375 \r\nQ 48.734375 12.109375 50.140625 14.71875 \r\nQ 51.5625 17.328125 51.5625 20.75 \r\nQ 51.5625 24.75 49.515625 27.703125 \r\nQ 47.46875 30.671875 43.828125 31.859375 \r\nQ 40.1875 33.0625 33.34375 33.0625 \r\nL 16.796875 33.0625 \r\nz\r\n\" id=\"ArialMT-66\"/>\r\n      </defs>\r\n      <use xlink:href=\"#ArialMT-66\"/>\r\n      <use x=\"66.699219\" xlink:href=\"#ArialMT-32\"/>\r\n      <use x=\"94.482422\" xlink:href=\"#ArialMT-45\"/>\r\n      <use x=\"127.783203\" xlink:href=\"#ArialMT-32\"/>\r\n      <use x=\"155.566406\" xlink:href=\"#ArialMT-83\"/>\r\n      <use x=\"222.265625\" xlink:href=\"#ArialMT-104\"/>\r\n      <use x=\"277.880859\" xlink:href=\"#ArialMT-105\"/>\r\n      <use x=\"300.097656\" xlink:href=\"#ArialMT-102\"/>\r\n      <use x=\"327.880859\" xlink:href=\"#ArialMT-116\"/>\r\n     </g>\r\n    </g>\r\n    <g id=\"patch_124\">\r\n     <path d=\"M 521.479531 72.567656 \r\nL 543.479531 72.567656 \r\nL 543.479531 64.867656 \r\nL 521.479531 64.867656 \r\nz\r\n\" style=\"fill:#7c78ab;stroke:#ffffff;stroke-linejoin:miter;\"/>\r\n    </g>\r\n    <g id=\"text_50\">\r\n     <!-- C - Shift -->\r\n     <g style=\"fill:#262626;\" transform=\"translate(552.279531 72.567656)scale(0.11 -0.11)\">\r\n      <defs>\r\n       <path d=\"M 58.796875 25.09375 \r\nL 68.265625 22.703125 \r\nQ 65.28125 11.03125 57.546875 4.90625 \r\nQ 49.8125 -1.21875 38.625 -1.21875 \r\nQ 27.046875 -1.21875 19.796875 3.484375 \r\nQ 12.546875 8.203125 8.765625 17.140625 \r\nQ 4.984375 26.078125 4.984375 36.328125 \r\nQ 4.984375 47.515625 9.25 55.828125 \r\nQ 13.53125 64.15625 21.40625 68.46875 \r\nQ 29.296875 72.796875 38.765625 72.796875 \r\nQ 49.515625 72.796875 56.828125 67.328125 \r\nQ 64.15625 61.859375 67.046875 51.953125 \r\nL 57.71875 49.75 \r\nQ 55.21875 57.5625 50.484375 61.125 \r\nQ 45.75 64.703125 38.578125 64.703125 \r\nQ 30.328125 64.703125 24.78125 60.734375 \r\nQ 19.234375 56.78125 16.984375 50.109375 \r\nQ 14.75 43.453125 14.75 36.375 \r\nQ 14.75 27.25 17.40625 20.4375 \r\nQ 20.0625 13.625 25.671875 10.25 \r\nQ 31.296875 6.890625 37.84375 6.890625 \r\nQ 45.796875 6.890625 51.3125 11.46875 \r\nQ 56.84375 16.0625 58.796875 25.09375 \r\nz\r\n\" id=\"ArialMT-67\"/>\r\n      </defs>\r\n      <use xlink:href=\"#ArialMT-67\"/>\r\n      <use x=\"72.216797\" xlink:href=\"#ArialMT-32\"/>\r\n      <use x=\"100\" xlink:href=\"#ArialMT-45\"/>\r\n      <use x=\"133.300781\" xlink:href=\"#ArialMT-32\"/>\r\n      <use x=\"161.083984\" xlink:href=\"#ArialMT-83\"/>\r\n      <use x=\"227.783203\" xlink:href=\"#ArialMT-104\"/>\r\n      <use x=\"283.398438\" xlink:href=\"#ArialMT-105\"/>\r\n      <use x=\"305.615234\" xlink:href=\"#ArialMT-102\"/>\r\n      <use x=\"333.398438\" xlink:href=\"#ArialMT-116\"/>\r\n     </g>\r\n    </g>\r\n   </g>\r\n  </g>\r\n </g>\r\n <defs>\r\n  <clipPath id=\"p15cad258a4\">\r\n   <rect height=\"1087.2\" width=\"558\" x=\"43.908437\" y=\"7.2\"/>\r\n  </clipPath>\r\n </defs>\r\n</svg>\r\n",
      "image/png": "[encoded data removed]"
     },
     "metadata": {}
    }
   ],
   "source": [
    "q4_vis.frequency_plot_station('Shift')"
   ]
  },
  {
   "cell_type": "code",
   "execution_count": 6,
   "metadata": {},
   "outputs": [
    {
     "output_type": "display_data",
     "data": {
      "application/vnd.plotly.v1+json": {
       "config": {
        "plotlyServerURL": "https://plot.ly"
       },
       "data": [
        {
         "branchvalues": "total",
         "customdata": [
          [
           "Canceled (Prior to Arrival)",
           1
          ],
          [
           "Canceled (Prior to Arrival)",
           2
          ],
          [
           "Canceled (Prior to Arrival)",
           4
          ],
          [
           "Canceled (Prior to Arrival)",
           5
          ],
          [
           "Canceled (Prior to Arrival)",
           8
          ],
          [
           "Canceled (Prior to Arrival)",
           9
          ],
          [
           "Canceled (Prior to Arrival)",
           10
          ],
          [
           "Canceled (Prior to Arrival)",
           11
          ],
          [
           "Canceled (Prior to Arrival)",
           12
          ],
          [
           "Canceled (Prior to Arrival)",
           13
          ],
          [
           "Canceled (Prior to Arrival)",
           14
          ],
          [
           "Canceled (Prior to Arrival)",
           15
          ],
          [
           "Canceled (Prior to Arrival)",
           16
          ],
          [
           "Canceled (Prior to Arrival)",
           17
          ],
          [
           "Canceled (Prior to Arrival)",
           18
          ],
          [
           "Canceled (Prior to Arrival)",
           19
          ],
          [
           "Canceled (Prior to Arrival)",
           20
          ],
          [
           "Canceled (Prior to Arrival)",
           21
          ],
          [
           "Canceled (Prior to Arrival)",
           22
          ],
          [
           "Canceled (Prior to Arrival)",
           23
          ],
          [
           "Canceled (Prior to Arrival)",
           24
          ],
          [
           "Canceled (Prior to Arrival)",
           25
          ],
          [
           "Canceled (Prior to Arrival)",
           26
          ],
          [
           "Canceled (Prior to Arrival)",
           27
          ],
          [
           "Canceled (Prior to Arrival)",
           28
          ],
          [
           "Canceled (Prior to Arrival)",
           29
          ],
          [
           "Canceled (Prior to Arrival)",
           30
          ],
          [
           "Canceled (Prior to Arrival)",
           31
          ],
          [
           "Canceled (Prior to Arrival)",
           32
          ],
          [
           "Canceled (Prior to Arrival)",
           34
          ],
          [
           "Canceled (Prior to Arrival)",
           35
          ],
          [
           "Canceled (Prior to Arrival)",
           36
          ],
          [
           "Canceled (Prior to Arrival)",
           37
          ],
          [
           "Canceled (Prior to Arrival)",
           38
          ],
          [
           "Canceled (Prior to Arrival)",
           39
          ],
          [
           "Canceled (Prior to Arrival)",
           40
          ],
          [
           "Canceled (Prior to Arrival)",
           41
          ],
          [
           "Canceled (Prior to Arrival)",
           42
          ],
          [
           "No Treatment/Transport Required",
           1
          ],
          [
           "No Treatment/Transport Required",
           2
          ],
          [
           "No Treatment/Transport Required",
           4
          ],
          [
           "No Treatment/Transport Required",
           5
          ],
          [
           "No Treatment/Transport Required",
           8
          ],
          [
           "No Treatment/Transport Required",
           9
          ],
          [
           "No Treatment/Transport Required",
           10
          ],
          [
           "No Treatment/Transport Required",
           11
          ],
          [
           "No Treatment/Transport Required",
           12
          ],
          [
           "No Treatment/Transport Required",
           13
          ],
          [
           "No Treatment/Transport Required",
           14
          ],
          [
           "No Treatment/Transport Required",
           15
          ],
          [
           "No Treatment/Transport Required",
           16
          ],
          [
           "No Treatment/Transport Required",
           17
          ],
          [
           "No Treatment/Transport Required",
           18
          ],
          [
           "No Treatment/Transport Required",
           19
          ],
          [
           "No Treatment/Transport Required",
           20
          ],
          [
           "No Treatment/Transport Required",
           21
          ],
          [
           "No Treatment/Transport Required",
           22
          ],
          [
           "No Treatment/Transport Required",
           23
          ],
          [
           "No Treatment/Transport Required",
           24
          ],
          [
           "No Treatment/Transport Required",
           25
          ],
          [
           "No Treatment/Transport Required",
           26
          ],
          [
           "No Treatment/Transport Required",
           27
          ],
          [
           "No Treatment/Transport Required",
           28
          ],
          [
           "No Treatment/Transport Required",
           29
          ],
          [
           "No Treatment/Transport Required",
           30
          ],
          [
           "No Treatment/Transport Required",
           31
          ],
          [
           "No Treatment/Transport Required",
           32
          ],
          [
           "No Treatment/Transport Required",
           34
          ],
          [
           "No Treatment/Transport Required",
           35
          ],
          [
           "No Treatment/Transport Required",
           36
          ],
          [
           "No Treatment/Transport Required",
           37
          ],
          [
           "No Treatment/Transport Required",
           38
          ],
          [
           "No Treatment/Transport Required",
           39
          ],
          [
           "No Treatment/Transport Required",
           40
          ],
          [
           "No Treatment/Transport Required",
           41
          ],
          [
           "No Treatment/Transport Required",
           42
          ],
          [
           "Patient Refusal  (AMA)",
           1
          ],
          [
           "Patient Refusal  (AMA)",
           2
          ],
          [
           "Patient Refusal  (AMA)",
           4
          ],
          [
           "Patient Refusal  (AMA)",
           5
          ],
          [
           "Patient Refusal  (AMA)",
           8
          ],
          [
           "Patient Refusal  (AMA)",
           9
          ],
          [
           "Patient Refusal  (AMA)",
           10
          ],
          [
           "Patient Refusal  (AMA)",
           11
          ],
          [
           "Patient Refusal  (AMA)",
           12
          ],
          [
           "Patient Refusal  (AMA)",
           13
          ],
          [
           "Patient Refusal  (AMA)",
           14
          ],
          [
           "Patient Refusal  (AMA)",
           15
          ],
          [
           "Patient Refusal  (AMA)",
           16
          ],
          [
           "Patient Refusal  (AMA)",
           17
          ],
          [
           "Patient Refusal  (AMA)",
           18
          ],
          [
           "Patient Refusal  (AMA)",
           19
          ],
          [
           "Patient Refusal  (AMA)",
           20
          ],
          [
           "Patient Refusal  (AMA)",
           21
          ],
          [
           "Patient Refusal  (AMA)",
           22
          ],
          [
           "Patient Refusal  (AMA)",
           23
          ],
          [
           "Patient Refusal  (AMA)",
           24
          ],
          [
           "Patient Refusal  (AMA)",
           25
          ],
          [
           "Patient Refusal  (AMA)",
           26
          ],
          [
           "Patient Refusal  (AMA)",
           27
          ],
          [
           "Patient Refusal  (AMA)",
           28
          ],
          [
           "Patient Refusal  (AMA)",
           29
          ],
          [
           "Patient Refusal  (AMA)",
           30
          ],
          [
           "Patient Refusal  (AMA)",
           31
          ],
          [
           "Patient Refusal  (AMA)",
           32
          ],
          [
           "Patient Refusal  (AMA)",
           34
          ],
          [
           "Patient Refusal  (AMA)",
           35
          ],
          [
           "Patient Refusal  (AMA)",
           36
          ],
          [
           "Patient Refusal  (AMA)",
           37
          ],
          [
           "Patient Refusal  (AMA)",
           38
          ],
          [
           "Patient Refusal  (AMA)",
           39
          ],
          [
           "Patient Refusal  (AMA)",
           40
          ],
          [
           "Patient Refusal  (AMA)",
           41
          ],
          [
           "Patient Refusal  (AMA)",
           42
          ],
          [
           "Canceled (Prior to Arrival)",
           1
          ],
          [
           "Canceled (Prior to Arrival)",
           2
          ],
          [
           "Canceled (Prior to Arrival)",
           4
          ],
          [
           "Canceled (Prior to Arrival)",
           5
          ],
          [
           "Canceled (Prior to Arrival)",
           8
          ],
          [
           "Canceled (Prior to Arrival)",
           9
          ],
          [
           "Canceled (Prior to Arrival)",
           10
          ],
          [
           "Canceled (Prior to Arrival)",
           11
          ],
          [
           "Canceled (Prior to Arrival)",
           12
          ],
          [
           "Canceled (Prior to Arrival)",
           13
          ],
          [
           "Canceled (Prior to Arrival)",
           14
          ],
          [
           "Canceled (Prior to Arrival)",
           15
          ],
          [
           "Canceled (Prior to Arrival)",
           16
          ],
          [
           "Canceled (Prior to Arrival)",
           17
          ],
          [
           "Canceled (Prior to Arrival)",
           18
          ],
          [
           "Canceled (Prior to Arrival)",
           19
          ],
          [
           "Canceled (Prior to Arrival)",
           20
          ],
          [
           "Canceled (Prior to Arrival)",
           21
          ],
          [
           "Canceled (Prior to Arrival)",
           22
          ],
          [
           "Canceled (Prior to Arrival)",
           23
          ],
          [
           "Canceled (Prior to Arrival)",
           24
          ],
          [
           "Canceled (Prior to Arrival)",
           25
          ],
          [
           "Canceled (Prior to Arrival)",
           26
          ],
          [
           "Canceled (Prior to Arrival)",
           27
          ],
          [
           "Canceled (Prior to Arrival)",
           28
          ],
          [
           "Canceled (Prior to Arrival)",
           29
          ],
          [
           "Canceled (Prior to Arrival)",
           30
          ],
          [
           "Canceled (Prior to Arrival)",
           31
          ],
          [
           "Canceled (Prior to Arrival)",
           32
          ],
          [
           "Canceled (Prior to Arrival)",
           34
          ],
          [
           "Canceled (Prior to Arrival)",
           35
          ],
          [
           "Canceled (Prior to Arrival)",
           36
          ],
          [
           "Canceled (Prior to Arrival)",
           37
          ],
          [
           "Canceled (Prior to Arrival)",
           38
          ],
          [
           "Canceled (Prior to Arrival)",
           39
          ],
          [
           "Canceled (Prior to Arrival)",
           40
          ],
          [
           "Canceled (Prior to Arrival)",
           41
          ],
          [
           "Canceled (Prior to Arrival)",
           42
          ],
          [
           "No Treatment/Transport Required",
           1
          ],
          [
           "No Treatment/Transport Required",
           2
          ],
          [
           "No Treatment/Transport Required",
           4
          ],
          [
           "No Treatment/Transport Required",
           5
          ],
          [
           "No Treatment/Transport Required",
           8
          ],
          [
           "No Treatment/Transport Required",
           9
          ],
          [
           "No Treatment/Transport Required",
           10
          ],
          [
           "No Treatment/Transport Required",
           11
          ],
          [
           "No Treatment/Transport Required",
           12
          ],
          [
           "No Treatment/Transport Required",
           13
          ],
          [
           "No Treatment/Transport Required",
           14
          ],
          [
           "No Treatment/Transport Required",
           15
          ],
          [
           "No Treatment/Transport Required",
           16
          ],
          [
           "No Treatment/Transport Required",
           17
          ],
          [
           "No Treatment/Transport Required",
           18
          ],
          [
           "No Treatment/Transport Required",
           19
          ],
          [
           "No Treatment/Transport Required",
           20
          ],
          [
           "No Treatment/Transport Required",
           21
          ],
          [
           "No Treatment/Transport Required",
           22
          ],
          [
           "No Treatment/Transport Required",
           23
          ],
          [
           "No Treatment/Transport Required",
           24
          ],
          [
           "No Treatment/Transport Required",
           25
          ],
          [
           "No Treatment/Transport Required",
           26
          ],
          [
           "No Treatment/Transport Required",
           27
          ],
          [
           "No Treatment/Transport Required",
           28
          ],
          [
           "No Treatment/Transport Required",
           29
          ],
          [
           "No Treatment/Transport Required",
           30
          ],
          [
           "No Treatment/Transport Required",
           31
          ],
          [
           "No Treatment/Transport Required",
           32
          ],
          [
           "No Treatment/Transport Required",
           34
          ],
          [
           "No Treatment/Transport Required",
           35
          ],
          [
           "No Treatment/Transport Required",
           36
          ],
          [
           "No Treatment/Transport Required",
           37
          ],
          [
           "No Treatment/Transport Required",
           38
          ],
          [
           "No Treatment/Transport Required",
           39
          ],
          [
           "No Treatment/Transport Required",
           40
          ],
          [
           "No Treatment/Transport Required",
           41
          ],
          [
           "No Treatment/Transport Required",
           42
          ],
          [
           "Patient Refusal  (AMA)",
           1
          ],
          [
           "Patient Refusal  (AMA)",
           2
          ],
          [
           "Patient Refusal  (AMA)",
           4
          ],
          [
           "Patient Refusal  (AMA)",
           5
          ],
          [
           "Patient Refusal  (AMA)",
           8
          ],
          [
           "Patient Refusal  (AMA)",
           9
          ],
          [
           "Patient Refusal  (AMA)",
           10
          ],
          [
           "Patient Refusal  (AMA)",
           11
          ],
          [
           "Patient Refusal  (AMA)",
           12
          ],
          [
           "Patient Refusal  (AMA)",
           13
          ],
          [
           "Patient Refusal  (AMA)",
           14
          ],
          [
           "Patient Refusal  (AMA)",
           15
          ],
          [
           "Patient Refusal  (AMA)",
           16
          ],
          [
           "Patient Refusal  (AMA)",
           17
          ],
          [
           "Patient Refusal  (AMA)",
           18
          ],
          [
           "Patient Refusal  (AMA)",
           19
          ],
          [
           "Patient Refusal  (AMA)",
           20
          ],
          [
           "Patient Refusal  (AMA)",
           21
          ],
          [
           "Patient Refusal  (AMA)",
           22
          ],
          [
           "Patient Refusal  (AMA)",
           23
          ],
          [
           "Patient Refusal  (AMA)",
           24
          ],
          [
           "Patient Refusal  (AMA)",
           25
          ],
          [
           "Patient Refusal  (AMA)",
           26
          ],
          [
           "Patient Refusal  (AMA)",
           27
          ],
          [
           "Patient Refusal  (AMA)",
           28
          ],
          [
           "Patient Refusal  (AMA)",
           29
          ],
          [
           "Patient Refusal  (AMA)",
           30
          ],
          [
           "Patient Refusal  (AMA)",
           31
          ],
          [
           "Patient Refusal  (AMA)",
           32
          ],
          [
           "Patient Refusal  (AMA)",
           34
          ],
          [
           "Patient Refusal  (AMA)",
           35
          ],
          [
           "Patient Refusal  (AMA)",
           36
          ],
          [
           "Patient Refusal  (AMA)",
           37
          ],
          [
           "Patient Refusal  (AMA)",
           38
          ],
          [
           "Patient Refusal  (AMA)",
           39
          ],
          [
           "Patient Refusal  (AMA)",
           40
          ],
          [
           "Patient Refusal  (AMA)",
           41
          ],
          [
           "Patient Refusal  (AMA)",
           42
          ],
          [
           "Canceled (Prior to Arrival)",
           1
          ],
          [
           "Canceled (Prior to Arrival)",
           2
          ],
          [
           "Canceled (Prior to Arrival)",
           4
          ],
          [
           "Canceled (Prior to Arrival)",
           5
          ],
          [
           "Canceled (Prior to Arrival)",
           8
          ],
          [
           "Canceled (Prior to Arrival)",
           9
          ],
          [
           "Canceled (Prior to Arrival)",
           10
          ],
          [
           "Canceled (Prior to Arrival)",
           11
          ],
          [
           "Canceled (Prior to Arrival)",
           12
          ],
          [
           "Canceled (Prior to Arrival)",
           13
          ],
          [
           "Canceled (Prior to Arrival)",
           14
          ],
          [
           "Canceled (Prior to Arrival)",
           15
          ],
          [
           "Canceled (Prior to Arrival)",
           16
          ],
          [
           "Canceled (Prior to Arrival)",
           17
          ],
          [
           "Canceled (Prior to Arrival)",
           18
          ],
          [
           "Canceled (Prior to Arrival)",
           19
          ],
          [
           "Canceled (Prior to Arrival)",
           20
          ],
          [
           "Canceled (Prior to Arrival)",
           21
          ],
          [
           "Canceled (Prior to Arrival)",
           22
          ],
          [
           "Canceled (Prior to Arrival)",
           23
          ],
          [
           "Canceled (Prior to Arrival)",
           24
          ],
          [
           "Canceled (Prior to Arrival)",
           25
          ],
          [
           "Canceled (Prior to Arrival)",
           26
          ],
          [
           "Canceled (Prior to Arrival)",
           27
          ],
          [
           "Canceled (Prior to Arrival)",
           28
          ],
          [
           "Canceled (Prior to Arrival)",
           29
          ],
          [
           "Canceled (Prior to Arrival)",
           30
          ],
          [
           "Canceled (Prior to Arrival)",
           31
          ],
          [
           "Canceled (Prior to Arrival)",
           32
          ],
          [
           "Canceled (Prior to Arrival)",
           34
          ],
          [
           "Canceled (Prior to Arrival)",
           35
          ],
          [
           "Canceled (Prior to Arrival)",
           36
          ],
          [
           "Canceled (Prior to Arrival)",
           37
          ],
          [
           "Canceled (Prior to Arrival)",
           38
          ],
          [
           "Canceled (Prior to Arrival)",
           39
          ],
          [
           "Canceled (Prior to Arrival)",
           40
          ],
          [
           "Canceled (Prior to Arrival)",
           41
          ],
          [
           "Canceled (Prior to Arrival)",
           42
          ],
          [
           "No Treatment/Transport Required",
           1
          ],
          [
           "No Treatment/Transport Required",
           2
          ],
          [
           "No Treatment/Transport Required",
           4
          ],
          [
           "No Treatment/Transport Required",
           5
          ],
          [
           "No Treatment/Transport Required",
           8
          ],
          [
           "No Treatment/Transport Required",
           9
          ],
          [
           "No Treatment/Transport Required",
           10
          ],
          [
           "No Treatment/Transport Required",
           11
          ],
          [
           "No Treatment/Transport Required",
           12
          ],
          [
           "No Treatment/Transport Required",
           13
          ],
          [
           "No Treatment/Transport Required",
           14
          ],
          [
           "No Treatment/Transport Required",
           15
          ],
          [
           "No Treatment/Transport Required",
           16
          ],
          [
           "No Treatment/Transport Required",
           17
          ],
          [
           "No Treatment/Transport Required",
           18
          ],
          [
           "No Treatment/Transport Required",
           19
          ],
          [
           "No Treatment/Transport Required",
           20
          ],
          [
           "No Treatment/Transport Required",
           21
          ],
          [
           "No Treatment/Transport Required",
           22
          ],
          [
           "No Treatment/Transport Required",
           23
          ],
          [
           "No Treatment/Transport Required",
           24
          ],
          [
           "No Treatment/Transport Required",
           25
          ],
          [
           "No Treatment/Transport Required",
           26
          ],
          [
           "No Treatment/Transport Required",
           27
          ],
          [
           "No Treatment/Transport Required",
           28
          ],
          [
           "No Treatment/Transport Required",
           29
          ],
          [
           "No Treatment/Transport Required",
           30
          ],
          [
           "No Treatment/Transport Required",
           31
          ],
          [
           "No Treatment/Transport Required",
           32
          ],
          [
           "No Treatment/Transport Required",
           34
          ],
          [
           "No Treatment/Transport Required",
           35
          ],
          [
           "No Treatment/Transport Required",
           36
          ],
          [
           "No Treatment/Transport Required",
           37
          ],
          [
           "No Treatment/Transport Required",
           38
          ],
          [
           "No Treatment/Transport Required",
           39
          ],
          [
           "No Treatment/Transport Required",
           40
          ],
          [
           "No Treatment/Transport Required",
           41
          ],
          [
           "No Treatment/Transport Required",
           42
          ],
          [
           "Patient Refusal  (AMA)",
           1
          ],
          [
           "Patient Refusal  (AMA)",
           2
          ],
          [
           "Patient Refusal  (AMA)",
           4
          ],
          [
           "Patient Refusal  (AMA)",
           5
          ],
          [
           "Patient Refusal  (AMA)",
           8
          ],
          [
           "Patient Refusal  (AMA)",
           9
          ],
          [
           "Patient Refusal  (AMA)",
           10
          ],
          [
           "Patient Refusal  (AMA)",
           11
          ],
          [
           "Patient Refusal  (AMA)",
           12
          ],
          [
           "Patient Refusal  (AMA)",
           13
          ],
          [
           "Patient Refusal  (AMA)",
           14
          ],
          [
           "Patient Refusal  (AMA)",
           15
          ],
          [
           "Patient Refusal  (AMA)",
           16
          ],
          [
           "Patient Refusal  (AMA)",
           17
          ],
          [
           "Patient Refusal  (AMA)",
           18
          ],
          [
           "Patient Refusal  (AMA)",
           19
          ],
          [
           "Patient Refusal  (AMA)",
           20
          ],
          [
           "Patient Refusal  (AMA)",
           21
          ],
          [
           "Patient Refusal  (AMA)",
           22
          ],
          [
           "Patient Refusal  (AMA)",
           23
          ],
          [
           "Patient Refusal  (AMA)",
           24
          ],
          [
           "Patient Refusal  (AMA)",
           25
          ],
          [
           "Patient Refusal  (AMA)",
           26
          ],
          [
           "Patient Refusal  (AMA)",
           27
          ],
          [
           "Patient Refusal  (AMA)",
           28
          ],
          [
           "Patient Refusal  (AMA)",
           29
          ],
          [
           "Patient Refusal  (AMA)",
           30
          ],
          [
           "Patient Refusal  (AMA)",
           31
          ],
          [
           "Patient Refusal  (AMA)",
           32
          ],
          [
           "Patient Refusal  (AMA)",
           34
          ],
          [
           "Patient Refusal  (AMA)",
           35
          ],
          [
           "Patient Refusal  (AMA)",
           36
          ],
          [
           "Patient Refusal  (AMA)",
           37
          ],
          [
           "Patient Refusal  (AMA)",
           38
          ],
          [
           "Patient Refusal  (AMA)",
           39
          ],
          [
           "Patient Refusal  (AMA)",
           40
          ],
          [
           "Patient Refusal  (AMA)",
           41
          ],
          [
           "Patient Refusal  (AMA)",
           42
          ],
          [
           "Canceled (Prior to Arrival)",
           1
          ],
          [
           "Canceled (Prior to Arrival)",
           2
          ],
          [
           "Canceled (Prior to Arrival)",
           4
          ],
          [
           "Canceled (Prior to Arrival)",
           5
          ],
          [
           "Canceled (Prior to Arrival)",
           8
          ],
          [
           "Canceled (Prior to Arrival)",
           9
          ],
          [
           "Canceled (Prior to Arrival)",
           10
          ],
          [
           "Canceled (Prior to Arrival)",
           11
          ],
          [
           "Canceled (Prior to Arrival)",
           12
          ],
          [
           "Canceled (Prior to Arrival)",
           13
          ],
          [
           "Canceled (Prior to Arrival)",
           14
          ],
          [
           "Canceled (Prior to Arrival)",
           15
          ],
          [
           "Canceled (Prior to Arrival)",
           16
          ],
          [
           "Canceled (Prior to Arrival)",
           17
          ],
          [
           "Canceled (Prior to Arrival)",
           18
          ],
          [
           "Canceled (Prior to Arrival)",
           19
          ],
          [
           "Canceled (Prior to Arrival)",
           20
          ],
          [
           "Canceled (Prior to Arrival)",
           21
          ],
          [
           "Canceled (Prior to Arrival)",
           22
          ],
          [
           "Canceled (Prior to Arrival)",
           23
          ],
          [
           "Canceled (Prior to Arrival)",
           24
          ],
          [
           "Canceled (Prior to Arrival)",
           25
          ],
          [
           "Canceled (Prior to Arrival)",
           26
          ],
          [
           "Canceled (Prior to Arrival)",
           27
          ],
          [
           "Canceled (Prior to Arrival)",
           28
          ],
          [
           "Canceled (Prior to Arrival)",
           29
          ],
          [
           "Canceled (Prior to Arrival)",
           30
          ],
          [
           "Canceled (Prior to Arrival)",
           31
          ],
          [
           "Canceled (Prior to Arrival)",
           32
          ],
          [
           "Canceled (Prior to Arrival)",
           34
          ],
          [
           "Canceled (Prior to Arrival)",
           35
          ],
          [
           "Canceled (Prior to Arrival)",
           36
          ],
          [
           "Canceled (Prior to Arrival)",
           37
          ],
          [
           "Canceled (Prior to Arrival)",
           38
          ],
          [
           "Canceled (Prior to Arrival)",
           39
          ],
          [
           "Canceled (Prior to Arrival)",
           40
          ],
          [
           "Canceled (Prior to Arrival)",
           41
          ],
          [
           "Canceled (Prior to Arrival)",
           42
          ],
          [
           "No Treatment/Transport Required",
           1
          ],
          [
           "No Treatment/Transport Required",
           2
          ],
          [
           "No Treatment/Transport Required",
           4
          ],
          [
           "No Treatment/Transport Required",
           5
          ],
          [
           "No Treatment/Transport Required",
           8
          ],
          [
           "No Treatment/Transport Required",
           9
          ],
          [
           "No Treatment/Transport Required",
           10
          ],
          [
           "No Treatment/Transport Required",
           11
          ],
          [
           "No Treatment/Transport Required",
           12
          ],
          [
           "No Treatment/Transport Required",
           13
          ],
          [
           "No Treatment/Transport Required",
           14
          ],
          [
           "No Treatment/Transport Required",
           15
          ],
          [
           "No Treatment/Transport Required",
           16
          ],
          [
           "No Treatment/Transport Required",
           17
          ],
          [
           "No Treatment/Transport Required",
           18
          ],
          [
           "No Treatment/Transport Required",
           19
          ],
          [
           "No Treatment/Transport Required",
           20
          ],
          [
           "No Treatment/Transport Required",
           21
          ],
          [
           "No Treatment/Transport Required",
           22
          ],
          [
           "No Treatment/Transport Required",
           23
          ],
          [
           "No Treatment/Transport Required",
           24
          ],
          [
           "No Treatment/Transport Required",
           25
          ],
          [
           "No Treatment/Transport Required",
           26
          ],
          [
           "No Treatment/Transport Required",
           27
          ],
          [
           "No Treatment/Transport Required",
           28
          ],
          [
           "No Treatment/Transport Required",
           29
          ],
          [
           "No Treatment/Transport Required",
           30
          ],
          [
           "No Treatment/Transport Required",
           31
          ],
          [
           "No Treatment/Transport Required",
           32
          ],
          [
           "No Treatment/Transport Required",
           34
          ],
          [
           "No Treatment/Transport Required",
           35
          ],
          [
           "No Treatment/Transport Required",
           36
          ],
          [
           "No Treatment/Transport Required",
           37
          ],
          [
           "No Treatment/Transport Required",
           38
          ],
          [
           "No Treatment/Transport Required",
           39
          ],
          [
           "No Treatment/Transport Required",
           40
          ],
          [
           "No Treatment/Transport Required",
           41
          ],
          [
           "No Treatment/Transport Required",
           42
          ],
          [
           "Patient Refusal  (AMA)",
           1
          ],
          [
           "Patient Refusal  (AMA)",
           2
          ],
          [
           "Patient Refusal  (AMA)",
           4
          ],
          [
           "Patient Refusal  (AMA)",
           5
          ],
          [
           "Patient Refusal  (AMA)",
           8
          ],
          [
           "Patient Refusal  (AMA)",
           9
          ],
          [
           "Patient Refusal  (AMA)",
           10
          ],
          [
           "Patient Refusal  (AMA)",
           11
          ],
          [
           "Patient Refusal  (AMA)",
           12
          ],
          [
           "Patient Refusal  (AMA)",
           13
          ],
          [
           "Patient Refusal  (AMA)",
           14
          ],
          [
           "Patient Refusal  (AMA)",
           15
          ],
          [
           "Patient Refusal  (AMA)",
           16
          ],
          [
           "Patient Refusal  (AMA)",
           17
          ],
          [
           "Patient Refusal  (AMA)",
           18
          ],
          [
           "Patient Refusal  (AMA)",
           19
          ],
          [
           "Patient Refusal  (AMA)",
           20
          ],
          [
           "Patient Refusal  (AMA)",
           21
          ],
          [
           "Patient Refusal  (AMA)",
           22
          ],
          [
           "Patient Refusal  (AMA)",
           23
          ],
          [
           "Patient Refusal  (AMA)",
           24
          ],
          [
           "Patient Refusal  (AMA)",
           25
          ],
          [
           "Patient Refusal  (AMA)",
           26
          ],
          [
           "Patient Refusal  (AMA)",
           27
          ],
          [
           "Patient Refusal  (AMA)",
           28
          ],
          [
           "Patient Refusal  (AMA)",
           29
          ],
          [
           "Patient Refusal  (AMA)",
           30
          ],
          [
           "Patient Refusal  (AMA)",
           31
          ],
          [
           "Patient Refusal  (AMA)",
           32
          ],
          [
           "Patient Refusal  (AMA)",
           34
          ],
          [
           "Patient Refusal  (AMA)",
           35
          ],
          [
           "Patient Refusal  (AMA)",
           36
          ],
          [
           "Patient Refusal  (AMA)",
           37
          ],
          [
           "Patient Refusal  (AMA)",
           38
          ],
          [
           "Patient Refusal  (AMA)",
           39
          ],
          [
           "Patient Refusal  (AMA)",
           40
          ],
          [
           "Patient Refusal  (AMA)",
           41
          ],
          [
           "Patient Refusal  (AMA)",
           42
          ],
          [
           "(?)",
           1
          ],
          [
           "(?)",
           2
          ],
          [
           "(?)",
           4
          ],
          [
           "(?)",
           5
          ],
          [
           "(?)",
           8
          ],
          [
           "(?)",
           9
          ],
          [
           "(?)",
           10
          ],
          [
           "(?)",
           11
          ],
          [
           "(?)",
           12
          ],
          [
           "(?)",
           13
          ],
          [
           "(?)",
           14
          ],
          [
           "(?)",
           15
          ],
          [
           "(?)",
           16
          ],
          [
           "(?)",
           17
          ],
          [
           "(?)",
           18
          ],
          [
           "(?)",
           19
          ],
          [
           "(?)",
           20
          ],
          [
           "(?)",
           21
          ],
          [
           "(?)",
           22
          ],
          [
           "(?)",
           23
          ],
          [
           "(?)",
           24
          ],
          [
           "(?)",
           25
          ],
          [
           "(?)",
           26
          ],
          [
           "(?)",
           27
          ],
          [
           "(?)",
           28
          ],
          [
           "(?)",
           29
          ],
          [
           "(?)",
           30
          ],
          [
           "(?)",
           31
          ],
          [
           "(?)",
           32
          ],
          [
           "(?)",
           34
          ],
          [
           "(?)",
           35
          ],
          [
           "(?)",
           36
          ],
          [
           "(?)",
           37
          ],
          [
           "(?)",
           38
          ],
          [
           "(?)",
           39
          ],
          [
           "(?)",
           40
          ],
          [
           "(?)",
           41
          ],
          [
           "(?)",
           42
          ]
         ],
         "domain": {
          "x": [
           0,
           1
          ],
          "y": [
           0,
           1
          ]
         },
         "hovertemplate": "<b>%{hovertext}</b><br><br>labels=%{label}<br>count=%{value}<br>parent=%{parent}<br>id=%{id}<br>FireStation=%{color}<extra></extra>",
         "hovertext": [
          "Canceled (Prior to Arrival)",
          "Canceled (Prior to Arrival)",
          "Canceled (Prior to Arrival)",
          "Canceled (Prior to Arrival)",
          "Canceled (Prior to Arrival)",
          "Canceled (Prior to Arrival)",
          "Canceled (Prior to Arrival)",
          "Canceled (Prior to Arrival)",
          "Canceled (Prior to Arrival)",
          "Canceled (Prior to Arrival)",
          "Canceled (Prior to Arrival)",
          "Canceled (Prior to Arrival)",
          "Canceled (Prior to Arrival)",
          "Canceled (Prior to Arrival)",
          "Canceled (Prior to Arrival)",
          "Canceled (Prior to Arrival)",
          "Canceled (Prior to Arrival)",
          "Canceled (Prior to Arrival)",
          "Canceled (Prior to Arrival)",
          "Canceled (Prior to Arrival)",
          "Canceled (Prior to Arrival)",
          "Canceled (Prior to Arrival)",
          "Canceled (Prior to Arrival)",
          "Canceled (Prior to Arrival)",
          "Canceled (Prior to Arrival)",
          "Canceled (Prior to Arrival)",
          "Canceled (Prior to Arrival)",
          "Canceled (Prior to Arrival)",
          "Canceled (Prior to Arrival)",
          "Canceled (Prior to Arrival)",
          "Canceled (Prior to Arrival)",
          "Canceled (Prior to Arrival)",
          "Canceled (Prior to Arrival)",
          "Canceled (Prior to Arrival)",
          "Canceled (Prior to Arrival)",
          "Canceled (Prior to Arrival)",
          "Canceled (Prior to Arrival)",
          "Canceled (Prior to Arrival)",
          "No Treatment/Transport Required",
          "No Treatment/Transport Required",
          "No Treatment/Transport Required",
          "No Treatment/Transport Required",
          "No Treatment/Transport Required",
          "No Treatment/Transport Required",
          "No Treatment/Transport Required",
          "No Treatment/Transport Required",
          "No Treatment/Transport Required",
          "No Treatment/Transport Required",
          "No Treatment/Transport Required",
          "No Treatment/Transport Required",
          "No Treatment/Transport Required",
          "No Treatment/Transport Required",
          "No Treatment/Transport Required",
          "No Treatment/Transport Required",
          "No Treatment/Transport Required",
          "No Treatment/Transport Required",
          "No Treatment/Transport Required",
          "No Treatment/Transport Required",
          "No Treatment/Transport Required",
          "No Treatment/Transport Required",
          "No Treatment/Transport Required",
          "No Treatment/Transport Required",
          "No Treatment/Transport Required",
          "No Treatment/Transport Required",
          "No Treatment/Transport Required",
          "No Treatment/Transport Required",
          "No Treatment/Transport Required",
          "No Treatment/Transport Required",
          "No Treatment/Transport Required",
          "No Treatment/Transport Required",
          "No Treatment/Transport Required",
          "No Treatment/Transport Required",
          "No Treatment/Transport Required",
          "No Treatment/Transport Required",
          "No Treatment/Transport Required",
          "No Treatment/Transport Required",
          "Patient Refusal  (AMA)",
          "Patient Refusal  (AMA)",
          "Patient Refusal  (AMA)",
          "Patient Refusal  (AMA)",
          "Patient Refusal  (AMA)",
          "Patient Refusal  (AMA)",
          "Patient Refusal  (AMA)",
          "Patient Refusal  (AMA)",
          "Patient Refusal  (AMA)",
          "Patient Refusal  (AMA)",
          "Patient Refusal  (AMA)",
          "Patient Refusal  (AMA)",
          "Patient Refusal  (AMA)",
          "Patient Refusal  (AMA)",
          "Patient Refusal  (AMA)",
          "Patient Refusal  (AMA)",
          "Patient Refusal  (AMA)",
          "Patient Refusal  (AMA)",
          "Patient Refusal  (AMA)",
          "Patient Refusal  (AMA)",
          "Patient Refusal  (AMA)",
          "Patient Refusal  (AMA)",
          "Patient Refusal  (AMA)",
          "Patient Refusal  (AMA)",
          "Patient Refusal  (AMA)",
          "Patient Refusal  (AMA)",
          "Patient Refusal  (AMA)",
          "Patient Refusal  (AMA)",
          "Patient Refusal  (AMA)",
          "Patient Refusal  (AMA)",
          "Patient Refusal  (AMA)",
          "Patient Refusal  (AMA)",
          "Patient Refusal  (AMA)",
          "Patient Refusal  (AMA)",
          "Patient Refusal  (AMA)",
          "Patient Refusal  (AMA)",
          "Patient Refusal  (AMA)",
          "Patient Refusal  (AMA)",
          "Canceled (Prior to Arrival)",
          "Canceled (Prior to Arrival)",
          "Canceled (Prior to Arrival)",
          "Canceled (Prior to Arrival)",
          "Canceled (Prior to Arrival)",
          "Canceled (Prior to Arrival)",
          "Canceled (Prior to Arrival)",
          "Canceled (Prior to Arrival)",
          "Canceled (Prior to Arrival)",
          "Canceled (Prior to Arrival)",
          "Canceled (Prior to Arrival)",
          "Canceled (Prior to Arrival)",
          "Canceled (Prior to Arrival)",
          "Canceled (Prior to Arrival)",
          "Canceled (Prior to Arrival)",
          "Canceled (Prior to Arrival)",
          "Canceled (Prior to Arrival)",
          "Canceled (Prior to Arrival)",
          "Canceled (Prior to Arrival)",
          "Canceled (Prior to Arrival)",
          "Canceled (Prior to Arrival)",
          "Canceled (Prior to Arrival)",
          "Canceled (Prior to Arrival)",
          "Canceled (Prior to Arrival)",
          "Canceled (Prior to Arrival)",
          "Canceled (Prior to Arrival)",
          "Canceled (Prior to Arrival)",
          "Canceled (Prior to Arrival)",
          "Canceled (Prior to Arrival)",
          "Canceled (Prior to Arrival)",
          "Canceled (Prior to Arrival)",
          "Canceled (Prior to Arrival)",
          "Canceled (Prior to Arrival)",
          "Canceled (Prior to Arrival)",
          "Canceled (Prior to Arrival)",
          "Canceled (Prior to Arrival)",
          "Canceled (Prior to Arrival)",
          "Canceled (Prior to Arrival)",
          "No Treatment/Transport Required",
          "No Treatment/Transport Required",
          "No Treatment/Transport Required",
          "No Treatment/Transport Required",
          "No Treatment/Transport Required",
          "No Treatment/Transport Required",
          "No Treatment/Transport Required",
          "No Treatment/Transport Required",
          "No Treatment/Transport Required",
          "No Treatment/Transport Required",
          "No Treatment/Transport Required",
          "No Treatment/Transport Required",
          "No Treatment/Transport Required",
          "No Treatment/Transport Required",
          "No Treatment/Transport Required",
          "No Treatment/Transport Required",
          "No Treatment/Transport Required",
          "No Treatment/Transport Required",
          "No Treatment/Transport Required",
          "No Treatment/Transport Required",
          "No Treatment/Transport Required",
          "No Treatment/Transport Required",
          "No Treatment/Transport Required",
          "No Treatment/Transport Required",
          "No Treatment/Transport Required",
          "No Treatment/Transport Required",
          "No Treatment/Transport Required",
          "No Treatment/Transport Required",
          "No Treatment/Transport Required",
          "No Treatment/Transport Required",
          "No Treatment/Transport Required",
          "No Treatment/Transport Required",
          "No Treatment/Transport Required",
          "No Treatment/Transport Required",
          "No Treatment/Transport Required",
          "No Treatment/Transport Required",
          "No Treatment/Transport Required",
          "No Treatment/Transport Required",
          "Patient Refusal  (AMA)",
          "Patient Refusal  (AMA)",
          "Patient Refusal  (AMA)",
          "Patient Refusal  (AMA)",
          "Patient Refusal  (AMA)",
          "Patient Refusal  (AMA)",
          "Patient Refusal  (AMA)",
          "Patient Refusal  (AMA)",
          "Patient Refusal  (AMA)",
          "Patient Refusal  (AMA)",
          "Patient Refusal  (AMA)",
          "Patient Refusal  (AMA)",
          "Patient Refusal  (AMA)",
          "Patient Refusal  (AMA)",
          "Patient Refusal  (AMA)",
          "Patient Refusal  (AMA)",
          "Patient Refusal  (AMA)",
          "Patient Refusal  (AMA)",
          "Patient Refusal  (AMA)",
          "Patient Refusal  (AMA)",
          "Patient Refusal  (AMA)",
          "Patient Refusal  (AMA)",
          "Patient Refusal  (AMA)",
          "Patient Refusal  (AMA)",
          "Patient Refusal  (AMA)",
          "Patient Refusal  (AMA)",
          "Patient Refusal  (AMA)",
          "Patient Refusal  (AMA)",
          "Patient Refusal  (AMA)",
          "Patient Refusal  (AMA)",
          "Patient Refusal  (AMA)",
          "Patient Refusal  (AMA)",
          "Patient Refusal  (AMA)",
          "Patient Refusal  (AMA)",
          "Patient Refusal  (AMA)",
          "Patient Refusal  (AMA)",
          "Patient Refusal  (AMA)",
          "Patient Refusal  (AMA)",
          "Canceled (Prior to Arrival)",
          "Canceled (Prior to Arrival)",
          "Canceled (Prior to Arrival)",
          "Canceled (Prior to Arrival)",
          "Canceled (Prior to Arrival)",
          "Canceled (Prior to Arrival)",
          "Canceled (Prior to Arrival)",
          "Canceled (Prior to Arrival)",
          "Canceled (Prior to Arrival)",
          "Canceled (Prior to Arrival)",
          "Canceled (Prior to Arrival)",
          "Canceled (Prior to Arrival)",
          "Canceled (Prior to Arrival)",
          "Canceled (Prior to Arrival)",
          "Canceled (Prior to Arrival)",
          "Canceled (Prior to Arrival)",
          "Canceled (Prior to Arrival)",
          "Canceled (Prior to Arrival)",
          "Canceled (Prior to Arrival)",
          "Canceled (Prior to Arrival)",
          "Canceled (Prior to Arrival)",
          "Canceled (Prior to Arrival)",
          "Canceled (Prior to Arrival)",
          "Canceled (Prior to Arrival)",
          "Canceled (Prior to Arrival)",
          "Canceled (Prior to Arrival)",
          "Canceled (Prior to Arrival)",
          "Canceled (Prior to Arrival)",
          "Canceled (Prior to Arrival)",
          "Canceled (Prior to Arrival)",
          "Canceled (Prior to Arrival)",
          "Canceled (Prior to Arrival)",
          "Canceled (Prior to Arrival)",
          "Canceled (Prior to Arrival)",
          "Canceled (Prior to Arrival)",
          "Canceled (Prior to Arrival)",
          "Canceled (Prior to Arrival)",
          "Canceled (Prior to Arrival)",
          "No Treatment/Transport Required",
          "No Treatment/Transport Required",
          "No Treatment/Transport Required",
          "No Treatment/Transport Required",
          "No Treatment/Transport Required",
          "No Treatment/Transport Required",
          "No Treatment/Transport Required",
          "No Treatment/Transport Required",
          "No Treatment/Transport Required",
          "No Treatment/Transport Required",
          "No Treatment/Transport Required",
          "No Treatment/Transport Required",
          "No Treatment/Transport Required",
          "No Treatment/Transport Required",
          "No Treatment/Transport Required",
          "No Treatment/Transport Required",
          "No Treatment/Transport Required",
          "No Treatment/Transport Required",
          "No Treatment/Transport Required",
          "No Treatment/Transport Required",
          "No Treatment/Transport Required",
          "No Treatment/Transport Required",
          "No Treatment/Transport Required",
          "No Treatment/Transport Required",
          "No Treatment/Transport Required",
          "No Treatment/Transport Required",
          "No Treatment/Transport Required",
          "No Treatment/Transport Required",
          "No Treatment/Transport Required",
          "No Treatment/Transport Required",
          "No Treatment/Transport Required",
          "No Treatment/Transport Required",
          "No Treatment/Transport Required",
          "No Treatment/Transport Required",
          "No Treatment/Transport Required",
          "No Treatment/Transport Required",
          "No Treatment/Transport Required",
          "No Treatment/Transport Required",
          "Patient Refusal  (AMA)",
          "Patient Refusal  (AMA)",
          "Patient Refusal  (AMA)",
          "Patient Refusal  (AMA)",
          "Patient Refusal  (AMA)",
          "Patient Refusal  (AMA)",
          "Patient Refusal  (AMA)",
          "Patient Refusal  (AMA)",
          "Patient Refusal  (AMA)",
          "Patient Refusal  (AMA)",
          "Patient Refusal  (AMA)",
          "Patient Refusal  (AMA)",
          "Patient Refusal  (AMA)",
          "Patient Refusal  (AMA)",
          "Patient Refusal  (AMA)",
          "Patient Refusal  (AMA)",
          "Patient Refusal  (AMA)",
          "Patient Refusal  (AMA)",
          "Patient Refusal  (AMA)",
          "Patient Refusal  (AMA)",
          "Patient Refusal  (AMA)",
          "Patient Refusal  (AMA)",
          "Patient Refusal  (AMA)",
          "Patient Refusal  (AMA)",
          "Patient Refusal  (AMA)",
          "Patient Refusal  (AMA)",
          "Patient Refusal  (AMA)",
          "Patient Refusal  (AMA)",
          "Patient Refusal  (AMA)",
          "Patient Refusal  (AMA)",
          "Patient Refusal  (AMA)",
          "Patient Refusal  (AMA)",
          "Patient Refusal  (AMA)",
          "Patient Refusal  (AMA)",
          "Patient Refusal  (AMA)",
          "Patient Refusal  (AMA)",
          "Patient Refusal  (AMA)",
          "Patient Refusal  (AMA)",
          "Canceled (Prior to Arrival)",
          "Canceled (Prior to Arrival)",
          "Canceled (Prior to Arrival)",
          "Canceled (Prior to Arrival)",
          "Canceled (Prior to Arrival)",
          "Canceled (Prior to Arrival)",
          "Canceled (Prior to Arrival)",
          "Canceled (Prior to Arrival)",
          "Canceled (Prior to Arrival)",
          "Canceled (Prior to Arrival)",
          "Canceled (Prior to Arrival)",
          "Canceled (Prior to Arrival)",
          "Canceled (Prior to Arrival)",
          "Canceled (Prior to Arrival)",
          "Canceled (Prior to Arrival)",
          "Canceled (Prior to Arrival)",
          "Canceled (Prior to Arrival)",
          "Canceled (Prior to Arrival)",
          "Canceled (Prior to Arrival)",
          "Canceled (Prior to Arrival)",
          "Canceled (Prior to Arrival)",
          "Canceled (Prior to Arrival)",
          "Canceled (Prior to Arrival)",
          "Canceled (Prior to Arrival)",
          "Canceled (Prior to Arrival)",
          "Canceled (Prior to Arrival)",
          "Canceled (Prior to Arrival)",
          "Canceled (Prior to Arrival)",
          "Canceled (Prior to Arrival)",
          "Canceled (Prior to Arrival)",
          "Canceled (Prior to Arrival)",
          "Canceled (Prior to Arrival)",
          "Canceled (Prior to Arrival)",
          "Canceled (Prior to Arrival)",
          "Canceled (Prior to Arrival)",
          "Canceled (Prior to Arrival)",
          "Canceled (Prior to Arrival)",
          "Canceled (Prior to Arrival)",
          "No Treatment/Transport Required",
          "No Treatment/Transport Required",
          "No Treatment/Transport Required",
          "No Treatment/Transport Required",
          "No Treatment/Transport Required",
          "No Treatment/Transport Required",
          "No Treatment/Transport Required",
          "No Treatment/Transport Required",
          "No Treatment/Transport Required",
          "No Treatment/Transport Required",
          "No Treatment/Transport Required",
          "No Treatment/Transport Required",
          "No Treatment/Transport Required",
          "No Treatment/Transport Required",
          "No Treatment/Transport Required",
          "No Treatment/Transport Required",
          "No Treatment/Transport Required",
          "No Treatment/Transport Required",
          "No Treatment/Transport Required",
          "No Treatment/Transport Required",
          "No Treatment/Transport Required",
          "No Treatment/Transport Required",
          "No Treatment/Transport Required",
          "No Treatment/Transport Required",
          "No Treatment/Transport Required",
          "No Treatment/Transport Required",
          "No Treatment/Transport Required",
          "No Treatment/Transport Required",
          "No Treatment/Transport Required",
          "No Treatment/Transport Required",
          "No Treatment/Transport Required",
          "No Treatment/Transport Required",
          "No Treatment/Transport Required",
          "No Treatment/Transport Required",
          "No Treatment/Transport Required",
          "No Treatment/Transport Required",
          "No Treatment/Transport Required",
          "No Treatment/Transport Required",
          "Patient Refusal  (AMA)",
          "Patient Refusal  (AMA)",
          "Patient Refusal  (AMA)",
          "Patient Refusal  (AMA)",
          "Patient Refusal  (AMA)",
          "Patient Refusal  (AMA)",
          "Patient Refusal  (AMA)",
          "Patient Refusal  (AMA)",
          "Patient Refusal  (AMA)",
          "Patient Refusal  (AMA)",
          "Patient Refusal  (AMA)",
          "Patient Refusal  (AMA)",
          "Patient Refusal  (AMA)",
          "Patient Refusal  (AMA)",
          "Patient Refusal  (AMA)",
          "Patient Refusal  (AMA)",
          "Patient Refusal  (AMA)",
          "Patient Refusal  (AMA)",
          "Patient Refusal  (AMA)",
          "Patient Refusal  (AMA)",
          "Patient Refusal  (AMA)",
          "Patient Refusal  (AMA)",
          "Patient Refusal  (AMA)",
          "Patient Refusal  (AMA)",
          "Patient Refusal  (AMA)",
          "Patient Refusal  (AMA)",
          "Patient Refusal  (AMA)",
          "Patient Refusal  (AMA)",
          "Patient Refusal  (AMA)",
          "Patient Refusal  (AMA)",
          "Patient Refusal  (AMA)",
          "Patient Refusal  (AMA)",
          "Patient Refusal  (AMA)",
          "Patient Refusal  (AMA)",
          "Patient Refusal  (AMA)",
          "Patient Refusal  (AMA)",
          "Patient Refusal  (AMA)",
          "Patient Refusal  (AMA)",
          "(?)",
          "(?)",
          "(?)",
          "(?)",
          "(?)",
          "(?)",
          "(?)",
          "(?)",
          "(?)",
          "(?)",
          "(?)",
          "(?)",
          "(?)",
          "(?)",
          "(?)",
          "(?)",
          "(?)",
          "(?)",
          "(?)",
          "(?)",
          "(?)",
          "(?)",
          "(?)",
          "(?)",
          "(?)",
          "(?)",
          "(?)",
          "(?)",
          "(?)",
          "(?)",
          "(?)",
          "(?)",
          "(?)",
          "(?)",
          "(?)",
          "(?)",
          "(?)",
          "(?)"
         ],
         "ids": [
          "1/Canceled (Prior to Arrival)/A - Shift",
          "2/Canceled (Prior to Arrival)/A - Shift",
          "4/Canceled (Prior to Arrival)/A - Shift",
          "5/Canceled (Prior to Arrival)/A - Shift",
          "8/Canceled (Prior to Arrival)/A - Shift",
          "9/Canceled (Prior to Arrival)/A - Shift",
          "10/Canceled (Prior to Arrival)/A - Shift",
          "11/Canceled (Prior to Arrival)/A - Shift",
          "12/Canceled (Prior to Arrival)/A - Shift",
          "13/Canceled (Prior to Arrival)/A - Shift",
          "14/Canceled (Prior to Arrival)/A - Shift",
          "15/Canceled (Prior to Arrival)/A - Shift",
          "16/Canceled (Prior to Arrival)/A - Shift",
          "17/Canceled (Prior to Arrival)/A - Shift",
          "18/Canceled (Prior to Arrival)/A - Shift",
          "19/Canceled (Prior to Arrival)/A - Shift",
          "20/Canceled (Prior to Arrival)/A - Shift",
          "21/Canceled (Prior to Arrival)/A - Shift",
          "22/Canceled (Prior to Arrival)/A - Shift",
          "23/Canceled (Prior to Arrival)/A - Shift",
          "24/Canceled (Prior to Arrival)/A - Shift",
          "25/Canceled (Prior to Arrival)/A - Shift",
          "26/Canceled (Prior to Arrival)/A - Shift",
          "27/Canceled (Prior to Arrival)/A - Shift",
          "28/Canceled (Prior to Arrival)/A - Shift",
          "29/Canceled (Prior to Arrival)/A - Shift",
          "30/Canceled (Prior to Arrival)/A - Shift",
          "31/Canceled (Prior to Arrival)/A - Shift",
          "32/Canceled (Prior to Arrival)/A - Shift",
          "34/Canceled (Prior to Arrival)/A - Shift",
          "35/Canceled (Prior to Arrival)/A - Shift",
          "36/Canceled (Prior to Arrival)/A - Shift",
          "37/Canceled (Prior to Arrival)/A - Shift",
          "38/Canceled (Prior to Arrival)/A - Shift",
          "39/Canceled (Prior to Arrival)/A - Shift",
          "40/Canceled (Prior to Arrival)/A - Shift",
          "41/Canceled (Prior to Arrival)/A - Shift",
          "42/Canceled (Prior to Arrival)/A - Shift",
          "1/No Treatment/Transport Required/A - Shift",
          "2/No Treatment/Transport Required/A - Shift",
          "4/No Treatment/Transport Required/A - Shift",
          "5/No Treatment/Transport Required/A - Shift",
          "8/No Treatment/Transport Required/A - Shift",
          "9/No Treatment/Transport Required/A - Shift",
          "10/No Treatment/Transport Required/A - Shift",
          "11/No Treatment/Transport Required/A - Shift",
          "12/No Treatment/Transport Required/A - Shift",
          "13/No Treatment/Transport Required/A - Shift",
          "14/No Treatment/Transport Required/A - Shift",
          "15/No Treatment/Transport Required/A - Shift",
          "16/No Treatment/Transport Required/A - Shift",
          "17/No Treatment/Transport Required/A - Shift",
          "18/No Treatment/Transport Required/A - Shift",
          "19/No Treatment/Transport Required/A - Shift",
          "20/No Treatment/Transport Required/A - Shift",
          "21/No Treatment/Transport Required/A - Shift",
          "22/No Treatment/Transport Required/A - Shift",
          "23/No Treatment/Transport Required/A - Shift",
          "24/No Treatment/Transport Required/A - Shift",
          "25/No Treatment/Transport Required/A - Shift",
          "26/No Treatment/Transport Required/A - Shift",
          "27/No Treatment/Transport Required/A - Shift",
          "28/No Treatment/Transport Required/A - Shift",
          "29/No Treatment/Transport Required/A - Shift",
          "30/No Treatment/Transport Required/A - Shift",
          "31/No Treatment/Transport Required/A - Shift",
          "32/No Treatment/Transport Required/A - Shift",
          "34/No Treatment/Transport Required/A - Shift",
          "35/No Treatment/Transport Required/A - Shift",
          "36/No Treatment/Transport Required/A - Shift",
          "37/No Treatment/Transport Required/A - Shift",
          "38/No Treatment/Transport Required/A - Shift",
          "39/No Treatment/Transport Required/A - Shift",
          "40/No Treatment/Transport Required/A - Shift",
          "41/No Treatment/Transport Required/A - Shift",
          "42/No Treatment/Transport Required/A - Shift",
          "1/Patient Refusal  (AMA)/A - Shift",
          "2/Patient Refusal  (AMA)/A - Shift",
          "4/Patient Refusal  (AMA)/A - Shift",
          "5/Patient Refusal  (AMA)/A - Shift",
          "8/Patient Refusal  (AMA)/A - Shift",
          "9/Patient Refusal  (AMA)/A - Shift",
          "10/Patient Refusal  (AMA)/A - Shift",
          "11/Patient Refusal  (AMA)/A - Shift",
          "12/Patient Refusal  (AMA)/A - Shift",
          "13/Patient Refusal  (AMA)/A - Shift",
          "14/Patient Refusal  (AMA)/A - Shift",
          "15/Patient Refusal  (AMA)/A - Shift",
          "16/Patient Refusal  (AMA)/A - Shift",
          "17/Patient Refusal  (AMA)/A - Shift",
          "18/Patient Refusal  (AMA)/A - Shift",
          "19/Patient Refusal  (AMA)/A - Shift",
          "20/Patient Refusal  (AMA)/A - Shift",
          "21/Patient Refusal  (AMA)/A - Shift",
          "22/Patient Refusal  (AMA)/A - Shift",
          "23/Patient Refusal  (AMA)/A - Shift",
          "24/Patient Refusal  (AMA)/A - Shift",
          "25/Patient Refusal  (AMA)/A - Shift",
          "26/Patient Refusal  (AMA)/A - Shift",
          "27/Patient Refusal  (AMA)/A - Shift",
          "28/Patient Refusal  (AMA)/A - Shift",
          "29/Patient Refusal  (AMA)/A - Shift",
          "30/Patient Refusal  (AMA)/A - Shift",
          "31/Patient Refusal  (AMA)/A - Shift",
          "32/Patient Refusal  (AMA)/A - Shift",
          "34/Patient Refusal  (AMA)/A - Shift",
          "35/Patient Refusal  (AMA)/A - Shift",
          "36/Patient Refusal  (AMA)/A - Shift",
          "37/Patient Refusal  (AMA)/A - Shift",
          "38/Patient Refusal  (AMA)/A - Shift",
          "39/Patient Refusal  (AMA)/A - Shift",
          "40/Patient Refusal  (AMA)/A - Shift",
          "41/Patient Refusal  (AMA)/A - Shift",
          "42/Patient Refusal  (AMA)/A - Shift",
          "1/Canceled (Prior to Arrival)/B - Shift",
          "2/Canceled (Prior to Arrival)/B - Shift",
          "4/Canceled (Prior to Arrival)/B - Shift",
          "5/Canceled (Prior to Arrival)/B - Shift",
          "8/Canceled (Prior to Arrival)/B - Shift",
          "9/Canceled (Prior to Arrival)/B - Shift",
          "10/Canceled (Prior to Arrival)/B - Shift",
          "11/Canceled (Prior to Arrival)/B - Shift",
          "12/Canceled (Prior to Arrival)/B - Shift",
          "13/Canceled (Prior to Arrival)/B - Shift",
          "14/Canceled (Prior to Arrival)/B - Shift",
          "15/Canceled (Prior to Arrival)/B - Shift",
          "16/Canceled (Prior to Arrival)/B - Shift",
          "17/Canceled (Prior to Arrival)/B - Shift",
          "18/Canceled (Prior to Arrival)/B - Shift",
          "19/Canceled (Prior to Arrival)/B - Shift",
          "20/Canceled (Prior to Arrival)/B - Shift",
          "21/Canceled (Prior to Arrival)/B - Shift",
          "22/Canceled (Prior to Arrival)/B - Shift",
          "23/Canceled (Prior to Arrival)/B - Shift",
          "24/Canceled (Prior to Arrival)/B - Shift",
          "25/Canceled (Prior to Arrival)/B - Shift",
          "26/Canceled (Prior to Arrival)/B - Shift",
          "27/Canceled (Prior to Arrival)/B - Shift",
          "28/Canceled (Prior to Arrival)/B - Shift",
          "29/Canceled (Prior to Arrival)/B - Shift",
          "30/Canceled (Prior to Arrival)/B - Shift",
          "31/Canceled (Prior to Arrival)/B - Shift",
          "32/Canceled (Prior to Arrival)/B - Shift",
          "34/Canceled (Prior to Arrival)/B - Shift",
          "35/Canceled (Prior to Arrival)/B - Shift",
          "36/Canceled (Prior to Arrival)/B - Shift",
          "37/Canceled (Prior to Arrival)/B - Shift",
          "38/Canceled (Prior to Arrival)/B - Shift",
          "39/Canceled (Prior to Arrival)/B - Shift",
          "40/Canceled (Prior to Arrival)/B - Shift",
          "41/Canceled (Prior to Arrival)/B - Shift",
          "42/Canceled (Prior to Arrival)/B - Shift",
          "1/No Treatment/Transport Required/B - Shift",
          "2/No Treatment/Transport Required/B - Shift",
          "4/No Treatment/Transport Required/B - Shift",
          "5/No Treatment/Transport Required/B - Shift",
          "8/No Treatment/Transport Required/B - Shift",
          "9/No Treatment/Transport Required/B - Shift",
          "10/No Treatment/Transport Required/B - Shift",
          "11/No Treatment/Transport Required/B - Shift",
          "12/No Treatment/Transport Required/B - Shift",
          "13/No Treatment/Transport Required/B - Shift",
          "14/No Treatment/Transport Required/B - Shift",
          "15/No Treatment/Transport Required/B - Shift",
          "16/No Treatment/Transport Required/B - Shift",
          "17/No Treatment/Transport Required/B - Shift",
          "18/No Treatment/Transport Required/B - Shift",
          "19/No Treatment/Transport Required/B - Shift",
          "20/No Treatment/Transport Required/B - Shift",
          "21/No Treatment/Transport Required/B - Shift",
          "22/No Treatment/Transport Required/B - Shift",
          "23/No Treatment/Transport Required/B - Shift",
          "24/No Treatment/Transport Required/B - Shift",
          "25/No Treatment/Transport Required/B - Shift",
          "26/No Treatment/Transport Required/B - Shift",
          "27/No Treatment/Transport Required/B - Shift",
          "28/No Treatment/Transport Required/B - Shift",
          "29/No Treatment/Transport Required/B - Shift",
          "30/No Treatment/Transport Required/B - Shift",
          "31/No Treatment/Transport Required/B - Shift",
          "32/No Treatment/Transport Required/B - Shift",
          "34/No Treatment/Transport Required/B - Shift",
          "35/No Treatment/Transport Required/B - Shift",
          "36/No Treatment/Transport Required/B - Shift",
          "37/No Treatment/Transport Required/B - Shift",
          "38/No Treatment/Transport Required/B - Shift",
          "39/No Treatment/Transport Required/B - Shift",
          "40/No Treatment/Transport Required/B - Shift",
          "41/No Treatment/Transport Required/B - Shift",
          "42/No Treatment/Transport Required/B - Shift",
          "1/Patient Refusal  (AMA)/B - Shift",
          "2/Patient Refusal  (AMA)/B - Shift",
          "4/Patient Refusal  (AMA)/B - Shift",
          "5/Patient Refusal  (AMA)/B - Shift",
          "8/Patient Refusal  (AMA)/B - Shift",
          "9/Patient Refusal  (AMA)/B - Shift",
          "10/Patient Refusal  (AMA)/B - Shift",
          "11/Patient Refusal  (AMA)/B - Shift",
          "12/Patient Refusal  (AMA)/B - Shift",
          "13/Patient Refusal  (AMA)/B - Shift",
          "14/Patient Refusal  (AMA)/B - Shift",
          "15/Patient Refusal  (AMA)/B - Shift",
          "16/Patient Refusal  (AMA)/B - Shift",
          "17/Patient Refusal  (AMA)/B - Shift",
          "18/Patient Refusal  (AMA)/B - Shift",
          "19/Patient Refusal  (AMA)/B - Shift",
          "20/Patient Refusal  (AMA)/B - Shift",
          "21/Patient Refusal  (AMA)/B - Shift",
          "22/Patient Refusal  (AMA)/B - Shift",
          "23/Patient Refusal  (AMA)/B - Shift",
          "24/Patient Refusal  (AMA)/B - Shift",
          "25/Patient Refusal  (AMA)/B - Shift",
          "26/Patient Refusal  (AMA)/B - Shift",
          "27/Patient Refusal  (AMA)/B - Shift",
          "28/Patient Refusal  (AMA)/B - Shift",
          "29/Patient Refusal  (AMA)/B - Shift",
          "30/Patient Refusal  (AMA)/B - Shift",
          "31/Patient Refusal  (AMA)/B - Shift",
          "32/Patient Refusal  (AMA)/B - Shift",
          "34/Patient Refusal  (AMA)/B - Shift",
          "35/Patient Refusal  (AMA)/B - Shift",
          "36/Patient Refusal  (AMA)/B - Shift",
          "37/Patient Refusal  (AMA)/B - Shift",
          "38/Patient Refusal  (AMA)/B - Shift",
          "39/Patient Refusal  (AMA)/B - Shift",
          "40/Patient Refusal  (AMA)/B - Shift",
          "41/Patient Refusal  (AMA)/B - Shift",
          "42/Patient Refusal  (AMA)/B - Shift",
          "1/Canceled (Prior to Arrival)/C - Shift",
          "2/Canceled (Prior to Arrival)/C - Shift",
          "4/Canceled (Prior to Arrival)/C - Shift",
          "5/Canceled (Prior to Arrival)/C - Shift",
          "8/Canceled (Prior to Arrival)/C - Shift",
          "9/Canceled (Prior to Arrival)/C - Shift",
          "10/Canceled (Prior to Arrival)/C - Shift",
          "11/Canceled (Prior to Arrival)/C - Shift",
          "12/Canceled (Prior to Arrival)/C - Shift",
          "13/Canceled (Prior to Arrival)/C - Shift",
          "14/Canceled (Prior to Arrival)/C - Shift",
          "15/Canceled (Prior to Arrival)/C - Shift",
          "16/Canceled (Prior to Arrival)/C - Shift",
          "17/Canceled (Prior to Arrival)/C - Shift",
          "18/Canceled (Prior to Arrival)/C - Shift",
          "19/Canceled (Prior to Arrival)/C - Shift",
          "20/Canceled (Prior to Arrival)/C - Shift",
          "21/Canceled (Prior to Arrival)/C - Shift",
          "22/Canceled (Prior to Arrival)/C - Shift",
          "23/Canceled (Prior to Arrival)/C - Shift",
          "24/Canceled (Prior to Arrival)/C - Shift",
          "25/Canceled (Prior to Arrival)/C - Shift",
          "26/Canceled (Prior to Arrival)/C - Shift",
          "27/Canceled (Prior to Arrival)/C - Shift",
          "28/Canceled (Prior to Arrival)/C - Shift",
          "29/Canceled (Prior to Arrival)/C - Shift",
          "30/Canceled (Prior to Arrival)/C - Shift",
          "31/Canceled (Prior to Arrival)/C - Shift",
          "32/Canceled (Prior to Arrival)/C - Shift",
          "34/Canceled (Prior to Arrival)/C - Shift",
          "35/Canceled (Prior to Arrival)/C - Shift",
          "36/Canceled (Prior to Arrival)/C - Shift",
          "37/Canceled (Prior to Arrival)/C - Shift",
          "38/Canceled (Prior to Arrival)/C - Shift",
          "39/Canceled (Prior to Arrival)/C - Shift",
          "40/Canceled (Prior to Arrival)/C - Shift",
          "41/Canceled (Prior to Arrival)/C - Shift",
          "42/Canceled (Prior to Arrival)/C - Shift",
          "1/No Treatment/Transport Required/C - Shift",
          "2/No Treatment/Transport Required/C - Shift",
          "4/No Treatment/Transport Required/C - Shift",
          "5/No Treatment/Transport Required/C - Shift",
          "8/No Treatment/Transport Required/C - Shift",
          "9/No Treatment/Transport Required/C - Shift",
          "10/No Treatment/Transport Required/C - Shift",
          "11/No Treatment/Transport Required/C - Shift",
          "12/No Treatment/Transport Required/C - Shift",
          "13/No Treatment/Transport Required/C - Shift",
          "14/No Treatment/Transport Required/C - Shift",
          "15/No Treatment/Transport Required/C - Shift",
          "16/No Treatment/Transport Required/C - Shift",
          "17/No Treatment/Transport Required/C - Shift",
          "18/No Treatment/Transport Required/C - Shift",
          "19/No Treatment/Transport Required/C - Shift",
          "20/No Treatment/Transport Required/C - Shift",
          "21/No Treatment/Transport Required/C - Shift",
          "22/No Treatment/Transport Required/C - Shift",
          "23/No Treatment/Transport Required/C - Shift",
          "24/No Treatment/Transport Required/C - Shift",
          "25/No Treatment/Transport Required/C - Shift",
          "26/No Treatment/Transport Required/C - Shift",
          "27/No Treatment/Transport Required/C - Shift",
          "28/No Treatment/Transport Required/C - Shift",
          "29/No Treatment/Transport Required/C - Shift",
          "30/No Treatment/Transport Required/C - Shift",
          "31/No Treatment/Transport Required/C - Shift",
          "32/No Treatment/Transport Required/C - Shift",
          "34/No Treatment/Transport Required/C - Shift",
          "35/No Treatment/Transport Required/C - Shift",
          "36/No Treatment/Transport Required/C - Shift",
          "37/No Treatment/Transport Required/C - Shift",
          "38/No Treatment/Transport Required/C - Shift",
          "39/No Treatment/Transport Required/C - Shift",
          "40/No Treatment/Transport Required/C - Shift",
          "41/No Treatment/Transport Required/C - Shift",
          "42/No Treatment/Transport Required/C - Shift",
          "1/Patient Refusal  (AMA)/C - Shift",
          "2/Patient Refusal  (AMA)/C - Shift",
          "4/Patient Refusal  (AMA)/C - Shift",
          "5/Patient Refusal  (AMA)/C - Shift",
          "8/Patient Refusal  (AMA)/C - Shift",
          "9/Patient Refusal  (AMA)/C - Shift",
          "10/Patient Refusal  (AMA)/C - Shift",
          "11/Patient Refusal  (AMA)/C - Shift",
          "12/Patient Refusal  (AMA)/C - Shift",
          "13/Patient Refusal  (AMA)/C - Shift",
          "14/Patient Refusal  (AMA)/C - Shift",
          "15/Patient Refusal  (AMA)/C - Shift",
          "16/Patient Refusal  (AMA)/C - Shift",
          "17/Patient Refusal  (AMA)/C - Shift",
          "18/Patient Refusal  (AMA)/C - Shift",
          "19/Patient Refusal  (AMA)/C - Shift",
          "20/Patient Refusal  (AMA)/C - Shift",
          "21/Patient Refusal  (AMA)/C - Shift",
          "22/Patient Refusal  (AMA)/C - Shift",
          "23/Patient Refusal  (AMA)/C - Shift",
          "24/Patient Refusal  (AMA)/C - Shift",
          "25/Patient Refusal  (AMA)/C - Shift",
          "26/Patient Refusal  (AMA)/C - Shift",
          "27/Patient Refusal  (AMA)/C - Shift",
          "28/Patient Refusal  (AMA)/C - Shift",
          "29/Patient Refusal  (AMA)/C - Shift",
          "30/Patient Refusal  (AMA)/C - Shift",
          "31/Patient Refusal  (AMA)/C - Shift",
          "32/Patient Refusal  (AMA)/C - Shift",
          "34/Patient Refusal  (AMA)/C - Shift",
          "35/Patient Refusal  (AMA)/C - Shift",
          "36/Patient Refusal  (AMA)/C - Shift",
          "37/Patient Refusal  (AMA)/C - Shift",
          "38/Patient Refusal  (AMA)/C - Shift",
          "39/Patient Refusal  (AMA)/C - Shift",
          "40/Patient Refusal  (AMA)/C - Shift",
          "41/Patient Refusal  (AMA)/C - Shift",
          "42/Patient Refusal  (AMA)/C - Shift",
          "1/Canceled (Prior to Arrival)",
          "2/Canceled (Prior to Arrival)",
          "4/Canceled (Prior to Arrival)",
          "5/Canceled (Prior to Arrival)",
          "8/Canceled (Prior to Arrival)",
          "9/Canceled (Prior to Arrival)",
          "10/Canceled (Prior to Arrival)",
          "11/Canceled (Prior to Arrival)",
          "12/Canceled (Prior to Arrival)",
          "13/Canceled (Prior to Arrival)",
          "14/Canceled (Prior to Arrival)",
          "15/Canceled (Prior to Arrival)",
          "16/Canceled (Prior to Arrival)",
          "17/Canceled (Prior to Arrival)",
          "18/Canceled (Prior to Arrival)",
          "19/Canceled (Prior to Arrival)",
          "20/Canceled (Prior to Arrival)",
          "21/Canceled (Prior to Arrival)",
          "22/Canceled (Prior to Arrival)",
          "23/Canceled (Prior to Arrival)",
          "24/Canceled (Prior to Arrival)",
          "25/Canceled (Prior to Arrival)",
          "26/Canceled (Prior to Arrival)",
          "27/Canceled (Prior to Arrival)",
          "28/Canceled (Prior to Arrival)",
          "29/Canceled (Prior to Arrival)",
          "30/Canceled (Prior to Arrival)",
          "31/Canceled (Prior to Arrival)",
          "32/Canceled (Prior to Arrival)",
          "34/Canceled (Prior to Arrival)",
          "35/Canceled (Prior to Arrival)",
          "36/Canceled (Prior to Arrival)",
          "37/Canceled (Prior to Arrival)",
          "38/Canceled (Prior to Arrival)",
          "39/Canceled (Prior to Arrival)",
          "40/Canceled (Prior to Arrival)",
          "41/Canceled (Prior to Arrival)",
          "42/Canceled (Prior to Arrival)",
          "1/No Treatment/Transport Required",
          "2/No Treatment/Transport Required",
          "4/No Treatment/Transport Required",
          "5/No Treatment/Transport Required",
          "8/No Treatment/Transport Required",
          "9/No Treatment/Transport Required",
          "10/No Treatment/Transport Required",
          "11/No Treatment/Transport Required",
          "12/No Treatment/Transport Required",
          "13/No Treatment/Transport Required",
          "14/No Treatment/Transport Required",
          "15/No Treatment/Transport Required",
          "16/No Treatment/Transport Required",
          "17/No Treatment/Transport Required",
          "18/No Treatment/Transport Required",
          "19/No Treatment/Transport Required",
          "20/No Treatment/Transport Required",
          "21/No Treatment/Transport Required",
          "22/No Treatment/Transport Required",
          "23/No Treatment/Transport Required",
          "24/No Treatment/Transport Required",
          "25/No Treatment/Transport Required",
          "26/No Treatment/Transport Required",
          "27/No Treatment/Transport Required",
          "28/No Treatment/Transport Required",
          "29/No Treatment/Transport Required",
          "30/No Treatment/Transport Required",
          "31/No Treatment/Transport Required",
          "32/No Treatment/Transport Required",
          "34/No Treatment/Transport Required",
          "35/No Treatment/Transport Required",
          "36/No Treatment/Transport Required",
          "37/No Treatment/Transport Required",
          "38/No Treatment/Transport Required",
          "39/No Treatment/Transport Required",
          "40/No Treatment/Transport Required",
          "41/No Treatment/Transport Required",
          "42/No Treatment/Transport Required",
          "1/Patient Refusal  (AMA)",
          "2/Patient Refusal  (AMA)",
          "4/Patient Refusal  (AMA)",
          "5/Patient Refusal  (AMA)",
          "8/Patient Refusal  (AMA)",
          "9/Patient Refusal  (AMA)",
          "10/Patient Refusal  (AMA)",
          "11/Patient Refusal  (AMA)",
          "12/Patient Refusal  (AMA)",
          "13/Patient Refusal  (AMA)",
          "14/Patient Refusal  (AMA)",
          "15/Patient Refusal  (AMA)",
          "16/Patient Refusal  (AMA)",
          "17/Patient Refusal  (AMA)",
          "18/Patient Refusal  (AMA)",
          "19/Patient Refusal  (AMA)",
          "20/Patient Refusal  (AMA)",
          "21/Patient Refusal  (AMA)",
          "22/Patient Refusal  (AMA)",
          "23/Patient Refusal  (AMA)",
          "24/Patient Refusal  (AMA)",
          "25/Patient Refusal  (AMA)",
          "26/Patient Refusal  (AMA)",
          "27/Patient Refusal  (AMA)",
          "28/Patient Refusal  (AMA)",
          "29/Patient Refusal  (AMA)",
          "30/Patient Refusal  (AMA)",
          "31/Patient Refusal  (AMA)",
          "32/Patient Refusal  (AMA)",
          "34/Patient Refusal  (AMA)",
          "35/Patient Refusal  (AMA)",
          "36/Patient Refusal  (AMA)",
          "37/Patient Refusal  (AMA)",
          "38/Patient Refusal  (AMA)",
          "39/Patient Refusal  (AMA)",
          "40/Patient Refusal  (AMA)",
          "41/Patient Refusal  (AMA)",
          "42/Patient Refusal  (AMA)",
          "1",
          "2",
          "4",
          "5",
          "8",
          "9",
          "10",
          "11",
          "12",
          "13",
          "14",
          "15",
          "16",
          "17",
          "18",
          "19",
          "20",
          "21",
          "22",
          "23",
          "24",
          "25",
          "26",
          "27",
          "28",
          "29",
          "30",
          "31",
          "32",
          "34",
          "35",
          "36",
          "37",
          "38",
          "39",
          "40",
          "41",
          "42"
         ],
         "labels": [
          "A - Shift",
          "A - Shift",
          "A - Shift",
          "A - Shift",
          "A - Shift",
          "A - Shift",
          "A - Shift",
          "A - Shift",
          "A - Shift",
          "A - Shift",
          "A - Shift",
          "A - Shift",
          "A - Shift",
          "A - Shift",
          "A - Shift",
          "A - Shift",
          "A - Shift",
          "A - Shift",
          "A - Shift",
          "A - Shift",
          "A - Shift",
          "A - Shift",
          "A - Shift",
          "A - Shift",
          "A - Shift",
          "A - Shift",
          "A - Shift",
          "A - Shift",
          "A - Shift",
          "A - Shift",
          "A - Shift",
          "A - Shift",
          "A - Shift",
          "A - Shift",
          "A - Shift",
          "A - Shift",
          "A - Shift",
          "A - Shift",
          "A - Shift",
          "A - Shift",
          "A - Shift",
          "A - Shift",
          "A - Shift",
          "A - Shift",
          "A - Shift",
          "A - Shift",
          "A - Shift",
          "A - Shift",
          "A - Shift",
          "A - Shift",
          "A - Shift",
          "A - Shift",
          "A - Shift",
          "A - Shift",
          "A - Shift",
          "A - Shift",
          "A - Shift",
          "A - Shift",
          "A - Shift",
          "A - Shift",
          "A - Shift",
          "A - Shift",
          "A - Shift",
          "A - Shift",
          "A - Shift",
          "A - Shift",
          "A - Shift",
          "A - Shift",
          "A - Shift",
          "A - Shift",
          "A - Shift",
          "A - Shift",
          "A - Shift",
          "A - Shift",
          "A - Shift",
          "A - Shift",
          "A - Shift",
          "A - Shift",
          "A - Shift",
          "A - Shift",
          "A - Shift",
          "A - Shift",
          "A - Shift",
          "A - Shift",
          "A - Shift",
          "A - Shift",
          "A - Shift",
          "A - Shift",
          "A - Shift",
          "A - Shift",
          "A - Shift",
          "A - Shift",
          "A - Shift",
          "A - Shift",
          "A - Shift",
          "A - Shift",
          "A - Shift",
          "A - Shift",
          "A - Shift",
          "A - Shift",
          "A - Shift",
          "A - Shift",
          "A - Shift",
          "A - Shift",
          "A - Shift",
          "A - Shift",
          "A - Shift",
          "A - Shift",
          "A - Shift",
          "A - Shift",
          "A - Shift",
          "A - Shift",
          "A - Shift",
          "A - Shift",
          "B - Shift",
          "B - Shift",
          "B - Shift",
          "B - Shift",
          "B - Shift",
          "B - Shift",
          "B - Shift",
          "B - Shift",
          "B - Shift",
          "B - Shift",
          "B - Shift",
          "B - Shift",
          "B - Shift",
          "B - Shift",
          "B - Shift",
          "B - Shift",
          "B - Shift",
          "B - Shift",
          "B - Shift",
          "B - Shift",
          "B - Shift",
          "B - Shift",
          "B - Shift",
          "B - Shift",
          "B - Shift",
          "B - Shift",
          "B - Shift",
          "B - Shift",
          "B - Shift",
          "B - Shift",
          "B - Shift",
          "B - Shift",
          "B - Shift",
          "B - Shift",
          "B - Shift",
          "B - Shift",
          "B - Shift",
          "B - Shift",
          "B - Shift",
          "B - Shift",
          "B - Shift",
          "B - Shift",
          "B - Shift",
          "B - Shift",
          "B - Shift",
          "B - Shift",
          "B - Shift",
          "B - Shift",
          "B - Shift",
          "B - Shift",
          "B - Shift",
          "B - Shift",
          "B - Shift",
          "B - Shift",
          "B - Shift",
          "B - Shift",
          "B - Shift",
          "B - Shift",
          "B - Shift",
          "B - Shift",
          "B - Shift",
          "B - Shift",
          "B - Shift",
          "B - Shift",
          "B - Shift",
          "B - Shift",
          "B - Shift",
          "B - Shift",
          "B - Shift",
          "B - Shift",
          "B - Shift",
          "B - Shift",
          "B - Shift",
          "B - Shift",
          "B - Shift",
          "B - Shift",
          "B - Shift",
          "B - Shift",
          "B - Shift",
          "B - Shift",
          "B - Shift",
          "B - Shift",
          "B - Shift",
          "B - Shift",
          "B - Shift",
          "B - Shift",
          "B - Shift",
          "B - Shift",
          "B - Shift",
          "B - Shift",
          "B - Shift",
          "B - Shift",
          "B - Shift",
          "B - Shift",
          "B - Shift",
          "B - Shift",
          "B - Shift",
          "B - Shift",
          "B - Shift",
          "B - Shift",
          "B - Shift",
          "B - Shift",
          "B - Shift",
          "B - Shift",
          "B - Shift",
          "B - Shift",
          "B - Shift",
          "B - Shift",
          "B - Shift",
          "B - Shift",
          "B - Shift",
          "B - Shift",
          "B - Shift",
          "B - Shift",
          "C - Shift",
          "C - Shift",
          "C - Shift",
          "C - Shift",
          "C - Shift",
          "C - Shift",
          "C - Shift",
          "C - Shift",
          "C - Shift",
          "C - Shift",
          "C - Shift",
          "C - Shift",
          "C - Shift",
          "C - Shift",
          "C - Shift",
          "C - Shift",
          "C - Shift",
          "C - Shift",
          "C - Shift",
          "C - Shift",
          "C - Shift",
          "C - Shift",
          "C - Shift",
          "C - Shift",
          "C - Shift",
          "C - Shift",
          "C - Shift",
          "C - Shift",
          "C - Shift",
          "C - Shift",
          "C - Shift",
          "C - Shift",
          "C - Shift",
          "C - Shift",
          "C - Shift",
          "C - Shift",
          "C - Shift",
          "C - Shift",
          "C - Shift",
          "C - Shift",
          "C - Shift",
          "C - Shift",
          "C - Shift",
          "C - Shift",
          "C - Shift",
          "C - Shift",
          "C - Shift",
          "C - Shift",
          "C - Shift",
          "C - Shift",
          "C - Shift",
          "C - Shift",
          "C - Shift",
          "C - Shift",
          "C - Shift",
          "C - Shift",
          "C - Shift",
          "C - Shift",
          "C - Shift",
          "C - Shift",
          "C - Shift",
          "C - Shift",
          "C - Shift",
          "C - Shift",
          "C - Shift",
          "C - Shift",
          "C - Shift",
          "C - Shift",
          "C - Shift",
          "C - Shift",
          "C - Shift",
          "C - Shift",
          "C - Shift",
          "C - Shift",
          "C - Shift",
          "C - Shift",
          "C - Shift",
          "C - Shift",
          "C - Shift",
          "C - Shift",
          "C - Shift",
          "C - Shift",
          "C - Shift",
          "C - Shift",
          "C - Shift",
          "C - Shift",
          "C - Shift",
          "C - Shift",
          "C - Shift",
          "C - Shift",
          "C - Shift",
          "C - Shift",
          "C - Shift",
          "C - Shift",
          "C - Shift",
          "C - Shift",
          "C - Shift",
          "C - Shift",
          "C - Shift",
          "C - Shift",
          "C - Shift",
          "C - Shift",
          "C - Shift",
          "C - Shift",
          "C - Shift",
          "C - Shift",
          "C - Shift",
          "C - Shift",
          "C - Shift",
          "C - Shift",
          "C - Shift",
          "C - Shift",
          "C - Shift",
          "C - Shift",
          "Canceled (Prior to Arrival)",
          "Canceled (Prior to Arrival)",
          "Canceled (Prior to Arrival)",
          "Canceled (Prior to Arrival)",
          "Canceled (Prior to Arrival)",
          "Canceled (Prior to Arrival)",
          "Canceled (Prior to Arrival)",
          "Canceled (Prior to Arrival)",
          "Canceled (Prior to Arrival)",
          "Canceled (Prior to Arrival)",
          "Canceled (Prior to Arrival)",
          "Canceled (Prior to Arrival)",
          "Canceled (Prior to Arrival)",
          "Canceled (Prior to Arrival)",
          "Canceled (Prior to Arrival)",
          "Canceled (Prior to Arrival)",
          "Canceled (Prior to Arrival)",
          "Canceled (Prior to Arrival)",
          "Canceled (Prior to Arrival)",
          "Canceled (Prior to Arrival)",
          "Canceled (Prior to Arrival)",
          "Canceled (Prior to Arrival)",
          "Canceled (Prior to Arrival)",
          "Canceled (Prior to Arrival)",
          "Canceled (Prior to Arrival)",
          "Canceled (Prior to Arrival)",
          "Canceled (Prior to Arrival)",
          "Canceled (Prior to Arrival)",
          "Canceled (Prior to Arrival)",
          "Canceled (Prior to Arrival)",
          "Canceled (Prior to Arrival)",
          "Canceled (Prior to Arrival)",
          "Canceled (Prior to Arrival)",
          "Canceled (Prior to Arrival)",
          "Canceled (Prior to Arrival)",
          "Canceled (Prior to Arrival)",
          "Canceled (Prior to Arrival)",
          "Canceled (Prior to Arrival)",
          "No Treatment/Transport Required",
          "No Treatment/Transport Required",
          "No Treatment/Transport Required",
          "No Treatment/Transport Required",
          "No Treatment/Transport Required",
          "No Treatment/Transport Required",
          "No Treatment/Transport Required",
          "No Treatment/Transport Required",
          "No Treatment/Transport Required",
          "No Treatment/Transport Required",
          "No Treatment/Transport Required",
          "No Treatment/Transport Required",
          "No Treatment/Transport Required",
          "No Treatment/Transport Required",
          "No Treatment/Transport Required",
          "No Treatment/Transport Required",
          "No Treatment/Transport Required",
          "No Treatment/Transport Required",
          "No Treatment/Transport Required",
          "No Treatment/Transport Required",
          "No Treatment/Transport Required",
          "No Treatment/Transport Required",
          "No Treatment/Transport Required",
          "No Treatment/Transport Required",
          "No Treatment/Transport Required",
          "No Treatment/Transport Required",
          "No Treatment/Transport Required",
          "No Treatment/Transport Required",
          "No Treatment/Transport Required",
          "No Treatment/Transport Required",
          "No Treatment/Transport Required",
          "No Treatment/Transport Required",
          "No Treatment/Transport Required",
          "No Treatment/Transport Required",
          "No Treatment/Transport Required",
          "No Treatment/Transport Required",
          "No Treatment/Transport Required",
          "No Treatment/Transport Required",
          "Patient Refusal  (AMA)",
          "Patient Refusal  (AMA)",
          "Patient Refusal  (AMA)",
          "Patient Refusal  (AMA)",
          "Patient Refusal  (AMA)",
          "Patient Refusal  (AMA)",
          "Patient Refusal  (AMA)",
          "Patient Refusal  (AMA)",
          "Patient Refusal  (AMA)",
          "Patient Refusal  (AMA)",
          "Patient Refusal  (AMA)",
          "Patient Refusal  (AMA)",
          "Patient Refusal  (AMA)",
          "Patient Refusal  (AMA)",
          "Patient Refusal  (AMA)",
          "Patient Refusal  (AMA)",
          "Patient Refusal  (AMA)",
          "Patient Refusal  (AMA)",
          "Patient Refusal  (AMA)",
          "Patient Refusal  (AMA)",
          "Patient Refusal  (AMA)",
          "Patient Refusal  (AMA)",
          "Patient Refusal  (AMA)",
          "Patient Refusal  (AMA)",
          "Patient Refusal  (AMA)",
          "Patient Refusal  (AMA)",
          "Patient Refusal  (AMA)",
          "Patient Refusal  (AMA)",
          "Patient Refusal  (AMA)",
          "Patient Refusal  (AMA)",
          "Patient Refusal  (AMA)",
          "Patient Refusal  (AMA)",
          "Patient Refusal  (AMA)",
          "Patient Refusal  (AMA)",
          "Patient Refusal  (AMA)",
          "Patient Refusal  (AMA)",
          "Patient Refusal  (AMA)",
          "Patient Refusal  (AMA)",
          "1",
          "2",
          "4",
          "5",
          "8",
          "9",
          "10",
          "11",
          "12",
          "13",
          "14",
          "15",
          "16",
          "17",
          "18",
          "19",
          "20",
          "21",
          "22",
          "23",
          "24",
          "25",
          "26",
          "27",
          "28",
          "29",
          "30",
          "31",
          "32",
          "34",
          "35",
          "36",
          "37",
          "38",
          "39",
          "40",
          "41",
          "42"
         ],
         "marker": {
          "coloraxis": "coloraxis",
          "colors": [
           1,
           2,
           4,
           5,
           8,
           9,
           10,
           11,
           12,
           13,
           14,
           15,
           16,
           17,
           18,
           19,
           20,
           21,
           22,
           23,
           24,
           25,
           26,
           27,
           28,
           29,
           30,
           31,
           32,
           34,
           35,
           36,
           37,
           38,
           39,
           40,
           41,
           42,
           1,
           2,
           4,
           5,
           8,
           9,
           10,
           11,
           12,
           13,
           14,
           15,
           16,
           17,
           18,
           19,
           20,
           21,
           22,
           23,
           24,
           25,
           26,
           27,
           28,
           29,
           30,
           31,
           32,
           34,
           35,
           36,
           37,
           38,
           39,
           40,
           41,
           42,
           1,
           2,
           4,
           5,
           8,
           9,
           10,
           11,
           12,
           13,
           14,
           15,
           16,
           17,
           18,
           19,
           20,
           21,
           22,
           23,
           24,
           25,
           26,
           27,
           28,
           29,
           30,
           31,
           32,
           34,
           35,
           36,
           37,
           38,
           39,
           40,
           41,
           42,
           1,
           2,
           4,
           5,
           8,
           9,
           10,
           11,
           12,
           13,
           14,
           15,
           16,
           17,
           18,
           19,
           20,
           21,
           22,
           23,
           24,
           25,
           26,
           27,
           28,
           29,
           30,
           31,
           32,
           34,
           35,
           36,
           37,
           38,
           39,
           40,
           41,
           42,
           1,
           2,
           4,
           5,
           8,
           9,
           10,
           11,
           12,
           13,
           14,
           15,
           16,
           17,
           18,
           19,
           20,
           21,
           22,
           23,
           24,
           25,
           26,
           27,
           28,
           29,
           30,
           31,
           32,
           34,
           35,
           36,
           37,
           38,
           39,
           40,
           41,
           42,
           1,
           2,
           4,
           5,
           8,
           9,
           10,
           11,
           12,
           13,
           14,
           15,
           16,
           17,
           18,
           19,
           20,
           21,
           22,
           23,
           24,
           25,
           26,
           27,
           28,
           29,
           30,
           31,
           32,
           34,
           35,
           36,
           37,
           38,
           39,
           40,
           41,
           42,
           1,
           2,
           4,
           5,
           8,
           9,
           10,
           11,
           12,
           13,
           14,
           15,
           16,
           17,
           18,
           19,
           20,
           21,
           22,
           23,
           24,
           25,
           26,
           27,
           28,
           29,
           30,
           31,
           32,
           34,
           35,
           36,
           37,
           38,
           39,
           40,
           41,
           42,
           1,
           2,
           4,
           5,
           8,
           9,
           10,
           11,
           12,
           13,
           14,
           15,
           16,
           17,
           18,
           19,
           20,
           21,
           22,
           23,
           24,
           25,
           26,
           27,
           28,
           29,
           30,
           31,
           32,
           34,
           35,
           36,
           37,
           38,
           39,
           40,
           41,
           42,
           1,
           2,
           4,
           5,
           8,
           9,
           10,
           11,
           12,
           13,
           14,
           15,
           16,
           17,
           18,
           19,
           20,
           21,
           22,
           23,
           24,
           25,
           26,
           27,
           28,
           29,
           30,
           31,
           32,
           34,
           35,
           36,
           37,
           38,
           39,
           40,
           41,
           42,
           1,
           2,
           4,
           5,
           8,
           9,
           10,
           11,
           12,
           13,
           14,
           15,
           16,
           17,
           18,
           19,
           20,
           21,
           22,
           23,
           24,
           25,
           26,
           27,
           28,
           29,
           30,
           31,
           32,
           34,
           35,
           36,
           37,
           38,
           39,
           40,
           41,
           42,
           1,
           2,
           4,
           5,
           8,
           9,
           10,
           11,
           12,
           13,
           14,
           15,
           16,
           17,
           18,
           19,
           20,
           21,
           22,
           23,
           24,
           25,
           26,
           27,
           28,
           29,
           30,
           31,
           32,
           34,
           35,
           36,
           37,
           38,
           39,
           40,
           41,
           42,
           1,
           2,
           4,
           5,
           8,
           9,
           10,
           11,
           12,
           13,
           14,
           15,
           16,
           17,
           18,
           19,
           20,
           21,
           22,
           23,
           24,
           25,
           26,
           27,
           28,
           29,
           30,
           31,
           32,
           34,
           35,
           36,
           37,
           38,
           39,
           40,
           41,
           42,
           1,
           2,
           4,
           5,
           8,
           9,
           10,
           11,
           12,
           13,
           14,
           15,
           16,
           17,
           18,
           19,
           20,
           21,
           22,
           23,
           24,
           25,
           26,
           27,
           28,
           29,
           30,
           31,
           32,
           34,
           35,
           36,
           37,
           38,
           39,
           40,
           41,
           42
          ]
         },
         "name": "",
         "parents": [
          "1/Canceled (Prior to Arrival)",
          "2/Canceled (Prior to Arrival)",
          "4/Canceled (Prior to Arrival)",
          "5/Canceled (Prior to Arrival)",
          "8/Canceled (Prior to Arrival)",
          "9/Canceled (Prior to Arrival)",
          "10/Canceled (Prior to Arrival)",
          "11/Canceled (Prior to Arrival)",
          "12/Canceled (Prior to Arrival)",
          "13/Canceled (Prior to Arrival)",
          "14/Canceled (Prior to Arrival)",
          "15/Canceled (Prior to Arrival)",
          "16/Canceled (Prior to Arrival)",
          "17/Canceled (Prior to Arrival)",
          "18/Canceled (Prior to Arrival)",
          "19/Canceled (Prior to Arrival)",
          "20/Canceled (Prior to Arrival)",
          "21/Canceled (Prior to Arrival)",
          "22/Canceled (Prior to Arrival)",
          "23/Canceled (Prior to Arrival)",
          "24/Canceled (Prior to Arrival)",
          "25/Canceled (Prior to Arrival)",
          "26/Canceled (Prior to Arrival)",
          "27/Canceled (Prior to Arrival)",
          "28/Canceled (Prior to Arrival)",
          "29/Canceled (Prior to Arrival)",
          "30/Canceled (Prior to Arrival)",
          "31/Canceled (Prior to Arrival)",
          "32/Canceled (Prior to Arrival)",
          "34/Canceled (Prior to Arrival)",
          "35/Canceled (Prior to Arrival)",
          "36/Canceled (Prior to Arrival)",
          "37/Canceled (Prior to Arrival)",
          "38/Canceled (Prior to Arrival)",
          "39/Canceled (Prior to Arrival)",
          "40/Canceled (Prior to Arrival)",
          "41/Canceled (Prior to Arrival)",
          "42/Canceled (Prior to Arrival)",
          "1/No Treatment/Transport Required",
          "2/No Treatment/Transport Required",
          "4/No Treatment/Transport Required",
          "5/No Treatment/Transport Required",
          "8/No Treatment/Transport Required",
          "9/No Treatment/Transport Required",
          "10/No Treatment/Transport Required",
          "11/No Treatment/Transport Required",
          "12/No Treatment/Transport Required",
          "13/No Treatment/Transport Required",
          "14/No Treatment/Transport Required",
          "15/No Treatment/Transport Required",
          "16/No Treatment/Transport Required",
          "17/No Treatment/Transport Required",
          "18/No Treatment/Transport Required",
          "19/No Treatment/Transport Required",
          "20/No Treatment/Transport Required",
          "21/No Treatment/Transport Required",
          "22/No Treatment/Transport Required",
          "23/No Treatment/Transport Required",
          "24/No Treatment/Transport Required",
          "25/No Treatment/Transport Required",
          "26/No Treatment/Transport Required",
          "27/No Treatment/Transport Required",
          "28/No Treatment/Transport Required",
          "29/No Treatment/Transport Required",
          "30/No Treatment/Transport Required",
          "31/No Treatment/Transport Required",
          "32/No Treatment/Transport Required",
          "34/No Treatment/Transport Required",
          "35/No Treatment/Transport Required",
          "36/No Treatment/Transport Required",
          "37/No Treatment/Transport Required",
          "38/No Treatment/Transport Required",
          "39/No Treatment/Transport Required",
          "40/No Treatment/Transport Required",
          "41/No Treatment/Transport Required",
          "42/No Treatment/Transport Required",
          "1/Patient Refusal  (AMA)",
          "2/Patient Refusal  (AMA)",
          "4/Patient Refusal  (AMA)",
          "5/Patient Refusal  (AMA)",
          "8/Patient Refusal  (AMA)",
          "9/Patient Refusal  (AMA)",
          "10/Patient Refusal  (AMA)",
          "11/Patient Refusal  (AMA)",
          "12/Patient Refusal  (AMA)",
          "13/Patient Refusal  (AMA)",
          "14/Patient Refusal  (AMA)",
          "15/Patient Refusal  (AMA)",
          "16/Patient Refusal  (AMA)",
          "17/Patient Refusal  (AMA)",
          "18/Patient Refusal  (AMA)",
          "19/Patient Refusal  (AMA)",
          "20/Patient Refusal  (AMA)",
          "21/Patient Refusal  (AMA)",
          "22/Patient Refusal  (AMA)",
          "23/Patient Refusal  (AMA)",
          "24/Patient Refusal  (AMA)",
          "25/Patient Refusal  (AMA)",
          "26/Patient Refusal  (AMA)",
          "27/Patient Refusal  (AMA)",
          "28/Patient Refusal  (AMA)",
          "29/Patient Refusal  (AMA)",
          "30/Patient Refusal  (AMA)",
          "31/Patient Refusal  (AMA)",
          "32/Patient Refusal  (AMA)",
          "34/Patient Refusal  (AMA)",
          "35/Patient Refusal  (AMA)",
          "36/Patient Refusal  (AMA)",
          "37/Patient Refusal  (AMA)",
          "38/Patient Refusal  (AMA)",
          "39/Patient Refusal  (AMA)",
          "40/Patient Refusal  (AMA)",
          "41/Patient Refusal  (AMA)",
          "42/Patient Refusal  (AMA)",
          "1/Canceled (Prior to Arrival)",
          "2/Canceled (Prior to Arrival)",
          "4/Canceled (Prior to Arrival)",
          "5/Canceled (Prior to Arrival)",
          "8/Canceled (Prior to Arrival)",
          "9/Canceled (Prior to Arrival)",
          "10/Canceled (Prior to Arrival)",
          "11/Canceled (Prior to Arrival)",
          "12/Canceled (Prior to Arrival)",
          "13/Canceled (Prior to Arrival)",
          "14/Canceled (Prior to Arrival)",
          "15/Canceled (Prior to Arrival)",
          "16/Canceled (Prior to Arrival)",
          "17/Canceled (Prior to Arrival)",
          "18/Canceled (Prior to Arrival)",
          "19/Canceled (Prior to Arrival)",
          "20/Canceled (Prior to Arrival)",
          "21/Canceled (Prior to Arrival)",
          "22/Canceled (Prior to Arrival)",
          "23/Canceled (Prior to Arrival)",
          "24/Canceled (Prior to Arrival)",
          "25/Canceled (Prior to Arrival)",
          "26/Canceled (Prior to Arrival)",
          "27/Canceled (Prior to Arrival)",
          "28/Canceled (Prior to Arrival)",
          "29/Canceled (Prior to Arrival)",
          "30/Canceled (Prior to Arrival)",
          "31/Canceled (Prior to Arrival)",
          "32/Canceled (Prior to Arrival)",
          "34/Canceled (Prior to Arrival)",
          "35/Canceled (Prior to Arrival)",
          "36/Canceled (Prior to Arrival)",
          "37/Canceled (Prior to Arrival)",
          "38/Canceled (Prior to Arrival)",
          "39/Canceled (Prior to Arrival)",
          "40/Canceled (Prior to Arrival)",
          "41/Canceled (Prior to Arrival)",
          "42/Canceled (Prior to Arrival)",
          "1/No Treatment/Transport Required",
          "2/No Treatment/Transport Required",
          "4/No Treatment/Transport Required",
          "5/No Treatment/Transport Required",
          "8/No Treatment/Transport Required",
          "9/No Treatment/Transport Required",
          "10/No Treatment/Transport Required",
          "11/No Treatment/Transport Required",
          "12/No Treatment/Transport Required",
          "13/No Treatment/Transport Required",
          "14/No Treatment/Transport Required",
          "15/No Treatment/Transport Required",
          "16/No Treatment/Transport Required",
          "17/No Treatment/Transport Required",
          "18/No Treatment/Transport Required",
          "19/No Treatment/Transport Required",
          "20/No Treatment/Transport Required",
          "21/No Treatment/Transport Required",
          "22/No Treatment/Transport Required",
          "23/No Treatment/Transport Required",
          "24/No Treatment/Transport Required",
          "25/No Treatment/Transport Required",
          "26/No Treatment/Transport Required",
          "27/No Treatment/Transport Required",
          "28/No Treatment/Transport Required",
          "29/No Treatment/Transport Required",
          "30/No Treatment/Transport Required",
          "31/No Treatment/Transport Required",
          "32/No Treatment/Transport Required",
          "34/No Treatment/Transport Required",
          "35/No Treatment/Transport Required",
          "36/No Treatment/Transport Required",
          "37/No Treatment/Transport Required",
          "38/No Treatment/Transport Required",
          "39/No Treatment/Transport Required",
          "40/No Treatment/Transport Required",
          "41/No Treatment/Transport Required",
          "42/No Treatment/Transport Required",
          "1/Patient Refusal  (AMA)",
          "2/Patient Refusal  (AMA)",
          "4/Patient Refusal  (AMA)",
          "5/Patient Refusal  (AMA)",
          "8/Patient Refusal  (AMA)",
          "9/Patient Refusal  (AMA)",
          "10/Patient Refusal  (AMA)",
          "11/Patient Refusal  (AMA)",
          "12/Patient Refusal  (AMA)",
          "13/Patient Refusal  (AMA)",
          "14/Patient Refusal  (AMA)",
          "15/Patient Refusal  (AMA)",
          "16/Patient Refusal  (AMA)",
          "17/Patient Refusal  (AMA)",
          "18/Patient Refusal  (AMA)",
          "19/Patient Refusal  (AMA)",
          "20/Patient Refusal  (AMA)",
          "21/Patient Refusal  (AMA)",
          "22/Patient Refusal  (AMA)",
          "23/Patient Refusal  (AMA)",
          "24/Patient Refusal  (AMA)",
          "25/Patient Refusal  (AMA)",
          "26/Patient Refusal  (AMA)",
          "27/Patient Refusal  (AMA)",
          "28/Patient Refusal  (AMA)",
          "29/Patient Refusal  (AMA)",
          "30/Patient Refusal  (AMA)",
          "31/Patient Refusal  (AMA)",
          "32/Patient Refusal  (AMA)",
          "34/Patient Refusal  (AMA)",
          "35/Patient Refusal  (AMA)",
          "36/Patient Refusal  (AMA)",
          "37/Patient Refusal  (AMA)",
          "38/Patient Refusal  (AMA)",
          "39/Patient Refusal  (AMA)",
          "40/Patient Refusal  (AMA)",
          "41/Patient Refusal  (AMA)",
          "42/Patient Refusal  (AMA)",
          "1/Canceled (Prior to Arrival)",
          "2/Canceled (Prior to Arrival)",
          "4/Canceled (Prior to Arrival)",
          "5/Canceled (Prior to Arrival)",
          "8/Canceled (Prior to Arrival)",
          "9/Canceled (Prior to Arrival)",
          "10/Canceled (Prior to Arrival)",
          "11/Canceled (Prior to Arrival)",
          "12/Canceled (Prior to Arrival)",
          "13/Canceled (Prior to Arrival)",
          "14/Canceled (Prior to Arrival)",
          "15/Canceled (Prior to Arrival)",
          "16/Canceled (Prior to Arrival)",
          "17/Canceled (Prior to Arrival)",
          "18/Canceled (Prior to Arrival)",
          "19/Canceled (Prior to Arrival)",
          "20/Canceled (Prior to Arrival)",
          "21/Canceled (Prior to Arrival)",
          "22/Canceled (Prior to Arrival)",
          "23/Canceled (Prior to Arrival)",
          "24/Canceled (Prior to Arrival)",
          "25/Canceled (Prior to Arrival)",
          "26/Canceled (Prior to Arrival)",
          "27/Canceled (Prior to Arrival)",
          "28/Canceled (Prior to Arrival)",
          "29/Canceled (Prior to Arrival)",
          "30/Canceled (Prior to Arrival)",
          "31/Canceled (Prior to Arrival)",
          "32/Canceled (Prior to Arrival)",
          "34/Canceled (Prior to Arrival)",
          "35/Canceled (Prior to Arrival)",
          "36/Canceled (Prior to Arrival)",
          "37/Canceled (Prior to Arrival)",
          "38/Canceled (Prior to Arrival)",
          "39/Canceled (Prior to Arrival)",
          "40/Canceled (Prior to Arrival)",
          "41/Canceled (Prior to Arrival)",
          "42/Canceled (Prior to Arrival)",
          "1/No Treatment/Transport Required",
          "2/No Treatment/Transport Required",
          "4/No Treatment/Transport Required",
          "5/No Treatment/Transport Required",
          "8/No Treatment/Transport Required",
          "9/No Treatment/Transport Required",
          "10/No Treatment/Transport Required",
          "11/No Treatment/Transport Required",
          "12/No Treatment/Transport Required",
          "13/No Treatment/Transport Required",
          "14/No Treatment/Transport Required",
          "15/No Treatment/Transport Required",
          "16/No Treatment/Transport Required",
          "17/No Treatment/Transport Required",
          "18/No Treatment/Transport Required",
          "19/No Treatment/Transport Required",
          "20/No Treatment/Transport Required",
          "21/No Treatment/Transport Required",
          "22/No Treatment/Transport Required",
          "23/No Treatment/Transport Required",
          "24/No Treatment/Transport Required",
          "25/No Treatment/Transport Required",
          "26/No Treatment/Transport Required",
          "27/No Treatment/Transport Required",
          "28/No Treatment/Transport Required",
          "29/No Treatment/Transport Required",
          "30/No Treatment/Transport Required",
          "31/No Treatment/Transport Required",
          "32/No Treatment/Transport Required",
          "34/No Treatment/Transport Required",
          "35/No Treatment/Transport Required",
          "36/No Treatment/Transport Required",
          "37/No Treatment/Transport Required",
          "38/No Treatment/Transport Required",
          "39/No Treatment/Transport Required",
          "40/No Treatment/Transport Required",
          "41/No Treatment/Transport Required",
          "42/No Treatment/Transport Required",
          "1/Patient Refusal  (AMA)",
          "2/Patient Refusal  (AMA)",
          "4/Patient Refusal  (AMA)",
          "5/Patient Refusal  (AMA)",
          "8/Patient Refusal  (AMA)",
          "9/Patient Refusal  (AMA)",
          "10/Patient Refusal  (AMA)",
          "11/Patient Refusal  (AMA)",
          "12/Patient Refusal  (AMA)",
          "13/Patient Refusal  (AMA)",
          "14/Patient Refusal  (AMA)",
          "15/Patient Refusal  (AMA)",
          "16/Patient Refusal  (AMA)",
          "17/Patient Refusal  (AMA)",
          "18/Patient Refusal  (AMA)",
          "19/Patient Refusal  (AMA)",
          "20/Patient Refusal  (AMA)",
          "21/Patient Refusal  (AMA)",
          "22/Patient Refusal  (AMA)",
          "23/Patient Refusal  (AMA)",
          "24/Patient Refusal  (AMA)",
          "25/Patient Refusal  (AMA)",
          "26/Patient Refusal  (AMA)",
          "27/Patient Refusal  (AMA)",
          "28/Patient Refusal  (AMA)",
          "29/Patient Refusal  (AMA)",
          "30/Patient Refusal  (AMA)",
          "31/Patient Refusal  (AMA)",
          "32/Patient Refusal  (AMA)",
          "34/Patient Refusal  (AMA)",
          "35/Patient Refusal  (AMA)",
          "36/Patient Refusal  (AMA)",
          "37/Patient Refusal  (AMA)",
          "38/Patient Refusal  (AMA)",
          "39/Patient Refusal  (AMA)",
          "40/Patient Refusal  (AMA)",
          "41/Patient Refusal  (AMA)",
          "42/Patient Refusal  (AMA)",
          "1",
          "2",
          "4",
          "5",
          "8",
          "9",
          "10",
          "11",
          "12",
          "13",
          "14",
          "15",
          "16",
          "17",
          "18",
          "19",
          "20",
          "21",
          "22",
          "23",
          "24",
          "25",
          "26",
          "27",
          "28",
          "29",
          "30",
          "31",
          "32",
          "34",
          "35",
          "36",
          "37",
          "38",
          "39",
          "40",
          "41",
          "42",
          "1",
          "2",
          "4",
          "5",
          "8",
          "9",
          "10",
          "11",
          "12",
          "13",
          "14",
          "15",
          "16",
          "17",
          "18",
          "19",
          "20",
          "21",
          "22",
          "23",
          "24",
          "25",
          "26",
          "27",
          "28",
          "29",
          "30",
          "31",
          "32",
          "34",
          "35",
          "36",
          "37",
          "38",
          "39",
          "40",
          "41",
          "42",
          "1",
          "2",
          "4",
          "5",
          "8",
          "9",
          "10",
          "11",
          "12",
          "13",
          "14",
          "15",
          "16",
          "17",
          "18",
          "19",
          "20",
          "21",
          "22",
          "23",
          "24",
          "25",
          "26",
          "27",
          "28",
          "29",
          "30",
          "31",
          "32",
          "34",
          "35",
          "36",
          "37",
          "38",
          "39",
          "40",
          "41",
          "42",
          "",
          "",
          "",
          "",
          "",
          "",
          "",
          "",
          "",
          "",
          "",
          "",
          "",
          "",
          "",
          "",
          "",
          "",
          "",
          "",
          "",
          "",
          "",
          "",
          "",
          "",
          "",
          "",
          "",
          "",
          "",
          "",
          "",
          "",
          "",
          "",
          "",
          ""
         ],
         "textinfo": "label+percent entry",
         "type": "sunburst",
         "values": [
          185,
          45,
          115,
          180,
          303,
          271,
          254,
          418,
          32,
          107,
          107,
          221,
          21,
          187,
          166,
          77,
          76,
          161,
          271,
          126,
          104,
          88,
          245,
          145,
          151,
          130,
          163,
          145,
          97,
          161,
          101,
          64,
          69,
          164,
          147,
          186,
          55,
          144,
          182,
          60,
          217,
          242,
          298,
          502,
          413,
          431,
          52,
          181,
          103,
          287,
          10,
          261,
          142,
          207,
          18,
          180,
          224,
          132,
          193,
          237,
          180,
          122,
          192,
          160,
          152,
          72,
          36,
          150,
          28,
          253,
          57,
          125,
          131,
          150,
          21,
          87,
          212,
          163,
          160,
          242,
          296,
          177,
          361,
          336,
          53,
          257,
          213,
          202,
          31,
          263,
          154,
          221,
          44,
          247,
          209,
          147,
          134,
          211,
          184,
          215,
          190,
          180,
          273,
          108,
          179,
          126,
          164,
          177,
          128,
          187,
          116,
          158,
          104,
          130,
          176,
          133,
          182,
          262,
          255,
          240,
          330,
          467,
          34,
          195,
          79,
          200,
          27,
          174,
          176,
          154,
          91,
          172,
          247,
          102,
          91,
          100,
          274,
          135,
          167,
          125,
          154,
          92,
          105,
          158,
          111,
          176,
          225,
          138,
          144,
          153,
          33,
          99,
          118,
          100,
          250,
          222,
          387,
          428,
          364,
          518,
          28,
          342,
          141,
          188,
          36,
          165,
          176,
          277,
          24,
          200,
          203,
          199,
          254,
          221,
          257,
          114,
          219,
          180,
          263,
          170,
          93,
          113,
          66,
          182,
          149,
          126,
          172,
          122,
          32,
          91,
          209,
          200,
          245,
          241,
          291,
          192,
          323,
          362,
          77,
          308,
          234,
          220,
          37,
          266,
          153,
          157,
          53,
          226,
          183,
          143,
          124,
          181,
          179,
          194,
          200,
          293,
          281,
          151,
          201,
          140,
          218,
          220,
          108,
          205,
          164,
          156,
          88,
          146,
          124,
          62,
          140,
          104,
          297,
          225,
          304,
          508,
          49,
          193,
          99,
          179,
          33,
          215,
          194,
          143,
          72,
          107,
          185,
          114,
          97,
          124,
          280,
          111,
          128,
          252,
          156,
          124,
          98,
          174,
          77,
          184,
          124,
          144,
          131,
          197,
          64,
          141,
          154,
          71,
          212,
          120,
          263,
          397,
          394,
          553,
          44,
          98,
          226,
          188,
          26,
          170,
          148,
          174,
          41,
          150,
          184,
          166,
          198,
          214,
          141,
          299,
          323,
          205,
          219,
          135,
          98,
          126,
          116,
          189,
          121,
          108,
          119,
          107,
          55,
          57,
          243,
          158,
          216,
          264,
          257,
          250,
          303,
          392,
          48,
          228,
          166,
          192,
          43,
          312,
          233,
          238,
          62,
          208,
          268,
          174,
          115,
          157,
          167,
          187,
          148,
          235,
          244,
          132,
          194,
          173,
          245,
          153,
          136,
          148,
          110,
          190,
          89,
          133,
          485,
          240,
          437,
          546,
          855,
          736,
          888,
          1393,
          115,
          495,
          285,
          600,
          81,
          576,
          536,
          374,
          239,
          440,
          703,
          342,
          292,
          312,
          799,
          391,
          446,
          507,
          473,
          361,
          300,
          493,
          289,
          424,
          418,
          446,
          422,
          536,
          152,
          384,
          454,
          231,
          679,
          584,
          948,
          1327,
          1171,
          1502,
          124,
          621,
          470,
          663,
          72,
          596,
          466,
          658,
          83,
          530,
          611,
          497,
          645,
          672,
          578,
          535,
          734,
          545,
          634,
          377,
          227,
          389,
          210,
          624,
          327,
          359,
          422,
          379,
          108,
          235,
          664,
          521,
          621,
          747,
          844,
          619,
          987,
          1090,
          178,
          793,
          613,
          614,
          111,
          841,
          540,
          616,
          159,
          681,
          660,
          464,
          373,
          549,
          530,
          596,
          538,
          708,
          798,
          391,
          574,
          439,
          627,
          550,
          372,
          540,
          390,
          504,
          281,
          409,
          1603,
          992,
          1737,
          1877,
          2647,
          2682,
          3046,
          3985,
          417,
          1909,
          1368,
          1877,
          264,
          2013,
          1542,
          1648,
          481,
          1651,
          1974,
          1303,
          1310,
          1533,
          1907,
          1522,
          1718,
          1760,
          1905,
          1129,
          1101,
          1321,
          1126,
          1598,
          1117,
          1345,
          1234,
          1419,
          541,
          1028
         ]
        }
       ],
       "layout": {
        "coloraxis": {
         "colorbar": {
          "title": {
           "text": "FireStation"
          }
         },
         "colorscale": [
          [
           0,
           "#0d0887"
          ],
          [
           0.1111111111111111,
           "#46039f"
          ],
          [
           0.2222222222222222,
           "#7201a8"
          ],
          [
           0.3333333333333333,
           "#9c179e"
          ],
          [
           0.4444444444444444,
           "#bd3786"
          ],
          [
           0.5555555555555556,
           "#d8576b"
          ],
          [
           0.6666666666666666,
           "#ed7953"
          ],
          [
           0.7777777777777778,
           "#fb9f3a"
          ],
          [
           0.8888888888888888,
           "#fdca26"
          ],
          [
           1,
           "#f0f921"
          ]
         ]
        },
        "height": 1400,
        "legend": {
         "tracegroupgap": 0
        },
        "margin": {
         "b": 0,
         "l": 0,
         "r": 0,
         "t": 0
        },
        "sunburstcolorway": [
         "rgb(102, 197, 204)",
         "rgb(246, 207, 113)",
         "rgb(248, 156, 116)",
         "rgb(220, 176, 242)",
         "rgb(135, 197, 95)",
         "rgb(158, 185, 243)",
         "rgb(254, 136, 177)",
         "rgb(201, 219, 116)",
         "rgb(139, 224, 164)",
         "rgb(180, 151, 231)",
         "rgb(179, 179, 179)"
        ],
        "template": {
         "data": {
          "bar": [
           {
            "error_x": {
             "color": "#2a3f5f"
            },
            "error_y": {
             "color": "#2a3f5f"
            },
            "marker": {
             "line": {
              "color": "#E5ECF6",
              "width": 0.5
             }
            },
            "type": "bar"
           }
          ],
          "barpolar": [
           {
            "marker": {
             "line": {
              "color": "#E5ECF6",
              "width": 0.5
             }
            },
            "type": "barpolar"
           }
          ],
          "carpet": [
           {
            "aaxis": {
             "endlinecolor": "#2a3f5f",
             "gridcolor": "white",
             "linecolor": "white",
             "minorgridcolor": "white",
             "startlinecolor": "#2a3f5f"
            },
            "baxis": {
             "endlinecolor": "#2a3f5f",
             "gridcolor": "white",
             "linecolor": "white",
             "minorgridcolor": "white",
             "startlinecolor": "#2a3f5f"
            },
            "type": "carpet"
           }
          ],
          "choropleth": [
           {
            "colorbar": {
             "outlinewidth": 0,
             "ticks": ""
            },
            "type": "choropleth"
           }
          ],
          "contour": [
           {
            "colorbar": {
             "outlinewidth": 0,
             "ticks": ""
            },
            "colorscale": [
             [
              0,
              "#0d0887"
             ],
             [
              0.1111111111111111,
              "#46039f"
             ],
             [
              0.2222222222222222,
              "#7201a8"
             ],
             [
              0.3333333333333333,
              "#9c179e"
             ],
             [
              0.4444444444444444,
              "#bd3786"
             ],
             [
              0.5555555555555556,
              "#d8576b"
             ],
             [
              0.6666666666666666,
              "#ed7953"
             ],
             [
              0.7777777777777778,
              "#fb9f3a"
             ],
             [
              0.8888888888888888,
              "#fdca26"
             ],
             [
              1,
              "#f0f921"
             ]
            ],
            "type": "contour"
           }
          ],
          "contourcarpet": [
           {
            "colorbar": {
             "outlinewidth": 0,
             "ticks": ""
            },
            "type": "contourcarpet"
           }
          ],
          "heatmap": [
           {
            "colorbar": {
             "outlinewidth": 0,
             "ticks": ""
            },
            "colorscale": [
             [
              0,
              "#0d0887"
             ],
             [
              0.1111111111111111,
              "#46039f"
             ],
             [
              0.2222222222222222,
              "#7201a8"
             ],
             [
              0.3333333333333333,
              "#9c179e"
             ],
             [
              0.4444444444444444,
              "#bd3786"
             ],
             [
              0.5555555555555556,
              "#d8576b"
             ],
             [
              0.6666666666666666,
              "#ed7953"
             ],
             [
              0.7777777777777778,
              "#fb9f3a"
             ],
             [
              0.8888888888888888,
              "#fdca26"
             ],
             [
              1,
              "#f0f921"
             ]
            ],
            "type": "heatmap"
           }
          ],
          "heatmapgl": [
           {
            "colorbar": {
             "outlinewidth": 0,
             "ticks": ""
            },
            "colorscale": [
             [
              0,
              "#0d0887"
             ],
             [
              0.1111111111111111,
              "#46039f"
             ],
             [
              0.2222222222222222,
              "#7201a8"
             ],
             [
              0.3333333333333333,
              "#9c179e"
             ],
             [
              0.4444444444444444,
              "#bd3786"
             ],
             [
              0.5555555555555556,
              "#d8576b"
             ],
             [
              0.6666666666666666,
              "#ed7953"
             ],
             [
              0.7777777777777778,
              "#fb9f3a"
             ],
             [
              0.8888888888888888,
              "#fdca26"
             ],
             [
              1,
              "#f0f921"
             ]
            ],
            "type": "heatmapgl"
           }
          ],
          "histogram": [
           {
            "marker": {
             "colorbar": {
              "outlinewidth": 0,
              "ticks": ""
             }
            },
            "type": "histogram"
           }
          ],
          "histogram2d": [
           {
            "colorbar": {
             "outlinewidth": 0,
             "ticks": ""
            },
            "colorscale": [
             [
              0,
              "#0d0887"
             ],
             [
              0.1111111111111111,
              "#46039f"
             ],
             [
              0.2222222222222222,
              "#7201a8"
             ],
             [
              0.3333333333333333,
              "#9c179e"
             ],
             [
              0.4444444444444444,
              "#bd3786"
             ],
             [
              0.5555555555555556,
              "#d8576b"
             ],
             [
              0.6666666666666666,
              "#ed7953"
             ],
             [
              0.7777777777777778,
              "#fb9f3a"
             ],
             [
              0.8888888888888888,
              "#fdca26"
             ],
             [
              1,
              "#f0f921"
             ]
            ],
            "type": "histogram2d"
           }
          ],
          "histogram2dcontour": [
           {
            "colorbar": {
             "outlinewidth": 0,
             "ticks": ""
            },
            "colorscale": [
             [
              0,
              "#0d0887"
             ],
             [
              0.1111111111111111,
              "#46039f"
             ],
             [
              0.2222222222222222,
              "#7201a8"
             ],
             [
              0.3333333333333333,
              "#9c179e"
             ],
             [
              0.4444444444444444,
              "#bd3786"
             ],
             [
              0.5555555555555556,
              "#d8576b"
             ],
             [
              0.6666666666666666,
              "#ed7953"
             ],
             [
              0.7777777777777778,
              "#fb9f3a"
             ],
             [
              0.8888888888888888,
              "#fdca26"
             ],
             [
              1,
              "#f0f921"
             ]
            ],
            "type": "histogram2dcontour"
           }
          ],
          "mesh3d": [
           {
            "colorbar": {
             "outlinewidth": 0,
             "ticks": ""
            },
            "type": "mesh3d"
           }
          ],
          "parcoords": [
           {
            "line": {
             "colorbar": {
              "outlinewidth": 0,
              "ticks": ""
             }
            },
            "type": "parcoords"
           }
          ],
          "pie": [
           {
            "automargin": true,
            "type": "pie"
           }
          ],
          "scatter": [
           {
            "marker": {
             "colorbar": {
              "outlinewidth": 0,
              "ticks": ""
             }
            },
            "type": "scatter"
           }
          ],
          "scatter3d": [
           {
            "line": {
             "colorbar": {
              "outlinewidth": 0,
              "ticks": ""
             }
            },
            "marker": {
             "colorbar": {
              "outlinewidth": 0,
              "ticks": ""
             }
            },
            "type": "scatter3d"
           }
          ],
          "scattercarpet": [
           {
            "marker": {
             "colorbar": {
              "outlinewidth": 0,
              "ticks": ""
             }
            },
            "type": "scattercarpet"
           }
          ],
          "scattergeo": [
           {
            "marker": {
             "colorbar": {
              "outlinewidth": 0,
              "ticks": ""
             }
            },
            "type": "scattergeo"
           }
          ],
          "scattergl": [
           {
            "marker": {
             "colorbar": {
              "outlinewidth": 0,
              "ticks": ""
             }
            },
            "type": "scattergl"
           }
          ],
          "scattermapbox": [
           {
            "marker": {
             "colorbar": {
              "outlinewidth": 0,
              "ticks": ""
             }
            },
            "type": "scattermapbox"
           }
          ],
          "scatterpolar": [
           {
            "marker": {
             "colorbar": {
              "outlinewidth": 0,
              "ticks": ""
             }
            },
            "type": "scatterpolar"
           }
          ],
          "scatterpolargl": [
           {
            "marker": {
             "colorbar": {
              "outlinewidth": 0,
              "ticks": ""
             }
            },
            "type": "scatterpolargl"
           }
          ],
          "scatterternary": [
           {
            "marker": {
             "colorbar": {
              "outlinewidth": 0,
              "ticks": ""
             }
            },
            "type": "scatterternary"
           }
          ],
          "surface": [
           {
            "colorbar": {
             "outlinewidth": 0,
             "ticks": ""
            },
            "colorscale": [
             [
              0,
              "#0d0887"
             ],
             [
              0.1111111111111111,
              "#46039f"
             ],
             [
              0.2222222222222222,
              "#7201a8"
             ],
             [
              0.3333333333333333,
              "#9c179e"
             ],
             [
              0.4444444444444444,
              "#bd3786"
             ],
             [
              0.5555555555555556,
              "#d8576b"
             ],
             [
              0.6666666666666666,
              "#ed7953"
             ],
             [
              0.7777777777777778,
              "#fb9f3a"
             ],
             [
              0.8888888888888888,
              "#fdca26"
             ],
             [
              1,
              "#f0f921"
             ]
            ],
            "type": "surface"
           }
          ],
          "table": [
           {
            "cells": {
             "fill": {
              "color": "#EBF0F8"
             },
             "line": {
              "color": "white"
             }
            },
            "header": {
             "fill": {
              "color": "#C8D4E3"
             },
             "line": {
              "color": "white"
             }
            },
            "type": "table"
           }
          ]
         },
         "layout": {
          "annotationdefaults": {
           "arrowcolor": "#2a3f5f",
           "arrowhead": 0,
           "arrowwidth": 1
          },
          "autotypenumbers": "strict",
          "coloraxis": {
           "colorbar": {
            "outlinewidth": 0,
            "ticks": ""
           }
          },
          "colorscale": {
           "diverging": [
            [
             0,
             "#8e0152"
            ],
            [
             0.1,
             "#c51b7d"
            ],
            [
             0.2,
             "#de77ae"
            ],
            [
             0.3,
             "#f1b6da"
            ],
            [
             0.4,
             "#fde0ef"
            ],
            [
             0.5,
             "#f7f7f7"
            ],
            [
             0.6,
             "#e6f5d0"
            ],
            [
             0.7,
             "#b8e186"
            ],
            [
             0.8,
             "#7fbc41"
            ],
            [
             0.9,
             "#4d9221"
            ],
            [
             1,
             "#276419"
            ]
           ],
           "sequential": [
            [
             0,
             "#0d0887"
            ],
            [
             0.1111111111111111,
             "#46039f"
            ],
            [
             0.2222222222222222,
             "#7201a8"
            ],
            [
             0.3333333333333333,
             "#9c179e"
            ],
            [
             0.4444444444444444,
             "#bd3786"
            ],
            [
             0.5555555555555556,
             "#d8576b"
            ],
            [
             0.6666666666666666,
             "#ed7953"
            ],
            [
             0.7777777777777778,
             "#fb9f3a"
            ],
            [
             0.8888888888888888,
             "#fdca26"
            ],
            [
             1,
             "#f0f921"
            ]
           ],
           "sequentialminus": [
            [
             0,
             "#0d0887"
            ],
            [
             0.1111111111111111,
             "#46039f"
            ],
            [
             0.2222222222222222,
             "#7201a8"
            ],
            [
             0.3333333333333333,
             "#9c179e"
            ],
            [
             0.4444444444444444,
             "#bd3786"
            ],
            [
             0.5555555555555556,
             "#d8576b"
            ],
            [
             0.6666666666666666,
             "#ed7953"
            ],
            [
             0.7777777777777778,
             "#fb9f3a"
            ],
            [
             0.8888888888888888,
             "#fdca26"
            ],
            [
             1,
             "#f0f921"
            ]
           ]
          },
          "colorway": [
           "#636efa",
           "#EF553B",
           "#00cc96",
           "#ab63fa",
           "#FFA15A",
           "#19d3f3",
           "#FF6692",
           "#B6E880",
           "#FF97FF",
           "#FECB52"
          ],
          "font": {
           "color": "#2a3f5f"
          },
          "geo": {
           "bgcolor": "white",
           "lakecolor": "white",
           "landcolor": "#E5ECF6",
           "showlakes": true,
           "showland": true,
           "subunitcolor": "white"
          },
          "hoverlabel": {
           "align": "left"
          },
          "hovermode": "closest",
          "mapbox": {
           "style": "light"
          },
          "paper_bgcolor": "white",
          "plot_bgcolor": "#E5ECF6",
          "polar": {
           "angularaxis": {
            "gridcolor": "white",
            "linecolor": "white",
            "ticks": ""
           },
           "bgcolor": "#E5ECF6",
           "radialaxis": {
            "gridcolor": "white",
            "linecolor": "white",
            "ticks": ""
           }
          },
          "scene": {
           "xaxis": {
            "backgroundcolor": "#E5ECF6",
            "gridcolor": "white",
            "gridwidth": 2,
            "linecolor": "white",
            "showbackground": true,
            "ticks": "",
            "zerolinecolor": "white"
           },
           "yaxis": {
            "backgroundcolor": "#E5ECF6",
            "gridcolor": "white",
            "gridwidth": 2,
            "linecolor": "white",
            "showbackground": true,
            "ticks": "",
            "zerolinecolor": "white"
           },
           "zaxis": {
            "backgroundcolor": "#E5ECF6",
            "gridcolor": "white",
            "gridwidth": 2,
            "linecolor": "white",
            "showbackground": true,
            "ticks": "",
            "zerolinecolor": "white"
           }
          },
          "shapedefaults": {
           "line": {
            "color": "#2a3f5f"
           }
          },
          "ternary": {
           "aaxis": {
            "gridcolor": "white",
            "linecolor": "white",
            "ticks": ""
           },
           "baxis": {
            "gridcolor": "white",
            "linecolor": "white",
            "ticks": ""
           },
           "bgcolor": "#E5ECF6",
           "caxis": {
            "gridcolor": "white",
            "linecolor": "white",
            "ticks": ""
           }
          },
          "title": {
           "x": 0.05
          },
          "xaxis": {
           "automargin": true,
           "gridcolor": "white",
           "linecolor": "white",
           "ticks": "",
           "title": {
            "standoff": 15
           },
           "zerolinecolor": "white",
           "zerolinewidth": 2
          },
          "yaxis": {
           "automargin": true,
           "gridcolor": "white",
           "linecolor": "white",
           "ticks": "",
           "title": {
            "standoff": 15
           },
           "zerolinecolor": "white",
           "zerolinewidth": 2
          }
         }
        },
        "width": 1500
       }
      }
     },
     "metadata": {}
    }
   ],
   "source": [
    "col_in = 'FireStation'\n",
    "#path_in = ['FireStation', 'PatientOutcome']\n",
    "path_in = ['FireStation', 'PatientOutcome', 'Shift']\n",
    "\n",
    "# col_in = 'PatientOutcome'\n",
    "# path_in = ['PatientOutcome', 'FireStation']\n",
    "#path_in = ['PatientOutcome', 'FireStation','Shift']\n",
    "q4_vis.sunburst(path_in, col_in, 1400)"
   ]
  },
  {
   "cell_type": "code",
   "execution_count": null,
   "metadata": {},
   "outputs": [],
   "source": []
  }
 ]
}