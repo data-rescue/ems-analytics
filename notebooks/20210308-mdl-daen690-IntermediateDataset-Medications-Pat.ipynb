{
 "cells": [
  {
   "cell_type": "markdown",
   "metadata": {},
   "source": [
    "# Merge and Prepare Intermediate Datasets -- Medications and Patients\n",
    "\n",
    "This notebook is the data engineering for creating the intermediate dataset for the \"Medications\" and \"Patients\" merged dataset. The script reads in the raw data provided by our project partner, drops records where FRDPersonnelStartDate is NULL, removes remaining duplicates, add tenure by month attribute, converts categorical data into numeric, and adds new numeric columns utilizing the the \"One Hot Encoding\" method, then outputs dataframe ro a CSV file. I will document and comment the notebook later. Enjoy!"
   ]
  },
  {
   "cell_type": "code",
   "execution_count": null,
   "metadata": {},
   "outputs": [],
   "source": [
    "# Funtion to identify and print easy to understand variable types \n",
    "def get_var_category(series):\n",
    "    unique_count = series.nunique(dropna=False)\n",
    "    total_count = len(series)\n",
    "    if pd.api.types.is_numeric_dtype(series):\n",
    "        return 'Numerical'\n",
    "    elif pd.api.types.is_datetime64_dtype(series):\n",
    "        return 'Date'\n",
    "    elif unique_count == total_count:\n",
    "        return 'Text (Unique)'\n",
    "    else:\n",
    "        return 'Categorical'\n",
    "\n",
    "def print_categories(df):\n",
    "    for column_name in df.columns:\n",
    "        print(column_name, \": \", get_var_category(df[column_name]))"
   ]
  },
  {
   "cell_type": "code",
   "execution_count": 2,
   "metadata": {},
   "outputs": [
    {
     "data": {
      "text/html": [
       "<style>.container { width:80% !important; }</style>"
      ],
      "text/plain": [
       "<IPython.core.display.HTML object>"
      ]
     },
     "metadata": {},
     "output_type": "display_data"
    }
   ],
   "source": [
    "# Import libraries\n",
    "import numpy as np\n",
    "import pandas as pd\n",
    "import os, time\n",
    "\n",
    "# Setup HTML display\n",
    "from IPython.core.display import display, HTML\n",
    "# Notebook cell width adjustment\n",
    "display(HTML('<style>.container { width:80% !important; }</style>'))"
   ]
  },
  {
   "cell_type": "markdown",
   "metadata": {},
   "source": [
    "## Read in Medications dataset"
   ]
  },
  {
   "cell_type": "code",
   "execution_count": 3,
   "metadata": {},
   "outputs": [
    {
     "name": "stdout",
     "output_type": "stream",
     "text": [
      "C:\\Users\\MDL\\iPython Scripts\n",
      "The file was read in 1 minutes and 40 seconds.\n"
     ]
    },
    {
     "data": {
      "text/plain": [
       "(63168, 6)"
      ]
     },
     "execution_count": 3,
     "metadata": {},
     "output_type": "execute_result"
    }
   ],
   "source": [
    "# Read in Medications dataset and capture how long it takes\n",
    "print(os.getcwd())\n",
    "readStart=time.time()\n",
    "\n",
    "dfMedications = pd.read_excel(r'./data/20210225-ems-raw-v04.xlsx', \n",
    "                        sheet_name='Medications',\n",
    "                        na_values=['NA'])\n",
    "\n",
    "# Stop the clock and calculate read time\n",
    "readStop=time.time()\n",
    "readTime=readStop-readStart\n",
    "readMin=np.floor(readTime/60)\n",
    "readSec=np.floor(readTime-(readMin*60))\n",
    "print(\"The file was read in {0:.0f} minutes and {1:.0f} seconds.\".format(readMin,readSec))\n",
    "\n",
    "dfMedications.shape"
   ]
  },
  {
   "cell_type": "markdown",
   "metadata": {},
   "source": [
    "## Read in Patients dataset"
   ]
  },
  {
   "cell_type": "code",
   "execution_count": 4,
   "metadata": {},
   "outputs": [
    {
     "name": "stdout",
     "output_type": "stream",
     "text": [
      "C:\\Users\\MDL\\iPython Scripts\n",
      "The file was read in 1 minutes and 47 seconds.\n"
     ]
    },
    {
     "data": {
      "text/plain": [
       "(543774, 12)"
      ]
     },
     "execution_count": 4,
     "metadata": {},
     "output_type": "execute_result"
    }
   ],
   "source": [
    "# Read in Patients dataset and capture how long it takes\n",
    "print(os.getcwd())\n",
    "readStart=time.time()\n",
    "\n",
    "dfPatients = pd.read_excel(r'./data/20210225-ems-raw-v04.xlsx', \n",
    "                        sheet_name='Patients', \n",
    "                        na_values=['NA'])\n",
    "\n",
    "# Stop the clock and calculate read time\n",
    "readStop=time.time()\n",
    "readTime=readStop-readStart\n",
    "readMin=np.floor(readTime/60)\n",
    "readSec=np.floor(readTime-(readMin*60))\n",
    "print(\"The file was read in {0:.0f} minutes and {1:.0f} seconds.\".format(readMin,readSec))\n",
    "\n",
    "dfPatients.shape"
   ]
  },
  {
   "cell_type": "markdown",
   "metadata": {},
   "source": [
    "# Working with Medications dataframe"
   ]
  },
  {
   "cell_type": "code",
   "execution_count": 5,
   "metadata": {},
   "outputs": [
    {
     "name": "stdout",
     "output_type": "stream",
     "text": [
      "Medications record count:  63168\n"
     ]
    }
   ],
   "source": [
    "# Capture Medications record count in variable\n",
    "varMedicationsCount = len(dfMedications.index)\n",
    "print('Medications record count: ', varMedicationsCount)"
   ]
  },
  {
   "cell_type": "code",
   "execution_count": 6,
   "metadata": {},
   "outputs": [
    {
     "data": {
      "text/plain": [
       "(' \\nCount total NaN at each column in a Medications dataFrame : \\n\\n',\n",
       " Dim_Medication_PK                    0\n",
       " PatientId                            0\n",
       " Medication_Given_RXCUI_Code          6\n",
       " Medication_Given_Description         6\n",
       " FRDPersonnelID                       0\n",
       " Medication_Administered_Date_Time    1\n",
       " dtype: int64)"
      ]
     },
     "execution_count": 6,
     "metadata": {},
     "output_type": "execute_result"
    }
   ],
   "source": [
    "# Just getting a count of NULL values, but not dropping them yet\n",
    "(\" \\nCount total NaN at each column in a Medications dataFrame : \\n\\n\", dfMedications.isnull().sum())"
   ]
  },
  {
   "cell_type": "code",
   "execution_count": 7,
   "metadata": {},
   "outputs": [
    {
     "name": "stdout",
     "output_type": "stream",
     "text": [
      "Dim_Medication_PK :  Numerical\n",
      "PatientId :  Numerical\n",
      "Medication_Given_RXCUI_Code :  Numerical\n",
      "Medication_Given_Description :  Categorical\n",
      "FRDPersonnelID :  Categorical\n",
      "Medication_Administered_Date_Time :  Date\n"
     ]
    }
   ],
   "source": [
    "print_categories(dfMedications)"
   ]
  },
  {
   "cell_type": "code",
   "execution_count": 8,
   "metadata": {},
   "outputs": [
    {
     "data": {
      "text/plain": [
       "Index(['Dim_Medication_PK', 'PatientId', 'Medication_Given_RXCUI_Code',\n",
       "       'Medication_Given_Description', 'FRDPersonnelID'],\n",
       "      dtype='object')"
      ]
     },
     "execution_count": 8,
     "metadata": {},
     "output_type": "execute_result"
    }
   ],
   "source": [
    "# Drop Medication_Administered_Date_Time column which is not needed for analytics, \n",
    "# Dim_Medication_PK acts as a record-level unique identifier\n",
    "dfMedications = dfMedications.drop(['Medication_Administered_Date_Time'],axis=1)\n",
    "dfMedications.columns"
   ]
  },
  {
   "cell_type": "code",
   "execution_count": 9,
   "metadata": {},
   "outputs": [
    {
     "data": {
      "text/html": [
       "<div>\n",
       "<style scoped>\n",
       "    .dataframe tbody tr th:only-of-type {\n",
       "        vertical-align: middle;\n",
       "    }\n",
       "\n",
       "    .dataframe tbody tr th {\n",
       "        vertical-align: top;\n",
       "    }\n",
       "\n",
       "    .dataframe thead th {\n",
       "        text-align: right;\n",
       "    }\n",
       "</style>\n",
       "<table border=\"1\" class=\"dataframe\">\n",
       "  <thead>\n",
       "    <tr style=\"text-align: right;\">\n",
       "      <th></th>\n",
       "      <th>Dim_Medication_PK</th>\n",
       "      <th>PatientId</th>\n",
       "      <th>Medication_Given_RXCUI_Code</th>\n",
       "      <th>Medication_Given_Description</th>\n",
       "      <th>FRDPersonnelID</th>\n",
       "    </tr>\n",
       "  </thead>\n",
       "  <tbody>\n",
       "    <tr>\n",
       "      <th>0</th>\n",
       "      <td>65740</td>\n",
       "      <td>479862</td>\n",
       "      <td>7806.0</td>\n",
       "      <td>Oxygen</td>\n",
       "      <td>1D18E8FC-EE92-E211-A596-78E7D18C3D20</td>\n",
       "    </tr>\n",
       "    <tr>\n",
       "      <th>1</th>\n",
       "      <td>65744</td>\n",
       "      <td>479876</td>\n",
       "      <td>26225.0</td>\n",
       "      <td>Ondansetron (Zofran)</td>\n",
       "      <td>35CA45A3-9C25-4E4D-957F-2EA9E40B5974</td>\n",
       "    </tr>\n",
       "    <tr>\n",
       "      <th>2</th>\n",
       "      <td>65749</td>\n",
       "      <td>479916</td>\n",
       "      <td>125464.0</td>\n",
       "      <td>Normal saline</td>\n",
       "      <td>F73B4EF0-B70C-4960-9B92-8BF196A30B57</td>\n",
       "    </tr>\n",
       "    <tr>\n",
       "      <th>3</th>\n",
       "      <td>65750</td>\n",
       "      <td>479920</td>\n",
       "      <td>237648.0</td>\n",
       "      <td>Dextrose 10 % (D10)</td>\n",
       "      <td>C387923A-F613-E411-A585-F305C4522FCB</td>\n",
       "    </tr>\n",
       "    <tr>\n",
       "      <th>4</th>\n",
       "      <td>65758</td>\n",
       "      <td>480011</td>\n",
       "      <td>125464.0</td>\n",
       "      <td>Normal saline</td>\n",
       "      <td>08CC5399-F492-E211-A596-78E7D18C3D20</td>\n",
       "    </tr>\n",
       "  </tbody>\n",
       "</table>\n",
       "</div>"
      ],
      "text/plain": [
       "   Dim_Medication_PK  PatientId  Medication_Given_RXCUI_Code  \\\n",
       "0              65740     479862                       7806.0   \n",
       "1              65744     479876                      26225.0   \n",
       "2              65749     479916                     125464.0   \n",
       "3              65750     479920                     237648.0   \n",
       "4              65758     480011                     125464.0   \n",
       "\n",
       "  Medication_Given_Description                        FRDPersonnelID  \n",
       "0                       Oxygen  1D18E8FC-EE92-E211-A596-78E7D18C3D20  \n",
       "1         Ondansetron (Zofran)  35CA45A3-9C25-4E4D-957F-2EA9E40B5974  \n",
       "2                Normal saline  F73B4EF0-B70C-4960-9B92-8BF196A30B57  \n",
       "3          Dextrose 10 % (D10)  C387923A-F613-E411-A585-F305C4522FCB  \n",
       "4                Normal saline  08CC5399-F492-E211-A596-78E7D18C3D20  "
      ]
     },
     "execution_count": 9,
     "metadata": {},
     "output_type": "execute_result"
    }
   ],
   "source": [
    "dfMedications.head()"
   ]
  },
  {
   "cell_type": "code",
   "execution_count": 10,
   "metadata": {},
   "outputs": [
    {
     "data": {
      "text/html": [
       "<div>\n",
       "<style scoped>\n",
       "    .dataframe tbody tr th:only-of-type {\n",
       "        vertical-align: middle;\n",
       "    }\n",
       "\n",
       "    .dataframe tbody tr th {\n",
       "        vertical-align: top;\n",
       "    }\n",
       "\n",
       "    .dataframe thead th {\n",
       "        text-align: right;\n",
       "    }\n",
       "</style>\n",
       "<table border=\"1\" class=\"dataframe\">\n",
       "  <thead>\n",
       "    <tr style=\"text-align: right;\">\n",
       "      <th></th>\n",
       "      <th>Dim_Medication_PK</th>\n",
       "      <th>PatientId</th>\n",
       "      <th>Medication_Given_RXCUI_Code</th>\n",
       "      <th>Medication_Given_Description</th>\n",
       "      <th>FRDPersonnelID</th>\n",
       "    </tr>\n",
       "  </thead>\n",
       "  <tbody>\n",
       "    <tr>\n",
       "      <th>3860</th>\n",
       "      <td>84682</td>\n",
       "      <td>537112</td>\n",
       "      <td>26225.0</td>\n",
       "      <td>Ondansetron (Zofran)</td>\n",
       "      <td>9E5D40DC-5DC6-E411-80C7-001DD8B71D38</td>\n",
       "    </tr>\n",
       "    <tr>\n",
       "      <th>3861</th>\n",
       "      <td>84682</td>\n",
       "      <td>537112</td>\n",
       "      <td>26225.0</td>\n",
       "      <td>Ondansetron (Zofran)</td>\n",
       "      <td>9E5D40DC-5DC6-E411-80C7-001DD8B71D38</td>\n",
       "    </tr>\n",
       "    <tr>\n",
       "      <th>4877</th>\n",
       "      <td>119059</td>\n",
       "      <td>552215</td>\n",
       "      <td>4337.0</td>\n",
       "      <td>Fentanyl Citrate (Sublimaze)</td>\n",
       "      <td>9E5D40DC-5DC6-E411-80C7-001DD8B71D38</td>\n",
       "    </tr>\n",
       "    <tr>\n",
       "      <th>4878</th>\n",
       "      <td>119059</td>\n",
       "      <td>552215</td>\n",
       "      <td>4337.0</td>\n",
       "      <td>Fentanyl Citrate (Sublimaze)</td>\n",
       "      <td>9E5D40DC-5DC6-E411-80C7-001DD8B71D38</td>\n",
       "    </tr>\n",
       "    <tr>\n",
       "      <th>6732</th>\n",
       "      <td>127985</td>\n",
       "      <td>577130</td>\n",
       "      <td>6960.0</td>\n",
       "      <td>Midazolam (Versed)</td>\n",
       "      <td>9E5D40DC-5DC6-E411-80C7-001DD8B71D38</td>\n",
       "    </tr>\n",
       "    <tr>\n",
       "      <th>...</th>\n",
       "      <td>...</td>\n",
       "      <td>...</td>\n",
       "      <td>...</td>\n",
       "      <td>...</td>\n",
       "      <td>...</td>\n",
       "    </tr>\n",
       "    <tr>\n",
       "      <th>62934</th>\n",
       "      <td>442175</td>\n",
       "      <td>1461295</td>\n",
       "      <td>1191.0</td>\n",
       "      <td>Acetylsalicylic Acid (Aspirin, ASA)</td>\n",
       "      <td>9E5D40DC-5DC6-E411-80C7-001DD8B71D38</td>\n",
       "    </tr>\n",
       "    <tr>\n",
       "      <th>62935</th>\n",
       "      <td>442176</td>\n",
       "      <td>1461295</td>\n",
       "      <td>26225.0</td>\n",
       "      <td>Ondansetron (Zofran)</td>\n",
       "      <td>9E5D40DC-5DC6-E411-80C7-001DD8B71D38</td>\n",
       "    </tr>\n",
       "    <tr>\n",
       "      <th>62936</th>\n",
       "      <td>442176</td>\n",
       "      <td>1461295</td>\n",
       "      <td>26225.0</td>\n",
       "      <td>Ondansetron (Zofran)</td>\n",
       "      <td>9E5D40DC-5DC6-E411-80C7-001DD8B71D38</td>\n",
       "    </tr>\n",
       "    <tr>\n",
       "      <th>62965</th>\n",
       "      <td>442211</td>\n",
       "      <td>1461909</td>\n",
       "      <td>1191.0</td>\n",
       "      <td>Acetylsalicylic Acid (Aspirin, ASA)</td>\n",
       "      <td>9E5D40DC-5DC6-E411-80C7-001DD8B71D38</td>\n",
       "    </tr>\n",
       "    <tr>\n",
       "      <th>62966</th>\n",
       "      <td>442211</td>\n",
       "      <td>1461909</td>\n",
       "      <td>1191.0</td>\n",
       "      <td>Acetylsalicylic Acid (Aspirin, ASA)</td>\n",
       "      <td>9E5D40DC-5DC6-E411-80C7-001DD8B71D38</td>\n",
       "    </tr>\n",
       "  </tbody>\n",
       "</table>\n",
       "<p>516 rows × 5 columns</p>\n",
       "</div>"
      ],
      "text/plain": [
       "       Dim_Medication_PK  PatientId  Medication_Given_RXCUI_Code  \\\n",
       "3860               84682     537112                      26225.0   \n",
       "3861               84682     537112                      26225.0   \n",
       "4877              119059     552215                       4337.0   \n",
       "4878              119059     552215                       4337.0   \n",
       "6732              127985     577130                       6960.0   \n",
       "...                  ...        ...                          ...   \n",
       "62934             442175    1461295                       1191.0   \n",
       "62935             442176    1461295                      26225.0   \n",
       "62936             442176    1461295                      26225.0   \n",
       "62965             442211    1461909                       1191.0   \n",
       "62966             442211    1461909                       1191.0   \n",
       "\n",
       "               Medication_Given_Description  \\\n",
       "3860                   Ondansetron (Zofran)   \n",
       "3861                   Ondansetron (Zofran)   \n",
       "4877          Fentanyl Citrate (Sublimaze)    \n",
       "4878          Fentanyl Citrate (Sublimaze)    \n",
       "6732                     Midazolam (Versed)   \n",
       "...                                     ...   \n",
       "62934  Acetylsalicylic Acid (Aspirin, ASA)    \n",
       "62935                  Ondansetron (Zofran)   \n",
       "62936                  Ondansetron (Zofran)   \n",
       "62965  Acetylsalicylic Acid (Aspirin, ASA)    \n",
       "62966  Acetylsalicylic Acid (Aspirin, ASA)    \n",
       "\n",
       "                             FRDPersonnelID  \n",
       "3860   9E5D40DC-5DC6-E411-80C7-001DD8B71D38  \n",
       "3861   9E5D40DC-5DC6-E411-80C7-001DD8B71D38  \n",
       "4877   9E5D40DC-5DC6-E411-80C7-001DD8B71D38  \n",
       "4878   9E5D40DC-5DC6-E411-80C7-001DD8B71D38  \n",
       "6732   9E5D40DC-5DC6-E411-80C7-001DD8B71D38  \n",
       "...                                     ...  \n",
       "62934  9E5D40DC-5DC6-E411-80C7-001DD8B71D38  \n",
       "62935  9E5D40DC-5DC6-E411-80C7-001DD8B71D38  \n",
       "62936  9E5D40DC-5DC6-E411-80C7-001DD8B71D38  \n",
       "62965  9E5D40DC-5DC6-E411-80C7-001DD8B71D38  \n",
       "62966  9E5D40DC-5DC6-E411-80C7-001DD8B71D38  \n",
       "\n",
       "[516 rows x 5 columns]"
      ]
     },
     "execution_count": 10,
     "metadata": {},
     "output_type": "execute_result"
    }
   ],
   "source": [
    "dfMedications.loc[dfMedications['FRDPersonnelID'] == '9E5D40DC-5DC6-E411-80C7-001DD8B71D38']"
   ]
  },
  {
   "cell_type": "code",
   "execution_count": 11,
   "metadata": {},
   "outputs": [
    {
     "data": {
      "text/plain": [
       "(62910, 5)"
      ]
     },
     "execution_count": 11,
     "metadata": {},
     "output_type": "execute_result"
    }
   ],
   "source": [
    "# Drop duplicate Medications rows, these are related to where FRDPersonnelID = 9E5D40DC-5DC6-E411-80C7-001DD8B71D38\n",
    "# 516 records, deduped expect to drop 258 records\n",
    "dfMedications = pd.DataFrame.drop_duplicates(dfMedications)\n",
    "dfMedications.shape"
   ]
  },
  {
   "cell_type": "code",
   "execution_count": 12,
   "metadata": {},
   "outputs": [
    {
     "name": "stdout",
     "output_type": "stream",
     "text": [
      "Medications revised record count:  62910\n"
     ]
    }
   ],
   "source": [
    "# Capture revised Medications record count in variable \n",
    "varMedicationsCount2 = len(dfMedications.index)\n",
    "print('Medications revised record count: ', varMedicationsCount2)"
   ]
  },
  {
   "cell_type": "code",
   "execution_count": 13,
   "metadata": {},
   "outputs": [
    {
     "name": "stdout",
     "output_type": "stream",
     "text": [
      "Duplicate records count:  258\n"
     ]
    }
   ],
   "source": [
    "# Display duplicate records dropped count\n",
    "varMedicationsDiff = varMedicationsCount - varMedicationsCount2\n",
    "print('Duplicate records count: ', varMedicationsDiff)"
   ]
  },
  {
   "cell_type": "markdown",
   "metadata": {},
   "source": [
    "# Working with Patients dataframe"
   ]
  },
  {
   "cell_type": "code",
   "execution_count": 14,
   "metadata": {},
   "outputs": [
    {
     "name": "stdout",
     "output_type": "stream",
     "text": [
      "Patients record count:  543774\n"
     ]
    }
   ],
   "source": [
    "# Capture Patients record count in variable \n",
    "varPatientsCount = len(dfPatients.index)\n",
    "print('Patients record count: ', varPatientsCount)"
   ]
  },
  {
   "cell_type": "code",
   "execution_count": 15,
   "metadata": {},
   "outputs": [
    {
     "name": "stdout",
     "output_type": "stream",
     "text": [
      " \n",
      "Count total NaN at each column in a Patients dataFrame : \n",
      "\n",
      " PatientId                     0\n",
      "FRDPersonnelID                0\n",
      "Shift                         0\n",
      "UnitId                        0\n",
      "FireStation                   0\n",
      "Battalion                     0\n",
      "PatientOutcome                2\n",
      "PatientGender            131378\n",
      "CrewMemberRoles               0\n",
      "DispatchTime                  0\n",
      "FRDPersonnelGender          474\n",
      "FRDPersonnelStartDate       474\n",
      "dtype: int64\n"
     ]
    }
   ],
   "source": [
    "print(\" \\nCount total NaN at each column in a Patients dataFrame : \\n\\n\", dfPatients.isnull().sum())"
   ]
  },
  {
   "cell_type": "markdown",
   "metadata": {},
   "source": [
    "Work on Patients dataset first"
   ]
  },
  {
   "cell_type": "code",
   "execution_count": 16,
   "metadata": {},
   "outputs": [
    {
     "name": "stdout",
     "output_type": "stream",
     "text": [
      "PatientId :  Numerical\n",
      "FRDPersonnelID :  Categorical\n",
      "Shift :  Categorical\n",
      "UnitId :  Categorical\n",
      "FireStation :  Numerical\n",
      "Battalion :  Numerical\n",
      "PatientOutcome :  Categorical\n",
      "PatientGender :  Categorical\n",
      "CrewMemberRoles :  Categorical\n",
      "DispatchTime :  Date\n",
      "FRDPersonnelGender :  Categorical\n",
      "FRDPersonnelStartDate :  Date\n"
     ]
    }
   ],
   "source": [
    "print_categories(dfPatients)"
   ]
  },
  {
   "cell_type": "markdown",
   "metadata": {},
   "source": [
    "## Keeping columns for Focus Questions 1 & 2\n",
    "```\n",
    "PatientId\n",
    "FRDPersonnelID\n",
    "PatientOutcome\n",
    "PatientGender\n",
    "DispatchTime\n",
    "FRDPersonnelGender\n",
    "FRDPersonnelStartDate\n",
    "```"
   ]
  },
  {
   "cell_type": "code",
   "execution_count": 17,
   "metadata": {},
   "outputs": [
    {
     "data": {
      "text/plain": [
       "(543774, 7)"
      ]
     },
     "execution_count": 17,
     "metadata": {},
     "output_type": "execute_result"
    }
   ],
   "source": [
    "# Create new dataframe with only columns needed for Focus Question 1\n",
    "dfPatientsSub = dfPatients.iloc[:, [0,1,6,7,9,10,11]]\n",
    "dfPatientsSub.shape"
   ]
  },
  {
   "cell_type": "code",
   "execution_count": 18,
   "metadata": {},
   "outputs": [
    {
     "data": {
      "text/html": [
       "<div>\n",
       "<style scoped>\n",
       "    .dataframe tbody tr th:only-of-type {\n",
       "        vertical-align: middle;\n",
       "    }\n",
       "\n",
       "    .dataframe tbody tr th {\n",
       "        vertical-align: top;\n",
       "    }\n",
       "\n",
       "    .dataframe thead th {\n",
       "        text-align: right;\n",
       "    }\n",
       "</style>\n",
       "<table border=\"1\" class=\"dataframe\">\n",
       "  <thead>\n",
       "    <tr style=\"text-align: right;\">\n",
       "      <th></th>\n",
       "      <th>PatientId</th>\n",
       "      <th>FRDPersonnelID</th>\n",
       "      <th>PatientOutcome</th>\n",
       "      <th>PatientGender</th>\n",
       "      <th>DispatchTime</th>\n",
       "      <th>FRDPersonnelGender</th>\n",
       "      <th>FRDPersonnelStartDate</th>\n",
       "    </tr>\n",
       "  </thead>\n",
       "  <tbody>\n",
       "    <tr>\n",
       "      <th>0</th>\n",
       "      <td>479838</td>\n",
       "      <td>6ED7C99E-9E01-E211-B5F5-78E7D18CFD3C</td>\n",
       "      <td>Standby (No Services Performed)</td>\n",
       "      <td>NaN</td>\n",
       "      <td>2018-01-01 00:29:02</td>\n",
       "      <td>Male</td>\n",
       "      <td>1997-08-18</td>\n",
       "    </tr>\n",
       "    <tr>\n",
       "      <th>1</th>\n",
       "      <td>479838</td>\n",
       "      <td>F39A55F0-C619-E511-80CA-001DD8B71D38</td>\n",
       "      <td>Standby (No Services Performed)</td>\n",
       "      <td>NaN</td>\n",
       "      <td>2018-01-01 00:29:02</td>\n",
       "      <td>Male</td>\n",
       "      <td>2007-02-19</td>\n",
       "    </tr>\n",
       "    <tr>\n",
       "      <th>2</th>\n",
       "      <td>479838</td>\n",
       "      <td>D6D3C99E-9E01-E211-B5F5-78E7D18CFD3C</td>\n",
       "      <td>Standby (No Services Performed)</td>\n",
       "      <td>NaN</td>\n",
       "      <td>2018-01-01 00:29:02</td>\n",
       "      <td>Male</td>\n",
       "      <td>2008-08-18</td>\n",
       "    </tr>\n",
       "    <tr>\n",
       "      <th>3</th>\n",
       "      <td>479839</td>\n",
       "      <td>71D4C99E-9E01-E211-B5F5-78E7D18CFD3C</td>\n",
       "      <td>No Treatment/Transport Required</td>\n",
       "      <td>NaN</td>\n",
       "      <td>2018-01-01 00:40:54</td>\n",
       "      <td>Male</td>\n",
       "      <td>2011-10-24</td>\n",
       "    </tr>\n",
       "    <tr>\n",
       "      <th>4</th>\n",
       "      <td>479839</td>\n",
       "      <td>F9D4C99E-9E01-E211-B5F5-78E7D18CFD3C</td>\n",
       "      <td>No Treatment/Transport Required</td>\n",
       "      <td>NaN</td>\n",
       "      <td>2018-01-01 00:40:54</td>\n",
       "      <td>Male</td>\n",
       "      <td>2012-02-27</td>\n",
       "    </tr>\n",
       "  </tbody>\n",
       "</table>\n",
       "</div>"
      ],
      "text/plain": [
       "   PatientId                        FRDPersonnelID  \\\n",
       "0     479838  6ED7C99E-9E01-E211-B5F5-78E7D18CFD3C   \n",
       "1     479838  F39A55F0-C619-E511-80CA-001DD8B71D38   \n",
       "2     479838  D6D3C99E-9E01-E211-B5F5-78E7D18CFD3C   \n",
       "3     479839  71D4C99E-9E01-E211-B5F5-78E7D18CFD3C   \n",
       "4     479839  F9D4C99E-9E01-E211-B5F5-78E7D18CFD3C   \n",
       "\n",
       "                    PatientOutcome PatientGender        DispatchTime  \\\n",
       "0  Standby (No Services Performed)           NaN 2018-01-01 00:29:02   \n",
       "1  Standby (No Services Performed)           NaN 2018-01-01 00:29:02   \n",
       "2  Standby (No Services Performed)           NaN 2018-01-01 00:29:02   \n",
       "3  No Treatment/Transport Required           NaN 2018-01-01 00:40:54   \n",
       "4  No Treatment/Transport Required           NaN 2018-01-01 00:40:54   \n",
       "\n",
       "  FRDPersonnelGender FRDPersonnelStartDate  \n",
       "0               Male            1997-08-18  \n",
       "1               Male            2007-02-19  \n",
       "2               Male            2008-08-18  \n",
       "3               Male            2011-10-24  \n",
       "4               Male            2012-02-27  "
      ]
     },
     "execution_count": 18,
     "metadata": {},
     "output_type": "execute_result"
    }
   ],
   "source": [
    "dfPatientsSub.head()"
   ]
  },
  {
   "cell_type": "code",
   "execution_count": 19,
   "metadata": {},
   "outputs": [
    {
     "data": {
      "text/plain": [
       "(543718, 7)"
      ]
     },
     "execution_count": 19,
     "metadata": {},
     "output_type": "execute_result"
    }
   ],
   "source": [
    "# Remove duplicate records \n",
    "dfPatientsSub = pd.DataFrame.drop_duplicates(dfPatientsSub)\n",
    "dfPatientsSub.shape"
   ]
  },
  {
   "cell_type": "code",
   "execution_count": 20,
   "metadata": {},
   "outputs": [
    {
     "name": "stdout",
     "output_type": "stream",
     "text": [
      "Patients record count:  543718\n"
     ]
    }
   ],
   "source": [
    "# Capture revised Patients record count in variable\n",
    "varPatientsSubCount = len(dfPatientsSub.index)\n",
    "print('Patients record count: ', varPatientsSubCount)"
   ]
  },
  {
   "cell_type": "code",
   "execution_count": 21,
   "metadata": {},
   "outputs": [
    {
     "name": "stdout",
     "output_type": "stream",
     "text": [
      "Duplicate records count:  56\n"
     ]
    }
   ],
   "source": [
    "# Display duplicate records dropped count\n",
    "varPatientsSubDiff = varPatientsCount - varPatientsSubCount\n",
    "print('Duplicate records count: ', varPatientsSubDiff)"
   ]
  },
  {
   "cell_type": "code",
   "execution_count": 22,
   "metadata": {},
   "outputs": [
    {
     "data": {
      "text/plain": [
       "(' \\nCount total NaN at each column in a Medications Sub dataFrame : \\n\\n',\n",
       " PatientId                     0\n",
       " FRDPersonnelID                0\n",
       " PatientOutcome                2\n",
       " PatientGender            131365\n",
       " DispatchTime                  0\n",
       " FRDPersonnelGender          460\n",
       " FRDPersonnelStartDate       460\n",
       " dtype: int64)"
      ]
     },
     "execution_count": 22,
     "metadata": {},
     "output_type": "execute_result"
    }
   ],
   "source": [
    "# Just getting a count of NULL values, but not dropping them yet\n",
    "(\" \\nCount total NaN at each column in a Medications Sub dataFrame : \\n\\n\", dfPatientsSub.isnull().sum())"
   ]
  },
  {
   "cell_type": "code",
   "execution_count": 23,
   "metadata": {},
   "outputs": [],
   "source": [
    "# Drop NULL PatientGender records\n",
    "# Don't run yet\n",
    "\n",
    "#dfPatientsSub = dfPatientsSub.drop(dfPatientsSub[(dfPatientsSub.PatientGender.isnull())].index)\n",
    "#dfPatientsSub.shape"
   ]
  },
  {
   "cell_type": "code",
   "execution_count": 24,
   "metadata": {},
   "outputs": [
    {
     "data": {
      "text/plain": [
       "(543258, 7)"
      ]
     },
     "execution_count": 24,
     "metadata": {},
     "output_type": "execute_result"
    }
   ],
   "source": [
    "# Drop NULL rows for Provider Gender and Start Date (FRDPersonnelGender and FRDPersonnelStartDate are both 460)\n",
    "dfPatientsSub = dfPatientsSub.drop(dfPatientsSub[(dfPatientsSub.FRDPersonnelGender.isnull())].index)\n",
    "dfPatientsSub.shape"
   ]
  },
  {
   "cell_type": "code",
   "execution_count": 25,
   "metadata": {},
   "outputs": [
    {
     "name": "stdout",
     "output_type": "stream",
     "text": [
      "Patients record count:  543258\n"
     ]
    }
   ],
   "source": [
    "# Capture revised Patients record count in variable \n",
    "varPatientsSubCount2 = len(dfPatientsSub.index)\n",
    "print('Patients record count: ', varPatientsSubCount2)"
   ]
  },
  {
   "cell_type": "code",
   "execution_count": 26,
   "metadata": {},
   "outputs": [
    {
     "name": "stdout",
     "output_type": "stream",
     "text": [
      "Duplicate records count:  460\n"
     ]
    }
   ],
   "source": [
    "# Display duplicate records dropped count\n",
    "varPatientsSubDiff2 = varPatientsSubCount - varPatientsSubCount2\n",
    "print('Duplicate records count: ', varPatientsSubDiff2)"
   ]
  },
  {
   "cell_type": "markdown",
   "metadata": {},
   "source": [
    "# Merge Medications and Patients datasets\n",
    "### Start with an inner join"
   ]
  },
  {
   "cell_type": "code",
   "execution_count": 27,
   "metadata": {},
   "outputs": [
    {
     "data": {
      "text/plain": [
       "(58699, 10)"
      ]
     },
     "execution_count": 27,
     "metadata": {},
     "output_type": "execute_result"
    }
   ],
   "source": [
    "# Inner join on Patients and Medications example\n",
    "dfMedPat = dfPatientsSub.merge(dfMedications, \n",
    "                        on=('PatientId','FRDPersonnelID'))\n",
    "dfMedPat.shape"
   ]
  },
  {
   "cell_type": "code",
   "execution_count": 28,
   "metadata": {},
   "outputs": [
    {
     "data": {
      "text/html": [
       "<div>\n",
       "<style scoped>\n",
       "    .dataframe tbody tr th:only-of-type {\n",
       "        vertical-align: middle;\n",
       "    }\n",
       "\n",
       "    .dataframe tbody tr th {\n",
       "        vertical-align: top;\n",
       "    }\n",
       "\n",
       "    .dataframe thead th {\n",
       "        text-align: right;\n",
       "    }\n",
       "</style>\n",
       "<table border=\"1\" class=\"dataframe\">\n",
       "  <thead>\n",
       "    <tr style=\"text-align: right;\">\n",
       "      <th></th>\n",
       "      <th>PatientId</th>\n",
       "      <th>FRDPersonnelID</th>\n",
       "      <th>PatientOutcome</th>\n",
       "      <th>PatientGender</th>\n",
       "      <th>DispatchTime</th>\n",
       "      <th>FRDPersonnelGender</th>\n",
       "      <th>FRDPersonnelStartDate</th>\n",
       "      <th>Dim_Medication_PK</th>\n",
       "      <th>Medication_Given_RXCUI_Code</th>\n",
       "      <th>Medication_Given_Description</th>\n",
       "    </tr>\n",
       "  </thead>\n",
       "  <tbody>\n",
       "    <tr>\n",
       "      <th>0</th>\n",
       "      <td>479862</td>\n",
       "      <td>1D18E8FC-EE92-E211-A596-78E7D18C3D20</td>\n",
       "      <td>Treated &amp; Transported</td>\n",
       "      <td>Female</td>\n",
       "      <td>2018-01-01 00:44:31</td>\n",
       "      <td>Female</td>\n",
       "      <td>2012-09-24</td>\n",
       "      <td>65740</td>\n",
       "      <td>7806.0</td>\n",
       "      <td>Oxygen</td>\n",
       "    </tr>\n",
       "    <tr>\n",
       "      <th>1</th>\n",
       "      <td>479876</td>\n",
       "      <td>35CA45A3-9C25-4E4D-957F-2EA9E40B5974</td>\n",
       "      <td>Treated &amp; Transported</td>\n",
       "      <td>Male</td>\n",
       "      <td>2018-01-01 00:42:53</td>\n",
       "      <td>Male</td>\n",
       "      <td>2016-02-08</td>\n",
       "      <td>65744</td>\n",
       "      <td>26225.0</td>\n",
       "      <td>Ondansetron (Zofran)</td>\n",
       "    </tr>\n",
       "    <tr>\n",
       "      <th>2</th>\n",
       "      <td>479916</td>\n",
       "      <td>F73B4EF0-B70C-4960-9B92-8BF196A30B57</td>\n",
       "      <td>Treated &amp; Transported</td>\n",
       "      <td>Male</td>\n",
       "      <td>2018-01-01 01:48:31</td>\n",
       "      <td>Male</td>\n",
       "      <td>2016-02-08</td>\n",
       "      <td>65749</td>\n",
       "      <td>125464.0</td>\n",
       "      <td>Normal saline</td>\n",
       "    </tr>\n",
       "    <tr>\n",
       "      <th>3</th>\n",
       "      <td>480011</td>\n",
       "      <td>08CC5399-F492-E211-A596-78E7D18C3D20</td>\n",
       "      <td>Treated &amp; Transported</td>\n",
       "      <td>Male</td>\n",
       "      <td>2018-01-01 03:02:53</td>\n",
       "      <td>Male</td>\n",
       "      <td>2012-09-24</td>\n",
       "      <td>65758</td>\n",
       "      <td>125464.0</td>\n",
       "      <td>Normal saline</td>\n",
       "    </tr>\n",
       "    <tr>\n",
       "      <th>4</th>\n",
       "      <td>480022</td>\n",
       "      <td>E10FD6B2-19A1-468A-825B-7EE0061DBB01</td>\n",
       "      <td>Treated &amp; Transported</td>\n",
       "      <td>Female</td>\n",
       "      <td>2018-01-01 03:04:20</td>\n",
       "      <td>Male</td>\n",
       "      <td>2016-09-19</td>\n",
       "      <td>65759</td>\n",
       "      <td>26225.0</td>\n",
       "      <td>Ondansetron (Zofran)</td>\n",
       "    </tr>\n",
       "  </tbody>\n",
       "</table>\n",
       "</div>"
      ],
      "text/plain": [
       "   PatientId                        FRDPersonnelID          PatientOutcome  \\\n",
       "0     479862  1D18E8FC-EE92-E211-A596-78E7D18C3D20  Treated & Transported    \n",
       "1     479876  35CA45A3-9C25-4E4D-957F-2EA9E40B5974  Treated & Transported    \n",
       "2     479916  F73B4EF0-B70C-4960-9B92-8BF196A30B57  Treated & Transported    \n",
       "3     480011  08CC5399-F492-E211-A596-78E7D18C3D20  Treated & Transported    \n",
       "4     480022  E10FD6B2-19A1-468A-825B-7EE0061DBB01  Treated & Transported    \n",
       "\n",
       "  PatientGender        DispatchTime FRDPersonnelGender FRDPersonnelStartDate  \\\n",
       "0        Female 2018-01-01 00:44:31             Female            2012-09-24   \n",
       "1          Male 2018-01-01 00:42:53               Male            2016-02-08   \n",
       "2          Male 2018-01-01 01:48:31               Male            2016-02-08   \n",
       "3          Male 2018-01-01 03:02:53               Male            2012-09-24   \n",
       "4        Female 2018-01-01 03:04:20               Male            2016-09-19   \n",
       "\n",
       "   Dim_Medication_PK  Medication_Given_RXCUI_Code Medication_Given_Description  \n",
       "0              65740                       7806.0                       Oxygen  \n",
       "1              65744                      26225.0         Ondansetron (Zofran)  \n",
       "2              65749                     125464.0                Normal saline  \n",
       "3              65758                     125464.0                Normal saline  \n",
       "4              65759                      26225.0         Ondansetron (Zofran)  "
      ]
     },
     "execution_count": 28,
     "metadata": {},
     "output_type": "execute_result"
    }
   ],
   "source": [
    "dfMedPat.head()"
   ]
  },
  {
   "cell_type": "code",
   "execution_count": 29,
   "metadata": {},
   "outputs": [
    {
     "data": {
      "text/plain": [
       "(' \\nCount total NaN at each column in a Medications+Patients dataFrame : \\n\\n',\n",
       " PatientId                        0\n",
       " FRDPersonnelID                   0\n",
       " PatientOutcome                   0\n",
       " PatientGender                   32\n",
       " DispatchTime                     0\n",
       " FRDPersonnelGender               0\n",
       " FRDPersonnelStartDate            0\n",
       " Dim_Medication_PK                0\n",
       " Medication_Given_RXCUI_Code      6\n",
       " Medication_Given_Description     6\n",
       " dtype: int64)"
      ]
     },
     "execution_count": 29,
     "metadata": {},
     "output_type": "execute_result"
    }
   ],
   "source": [
    "(\" \\nCount total NaN at each column in a Medications+Patients dataFrame : \\n\\n\", dfMedPat.isnull().sum())"
   ]
  },
  {
   "cell_type": "markdown",
   "metadata": {},
   "source": [
    "## Next perform a left outer join on Medications back to Medications+Patients where NULL"
   ]
  },
  {
   "cell_type": "code",
   "execution_count": 30,
   "metadata": {},
   "outputs": [],
   "source": [
    "# Add Composite Key using PatientId and FRDPersonnelID to both Medications and Medications+Patients \n",
    "# datasets for left outer joins\n",
    "dfMedications['PK'] = dfMedications['PatientId'].map(str) + '_' + dfMedications['FRDPersonnelID']\n",
    "dfMedPat['_PK'] = dfMedPat['PatientId'].map(str) + '_' + dfMedPat['FRDPersonnelID']"
   ]
  },
  {
   "cell_type": "code",
   "execution_count": 31,
   "metadata": {},
   "outputs": [
    {
     "data": {
      "text/plain": [
       "Index(['PatientId', 'FRDPersonnelID', 'PatientOutcome', 'PatientGender',\n",
       "       'DispatchTime', 'FRDPersonnelGender', 'FRDPersonnelStartDate',\n",
       "       'Dim_Medication_PK', 'Medication_Given_RXCUI_Code',\n",
       "       'Medication_Given_Description', '_PK'],\n",
       "      dtype='object')"
      ]
     },
     "execution_count": 31,
     "metadata": {},
     "output_type": "execute_result"
    }
   ],
   "source": [
    "dfMedPat.columns"
   ]
  },
  {
   "cell_type": "code",
   "execution_count": 32,
   "metadata": {},
   "outputs": [
    {
     "name": "stdout",
     "output_type": "stream",
     "text": [
      " \n",
      "Count total NaN at each column in a Medications+Patients dataFrame : \n",
      "\n",
      " PatientId                        0\n",
      "FRDPersonnelID                   0\n",
      "PatientOutcome                   0\n",
      "PatientGender                   32\n",
      "DispatchTime                     0\n",
      "FRDPersonnelGender               0\n",
      "FRDPersonnelStartDate            0\n",
      "Dim_Medication_PK                0\n",
      "Medication_Given_RXCUI_Code      6\n",
      "Medication_Given_Description     6\n",
      "_PK                              0\n",
      "dtype: int64\n"
     ]
    }
   ],
   "source": [
    "print(\" \\nCount total NaN at each column in a Medications+Patients dataFrame : \\n\\n\", dfMedPat.isnull().sum())"
   ]
  },
  {
   "cell_type": "code",
   "execution_count": 33,
   "metadata": {},
   "outputs": [],
   "source": [
    "# Perform left outer join on Composite Keys (PK and _PK) and create a new dataframe to append to exising dfMedPat\n",
    "medPKi = dfMedications.set_index('PK')\n",
    "medPatPKi = dfMedPat.set_index('_PK')\n",
    "\n",
    "dfMedLeftJoin = dfMedications.merge(medPatPKi, \n",
    "                             how = 'left', \n",
    "                             left_on = ('PK'),\n",
    "                             right_on = ('_PK'), \n",
    "                             indicator = 'i').query('i == \"left_only\"')"
   ]
  },
  {
   "cell_type": "code",
   "execution_count": 34,
   "metadata": {},
   "outputs": [
    {
     "data": {
      "text/plain": [
       "(4211, 17)"
      ]
     },
     "execution_count": 34,
     "metadata": {},
     "output_type": "execute_result"
    }
   ],
   "source": [
    "dfMedLeftJoin.shape"
   ]
  },
  {
   "cell_type": "code",
   "execution_count": 35,
   "metadata": {},
   "outputs": [
    {
     "data": {
      "text/html": [
       "<div>\n",
       "<style scoped>\n",
       "    .dataframe tbody tr th:only-of-type {\n",
       "        vertical-align: middle;\n",
       "    }\n",
       "\n",
       "    .dataframe tbody tr th {\n",
       "        vertical-align: top;\n",
       "    }\n",
       "\n",
       "    .dataframe thead th {\n",
       "        text-align: right;\n",
       "    }\n",
       "</style>\n",
       "<table border=\"1\" class=\"dataframe\">\n",
       "  <thead>\n",
       "    <tr style=\"text-align: right;\">\n",
       "      <th></th>\n",
       "      <th>Dim_Medication_PK_x</th>\n",
       "      <th>PatientId_x</th>\n",
       "      <th>Medication_Given_RXCUI_Code_x</th>\n",
       "      <th>Medication_Given_Description_x</th>\n",
       "      <th>FRDPersonnelID_x</th>\n",
       "      <th>PK</th>\n",
       "      <th>PatientId_y</th>\n",
       "      <th>FRDPersonnelID_y</th>\n",
       "      <th>PatientOutcome</th>\n",
       "      <th>PatientGender</th>\n",
       "      <th>DispatchTime</th>\n",
       "      <th>FRDPersonnelGender</th>\n",
       "      <th>FRDPersonnelStartDate</th>\n",
       "      <th>Dim_Medication_PK_y</th>\n",
       "      <th>Medication_Given_RXCUI_Code_y</th>\n",
       "      <th>Medication_Given_Description_y</th>\n",
       "      <th>i</th>\n",
       "    </tr>\n",
       "  </thead>\n",
       "  <tbody>\n",
       "    <tr>\n",
       "      <th>3</th>\n",
       "      <td>65750</td>\n",
       "      <td>479920</td>\n",
       "      <td>237648.0</td>\n",
       "      <td>Dextrose 10 % (D10)</td>\n",
       "      <td>C387923A-F613-E411-A585-F305C4522FCB</td>\n",
       "      <td>479920_C387923A-F613-E411-A585-F305C4522FCB</td>\n",
       "      <td>NaN</td>\n",
       "      <td>NaN</td>\n",
       "      <td>NaN</td>\n",
       "      <td>NaN</td>\n",
       "      <td>NaT</td>\n",
       "      <td>NaN</td>\n",
       "      <td>NaT</td>\n",
       "      <td>NaN</td>\n",
       "      <td>NaN</td>\n",
       "      <td>NaN</td>\n",
       "      <td>left_only</td>\n",
       "    </tr>\n",
       "    <tr>\n",
       "      <th>8</th>\n",
       "      <td>65770</td>\n",
       "      <td>480042</td>\n",
       "      <td>4337.0</td>\n",
       "      <td>Fentanyl Citrate (Sublimaze)</td>\n",
       "      <td>F1D2C99E-9E01-E211-B5F5-78E7D18CFD3C</td>\n",
       "      <td>480042_F1D2C99E-9E01-E211-B5F5-78E7D18CFD3C</td>\n",
       "      <td>NaN</td>\n",
       "      <td>NaN</td>\n",
       "      <td>NaN</td>\n",
       "      <td>NaN</td>\n",
       "      <td>NaT</td>\n",
       "      <td>NaN</td>\n",
       "      <td>NaT</td>\n",
       "      <td>NaN</td>\n",
       "      <td>NaN</td>\n",
       "      <td>NaN</td>\n",
       "      <td>left_only</td>\n",
       "    </tr>\n",
       "    <tr>\n",
       "      <th>70</th>\n",
       "      <td>65887</td>\n",
       "      <td>480388</td>\n",
       "      <td>26225.0</td>\n",
       "      <td>Ondansetron (Zofran)</td>\n",
       "      <td>38D8C99E-9E01-E211-B5F5-78E7D18CFD3C</td>\n",
       "      <td>480388_38D8C99E-9E01-E211-B5F5-78E7D18CFD3C</td>\n",
       "      <td>NaN</td>\n",
       "      <td>NaN</td>\n",
       "      <td>NaN</td>\n",
       "      <td>NaN</td>\n",
       "      <td>NaT</td>\n",
       "      <td>NaN</td>\n",
       "      <td>NaT</td>\n",
       "      <td>NaN</td>\n",
       "      <td>NaN</td>\n",
       "      <td>NaN</td>\n",
       "      <td>left_only</td>\n",
       "    </tr>\n",
       "    <tr>\n",
       "      <th>123</th>\n",
       "      <td>65978</td>\n",
       "      <td>480637</td>\n",
       "      <td>1191.0</td>\n",
       "      <td>Acetylsalicylic Acid (Aspirin, ASA)</td>\n",
       "      <td>1FD58791-CD19-E511-80CA-001DD8B71D38</td>\n",
       "      <td>480637_1FD58791-CD19-E511-80CA-001DD8B71D38</td>\n",
       "      <td>NaN</td>\n",
       "      <td>NaN</td>\n",
       "      <td>NaN</td>\n",
       "      <td>NaN</td>\n",
       "      <td>NaT</td>\n",
       "      <td>NaN</td>\n",
       "      <td>NaT</td>\n",
       "      <td>NaN</td>\n",
       "      <td>NaN</td>\n",
       "      <td>NaN</td>\n",
       "      <td>left_only</td>\n",
       "    </tr>\n",
       "    <tr>\n",
       "      <th>135</th>\n",
       "      <td>66016</td>\n",
       "      <td>480751</td>\n",
       "      <td>26225.0</td>\n",
       "      <td>Ondansetron (Zofran)</td>\n",
       "      <td>38D8C99E-9E01-E211-B5F5-78E7D18CFD3C</td>\n",
       "      <td>480751_38D8C99E-9E01-E211-B5F5-78E7D18CFD3C</td>\n",
       "      <td>NaN</td>\n",
       "      <td>NaN</td>\n",
       "      <td>NaN</td>\n",
       "      <td>NaN</td>\n",
       "      <td>NaT</td>\n",
       "      <td>NaN</td>\n",
       "      <td>NaT</td>\n",
       "      <td>NaN</td>\n",
       "      <td>NaN</td>\n",
       "      <td>NaN</td>\n",
       "      <td>left_only</td>\n",
       "    </tr>\n",
       "  </tbody>\n",
       "</table>\n",
       "</div>"
      ],
      "text/plain": [
       "     Dim_Medication_PK_x  PatientId_x  Medication_Given_RXCUI_Code_x  \\\n",
       "3                  65750       479920                       237648.0   \n",
       "8                  65770       480042                         4337.0   \n",
       "70                 65887       480388                        26225.0   \n",
       "123                65978       480637                         1191.0   \n",
       "135                66016       480751                        26225.0   \n",
       "\n",
       "           Medication_Given_Description_x  \\\n",
       "3                     Dextrose 10 % (D10)   \n",
       "8           Fentanyl Citrate (Sublimaze)    \n",
       "70                   Ondansetron (Zofran)   \n",
       "123  Acetylsalicylic Acid (Aspirin, ASA)    \n",
       "135                  Ondansetron (Zofran)   \n",
       "\n",
       "                         FRDPersonnelID_x  \\\n",
       "3    C387923A-F613-E411-A585-F305C4522FCB   \n",
       "8    F1D2C99E-9E01-E211-B5F5-78E7D18CFD3C   \n",
       "70   38D8C99E-9E01-E211-B5F5-78E7D18CFD3C   \n",
       "123  1FD58791-CD19-E511-80CA-001DD8B71D38   \n",
       "135  38D8C99E-9E01-E211-B5F5-78E7D18CFD3C   \n",
       "\n",
       "                                              PK  PatientId_y  \\\n",
       "3    479920_C387923A-F613-E411-A585-F305C4522FCB          NaN   \n",
       "8    480042_F1D2C99E-9E01-E211-B5F5-78E7D18CFD3C          NaN   \n",
       "70   480388_38D8C99E-9E01-E211-B5F5-78E7D18CFD3C          NaN   \n",
       "123  480637_1FD58791-CD19-E511-80CA-001DD8B71D38          NaN   \n",
       "135  480751_38D8C99E-9E01-E211-B5F5-78E7D18CFD3C          NaN   \n",
       "\n",
       "    FRDPersonnelID_y PatientOutcome PatientGender DispatchTime  \\\n",
       "3                NaN            NaN           NaN          NaT   \n",
       "8                NaN            NaN           NaN          NaT   \n",
       "70               NaN            NaN           NaN          NaT   \n",
       "123              NaN            NaN           NaN          NaT   \n",
       "135              NaN            NaN           NaN          NaT   \n",
       "\n",
       "    FRDPersonnelGender FRDPersonnelStartDate  Dim_Medication_PK_y  \\\n",
       "3                  NaN                   NaT                  NaN   \n",
       "8                  NaN                   NaT                  NaN   \n",
       "70                 NaN                   NaT                  NaN   \n",
       "123                NaN                   NaT                  NaN   \n",
       "135                NaN                   NaT                  NaN   \n",
       "\n",
       "     Medication_Given_RXCUI_Code_y Medication_Given_Description_y          i  \n",
       "3                              NaN                            NaN  left_only  \n",
       "8                              NaN                            NaN  left_only  \n",
       "70                             NaN                            NaN  left_only  \n",
       "123                            NaN                            NaN  left_only  \n",
       "135                            NaN                            NaN  left_only  "
      ]
     },
     "execution_count": 35,
     "metadata": {},
     "output_type": "execute_result"
    }
   ],
   "source": [
    "dfMedLeftJoin.head()"
   ]
  },
  {
   "cell_type": "code",
   "execution_count": 36,
   "metadata": {},
   "outputs": [
    {
     "name": "stdout",
     "output_type": "stream",
     "text": [
      " \n",
      "Count total NaN at each column in a Medications+Patients dataFrame : \n",
      "\n",
      " Dim_Medication_PK_x                  0\n",
      "PatientId_x                          0\n",
      "Medication_Given_RXCUI_Code_x        0\n",
      "Medication_Given_Description_x       0\n",
      "FRDPersonnelID_x                     0\n",
      "PK                                   0\n",
      "PatientId_y                       4211\n",
      "FRDPersonnelID_y                  4211\n",
      "PatientOutcome                    4211\n",
      "PatientGender                     4211\n",
      "DispatchTime                      4211\n",
      "FRDPersonnelGender                4211\n",
      "FRDPersonnelStartDate             4211\n",
      "Dim_Medication_PK_y               4211\n",
      "Medication_Given_RXCUI_Code_y     4211\n",
      "Medication_Given_Description_y    4211\n",
      "i                                    0\n",
      "dtype: int64\n"
     ]
    }
   ],
   "source": [
    "print(\" \\nCount total NaN at each column in a Medications+Patients dataFrame : \\n\\n\", dfMedLeftJoin.isnull().sum())"
   ]
  },
  {
   "cell_type": "code",
   "execution_count": 37,
   "metadata": {},
   "outputs": [
    {
     "data": {
      "text/plain": [
       "Index(['Dim_Medication_PK', 'PatientId', 'Medication_Given_RXCUI_Code',\n",
       "       'Medication_Given_Description', 'FRDPersonnelID', 'PK', 'PatientId_y',\n",
       "       'FRDPersonnelID_y', 'PatientOutcome', 'PatientGender', 'DispatchTime',\n",
       "       'FRDPersonnelGender', 'FRDPersonnelStartDate', 'Dim_Medication_PK_y',\n",
       "       'Medication_Given_RXCUI_Code_y', 'Medication_Given_Description_y', 'i'],\n",
       "      dtype='object')"
      ]
     },
     "execution_count": 37,
     "metadata": {},
     "output_type": "execute_result"
    }
   ],
   "source": [
    "# Create new dataframe without _x\n",
    "# Rename columns with _x\n",
    "dfMedLeftJoin.rename(columns = {'Dim_Medication_PK_x':'Dim_Medication_PK',\n",
    "                                'PatientId_x':'PatientId',\n",
    "                                'Medication_Given_RXCUI_Code_x':'Medication_Given_RXCUI_Code',\n",
    "                                'Medication_Given_Description_x':'Medication_Given_Description',\n",
    "                                'FRDPersonnelID_x':'FRDPersonnelID'}, inplace = True) \n",
    "dfMedLeftJoin.columns"
   ]
  },
  {
   "cell_type": "code",
   "execution_count": 38,
   "metadata": {},
   "outputs": [
    {
     "data": {
      "text/plain": [
       "Index(['Dim_Medication_PK', 'PatientId', 'Medication_Given_RXCUI_Code',\n",
       "       'Medication_Given_Description', 'FRDPersonnelID', 'PK'],\n",
       "      dtype='object')"
      ]
     },
     "execution_count": 38,
     "metadata": {},
     "output_type": "execute_result"
    }
   ],
   "source": [
    "# Drop all NaN, _y columns, don't need them anymore\n",
    "dfMedLeftJoin = dfMedLeftJoin.drop(['PatientId_y', 'FRDPersonnelID_y', 'PatientOutcome', 'PatientGender',\n",
    "                                    'DispatchTime', 'FRDPersonnelGender', 'FRDPersonnelStartDate',\n",
    "                                    'Dim_Medication_PK_y', 'Medication_Given_RXCUI_Code_y', \n",
    "                                    'Medication_Given_Description_y', 'i'],axis=1)\n",
    "dfMedLeftJoin.columns"
   ]
  },
  {
   "cell_type": "code",
   "execution_count": 39,
   "metadata": {},
   "outputs": [
    {
     "data": {
      "text/plain": [
       "(4211, 6)"
      ]
     },
     "execution_count": 39,
     "metadata": {},
     "output_type": "execute_result"
    }
   ],
   "source": [
    "dfMedLeftJoin.shape"
   ]
  },
  {
   "cell_type": "code",
   "execution_count": 40,
   "metadata": {},
   "outputs": [
    {
     "name": "stdout",
     "output_type": "stream",
     "text": [
      " \n",
      "Count total NaN at each column in a Medications+Patients dataFrame : \n",
      "\n",
      " Dim_Medication_PK               0\n",
      "PatientId                       0\n",
      "Medication_Given_RXCUI_Code     0\n",
      "Medication_Given_Description    0\n",
      "FRDPersonnelID                  0\n",
      "PK                              0\n",
      "dtype: int64\n"
     ]
    }
   ],
   "source": [
    "print(\" \\nCount total NaN at each column in a Medications+Patients dataFrame : \\n\\n\", dfMedLeftJoin.isnull().sum())"
   ]
  },
  {
   "cell_type": "markdown",
   "metadata": {},
   "source": [
    "## Build lookup reference dataframe from Patients dataframe containing a distinct list of \n",
    "```\n",
    "FRDPersonnelID\n",
    "FRDPersonnelGender\n",
    "FRDPersonnelStartDate\n",
    "```\n",
    "## Then join lookup dataframe luProvider with dfMedLeftJoin on PatientId only"
   ]
  },
  {
   "cell_type": "code",
   "execution_count": 41,
   "metadata": {},
   "outputs": [
    {
     "data": {
      "text/plain": [
       "(1830, 4)"
      ]
     },
     "execution_count": 41,
     "metadata": {},
     "output_type": "execute_result"
    }
   ],
   "source": [
    "# Create Lookup table for Providers\n",
    "luProvider = dfPatients.groupby(['FRDPersonnelID','FRDPersonnelGender', 'FRDPersonnelStartDate']).size().reset_index(name='count')\n",
    "luProvider.shape"
   ]
  },
  {
   "cell_type": "code",
   "execution_count": 42,
   "metadata": {},
   "outputs": [
    {
     "data": {
      "text/html": [
       "<div>\n",
       "<style scoped>\n",
       "    .dataframe tbody tr th:only-of-type {\n",
       "        vertical-align: middle;\n",
       "    }\n",
       "\n",
       "    .dataframe tbody tr th {\n",
       "        vertical-align: top;\n",
       "    }\n",
       "\n",
       "    .dataframe thead th {\n",
       "        text-align: right;\n",
       "    }\n",
       "</style>\n",
       "<table border=\"1\" class=\"dataframe\">\n",
       "  <thead>\n",
       "    <tr style=\"text-align: right;\">\n",
       "      <th></th>\n",
       "      <th>FRDPersonnelID</th>\n",
       "      <th>FRDPersonnelGender</th>\n",
       "      <th>FRDPersonnelStartDate</th>\n",
       "      <th>count</th>\n",
       "    </tr>\n",
       "  </thead>\n",
       "  <tbody>\n",
       "    <tr>\n",
       "      <th>0</th>\n",
       "      <td>00D5C99E-9E01-E211-B5F5-78E7D18CFD3C</td>\n",
       "      <td>Male</td>\n",
       "      <td>2008-04-28</td>\n",
       "      <td>1200</td>\n",
       "    </tr>\n",
       "    <tr>\n",
       "      <th>1</th>\n",
       "      <td>00D6C99E-9E01-E211-B5F5-78E7D18CFD3C</td>\n",
       "      <td>Male</td>\n",
       "      <td>2007-09-17</td>\n",
       "      <td>388</td>\n",
       "    </tr>\n",
       "    <tr>\n",
       "      <th>2</th>\n",
       "      <td>00D7C99E-9E01-E211-B5F5-78E7D18CFD3C</td>\n",
       "      <td>Male</td>\n",
       "      <td>1993-09-20</td>\n",
       "      <td>21</td>\n",
       "    </tr>\n",
       "    <tr>\n",
       "      <th>3</th>\n",
       "      <td>00D8C99E-9E01-E211-B5F5-78E7D18CFD3C</td>\n",
       "      <td>Male</td>\n",
       "      <td>1991-06-03</td>\n",
       "      <td>5</td>\n",
       "    </tr>\n",
       "    <tr>\n",
       "      <th>4</th>\n",
       "      <td>00D9C99E-9E01-E211-B5F5-78E7D18CFD3C</td>\n",
       "      <td>Male</td>\n",
       "      <td>2003-04-19</td>\n",
       "      <td>249</td>\n",
       "    </tr>\n",
       "  </tbody>\n",
       "</table>\n",
       "</div>"
      ],
      "text/plain": [
       "                         FRDPersonnelID FRDPersonnelGender  \\\n",
       "0  00D5C99E-9E01-E211-B5F5-78E7D18CFD3C               Male   \n",
       "1  00D6C99E-9E01-E211-B5F5-78E7D18CFD3C               Male   \n",
       "2  00D7C99E-9E01-E211-B5F5-78E7D18CFD3C               Male   \n",
       "3  00D8C99E-9E01-E211-B5F5-78E7D18CFD3C               Male   \n",
       "4  00D9C99E-9E01-E211-B5F5-78E7D18CFD3C               Male   \n",
       "\n",
       "  FRDPersonnelStartDate  count  \n",
       "0            2008-04-28   1200  \n",
       "1            2007-09-17    388  \n",
       "2            1993-09-20     21  \n",
       "3            1991-06-03      5  \n",
       "4            2003-04-19    249  "
      ]
     },
     "execution_count": 42,
     "metadata": {},
     "output_type": "execute_result"
    }
   ],
   "source": [
    "luProvider.head(5)"
   ]
  },
  {
   "cell_type": "code",
   "execution_count": 43,
   "metadata": {},
   "outputs": [],
   "source": [
    "# Drop count column, not needed\n",
    "luProvider = luProvider.drop(['count'],axis=1)"
   ]
  },
  {
   "cell_type": "markdown",
   "metadata": {},
   "source": [
    "# Join lookup dataframe luProvider with dfMedLeftJoin on PatientId only"
   ]
  },
  {
   "cell_type": "code",
   "execution_count": 44,
   "metadata": {},
   "outputs": [
    {
     "data": {
      "text/plain": [
       "(4208, 8)"
      ]
     },
     "execution_count": 44,
     "metadata": {},
     "output_type": "execute_result"
    }
   ],
   "source": [
    "# Join lookup dataframe luProvider with dfProcLeftJoin on PatientId only\n",
    "dfMedPatOrphans = dfMedLeftJoin.merge(luProvider, \n",
    "                        on=('FRDPersonnelID'))\n",
    "dfMedPatOrphans.shape"
   ]
  },
  {
   "cell_type": "code",
   "execution_count": 45,
   "metadata": {},
   "outputs": [
    {
     "data": {
      "text/html": [
       "<div>\n",
       "<style scoped>\n",
       "    .dataframe tbody tr th:only-of-type {\n",
       "        vertical-align: middle;\n",
       "    }\n",
       "\n",
       "    .dataframe tbody tr th {\n",
       "        vertical-align: top;\n",
       "    }\n",
       "\n",
       "    .dataframe thead th {\n",
       "        text-align: right;\n",
       "    }\n",
       "</style>\n",
       "<table border=\"1\" class=\"dataframe\">\n",
       "  <thead>\n",
       "    <tr style=\"text-align: right;\">\n",
       "      <th></th>\n",
       "      <th>Dim_Medication_PK</th>\n",
       "      <th>PatientId</th>\n",
       "      <th>Medication_Given_RXCUI_Code</th>\n",
       "      <th>Medication_Given_Description</th>\n",
       "      <th>FRDPersonnelID</th>\n",
       "      <th>PK</th>\n",
       "      <th>FRDPersonnelGender</th>\n",
       "      <th>FRDPersonnelStartDate</th>\n",
       "    </tr>\n",
       "  </thead>\n",
       "  <tbody>\n",
       "    <tr>\n",
       "      <th>0</th>\n",
       "      <td>65750</td>\n",
       "      <td>479920</td>\n",
       "      <td>237648.0</td>\n",
       "      <td>Dextrose 10 % (D10)</td>\n",
       "      <td>C387923A-F613-E411-A585-F305C4522FCB</td>\n",
       "      <td>479920_C387923A-F613-E411-A585-F305C4522FCB</td>\n",
       "      <td>Male</td>\n",
       "      <td>2014-03-24</td>\n",
       "    </tr>\n",
       "    <tr>\n",
       "      <th>1</th>\n",
       "      <td>171166</td>\n",
       "      <td>607195</td>\n",
       "      <td>4337.0</td>\n",
       "      <td>Fentanyl Citrate (Sublimaze)</td>\n",
       "      <td>C387923A-F613-E411-A585-F305C4522FCB</td>\n",
       "      <td>607195_C387923A-F613-E411-A585-F305C4522FCB</td>\n",
       "      <td>Male</td>\n",
       "      <td>2014-03-24</td>\n",
       "    </tr>\n",
       "    <tr>\n",
       "      <th>2</th>\n",
       "      <td>330909</td>\n",
       "      <td>625060</td>\n",
       "      <td>296.0</td>\n",
       "      <td>Adenosine (Adenocard)</td>\n",
       "      <td>C387923A-F613-E411-A585-F305C4522FCB</td>\n",
       "      <td>625060_C387923A-F613-E411-A585-F305C4522FCB</td>\n",
       "      <td>Male</td>\n",
       "      <td>2014-03-24</td>\n",
       "    </tr>\n",
       "    <tr>\n",
       "      <th>3</th>\n",
       "      <td>330910</td>\n",
       "      <td>625060</td>\n",
       "      <td>296.0</td>\n",
       "      <td>Adenosine (Adenocard)</td>\n",
       "      <td>C387923A-F613-E411-A585-F305C4522FCB</td>\n",
       "      <td>625060_C387923A-F613-E411-A585-F305C4522FCB</td>\n",
       "      <td>Male</td>\n",
       "      <td>2014-03-24</td>\n",
       "    </tr>\n",
       "    <tr>\n",
       "      <th>4</th>\n",
       "      <td>347351</td>\n",
       "      <td>674487</td>\n",
       "      <td>125464.0</td>\n",
       "      <td>Normal saline</td>\n",
       "      <td>C387923A-F613-E411-A585-F305C4522FCB</td>\n",
       "      <td>674487_C387923A-F613-E411-A585-F305C4522FCB</td>\n",
       "      <td>Male</td>\n",
       "      <td>2014-03-24</td>\n",
       "    </tr>\n",
       "  </tbody>\n",
       "</table>\n",
       "</div>"
      ],
      "text/plain": [
       "   Dim_Medication_PK  PatientId  Medication_Given_RXCUI_Code  \\\n",
       "0              65750     479920                     237648.0   \n",
       "1             171166     607195                       4337.0   \n",
       "2             330909     625060                        296.0   \n",
       "3             330910     625060                        296.0   \n",
       "4             347351     674487                     125464.0   \n",
       "\n",
       "    Medication_Given_Description                        FRDPersonnelID  \\\n",
       "0            Dextrose 10 % (D10)  C387923A-F613-E411-A585-F305C4522FCB   \n",
       "1  Fentanyl Citrate (Sublimaze)   C387923A-F613-E411-A585-F305C4522FCB   \n",
       "2          Adenosine (Adenocard)  C387923A-F613-E411-A585-F305C4522FCB   \n",
       "3          Adenosine (Adenocard)  C387923A-F613-E411-A585-F305C4522FCB   \n",
       "4                  Normal saline  C387923A-F613-E411-A585-F305C4522FCB   \n",
       "\n",
       "                                            PK FRDPersonnelGender  \\\n",
       "0  479920_C387923A-F613-E411-A585-F305C4522FCB               Male   \n",
       "1  607195_C387923A-F613-E411-A585-F305C4522FCB               Male   \n",
       "2  625060_C387923A-F613-E411-A585-F305C4522FCB               Male   \n",
       "3  625060_C387923A-F613-E411-A585-F305C4522FCB               Male   \n",
       "4  674487_C387923A-F613-E411-A585-F305C4522FCB               Male   \n",
       "\n",
       "  FRDPersonnelStartDate  \n",
       "0            2014-03-24  \n",
       "1            2014-03-24  \n",
       "2            2014-03-24  \n",
       "3            2014-03-24  \n",
       "4            2014-03-24  "
      ]
     },
     "execution_count": 45,
     "metadata": {},
     "output_type": "execute_result"
    }
   ],
   "source": [
    "dfMedPatOrphans.head()"
   ]
  },
  {
   "cell_type": "code",
   "execution_count": 46,
   "metadata": {},
   "outputs": [],
   "source": [
    "# The count of dfMedPatOrphans is 11 records difference, so quick analysis to see why\n",
    "# dfMedLeftJoin = 4211, dfPatProcOrphans = 4208, diff 3\n",
    "dfMedPatOrphansAnalysis = dfMedPatOrphans"
   ]
  },
  {
   "cell_type": "code",
   "execution_count": 47,
   "metadata": {},
   "outputs": [],
   "source": [
    "dfMedPatOrphansAnalysis.rename(columns = {'PK':'_PK'}, inplace = True)"
   ]
  },
  {
   "cell_type": "code",
   "execution_count": 48,
   "metadata": {},
   "outputs": [],
   "source": [
    "medPKi = dfMedLeftJoin.set_index('PK')\n",
    "medPatPKi = dfMedPatOrphansAnalysis.set_index('_PK')\n",
    "\n",
    "dfMedPatOrphansAnalysis = dfMedLeftJoin.merge(medPatPKi, \n",
    "                             how = 'left', \n",
    "                             left_on = ('PK'),\n",
    "                             right_on = ('_PK'), \n",
    "                             indicator = 'i').query('i == \"left_only\"')"
   ]
  },
  {
   "cell_type": "code",
   "execution_count": 49,
   "metadata": {},
   "outputs": [
    {
     "data": {
      "text/plain": [
       "(3, 14)"
      ]
     },
     "execution_count": 49,
     "metadata": {},
     "output_type": "execute_result"
    }
   ],
   "source": [
    "dfMedPatOrphansAnalysis.shape"
   ]
  },
  {
   "cell_type": "code",
   "execution_count": 50,
   "metadata": {},
   "outputs": [
    {
     "data": {
      "text/html": [
       "<div>\n",
       "<style scoped>\n",
       "    .dataframe tbody tr th:only-of-type {\n",
       "        vertical-align: middle;\n",
       "    }\n",
       "\n",
       "    .dataframe tbody tr th {\n",
       "        vertical-align: top;\n",
       "    }\n",
       "\n",
       "    .dataframe thead th {\n",
       "        text-align: right;\n",
       "    }\n",
       "</style>\n",
       "<table border=\"1\" class=\"dataframe\">\n",
       "  <thead>\n",
       "    <tr style=\"text-align: right;\">\n",
       "      <th></th>\n",
       "      <th>Dim_Medication_PK_x</th>\n",
       "      <th>PatientId_x</th>\n",
       "      <th>Medication_Given_RXCUI_Code_x</th>\n",
       "      <th>Medication_Given_Description_x</th>\n",
       "      <th>FRDPersonnelID_x</th>\n",
       "      <th>PK</th>\n",
       "      <th>Dim_Medication_PK_y</th>\n",
       "      <th>PatientId_y</th>\n",
       "      <th>Medication_Given_RXCUI_Code_y</th>\n",
       "      <th>Medication_Given_Description_y</th>\n",
       "      <th>FRDPersonnelID_y</th>\n",
       "      <th>FRDPersonnelGender</th>\n",
       "      <th>FRDPersonnelStartDate</th>\n",
       "      <th>i</th>\n",
       "    </tr>\n",
       "  </thead>\n",
       "  <tbody>\n",
       "    <tr>\n",
       "      <th>375</th>\n",
       "      <td>83144</td>\n",
       "      <td>531908</td>\n",
       "      <td>7213.0</td>\n",
       "      <td>Ipratropium Bromide(Atrovent)</td>\n",
       "      <td>6AD7C99E-9E01-E211-B5F5-78E7D18CFD3C</td>\n",
       "      <td>531908_6AD7C99E-9E01-E211-B5F5-78E7D18CFD3C</td>\n",
       "      <td>NaN</td>\n",
       "      <td>NaN</td>\n",
       "      <td>NaN</td>\n",
       "      <td>NaN</td>\n",
       "      <td>NaN</td>\n",
       "      <td>NaN</td>\n",
       "      <td>NaT</td>\n",
       "      <td>left_only</td>\n",
       "    </tr>\n",
       "    <tr>\n",
       "      <th>376</th>\n",
       "      <td>83145</td>\n",
       "      <td>531908</td>\n",
       "      <td>435.0</td>\n",
       "      <td>Albuterol (Ventolin)</td>\n",
       "      <td>6AD7C99E-9E01-E211-B5F5-78E7D18CFD3C</td>\n",
       "      <td>531908_6AD7C99E-9E01-E211-B5F5-78E7D18CFD3C</td>\n",
       "      <td>NaN</td>\n",
       "      <td>NaN</td>\n",
       "      <td>NaN</td>\n",
       "      <td>NaN</td>\n",
       "      <td>NaN</td>\n",
       "      <td>NaN</td>\n",
       "      <td>NaT</td>\n",
       "      <td>left_only</td>\n",
       "    </tr>\n",
       "    <tr>\n",
       "      <th>377</th>\n",
       "      <td>83146</td>\n",
       "      <td>531908</td>\n",
       "      <td>6902.0</td>\n",
       "      <td>Methylprednisolone (Solu-Medrol)</td>\n",
       "      <td>6AD7C99E-9E01-E211-B5F5-78E7D18CFD3C</td>\n",
       "      <td>531908_6AD7C99E-9E01-E211-B5F5-78E7D18CFD3C</td>\n",
       "      <td>NaN</td>\n",
       "      <td>NaN</td>\n",
       "      <td>NaN</td>\n",
       "      <td>NaN</td>\n",
       "      <td>NaN</td>\n",
       "      <td>NaN</td>\n",
       "      <td>NaT</td>\n",
       "      <td>left_only</td>\n",
       "    </tr>\n",
       "  </tbody>\n",
       "</table>\n",
       "</div>"
      ],
      "text/plain": [
       "     Dim_Medication_PK_x  PatientId_x  Medication_Given_RXCUI_Code_x  \\\n",
       "375                83144       531908                         7213.0   \n",
       "376                83145       531908                          435.0   \n",
       "377                83146       531908                         6902.0   \n",
       "\n",
       "        Medication_Given_Description_x                      FRDPersonnelID_x  \\\n",
       "375      Ipratropium Bromide(Atrovent)  6AD7C99E-9E01-E211-B5F5-78E7D18CFD3C   \n",
       "376              Albuterol (Ventolin)   6AD7C99E-9E01-E211-B5F5-78E7D18CFD3C   \n",
       "377  Methylprednisolone (Solu-Medrol)   6AD7C99E-9E01-E211-B5F5-78E7D18CFD3C   \n",
       "\n",
       "                                              PK  Dim_Medication_PK_y  \\\n",
       "375  531908_6AD7C99E-9E01-E211-B5F5-78E7D18CFD3C                  NaN   \n",
       "376  531908_6AD7C99E-9E01-E211-B5F5-78E7D18CFD3C                  NaN   \n",
       "377  531908_6AD7C99E-9E01-E211-B5F5-78E7D18CFD3C                  NaN   \n",
       "\n",
       "     PatientId_y  Medication_Given_RXCUI_Code_y  \\\n",
       "375          NaN                            NaN   \n",
       "376          NaN                            NaN   \n",
       "377          NaN                            NaN   \n",
       "\n",
       "    Medication_Given_Description_y FRDPersonnelID_y FRDPersonnelGender  \\\n",
       "375                            NaN              NaN                NaN   \n",
       "376                            NaN              NaN                NaN   \n",
       "377                            NaN              NaN                NaN   \n",
       "\n",
       "    FRDPersonnelStartDate          i  \n",
       "375                   NaT  left_only  \n",
       "376                   NaT  left_only  \n",
       "377                   NaT  left_only  "
      ]
     },
     "execution_count": 50,
     "metadata": {},
     "output_type": "execute_result"
    }
   ],
   "source": [
    "dfMedPatOrphansAnalysis"
   ]
  },
  {
   "cell_type": "code",
   "execution_count": 51,
   "metadata": {},
   "outputs": [
    {
     "data": {
      "text/html": [
       "<div>\n",
       "<style scoped>\n",
       "    .dataframe tbody tr th:only-of-type {\n",
       "        vertical-align: middle;\n",
       "    }\n",
       "\n",
       "    .dataframe tbody tr th {\n",
       "        vertical-align: top;\n",
       "    }\n",
       "\n",
       "    .dataframe thead th {\n",
       "        text-align: right;\n",
       "    }\n",
       "</style>\n",
       "<table border=\"1\" class=\"dataframe\">\n",
       "  <thead>\n",
       "    <tr style=\"text-align: right;\">\n",
       "      <th></th>\n",
       "      <th>FRDPersonnelID_x</th>\n",
       "      <th>count</th>\n",
       "    </tr>\n",
       "  </thead>\n",
       "  <tbody>\n",
       "    <tr>\n",
       "      <th>0</th>\n",
       "      <td>6AD7C99E-9E01-E211-B5F5-78E7D18CFD3C</td>\n",
       "      <td>3</td>\n",
       "    </tr>\n",
       "  </tbody>\n",
       "</table>\n",
       "</div>"
      ],
      "text/plain": [
       "                       FRDPersonnelID_x  count\n",
       "0  6AD7C99E-9E01-E211-B5F5-78E7D18CFD3C      3"
      ]
     },
     "execution_count": 51,
     "metadata": {},
     "output_type": "execute_result"
    }
   ],
   "source": [
    "# These 8 Provider IDs are not found at all in the Patients dataframe (or the Provider lookup dataframe)\n",
    "dfMedPatOrphansAnalysis.groupby(['FRDPersonnelID_x']).size().reset_index(name='count')"
   ]
  },
  {
   "cell_type": "markdown",
   "metadata": {},
   "source": [
    "# Join dfMedPatOrphans dataframe back with dfPatients to bring back in\n",
    "```\n",
    "PatientOutcome\n",
    "PatientGender\n",
    "```"
   ]
  },
  {
   "cell_type": "code",
   "execution_count": 52,
   "metadata": {},
   "outputs": [
    {
     "data": {
      "text/plain": [
       "Index(['PatientId', 'FRDPersonnelID', 'Shift', 'UnitId', 'FireStation',\n",
       "       'Battalion', 'PatientOutcome', 'PatientGender', 'CrewMemberRoles',\n",
       "       'DispatchTime', 'FRDPersonnelGender', 'FRDPersonnelStartDate'],\n",
       "      dtype='object')"
      ]
     },
     "execution_count": 52,
     "metadata": {},
     "output_type": "execute_result"
    }
   ],
   "source": [
    "# Reminder of dfPatients schema\n",
    "dfPatients.columns"
   ]
  },
  {
   "cell_type": "code",
   "execution_count": 53,
   "metadata": {},
   "outputs": [
    {
     "data": {
      "text/plain": [
       "Index(['Dim_Medication_PK', 'PatientId', 'Medication_Given_RXCUI_Code',\n",
       "       'Medication_Given_Description', 'FRDPersonnelID', '_PK',\n",
       "       'FRDPersonnelGender', 'FRDPersonnelStartDate'],\n",
       "      dtype='object')"
      ]
     },
     "execution_count": 53,
     "metadata": {},
     "output_type": "execute_result"
    }
   ],
   "source": [
    "# Reminder of dfMedPatOrphans schema\n",
    "dfMedPatOrphans.columns"
   ]
  },
  {
   "cell_type": "code",
   "execution_count": 54,
   "metadata": {},
   "outputs": [
    {
     "data": {
      "text/plain": [
       "(189513, 5)"
      ]
     },
     "execution_count": 54,
     "metadata": {},
     "output_type": "execute_result"
    }
   ],
   "source": [
    "luPatients = dfPatients.groupby(['PatientId', 'PatientOutcome', 'PatientGender','DispatchTime']).size().reset_index(name='count')\n",
    "luPatients.shape"
   ]
  },
  {
   "cell_type": "code",
   "execution_count": 55,
   "metadata": {},
   "outputs": [
    {
     "data": {
      "text/plain": [
       "PatientId                  int64\n",
       "PatientOutcome            object\n",
       "PatientGender             object\n",
       "DispatchTime      datetime64[ns]\n",
       "count                      int64\n",
       "dtype: object"
      ]
     },
     "execution_count": 55,
     "metadata": {},
     "output_type": "execute_result"
    }
   ],
   "source": [
    "luPatients.dtypes"
   ]
  },
  {
   "cell_type": "code",
   "execution_count": 56,
   "metadata": {},
   "outputs": [
    {
     "data": {
      "text/html": [
       "<div>\n",
       "<style scoped>\n",
       "    .dataframe tbody tr th:only-of-type {\n",
       "        vertical-align: middle;\n",
       "    }\n",
       "\n",
       "    .dataframe tbody tr th {\n",
       "        vertical-align: top;\n",
       "    }\n",
       "\n",
       "    .dataframe thead th {\n",
       "        text-align: right;\n",
       "    }\n",
       "</style>\n",
       "<table border=\"1\" class=\"dataframe\">\n",
       "  <thead>\n",
       "    <tr style=\"text-align: right;\">\n",
       "      <th></th>\n",
       "      <th>PatientId</th>\n",
       "      <th>PatientOutcome</th>\n",
       "      <th>PatientGender</th>\n",
       "      <th>DispatchTime</th>\n",
       "      <th>count</th>\n",
       "    </tr>\n",
       "  </thead>\n",
       "  <tbody>\n",
       "    <tr>\n",
       "      <th>0</th>\n",
       "      <td>479851</td>\n",
       "      <td>Patient Refusal  (AMA)</td>\n",
       "      <td>Male</td>\n",
       "      <td>2018-01-01 00:20:49</td>\n",
       "      <td>2</td>\n",
       "    </tr>\n",
       "    <tr>\n",
       "      <th>1</th>\n",
       "      <td>479853</td>\n",
       "      <td>Treated &amp; Transported</td>\n",
       "      <td>Male</td>\n",
       "      <td>2018-01-01 00:04:06</td>\n",
       "      <td>2</td>\n",
       "    </tr>\n",
       "    <tr>\n",
       "      <th>2</th>\n",
       "      <td>479862</td>\n",
       "      <td>Treated &amp; Transported</td>\n",
       "      <td>Female</td>\n",
       "      <td>2018-01-01 00:44:31</td>\n",
       "      <td>4</td>\n",
       "    </tr>\n",
       "    <tr>\n",
       "      <th>3</th>\n",
       "      <td>479876</td>\n",
       "      <td>Treated &amp; Transported</td>\n",
       "      <td>Male</td>\n",
       "      <td>2018-01-01 00:42:53</td>\n",
       "      <td>3</td>\n",
       "    </tr>\n",
       "    <tr>\n",
       "      <th>4</th>\n",
       "      <td>479879</td>\n",
       "      <td>Treated &amp; Transported</td>\n",
       "      <td>Female</td>\n",
       "      <td>2018-01-01 01:17:54</td>\n",
       "      <td>2</td>\n",
       "    </tr>\n",
       "  </tbody>\n",
       "</table>\n",
       "</div>"
      ],
      "text/plain": [
       "   PatientId          PatientOutcome PatientGender        DispatchTime  count\n",
       "0     479851  Patient Refusal  (AMA)          Male 2018-01-01 00:20:49      2\n",
       "1     479853  Treated & Transported           Male 2018-01-01 00:04:06      2\n",
       "2     479862  Treated & Transported         Female 2018-01-01 00:44:31      4\n",
       "3     479876  Treated & Transported           Male 2018-01-01 00:42:53      3\n",
       "4     479879  Treated & Transported         Female 2018-01-01 01:17:54      2"
      ]
     },
     "execution_count": 56,
     "metadata": {},
     "output_type": "execute_result"
    }
   ],
   "source": [
    "luPatients.head()"
   ]
  },
  {
   "cell_type": "code",
   "execution_count": 57,
   "metadata": {},
   "outputs": [],
   "source": [
    "# Drop count column, not needed\n",
    "luPatients = luPatients.drop(['count'],axis=1)"
   ]
  },
  {
   "cell_type": "code",
   "execution_count": 58,
   "metadata": {},
   "outputs": [
    {
     "data": {
      "text/plain": [
       "(4182, 11)"
      ]
     },
     "execution_count": 58,
     "metadata": {},
     "output_type": "execute_result"
    }
   ],
   "source": [
    "dfMedPatSub = dfMedPatOrphans.merge(luPatients,on=('PatientId'))\n",
    "dfMedPatSub.shape"
   ]
  },
  {
   "cell_type": "code",
   "execution_count": 59,
   "metadata": {},
   "outputs": [
    {
     "data": {
      "text/html": [
       "<div>\n",
       "<style scoped>\n",
       "    .dataframe tbody tr th:only-of-type {\n",
       "        vertical-align: middle;\n",
       "    }\n",
       "\n",
       "    .dataframe tbody tr th {\n",
       "        vertical-align: top;\n",
       "    }\n",
       "\n",
       "    .dataframe thead th {\n",
       "        text-align: right;\n",
       "    }\n",
       "</style>\n",
       "<table border=\"1\" class=\"dataframe\">\n",
       "  <thead>\n",
       "    <tr style=\"text-align: right;\">\n",
       "      <th></th>\n",
       "      <th>Dim_Medication_PK</th>\n",
       "      <th>PatientId</th>\n",
       "      <th>Medication_Given_RXCUI_Code</th>\n",
       "      <th>Medication_Given_Description</th>\n",
       "      <th>FRDPersonnelID</th>\n",
       "      <th>_PK</th>\n",
       "      <th>FRDPersonnelGender</th>\n",
       "      <th>FRDPersonnelStartDate</th>\n",
       "      <th>PatientOutcome</th>\n",
       "      <th>PatientGender</th>\n",
       "      <th>DispatchTime</th>\n",
       "    </tr>\n",
       "  </thead>\n",
       "  <tbody>\n",
       "    <tr>\n",
       "      <th>0</th>\n",
       "      <td>65750</td>\n",
       "      <td>479920</td>\n",
       "      <td>237648.0</td>\n",
       "      <td>Dextrose 10 % (D10)</td>\n",
       "      <td>C387923A-F613-E411-A585-F305C4522FCB</td>\n",
       "      <td>479920_C387923A-F613-E411-A585-F305C4522FCB</td>\n",
       "      <td>Male</td>\n",
       "      <td>2014-03-24</td>\n",
       "      <td>Treated &amp; Transported</td>\n",
       "      <td>Female</td>\n",
       "      <td>2018-01-01 01:39:54</td>\n",
       "    </tr>\n",
       "    <tr>\n",
       "      <th>1</th>\n",
       "      <td>171166</td>\n",
       "      <td>607195</td>\n",
       "      <td>4337.0</td>\n",
       "      <td>Fentanyl Citrate (Sublimaze)</td>\n",
       "      <td>C387923A-F613-E411-A585-F305C4522FCB</td>\n",
       "      <td>607195_C387923A-F613-E411-A585-F305C4522FCB</td>\n",
       "      <td>Male</td>\n",
       "      <td>2014-03-24</td>\n",
       "      <td>Treated &amp; Transported</td>\n",
       "      <td>Female</td>\n",
       "      <td>2018-05-24 17:54:06</td>\n",
       "    </tr>\n",
       "    <tr>\n",
       "      <th>2</th>\n",
       "      <td>330909</td>\n",
       "      <td>625060</td>\n",
       "      <td>296.0</td>\n",
       "      <td>Adenosine (Adenocard)</td>\n",
       "      <td>C387923A-F613-E411-A585-F305C4522FCB</td>\n",
       "      <td>625060_C387923A-F613-E411-A585-F305C4522FCB</td>\n",
       "      <td>Male</td>\n",
       "      <td>2014-03-24</td>\n",
       "      <td>Treated &amp; Transported</td>\n",
       "      <td>Male</td>\n",
       "      <td>2018-06-13 08:18:44</td>\n",
       "    </tr>\n",
       "    <tr>\n",
       "      <th>3</th>\n",
       "      <td>330910</td>\n",
       "      <td>625060</td>\n",
       "      <td>296.0</td>\n",
       "      <td>Adenosine (Adenocard)</td>\n",
       "      <td>C387923A-F613-E411-A585-F305C4522FCB</td>\n",
       "      <td>625060_C387923A-F613-E411-A585-F305C4522FCB</td>\n",
       "      <td>Male</td>\n",
       "      <td>2014-03-24</td>\n",
       "      <td>Treated &amp; Transported</td>\n",
       "      <td>Male</td>\n",
       "      <td>2018-06-13 08:18:44</td>\n",
       "    </tr>\n",
       "    <tr>\n",
       "      <th>4</th>\n",
       "      <td>347351</td>\n",
       "      <td>674487</td>\n",
       "      <td>125464.0</td>\n",
       "      <td>Normal saline</td>\n",
       "      <td>C387923A-F613-E411-A585-F305C4522FCB</td>\n",
       "      <td>674487_C387923A-F613-E411-A585-F305C4522FCB</td>\n",
       "      <td>Male</td>\n",
       "      <td>2014-03-24</td>\n",
       "      <td>Treated &amp; Transported</td>\n",
       "      <td>Male</td>\n",
       "      <td>2018-08-06 16:45:16</td>\n",
       "    </tr>\n",
       "  </tbody>\n",
       "</table>\n",
       "</div>"
      ],
      "text/plain": [
       "   Dim_Medication_PK  PatientId  Medication_Given_RXCUI_Code  \\\n",
       "0              65750     479920                     237648.0   \n",
       "1             171166     607195                       4337.0   \n",
       "2             330909     625060                        296.0   \n",
       "3             330910     625060                        296.0   \n",
       "4             347351     674487                     125464.0   \n",
       "\n",
       "    Medication_Given_Description                        FRDPersonnelID  \\\n",
       "0            Dextrose 10 % (D10)  C387923A-F613-E411-A585-F305C4522FCB   \n",
       "1  Fentanyl Citrate (Sublimaze)   C387923A-F613-E411-A585-F305C4522FCB   \n",
       "2          Adenosine (Adenocard)  C387923A-F613-E411-A585-F305C4522FCB   \n",
       "3          Adenosine (Adenocard)  C387923A-F613-E411-A585-F305C4522FCB   \n",
       "4                  Normal saline  C387923A-F613-E411-A585-F305C4522FCB   \n",
       "\n",
       "                                           _PK FRDPersonnelGender  \\\n",
       "0  479920_C387923A-F613-E411-A585-F305C4522FCB               Male   \n",
       "1  607195_C387923A-F613-E411-A585-F305C4522FCB               Male   \n",
       "2  625060_C387923A-F613-E411-A585-F305C4522FCB               Male   \n",
       "3  625060_C387923A-F613-E411-A585-F305C4522FCB               Male   \n",
       "4  674487_C387923A-F613-E411-A585-F305C4522FCB               Male   \n",
       "\n",
       "  FRDPersonnelStartDate          PatientOutcome PatientGender  \\\n",
       "0            2014-03-24  Treated & Transported         Female   \n",
       "1            2014-03-24  Treated & Transported         Female   \n",
       "2            2014-03-24  Treated & Transported           Male   \n",
       "3            2014-03-24  Treated & Transported           Male   \n",
       "4            2014-03-24  Treated & Transported           Male   \n",
       "\n",
       "         DispatchTime  \n",
       "0 2018-01-01 01:39:54  \n",
       "1 2018-05-24 17:54:06  \n",
       "2 2018-06-13 08:18:44  \n",
       "3 2018-06-13 08:18:44  \n",
       "4 2018-08-06 16:45:16  "
      ]
     },
     "execution_count": 59,
     "metadata": {},
     "output_type": "execute_result"
    }
   ],
   "source": [
    "dfMedPatSub.head()"
   ]
  },
  {
   "cell_type": "code",
   "execution_count": 60,
   "metadata": {},
   "outputs": [
    {
     "data": {
      "text/plain": [
       "Index(['Dim_Medication_PK', 'PatientId', 'Medication_Given_RXCUI_Code',\n",
       "       'Medication_Given_Description', 'FRDPersonnelID', '_PK',\n",
       "       'FRDPersonnelGender', 'FRDPersonnelStartDate', 'PatientOutcome',\n",
       "       'PatientGender', 'DispatchTime'],\n",
       "      dtype='object')"
      ]
     },
     "execution_count": 60,
     "metadata": {},
     "output_type": "execute_result"
    }
   ],
   "source": [
    "dfMedPatSub.columns"
   ]
  },
  {
   "cell_type": "code",
   "execution_count": 61,
   "metadata": {},
   "outputs": [
    {
     "data": {
      "text/plain": [
       "(' \\nCount total NaN at each column in a Medications dataFrame : \\n\\n',\n",
       " Dim_Medication_PK               0\n",
       " PatientId                       0\n",
       " Medication_Given_RXCUI_Code     0\n",
       " Medication_Given_Description    0\n",
       " FRDPersonnelID                  0\n",
       " _PK                             0\n",
       " FRDPersonnelGender              0\n",
       " FRDPersonnelStartDate           0\n",
       " PatientOutcome                  0\n",
       " PatientGender                   0\n",
       " DispatchTime                    0\n",
       " dtype: int64)"
      ]
     },
     "execution_count": 61,
     "metadata": {},
     "output_type": "execute_result"
    }
   ],
   "source": [
    "(\" \\nCount total NaN at each column in a Medications dataFrame : \\n\\n\", dfMedPatSub.isnull().sum())"
   ]
  },
  {
   "cell_type": "code",
   "execution_count": 62,
   "metadata": {},
   "outputs": [
    {
     "data": {
      "text/plain": [
       "(' \\nCount total NaN at each column in a Medications dataFrame : \\n\\n',\n",
       " PatientId                        0\n",
       " FRDPersonnelID                   0\n",
       " PatientOutcome                   0\n",
       " PatientGender                   32\n",
       " DispatchTime                     0\n",
       " FRDPersonnelGender               0\n",
       " FRDPersonnelStartDate            0\n",
       " Dim_Medication_PK                0\n",
       " Medication_Given_RXCUI_Code      6\n",
       " Medication_Given_Description     6\n",
       " _PK                              0\n",
       " dtype: int64)"
      ]
     },
     "execution_count": 62,
     "metadata": {},
     "output_type": "execute_result"
    }
   ],
   "source": [
    "(\" \\nCount total NaN at each column in a Medications dataFrame : \\n\\n\", dfMedPat.isnull().sum())"
   ]
  },
  {
   "cell_type": "markdown",
   "metadata": {},
   "source": [
    "# Append dfMedPatSub back to dfMedPat and do not reindex"
   ]
  },
  {
   "cell_type": "code",
   "execution_count": 63,
   "metadata": {},
   "outputs": [
    {
     "data": {
      "text/plain": [
       "(62881, 11)"
      ]
     },
     "execution_count": 63,
     "metadata": {},
     "output_type": "execute_result"
    }
   ],
   "source": [
    "dfMedPatAppend = dfMedPat.append(dfMedPatSub, ignore_index=True)\n",
    "dfMedPatAppend.shape"
   ]
  },
  {
   "cell_type": "code",
   "execution_count": 64,
   "metadata": {},
   "outputs": [
    {
     "data": {
      "text/plain": [
       "(' \\nCount total NaN at each column in a Medications dataFrame : \\n\\n',\n",
       " PatientId                        0\n",
       " FRDPersonnelID                   0\n",
       " PatientOutcome                   0\n",
       " PatientGender                   32\n",
       " DispatchTime                     0\n",
       " FRDPersonnelGender               0\n",
       " FRDPersonnelStartDate            0\n",
       " Dim_Medication_PK                0\n",
       " Medication_Given_RXCUI_Code      6\n",
       " Medication_Given_Description     6\n",
       " _PK                              0\n",
       " dtype: int64)"
      ]
     },
     "execution_count": 64,
     "metadata": {},
     "output_type": "execute_result"
    }
   ],
   "source": [
    "(\" \\nCount total NaN at each column in a Medications dataFrame : \\n\\n\", dfMedPatAppend.isnull().sum())"
   ]
  },
  {
   "cell_type": "code",
   "execution_count": 65,
   "metadata": {},
   "outputs": [
    {
     "name": "stdout",
     "output_type": "stream",
     "text": [
      "PatientId :  Numerical\n",
      "FRDPersonnelID :  Categorical\n",
      "PatientOutcome :  Categorical\n",
      "PatientGender :  Categorical\n",
      "DispatchTime :  Date\n",
      "FRDPersonnelGender :  Categorical\n",
      "FRDPersonnelStartDate :  Date\n",
      "Dim_Medication_PK :  Numerical\n",
      "Medication_Given_RXCUI_Code :  Numerical\n",
      "Medication_Given_Description :  Categorical\n",
      "_PK :  Categorical\n"
     ]
    }
   ],
   "source": [
    "print_categories(dfMedPatAppend)"
   ]
  },
  {
   "cell_type": "code",
   "execution_count": 66,
   "metadata": {},
   "outputs": [
    {
     "data": {
      "text/plain": [
       "Treated & Transported                        59537\n",
       "Patient Dead at Scene (EMS CPR Attempted)     1855\n",
       "Patient Refusal  (AMA)                        1343\n",
       "Treated, Transferred Care                      112\n",
       "EMS Assist (Other Agency)                       32\n",
       "Patient Dead at Scene (No EMS CPR)               2\n",
       "Name: PatientOutcome, dtype: int64"
      ]
     },
     "execution_count": 66,
     "metadata": {},
     "output_type": "execute_result"
    }
   ],
   "source": [
    "dfMedPatAppend['PatientOutcome'].value_counts()"
   ]
  },
  {
   "cell_type": "code",
   "execution_count": 67,
   "metadata": {},
   "outputs": [
    {
     "data": {
      "text/plain": [
       "Male                             32536\n",
       "Female                           30289\n",
       "Unknown (Unable to Determine)       24\n",
       "Name: PatientGender, dtype: int64"
      ]
     },
     "execution_count": 67,
     "metadata": {},
     "output_type": "execute_result"
    }
   ],
   "source": [
    "dfMedPatAppend['PatientGender'].value_counts()"
   ]
  },
  {
   "cell_type": "code",
   "execution_count": 68,
   "metadata": {},
   "outputs": [
    {
     "data": {
      "text/plain": [
       "Male      52356\n",
       "Female    10525\n",
       "Name: FRDPersonnelGender, dtype: int64"
      ]
     },
     "execution_count": 68,
     "metadata": {},
     "output_type": "execute_result"
    }
   ],
   "source": [
    "dfMedPatAppend['FRDPersonnelGender'].value_counts()"
   ]
  },
  {
   "cell_type": "code",
   "execution_count": 69,
   "metadata": {},
   "outputs": [
    {
     "data": {
      "text/plain": [
       "Oxygen                                  10707\n",
       "Normal saline                            7552\n",
       "Ondansetron (Zofran)                     6855\n",
       "Fentanyl Citrate (Sublimaze)             6577\n",
       "Epinephrine 0.1 MG/ML (1:10,000)         6189\n",
       "Acetylsalicylic Acid (Aspirin, ASA)      4349\n",
       "Albuterol (Ventolin)                     3837\n",
       "Ipratropium Bromide(Atrovent)            2817\n",
       "Nitroglycerin                            2721\n",
       "Naloxone (Narcan)                        2056\n",
       "Midazolam (Versed)                       1395\n",
       "Dextrose 10 % (D10)                      1187\n",
       "Glucose (Oral)                            999\n",
       "Methylprednisolone (Solu-Medrol)          981\n",
       "Diphenhydramine (Benadryl)                915\n",
       "Dextrose 50 % (D50)                       866\n",
       "Ketamine (Ketalar)                        642\n",
       "Epinephrine 1 MG/ML (1:1,000)             565\n",
       "Adenosine (Adenocard)                     393\n",
       "Atropine (Atropine Sulfate)               313\n",
       "Amiodarone (Cordarone)                    294\n",
       "Glucagon (Glucagen)                       227\n",
       "Magnesium Sulfate (50%)                    91\n",
       "Sodium Bicarbonate (8.4%)                  89\n",
       "Tranexamic Acid (TXA)                      80\n",
       "Lidocaine (2%) (Xylocaine)                 67\n",
       "Morphine (Morphine Sulfate)                38\n",
       "Norepinephrine (Levophed)                  29\n",
       "Calcium Chloride (10%)                     19\n",
       "Tetracaine                                 14\n",
       "Cyanokit (Hydroxocobalamin)                10\n",
       "Sodium Bicarbonate (4.2%) (Infant)          1\n",
       "Name: Medication_Given_Description, dtype: int64"
      ]
     },
     "execution_count": 69,
     "metadata": {},
     "output_type": "execute_result"
    }
   ],
   "source": [
    "dfMedPatAppend['Medication_Given_Description'].value_counts()"
   ]
  },
  {
   "cell_type": "markdown",
   "metadata": {},
   "source": [
    "# Add TenureMonths, which is the count of months working at the time of the dispatch call"
   ]
  },
  {
   "cell_type": "code",
   "execution_count": 70,
   "metadata": {},
   "outputs": [
    {
     "data": {
      "text/plain": [
       "(62881, 12)"
      ]
     },
     "execution_count": 70,
     "metadata": {},
     "output_type": "execute_result"
    }
   ],
   "source": [
    "# Add TenureMonths, which is the count of months working at the time of the dispatch call\n",
    "dfMedPatAppend['TenureMonths'] = ((dfMedPatAppend.loc[:, 'DispatchTime'].dt.date - \\\n",
    "                                     dfMedPatAppend.loc[:, 'FRDPersonnelStartDate'].dt.date) / \\\n",
    "                                    np.timedelta64(1, 'M')).astype(int)\n",
    "dfMedPatAppend.shape\n",
    "# error is just a warning, need to figure out even though using loc"
   ]
  },
  {
   "cell_type": "code",
   "execution_count": 71,
   "metadata": {},
   "outputs": [
    {
     "data": {
      "text/plain": [
       "55     658\n",
       "51     656\n",
       "49     650\n",
       "59     629\n",
       "56     626\n",
       "      ... \n",
       "440      1\n",
       "420      1\n",
       "419      1\n",
       "414      1\n",
       "430      1\n",
       "Name: TenureMonths, Length: 420, dtype: int64"
      ]
     },
     "execution_count": 71,
     "metadata": {},
     "output_type": "execute_result"
    }
   ],
   "source": [
    "dfMedPatAppend['TenureMonths'].value_counts()"
   ]
  },
  {
   "cell_type": "code",
   "execution_count": 72,
   "metadata": {},
   "outputs": [],
   "source": [
    "# First just going to to add a factorized column starting with 1 as opposed to the normal python 0\n",
    "dfMedPatAppend['PatientOutcomeCode'] = pd.factorize(dfMedPatAppend['PatientOutcome'])[0] + 1"
   ]
  },
  {
   "cell_type": "code",
   "execution_count": 73,
   "metadata": {},
   "outputs": [
    {
     "data": {
      "text/plain": [
       "1    59537\n",
       "4     1855\n",
       "3     1343\n",
       "2      112\n",
       "5       32\n",
       "6        2\n",
       "Name: PatientOutcomeCode, dtype: int64"
      ]
     },
     "execution_count": 73,
     "metadata": {},
     "output_type": "execute_result"
    }
   ],
   "source": [
    "dfMedPatAppend['PatientOutcomeCode'].value_counts()"
   ]
  },
  {
   "cell_type": "code",
   "execution_count": 74,
   "metadata": {},
   "outputs": [],
   "source": [
    "dfMedPatAppend['PatientGenderCode'] = pd.factorize(dfMedPatAppend['PatientGender'])[0] + 1"
   ]
  },
  {
   "cell_type": "code",
   "execution_count": 75,
   "metadata": {},
   "outputs": [
    {
     "data": {
      "text/plain": [
       "2    32536\n",
       "1    30289\n",
       "0       32\n",
       "3       24\n",
       "Name: PatientGenderCode, dtype: int64"
      ]
     },
     "execution_count": 75,
     "metadata": {},
     "output_type": "execute_result"
    }
   ],
   "source": [
    "dfMedPatAppend['PatientGenderCode'].value_counts()"
   ]
  },
  {
   "cell_type": "code",
   "execution_count": 76,
   "metadata": {},
   "outputs": [],
   "source": [
    "# Adding \"One Hot Encoding\" method using get_dummies to create a row for each patient gender\n",
    "dumDumPatient = pd.get_dummies(dfMedPatAppend['PatientGender'], prefix='PatientGender',)"
   ]
  },
  {
   "cell_type": "code",
   "execution_count": 77,
   "metadata": {},
   "outputs": [
    {
     "data": {
      "text/html": [
       "<div>\n",
       "<style scoped>\n",
       "    .dataframe tbody tr th:only-of-type {\n",
       "        vertical-align: middle;\n",
       "    }\n",
       "\n",
       "    .dataframe tbody tr th {\n",
       "        vertical-align: top;\n",
       "    }\n",
       "\n",
       "    .dataframe thead th {\n",
       "        text-align: right;\n",
       "    }\n",
       "</style>\n",
       "<table border=\"1\" class=\"dataframe\">\n",
       "  <thead>\n",
       "    <tr style=\"text-align: right;\">\n",
       "      <th></th>\n",
       "      <th>PatientGender_Female</th>\n",
       "      <th>PatientGender_Male</th>\n",
       "      <th>PatientGender_Unknown (Unable to Determine)</th>\n",
       "    </tr>\n",
       "  </thead>\n",
       "  <tbody>\n",
       "    <tr>\n",
       "      <th>0</th>\n",
       "      <td>1</td>\n",
       "      <td>0</td>\n",
       "      <td>0</td>\n",
       "    </tr>\n",
       "    <tr>\n",
       "      <th>1</th>\n",
       "      <td>0</td>\n",
       "      <td>1</td>\n",
       "      <td>0</td>\n",
       "    </tr>\n",
       "    <tr>\n",
       "      <th>2</th>\n",
       "      <td>0</td>\n",
       "      <td>1</td>\n",
       "      <td>0</td>\n",
       "    </tr>\n",
       "    <tr>\n",
       "      <th>3</th>\n",
       "      <td>0</td>\n",
       "      <td>1</td>\n",
       "      <td>0</td>\n",
       "    </tr>\n",
       "    <tr>\n",
       "      <th>4</th>\n",
       "      <td>1</td>\n",
       "      <td>0</td>\n",
       "      <td>0</td>\n",
       "    </tr>\n",
       "  </tbody>\n",
       "</table>\n",
       "</div>"
      ],
      "text/plain": [
       "   PatientGender_Female  PatientGender_Male  \\\n",
       "0                     1                   0   \n",
       "1                     0                   1   \n",
       "2                     0                   1   \n",
       "3                     0                   1   \n",
       "4                     1                   0   \n",
       "\n",
       "   PatientGender_Unknown (Unable to Determine)  \n",
       "0                                            0  \n",
       "1                                            0  \n",
       "2                                            0  \n",
       "3                                            0  \n",
       "4                                            0  "
      ]
     },
     "execution_count": 77,
     "metadata": {},
     "output_type": "execute_result"
    }
   ],
   "source": [
    "dumDumPatient.head()"
   ]
  },
  {
   "cell_type": "code",
   "execution_count": 78,
   "metadata": {},
   "outputs": [
    {
     "data": {
      "text/plain": [
       "PatientGender_Female  PatientGender_Male  PatientGender_Unknown (Unable to Determine)\n",
       "0                     1                   0                                              32536\n",
       "1                     0                   0                                              30289\n",
       "0                     0                   0                                                 32\n",
       "                                          1                                                 24\n",
       "dtype: int64"
      ]
     },
     "execution_count": 78,
     "metadata": {},
     "output_type": "execute_result"
    }
   ],
   "source": [
    "dumDumPatient.value_counts()"
   ]
  },
  {
   "cell_type": "code",
   "execution_count": 79,
   "metadata": {},
   "outputs": [],
   "source": [
    "dfMedPatAppend = pd.concat([dfMedPatAppend, dumDumPatient], axis=1)"
   ]
  },
  {
   "cell_type": "code",
   "execution_count": 80,
   "metadata": {},
   "outputs": [
    {
     "data": {
      "text/html": [
       "<div>\n",
       "<style scoped>\n",
       "    .dataframe tbody tr th:only-of-type {\n",
       "        vertical-align: middle;\n",
       "    }\n",
       "\n",
       "    .dataframe tbody tr th {\n",
       "        vertical-align: top;\n",
       "    }\n",
       "\n",
       "    .dataframe thead th {\n",
       "        text-align: right;\n",
       "    }\n",
       "</style>\n",
       "<table border=\"1\" class=\"dataframe\">\n",
       "  <thead>\n",
       "    <tr style=\"text-align: right;\">\n",
       "      <th></th>\n",
       "      <th>PatientId</th>\n",
       "      <th>FRDPersonnelID</th>\n",
       "      <th>PatientOutcome</th>\n",
       "      <th>PatientGender</th>\n",
       "      <th>DispatchTime</th>\n",
       "      <th>FRDPersonnelGender</th>\n",
       "      <th>FRDPersonnelStartDate</th>\n",
       "      <th>Dim_Medication_PK</th>\n",
       "      <th>Medication_Given_RXCUI_Code</th>\n",
       "      <th>Medication_Given_Description</th>\n",
       "      <th>_PK</th>\n",
       "      <th>TenureMonths</th>\n",
       "      <th>PatientOutcomeCode</th>\n",
       "      <th>PatientGenderCode</th>\n",
       "      <th>PatientGender_Female</th>\n",
       "      <th>PatientGender_Male</th>\n",
       "      <th>PatientGender_Unknown (Unable to Determine)</th>\n",
       "    </tr>\n",
       "  </thead>\n",
       "  <tbody>\n",
       "    <tr>\n",
       "      <th>0</th>\n",
       "      <td>479862</td>\n",
       "      <td>1D18E8FC-EE92-E211-A596-78E7D18C3D20</td>\n",
       "      <td>Treated &amp; Transported</td>\n",
       "      <td>Female</td>\n",
       "      <td>2018-01-01 00:44:31</td>\n",
       "      <td>Female</td>\n",
       "      <td>2012-09-24</td>\n",
       "      <td>65740</td>\n",
       "      <td>7806.0</td>\n",
       "      <td>Oxygen</td>\n",
       "      <td>479862_1D18E8FC-EE92-E211-A596-78E7D18C3D20</td>\n",
       "      <td>63</td>\n",
       "      <td>1</td>\n",
       "      <td>1</td>\n",
       "      <td>1</td>\n",
       "      <td>0</td>\n",
       "      <td>0</td>\n",
       "    </tr>\n",
       "    <tr>\n",
       "      <th>1</th>\n",
       "      <td>479876</td>\n",
       "      <td>35CA45A3-9C25-4E4D-957F-2EA9E40B5974</td>\n",
       "      <td>Treated &amp; Transported</td>\n",
       "      <td>Male</td>\n",
       "      <td>2018-01-01 00:42:53</td>\n",
       "      <td>Male</td>\n",
       "      <td>2016-02-08</td>\n",
       "      <td>65744</td>\n",
       "      <td>26225.0</td>\n",
       "      <td>Ondansetron (Zofran)</td>\n",
       "      <td>479876_35CA45A3-9C25-4E4D-957F-2EA9E40B5974</td>\n",
       "      <td>22</td>\n",
       "      <td>1</td>\n",
       "      <td>2</td>\n",
       "      <td>0</td>\n",
       "      <td>1</td>\n",
       "      <td>0</td>\n",
       "    </tr>\n",
       "    <tr>\n",
       "      <th>2</th>\n",
       "      <td>479916</td>\n",
       "      <td>F73B4EF0-B70C-4960-9B92-8BF196A30B57</td>\n",
       "      <td>Treated &amp; Transported</td>\n",
       "      <td>Male</td>\n",
       "      <td>2018-01-01 01:48:31</td>\n",
       "      <td>Male</td>\n",
       "      <td>2016-02-08</td>\n",
       "      <td>65749</td>\n",
       "      <td>125464.0</td>\n",
       "      <td>Normal saline</td>\n",
       "      <td>479916_F73B4EF0-B70C-4960-9B92-8BF196A30B57</td>\n",
       "      <td>22</td>\n",
       "      <td>1</td>\n",
       "      <td>2</td>\n",
       "      <td>0</td>\n",
       "      <td>1</td>\n",
       "      <td>0</td>\n",
       "    </tr>\n",
       "    <tr>\n",
       "      <th>3</th>\n",
       "      <td>480011</td>\n",
       "      <td>08CC5399-F492-E211-A596-78E7D18C3D20</td>\n",
       "      <td>Treated &amp; Transported</td>\n",
       "      <td>Male</td>\n",
       "      <td>2018-01-01 03:02:53</td>\n",
       "      <td>Male</td>\n",
       "      <td>2012-09-24</td>\n",
       "      <td>65758</td>\n",
       "      <td>125464.0</td>\n",
       "      <td>Normal saline</td>\n",
       "      <td>480011_08CC5399-F492-E211-A596-78E7D18C3D20</td>\n",
       "      <td>63</td>\n",
       "      <td>1</td>\n",
       "      <td>2</td>\n",
       "      <td>0</td>\n",
       "      <td>1</td>\n",
       "      <td>0</td>\n",
       "    </tr>\n",
       "    <tr>\n",
       "      <th>4</th>\n",
       "      <td>480022</td>\n",
       "      <td>E10FD6B2-19A1-468A-825B-7EE0061DBB01</td>\n",
       "      <td>Treated &amp; Transported</td>\n",
       "      <td>Female</td>\n",
       "      <td>2018-01-01 03:04:20</td>\n",
       "      <td>Male</td>\n",
       "      <td>2016-09-19</td>\n",
       "      <td>65759</td>\n",
       "      <td>26225.0</td>\n",
       "      <td>Ondansetron (Zofran)</td>\n",
       "      <td>480022_E10FD6B2-19A1-468A-825B-7EE0061DBB01</td>\n",
       "      <td>15</td>\n",
       "      <td>1</td>\n",
       "      <td>1</td>\n",
       "      <td>1</td>\n",
       "      <td>0</td>\n",
       "      <td>0</td>\n",
       "    </tr>\n",
       "  </tbody>\n",
       "</table>\n",
       "</div>"
      ],
      "text/plain": [
       "   PatientId                        FRDPersonnelID          PatientOutcome  \\\n",
       "0     479862  1D18E8FC-EE92-E211-A596-78E7D18C3D20  Treated & Transported    \n",
       "1     479876  35CA45A3-9C25-4E4D-957F-2EA9E40B5974  Treated & Transported    \n",
       "2     479916  F73B4EF0-B70C-4960-9B92-8BF196A30B57  Treated & Transported    \n",
       "3     480011  08CC5399-F492-E211-A596-78E7D18C3D20  Treated & Transported    \n",
       "4     480022  E10FD6B2-19A1-468A-825B-7EE0061DBB01  Treated & Transported    \n",
       "\n",
       "  PatientGender        DispatchTime FRDPersonnelGender FRDPersonnelStartDate  \\\n",
       "0        Female 2018-01-01 00:44:31             Female            2012-09-24   \n",
       "1          Male 2018-01-01 00:42:53               Male            2016-02-08   \n",
       "2          Male 2018-01-01 01:48:31               Male            2016-02-08   \n",
       "3          Male 2018-01-01 03:02:53               Male            2012-09-24   \n",
       "4        Female 2018-01-01 03:04:20               Male            2016-09-19   \n",
       "\n",
       "   Dim_Medication_PK  Medication_Given_RXCUI_Code  \\\n",
       "0              65740                       7806.0   \n",
       "1              65744                      26225.0   \n",
       "2              65749                     125464.0   \n",
       "3              65758                     125464.0   \n",
       "4              65759                      26225.0   \n",
       "\n",
       "  Medication_Given_Description                                          _PK  \\\n",
       "0                       Oxygen  479862_1D18E8FC-EE92-E211-A596-78E7D18C3D20   \n",
       "1         Ondansetron (Zofran)  479876_35CA45A3-9C25-4E4D-957F-2EA9E40B5974   \n",
       "2                Normal saline  479916_F73B4EF0-B70C-4960-9B92-8BF196A30B57   \n",
       "3                Normal saline  480011_08CC5399-F492-E211-A596-78E7D18C3D20   \n",
       "4         Ondansetron (Zofran)  480022_E10FD6B2-19A1-468A-825B-7EE0061DBB01   \n",
       "\n",
       "   TenureMonths  PatientOutcomeCode  PatientGenderCode  PatientGender_Female  \\\n",
       "0            63                   1                  1                     1   \n",
       "1            22                   1                  2                     0   \n",
       "2            22                   1                  2                     0   \n",
       "3            63                   1                  2                     0   \n",
       "4            15                   1                  1                     1   \n",
       "\n",
       "   PatientGender_Male  PatientGender_Unknown (Unable to Determine)  \n",
       "0                   0                                            0  \n",
       "1                   1                                            0  \n",
       "2                   1                                            0  \n",
       "3                   1                                            0  \n",
       "4                   0                                            0  "
      ]
     },
     "execution_count": 80,
     "metadata": {},
     "output_type": "execute_result"
    }
   ],
   "source": [
    "dfMedPatAppend.head()"
   ]
  },
  {
   "cell_type": "code",
   "execution_count": 81,
   "metadata": {},
   "outputs": [],
   "source": [
    "dfMedPatAppend['ProviderGenderCode'] = pd.factorize(dfMedPatAppend['FRDPersonnelGender'])[0] + 1"
   ]
  },
  {
   "cell_type": "code",
   "execution_count": 82,
   "metadata": {},
   "outputs": [
    {
     "data": {
      "text/plain": [
       "2    52356\n",
       "1    10525\n",
       "Name: ProviderGenderCode, dtype: int64"
      ]
     },
     "execution_count": 82,
     "metadata": {},
     "output_type": "execute_result"
    }
   ],
   "source": [
    "dfMedPatAppend['ProviderGenderCode'].value_counts()"
   ]
  },
  {
   "cell_type": "code",
   "execution_count": 83,
   "metadata": {},
   "outputs": [
    {
     "name": "stdout",
     "output_type": "stream",
     "text": [
      "PatientId :  Numerical\n",
      "FRDPersonnelID :  Categorical\n",
      "PatientOutcome :  Categorical\n",
      "PatientGender :  Categorical\n",
      "DispatchTime :  Date\n",
      "FRDPersonnelGender :  Categorical\n",
      "FRDPersonnelStartDate :  Date\n",
      "Dim_Medication_PK :  Numerical\n",
      "Medication_Given_RXCUI_Code :  Numerical\n",
      "Medication_Given_Description :  Categorical\n",
      "_PK :  Categorical\n",
      "TenureMonths :  Numerical\n",
      "PatientOutcomeCode :  Numerical\n",
      "PatientGenderCode :  Numerical\n",
      "PatientGender_Female :  Numerical\n",
      "PatientGender_Male :  Numerical\n",
      "PatientGender_Unknown (Unable to Determine) :  Numerical\n",
      "ProviderGenderCode :  Numerical\n"
     ]
    }
   ],
   "source": [
    "print_categories(dfMedPatAppend)"
   ]
  },
  {
   "cell_type": "code",
   "execution_count": 84,
   "metadata": {},
   "outputs": [],
   "source": [
    "dfMedPatAppend.to_csv(r'./data/MedicationsPatients-20210225-ems-raw-v04.csv', index = True)"
   ]
  }
 ],
 "metadata": {
  "kernelspec": {
   "display_name": "Python 3",
   "language": "python",
   "name": "python3"
  },
  "language_info": {
   "codemirror_mode": {
    "name": "ipython",
    "version": 3
   },
   "file_extension": ".py",
   "mimetype": "text/x-python",
   "name": "python",
   "nbconvert_exporter": "python",
   "pygments_lexer": "ipython3",
   "version": "3.7.9"
  }
 },
 "nbformat": 4,
 "nbformat_minor": 4
}
