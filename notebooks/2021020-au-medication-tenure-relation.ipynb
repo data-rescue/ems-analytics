{
 "cells": [
  {
   "cell_type": "markdown",
   "id": "forty-construction",
   "metadata": {},
   "source": [
    "### Measuring the correlation between categorical variables Provider Tenure and  Medication Given"
   ]
  },
  {
   "cell_type": "markdown",
   "id": "chubby-lemon",
   "metadata": {},
   "source": [
    "This notebook analyzes and describes relationship that exists( or not) between provider tenure and EMS treatment(Medication Given) to the patient. The script reads the intermediate dataset -- 'MedicationsPatients' preapared by our team based on datasets provided by our project partner.\n",
    "\n",
    "Initially, in this classification situation, catogorical target variable 'Medication_Given' and categorical predicator 'Provider's Tenure'(in months & years), are analyzed and the strength of relationship between them is measured using <B>Chi-square test<B>.\n",
    "    \n",
    "Then the more details analysis of the relationship between provider's tenure and Medication Given is done including various graphical/visual representations"
   ]
  },
  {
   "cell_type": "markdown",
   "id": "iraqi-peripheral",
   "metadata": {},
   "source": [
    "<b>Chi-square Test of Independence:<b>\n",
    "<p>The chi-square test of independence is used to determine whether there is an association between two or more categorical variables. In our case, we would like to test whether the Tenure of the provider has any association with Medication they administered."
   ]
  },
  {
   "cell_type": "markdown",
   "id": "negative-hearts",
   "metadata": {},
   "source": [
    "##### This note book uses Intermediate Datasets -- MedicationsPatients for analytics"
   ]
  },
  {
   "cell_type": "code",
   "execution_count": null,
   "id": "acute-atlantic",
   "metadata": {},
   "outputs": [],
   "source": [
    "# import the libraries needed\n",
    "import pandas as pd\n",
    "import numpy as np\n",
    "import os, time\n",
    "\n",
    "# Used for visualizations\n",
    "import matplotlib.pyplot as plt\n",
    "import seaborn as sns"
   ]
  },
  {
   "cell_type": "code",
   "execution_count": null,
   "id": "political-median",
   "metadata": {},
   "outputs": [],
   "source": [
    "print(os.getcwd())\n",
    "readStart=time.time()\n",
    "\n",
    "## Reading dataset\n",
    "columnsToUse=['PatientId','PatientGender','PatientGenderCode',\n",
    "            'FRDPersonnelID','FRDPersonnelGender','ProviderGenderCode',\n",
    "            'Medication_Given_RXCUI_Code','Medication_Given_Description','TenureMonths']\n",
    "\n",
    "dfMedPatient = pd.read_csv ('../data/02_intermediate/MedicationsPatients-20210225-ems-raw-v04.csv',usecols=columnsToUse)[columnsToUse]\n",
    "\n",
    "# Stop the clock and calculate read time\n",
    "readStop=time.time()\n",
    "readTime=readStop-readStart\n",
    "readMin=np.floor(readTime/60)\n",
    "readSec=np.floor(readTime-(readMin*60))\n",
    "print(\"The file was read in {0:.0f} minutes and {1:.0f} seconds.\".format(readMin,readSec))\n",
    "\n",
    "print(dfMedPatient.shape)"
   ]
  },
  {
   "cell_type": "code",
   "execution_count": null,
   "id": "virgin-colors",
   "metadata": {},
   "outputs": [],
   "source": [
    "# list the columns in the dataframe\n",
    "dfMedPatient.columns"
   ]
  },
  {
   "cell_type": "code",
   "execution_count": null,
   "id": "casual-distinction",
   "metadata": {},
   "outputs": [],
   "source": [
    "#Confirming Given Medication Names\n",
    "##print('Medication Given( Unique ) =\\n '+str(dfMedPatient.Medication_Given_Description.unique()))"
   ]
  },
  {
   "cell_type": "code",
   "execution_count": null,
   "id": "ceramic-occurrence",
   "metadata": {},
   "outputs": [],
   "source": [
    "#Checking Medication Given Description count\n",
    "print('Medication Given Description Count = '+str(dfMedPatient.Medication_Given_Description.nunique()))\n",
    "##dfMedPatient.Medication_Given_Description.nunique()"
   ]
  },
  {
   "cell_type": "code",
   "execution_count": null,
   "id": "physical-australia",
   "metadata": {},
   "outputs": [],
   "source": [
    "dfMedPatient[\"Medication_Given_Description\"].value_counts()"
   ]
  },
  {
   "cell_type": "markdown",
   "id": "different-minutes",
   "metadata": {},
   "source": [
    "creating output to generate an MedicationDescriptionOrder to be used in plots later."
   ]
  },
  {
   "cell_type": "code",
   "execution_count": null,
   "id": "thorough-rebel",
   "metadata": {},
   "outputs": [],
   "source": [
    "#Put the value_counts into a dataframe for later use\n",
    "value_countsMedGiven=dfMedPatient['Medication_Given_Description'].value_counts()\n",
    "df_MedicationGivenDescription=pd.DataFrame(value_countsMedGiven)\n",
    "df_MedicationGivenDescription.reset_index(inplace=True)\n",
    "df_MedicationGivenDescription.columns=[\"Medication_Given_Description\",\"Count\"]\n",
    "df_MedicationGivenDescription.set_index(keys=[\"Medication_Given_Description\"])\n",
    "df_MedicationGivenDescription"
   ]
  },
  {
   "cell_type": "code",
   "execution_count": null,
   "id": "average-trace",
   "metadata": {},
   "outputs": [],
   "source": [
    "#Create the MedicationGivenOrder array from the newly created dataframe\n",
    "MedicationGivenOrder=np.array(df_MedicationGivenDescription[\"Medication_Given_Description\"])\n",
    "MedicationGivenOrder"
   ]
  },
  {
   "cell_type": "code",
   "execution_count": null,
   "id": "earned-arena",
   "metadata": {},
   "outputs": [],
   "source": [
    "#Confirming unique Medication_Given_RXCUI_Code count\n",
    "print('Medication_Given_RXCUI_Code Count = '+str(dfMedPatient.Medication_Given_RXCUI_Code.nunique()))"
   ]
  },
  {
   "cell_type": "markdown",
   "id": "japanese-flood",
   "metadata": {},
   "source": [
    "Removing 'Oxygen' and 'Normal saline' from 'MedicationGivenOrder' array for later sorting /indexing purpose\n"
   ]
  },
  {
   "cell_type": "code",
   "execution_count": null,
   "id": "physical-running",
   "metadata": {},
   "outputs": [],
   "source": [
    "#Removing MedicationGivenOrder 'Oxygen' and 'Normal saline' from 'MedicationGivenOrder' numpy array using 'numpy.delete(array, index)'\n",
    "\n",
    "## index : 0='Oxygen' ; 1 ='Normal saline'\n",
    "index = [0, 1]\n",
    "MedicationGivenOrderWithoutOxySaline= np.delete(MedicationGivenOrder,index)\n",
    "MedicationGivenOrderWithoutOxySaline"
   ]
  },
  {
   "cell_type": "markdown",
   "id": "pacific-hometown",
   "metadata": {},
   "source": [
    "Confirmed that the unique Medication_Given_Description coun matches the Medication_Given_RXCUI_Code count of <b>32.</b>"
   ]
  },
  {
   "cell_type": "code",
   "execution_count": null,
   "id": "current-boring",
   "metadata": {},
   "outputs": [],
   "source": [
    "#Confirming Tenure Months(unique) in sorted order\n",
    "print('Tenure Months list =\\n '+str(dfMedPatient.TenureMonths.sort_values().unique()))\n",
    "##dfMedPatient.TenureMonths.sort_values().unique()"
   ]
  },
  {
   "cell_type": "code",
   "execution_count": null,
   "id": "yellow-listing",
   "metadata": {},
   "outputs": [],
   "source": [
    "#Show number of unique values per column\n",
    "dfMedPatient.nunique(dropna=False)"
   ]
  },
  {
   "cell_type": "code",
   "execution_count": null,
   "id": "sophisticated-grain",
   "metadata": {},
   "outputs": [],
   "source": [
    "#Show number of nulls per column\n",
    "dfMedPatient.isnull().sum()"
   ]
  },
  {
   "cell_type": "markdown",
   "id": "painted-niagara",
   "metadata": {},
   "source": [
    "Dispalying Time Traveler - Providers ( TenureMonths in future (<0 months) )"
   ]
  },
  {
   "cell_type": "code",
   "execution_count": null,
   "id": "becoming-barrel",
   "metadata": {},
   "outputs": [],
   "source": [
    "# showing dfMedPatient for those records that have a negative tenure ( time travellers)\n",
    "dfMedPatient[(dfMedPatient['TenureMonths'] < 0)]"
   ]
  },
  {
   "cell_type": "markdown",
   "id": "nutritional-turtle",
   "metadata": {},
   "source": [
    "### Reduce Data"
   ]
  },
  {
   "cell_type": "markdown",
   "id": "pleasant-military",
   "metadata": {},
   "source": [
    "Going to drop the \"time traveler\" (negative tenure) rows"
   ]
  },
  {
   "cell_type": "code",
   "execution_count": null,
   "id": "challenging-thesaurus",
   "metadata": {},
   "outputs": [],
   "source": [
    "#Remove -ve Tenure for PatientProvider ( Removing time traveller records)\n",
    "dfMedPatientReduced = dfMedPatient[(dfMedPatient['TenureMonths'] >= 0)]\n",
    "\n",
    "#Calculate percentage of dataset remaining\n",
    "ratio=len(dfMedPatientReduced)/len(dfMedPatient)*100\n",
    "print(\"%.4f%% remaining!\" % ratio)"
   ]
  },
  {
   "cell_type": "markdown",
   "id": "verbal-dragon",
   "metadata": {},
   "source": [
    "<B> Now adding a new column 'TenureYears' for further analytics </b>.Here we simply divide the TenureMonths by 12 and drop the remainder.\n",
    "Calculation of Tenure in Months results in value that represents number of completed years of service. (e.g. 35 months -> 2 years, 36 months -> 3 years)"
   ]
  },
  {
   "cell_type": "code",
   "execution_count": null,
   "id": "white-campus",
   "metadata": {},
   "outputs": [],
   "source": [
    "dfMedPatientReduced.loc[:,\"TenureYears\"]=np.floor(dfMedPatientReduced[\"TenureMonths\"]/12)"
   ]
  },
  {
   "cell_type": "code",
   "execution_count": null,
   "id": "minus-louisville",
   "metadata": {},
   "outputs": [],
   "source": [
    "dfMedPatientReduced.head()"
   ]
  },
  {
   "cell_type": "code",
   "execution_count": null,
   "id": "subtle-cisco",
   "metadata": {},
   "outputs": [],
   "source": [
    "# Cross tabulation between  TenureMonths and Medications from 'dfMedPatientReduced' datarframe  -- Keeping this code line from -cross-validation/checking----\n",
    "CrosstabResult=pd.crosstab(index=dfMedPatientReduced['TenureMonths'],columns=dfMedPatientReduced['Medication_Given_Description'])\n",
    "##print(CrosstabResult)"
   ]
  },
  {
   "cell_type": "markdown",
   "id": "australian-investing",
   "metadata": {},
   "source": [
    "Chi-square Test in Python can be done using the chi2_contingency() function from the scipy.stats module."
   ]
  },
  {
   "cell_type": "code",
   "execution_count": null,
   "id": "royal-engineer",
   "metadata": {},
   "outputs": [],
   "source": [
    "# importing the required function\n",
    "from scipy.stats import chi2_contingency"
   ]
  },
  {
   "cell_type": "code",
   "execution_count": null,
   "id": "minor-fruit",
   "metadata": {},
   "outputs": [],
   "source": [
    "# Cross tabulation between TenureMonths and Medications from 'dfMedPatientReduced' datarframe \n",
    "pd.crosstab(dfMedPatientReduced.Medication_Given_Description,dfMedPatientReduced.TenureMonths)"
   ]
  },
  {
   "cell_type": "markdown",
   "id": "pursuant-awareness",
   "metadata": {},
   "source": [
    "Chi-square test finds the probability of a Null hypothesis(H0).\n",
    "\n",
    " - Assumption(H0): The two variables are NOT related to each other\n",
    " - Result of Chi-Sq Test: if the Probability of H0 being True, The two variables are NOT related to each other\n",
    "<p>It can help us to understand whether both the categorical variables are correlated with each other or not."
   ]
  },
  {
   "cell_type": "code",
   "execution_count": null,
   "id": "proprietary-syracuse",
   "metadata": {},
   "outputs": [],
   "source": [
    "## Performing Chi-sq test, to test the association between two variables, using the cross tab sequence\n",
    "##ChiSquareResult=chi2_contingency(pd.crosstab( dfMedPatientReduced.TenureMonths, dfMedPatientReduced.Medication_Given_Description))\n",
    "ChiSquareResult=chi2_contingency(pd.crosstab( dfMedPatientReduced.TenureMonths, dfMedPatientReduced.Medication_Given_RXCUI_Code))"
   ]
  },
  {
   "cell_type": "code",
   "execution_count": null,
   "id": "boolean-aside",
   "metadata": {},
   "outputs": [],
   "source": [
    "# P-Value is the Probability of H0 being True\n",
    "# If P-Value>0.05 then only we Accept the assumption(H0)\n",
    " \n",
    "print('The P-Value of the ChiSquare Test is:', ChiSquareResult[1])"
   ]
  },
  {
   "cell_type": "markdown",
   "id": "minute-blocking",
   "metadata": {},
   "source": [
    "As evident, the <b>p-value is less than 0.05 </b>, hence we <b>reject the Null Hypothesis(H0) that the 'TenureMonths' of the Providers are not associated with the 'Medication_Given'</b>"
   ]
  },
  {
   "cell_type": "markdown",
   "id": "certain-hours",
   "metadata": {},
   "source": [
    "As the P-value came lower than 0.05 in our result, hence H0 will not be accepted, which means the <b>variables 'TenureMonths' and 'Medication_Given' are correlated  to each other</b>. This is based on if two variables are correlated, then the P-value will come very close to zero, which in our case is : <b>4.5781793145246635e-174</b>"
   ]
  },
  {
   "cell_type": "markdown",
   "id": "periodic-engineering",
   "metadata": {},
   "source": [
    "<b>Performing Chi-square test with TenureYears values </b>"
   ]
  },
  {
   "cell_type": "code",
   "execution_count": null,
   "id": "laden-mills",
   "metadata": {},
   "outputs": [],
   "source": [
    "## Performing Chi-sq test with TenureYears, to test the association between two variables, using the cross tab sequence\n",
    "ChiSquareResultforTYears=chi2_contingency(pd.crosstab( dfMedPatientReduced.TenureYears, dfMedPatientReduced.Medication_Given_RXCUI_Code))"
   ]
  },
  {
   "cell_type": "code",
   "execution_count": null,
   "id": "departmental-professor",
   "metadata": {},
   "outputs": [],
   "source": [
    "# P-Value is the Probability of H0 being True\n",
    "# If P-Value>0.05 then only we Accept the assumption(H0)\n",
    " \n",
    "print('The P-Value of the ChiSquare Test( Teure Years) is:', ChiSquareResultforTYears[1])"
   ]
  },
  {
   "cell_type": "markdown",
   "id": "entertaining-warner",
   "metadata": {},
   "source": [
    "<b>Now, further investigating relationship between the provider's TenureMonths and Medications Given follows </b>:........"
   ]
  },
  {
   "cell_type": "markdown",
   "id": "pressed-experiment",
   "metadata": {},
   "source": [
    "Create a pivot-like dataframe using tenure, Medication Code and  Medication Description to get a Medication Given count break down by tenure and medication."
   ]
  },
  {
   "cell_type": "code",
   "execution_count": null,
   "id": "likely-dubai",
   "metadata": {},
   "outputs": [],
   "source": [
    "## Creating pivot dataframe from'dfMedPatientReduced' \n",
    "dfMedPatientReduced_pvt = dfMedPatientReduced.groupby(['TenureMonths','TenureYears',\n",
    "                                    'Medication_Given_RXCUI_Code',\n",
    "                                    'Medication_Given_Description']).size().to_frame(name='Medication_Count').reset_index()\n",
    "\n",
    "dfMedPatientReduced_pvt.shape"
   ]
  },
  {
   "cell_type": "markdown",
   "id": "norman-roman",
   "metadata": {},
   "source": [
    "<b>What are the top 10 Medication Given overall? </b>"
   ]
  },
  {
   "cell_type": "code",
   "execution_count": null,
   "id": "impressive-campbell",
   "metadata": {},
   "outputs": [],
   "source": [
    "dfMedPatientReduced_pvt.groupby(['Medication_Given_RXCUI_Code',\n",
    "                          'Medication_Given_Description'])[['Medication_Count']].sum().nlargest(10,['Medication_Count'])"
   ]
  },
  {
   "cell_type": "markdown",
   "id": "iraqi-repeat",
   "metadata": {},
   "source": [
    "<b> Removing data where Medication_Given_Description = 'Oxygen' and 'Normal saline' from dfMedPatientReduced dataframe, before 2nd round of Chi-Square Test  </b>"
   ]
  },
  {
   "cell_type": "code",
   "execution_count": null,
   "id": "ceramic-segment",
   "metadata": {},
   "outputs": [],
   "source": [
    "#Remove 'oxygen' for 'Medication_Given_Description'\n",
    "dfMedPatientReduced_NoOxy=dfMedPatientReduced.loc[dfMedPatientReduced['Medication_Given_Description']!='Oxygen',:]\n",
    "\n",
    "#size of remaining dataset \n",
    "len(dfMedPatientReduced_NoOxy)"
   ]
  },
  {
   "cell_type": "code",
   "execution_count": null,
   "id": "potential-designation",
   "metadata": {},
   "outputs": [],
   "source": [
    "#Remove 'Normal saline' for 'Medication_Given_Description'\n",
    "dfMedPatientReduced_NoOxySaline=dfMedPatientReduced_NoOxy.loc[dfMedPatientReduced_NoOxy['Medication_Given_Description']!='Normal saline',:]\n",
    "\n",
    "#size of remaining dataset \n",
    "len(dfMedPatientReduced_NoOxySaline)"
   ]
  },
  {
   "cell_type": "code",
   "execution_count": null,
   "id": "proof-renaissance",
   "metadata": {},
   "outputs": [],
   "source": [
    "# Now again creating Cross tabulation between TenureYears(this time) and Medications from 'dfMedPatientReduced_NoOxySaline' datarframe \n",
    "pd.crosstab(dfMedPatientReduced_NoOxySaline.Medication_Given_Description,dfMedPatientReduced_NoOxySaline.TenureYears)"
   ]
  },
  {
   "cell_type": "code",
   "execution_count": null,
   "id": "polish-technician",
   "metadata": {},
   "outputs": [],
   "source": [
    "## Now Performing Chi-sq test, without 'oxygen' and 'Normal saline' and 'TenureYears' to test the association between two variables, using the cross tab sequence\n",
    "ChiSquareResult_NoOxySaline=chi2_contingency(pd.crosstab(dfMedPatientReduced_NoOxySaline.TenureYears, dfMedPatientReduced_NoOxySaline.Medication_Given_Description))"
   ]
  },
  {
   "cell_type": "code",
   "execution_count": null,
   "id": "roman-baltimore",
   "metadata": {},
   "outputs": [],
   "source": [
    "# P-Value is the Probability of H0 being True\n",
    "# If P-Value>0.05 then only we Accept the assumption(H0)\n",
    " \n",
    "print('The P-Value of the ChiSquare Test is:', ChiSquareResult_NoOxySaline[1])"
   ]
  },
  {
   "cell_type": "markdown",
   "id": "unavailable-floating",
   "metadata": {},
   "source": [
    "Again, we see the <b>p-value is less than 0.05 </b>, hence we <b>reject the Null Hypothesis(H0) that the 'TenureMonths' of the Providers are not associated with the 'Medication_Given'</b>"
   ]
  },
  {
   "cell_type": "markdown",
   "id": "lasting-acoustic",
   "metadata": {},
   "source": [
    "<b>Using dfMedPatientReduced_pvt for further analysis</b>"
   ]
  },
  {
   "cell_type": "code",
   "execution_count": null,
   "id": "applicable-balance",
   "metadata": {},
   "outputs": [],
   "source": [
    "## Changing 'Medication_Given_RXCUI_Code' from Numerical(float) to int64 for consistency\n",
    "dfMedPatientReduced_pvt['Medication_Given_RXCUI_Code'] = dfMedPatientReduced_pvt['Medication_Given_RXCUI_Code'].apply(np.int64) "
   ]
  },
  {
   "cell_type": "code",
   "execution_count": null,
   "id": "right-animal",
   "metadata": {},
   "outputs": [],
   "source": [
    "#Create the MedicationOrder array from the dataframe\n",
    "MedicationOrder=np.array(dfMedPatientReduced[\"Medication_Given_Description\"])\n",
    "MedicationOrder"
   ]
  },
  {
   "cell_type": "code",
   "execution_count": null,
   "id": "plain-standing",
   "metadata": {},
   "outputs": [],
   "source": [
    "## Lowest 3 tenure months Medication given, count break down by tenuremonths\n",
    "dfMedPatientReduced_pvt.head(3)"
   ]
  },
  {
   "cell_type": "code",
   "execution_count": null,
   "id": "frequent-reunion",
   "metadata": {},
   "outputs": [],
   "source": [
    "## Top 3 tenuremonths for Medication given, count break down by tenuremonths\n",
    "dfMedPatientReduced_pvt.tail(3)"
   ]
  },
  {
   "cell_type": "markdown",
   "id": "centered-turkish",
   "metadata": {},
   "source": [
    "Generate a hex bin plot using tenure, medication given code, and medication count from dfMedPatient_pvt as the x, y and C values, respectively."
   ]
  },
  {
   "cell_type": "code",
   "execution_count": null,
   "id": "overhead-infection",
   "metadata": {},
   "outputs": [],
   "source": [
    "# in order to get the medication given code to show in the y-axis, need to format the values as strings instead of numbers\n",
    "hb = dfMedPatientReduced_pvt.plot.hexbin(\n",
    "                       x='TenureYears', \n",
    "                       y='Medication_Given_RXCUI_Code', \n",
    "                       C='Medication_Count',\n",
    "                       reduce_C_function=np.sum,\n",
    "                       gridsize=110,\n",
    "                       cmap=\"nipy_spectral\",\n",
    "                       xlabel=\"Provider Tenure(Years)\",\n",
    "                       ylabel=\"Medication Code\",\n",
    "                       title=\"Provider Tenure and Medication Given (dfMedPatientReduced_pvt)\",\n",
    "                       figsize=(16,14)\n",
    "                       ##sharex=False\n",
    ")\n",
    "plt.gca().yaxis.set_major_formatter(plt.matplotlib.ticker.StrMethodFormatter('{x:.0f}'))\n",
    "plt.show"
   ]
  },
  {
   "cell_type": "markdown",
   "id": "chinese-sister",
   "metadata": {},
   "source": [
    "The hex bin plots of dfMedPatientReduced_pvt shows the use of 3 attributes from the dataframe. Using x, y, and C means that the reduce_C_function now comes into play and it is the reason for all of the white showing - it is where there is no sum to show."
   ]
  },
  {
   "cell_type": "markdown",
   "id": "expected-builder",
   "metadata": {},
   "source": [
    "Using dfMedPatientReduced_pvt, generate descriptive statistics about the tenure, medicine count, and medication given description attributes."
   ]
  },
  {
   "cell_type": "code",
   "execution_count": null,
   "id": "convinced-pharmaceutical",
   "metadata": {},
   "outputs": [],
   "source": [
    "dfMedPatientReduced_pvt[['TenureYears','Medication_Count']].describe()"
   ]
  },
  {
   "cell_type": "code",
   "execution_count": null,
   "id": "accepting-campbell",
   "metadata": {},
   "outputs": [],
   "source": [
    "plt.figure(figsize=(18,20))\n",
    "##sns.set_theme(style=\"whitegrid\")\n",
    "sns.violinplot(\"TenureYears\",\"Medication_Given_Description\",\n",
    "               data=dfMedPatientReduced[dfMedPatientReduced.TenureYears < 40], \n",
    "               scale='width',\n",
    "              order=MedicationGivenOrder, cut=0, palette=\"muted\", inner=\"quartile\");\n"
   ]
  },
  {
   "cell_type": "code",
   "execution_count": null,
   "id": "coastal-penny",
   "metadata": {},
   "outputs": [],
   "source": [
    "##plt.title('Medication Given vs Tenure Violinplot')\n",
    "plt.figure(figsize=(18,20))\n",
    "##sns.set_theme(style=\"whitegrid\")\n",
    "sns.violinplot(x=\"TenureYears\",y=\"Medication_Given_Description\",\n",
    "               data=dfMedPatientReduced, hue=\"FRDPersonnelGender\", split=True, dodge =True,\n",
    "               scale='area',\n",
    "              order=MedicationGivenOrder, cut=0, palette=\"muted\", inner=\"quartile\", height=15, aspect=.8);"
   ]
  },
  {
   "cell_type": "markdown",
   "id": "irish-flexibility",
   "metadata": {},
   "source": [
    "<b>Now, Creating violin plot using dataframe without Generally used medicine 'Oxygen' & 'Normal Saline' with high skewness for comparision</b>"
   ]
  },
  {
   "cell_type": "code",
   "execution_count": null,
   "id": "dramatic-handbook",
   "metadata": {},
   "outputs": [],
   "source": [
    "## Using dataframe 'dfMedPatientReduced_NoOxySaline' removing medicine 'Oxygen' & 'Normal Saline' for violin plot \n",
    "\n",
    "plt.figure(figsize=(18,20))\n",
    "##sns.set_theme(style=\"whitegrid\")\n",
    "sns.violinplot(x=\"TenureYears\",y=\"Medication_Given_Description\",\n",
    "               data=dfMedPatientReduced_NoOxySaline, hue=\"FRDPersonnelGender\", split=True, dodge =True,\n",
    "               scale='area',\n",
    "              order=MedicationGivenOrderWithoutOxySaline, cut=0, palette=\"Set2\", inner=\"quartile\", height=15, aspect=.8);"
   ]
  },
  {
   "cell_type": "code",
   "execution_count": null,
   "id": "scenic-relative",
   "metadata": {},
   "outputs": [],
   "source": []
  },
  {
   "cell_type": "markdown",
   "id": "agricultural-backup",
   "metadata": {},
   "source": [
    "Now,looking for more details on the data frame"
   ]
  },
  {
   "cell_type": "code",
   "execution_count": null,
   "id": "sunset-yeast",
   "metadata": {},
   "outputs": [],
   "source": [
    "dfMedPatientReduced_pvt[['Medication_Given_Description']].describe(include='all')"
   ]
  },
  {
   "cell_type": "markdown",
   "id": "neutral-patio",
   "metadata": {},
   "source": [
    "Generate histograms of the tenure and medication given using all records to see frequency from dfMedPatient_pvt"
   ]
  },
  {
   "cell_type": "code",
   "execution_count": null,
   "id": "potential-intent",
   "metadata": {},
   "outputs": [],
   "source": [
    "## histogram of the tenure\n",
    "dfMedPatientReduced.hist(column='TenureYears',bins=40)"
   ]
  },
  {
   "cell_type": "markdown",
   "id": "italian-plaintiff",
   "metadata": {},
   "source": [
    "Finding the distributions for tenure years of the providers(also gender)"
   ]
  },
  {
   "cell_type": "code",
   "execution_count": null,
   "id": "pharmaceutical-instrumentation",
   "metadata": {},
   "outputs": [],
   "source": [
    "sns.violinplot(x=\"TenureYears\",y=\"FRDPersonnelGender\",\n",
    "               data=dfMedPatientReduced,\n",
    "               palette=\"muted\", split=True,\n",
    "               scale='count', cut=0);"
   ]
  },
  {
   "cell_type": "code",
   "execution_count": null,
   "id": "graduate-senegal",
   "metadata": {},
   "outputs": [],
   "source": [
    "##Barplot of the 'Medication_Given_Description' and total given count\n",
    "##df_MedicationGivenDescription.plot.barh(x='Medication_Given_Description', y='Count', color='red', align='center', alpha=0.7, figsize=(20,12))"
   ]
  },
  {
   "cell_type": "markdown",
   "id": "existing-bishop",
   "metadata": {},
   "source": [
    "<b>Reviewing distribution of Medication_Given_Description </b>"
   ]
  },
  {
   "cell_type": "code",
   "execution_count": null,
   "id": "spread-ecology",
   "metadata": {},
   "outputs": [],
   "source": [
    "## bar plot for medication given distribution \n",
    "fig=plt.figure(figsize=(20,14))\n",
    "value_counts=dfMedPatientReduced['Medication_Given_Description'].value_counts()\n",
    "df_GivenMedicationByProviders=pd.DataFrame(value_counts)\n",
    "df_GivenMedicationByProviders.reset_index(inplace=True)\n",
    "df_GivenMedicationByProviders.columns=[\"Medication_Given_Description\",\"Count\"]\n",
    "\n",
    "#Bar chart\n",
    "ax1=plt.subplot()\n",
    "ax1.barh(df_GivenMedicationByProviders['Medication_Given_Description'],width=df_GivenMedicationByProviders['Count'],color='purple')\n",
    "ax1.set_xlabel('# of Given Medications ')\n",
    "ax1.grid(axis='x', alpha=.75, which='both')\n",
    "\n",
    "ax1.set_xticks(minor=True, ticks=[100,200,300,400,600,700,800,900,1100, 1200,1300,1400])\n",
    "ax1.set_xticks(minor=False, ticks=[500,1000,1500,2000,2500,3000,3500,4000,4500,5000,5500, 6000, 6500, 7000, 7500, 8000, 8500, 9000, 9500, 10000, 10500])\n",
    "                                  \n",
    "fig.suptitle('Given Medication Distribution')\n",
    "plt.show()"
   ]
  },
  {
   "cell_type": "code",
   "execution_count": null,
   "id": "religious-mercury",
   "metadata": {},
   "outputs": [],
   "source": [
    "## !! Check, if this is valid !!! histogram of the 'Medication_Count' (by tenure)\n",
    "dfMedPatientReduced_pvt.hist(column='Medication_Count', bins=40)"
   ]
  },
  {
   "cell_type": "markdown",
   "id": "exempt-impact",
   "metadata": {},
   "source": [
    "Please remember there are some \"time traveler\" tenure values (2 records) where the porvider start date is after the dispatch date resulting in a negative value for the calculated provider tenure. Those records were removed for analysis."
   ]
  },
  {
   "cell_type": "markdown",
   "id": "anticipated-driving",
   "metadata": {},
   "source": [
    "<b>What are the top 10 Medication Given overall? </b>"
   ]
  },
  {
   "cell_type": "code",
   "execution_count": null,
   "id": "otherwise-combat",
   "metadata": {},
   "outputs": [],
   "source": [
    "dfMedPatientReduced_pvt.groupby(['Medication_Given_RXCUI_Code',\n",
    "                          'Medication_Given_Description'])[['Medication_Count']].sum().nlargest(10,['Medication_Count'])"
   ]
  },
  {
   "cell_type": "markdown",
   "id": "numerous-martial",
   "metadata": {},
   "source": [
    "Based on the tenure histogram, the highest tenure count  falls between the 0 years (< 1 year) and 20 years value(mean tenure 13.37 years) . Now going to look at provider tenure values less than or equal to 20 years tenure to see what can be found around these \"high\" range."
   ]
  },
  {
   "cell_type": "code",
   "execution_count": null,
   "id": "injured-tracy",
   "metadata": {},
   "outputs": [],
   "source": [
    "# how many records from dfMedPatientReduced_pvt will be used limiting the tenure to 100 months or less\n",
    "dfMedPatientReduced_pvt[(dfMedPatientReduced_pvt['TenureYears'] <= 20)].shape"
   ]
  },
  {
   "cell_type": "markdown",
   "id": "acute-migration",
   "metadata": {},
   "source": [
    "<b>Generate the respective descriptive statistics and histograms. </b>"
   ]
  },
  {
   "cell_type": "code",
   "execution_count": null,
   "id": "critical-theater",
   "metadata": {},
   "outputs": [],
   "source": [
    "dfMedPatientReduced_pvt[(dfMedPatientReduced_pvt['TenureYears'] <= 20)][['TenureYears','TenureMonths','Medication_Count']].describe()"
   ]
  },
  {
   "cell_type": "code",
   "execution_count": null,
   "id": "elect-board",
   "metadata": {},
   "outputs": [],
   "source": [
    "dfMedPatientReduced_pvt[(dfMedPatientReduced_pvt['TenureYears'] <= 20)][['Medication_Given_Description']].describe(include='all')"
   ]
  },
  {
   "cell_type": "code",
   "execution_count": null,
   "id": "departmental-finland",
   "metadata": {},
   "outputs": [],
   "source": [
    "dfMedPatientReduced_pvt[(dfMedPatientReduced_pvt['TenureYears'] <= 20)].hist(column='Medication_Given_RXCUI_Code', bins=40)"
   ]
  },
  {
   "cell_type": "markdown",
   "id": "fundamental-median",
   "metadata": {},
   "source": [
    "A comparison of the medication given histograms for all dfMedPatientReduced_pvt rows and the subset limited to tenure of 20 years or less shows the distribution of medication given is seemingly distributed evenly except for certain medications."
   ]
  },
  {
   "cell_type": "markdown",
   "id": "future-clear",
   "metadata": {},
   "source": [
    "The mean of the tenure values for those providers with 20 years or less, is <b>9.46 </b> years, as seen above earlier."
   ]
  },
  {
   "cell_type": "markdown",
   "id": "comparative-antarctica",
   "metadata": {},
   "source": [
    "<b> What are the top 10 procedures by count for medication given by providers with 20 or less years of tenure? </b>"
   ]
  },
  {
   "cell_type": "code",
   "execution_count": null,
   "id": "unavailable-mason",
   "metadata": {},
   "outputs": [],
   "source": [
    "dfMedPatientReduced_pvt[(dfMedPatientReduced_pvt['TenureYears'] <= 20)].groupby(['Medication_Given_RXCUI_Code',\n",
    "     'Medication_Given_Description'])[['Medication_Count']].sum().nlargest(10,['Medication_Count'])"
   ]
  },
  {
   "cell_type": "code",
   "execution_count": null,
   "id": "orange-tradition",
   "metadata": {},
   "outputs": [],
   "source": [
    "# create a dataframe for for medication given by providers with 20 or less years of tenure for repeated use in analysis\n",
    "dfMedPatientReduced_pvt_lte20Yrs= dfMedPatientReduced_pvt[(dfMedPatientReduced_pvt['TenureYears'] <= 20)]\n",
    "dfMedPatientReduced_pvt_lte20Yrs.shape"
   ]
  },
  {
   "cell_type": "markdown",
   "id": "experimental-destiny",
   "metadata": {},
   "source": [
    "<b>What are the top 10 procedures by count for procedures performed by providers with more than 20 or more years of tenure? </b>"
   ]
  },
  {
   "cell_type": "code",
   "execution_count": null,
   "id": "forward-march",
   "metadata": {},
   "outputs": [],
   "source": [
    "dfMedPatientReduced_pvt[(dfMedPatientReduced_pvt['TenureYears'] > 20)].groupby(['Medication_Given_RXCUI_Code',\n",
    "     'Medication_Given_Description'])[['Medication_Count']].sum().nlargest(10,['Medication_Count'])"
   ]
  },
  {
   "cell_type": "code",
   "execution_count": null,
   "id": "voluntary-thursday",
   "metadata": {},
   "outputs": [],
   "source": [
    "# create a dataframe for medication given by providers with more than 20 years of tenure for repeated use in analysis\n",
    "dfMedPatientReduced_pvt_gt20Yrs= dfMedPatientReduced_pvt[(dfMedPatientReduced_pvt['TenureYears'] > 20)]\n",
    "dfMedPatientReduced_pvt_gt20Yrs.shape"
   ]
  },
  {
   "cell_type": "markdown",
   "id": "cutting-rouge",
   "metadata": {},
   "source": [
    "<b>Generate the respective descriptive statistics and histograms for medication given by providers with more than 20 years of tenure. </b>"
   ]
  },
  {
   "cell_type": "code",
   "execution_count": null,
   "id": "marine-attribute",
   "metadata": {},
   "outputs": [],
   "source": [
    "# describe for dataframe dfMedPatientReduced_pvt_gt20Yrs\n",
    "dfMedPatientReduced_pvt_gt20Yrs[['TenureYears','TenureMonths','Medication_Count']].describe()"
   ]
  },
  {
   "cell_type": "code",
   "execution_count": null,
   "id": "motivated-trigger",
   "metadata": {},
   "outputs": [],
   "source": [
    "# describe for 'Medication_Given_Description'\n",
    "dfMedPatientReduced_pvt_gt20Yrs[['Medication_Given_Description']].describe(include='all')"
   ]
  },
  {
   "cell_type": "markdown",
   "id": "departmental-virgin",
   "metadata": {},
   "source": [
    "The medication histogram for providers with 20 years or less and greater than 20 years continues to display a similar distribution pattern of medication given (even scales are less)"
   ]
  },
  {
   "cell_type": "code",
   "execution_count": null,
   "id": "identified-editing",
   "metadata": {},
   "outputs": [],
   "source": [
    "# show procedure histograms from all tenures, tenure < = 20 years and  tenure > 300 years side by side\n",
    "\n",
    "fig=plt.figure(figsize=(12,4))\n",
    "\n",
    "# all tenure\n",
    "ax1=plt.subplot(121)\n",
    "ax1.hist(x=dfMedPatientReduced_pvt['Medication_Given_RXCUI_Code'],bins= 40, alpha = 0.5)\n",
    "ax1.set_xlabel('Medication Given Code')\n",
    "ax1.set_ylabel('Medication Count')\n",
    "ax1.set_title('Medication Given by All Providers')\n",
    "ax1.ticklabel_format(style='plain')\n",
    "ax1.grid()\n",
    "plt.xticks(rotation=45)\n",
    "\n",
    "# lte >=20 years tenure\n",
    "ax2=plt.subplot(122)\n",
    "ax2.hist(x=dfMedPatientReduced_pvt_lte20Yrs['Medication_Given_RXCUI_Code'], bins=40, color='red')\n",
    "ax2.set_xlabel('Medication Given Code')\n",
    "ax2.set_ylabel('Medication Count')\n",
    "ax2.set_title('Medication Given by Providers with less than 20 years tenure')\n",
    "ax2.ticklabel_format(style='plain')\n",
    "ax2.grid()\n",
    "plt.xticks(rotation=45)\n",
    "\n",
    "# show the first 2 plots\n",
    "plt.show()\n",
    "\n",
    "fig=plt.figure(figsize=(12,4))\n",
    "\n",
    "# gt > 30 years tenure\n",
    "ax1=plt.subplot(121)\n",
    "ax1.hist(x=dfMedPatientReduced_pvt_gt20Yrs['Medication_Given_RXCUI_Code'], bins=40, color='purple')\n",
    "ax1.set_xlabel('Medication Given Code')\n",
    "ax1.set_ylabel('Medication Count')\n",
    "ax1.set_title('Medication Given by Providers with more than 20 years tenure')\n",
    "ax1.ticklabel_format(style='plain')\n",
    "ax1.grid()\n",
    "plt.xticks(rotation=45)\n",
    "\n",
    "# show all the plots\n",
    "plt.show()\n"
   ]
  },
  {
   "cell_type": "markdown",
   "id": "stylish-congress",
   "metadata": {},
   "source": [
    "Now showing the histograms as overlays so thie comparision can be seen  on the same scale"
   ]
  },
  {
   "cell_type": "code",
   "execution_count": null,
   "id": "former-alignment",
   "metadata": {},
   "outputs": [],
   "source": [
    "## overlays histograms \n",
    "fig=plt.figure(figsize=(16,8))\n",
    "\n",
    "ax1=plt.subplot(121)\n",
    "ax1.hist(x=dfMedPatientReduced_pvt['Medication_Given_RXCUI_Code'],bins= 40, alpha = 0.5, label='all tenures')\n",
    "ax1.hist(x=dfMedPatientReduced_pvt_lte20Yrs['Medication_Given_RXCUI_Code'], bins=40, color='red', label='<= 20 years')\n",
    "ax1.hist(x=dfMedPatientReduced_pvt_gt20Yrs['Medication_Given_RXCUI_Code'], bins=40, color='purple', label='> 20 years')\n",
    "ax1.set_xlabel('Medication Given Code')\n",
    "ax1.set_ylabel('Medication Count')\n",
    "ax1.set_title('Medication Given by Providers')\n",
    "ax1.ticklabel_format(style='plain')\n",
    "ax1.grid()\n",
    "plt.xticks(rotation=45)\n",
    "plt.legend(loc='upper right')\n",
    "plt.show()\n"
   ]
  },
  {
   "cell_type": "markdown",
   "id": "narrative-missouri",
   "metadata": {},
   "source": [
    "<b>Now looking for the following medications which has adminstered by providers with specific tenures </b>\n",
    "  (Medication Name    Code     Group)\n",
    " - Glucagon (Glucagen)- 4832 - Diabetic\n",
    " - Magnesium Sulfate (50%) - 6585 - Severe Asthma/COPD\n",
    " - Tranexamic Acid (TXA) - 10691 - Trauma\n",
    " - Lidocaine (2%) (Xylocaine) - 6387 - Pain\n",
    " - Morphine (Morphine Sulfate) - 7052 - Pain\n",
    " - Norepinephrine (Levophed) - 328853 - Hypotension\n",
    " - Calcium Chloride (10%) - 1901 - Cardiac\n",
    "- Tetracaine - 91189 - Eye Pain due to trauma\n",
    " - Cyanokit (Hydroxocobalamin) - 5514 - Poisoning\n",
    "\n"
   ]
  },
  {
   "cell_type": "code",
   "execution_count": null,
   "id": "blind-generator",
   "metadata": {},
   "outputs": [],
   "source": [
    "dfMedPatientReduced_Filtered = dfMedPatientReduced[dfMedPatientReduced.Medication_Given_Description.isin([\"Glucagon (Glucagen)\",\"Magnesium Sulfate (50%)\", \"Tranexamic Acid (TXA)\", \"Lidocaine (2%) (Xylocaine)\",\"Morphine (Morphine Sulfate)\", \"Norepinephrine (Levophed)\",\"Calcium Chloride (10%)\", \"Tetracaine\",\"Cyanokit (Hydroxocobalamin)\"])]\n",
    "dfMedPatientReduced_Filtered.head()\n"
   ]
  },
  {
   "cell_type": "code",
   "execution_count": null,
   "id": "useful-degree",
   "metadata": {},
   "outputs": [],
   "source": [
    "dfMedPatientReduced_Filtered.size"
   ]
  },
  {
   "cell_type": "code",
   "execution_count": null,
   "id": "fitted-translation",
   "metadata": {},
   "outputs": [],
   "source": []
  },
  {
   "cell_type": "code",
   "execution_count": null,
   "id": "elegant-hazard",
   "metadata": {},
   "outputs": [],
   "source": []
  },
  {
   "cell_type": "markdown",
   "id": "accepting-membership",
   "metadata": {},
   "source": [
    "### Findings\n",
    "Question: Is there a relationship between category(name) of medication given and the provider tenure?\n",
    "Answer: There seems to be NO significant indicators of a relationship or anomaly associated with provider tenure and the medication given."
   ]
  },
  {
   "cell_type": "markdown",
   "id": "precious-conflict",
   "metadata": {},
   "source": [
    "<b>Conclusions / Observations </b>\n",
    " - The distribution of medication given is nominally similar across all tenures (by year), with some slight variation.\n",
    " - The distribution of tenures (by year) is nominally similar across all medication given, with with some slight variation.\n",
    " - These distributions are consistent with the distributions of their underlying factors.\n",
    "\n"
   ]
  },
  {
   "cell_type": "code",
   "execution_count": null,
   "id": "spoken-nursing",
   "metadata": {},
   "outputs": [],
   "source": []
  },
  {
   "cell_type": "code",
   "execution_count": null,
   "id": "intended-sterling",
   "metadata": {},
   "outputs": [],
   "source": []
  }
 ],
 "metadata": {
  "kernelspec": {
   "display_name": "Python 3",
   "language": "python",
   "name": "python3"
  },
  "language_info": {
   "codemirror_mode": {
    "name": "ipython",
    "version": 3
   },
   "file_extension": ".py",
   "mimetype": "text/x-python",
   "name": "python",
   "nbconvert_exporter": "python",
   "pygments_lexer": "ipython3",
   "version": "3.8.6"
  }
 },
 "nbformat": 4,
 "nbformat_minor": 5
}
