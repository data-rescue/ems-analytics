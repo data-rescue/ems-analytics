{
 "cells": [
  {
   "cell_type": "markdown",
   "metadata": {},
   "source": [
    "# Descriptive Statistics for Common Datasets\n",
    "This script can be run on each of the datasets. Dataset-specific scripts will be written separately.\n",
    "This script counts and removes duplicate rows, calculates the number of unique values per column, calculates the number/percent of nulls per column, and counts number of rows with the same set of null column(s).\n",
    "\n",
    "_Author: Jared Gauntt_"
   ]
  },
  {
   "cell_type": "markdown",
   "metadata": {},
   "source": [
    "## Prepare for Analysis\n"
   ]
  },
  {
   "cell_type": "markdown",
   "metadata": {},
   "source": [
    "### Set Parameters"
   ]
  },
  {
   "cell_type": "code",
   "execution_count": 1,
   "metadata": {},
   "outputs": [],
   "source": [
    "localFolder='../data/01_raw/' #If run from Git Hub project folder structure, script must be in \"notebooks\" folder\n",
    "fileName='20210214-ems-raw-v03.xlsx'\n",
    "sheetName='Patients'\n",
    "removeDuplicates=True"
   ]
  },
  {
   "cell_type": "markdown",
   "metadata": {},
   "source": [
    "### Import Libraries"
   ]
  },
  {
   "cell_type": "code",
   "execution_count": 2,
   "metadata": {},
   "outputs": [],
   "source": [
    "import pandas as pd\n",
    "pd.set_option('display.max_colwidth', None)"
   ]
  },
  {
   "cell_type": "markdown",
   "metadata": {},
   "source": [
    "### Import From Excel Spreadsheet"
   ]
  },
  {
   "cell_type": "code",
   "execution_count": 3,
   "metadata": {},
   "outputs": [
    {
     "name": "stderr",
     "output_type": "stream",
     "text": [
      "<ipython-input-3-7f037ac497b1>:2: FutureWarning: Your version of xlrd is 1.2.0. In xlrd >= 2.0, only the xls format is supported. As a result, the openpyxl engine will be used if it is installed and the engine argument is not specified. Install openpyxl instead.\n",
      "  df=pd.read_excel(localFolder+fileName,sheet_name=sheetName)\n"
     ]
    },
    {
     "name": "stdout",
     "output_type": "stream",
     "text": [
      "Patients\n",
      "Number of Rows = 545060\n",
      "Number of Columns = 12\n"
     ]
    },
    {
     "data": {
      "text/plain": [
       "PatientId                         int64\n",
       "FRDPersonnelID                   object\n",
       "Shift                            object\n",
       "UnitId                           object\n",
       "FireStation                       int64\n",
       "Battalion                         int64\n",
       "PatientOutcome                   object\n",
       "PatientGender                    object\n",
       "CrewMemberRoles                  object\n",
       "DispatchTime             datetime64[ns]\n",
       "FRDPersonnelGender               object\n",
       "FRDPersonnelStartDate    datetime64[ns]\n",
       "dtype: object"
      ]
     },
     "execution_count": 3,
     "metadata": {},
     "output_type": "execute_result"
    }
   ],
   "source": [
    "#Import single tab \n",
    "df=pd.read_excel(localFolder+fileName,sheet_name=sheetName)\n",
    "\n",
    "#Print (1) number of rows/columns and (2) column names/types for quick confirmation of successful import\n",
    "numOriginalRows=len(df)\n",
    "numCols=len(df.columns)\n",
    "print(sheetName)\n",
    "print('Number of Rows = '+str(numOriginalRows))\n",
    "print('Number of Columns = '+str(numCols))\n",
    "df.dtypes"
   ]
  },
  {
   "cell_type": "markdown",
   "metadata": {},
   "source": [
    "## Numeric Analysis"
   ]
  },
  {
   "cell_type": "markdown",
   "metadata": {},
   "source": [
    "### Duplicate Rows\n",
    "Duplicate rows will likely need to be removed during data conditioning."
   ]
  },
  {
   "cell_type": "code",
   "execution_count": 4,
   "metadata": {},
   "outputs": [
    {
     "name": "stdout",
     "output_type": "stream",
     "text": [
      "Number of Duplicate Rows =\n",
      "9\n",
      "Percentage of Rows that are Duplicates = \n",
      "0.0017\n"
     ]
    }
   ],
   "source": [
    "#Determine which rows are duplicates (True=duplicate, False=first instance of row)\n",
    "duplicateRowIdentifier=df.duplicated()\n",
    "\n",
    "#Calculate number of duplicate rows\n",
    "numDuplicateRows=len(duplicateRowIdentifier[duplicateRowIdentifier==True])\n",
    "numUniqueRows=numOriginalRows-numDuplicateRows\n",
    "\n",
    "#Calculate percentage of rows that are duplicates\n",
    "percentDuplicateRows=round(numDuplicateRows/len(df)*100,4)\n",
    "\n",
    "#Print results\n",
    "print('Number of Duplicate Rows =')\n",
    "print(numDuplicateRows)\n",
    "print('Percentage of Rows that are Duplicates = ')\n",
    "print(percentDuplicateRows)"
   ]
  },
  {
   "cell_type": "markdown",
   "metadata": {},
   "source": [
    "Duplicate rows will be removed before conducting the remaining analysis in this script."
   ]
  },
  {
   "cell_type": "code",
   "execution_count": 5,
   "metadata": {},
   "outputs": [
    {
     "name": "stdout",
     "output_type": "stream",
     "text": [
      "Duplicates Removed\n",
      "Expected Number of Rows = 545051\n",
      "Updated Data Frame Shape =\n",
      "(545051, 12)\n"
     ]
    }
   ],
   "source": [
    "if removeDuplicates:\n",
    "    #Reduce to the rows that were not flagged as duplicates\n",
    "    df=df.loc[duplicateRowIdentifier==False,:]\n",
    "    print('Duplicates Removed')\n",
    "    print('Expected Number of Rows = '+str(numUniqueRows))\n",
    "    print('Updated Data Frame Shape =')\n",
    "    print(df.shape)\n",
    "else:\n",
    "    print('Duplicate rows NOT Removed')"
   ]
  },
  {
   "cell_type": "markdown",
   "metadata": {},
   "source": [
    "### Unique Values Per Column\n",
    "This is a simple calculation of the number of unique values per individual column."
   ]
  },
  {
   "cell_type": "code",
   "execution_count": 6,
   "metadata": {},
   "outputs": [
    {
     "name": "stdout",
     "output_type": "stream",
     "text": [
      "PatientId                247577\n",
      "FRDPersonnelID             1839\n",
      "Shift                         3\n",
      "UnitId                      168\n",
      "FireStation                  38\n",
      "Battalion                     7\n",
      "PatientOutcome               13\n",
      "PatientGender                 4\n",
      "CrewMemberRoles             204\n",
      "DispatchTime             244163\n",
      "FRDPersonnelGender            3\n",
      "FRDPersonnelStartDate       408\n",
      "Name: Number of Unique Values, dtype: int64\n"
     ]
    }
   ],
   "source": [
    "#Calculate the number of unique values per columns (NULL counts as a value)\n",
    "dsNumUnique=df.nunique(dropna=False)\n",
    "dsNumUnique.name='Number of Unique Values'\n",
    "print(dsNumUnique)"
   ]
  },
  {
   "cell_type": "markdown",
   "metadata": {},
   "source": [
    "### Null Values Per Column\n",
    "This is a simple calculation of the number/percentage of null values per individual column."
   ]
  },
  {
   "cell_type": "code",
   "execution_count": 7,
   "metadata": {},
   "outputs": [
    {
     "name": "stdout",
     "output_type": "stream",
     "text": [
      "PatientId                     0\n",
      "FRDPersonnelID                1\n",
      "Shift                         0\n",
      "UnitId                        0\n",
      "FireStation                   0\n",
      "Battalion                     0\n",
      "PatientOutcome                2\n",
      "PatientGender            131084\n",
      "CrewMemberRoles               0\n",
      "DispatchTime               2269\n",
      "FRDPersonnelGender         1253\n",
      "FRDPersonnelStartDate      1253\n",
      "Name: Number Rows With Nulls, dtype: int64\n"
     ]
    }
   ],
   "source": [
    "#Calculate the number of null values per columns\n",
    "dsNumNull=df.isnull().sum()\n",
    "dsNumNull.name='Number Rows With Nulls'\n",
    "print(dsNumNull)"
   ]
  },
  {
   "cell_type": "code",
   "execution_count": 8,
   "metadata": {},
   "outputs": [
    {
     "name": "stdout",
     "output_type": "stream",
     "text": [
      "PatientId                 0.00\n",
      "FRDPersonnelID            0.00\n",
      "Shift                     0.00\n",
      "UnitId                    0.00\n",
      "FireStation               0.00\n",
      "Battalion                 0.00\n",
      "PatientOutcome            0.00\n",
      "PatientGender            24.05\n",
      "CrewMemberRoles           0.00\n",
      "DispatchTime              0.42\n",
      "FRDPersonnelGender        0.23\n",
      "FRDPersonnelStartDate     0.23\n",
      "Name: Percent Rows With Nulls, dtype: float64\n"
     ]
    }
   ],
   "source": [
    "#Calculate the percentage of null values per columns\n",
    "dsPercentNull=(dsNumNull/len(df)*100).round(2)\n",
    "dsPercentNull.name='Percent Rows With Nulls'\n",
    "print(dsPercentNull)"
   ]
  },
  {
   "cell_type": "code",
   "execution_count": 9,
   "metadata": {},
   "outputs": [],
   "source": [
    "#Merge data series (by column) together\n",
    "dfPerCol=pd.DataFrame()\n",
    "dfPerCol[dsNumUnique.name]=dsNumUnique\n",
    "dfPerCol[dsNumNull.name]=dsNumNull\n",
    "dfPerCol[dsPercentNull.name]=dsPercentNull"
   ]
  },
  {
   "cell_type": "markdown",
   "metadata": {},
   "source": [
    "### Null Values Per Row\n",
    "This section determines which columns have a null value per each row, resulting in a data series matching the number of unique rows in the dataset. The series values are tuples of column names. The resulting table shows the unique tuples of column names with their corresponding row count. Once the data subsets for the project questions are determined, this will help inform the completeness of those data subsets."
   ]
  },
  {
   "cell_type": "code",
   "execution_count": 10,
   "metadata": {},
   "outputs": [
    {
     "data": {
      "text/html": [
       "<div>\n",
       "<style scoped>\n",
       "    .dataframe tbody tr th:only-of-type {\n",
       "        vertical-align: middle;\n",
       "    }\n",
       "\n",
       "    .dataframe tbody tr th {\n",
       "        vertical-align: top;\n",
       "    }\n",
       "\n",
       "    .dataframe thead th {\n",
       "        text-align: right;\n",
       "    }\n",
       "</style>\n",
       "<table border=\"1\" class=\"dataframe\">\n",
       "  <thead>\n",
       "    <tr style=\"text-align: right;\">\n",
       "      <th></th>\n",
       "      <th>Columns With Null</th>\n",
       "      <th>Number of Rows</th>\n",
       "      <th>Percent of Rows</th>\n",
       "    </tr>\n",
       "  </thead>\n",
       "  <tbody>\n",
       "    <tr>\n",
       "      <th>0</th>\n",
       "      <td>()</td>\n",
       "      <td>411339</td>\n",
       "      <td>75.47</td>\n",
       "    </tr>\n",
       "    <tr>\n",
       "      <th>1</th>\n",
       "      <td>(PatientGender,)</td>\n",
       "      <td>130197</td>\n",
       "      <td>23.89</td>\n",
       "    </tr>\n",
       "    <tr>\n",
       "      <th>2</th>\n",
       "      <td>(DispatchTime,)</td>\n",
       "      <td>1613</td>\n",
       "      <td>0.30</td>\n",
       "    </tr>\n",
       "    <tr>\n",
       "      <th>3</th>\n",
       "      <td>(FRDPersonnelGender, FRDPersonnelStartDate)</td>\n",
       "      <td>1007</td>\n",
       "      <td>0.18</td>\n",
       "    </tr>\n",
       "    <tr>\n",
       "      <th>4</th>\n",
       "      <td>(DispatchTime, PatientGender)</td>\n",
       "      <td>647</td>\n",
       "      <td>0.12</td>\n",
       "    </tr>\n",
       "    <tr>\n",
       "      <th>5</th>\n",
       "      <td>(FRDPersonnelGender, FRDPersonnelStartDate, PatientGender)</td>\n",
       "      <td>236</td>\n",
       "      <td>0.04</td>\n",
       "    </tr>\n",
       "    <tr>\n",
       "      <th>6</th>\n",
       "      <td>(DispatchTime, FRDPersonnelGender, FRDPersonnelStartDate)</td>\n",
       "      <td>7</td>\n",
       "      <td>0.00</td>\n",
       "    </tr>\n",
       "    <tr>\n",
       "      <th>7</th>\n",
       "      <td>(DispatchTime, FRDPersonnelGender, FRDPersonnelStartDate, PatientGender)</td>\n",
       "      <td>2</td>\n",
       "      <td>0.00</td>\n",
       "    </tr>\n",
       "    <tr>\n",
       "      <th>8</th>\n",
       "      <td>(PatientGender, PatientOutcome)</td>\n",
       "      <td>2</td>\n",
       "      <td>0.00</td>\n",
       "    </tr>\n",
       "    <tr>\n",
       "      <th>9</th>\n",
       "      <td>(FRDPersonnelGender, FRDPersonnelID, FRDPersonnelStartDate)</td>\n",
       "      <td>1</td>\n",
       "      <td>0.00</td>\n",
       "    </tr>\n",
       "  </tbody>\n",
       "</table>\n",
       "</div>"
      ],
      "text/plain": [
       "                                                          Columns With Null  \\\n",
       "0                                                                        ()   \n",
       "1                                                          (PatientGender,)   \n",
       "2                                                           (DispatchTime,)   \n",
       "3                               (FRDPersonnelGender, FRDPersonnelStartDate)   \n",
       "4                                             (DispatchTime, PatientGender)   \n",
       "5                (FRDPersonnelGender, FRDPersonnelStartDate, PatientGender)   \n",
       "6                 (DispatchTime, FRDPersonnelGender, FRDPersonnelStartDate)   \n",
       "7  (DispatchTime, FRDPersonnelGender, FRDPersonnelStartDate, PatientGender)   \n",
       "8                                           (PatientGender, PatientOutcome)   \n",
       "9               (FRDPersonnelGender, FRDPersonnelID, FRDPersonnelStartDate)   \n",
       "\n",
       "   Number of Rows  Percent of Rows  \n",
       "0          411339            75.47  \n",
       "1          130197            23.89  \n",
       "2            1613             0.30  \n",
       "3            1007             0.18  \n",
       "4             647             0.12  \n",
       "5             236             0.04  \n",
       "6               7             0.00  \n",
       "7               2             0.00  \n",
       "8               2             0.00  \n",
       "9               1             0.00  "
      ]
     },
     "execution_count": 10,
     "metadata": {},
     "output_type": "execute_result"
    }
   ],
   "source": [
    "#For a single row, determine which columns have null values\n",
    "def NullsPerRow(dsRow):  \n",
    "    columnsNull=list(dsRow[dsRow.isnull()].index)\n",
    "    columnsNull.sort()\n",
    "    columnsNull=tuple(columnsNull) #used tuple since lists can't be used by pandas unique()\n",
    "    return(columnsNull)\n",
    "dsNulls=df.apply(NullsPerRow,axis=1)\n",
    "\n",
    "#Create data frame for counting \n",
    "dfNulls=pd.DataFrame(dsNulls.unique(),columns=['Columns With Null'])\n",
    "dfNulls['Number of Rows']=0\n",
    "\n",
    "#Count the number of rows per each tuple of null columns\n",
    "for index in dfNulls.index:\n",
    "    dfNulls.loc[index,'Number of Rows']=len(dsNulls[dsNulls==dfNulls.loc[index,'Columns With Null']])\n",
    "dfNulls.sort_values(by='Number of Rows',ascending=False,inplace=True)\n",
    "dfNulls.reset_index(drop=True,inplace=True)\n",
    "\n",
    "#Add a column for percent of rows\n",
    "dfNulls['Percent of Rows']=(dfNulls['Number of Rows']/dfNulls['Number of Rows'].sum()*100).round(2)\n",
    "dfNulls"
   ]
  },
  {
   "cell_type": "markdown",
   "metadata": {},
   "source": [
    "## Visualizations"
   ]
  },
  {
   "cell_type": "code",
   "execution_count": 11,
   "metadata": {},
   "outputs": [
    {
     "name": "stdout",
     "output_type": "stream",
     "text": [
      "Patients Dataset\n",
      "\n",
      "Original Number of Rows = 545060\n",
      "Duplicate Number of Rows = 9\n",
      "Percent Duplicate Rows = 0.0017\n",
      "\n",
      "Duplicate rows removed prior to remaining analysis\n",
      "Unique Number of Rows = 545051\n",
      "\n"
     ]
    }
   ],
   "source": [
    "print(sheetName+' Dataset\\n')\n",
    "print('Original Number of Rows = '+str(numOriginalRows))\n",
    "print('Duplicate Number of Rows = '+str(numDuplicateRows))\n",
    "print('Percent Duplicate Rows = '+str(percentDuplicateRows)+'\\n')\n",
    "if removeDuplicates:\n",
    "    print('Duplicate rows removed prior to remaining analysis')\n",
    "    print('Unique Number of Rows = '+str(numUniqueRows)+'\\n')\n",
    "else:\n",
    "    print('Duplicate Rows NOT Removed')"
   ]
  },
  {
   "cell_type": "code",
   "execution_count": 12,
   "metadata": {},
   "outputs": [
    {
     "data": {
      "text/html": [
       "<div>\n",
       "<style scoped>\n",
       "    .dataframe tbody tr th:only-of-type {\n",
       "        vertical-align: middle;\n",
       "    }\n",
       "\n",
       "    .dataframe tbody tr th {\n",
       "        vertical-align: top;\n",
       "    }\n",
       "\n",
       "    .dataframe thead th {\n",
       "        text-align: right;\n",
       "    }\n",
       "</style>\n",
       "<table border=\"1\" class=\"dataframe\">\n",
       "  <thead>\n",
       "    <tr style=\"text-align: right;\">\n",
       "      <th></th>\n",
       "      <th>Number of Unique Values</th>\n",
       "      <th>Number Rows With Nulls</th>\n",
       "      <th>Percent Rows With Nulls</th>\n",
       "    </tr>\n",
       "  </thead>\n",
       "  <tbody>\n",
       "    <tr>\n",
       "      <th>PatientId</th>\n",
       "      <td>247577</td>\n",
       "      <td>0</td>\n",
       "      <td>0.00</td>\n",
       "    </tr>\n",
       "    <tr>\n",
       "      <th>FRDPersonnelID</th>\n",
       "      <td>1839</td>\n",
       "      <td>1</td>\n",
       "      <td>0.00</td>\n",
       "    </tr>\n",
       "    <tr>\n",
       "      <th>Shift</th>\n",
       "      <td>3</td>\n",
       "      <td>0</td>\n",
       "      <td>0.00</td>\n",
       "    </tr>\n",
       "    <tr>\n",
       "      <th>UnitId</th>\n",
       "      <td>168</td>\n",
       "      <td>0</td>\n",
       "      <td>0.00</td>\n",
       "    </tr>\n",
       "    <tr>\n",
       "      <th>FireStation</th>\n",
       "      <td>38</td>\n",
       "      <td>0</td>\n",
       "      <td>0.00</td>\n",
       "    </tr>\n",
       "    <tr>\n",
       "      <th>Battalion</th>\n",
       "      <td>7</td>\n",
       "      <td>0</td>\n",
       "      <td>0.00</td>\n",
       "    </tr>\n",
       "    <tr>\n",
       "      <th>PatientOutcome</th>\n",
       "      <td>13</td>\n",
       "      <td>2</td>\n",
       "      <td>0.00</td>\n",
       "    </tr>\n",
       "    <tr>\n",
       "      <th>PatientGender</th>\n",
       "      <td>4</td>\n",
       "      <td>131084</td>\n",
       "      <td>24.05</td>\n",
       "    </tr>\n",
       "    <tr>\n",
       "      <th>CrewMemberRoles</th>\n",
       "      <td>204</td>\n",
       "      <td>0</td>\n",
       "      <td>0.00</td>\n",
       "    </tr>\n",
       "    <tr>\n",
       "      <th>DispatchTime</th>\n",
       "      <td>244163</td>\n",
       "      <td>2269</td>\n",
       "      <td>0.42</td>\n",
       "    </tr>\n",
       "    <tr>\n",
       "      <th>FRDPersonnelGender</th>\n",
       "      <td>3</td>\n",
       "      <td>1253</td>\n",
       "      <td>0.23</td>\n",
       "    </tr>\n",
       "    <tr>\n",
       "      <th>FRDPersonnelStartDate</th>\n",
       "      <td>408</td>\n",
       "      <td>1253</td>\n",
       "      <td>0.23</td>\n",
       "    </tr>\n",
       "  </tbody>\n",
       "</table>\n",
       "</div>"
      ],
      "text/plain": [
       "                       Number of Unique Values  Number Rows With Nulls  \\\n",
       "PatientId                               247577                       0   \n",
       "FRDPersonnelID                            1839                       1   \n",
       "Shift                                        3                       0   \n",
       "UnitId                                     168                       0   \n",
       "FireStation                                 38                       0   \n",
       "Battalion                                    7                       0   \n",
       "PatientOutcome                              13                       2   \n",
       "PatientGender                                4                  131084   \n",
       "CrewMemberRoles                            204                       0   \n",
       "DispatchTime                            244163                    2269   \n",
       "FRDPersonnelGender                           3                    1253   \n",
       "FRDPersonnelStartDate                      408                    1253   \n",
       "\n",
       "                       Percent Rows With Nulls  \n",
       "PatientId                                 0.00  \n",
       "FRDPersonnelID                            0.00  \n",
       "Shift                                     0.00  \n",
       "UnitId                                    0.00  \n",
       "FireStation                               0.00  \n",
       "Battalion                                 0.00  \n",
       "PatientOutcome                            0.00  \n",
       "PatientGender                            24.05  \n",
       "CrewMemberRoles                           0.00  \n",
       "DispatchTime                              0.42  \n",
       "FRDPersonnelGender                        0.23  \n",
       "FRDPersonnelStartDate                     0.23  "
      ]
     },
     "execution_count": 12,
     "metadata": {},
     "output_type": "execute_result"
    }
   ],
   "source": [
    "dfPerCol"
   ]
  },
  {
   "cell_type": "markdown",
   "metadata": {},
   "source": [
    "\"Columns With Null\" shows that for a single row, these columns had null values. If we find that one of our data subsets (for answering specific questions) has the same columns as one of these tuples with a high count, there might be a problem with too many nulls."
   ]
  },
  {
   "cell_type": "code",
   "execution_count": 13,
   "metadata": {},
   "outputs": [
    {
     "data": {
      "text/html": [
       "<div>\n",
       "<style scoped>\n",
       "    .dataframe tbody tr th:only-of-type {\n",
       "        vertical-align: middle;\n",
       "    }\n",
       "\n",
       "    .dataframe tbody tr th {\n",
       "        vertical-align: top;\n",
       "    }\n",
       "\n",
       "    .dataframe thead th {\n",
       "        text-align: right;\n",
       "    }\n",
       "</style>\n",
       "<table border=\"1\" class=\"dataframe\">\n",
       "  <thead>\n",
       "    <tr style=\"text-align: right;\">\n",
       "      <th></th>\n",
       "      <th>Columns With Null</th>\n",
       "      <th>Number of Rows</th>\n",
       "      <th>Percent of Rows</th>\n",
       "    </tr>\n",
       "  </thead>\n",
       "  <tbody>\n",
       "    <tr>\n",
       "      <th>0</th>\n",
       "      <td>()</td>\n",
       "      <td>411339</td>\n",
       "      <td>75.47</td>\n",
       "    </tr>\n",
       "    <tr>\n",
       "      <th>1</th>\n",
       "      <td>(PatientGender,)</td>\n",
       "      <td>130197</td>\n",
       "      <td>23.89</td>\n",
       "    </tr>\n",
       "    <tr>\n",
       "      <th>2</th>\n",
       "      <td>(DispatchTime,)</td>\n",
       "      <td>1613</td>\n",
       "      <td>0.30</td>\n",
       "    </tr>\n",
       "    <tr>\n",
       "      <th>3</th>\n",
       "      <td>(FRDPersonnelGender, FRDPersonnelStartDate)</td>\n",
       "      <td>1007</td>\n",
       "      <td>0.18</td>\n",
       "    </tr>\n",
       "    <tr>\n",
       "      <th>4</th>\n",
       "      <td>(DispatchTime, PatientGender)</td>\n",
       "      <td>647</td>\n",
       "      <td>0.12</td>\n",
       "    </tr>\n",
       "    <tr>\n",
       "      <th>5</th>\n",
       "      <td>(FRDPersonnelGender, FRDPersonnelStartDate, PatientGender)</td>\n",
       "      <td>236</td>\n",
       "      <td>0.04</td>\n",
       "    </tr>\n",
       "    <tr>\n",
       "      <th>6</th>\n",
       "      <td>(DispatchTime, FRDPersonnelGender, FRDPersonnelStartDate)</td>\n",
       "      <td>7</td>\n",
       "      <td>0.00</td>\n",
       "    </tr>\n",
       "    <tr>\n",
       "      <th>7</th>\n",
       "      <td>(DispatchTime, FRDPersonnelGender, FRDPersonnelStartDate, PatientGender)</td>\n",
       "      <td>2</td>\n",
       "      <td>0.00</td>\n",
       "    </tr>\n",
       "    <tr>\n",
       "      <th>8</th>\n",
       "      <td>(PatientGender, PatientOutcome)</td>\n",
       "      <td>2</td>\n",
       "      <td>0.00</td>\n",
       "    </tr>\n",
       "    <tr>\n",
       "      <th>9</th>\n",
       "      <td>(FRDPersonnelGender, FRDPersonnelID, FRDPersonnelStartDate)</td>\n",
       "      <td>1</td>\n",
       "      <td>0.00</td>\n",
       "    </tr>\n",
       "  </tbody>\n",
       "</table>\n",
       "</div>"
      ],
      "text/plain": [
       "                                                          Columns With Null  \\\n",
       "0                                                                        ()   \n",
       "1                                                          (PatientGender,)   \n",
       "2                                                           (DispatchTime,)   \n",
       "3                               (FRDPersonnelGender, FRDPersonnelStartDate)   \n",
       "4                                             (DispatchTime, PatientGender)   \n",
       "5                (FRDPersonnelGender, FRDPersonnelStartDate, PatientGender)   \n",
       "6                 (DispatchTime, FRDPersonnelGender, FRDPersonnelStartDate)   \n",
       "7  (DispatchTime, FRDPersonnelGender, FRDPersonnelStartDate, PatientGender)   \n",
       "8                                           (PatientGender, PatientOutcome)   \n",
       "9               (FRDPersonnelGender, FRDPersonnelID, FRDPersonnelStartDate)   \n",
       "\n",
       "   Number of Rows  Percent of Rows  \n",
       "0          411339            75.47  \n",
       "1          130197            23.89  \n",
       "2            1613             0.30  \n",
       "3            1007             0.18  \n",
       "4             647             0.12  \n",
       "5             236             0.04  \n",
       "6               7             0.00  \n",
       "7               2             0.00  \n",
       "8               2             0.00  \n",
       "9               1             0.00  "
      ]
     },
     "execution_count": 13,
     "metadata": {},
     "output_type": "execute_result"
    }
   ],
   "source": [
    "dfNulls"
   ]
  }
 ],
 "metadata": {
  "kernelspec": {
   "display_name": "Python 3",
   "language": "python",
   "name": "python3"
  },
  "language_info": {
   "codemirror_mode": {
    "name": "ipython",
    "version": 3
   },
   "file_extension": ".py",
   "mimetype": "text/x-python",
   "name": "python",
   "nbconvert_exporter": "python",
   "pygments_lexer": "ipython3",
   "version": "3.8.6"
  }
 },
 "nbformat": 4,
 "nbformat_minor": 4
}
