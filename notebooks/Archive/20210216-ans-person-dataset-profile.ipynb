{
 "cells": [
  {
   "cell_type": "code",
   "execution_count": 1,
   "id": "alert-thomson",
   "metadata": {},
   "outputs": [],
   "source": [
    "import numpy as np\n",
    "\n",
    "import pandas as pd\n",
    "from pandas import Series, DataFrame\n",
    "pd.set_option(\"display.max_rows\", 60)\n",
    "pd.set_option(\"precision\", 5)\n",
    "\n",
    "from pandas_profiling import ProfileReport\n",
    "\n",
    "import matplotlib.pyplot as plt\n",
    "from pylab import rcParams\n",
    "\n",
    "import seaborn as sb\n",
    "sb.set_style('whitegrid')\n",
    "\n",
    "from src.d01_data.ingest import ProjectIngest\n",
    "\n",
    "%matplotlib inline\n",
    "rcParams['figure.figsize'] = 15,10"
   ]
  },
  {
   "cell_type": "code",
   "execution_count": 2,
   "id": "animated-university",
   "metadata": {},
   "outputs": [
    {
     "name": "stdout",
     "output_type": "stream",
     "text": [
      "20210214-ems-raw-v03.xlsx file already exist in your local 01_raw folder\n"
     ]
    }
   ],
   "source": [
    "ingest = ProjectIngest('01_raw','20210214-ems-raw-v03.xlsx')\n",
    "ingest.local_download_gen()"
   ]
  },
  {
   "cell_type": "code",
   "execution_count": 3,
   "id": "constant-pleasure",
   "metadata": {},
   "outputs": [
    {
     "name": "stdout",
     "output_type": "stream",
     "text": [
      "<class 'pandas.core.frame.DataFrame'>\n",
      "RangeIndex: 545060 entries, 0 to 545059\n",
      "Data columns (total 12 columns):\n",
      " #   Column                 Non-Null Count   Dtype         \n",
      "---  ------                 --------------   -----         \n",
      " 0   PatientId              545060 non-null  int64         \n",
      " 1   FRDPersonnelID         545059 non-null  object        \n",
      " 2   Shift                  545060 non-null  object        \n",
      " 3   UnitId                 545060 non-null  object        \n",
      " 4   FireStation            545060 non-null  int64         \n",
      " 5   Battalion              545060 non-null  int64         \n",
      " 6   PatientOutcome         545058 non-null  object        \n",
      " 7   PatientGender          413976 non-null  object        \n",
      " 8   CrewMemberRoles        545060 non-null  object        \n",
      " 9   DispatchTime           542791 non-null  datetime64[ns]\n",
      " 10  FRDPersonnelGender     543800 non-null  object        \n",
      " 11  FRDPersonnelStartDate  543800 non-null  datetime64[ns]\n",
      "dtypes: datetime64[ns](2), int64(3), object(7)\n",
      "memory usage: 49.9+ MB\n"
     ]
    }
   ],
   "source": [
    "df_xls = pd.read_excel(io = '../data/01_raw/20210214-ems-raw-v03.xlsx', sheet_name='Patients')\n",
    "df_xls.info()"
   ]
  },
  {
   "cell_type": "markdown",
   "id": "restricted-proportion",
   "metadata": {},
   "source": [
    "### Missing Values\n",
    "The script below outlines the actual number of missing values per Series."
   ]
  },
  {
   "cell_type": "code",
   "execution_count": 4,
   "id": "usual-yield",
   "metadata": {},
   "outputs": [
    {
     "data": {
      "text/plain": [
       "PatientId                     0\n",
       "FRDPersonnelID                1\n",
       "Shift                         0\n",
       "UnitId                        0\n",
       "FireStation                   0\n",
       "Battalion                     0\n",
       "PatientOutcome                2\n",
       "PatientGender            131084\n",
       "CrewMemberRoles               0\n",
       "DispatchTime               2269\n",
       "FRDPersonnelGender         1260\n",
       "FRDPersonnelStartDate      1260\n",
       "dtype: int64"
      ]
     },
     "execution_count": 4,
     "metadata": {},
     "output_type": "execute_result"
    }
   ],
   "source": [
    "df_xls.isnull().sum(axis=0)"
   ]
  },
  {
   "cell_type": "markdown",
   "id": "distinguished-washington",
   "metadata": {},
   "source": [
    "## Pandas Profiling Report\n",
    "\n",
    "The script below will generate the pandas profiling report and store it in the '06_reporting' reporting folder inside the data dairectory."
   ]
  },
  {
   "cell_type": "code",
   "execution_count": 5,
   "id": "automotive-queensland",
   "metadata": {},
   "outputs": [
    {
     "data": {
      "application/vnd.jupyter.widget-view+json": {
       "model_id": "c5c50a99fd3040e58b39a22672256317",
       "version_major": 2,
       "version_minor": 0
      },
      "text/plain": [
       "Summarize dataset:   0%|          | 0/25 [00:00<?, ?it/s]"
      ]
     },
     "metadata": {},
     "output_type": "display_data"
    },
    {
     "name": "stderr",
     "output_type": "stream",
     "text": [
      "D:\\00-DevEnv\\anaconda3\\envs\\emspe\\lib\\site-packages\\scipy\\stats\\stats.py:4594: RuntimeWarning: overflow encountered in longlong_scalars\n",
      "  (2 * xtie * ytie) / m + x0 * y0 / (9 * m * (size - 2)))\n"
     ]
    },
    {
     "data": {
      "application/vnd.jupyter.widget-view+json": {
       "model_id": "c4052d53cc2a4beda40d766f3412e4c6",
       "version_major": 2,
       "version_minor": 0
      },
      "text/plain": [
       "Generate report structure:   0%|          | 0/1 [00:00<?, ?it/s]"
      ]
     },
     "metadata": {},
     "output_type": "display_data"
    },
    {
     "data": {
      "application/vnd.jupyter.widget-view+json": {
       "model_id": "356f42bb483e4820828d5cebc51d6eb5",
       "version_major": 2,
       "version_minor": 0
      },
      "text/plain": [
       "Render HTML:   0%|          | 0/1 [00:00<?, ?it/s]"
      ]
     },
     "metadata": {},
     "output_type": "display_data"
    },
    {
     "data": {
      "application/vnd.jupyter.widget-view+json": {
       "model_id": "f38fa4ee09c0435895a81bb3bdc31611",
       "version_major": 2,
       "version_minor": 0
      },
      "text/plain": [
       "Export report to file:   0%|          | 0/1 [00:00<?, ?it/s]"
      ]
     },
     "metadata": {},
     "output_type": "display_data"
    }
   ],
   "source": [
    "profile = ProfileReport(df_xls, title='Person Data Frame Profiling Report 1', explorative=True)\n",
    "\n",
    "## Ucomment the profile variable call out to generate report on Jupyter Labs and/or Jupyter Notebooks\n",
    "# profile\n",
    "\n",
    "## Uncomment the script below to drop the html report in your project reporting folder\n",
    "profile.to_file('../data/06_reporting/20210224_person_dea_report.html')"
   ]
  },
  {
   "cell_type": "code",
   "execution_count": 6,
   "id": "trained-dynamics",
   "metadata": {},
   "outputs": [],
   "source": [
    "ProjectIngest('06_reporting','20210224_person_dea_report.html').remote_upload()"
   ]
  },
  {
   "cell_type": "code",
   "execution_count": 9,
   "id": "inner-progress",
   "metadata": {},
   "outputs": [
    {
     "data": {
      "text/plain": [
       "['06_reporting/20210213-admin-06-reporting-test.txt',\n",
       " '06_reporting/20210224_person_dea_report.html']"
      ]
     },
     "execution_count": 9,
     "metadata": {},
     "output_type": "execute_result"
    }
   ],
   "source": [
    "ProjectIngest('06_reporting','20210224_person_dea_report.html').remote_object_list()"
   ]
  },
  {
   "cell_type": "code",
   "execution_count": null,
   "id": "driven-persian",
   "metadata": {},
   "outputs": [],
   "source": []
  }
 ],
 "metadata": {
  "kernelspec": {
   "display_name": "Python 3",
   "language": "python",
   "name": "python3"
  },
  "language_info": {
   "codemirror_mode": {
    "name": "ipython",
    "version": 3
   },
   "file_extension": ".py",
   "mimetype": "text/x-python",
   "name": "python",
   "nbconvert_exporter": "python",
   "pygments_lexer": "ipython3",
   "version": "3.8.8"
  }
 },
 "nbformat": 4,
 "nbformat_minor": 5
}
