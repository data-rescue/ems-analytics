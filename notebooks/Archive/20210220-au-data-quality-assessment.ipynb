{
 "cells": [
  {
   "cell_type": "markdown",
   "metadata": {},
   "source": [
    "## Data Quality Assessment for FCFRD Datasets\n",
    "This script can be run on each of the datasets. Dataset-specific scripts are written separately.\n",
    "This script counts and removes duplicate rows, calculates the number of unique values per column, calculates the number/percent of nulls per column, and counts number of rows with the same set of null column(s). It also creates histogram for quick data analysis and counts Nulls/NaN values on a date field.\n",
    "\n",
    "_Author: A. Upadhyaya_"
   ]
  },
  {
   "cell_type": "markdown",
   "metadata": {},
   "source": [
    "#### Prepare Analysis\n"
   ]
  },
  {
   "cell_type": "markdown",
   "metadata": {},
   "source": [
    "#### Set File Read Parameters"
   ]
  },
  {
   "cell_type": "code",
   "execution_count": 1,
   "metadata": {},
   "outputs": [],
   "source": [
    "#Run from Git Hub project folder structure (script is in \"notebooks\" folder)\n",
    "localFolder='../data/01_raw/'\n",
    "##localFolder='C:/GMU_Data Analytics Project_DAEN 690/DAEN690_DataFN/'\n",
    "fileName='20210214-ems-raw-v03.xlsx'\n",
    "sheetNameMed='Medications'\n",
    "sheetNameProcs='Procedures'\n",
    "sheetNamePatnt='Patients'"
   ]
  },
  {
   "cell_type": "markdown",
   "metadata": {},
   "source": [
    "### Import Libraries"
   ]
  },
  {
   "cell_type": "code",
   "execution_count": 2,
   "metadata": {},
   "outputs": [],
   "source": [
    "# Importing required libraries for the project\n",
    "import sys # for python library version\n",
    "import pandas as pd\n",
    "##pd.set_option('display.max_colwidth', None)"
   ]
  },
  {
   "cell_type": "code",
   "execution_count": 3,
   "metadata": {},
   "outputs": [
    {
     "name": "stdout",
     "output_type": "stream",
     "text": [
      "Python: 3.8.6 | packaged by conda-forge | (default, Jan 25 2021, 22:54:47) [MSC v.1916 64 bit (AMD64)]\n",
      "pandas: 1.2.2\n"
     ]
    }
   ],
   "source": [
    "print('Python: {}'.format(sys.version))  # Python version\n",
    "##print('numpy: {}'.format(np.__version__))  # Numpy version\n",
    "print('pandas: {}'.format(pd.__version__))  # Pandas version"
   ]
  },
  {
   "cell_type": "markdown",
   "metadata": {},
   "source": [
    "#### Import From Excel Spreadsheet"
   ]
  },
  {
   "cell_type": "markdown",
   "metadata": {},
   "source": [
    "##### Reading 'Medications' tab (dataset)"
   ]
  },
  {
   "cell_type": "code",
   "execution_count": 4,
   "metadata": {},
   "outputs": [
    {
     "name": "stderr",
     "output_type": "stream",
     "text": [
      "<ipython-input-4-1bafcc5818d1>:3: FutureWarning: Your version of xlrd is 1.2.0. In xlrd >= 2.0, only the xls format is supported. As a result, the openpyxl engine will be used if it is installed and the engine argument is not specified. Install openpyxl instead.\n",
      "  dfMed=pd.read_excel(localFolder+fileName,sheet_name=sheetNameMed)\n"
     ]
    },
    {
     "name": "stdout",
     "output_type": "stream",
     "text": [
      "Medications\n",
      "Number of Rows = 63311\n",
      "Number of Columns = 4\n"
     ]
    },
    {
     "data": {
      "text/plain": [
       "PatientId                            int64\n",
       "Medication_Given_RXCUI_Code        float64\n",
       "Medication_Given_Description        object\n",
       "Personnel_Performer_ID_Internal     object\n",
       "dtype: object"
      ]
     },
     "execution_count": 4,
     "metadata": {},
     "output_type": "execute_result"
    }
   ],
   "source": [
    "#Import single tab - Medications\n",
    "##df=pd.read_excel(localFolder+fileName,sheet_name=sheetName)\n",
    "dfMed=pd.read_excel(localFolder+fileName,sheet_name=sheetNameMed)\n",
    "\n",
    "#Print (1) number of rows/columns and (2) column names/types for quick confirmation of successful import\n",
    "numOriginalRows=len(dfMed)\n",
    "numCols=len(dfMed.columns)\n",
    "print(sheetNameMed)\n",
    "print('Number of Rows = '+str(numOriginalRows))\n",
    "print('Number of Columns = '+str(numCols))\n",
    "dfMed.dtypes"
   ]
  },
  {
   "cell_type": "markdown",
   "metadata": {},
   "source": [
    "#### Reading 'Procedures' tab (dataset)"
   ]
  },
  {
   "cell_type": "code",
   "execution_count": 5,
   "metadata": {},
   "outputs": [
    {
     "name": "stderr",
     "output_type": "stream",
     "text": [
      "<ipython-input-5-ee97ea927e4b>:2: FutureWarning: Your version of xlrd is 1.2.0. In xlrd >= 2.0, only the xls format is supported. As a result, the openpyxl engine will be used if it is installed and the engine argument is not specified. Install openpyxl instead.\n",
      "  dfProc=pd.read_excel(localFolder+fileName,sheet_name=sheetNameProcs)\n"
     ]
    },
    {
     "name": "stdout",
     "output_type": "stream",
     "text": [
      "Procedures\n",
      "Number of Rows = 171515\n",
      "Number of Columns = 4\n"
     ]
    },
    {
     "data": {
      "text/plain": [
       "PatientId                           int64\n",
       "Procedure_Performed_Code            int64\n",
       "Procedure_Performed_Description    object\n",
       "FRDPersonnelID                     object\n",
       "dtype: object"
      ]
     },
     "execution_count": 5,
     "metadata": {},
     "output_type": "execute_result"
    }
   ],
   "source": [
    "#Import single tab - Procedures\n",
    "dfProc=pd.read_excel(localFolder+fileName,sheet_name=sheetNameProcs)\n",
    "\n",
    "#Print (1) number of rows/columns and (2) column names/types for quick confirmation of successful import\n",
    "numOriginalRows=len(dfProc)\n",
    "numCols=len(dfProc.columns)\n",
    "print(sheetNameProcs)\n",
    "print('Number of Rows = '+str(numOriginalRows))\n",
    "print('Number of Columns = '+str(numCols))\n",
    "dfProc.dtypes"
   ]
  },
  {
   "cell_type": "markdown",
   "metadata": {},
   "source": [
    "#### Reading 'Patients' tab (dataset)"
   ]
  },
  {
   "cell_type": "code",
   "execution_count": 6,
   "metadata": {},
   "outputs": [
    {
     "name": "stderr",
     "output_type": "stream",
     "text": [
      "<ipython-input-6-45e5ab7c2a7a>:2: FutureWarning: Your version of xlrd is 1.2.0. In xlrd >= 2.0, only the xls format is supported. As a result, the openpyxl engine will be used if it is installed and the engine argument is not specified. Install openpyxl instead.\n",
      "  dfPatient=pd.read_excel(localFolder+fileName,sheet_name=sheetNamePatnt)\n"
     ]
    },
    {
     "name": "stdout",
     "output_type": "stream",
     "text": [
      "Patients\n",
      "Number of Rows = 545060\n",
      "Number of Columns = 12\n"
     ]
    },
    {
     "data": {
      "text/plain": [
       "PatientId                         int64\n",
       "FRDPersonnelID                   object\n",
       "Shift                            object\n",
       "UnitId                           object\n",
       "FireStation                       int64\n",
       "Battalion                         int64\n",
       "PatientOutcome                   object\n",
       "PatientGender                    object\n",
       "CrewMemberRoles                  object\n",
       "DispatchTime             datetime64[ns]\n",
       "FRDPersonnelGender               object\n",
       "FRDPersonnelStartDate    datetime64[ns]\n",
       "dtype: object"
      ]
     },
     "execution_count": 6,
     "metadata": {},
     "output_type": "execute_result"
    }
   ],
   "source": [
    "#Import single tab - Patients\n",
    "dfPatient=pd.read_excel(localFolder+fileName,sheet_name=sheetNamePatnt)\n",
    "#Print (1) number of rows/columns and (2) column names/types for quick confirmation of successful import\n",
    "numOriginalRows=len(dfPatient)\n",
    "numCols=len(dfPatient.columns)\n",
    "print(sheetNamePatnt)\n",
    "print('Number of Rows = '+str(numOriginalRows))\n",
    "print('Number of Columns = '+str(numCols))\n",
    "dfPatient.dtypes"
   ]
  },
  {
   "cell_type": "markdown",
   "metadata": {},
   "source": [
    "### Creating Histogram "
   ]
  },
  {
   "cell_type": "code",
   "execution_count": 7,
   "metadata": {},
   "outputs": [],
   "source": [
    "%matplotlib inline\n",
    "import matplotlib as mlb\n",
    "import matplotlib.pyplot as plt\n",
    "import numpy as np"
   ]
  },
  {
   "cell_type": "code",
   "execution_count": 8,
   "metadata": {},
   "outputs": [
    {
     "data": {
      "text/plain": [
       "<AxesSubplot:>"
      ]
     },
     "execution_count": 8,
     "metadata": {},
     "output_type": "execute_result"
    },
    {
     "data": {
      "image/png": "[encoded data removed]",
      "text/plain": [
       "<Figure size 432x288 with 1 Axes>"
      ]
     },
     "metadata": {
      "needs_background": "light"
     },
     "output_type": "display_data"
    }
   ],
   "source": [
    "## Histogram for patient outcomes\n",
    "dfPatient['PatientOutcome'].value_counts().plot(kind='bar')    "
   ]
  },
  {
   "cell_type": "code",
   "execution_count": 32,
   "metadata": {},
   "outputs": [
    {
     "data": {
      "image/png": "[encoded data removed]",
      "text/plain": [
       "<Figure size 842.4x595.44 with 1 Axes>"
      ]
     },
     "metadata": {},
     "output_type": "display_data"
    }
   ],
   "source": [
    "## Another Histogram using Seaborn - for patient outcomes\n",
    "import seaborn as sns\n",
    "sns.set(rc={'figure.figsize':(11.7,8.27)})\n",
    "ax = sns.countplot(x=dfPatient['PatientOutcome'])\n",
    "ax.set_xticklabels(ax.get_xticklabels(), rotation=40, ha=\"right\", fontsize=9)\n",
    "\n",
    "plt.tight_layout()\n",
    "plt.show()"
   ]
  },
  {
   "cell_type": "markdown",
   "metadata": {},
   "source": [
    "## Numeric Analysis"
   ]
  },
  {
   "cell_type": "markdown",
   "metadata": {},
   "source": [
    "### Duplicate Rows\n",
    "Duplicate rows will likely need to be removed during data conditioning."
   ]
  },
  {
   "cell_type": "code",
   "execution_count": 10,
   "metadata": {},
   "outputs": [
    {
     "name": "stdout",
     "output_type": "stream",
     "text": [
      "Number of Duplicate Rows =\n",
      "9272\n",
      "Percentage of Rows that are Duplicates = \n",
      "14.6452\n"
     ]
    }
   ],
   "source": [
    "## Medications dataframe\n",
    "#Determine which rows are duplicates (True=duplicate, False=first instance of row)\n",
    "duplicateRowIdentifier=dfMed.duplicated()\n",
    "\n",
    "#Calculate number of duplicate rows\n",
    "numDuplicateRows=len(duplicateRowIdentifier[duplicateRowIdentifier==True])\n",
    "numUniqueRows=numOriginalRows-numDuplicateRows\n",
    "\n",
    "#Calculate percentage of rows that are duplicates\n",
    "percentDuplicateRows=round(numDuplicateRows/len(dfMed)*100,4)\n",
    "\n",
    "#Print results\n",
    "print('Number of Duplicate Rows =')\n",
    "print(numDuplicateRows)\n",
    "print('Percentage of Rows that are Duplicates = ')\n",
    "print(percentDuplicateRows)"
   ]
  },
  {
   "cell_type": "markdown",
   "metadata": {},
   "source": [
    "Duplicate rows will be removed before conducting the remaining analysis in this script."
   ]
  },
  {
   "cell_type": "code",
   "execution_count": 11,
   "metadata": {},
   "outputs": [
    {
     "name": "stdout",
     "output_type": "stream",
     "text": [
      "Expected Number of Rows = 535788\n",
      "Updated Data Frame Shape =\n",
      "(54039, 4)\n"
     ]
    }
   ],
   "source": [
    "#Medication Dataset - Reduce to the rows that were not flagged as duplicates\n",
    "dfMed=dfMed.loc[duplicateRowIdentifier==False,:]\n",
    "\n",
    "#Confirm\n",
    "print('Expected Number of Rows = '+str(numUniqueRows))\n",
    "print('Updated Data Frame Shape =')\n",
    "print(dfMed.shape)"
   ]
  },
  {
   "cell_type": "markdown",
   "metadata": {},
   "source": [
    "### Unique Values Per Column\n",
    "This is a simple calculation of the number of unique values per individual column."
   ]
  },
  {
   "cell_type": "code",
   "execution_count": 12,
   "metadata": {},
   "outputs": [
    {
     "name": "stdout",
     "output_type": "stream",
     "text": [
      "PatientId                          38501\n",
      "Medication_Given_RXCUI_Code           33\n",
      "Medication_Given_Description          33\n",
      "Personnel_Performer_ID_Internal      845\n",
      "Name: Number of Unique Values, dtype: int64\n"
     ]
    }
   ],
   "source": [
    "# Medication dataset -- Calculate the number of unique values per columns (NULL counts as a value)\n",
    "dsNumUnique=dfMed.nunique(dropna=False)\n",
    "dsNumUnique.name='Number of Unique Values'\n",
    "print(dsNumUnique)"
   ]
  },
  {
   "cell_type": "markdown",
   "metadata": {},
   "source": [
    "### Null Values Per Column\n",
    "This is a simple calculation of the number/percentage of null values per individual column."
   ]
  },
  {
   "cell_type": "code",
   "execution_count": 13,
   "metadata": {},
   "outputs": [
    {
     "name": "stdout",
     "output_type": "stream",
     "text": [
      "PatientId                          0\n",
      "Medication_Given_RXCUI_Code        6\n",
      "Medication_Given_Description       6\n",
      "Personnel_Performer_ID_Internal    0\n",
      "Name: Number Rows With Nulls, dtype: int64\n"
     ]
    }
   ],
   "source": [
    "#Medication dataset - Calculate the number of null values per columns\n",
    "dsNumNull=dfMed.isnull().sum()\n",
    "dsNumNull.name='Number Rows With Nulls'\n",
    "print(dsNumNull)"
   ]
  },
  {
   "cell_type": "code",
   "execution_count": 14,
   "metadata": {},
   "outputs": [
    {
     "name": "stdout",
     "output_type": "stream",
     "text": [
      "PatientId                          0.0\n",
      "Medication_Given_RXCUI_Code        0.0\n",
      "Medication_Given_Description       0.0\n",
      "Personnel_Performer_ID_Internal    0.0\n",
      "Name: Percent Rows With Nulls, dtype: float64\n"
     ]
    }
   ],
   "source": [
    "#Calculate the percentage of null values per columns\n",
    "dsPercentNull=(dsNumNull/numUniqueRows*100).round(2)\n",
    "dsPercentNull.name='Percent Rows With Nulls'\n",
    "print(dsPercentNull)"
   ]
  },
  {
   "cell_type": "code",
   "execution_count": 15,
   "metadata": {},
   "outputs": [],
   "source": [
    "#Merge data series (by column) together\n",
    "dfPerCol=pd.DataFrame()\n",
    "dfPerCol[dsNumUnique.name]=dsNumUnique\n",
    "dfPerCol[dsNumNull.name]=dsNumNull\n",
    "dfPerCol[dsPercentNull.name]=dsPercentNull"
   ]
  },
  {
   "cell_type": "markdown",
   "metadata": {},
   "source": [
    "### Null Values Per Row\n",
    "This section determines which columns have a null value per each row, resulting in a data series matching the number of unique rows in the dataset. The series values are tuples of column names. The resulting table shows the unique tuples of column names with their corresponding row count. Once the data subsets for the project questions are determined, this will help inform the completeness of those data subsets."
   ]
  },
  {
   "cell_type": "code",
   "execution_count": 16,
   "metadata": {},
   "outputs": [
    {
     "data": {
      "text/html": [
       "<div>\n",
       "<style scoped>\n",
       "    .dataframe tbody tr th:only-of-type {\n",
       "        vertical-align: middle;\n",
       "    }\n",
       "\n",
       "    .dataframe tbody tr th {\n",
       "        vertical-align: top;\n",
       "    }\n",
       "\n",
       "    .dataframe thead th {\n",
       "        text-align: right;\n",
       "    }\n",
       "</style>\n",
       "<table border=\"1\" class=\"dataframe\">\n",
       "  <thead>\n",
       "    <tr style=\"text-align: right;\">\n",
       "      <th></th>\n",
       "      <th>Columns With Null</th>\n",
       "      <th>Number of Rows</th>\n",
       "      <th>Percent of Rows</th>\n",
       "    </tr>\n",
       "  </thead>\n",
       "  <tbody>\n",
       "    <tr>\n",
       "      <th>0</th>\n",
       "      <td>()</td>\n",
       "      <td>54033</td>\n",
       "      <td>10.08</td>\n",
       "    </tr>\n",
       "    <tr>\n",
       "      <th>1</th>\n",
       "      <td>(Medication_Given_Description, Medication_Give...</td>\n",
       "      <td>6</td>\n",
       "      <td>0.00</td>\n",
       "    </tr>\n",
       "  </tbody>\n",
       "</table>\n",
       "</div>"
      ],
      "text/plain": [
       "                                   Columns With Null  Number of Rows  \\\n",
       "0                                                 ()           54033   \n",
       "1  (Medication_Given_Description, Medication_Give...               6   \n",
       "\n",
       "   Percent of Rows  \n",
       "0            10.08  \n",
       "1             0.00  "
      ]
     },
     "execution_count": 16,
     "metadata": {},
     "output_type": "execute_result"
    }
   ],
   "source": [
    "#Medication dataset -- For a single row, determine which columns have null values\n",
    "def NullsPerRow(dsRow):  \n",
    "    columnsNull=list(dsRow[dsRow.isnull()].index)\n",
    "    columnsNull.sort()\n",
    "    columnsNull=tuple(columnsNull) #used tuple since lists can't be used by pandas unique()\n",
    "    return(columnsNull)\n",
    "dsNulls=dfMed.apply(NullsPerRow,axis=1)\n",
    "\n",
    "#Create data frame for counting \n",
    "dfNulls=pd.DataFrame(dsNulls.unique(),columns=['Columns With Null'])\n",
    "dfNulls['Number of Rows']=0\n",
    "\n",
    "#Count the number of rows per each tuple of null columns\n",
    "for index in dfNulls.index:\n",
    "    dfNulls.loc[index,'Number of Rows']=len(dsNulls[dsNulls==dfNulls.loc[index,'Columns With Null']])\n",
    "dfNulls.sort_values(by='Number of Rows',ascending=False,inplace=True)\n",
    "dfNulls.reset_index(drop=True,inplace=True)\n",
    "\n",
    "#Add a column for percent of rows\n",
    "dfNulls['Percent of Rows']=(dfNulls['Number of Rows']/numUniqueRows*100).round(2)\n",
    "dfNulls"
   ]
  },
  {
   "cell_type": "markdown",
   "metadata": {},
   "source": [
    "## Visualizations"
   ]
  },
  {
   "cell_type": "code",
   "execution_count": 17,
   "metadata": {},
   "outputs": [
    {
     "name": "stdout",
     "output_type": "stream",
     "text": [
      "Medications Dataset\n",
      "\n",
      "Original Number of Rows = 545060\n",
      "Duplicate Number of Rows = 9272\n",
      "Percent Duplicate Rows = 14.6452\n",
      "\n",
      "Duplicate rows removed prior to remaining analysis\n",
      "Unique Number of Rows = 535788\n",
      "\n"
     ]
    }
   ],
   "source": [
    "### For Medication Dataset Visualization\n",
    "print(sheetNameMed+' Dataset\\n')\n",
    "print('Original Number of Rows = '+str(numOriginalRows))\n",
    "print('Duplicate Number of Rows = '+str(numDuplicateRows))\n",
    "print('Percent Duplicate Rows = '+str(percentDuplicateRows)+'\\n')\n",
    "print('Duplicate rows removed prior to remaining analysis')\n",
    "print('Unique Number of Rows = '+str(numUniqueRows)+'\\n')"
   ]
  },
  {
   "cell_type": "code",
   "execution_count": 18,
   "metadata": {},
   "outputs": [
    {
     "data": {
      "text/html": [
       "<div>\n",
       "<style scoped>\n",
       "    .dataframe tbody tr th:only-of-type {\n",
       "        vertical-align: middle;\n",
       "    }\n",
       "\n",
       "    .dataframe tbody tr th {\n",
       "        vertical-align: top;\n",
       "    }\n",
       "\n",
       "    .dataframe thead th {\n",
       "        text-align: right;\n",
       "    }\n",
       "</style>\n",
       "<table border=\"1\" class=\"dataframe\">\n",
       "  <thead>\n",
       "    <tr style=\"text-align: right;\">\n",
       "      <th></th>\n",
       "      <th>Number of Unique Values</th>\n",
       "      <th>Number Rows With Nulls</th>\n",
       "      <th>Percent Rows With Nulls</th>\n",
       "    </tr>\n",
       "  </thead>\n",
       "  <tbody>\n",
       "    <tr>\n",
       "      <th>PatientId</th>\n",
       "      <td>38501</td>\n",
       "      <td>0</td>\n",
       "      <td>0.0</td>\n",
       "    </tr>\n",
       "    <tr>\n",
       "      <th>Medication_Given_RXCUI_Code</th>\n",
       "      <td>33</td>\n",
       "      <td>6</td>\n",
       "      <td>0.0</td>\n",
       "    </tr>\n",
       "    <tr>\n",
       "      <th>Medication_Given_Description</th>\n",
       "      <td>33</td>\n",
       "      <td>6</td>\n",
       "      <td>0.0</td>\n",
       "    </tr>\n",
       "    <tr>\n",
       "      <th>Personnel_Performer_ID_Internal</th>\n",
       "      <td>845</td>\n",
       "      <td>0</td>\n",
       "      <td>0.0</td>\n",
       "    </tr>\n",
       "  </tbody>\n",
       "</table>\n",
       "</div>"
      ],
      "text/plain": [
       "                                 Number of Unique Values  \\\n",
       "PatientId                                          38501   \n",
       "Medication_Given_RXCUI_Code                           33   \n",
       "Medication_Given_Description                          33   \n",
       "Personnel_Performer_ID_Internal                      845   \n",
       "\n",
       "                                 Number Rows With Nulls  \\\n",
       "PatientId                                             0   \n",
       "Medication_Given_RXCUI_Code                           6   \n",
       "Medication_Given_Description                          6   \n",
       "Personnel_Performer_ID_Internal                       0   \n",
       "\n",
       "                                 Percent Rows With Nulls  \n",
       "PatientId                                            0.0  \n",
       "Medication_Given_RXCUI_Code                          0.0  \n",
       "Medication_Given_Description                         0.0  \n",
       "Personnel_Performer_ID_Internal                      0.0  "
      ]
     },
     "execution_count": 18,
     "metadata": {},
     "output_type": "execute_result"
    }
   ],
   "source": [
    "dfPerCol"
   ]
  },
  {
   "cell_type": "code",
   "execution_count": 19,
   "metadata": {},
   "outputs": [
    {
     "data": {
      "text/html": [
       "<div>\n",
       "<style scoped>\n",
       "    .dataframe tbody tr th:only-of-type {\n",
       "        vertical-align: middle;\n",
       "    }\n",
       "\n",
       "    .dataframe tbody tr th {\n",
       "        vertical-align: top;\n",
       "    }\n",
       "\n",
       "    .dataframe thead th {\n",
       "        text-align: right;\n",
       "    }\n",
       "</style>\n",
       "<table border=\"1\" class=\"dataframe\">\n",
       "  <thead>\n",
       "    <tr style=\"text-align: right;\">\n",
       "      <th></th>\n",
       "      <th>Columns With Null</th>\n",
       "      <th>Number of Rows</th>\n",
       "      <th>Percent of Rows</th>\n",
       "    </tr>\n",
       "  </thead>\n",
       "  <tbody>\n",
       "    <tr>\n",
       "      <th>0</th>\n",
       "      <td>()</td>\n",
       "      <td>54033</td>\n",
       "      <td>10.08</td>\n",
       "    </tr>\n",
       "    <tr>\n",
       "      <th>1</th>\n",
       "      <td>(Medication_Given_Description, Medication_Give...</td>\n",
       "      <td>6</td>\n",
       "      <td>0.00</td>\n",
       "    </tr>\n",
       "  </tbody>\n",
       "</table>\n",
       "</div>"
      ],
      "text/plain": [
       "                                   Columns With Null  Number of Rows  \\\n",
       "0                                                 ()           54033   \n",
       "1  (Medication_Given_Description, Medication_Give...               6   \n",
       "\n",
       "   Percent of Rows  \n",
       "0            10.08  \n",
       "1             0.00  "
      ]
     },
     "execution_count": 19,
     "metadata": {},
     "output_type": "execute_result"
    }
   ],
   "source": [
    "dfNulls"
   ]
  },
  {
   "cell_type": "code",
   "execution_count": 20,
   "metadata": {},
   "outputs": [],
   "source": [
    "## Needs to install 1st time only to setup your environment\n",
    "##pip install -U pandasql"
   ]
  },
  {
   "cell_type": "code",
   "execution_count": 21,
   "metadata": {},
   "outputs": [],
   "source": [
    "## You will need to 'pip' install 'pandasql' to import 'sqldf'\n",
    "from pandasql import sqldf"
   ]
  },
  {
   "cell_type": "code",
   "execution_count": 22,
   "metadata": {},
   "outputs": [],
   "source": [
    "## For Medication Dataset\n",
    "output = sqldf(\"select count(*) from dfMed\")"
   ]
  },
  {
   "cell_type": "code",
   "execution_count": 23,
   "metadata": {},
   "outputs": [
    {
     "data": {
      "text/html": [
       "<div>\n",
       "<style scoped>\n",
       "    .dataframe tbody tr th:only-of-type {\n",
       "        vertical-align: middle;\n",
       "    }\n",
       "\n",
       "    .dataframe tbody tr th {\n",
       "        vertical-align: top;\n",
       "    }\n",
       "\n",
       "    .dataframe thead th {\n",
       "        text-align: right;\n",
       "    }\n",
       "</style>\n",
       "<table border=\"1\" class=\"dataframe\">\n",
       "  <thead>\n",
       "    <tr style=\"text-align: right;\">\n",
       "      <th></th>\n",
       "      <th>PatientId</th>\n",
       "      <th>Medication_Given_RXCUI_Code</th>\n",
       "      <th>Medication_Given_Description</th>\n",
       "      <th>Personnel_Performer_ID_Internal</th>\n",
       "    </tr>\n",
       "  </thead>\n",
       "  <tbody>\n",
       "    <tr>\n",
       "      <th>0</th>\n",
       "      <td>480444</td>\n",
       "      <td>6960.0</td>\n",
       "      <td>Midazolam (Versed)</td>\n",
       "      <td>78C0656B-4FD3-4AFD-8907-05258241F20A</td>\n",
       "    </tr>\n",
       "    <tr>\n",
       "      <th>1</th>\n",
       "      <td>480444</td>\n",
       "      <td>7242.0</td>\n",
       "      <td>Naloxone (Narcan)</td>\n",
       "      <td>78C0656B-4FD3-4AFD-8907-05258241F20A</td>\n",
       "    </tr>\n",
       "    <tr>\n",
       "      <th>2</th>\n",
       "      <td>480444</td>\n",
       "      <td>6130.0</td>\n",
       "      <td>Ketamine (Ketalar)</td>\n",
       "      <td>78C0656B-4FD3-4AFD-8907-05258241F20A</td>\n",
       "    </tr>\n",
       "  </tbody>\n",
       "</table>\n",
       "</div>"
      ],
      "text/plain": [
       "   PatientId  Medication_Given_RXCUI_Code Medication_Given_Description  \\\n",
       "0     480444                       6960.0           Midazolam (Versed)   \n",
       "1     480444                       7242.0            Naloxone (Narcan)   \n",
       "2     480444                       6130.0           Ketamine (Ketalar)   \n",
       "\n",
       "        Personnel_Performer_ID_Internal  \n",
       "0  78C0656B-4FD3-4AFD-8907-05258241F20A  \n",
       "1  78C0656B-4FD3-4AFD-8907-05258241F20A  \n",
       "2  78C0656B-4FD3-4AFD-8907-05258241F20A  "
      ]
     },
     "execution_count": 23,
     "metadata": {},
     "output_type": "execute_result"
    }
   ],
   "source": [
    "output = sqldf(\"select * from dfMed where PatientId='480444'\")\n",
    "output"
   ]
  },
  {
   "cell_type": "markdown",
   "metadata": {},
   "source": [
    "##### Query to verify duplicate exists in TABLE - Procedures"
   ]
  },
  {
   "cell_type": "code",
   "execution_count": 24,
   "metadata": {},
   "outputs": [
    {
     "data": {
      "text/html": [
       "<div>\n",
       "<style scoped>\n",
       "    .dataframe tbody tr th:only-of-type {\n",
       "        vertical-align: middle;\n",
       "    }\n",
       "\n",
       "    .dataframe tbody tr th {\n",
       "        vertical-align: top;\n",
       "    }\n",
       "\n",
       "    .dataframe thead th {\n",
       "        text-align: right;\n",
       "    }\n",
       "</style>\n",
       "<table border=\"1\" class=\"dataframe\">\n",
       "  <thead>\n",
       "    <tr style=\"text-align: right;\">\n",
       "      <th></th>\n",
       "      <th>Procedure_Performed_Description</th>\n",
       "      <th>FRDPersonnelID</th>\n",
       "      <th>COUNT(*)</th>\n",
       "    </tr>\n",
       "  </thead>\n",
       "  <tbody>\n",
       "    <tr>\n",
       "      <th>0</th>\n",
       "      <td>Airway - Clear/Suction</td>\n",
       "      <td>00D5C99E-9E01-E211-B5F5-78E7D18CFD3C</td>\n",
       "      <td>3</td>\n",
       "    </tr>\n",
       "    <tr>\n",
       "      <th>1</th>\n",
       "      <td>Airway - Clear/Suction</td>\n",
       "      <td>0A89F8EB-32DE-4505-9DCA-CF9C68E09DCE</td>\n",
       "      <td>8</td>\n",
       "    </tr>\n",
       "    <tr>\n",
       "      <th>2</th>\n",
       "      <td>Airway - Clear/Suction</td>\n",
       "      <td>0FC6D8A5-B755-49AF-B4FE-073AA2CEC1E8</td>\n",
       "      <td>3</td>\n",
       "    </tr>\n",
       "    <tr>\n",
       "      <th>3</th>\n",
       "      <td>Airway - Clear/Suction</td>\n",
       "      <td>10D6C99E-9E01-E211-B5F5-78E7D18CFD3C</td>\n",
       "      <td>2</td>\n",
       "    </tr>\n",
       "    <tr>\n",
       "      <th>4</th>\n",
       "      <td>Airway - Clear/Suction</td>\n",
       "      <td>11D9C99E-9E01-E211-B5F5-78E7D18CFD3C</td>\n",
       "      <td>5</td>\n",
       "    </tr>\n",
       "    <tr>\n",
       "      <th>...</th>\n",
       "      <td>...</td>\n",
       "      <td>...</td>\n",
       "      <td>...</td>\n",
       "    </tr>\n",
       "    <tr>\n",
       "      <th>6264</th>\n",
       "      <td>Wound Care - Irrigation</td>\n",
       "      <td>EDD7C99E-9E01-E211-B5F5-78E7D18CFD3C</td>\n",
       "      <td>2</td>\n",
       "    </tr>\n",
       "    <tr>\n",
       "      <th>6265</th>\n",
       "      <td>Wound Care - Irrigation</td>\n",
       "      <td>F315435F-8AB8-4C8E-8384-A37C2F166C98</td>\n",
       "      <td>2</td>\n",
       "    </tr>\n",
       "    <tr>\n",
       "      <th>6266</th>\n",
       "      <td>Wound Care - Irrigation</td>\n",
       "      <td>F9D3C99E-9E01-E211-B5F5-78E7D18CFD3C</td>\n",
       "      <td>3</td>\n",
       "    </tr>\n",
       "    <tr>\n",
       "      <th>6267</th>\n",
       "      <td>Wound Care - Irrigation</td>\n",
       "      <td>F9D6C99E-9E01-E211-B5F5-78E7D18CFD3C</td>\n",
       "      <td>3</td>\n",
       "    </tr>\n",
       "    <tr>\n",
       "      <th>6268</th>\n",
       "      <td>Wound Care - Irrigation</td>\n",
       "      <td>FA6EED64-2041-4357-A0D7-0BD9E25F0B3B</td>\n",
       "      <td>2</td>\n",
       "    </tr>\n",
       "  </tbody>\n",
       "</table>\n",
       "<p>6269 rows × 3 columns</p>\n",
       "</div>"
      ],
      "text/plain": [
       "     Procedure_Performed_Description                        FRDPersonnelID  \\\n",
       "0             Airway - Clear/Suction  00D5C99E-9E01-E211-B5F5-78E7D18CFD3C   \n",
       "1             Airway - Clear/Suction  0A89F8EB-32DE-4505-9DCA-CF9C68E09DCE   \n",
       "2             Airway - Clear/Suction  0FC6D8A5-B755-49AF-B4FE-073AA2CEC1E8   \n",
       "3             Airway - Clear/Suction  10D6C99E-9E01-E211-B5F5-78E7D18CFD3C   \n",
       "4             Airway - Clear/Suction  11D9C99E-9E01-E211-B5F5-78E7D18CFD3C   \n",
       "...                              ...                                   ...   \n",
       "6264         Wound Care - Irrigation  EDD7C99E-9E01-E211-B5F5-78E7D18CFD3C   \n",
       "6265         Wound Care - Irrigation  F315435F-8AB8-4C8E-8384-A37C2F166C98   \n",
       "6266         Wound Care - Irrigation  F9D3C99E-9E01-E211-B5F5-78E7D18CFD3C   \n",
       "6267         Wound Care - Irrigation  F9D6C99E-9E01-E211-B5F5-78E7D18CFD3C   \n",
       "6268         Wound Care - Irrigation  FA6EED64-2041-4357-A0D7-0BD9E25F0B3B   \n",
       "\n",
       "      COUNT(*)  \n",
       "0            3  \n",
       "1            8  \n",
       "2            3  \n",
       "3            2  \n",
       "4            5  \n",
       "...        ...  \n",
       "6264         2  \n",
       "6265         2  \n",
       "6266         3  \n",
       "6267         3  \n",
       "6268         2  \n",
       "\n",
       "[6269 rows x 3 columns]"
      ]
     },
     "execution_count": 24,
     "metadata": {},
     "output_type": "execute_result"
    }
   ],
   "source": [
    "## From Procedure dataset\n",
    "output = sqldf(\"SELECT Procedure_Performed_Description, FRDPersonnelID, COUNT(*) FROM dfProc GROUP BY Procedure_Performed_Description, FRDPersonnelID HAVING COUNT(*) > 1\")\n",
    "##output['Procedure_Performed_Description']  \n",
    "output"
   ]
  },
  {
   "cell_type": "markdown",
   "metadata": {},
   "source": [
    "##### List All Rows Containing Duplicates from TABLE - Procedures"
   ]
  },
  {
   "cell_type": "code",
   "execution_count": 25,
   "metadata": {},
   "outputs": [
    {
     "data": {
      "text/html": [
       "<div>\n",
       "<style scoped>\n",
       "    .dataframe tbody tr th:only-of-type {\n",
       "        vertical-align: middle;\n",
       "    }\n",
       "\n",
       "    .dataframe tbody tr th {\n",
       "        vertical-align: top;\n",
       "    }\n",
       "\n",
       "    .dataframe thead th {\n",
       "        text-align: right;\n",
       "    }\n",
       "</style>\n",
       "<table border=\"1\" class=\"dataframe\">\n",
       "  <thead>\n",
       "    <tr style=\"text-align: right;\">\n",
       "      <th></th>\n",
       "      <th>PatientId</th>\n",
       "      <th>Procedure_Performed_Code</th>\n",
       "      <th>Procedure_Performed_Description</th>\n",
       "      <th>FRDPersonnelID</th>\n",
       "    </tr>\n",
       "  </thead>\n",
       "  <tbody>\n",
       "    <tr>\n",
       "      <th>0</th>\n",
       "      <td>485162</td>\n",
       "      <td>392230005</td>\n",
       "      <td>IV Start - Extremity Vein (arm or leg)</td>\n",
       "      <td>00D5C99E-9E01-E211-B5F5-78E7D18CFD3C</td>\n",
       "    </tr>\n",
       "    <tr>\n",
       "      <th>1</th>\n",
       "      <td>487722</td>\n",
       "      <td>392230005</td>\n",
       "      <td>IV Start - Extremity Vein (arm or leg)</td>\n",
       "      <td>00D5C99E-9E01-E211-B5F5-78E7D18CFD3C</td>\n",
       "    </tr>\n",
       "    <tr>\n",
       "      <th>2</th>\n",
       "      <td>487306</td>\n",
       "      <td>392230005</td>\n",
       "      <td>IV Start - Extremity Vein (arm or leg)</td>\n",
       "      <td>00D5C99E-9E01-E211-B5F5-78E7D18CFD3C</td>\n",
       "    </tr>\n",
       "    <tr>\n",
       "      <th>3</th>\n",
       "      <td>487306</td>\n",
       "      <td>268400002</td>\n",
       "      <td>CV - ECG - 12 Lead Obtained</td>\n",
       "      <td>00D5C99E-9E01-E211-B5F5-78E7D18CFD3C</td>\n",
       "    </tr>\n",
       "    <tr>\n",
       "      <th>4</th>\n",
       "      <td>487306</td>\n",
       "      <td>268400002</td>\n",
       "      <td>CV - ECG - 12 Lead Obtained</td>\n",
       "      <td>00D5C99E-9E01-E211-B5F5-78E7D18CFD3C</td>\n",
       "    </tr>\n",
       "    <tr>\n",
       "      <th>...</th>\n",
       "      <td>...</td>\n",
       "      <td>...</td>\n",
       "      <td>...</td>\n",
       "      <td>...</td>\n",
       "    </tr>\n",
       "    <tr>\n",
       "      <th>154903</th>\n",
       "      <td>912945</td>\n",
       "      <td>392230005</td>\n",
       "      <td>IV Start - Extremity Vein (arm or leg)</td>\n",
       "      <td>FFD8C99E-9E01-E211-B5F5-78E7D18CFD3C</td>\n",
       "    </tr>\n",
       "    <tr>\n",
       "      <th>154904</th>\n",
       "      <td>922834</td>\n",
       "      <td>392230005</td>\n",
       "      <td>IV Start - Extremity Vein (arm or leg)</td>\n",
       "      <td>FFD8C99E-9E01-E211-B5F5-78E7D18CFD3C</td>\n",
       "    </tr>\n",
       "    <tr>\n",
       "      <th>154905</th>\n",
       "      <td>1001082</td>\n",
       "      <td>392230005</td>\n",
       "      <td>IV Start - Extremity Vein (arm or leg)</td>\n",
       "      <td>FFD8C99E-9E01-E211-B5F5-78E7D18CFD3C</td>\n",
       "    </tr>\n",
       "    <tr>\n",
       "      <th>154906</th>\n",
       "      <td>1066726</td>\n",
       "      <td>392230005</td>\n",
       "      <td>IV Start - Extremity Vein (arm or leg)</td>\n",
       "      <td>FFD8C99E-9E01-E211-B5F5-78E7D18CFD3C</td>\n",
       "    </tr>\n",
       "    <tr>\n",
       "      <th>154907</th>\n",
       "      <td>1085965</td>\n",
       "      <td>392230005</td>\n",
       "      <td>IV Start - Extremity Vein (arm or leg)</td>\n",
       "      <td>FFD8C99E-9E01-E211-B5F5-78E7D18CFD3C</td>\n",
       "    </tr>\n",
       "  </tbody>\n",
       "</table>\n",
       "<p>154908 rows × 4 columns</p>\n",
       "</div>"
      ],
      "text/plain": [
       "        PatientId  Procedure_Performed_Code  \\\n",
       "0          485162                 392230005   \n",
       "1          487722                 392230005   \n",
       "2          487306                 392230005   \n",
       "3          487306                 268400002   \n",
       "4          487306                 268400002   \n",
       "...           ...                       ...   \n",
       "154903     912945                 392230005   \n",
       "154904     922834                 392230005   \n",
       "154905    1001082                 392230005   \n",
       "154906    1066726                 392230005   \n",
       "154907    1085965                 392230005   \n",
       "\n",
       "               Procedure_Performed_Description  \\\n",
       "0       IV Start - Extremity Vein (arm or leg)   \n",
       "1       IV Start - Extremity Vein (arm or leg)   \n",
       "2       IV Start - Extremity Vein (arm or leg)   \n",
       "3                  CV - ECG - 12 Lead Obtained   \n",
       "4                  CV - ECG - 12 Lead Obtained   \n",
       "...                                        ...   \n",
       "154903  IV Start - Extremity Vein (arm or leg)   \n",
       "154904  IV Start - Extremity Vein (arm or leg)   \n",
       "154905  IV Start - Extremity Vein (arm or leg)   \n",
       "154906  IV Start - Extremity Vein (arm or leg)   \n",
       "154907  IV Start - Extremity Vein (arm or leg)   \n",
       "\n",
       "                              FRDPersonnelID  \n",
       "0       00D5C99E-9E01-E211-B5F5-78E7D18CFD3C  \n",
       "1       00D5C99E-9E01-E211-B5F5-78E7D18CFD3C  \n",
       "2       00D5C99E-9E01-E211-B5F5-78E7D18CFD3C  \n",
       "3       00D5C99E-9E01-E211-B5F5-78E7D18CFD3C  \n",
       "4       00D5C99E-9E01-E211-B5F5-78E7D18CFD3C  \n",
       "...                                      ...  \n",
       "154903  FFD8C99E-9E01-E211-B5F5-78E7D18CFD3C  \n",
       "154904  FFD8C99E-9E01-E211-B5F5-78E7D18CFD3C  \n",
       "154905  FFD8C99E-9E01-E211-B5F5-78E7D18CFD3C  \n",
       "154906  FFD8C99E-9E01-E211-B5F5-78E7D18CFD3C  \n",
       "154907  FFD8C99E-9E01-E211-B5F5-78E7D18CFD3C  \n",
       "\n",
       "[154908 rows x 4 columns]"
      ]
     },
     "execution_count": 25,
     "metadata": {},
     "output_type": "execute_result"
    }
   ],
   "source": [
    "output2 = sqldf(\"SELECT a.* FROM dfProc a JOIN (SELECT Procedure_Performed_Description, FRDPersonnelID, COUNT(*) FROM dfProc GROUP BY Procedure_Performed_Description, FRDPersonnelID HAVING count(*) > 5 ) b ON a.Procedure_Performed_Description = b.Procedure_Performed_Description AND a.FRDPersonnelID = b.FRDPersonnelID ORDER BY a.FRDPersonnelID\")\n",
    "output2"
   ]
  },
  {
   "cell_type": "code",
   "execution_count": 26,
   "metadata": {},
   "outputs": [],
   "source": [
    "##### Query to verify duplicate exists for FirePerson in TABLE - Patients"
   ]
  },
  {
   "cell_type": "code",
   "execution_count": 27,
   "metadata": {},
   "outputs": [
    {
     "data": {
      "text/html": [
       "<div>\n",
       "<style scoped>\n",
       "    .dataframe tbody tr th:only-of-type {\n",
       "        vertical-align: middle;\n",
       "    }\n",
       "\n",
       "    .dataframe tbody tr th {\n",
       "        vertical-align: top;\n",
       "    }\n",
       "\n",
       "    .dataframe thead th {\n",
       "        text-align: right;\n",
       "    }\n",
       "</style>\n",
       "<table border=\"1\" class=\"dataframe\">\n",
       "  <thead>\n",
       "    <tr style=\"text-align: right;\">\n",
       "      <th></th>\n",
       "      <th>FRDPersonnelID</th>\n",
       "      <th>FRDPersonnelGender</th>\n",
       "      <th>FRDPersonnelStartDate</th>\n",
       "      <th>Total</th>\n",
       "    </tr>\n",
       "  </thead>\n",
       "  <tbody>\n",
       "    <tr>\n",
       "      <th>0</th>\n",
       "      <td>DA8ED993-E0AB-4521-8FF6-54B423A95B2B</td>\n",
       "      <td>Male</td>\n",
       "      <td>2017-04-17 00:00:00.000000</td>\n",
       "      <td>2765</td>\n",
       "    </tr>\n",
       "    <tr>\n",
       "      <th>1</th>\n",
       "      <td>2AD4C99E-9E01-E211-B5F5-78E7D18CFD3C</td>\n",
       "      <td>Male</td>\n",
       "      <td>2002-10-21 00:00:00.000000</td>\n",
       "      <td>2615</td>\n",
       "    </tr>\n",
       "    <tr>\n",
       "      <th>2</th>\n",
       "      <td>54D7C99E-9E01-E211-B5F5-78E7D18CFD3C</td>\n",
       "      <td>Male</td>\n",
       "      <td>1991-06-03 00:00:00.000000</td>\n",
       "      <td>2546</td>\n",
       "    </tr>\n",
       "    <tr>\n",
       "      <th>3</th>\n",
       "      <td>D6D4C99E-9E01-E211-B5F5-78E7D18CFD3C</td>\n",
       "      <td>Female</td>\n",
       "      <td>2002-07-13 00:00:00.000000</td>\n",
       "      <td>2145</td>\n",
       "    </tr>\n",
       "    <tr>\n",
       "      <th>4</th>\n",
       "      <td>6ED7C99E-9E01-E211-B5F5-78E7D18CFD3C</td>\n",
       "      <td>Male</td>\n",
       "      <td>1997-08-18 00:00:00.000000</td>\n",
       "      <td>2136</td>\n",
       "    </tr>\n",
       "    <tr>\n",
       "      <th>...</th>\n",
       "      <td>...</td>\n",
       "      <td>...</td>\n",
       "      <td>...</td>\n",
       "      <td>...</td>\n",
       "    </tr>\n",
       "    <tr>\n",
       "      <th>1780</th>\n",
       "      <td>DDD8C99E-9E01-E211-B5F5-78E7D18CFD3C</td>\n",
       "      <td>Male</td>\n",
       "      <td>2002-05-06 00:00:00.000000</td>\n",
       "      <td>2</td>\n",
       "    </tr>\n",
       "    <tr>\n",
       "      <th>1781</th>\n",
       "      <td>E3D4C99E-9E01-E211-B5F5-78E7D18CFD3C</td>\n",
       "      <td>Male</td>\n",
       "      <td>1987-09-21 00:00:00.000000</td>\n",
       "      <td>2</td>\n",
       "    </tr>\n",
       "    <tr>\n",
       "      <th>1782</th>\n",
       "      <td>E3D8C99E-9E01-E211-B5F5-78E7D18CFD3C</td>\n",
       "      <td>Male</td>\n",
       "      <td>1997-12-08 00:00:00.000000</td>\n",
       "      <td>2</td>\n",
       "    </tr>\n",
       "    <tr>\n",
       "      <th>1783</th>\n",
       "      <td>F3F2340E-F875-E511-80CD-001DD8B71D38</td>\n",
       "      <td>Male</td>\n",
       "      <td>2014-09-15 00:00:00.000000</td>\n",
       "      <td>2</td>\n",
       "    </tr>\n",
       "    <tr>\n",
       "      <th>1784</th>\n",
       "      <td>FFD2ECE2-5FFF-4345-8B0D-02371CA38DD3</td>\n",
       "      <td>None</td>\n",
       "      <td>None</td>\n",
       "      <td>2</td>\n",
       "    </tr>\n",
       "  </tbody>\n",
       "</table>\n",
       "<p>1785 rows × 4 columns</p>\n",
       "</div>"
      ],
      "text/plain": [
       "                            FRDPersonnelID FRDPersonnelGender  \\\n",
       "0     DA8ED993-E0AB-4521-8FF6-54B423A95B2B               Male   \n",
       "1     2AD4C99E-9E01-E211-B5F5-78E7D18CFD3C               Male   \n",
       "2     54D7C99E-9E01-E211-B5F5-78E7D18CFD3C               Male   \n",
       "3     D6D4C99E-9E01-E211-B5F5-78E7D18CFD3C             Female   \n",
       "4     6ED7C99E-9E01-E211-B5F5-78E7D18CFD3C               Male   \n",
       "...                                    ...                ...   \n",
       "1780  DDD8C99E-9E01-E211-B5F5-78E7D18CFD3C               Male   \n",
       "1781  E3D4C99E-9E01-E211-B5F5-78E7D18CFD3C               Male   \n",
       "1782  E3D8C99E-9E01-E211-B5F5-78E7D18CFD3C               Male   \n",
       "1783  F3F2340E-F875-E511-80CD-001DD8B71D38               Male   \n",
       "1784  FFD2ECE2-5FFF-4345-8B0D-02371CA38DD3               None   \n",
       "\n",
       "           FRDPersonnelStartDate  Total  \n",
       "0     2017-04-17 00:00:00.000000   2765  \n",
       "1     2002-10-21 00:00:00.000000   2615  \n",
       "2     1991-06-03 00:00:00.000000   2546  \n",
       "3     2002-07-13 00:00:00.000000   2145  \n",
       "4     1997-08-18 00:00:00.000000   2136  \n",
       "...                          ...    ...  \n",
       "1780  2002-05-06 00:00:00.000000      2  \n",
       "1781  1987-09-21 00:00:00.000000      2  \n",
       "1782  1997-12-08 00:00:00.000000      2  \n",
       "1783  2014-09-15 00:00:00.000000      2  \n",
       "1784                        None      2  \n",
       "\n",
       "[1785 rows x 4 columns]"
      ]
     },
     "execution_count": 27,
     "metadata": {},
     "output_type": "execute_result"
    }
   ],
   "source": [
    "outputP1 = sqldf(\"SELECT FRDPersonnelID, FRDPersonnelGender,FRDPersonnelStartDate, COUNT(*) as Total FROM dfPatient GROUP BY FRDPersonnelID, FRDPersonnelID HAVING COUNT(*) > 1 ORDER BY Total desc\")\n",
    "outputP1 "
   ]
  },
  {
   "cell_type": "markdown",
   "metadata": {},
   "source": [
    "##### List FRDPersonnelID,FRDPersonnelStartDate, FRDPersonnelGender  Rows to check for  Duplicates from TABLE - Patients"
   ]
  },
  {
   "cell_type": "code",
   "execution_count": 28,
   "metadata": {},
   "outputs": [
    {
     "data": {
      "text/html": [
       "<div>\n",
       "<style scoped>\n",
       "    .dataframe tbody tr th:only-of-type {\n",
       "        vertical-align: middle;\n",
       "    }\n",
       "\n",
       "    .dataframe tbody tr th {\n",
       "        vertical-align: top;\n",
       "    }\n",
       "\n",
       "    .dataframe thead th {\n",
       "        text-align: right;\n",
       "    }\n",
       "</style>\n",
       "<table border=\"1\" class=\"dataframe\">\n",
       "  <thead>\n",
       "    <tr style=\"text-align: right;\">\n",
       "      <th></th>\n",
       "      <th>FRDPersonnelID</th>\n",
       "      <th>FRDPersonnelStartDate</th>\n",
       "      <th>FRDPersonnelGender</th>\n",
       "    </tr>\n",
       "  </thead>\n",
       "  <tbody>\n",
       "    <tr>\n",
       "      <th>0</th>\n",
       "      <td>00D5C99E-9E01-E211-B5F5-78E7D18CFD3C</td>\n",
       "      <td>2008-04-28 00:00:00.000000</td>\n",
       "      <td>Male</td>\n",
       "    </tr>\n",
       "    <tr>\n",
       "      <th>1</th>\n",
       "      <td>00D5C99E-9E01-E211-B5F5-78E7D18CFD3C</td>\n",
       "      <td>2008-04-28 00:00:00.000000</td>\n",
       "      <td>Male</td>\n",
       "    </tr>\n",
       "    <tr>\n",
       "      <th>2</th>\n",
       "      <td>00D5C99E-9E01-E211-B5F5-78E7D18CFD3C</td>\n",
       "      <td>2008-04-28 00:00:00.000000</td>\n",
       "      <td>Male</td>\n",
       "    </tr>\n",
       "    <tr>\n",
       "      <th>3</th>\n",
       "      <td>00D5C99E-9E01-E211-B5F5-78E7D18CFD3C</td>\n",
       "      <td>2008-04-28 00:00:00.000000</td>\n",
       "      <td>Male</td>\n",
       "    </tr>\n",
       "    <tr>\n",
       "      <th>4</th>\n",
       "      <td>00D5C99E-9E01-E211-B5F5-78E7D18CFD3C</td>\n",
       "      <td>2008-04-28 00:00:00.000000</td>\n",
       "      <td>Male</td>\n",
       "    </tr>\n",
       "    <tr>\n",
       "      <th>...</th>\n",
       "      <td>...</td>\n",
       "      <td>...</td>\n",
       "      <td>...</td>\n",
       "    </tr>\n",
       "    <tr>\n",
       "      <th>545001</th>\n",
       "      <td>FFD8C99E-9E01-E211-B5F5-78E7D18CFD3C</td>\n",
       "      <td>1988-08-15 00:00:00.000000</td>\n",
       "      <td>Male</td>\n",
       "    </tr>\n",
       "    <tr>\n",
       "      <th>545002</th>\n",
       "      <td>FFD8C99E-9E01-E211-B5F5-78E7D18CFD3C</td>\n",
       "      <td>1988-08-15 00:00:00.000000</td>\n",
       "      <td>Male</td>\n",
       "    </tr>\n",
       "    <tr>\n",
       "      <th>545003</th>\n",
       "      <td>FFD8C99E-9E01-E211-B5F5-78E7D18CFD3C</td>\n",
       "      <td>1988-08-15 00:00:00.000000</td>\n",
       "      <td>Male</td>\n",
       "    </tr>\n",
       "    <tr>\n",
       "      <th>545004</th>\n",
       "      <td>FFD8C99E-9E01-E211-B5F5-78E7D18CFD3C</td>\n",
       "      <td>1988-08-15 00:00:00.000000</td>\n",
       "      <td>Male</td>\n",
       "    </tr>\n",
       "    <tr>\n",
       "      <th>545005</th>\n",
       "      <td>FFD8C99E-9E01-E211-B5F5-78E7D18CFD3C</td>\n",
       "      <td>1988-08-15 00:00:00.000000</td>\n",
       "      <td>Male</td>\n",
       "    </tr>\n",
       "  </tbody>\n",
       "</table>\n",
       "<p>545006 rows × 3 columns</p>\n",
       "</div>"
      ],
      "text/plain": [
       "                              FRDPersonnelID       FRDPersonnelStartDate  \\\n",
       "0       00D5C99E-9E01-E211-B5F5-78E7D18CFD3C  2008-04-28 00:00:00.000000   \n",
       "1       00D5C99E-9E01-E211-B5F5-78E7D18CFD3C  2008-04-28 00:00:00.000000   \n",
       "2       00D5C99E-9E01-E211-B5F5-78E7D18CFD3C  2008-04-28 00:00:00.000000   \n",
       "3       00D5C99E-9E01-E211-B5F5-78E7D18CFD3C  2008-04-28 00:00:00.000000   \n",
       "4       00D5C99E-9E01-E211-B5F5-78E7D18CFD3C  2008-04-28 00:00:00.000000   \n",
       "...                                      ...                         ...   \n",
       "545001  FFD8C99E-9E01-E211-B5F5-78E7D18CFD3C  1988-08-15 00:00:00.000000   \n",
       "545002  FFD8C99E-9E01-E211-B5F5-78E7D18CFD3C  1988-08-15 00:00:00.000000   \n",
       "545003  FFD8C99E-9E01-E211-B5F5-78E7D18CFD3C  1988-08-15 00:00:00.000000   \n",
       "545004  FFD8C99E-9E01-E211-B5F5-78E7D18CFD3C  1988-08-15 00:00:00.000000   \n",
       "545005  FFD8C99E-9E01-E211-B5F5-78E7D18CFD3C  1988-08-15 00:00:00.000000   \n",
       "\n",
       "       FRDPersonnelGender  \n",
       "0                    Male  \n",
       "1                    Male  \n",
       "2                    Male  \n",
       "3                    Male  \n",
       "4                    Male  \n",
       "...                   ...  \n",
       "545001               Male  \n",
       "545002               Male  \n",
       "545003               Male  \n",
       "545004               Male  \n",
       "545005               Male  \n",
       "\n",
       "[545006 rows x 3 columns]"
      ]
     },
     "execution_count": 28,
     "metadata": {},
     "output_type": "execute_result"
    }
   ],
   "source": [
    "outputPatient = sqldf(\"SELECT a.FRDPersonnelID, a.FRDPersonnelStartDate, a.FRDPersonnelGender  FROM dfPatient a JOIN (SELECT FRDPersonnelID, FRDPersonnelGender,FRDPersonnelStartDate, COUNT(*) FROM dfPatient GROUP BY FRDPersonnelID, FRDPersonnelStartDate HAVING count(*) > 1 ) b ON a.FRDPersonnelID = b.FRDPersonnelID ORDER BY a.FRDPersonnelID;\")\n",
    "outputPatient"
   ]
  },
  {
   "cell_type": "markdown",
   "metadata": {},
   "source": [
    "### Checking 'date' formats for confirmity"
   ]
  },
  {
   "cell_type": "code",
   "execution_count": 29,
   "metadata": {},
   "outputs": [
    {
     "data": {
      "text/html": [
       "<div>\n",
       "<style scoped>\n",
       "    .dataframe tbody tr th:only-of-type {\n",
       "        vertical-align: middle;\n",
       "    }\n",
       "\n",
       "    .dataframe tbody tr th {\n",
       "        vertical-align: top;\n",
       "    }\n",
       "\n",
       "    .dataframe thead th {\n",
       "        text-align: right;\n",
       "    }\n",
       "</style>\n",
       "<table border=\"1\" class=\"dataframe\">\n",
       "  <thead>\n",
       "    <tr style=\"text-align: right;\">\n",
       "      <th></th>\n",
       "      <th>PatientId</th>\n",
       "      <th>FRDPersonnelID</th>\n",
       "      <th>Shift</th>\n",
       "      <th>UnitId</th>\n",
       "      <th>FireStation</th>\n",
       "      <th>Battalion</th>\n",
       "      <th>PatientOutcome</th>\n",
       "      <th>PatientGender</th>\n",
       "      <th>CrewMemberRoles</th>\n",
       "      <th>DispatchTime</th>\n",
       "      <th>FRDPersonnelGender</th>\n",
       "      <th>FRDPersonnelStartDate</th>\n",
       "    </tr>\n",
       "  </thead>\n",
       "  <tbody>\n",
       "    <tr>\n",
       "      <th>0</th>\n",
       "      <td>479838</td>\n",
       "      <td>6ED7C99E-9E01-E211-B5F5-78E7D18CFD3C</td>\n",
       "      <td>A - Shift</td>\n",
       "      <td>M404</td>\n",
       "      <td>4</td>\n",
       "      <td>401</td>\n",
       "      <td>Standby (No Services Performed)</td>\n",
       "      <td>NaN</td>\n",
       "      <td>Primary Patient Caregiver-At Scene,Primary Pat...</td>\n",
       "      <td>2018-01-01 00:29:02</td>\n",
       "      <td>Male</td>\n",
       "      <td>1997-08-18</td>\n",
       "    </tr>\n",
       "    <tr>\n",
       "      <th>1</th>\n",
       "      <td>479838</td>\n",
       "      <td>F39A55F0-C619-E511-80CA-001DD8B71D38</td>\n",
       "      <td>A - Shift</td>\n",
       "      <td>M404</td>\n",
       "      <td>4</td>\n",
       "      <td>401</td>\n",
       "      <td>Standby (No Services Performed)</td>\n",
       "      <td>NaN</td>\n",
       "      <td>Driver-Transport,Other Patient Caregiver-At Scene</td>\n",
       "      <td>2018-01-01 00:29:02</td>\n",
       "      <td>Male</td>\n",
       "      <td>2007-02-19</td>\n",
       "    </tr>\n",
       "    <tr>\n",
       "      <th>2</th>\n",
       "      <td>479838</td>\n",
       "      <td>D6D3C99E-9E01-E211-B5F5-78E7D18CFD3C</td>\n",
       "      <td>A - Shift</td>\n",
       "      <td>M404</td>\n",
       "      <td>4</td>\n",
       "      <td>401</td>\n",
       "      <td>Standby (No Services Performed)</td>\n",
       "      <td>NaN</td>\n",
       "      <td>Intern/Student,Other Patient Caregiver-At Scen...</td>\n",
       "      <td>2018-01-01 00:29:02</td>\n",
       "      <td>Male</td>\n",
       "      <td>2008-08-18</td>\n",
       "    </tr>\n",
       "    <tr>\n",
       "      <th>3</th>\n",
       "      <td>479839</td>\n",
       "      <td>71D4C99E-9E01-E211-B5F5-78E7D18CFD3C</td>\n",
       "      <td>A - Shift</td>\n",
       "      <td>M401</td>\n",
       "      <td>1</td>\n",
       "      <td>402</td>\n",
       "      <td>No Treatment/Transport Required</td>\n",
       "      <td>NaN</td>\n",
       "      <td>Primary Patient Caregiver-At Scene,Primary Pat...</td>\n",
       "      <td>2018-01-01 00:40:54</td>\n",
       "      <td>Male</td>\n",
       "      <td>2011-10-24</td>\n",
       "    </tr>\n",
       "    <tr>\n",
       "      <th>4</th>\n",
       "      <td>479839</td>\n",
       "      <td>F9D4C99E-9E01-E211-B5F5-78E7D18CFD3C</td>\n",
       "      <td>A - Shift</td>\n",
       "      <td>M401</td>\n",
       "      <td>1</td>\n",
       "      <td>402</td>\n",
       "      <td>No Treatment/Transport Required</td>\n",
       "      <td>NaN</td>\n",
       "      <td>Driver-Response,Driver-Transport</td>\n",
       "      <td>2018-01-01 00:40:54</td>\n",
       "      <td>Male</td>\n",
       "      <td>2012-02-27</td>\n",
       "    </tr>\n",
       "    <tr>\n",
       "      <th>...</th>\n",
       "      <td>...</td>\n",
       "      <td>...</td>\n",
       "      <td>...</td>\n",
       "      <td>...</td>\n",
       "      <td>...</td>\n",
       "      <td>...</td>\n",
       "      <td>...</td>\n",
       "      <td>...</td>\n",
       "      <td>...</td>\n",
       "      <td>...</td>\n",
       "      <td>...</td>\n",
       "      <td>...</td>\n",
       "    </tr>\n",
       "    <tr>\n",
       "      <th>545055</th>\n",
       "      <td>1465126</td>\n",
       "      <td>54D6C99E-9E01-E211-B5F5-78E7D18CFD3C</td>\n",
       "      <td>B - Shift</td>\n",
       "      <td>M441</td>\n",
       "      <td>41</td>\n",
       "      <td>407</td>\n",
       "      <td>Patient Refusal  (AMA)</td>\n",
       "      <td>Male</td>\n",
       "      <td>Driver-Response,Driver-Transport,Other Patient...</td>\n",
       "      <td>2021-02-03 12:32:08</td>\n",
       "      <td>Male</td>\n",
       "      <td>2007-06-11</td>\n",
       "    </tr>\n",
       "    <tr>\n",
       "      <th>545056</th>\n",
       "      <td>1465127</td>\n",
       "      <td>3D301E03-D619-E511-80CA-001DD8B71D38</td>\n",
       "      <td>B - Shift</td>\n",
       "      <td>M423</td>\n",
       "      <td>23</td>\n",
       "      <td>404</td>\n",
       "      <td>Treated &amp; Transported</td>\n",
       "      <td>Male</td>\n",
       "      <td>Primary Patient Caregiver-At Scene,Primary Pat...</td>\n",
       "      <td>2021-02-03 14:13:14</td>\n",
       "      <td>Male</td>\n",
       "      <td>2015-01-12</td>\n",
       "    </tr>\n",
       "    <tr>\n",
       "      <th>545057</th>\n",
       "      <td>1465127</td>\n",
       "      <td>C3462F9F-F913-E411-A585-F305C4522FCB</td>\n",
       "      <td>B - Shift</td>\n",
       "      <td>M423</td>\n",
       "      <td>23</td>\n",
       "      <td>404</td>\n",
       "      <td>Treated &amp; Transported</td>\n",
       "      <td>Male</td>\n",
       "      <td>Driver-Response,Driver-Transport,Other Patient...</td>\n",
       "      <td>2021-02-03 14:13:14</td>\n",
       "      <td>Male</td>\n",
       "      <td>2014-01-13</td>\n",
       "    </tr>\n",
       "    <tr>\n",
       "      <th>545058</th>\n",
       "      <td>1465128</td>\n",
       "      <td>15ECF548-F692-E211-A596-78E7D18C3D20</td>\n",
       "      <td>B - Shift</td>\n",
       "      <td>M425</td>\n",
       "      <td>25</td>\n",
       "      <td>401</td>\n",
       "      <td>Treated &amp; Transported</td>\n",
       "      <td>Male</td>\n",
       "      <td>Primary Patient Caregiver-Transport,Primary Pa...</td>\n",
       "      <td>2021-02-03 14:17:59</td>\n",
       "      <td>Female</td>\n",
       "      <td>2012-09-24</td>\n",
       "    </tr>\n",
       "    <tr>\n",
       "      <th>545059</th>\n",
       "      <td>1465128</td>\n",
       "      <td>8CD8C99E-9E01-E211-B5F5-78E7D18CFD3C</td>\n",
       "      <td>B - Shift</td>\n",
       "      <td>M425</td>\n",
       "      <td>25</td>\n",
       "      <td>401</td>\n",
       "      <td>Treated &amp; Transported</td>\n",
       "      <td>Male</td>\n",
       "      <td>Driver-Transport,Driver-Response,Other Patient...</td>\n",
       "      <td>2021-02-03 14:17:59</td>\n",
       "      <td>Male</td>\n",
       "      <td>2012-02-27</td>\n",
       "    </tr>\n",
       "  </tbody>\n",
       "</table>\n",
       "<p>545060 rows × 12 columns</p>\n",
       "</div>"
      ],
      "text/plain": [
       "        PatientId                        FRDPersonnelID      Shift UnitId  \\\n",
       "0          479838  6ED7C99E-9E01-E211-B5F5-78E7D18CFD3C  A - Shift   M404   \n",
       "1          479838  F39A55F0-C619-E511-80CA-001DD8B71D38  A - Shift   M404   \n",
       "2          479838  D6D3C99E-9E01-E211-B5F5-78E7D18CFD3C  A - Shift   M404   \n",
       "3          479839  71D4C99E-9E01-E211-B5F5-78E7D18CFD3C  A - Shift   M401   \n",
       "4          479839  F9D4C99E-9E01-E211-B5F5-78E7D18CFD3C  A - Shift   M401   \n",
       "...           ...                                   ...        ...    ...   \n",
       "545055    1465126  54D6C99E-9E01-E211-B5F5-78E7D18CFD3C  B - Shift   M441   \n",
       "545056    1465127  3D301E03-D619-E511-80CA-001DD8B71D38  B - Shift   M423   \n",
       "545057    1465127  C3462F9F-F913-E411-A585-F305C4522FCB  B - Shift   M423   \n",
       "545058    1465128  15ECF548-F692-E211-A596-78E7D18C3D20  B - Shift   M425   \n",
       "545059    1465128  8CD8C99E-9E01-E211-B5F5-78E7D18CFD3C  B - Shift   M425   \n",
       "\n",
       "        FireStation  Battalion                   PatientOutcome PatientGender  \\\n",
       "0                 4        401  Standby (No Services Performed)           NaN   \n",
       "1                 4        401  Standby (No Services Performed)           NaN   \n",
       "2                 4        401  Standby (No Services Performed)           NaN   \n",
       "3                 1        402  No Treatment/Transport Required           NaN   \n",
       "4                 1        402  No Treatment/Transport Required           NaN   \n",
       "...             ...        ...                              ...           ...   \n",
       "545055           41        407           Patient Refusal  (AMA)          Male   \n",
       "545056           23        404           Treated & Transported           Male   \n",
       "545057           23        404           Treated & Transported           Male   \n",
       "545058           25        401           Treated & Transported           Male   \n",
       "545059           25        401           Treated & Transported           Male   \n",
       "\n",
       "                                          CrewMemberRoles        DispatchTime  \\\n",
       "0       Primary Patient Caregiver-At Scene,Primary Pat... 2018-01-01 00:29:02   \n",
       "1       Driver-Transport,Other Patient Caregiver-At Scene 2018-01-01 00:29:02   \n",
       "2       Intern/Student,Other Patient Caregiver-At Scen... 2018-01-01 00:29:02   \n",
       "3       Primary Patient Caregiver-At Scene,Primary Pat... 2018-01-01 00:40:54   \n",
       "4                        Driver-Response,Driver-Transport 2018-01-01 00:40:54   \n",
       "...                                                   ...                 ...   \n",
       "545055  Driver-Response,Driver-Transport,Other Patient... 2021-02-03 12:32:08   \n",
       "545056  Primary Patient Caregiver-At Scene,Primary Pat... 2021-02-03 14:13:14   \n",
       "545057  Driver-Response,Driver-Transport,Other Patient... 2021-02-03 14:13:14   \n",
       "545058  Primary Patient Caregiver-Transport,Primary Pa... 2021-02-03 14:17:59   \n",
       "545059  Driver-Transport,Driver-Response,Other Patient... 2021-02-03 14:17:59   \n",
       "\n",
       "       FRDPersonnelGender FRDPersonnelStartDate  \n",
       "0                    Male            1997-08-18  \n",
       "1                    Male            2007-02-19  \n",
       "2                    Male            2008-08-18  \n",
       "3                    Male            2011-10-24  \n",
       "4                    Male            2012-02-27  \n",
       "...                   ...                   ...  \n",
       "545055               Male            2007-06-11  \n",
       "545056               Male            2015-01-12  \n",
       "545057               Male            2014-01-13  \n",
       "545058             Female            2012-09-24  \n",
       "545059               Male            2012-02-27  \n",
       "\n",
       "[545060 rows x 12 columns]"
      ]
     },
     "execution_count": 29,
     "metadata": {},
     "output_type": "execute_result"
    }
   ],
   "source": [
    "##Ignoring an invalid 'DispatchTime' value \n",
    "##dfPatient['DispatchTime'] = pd.to_datetime(dfPatient['DispatchTime'], errors='ignore')\n",
    "\n",
    "##Changing an invalid 'DispatchTime' value to NaN\n",
    "dfPatient['DispatchTime'] = pd.to_datetime(dfPatient['DispatchTime'], errors='coerce')\n",
    "dfPatient\n"
   ]
  },
  {
   "cell_type": "markdown",
   "metadata": {},
   "source": [
    "#### Finding the count of non-NA value across the row axis\n",
    "Syntax: DataFrame.count(axis=0, level=None, numeric_only=False)\n",
    "<BR>Parameters:\n",
    "<BR>axis : 0 or ‘index’ for row-wise, 1 or ‘columns’ for column-wise\n",
    "<BR>level : If the axis is a MultiIndex (hierarchical), count along a particular level, collapsing into a DataFrame\n",
    "<BR>numeric_only : Include only float, int, boolean data"
   ]
  },
  {
   "cell_type": "code",
   "execution_count": 30,
   "metadata": {},
   "outputs": [
    {
     "data": {
      "text/plain": [
       "PatientId                545060\n",
       "FRDPersonnelID           545059\n",
       "Shift                    545060\n",
       "UnitId                   545060\n",
       "FireStation              545060\n",
       "Battalion                545060\n",
       "PatientOutcome           545058\n",
       "PatientGender            413976\n",
       "CrewMemberRoles          545060\n",
       "DispatchTime             542791\n",
       "FRDPersonnelGender       543800\n",
       "FRDPersonnelStartDate    543800\n",
       "dtype: int64"
      ]
     },
     "execution_count": 30,
     "metadata": {},
     "output_type": "execute_result"
    }
   ],
   "source": [
    "##find the number of non-NA/null value across the row axis in 'dfPatient' dataframe\n",
    "dfPatient.count(axis = 0) "
   ]
  },
  {
   "cell_type": "code",
   "execution_count": 31,
   "metadata": {},
   "outputs": [
    {
     "name": "stdout",
     "output_type": "stream",
     "text": [
      " \n",
      "Count total NaN at each column in a DataFrame : \n",
      "\n",
      " PatientId                     0\n",
      "FRDPersonnelID                1\n",
      "Shift                         0\n",
      "UnitId                        0\n",
      "FireStation                   0\n",
      "Battalion                     0\n",
      "PatientOutcome                2\n",
      "PatientGender            131084\n",
      "CrewMemberRoles               0\n",
      "DispatchTime               2269\n",
      "FRDPersonnelGender         1260\n",
      "FRDPersonnelStartDate      1260\n",
      "dtype: int64\n"
     ]
    }
   ],
   "source": [
    "# Count total NaN at each column in the DataFrame \n",
    "print(\" \\nCount total NaN at each column in a DataFrame : \\n\\n\", dfPatient.isnull().sum()) "
   ]
  },
  {
   "cell_type": "markdown",
   "metadata": {},
   "source": [
    "So, we can see datetime column 'DispatchTime' has '2269' NaN values."
   ]
  }
 ],
 "metadata": {
  "kernelspec": {
   "display_name": "Python 3",
   "language": "python",
   "name": "python3"
  },
  "language_info": {
   "codemirror_mode": {
    "name": "ipython",
    "version": 3
   },
   "file_extension": ".py",
   "mimetype": "text/x-python",
   "name": "python",
   "nbconvert_exporter": "python",
   "pygments_lexer": "ipython3",
   "version": "3.8.6"
  }
 },
 "nbformat": 4,
 "nbformat_minor": 4
}
