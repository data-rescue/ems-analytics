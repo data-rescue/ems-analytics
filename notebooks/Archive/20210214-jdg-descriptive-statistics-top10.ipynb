{
 "cells": [
  {
   "cell_type": "markdown",
   "metadata": {},
   "source": [
    "# Single Column Top 10 Table\n",
    "This script can be run on a single column of any dataset. It lists the top 10 values in the column. This is being used instead of a table or pie chart for all the values since displaying multiple 10s of values would not be useful. This script was written for the following columns:\n",
    "1. Procedures(Procedure_Performed_Description)\n",
    "2. Medications(Medication_Given_Description\n",
    "\n",
    "_Author: Jared Gauntt_"
   ]
  },
  {
   "cell_type": "markdown",
   "metadata": {},
   "source": [
    "## Prepare for Analysis"
   ]
  },
  {
   "cell_type": "markdown",
   "metadata": {},
   "source": [
    "### Set Parameters"
   ]
  },
  {
   "cell_type": "code",
   "execution_count": 1,
   "metadata": {},
   "outputs": [],
   "source": [
    "localFolder='C:/Users/jared/Documents/My Files/DAEN 690/Analysis/'\n",
    "fileName='DAEN 690 2021-02-14 V2.xlsx'\n",
    "sheetName='Procedures'\n",
    "columnOfInterest='Procedure_Performed_Description'"
   ]
  },
  {
   "cell_type": "markdown",
   "metadata": {},
   "source": [
    "### Import Libraries"
   ]
  },
  {
   "cell_type": "code",
   "execution_count": 2,
   "metadata": {},
   "outputs": [],
   "source": [
    "import pandas as pd"
   ]
  },
  {
   "cell_type": "markdown",
   "metadata": {},
   "source": [
    "### Import From Excel Spreadsheet"
   ]
  },
  {
   "cell_type": "code",
   "execution_count": 3,
   "metadata": {},
   "outputs": [
    {
     "name": "stdout",
     "output_type": "stream",
     "text": [
      "Original Number of Rows = 171515\n"
     ]
    }
   ],
   "source": [
    "#Import single tab\n",
    "df=pd.read_excel(localFolder+fileName,sheet_name=sheetName)\n",
    "print('Original Number of Rows = '+str(len(df)))"
   ]
  },
  {
   "cell_type": "markdown",
   "metadata": {},
   "source": [
    "### Remove Duplicate Rows & Reduce To Column Of Interest"
   ]
  },
  {
   "cell_type": "code",
   "execution_count": 4,
   "metadata": {},
   "outputs": [
    {
     "name": "stdout",
     "output_type": "stream",
     "text": [
      "Number of Unique Rows in Dataset = 150524\n"
     ]
    }
   ],
   "source": [
    "#Determine which rows are duplicates (True=duplicate, False=first instance of row)\n",
    "duplicateRowIdentifier=df.duplicated()\n",
    "\n",
    "#Reduce to the rows that were not flagged as duplicates\n",
    "df=df.loc[duplicateRowIdentifier==False,:]\n",
    "\n",
    "#Reduce to column of interest\n",
    "ds=df[columnOfInterest]\n",
    "\n",
    "#Confirm\n",
    "print('Number of Unique Rows in Dataset = '+str(len(ds)))"
   ]
  },
  {
   "cell_type": "markdown",
   "metadata": {},
   "source": [
    "## Analysis"
   ]
  },
  {
   "cell_type": "markdown",
   "metadata": {},
   "source": [
    "### Count Number of Instances of Each Unique Value"
   ]
  },
  {
   "cell_type": "code",
   "execution_count": 5,
   "metadata": {},
   "outputs": [],
   "source": [
    "#Create data frame for counting \n",
    "dfCount=pd.DataFrame(ds.unique(),columns=[columnOfInterest])\n",
    "dfCount['Number of Rows']=0\n",
    "\n",
    "#Count the number of rows per each value\n",
    "for index in dfCount.index:\n",
    "    dfCount.loc[index,'Number of Rows']=len(ds[ds==dfCount.loc[index,columnOfInterest]])\n",
    "dfCount.sort_values(by='Number of Rows',ascending=False,inplace=True)\n",
    "dfCount.reset_index(drop=True,inplace=True)\n",
    "\n",
    "#Calculate the percentage of rows per each value\n",
    "dfCount['Percent of Rows']=round(dfCount['Number of Rows']/len(ds)*100,2)"
   ]
  },
  {
   "cell_type": "markdown",
   "metadata": {},
   "source": [
    "### Visualizations"
   ]
  },
  {
   "cell_type": "code",
   "execution_count": 6,
   "metadata": {},
   "outputs": [
    {
     "name": "stdout",
     "output_type": "stream",
     "text": [
      "Percent of Rows With Top 10 Values = 89.85\n"
     ]
    },
    {
     "data": {
      "text/html": [
       "<div>\n",
       "<style scoped>\n",
       "    .dataframe tbody tr th:only-of-type {\n",
       "        vertical-align: middle;\n",
       "    }\n",
       "\n",
       "    .dataframe tbody tr th {\n",
       "        vertical-align: top;\n",
       "    }\n",
       "\n",
       "    .dataframe thead th {\n",
       "        text-align: right;\n",
       "    }\n",
       "</style>\n",
       "<table border=\"1\" class=\"dataframe\">\n",
       "  <thead>\n",
       "    <tr style=\"text-align: right;\">\n",
       "      <th></th>\n",
       "      <th>Procedure_Performed_Description</th>\n",
       "      <th>Number of Rows</th>\n",
       "      <th>Percent of Rows</th>\n",
       "    </tr>\n",
       "  </thead>\n",
       "  <tbody>\n",
       "    <tr>\n",
       "      <th>0</th>\n",
       "      <td>IV Start - Extremity Vein (arm or leg)</td>\n",
       "      <td>57621</td>\n",
       "      <td>38.28</td>\n",
       "    </tr>\n",
       "    <tr>\n",
       "      <th>1</th>\n",
       "      <td>CV - ECG - 12 Lead Obtained</td>\n",
       "      <td>53188</td>\n",
       "      <td>35.34</td>\n",
       "    </tr>\n",
       "    <tr>\n",
       "      <th>2</th>\n",
       "      <td>MS - Cervical Spinal Restriction of Motion</td>\n",
       "      <td>4708</td>\n",
       "      <td>3.13</td>\n",
       "    </tr>\n",
       "    <tr>\n",
       "      <th>3</th>\n",
       "      <td>Assess - Assessment of Patient</td>\n",
       "      <td>4212</td>\n",
       "      <td>2.80</td>\n",
       "    </tr>\n",
       "    <tr>\n",
       "      <th>4</th>\n",
       "      <td>Assess - Blood Glucose Level (BGL)</td>\n",
       "      <td>3521</td>\n",
       "      <td>2.34</td>\n",
       "    </tr>\n",
       "    <tr>\n",
       "      <th>5</th>\n",
       "      <td>CV - ECG - Limb Lead Monitoring</td>\n",
       "      <td>3120</td>\n",
       "      <td>2.07</td>\n",
       "    </tr>\n",
       "    <tr>\n",
       "      <th>6</th>\n",
       "      <td>Assess - Capnography (ETCO2)</td>\n",
       "      <td>2886</td>\n",
       "      <td>1.92</td>\n",
       "    </tr>\n",
       "    <tr>\n",
       "      <th>7</th>\n",
       "      <td>Electrocardiographic monitoring</td>\n",
       "      <td>2444</td>\n",
       "      <td>1.62</td>\n",
       "    </tr>\n",
       "    <tr>\n",
       "      <th>8</th>\n",
       "      <td>IO Start - Intraosseous Access</td>\n",
       "      <td>1799</td>\n",
       "      <td>1.20</td>\n",
       "    </tr>\n",
       "    <tr>\n",
       "      <th>9</th>\n",
       "      <td>MS - Full Spinal Restriction of Motion</td>\n",
       "      <td>1726</td>\n",
       "      <td>1.15</td>\n",
       "    </tr>\n",
       "  </tbody>\n",
       "</table>\n",
       "</div>"
      ],
      "text/plain": [
       "              Procedure_Performed_Description  Number of Rows  Percent of Rows\n",
       "0      IV Start - Extremity Vein (arm or leg)           57621            38.28\n",
       "1                 CV - ECG - 12 Lead Obtained           53188            35.34\n",
       "2  MS - Cervical Spinal Restriction of Motion            4708             3.13\n",
       "3              Assess - Assessment of Patient            4212             2.80\n",
       "4          Assess - Blood Glucose Level (BGL)            3521             2.34\n",
       "5             CV - ECG - Limb Lead Monitoring            3120             2.07\n",
       "6                Assess - Capnography (ETCO2)            2886             1.92\n",
       "7             Electrocardiographic monitoring            2444             1.62\n",
       "8              IO Start - Intraosseous Access            1799             1.20\n",
       "9      MS - Full Spinal Restriction of Motion            1726             1.15"
      ]
     },
     "execution_count": 6,
     "metadata": {},
     "output_type": "execute_result"
    }
   ],
   "source": [
    "#Calculate percentage of rows covered by top 10 values\n",
    "print('Percent of Rows With Top 10 Values = '+str(round(dfCount.iloc[0:10,2].sum(),2)))\n",
    "\n",
    "#Print top 10\n",
    "dfCount.iloc[0:10,:]"
   ]
  }
 ],
 "metadata": {
  "kernelspec": {
   "display_name": "Python 3",
   "language": "python",
   "name": "python3"
  },
  "language_info": {
   "codemirror_mode": {
    "name": "ipython",
    "version": 3
   },
   "file_extension": ".py",
   "mimetype": "text/x-python",
   "name": "python",
   "nbconvert_exporter": "python",
   "pygments_lexer": "ipython3",
   "version": "3.7.7"
  }
 },
 "nbformat": 4,
 "nbformat_minor": 4
}
