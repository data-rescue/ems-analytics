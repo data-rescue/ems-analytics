{
 "cells": [
  {
   "cell_type": "markdown",
   "id": "divine-helicopter",
   "metadata": {},
   "source": [
    "### Measuring the correlation between categorical variables Provider Tenure and  Medication Given"
   ]
  },
  {
   "cell_type": "markdown",
   "id": "considerable-destiny",
   "metadata": {},
   "source": [
    "This notebook analyzes and describes relationship that exists( or not exist) between provider tenure and EMS treatement( Medication Given) to the patient. The script reads (primarily) the intermediate dataset -- 'MedicationsPatients' preapared by our team based on datasets provided by our project partner.\n",
    "\n",
    "Initially, in this classification situation, catogorical target variable 'Medication_Given' and categorical predicator 'Provider's Tenure'(in months & years), are analyzed and the strength of relationship between them is measured using <B>Chi-square test<B>.\n",
    "    \n",
    "Then the more details analysis of the relationship between provider's tenure and Medication Given is done including various graphical/visual representations"
   ]
  },
  {
   "cell_type": "markdown",
   "id": "apart-kansas",
   "metadata": {},
   "source": [
    "<b>Chi-square Test of Independence:<b>\n",
    "<p>The chi-square test of independence is used to determine whether there is an association between two or more categorical variables. In our case, we would like to test whether the Tenure of the provider has any association with Medication they administered."
   ]
  },
  {
   "cell_type": "markdown",
   "id": "confident-county",
   "metadata": {},
   "source": [
    "##### This note book uses Intermediate Datasets -- MedicationsPatients for analytics"
   ]
  },
  {
   "cell_type": "code",
   "execution_count": 1,
   "id": "contained-silence",
   "metadata": {},
   "outputs": [],
   "source": [
    "# import the libraries needed\n",
    "import pandas as pd\n",
    "import numpy as np\n",
    "import os, time\n",
    "\n",
    "# Used for visualizations\n",
    "import matplotlib.pyplot as plt\n",
    "import seaborn as sns"
   ]
  },
  {
   "cell_type": "code",
   "execution_count": 2,
   "id": "honey-labor",
   "metadata": {},
   "outputs": [
    {
     "name": "stdout",
     "output_type": "stream",
     "text": [
      "C:\\github_anup\\ems-analytics\\notebooks\n",
      "The file was read in 0 minutes and 0 seconds.\n",
      "(62881, 11)\n"
     ]
    }
   ],
   "source": [
    "print(os.getcwd())\n",
    "readStart=time.time()\n",
    "\n",
    "## Reading dataset\n",
    "columnsToUse=['PatientId','PatientGender','PatientGenderCode',\n",
    "            'FRDPersonnelID','FRDPersonnelGender','ProviderGenderCode',\n",
    "            'Medication_Given_RXCUI_Code','Medication_Given_Description','TenureMonths','DispatchTime', 'FRDPersonnelStartDate']\n",
    "\n",
    "dfMedPatient = pd.read_csv ('../data/02_intermediate/MedicationsPatients-20210225-ems-raw-v04.csv',usecols=columnsToUse)[columnsToUse]\n",
    "\n",
    "# Stop the clock and calculate read time\n",
    "readStop=time.time()\n",
    "readTime=readStop-readStart\n",
    "readMin=np.floor(readTime/60)\n",
    "readSec=np.floor(readTime-(readMin*60))\n",
    "print(\"The file was read in {0:.0f} minutes and {1:.0f} seconds.\".format(readMin,readSec))\n",
    "\n",
    "print(dfMedPatient.shape)"
   ]
  },
  {
   "cell_type": "code",
   "execution_count": 3,
   "id": "municipal-integral",
   "metadata": {},
   "outputs": [
    {
     "data": {
      "text/plain": [
       "Index(['PatientId', 'PatientGender', 'PatientGenderCode', 'FRDPersonnelID',\n",
       "       'FRDPersonnelGender', 'ProviderGenderCode',\n",
       "       'Medication_Given_RXCUI_Code', 'Medication_Given_Description',\n",
       "       'TenureMonths', 'DispatchTime', 'FRDPersonnelStartDate'],\n",
       "      dtype='object')"
      ]
     },
     "execution_count": 3,
     "metadata": {},
     "output_type": "execute_result"
    }
   ],
   "source": [
    "# list the columns in the dataframe\n",
    "dfMedPatient.columns"
   ]
  },
  {
   "cell_type": "markdown",
   "id": "recorded-designer",
   "metadata": {},
   "source": [
    "##### Remove records that have nulls in the Medication_Given_RXCUI_Code and Medication_Given_Description Column for this question"
   ]
  },
  {
   "cell_type": "code",
   "execution_count": 4,
   "id": "received-heather",
   "metadata": {},
   "outputs": [
    {
     "name": "stdout",
     "output_type": "stream",
     "text": [
      "PatientId                        0\n",
      "PatientGender                   32\n",
      "PatientGenderCode                0\n",
      "FRDPersonnelID                   0\n",
      "FRDPersonnelGender               0\n",
      "ProviderGenderCode               0\n",
      "Medication_Given_RXCUI_Code      6\n",
      "Medication_Given_Description     6\n",
      "TenureMonths                     0\n",
      "DispatchTime                     0\n",
      "FRDPersonnelStartDate            0\n",
      "Name: Number Rows With Nulls, dtype: int64\n"
     ]
    }
   ],
   "source": [
    "#Calculate the number of null values per columns\n",
    "dsNumNull=dfMedPatient.isnull().sum()\n",
    "dsNumNull.name='Number Rows With Nulls'\n",
    "print(dsNumNull)"
   ]
  },
  {
   "cell_type": "code",
   "execution_count": 5,
   "id": "revolutionary-source",
   "metadata": {},
   "outputs": [
    {
     "data": {
      "text/html": [
       "<div>\n",
       "<style scoped>\n",
       "    .dataframe tbody tr th:only-of-type {\n",
       "        vertical-align: middle;\n",
       "    }\n",
       "\n",
       "    .dataframe tbody tr th {\n",
       "        vertical-align: top;\n",
       "    }\n",
       "\n",
       "    .dataframe thead th {\n",
       "        text-align: right;\n",
       "    }\n",
       "</style>\n",
       "<table border=\"1\" class=\"dataframe\">\n",
       "  <thead>\n",
       "    <tr style=\"text-align: right;\">\n",
       "      <th></th>\n",
       "      <th>PatientId</th>\n",
       "      <th>PatientGender</th>\n",
       "      <th>PatientGenderCode</th>\n",
       "      <th>FRDPersonnelID</th>\n",
       "      <th>FRDPersonnelGender</th>\n",
       "      <th>ProviderGenderCode</th>\n",
       "      <th>Medication_Given_RXCUI_Code</th>\n",
       "      <th>Medication_Given_Description</th>\n",
       "      <th>TenureMonths</th>\n",
       "      <th>DispatchTime</th>\n",
       "      <th>FRDPersonnelStartDate</th>\n",
       "    </tr>\n",
       "  </thead>\n",
       "  <tbody>\n",
       "    <tr>\n",
       "      <th>1313</th>\n",
       "      <td>500147</td>\n",
       "      <td>Male</td>\n",
       "      <td>2</td>\n",
       "      <td>80D2C99E-9E01-E211-B5F5-78E7D18CFD3C</td>\n",
       "      <td>Male</td>\n",
       "      <td>2</td>\n",
       "      <td>NaN</td>\n",
       "      <td>NaN</td>\n",
       "      <td>245</td>\n",
       "      <td>2018-01-22 16:03:54</td>\n",
       "      <td>1997-08-18</td>\n",
       "    </tr>\n",
       "    <tr>\n",
       "      <th>7638</th>\n",
       "      <td>600712</td>\n",
       "      <td>Female</td>\n",
       "      <td>1</td>\n",
       "      <td>A5D5C99E-9E01-E211-B5F5-78E7D18CFD3C</td>\n",
       "      <td>Female</td>\n",
       "      <td>1</td>\n",
       "      <td>NaN</td>\n",
       "      <td>NaN</td>\n",
       "      <td>82</td>\n",
       "      <td>2018-05-17 20:59:30</td>\n",
       "      <td>2011-07-11</td>\n",
       "    </tr>\n",
       "    <tr>\n",
       "      <th>9938</th>\n",
       "      <td>637931</td>\n",
       "      <td>Female</td>\n",
       "      <td>1</td>\n",
       "      <td>4B7A3FE8-2D9E-E311-B3F8-AE437D699481</td>\n",
       "      <td>Male</td>\n",
       "      <td>2</td>\n",
       "      <td>NaN</td>\n",
       "      <td>NaN</td>\n",
       "      <td>53</td>\n",
       "      <td>2018-06-27 18:46:34</td>\n",
       "      <td>2014-01-13</td>\n",
       "    </tr>\n",
       "    <tr>\n",
       "      <th>20122</th>\n",
       "      <td>804502</td>\n",
       "      <td>Male</td>\n",
       "      <td>2</td>\n",
       "      <td>FAD5C99E-9E01-E211-B5F5-78E7D18CFD3C</td>\n",
       "      <td>Male</td>\n",
       "      <td>2</td>\n",
       "      <td>NaN</td>\n",
       "      <td>NaN</td>\n",
       "      <td>93</td>\n",
       "      <td>2019-01-02 14:04:02</td>\n",
       "      <td>2011-03-28</td>\n",
       "    </tr>\n",
       "    <tr>\n",
       "      <th>29899</th>\n",
       "      <td>969263</td>\n",
       "      <td>Male</td>\n",
       "      <td>2</td>\n",
       "      <td>35CA45A3-9C25-4E4D-957F-2EA9E40B5974</td>\n",
       "      <td>Male</td>\n",
       "      <td>2</td>\n",
       "      <td>NaN</td>\n",
       "      <td>NaN</td>\n",
       "      <td>40</td>\n",
       "      <td>2019-07-02 16:04:48</td>\n",
       "      <td>2016-02-08</td>\n",
       "    </tr>\n",
       "    <tr>\n",
       "      <th>40585</th>\n",
       "      <td>1149724</td>\n",
       "      <td>Male</td>\n",
       "      <td>2</td>\n",
       "      <td>4BD3C99E-9E01-E211-B5F5-78E7D18CFD3C</td>\n",
       "      <td>Male</td>\n",
       "      <td>2</td>\n",
       "      <td>NaN</td>\n",
       "      <td>NaN</td>\n",
       "      <td>179</td>\n",
       "      <td>2020-01-13 10:56:09</td>\n",
       "      <td>2005-02-05</td>\n",
       "    </tr>\n",
       "  </tbody>\n",
       "</table>\n",
       "</div>"
      ],
      "text/plain": [
       "       PatientId PatientGender  PatientGenderCode  \\\n",
       "1313      500147          Male                  2   \n",
       "7638      600712        Female                  1   \n",
       "9938      637931        Female                  1   \n",
       "20122     804502          Male                  2   \n",
       "29899     969263          Male                  2   \n",
       "40585    1149724          Male                  2   \n",
       "\n",
       "                             FRDPersonnelID FRDPersonnelGender  \\\n",
       "1313   80D2C99E-9E01-E211-B5F5-78E7D18CFD3C               Male   \n",
       "7638   A5D5C99E-9E01-E211-B5F5-78E7D18CFD3C             Female   \n",
       "9938   4B7A3FE8-2D9E-E311-B3F8-AE437D699481               Male   \n",
       "20122  FAD5C99E-9E01-E211-B5F5-78E7D18CFD3C               Male   \n",
       "29899  35CA45A3-9C25-4E4D-957F-2EA9E40B5974               Male   \n",
       "40585  4BD3C99E-9E01-E211-B5F5-78E7D18CFD3C               Male   \n",
       "\n",
       "       ProviderGenderCode  Medication_Given_RXCUI_Code  \\\n",
       "1313                    2                          NaN   \n",
       "7638                    1                          NaN   \n",
       "9938                    2                          NaN   \n",
       "20122                   2                          NaN   \n",
       "29899                   2                          NaN   \n",
       "40585                   2                          NaN   \n",
       "\n",
       "      Medication_Given_Description  TenureMonths         DispatchTime  \\\n",
       "1313                           NaN           245  2018-01-22 16:03:54   \n",
       "7638                           NaN            82  2018-05-17 20:59:30   \n",
       "9938                           NaN            53  2018-06-27 18:46:34   \n",
       "20122                          NaN            93  2019-01-02 14:04:02   \n",
       "29899                          NaN            40  2019-07-02 16:04:48   \n",
       "40585                          NaN           179  2020-01-13 10:56:09   \n",
       "\n",
       "      FRDPersonnelStartDate  \n",
       "1313             1997-08-18  \n",
       "7638             2011-07-11  \n",
       "9938             2014-01-13  \n",
       "20122            2011-03-28  \n",
       "29899            2016-02-08  \n",
       "40585            2005-02-05  "
      ]
     },
     "execution_count": 5,
     "metadata": {},
     "output_type": "execute_result"
    }
   ],
   "source": [
    "## Records with Null values in columns: Medication_Given_RXCUI_Code,Medication_Given_Description \n",
    "dfMedPatient[dfMedPatient.Medication_Given_Description.isnull()]"
   ]
  },
  {
   "cell_type": "code",
   "execution_count": 6,
   "id": "steady-evidence",
   "metadata": {},
   "outputs": [
    {
     "name": "stdout",
     "output_type": "stream",
     "text": [
      "dfMedPatient  -> 62881\n",
      "dfMedPatient2 -> 62875\n"
     ]
    }
   ],
   "source": [
    "## Removing rows with Null values\n",
    "dfMedPatient2=dfMedPatient.dropna(axis=0,subset=['Medication_Given_Description'])\n",
    "print(\"dfMedPatient  -> {}\\ndfMedPatient2 -> {}\".format(len(dfMedPatient),len(dfMedPatient2)))"
   ]
  },
  {
   "cell_type": "code",
   "execution_count": 7,
   "id": "younger-artwork",
   "metadata": {},
   "outputs": [],
   "source": [
    "## Assining cleaned dataframe for further analysis, after dropping 6 records\n",
    "dfMedPatient = dfMedPatient2"
   ]
  },
  {
   "cell_type": "code",
   "execution_count": 8,
   "id": "collect-quality",
   "metadata": {},
   "outputs": [
    {
     "name": "stdout",
     "output_type": "stream",
     "text": [
      "Medication Given( Unique ) =\n",
      " ['Oxygen' 'Ondansetron (Zofran)' 'Normal saline'\n",
      " 'Acetylsalicylic Acid (Aspirin, ASA) ' 'Fentanyl Citrate (Sublimaze) '\n",
      " 'Nitroglycerin' 'Sodium Bicarbonate (8.4%) ' 'Dextrose 50 % (D50)'\n",
      " 'Ipratropium Bromide(Atrovent)' 'Albuterol (Ventolin) '\n",
      " 'Dextrose 10 % (D10)' 'Naloxone (Narcan)' 'Midazolam (Versed)'\n",
      " 'Ketamine (Ketalar)' 'Diphenhydramine (Benadryl)'\n",
      " 'Methylprednisolone (Solu-Medrol) ' 'Magnesium Sulfate (50%) '\n",
      " 'Glucose (Oral)' 'Epinephrine 0.1 MG/ML (1:10,000)'\n",
      " 'Amiodarone (Cordarone)' 'Glucagon (Glucagen)'\n",
      " 'Morphine (Morphine Sulfate) ' 'Atropine (Atropine Sulfate) '\n",
      " 'Adenosine (Adenocard)' 'Epinephrine 1 MG/ML (1:1,000)'\n",
      " 'Lidocaine (2%) (Xylocaine) ' 'Tranexamic Acid (TXA)'\n",
      " 'Cyanokit (Hydroxocobalamin)' 'Norepinephrine (Levophed)'\n",
      " 'Calcium Chloride (10%) ' 'Tetracaine'\n",
      " 'Sodium Bicarbonate (4.2%) (Infant)']\n"
     ]
    }
   ],
   "source": [
    "#Confirming Given Medication Names\n",
    "print('Medication Given( Unique ) =\\n '+str(dfMedPatient.Medication_Given_Description.unique()))"
   ]
  },
  {
   "cell_type": "code",
   "execution_count": 9,
   "id": "spoken-medicine",
   "metadata": {},
   "outputs": [
    {
     "name": "stdout",
     "output_type": "stream",
     "text": [
      "Medication Given Description Count = 32\n"
     ]
    }
   ],
   "source": [
    "#Checking Medication Given Description count\n",
    "print('Medication Given Description Count = '+str(dfMedPatient.Medication_Given_Description.nunique()))\n",
    "##dfMedPatient.Medication_Given_Description.nunique()"
   ]
  },
  {
   "cell_type": "code",
   "execution_count": 10,
   "id": "smooth-characterization",
   "metadata": {},
   "outputs": [
    {
     "data": {
      "text/plain": [
       "Oxygen                                  10707\n",
       "Normal saline                            7552\n",
       "Ondansetron (Zofran)                     6855\n",
       "Fentanyl Citrate (Sublimaze)             6577\n",
       "Epinephrine 0.1 MG/ML (1:10,000)         6189\n",
       "Acetylsalicylic Acid (Aspirin, ASA)      4349\n",
       "Albuterol (Ventolin)                     3837\n",
       "Ipratropium Bromide(Atrovent)            2817\n",
       "Nitroglycerin                            2721\n",
       "Naloxone (Narcan)                        2056\n",
       "Midazolam (Versed)                       1395\n",
       "Dextrose 10 % (D10)                      1187\n",
       "Glucose (Oral)                            999\n",
       "Methylprednisolone (Solu-Medrol)          981\n",
       "Diphenhydramine (Benadryl)                915\n",
       "Dextrose 50 % (D50)                       866\n",
       "Ketamine (Ketalar)                        642\n",
       "Epinephrine 1 MG/ML (1:1,000)             565\n",
       "Adenosine (Adenocard)                     393\n",
       "Atropine (Atropine Sulfate)               313\n",
       "Amiodarone (Cordarone)                    294\n",
       "Glucagon (Glucagen)                       227\n",
       "Magnesium Sulfate (50%)                    91\n",
       "Sodium Bicarbonate (8.4%)                  89\n",
       "Tranexamic Acid (TXA)                      80\n",
       "Lidocaine (2%) (Xylocaine)                 67\n",
       "Morphine (Morphine Sulfate)                38\n",
       "Norepinephrine (Levophed)                  29\n",
       "Calcium Chloride (10%)                     19\n",
       "Tetracaine                                 14\n",
       "Cyanokit (Hydroxocobalamin)                10\n",
       "Sodium Bicarbonate (4.2%) (Infant)          1\n",
       "Name: Medication_Given_Description, dtype: int64"
      ]
     },
     "execution_count": 10,
     "metadata": {},
     "output_type": "execute_result"
    }
   ],
   "source": [
    "## Counting medications given\n",
    "dfMedPatient[\"Medication_Given_Description\"].value_counts()"
   ]
  },
  {
   "cell_type": "markdown",
   "id": "fantastic-disposition",
   "metadata": {},
   "source": [
    "<b>Add personnel start year and personnel start year_month column to the dataframe</b>"
   ]
  },
  {
   "cell_type": "code",
   "execution_count": 11,
   "id": "received-christopher",
   "metadata": {},
   "outputs": [],
   "source": [
    "## Adding personnel start year \n",
    "dfMedPatient['PersonelStartYear'] = pd.DatetimeIndex(dfMedPatient['FRDPersonnelStartDate']).year\n",
    "\n",
    "## Adding personnel start year_month\n",
    "##Note : #if the date is in datetime format, we can also extract the day/month/year using the to_period function  using 'D', 'M', 'Y' as inputs\n",
    "dfMedPatient['PersonelStartMonthYear'] = pd.to_datetime(dfMedPatient['FRDPersonnelStartDate']).dt.to_period('M')\n",
    "\n",
    "## Adding MedicationGivenYear \n",
    "dfMedPatient['MedicationGivenYear'] = pd.DatetimeIndex(dfMedPatient['DispatchTime']).year"
   ]
  },
  {
   "cell_type": "markdown",
   "id": "twelve-poverty",
   "metadata": {},
   "source": [
    "creating output to generate an MedicationDescriptionOrder to be used in plots later."
   ]
  },
  {
   "cell_type": "code",
   "execution_count": 12,
   "id": "removable-hebrew",
   "metadata": {},
   "outputs": [
    {
     "data": {
      "text/html": [
       "<div>\n",
       "<style scoped>\n",
       "    .dataframe tbody tr th:only-of-type {\n",
       "        vertical-align: middle;\n",
       "    }\n",
       "\n",
       "    .dataframe tbody tr th {\n",
       "        vertical-align: top;\n",
       "    }\n",
       "\n",
       "    .dataframe thead th {\n",
       "        text-align: right;\n",
       "    }\n",
       "</style>\n",
       "<table border=\"1\" class=\"dataframe\">\n",
       "  <thead>\n",
       "    <tr style=\"text-align: right;\">\n",
       "      <th></th>\n",
       "      <th>Medication_Given_Description</th>\n",
       "      <th>Count</th>\n",
       "    </tr>\n",
       "  </thead>\n",
       "  <tbody>\n",
       "    <tr>\n",
       "      <th>0</th>\n",
       "      <td>Oxygen</td>\n",
       "      <td>10707</td>\n",
       "    </tr>\n",
       "    <tr>\n",
       "      <th>1</th>\n",
       "      <td>Normal saline</td>\n",
       "      <td>7552</td>\n",
       "    </tr>\n",
       "    <tr>\n",
       "      <th>2</th>\n",
       "      <td>Ondansetron (Zofran)</td>\n",
       "      <td>6855</td>\n",
       "    </tr>\n",
       "    <tr>\n",
       "      <th>3</th>\n",
       "      <td>Fentanyl Citrate (Sublimaze)</td>\n",
       "      <td>6577</td>\n",
       "    </tr>\n",
       "    <tr>\n",
       "      <th>4</th>\n",
       "      <td>Epinephrine 0.1 MG/ML (1:10,000)</td>\n",
       "      <td>6189</td>\n",
       "    </tr>\n",
       "    <tr>\n",
       "      <th>5</th>\n",
       "      <td>Acetylsalicylic Acid (Aspirin, ASA)</td>\n",
       "      <td>4349</td>\n",
       "    </tr>\n",
       "    <tr>\n",
       "      <th>6</th>\n",
       "      <td>Albuterol (Ventolin)</td>\n",
       "      <td>3837</td>\n",
       "    </tr>\n",
       "    <tr>\n",
       "      <th>7</th>\n",
       "      <td>Ipratropium Bromide(Atrovent)</td>\n",
       "      <td>2817</td>\n",
       "    </tr>\n",
       "    <tr>\n",
       "      <th>8</th>\n",
       "      <td>Nitroglycerin</td>\n",
       "      <td>2721</td>\n",
       "    </tr>\n",
       "    <tr>\n",
       "      <th>9</th>\n",
       "      <td>Naloxone (Narcan)</td>\n",
       "      <td>2056</td>\n",
       "    </tr>\n",
       "    <tr>\n",
       "      <th>10</th>\n",
       "      <td>Midazolam (Versed)</td>\n",
       "      <td>1395</td>\n",
       "    </tr>\n",
       "    <tr>\n",
       "      <th>11</th>\n",
       "      <td>Dextrose 10 % (D10)</td>\n",
       "      <td>1187</td>\n",
       "    </tr>\n",
       "    <tr>\n",
       "      <th>12</th>\n",
       "      <td>Glucose (Oral)</td>\n",
       "      <td>999</td>\n",
       "    </tr>\n",
       "    <tr>\n",
       "      <th>13</th>\n",
       "      <td>Methylprednisolone (Solu-Medrol)</td>\n",
       "      <td>981</td>\n",
       "    </tr>\n",
       "    <tr>\n",
       "      <th>14</th>\n",
       "      <td>Diphenhydramine (Benadryl)</td>\n",
       "      <td>915</td>\n",
       "    </tr>\n",
       "    <tr>\n",
       "      <th>15</th>\n",
       "      <td>Dextrose 50 % (D50)</td>\n",
       "      <td>866</td>\n",
       "    </tr>\n",
       "    <tr>\n",
       "      <th>16</th>\n",
       "      <td>Ketamine (Ketalar)</td>\n",
       "      <td>642</td>\n",
       "    </tr>\n",
       "    <tr>\n",
       "      <th>17</th>\n",
       "      <td>Epinephrine 1 MG/ML (1:1,000)</td>\n",
       "      <td>565</td>\n",
       "    </tr>\n",
       "    <tr>\n",
       "      <th>18</th>\n",
       "      <td>Adenosine (Adenocard)</td>\n",
       "      <td>393</td>\n",
       "    </tr>\n",
       "    <tr>\n",
       "      <th>19</th>\n",
       "      <td>Atropine (Atropine Sulfate)</td>\n",
       "      <td>313</td>\n",
       "    </tr>\n",
       "    <tr>\n",
       "      <th>20</th>\n",
       "      <td>Amiodarone (Cordarone)</td>\n",
       "      <td>294</td>\n",
       "    </tr>\n",
       "    <tr>\n",
       "      <th>21</th>\n",
       "      <td>Glucagon (Glucagen)</td>\n",
       "      <td>227</td>\n",
       "    </tr>\n",
       "    <tr>\n",
       "      <th>22</th>\n",
       "      <td>Magnesium Sulfate (50%)</td>\n",
       "      <td>91</td>\n",
       "    </tr>\n",
       "    <tr>\n",
       "      <th>23</th>\n",
       "      <td>Sodium Bicarbonate (8.4%)</td>\n",
       "      <td>89</td>\n",
       "    </tr>\n",
       "    <tr>\n",
       "      <th>24</th>\n",
       "      <td>Tranexamic Acid (TXA)</td>\n",
       "      <td>80</td>\n",
       "    </tr>\n",
       "    <tr>\n",
       "      <th>25</th>\n",
       "      <td>Lidocaine (2%) (Xylocaine)</td>\n",
       "      <td>67</td>\n",
       "    </tr>\n",
       "    <tr>\n",
       "      <th>26</th>\n",
       "      <td>Morphine (Morphine Sulfate)</td>\n",
       "      <td>38</td>\n",
       "    </tr>\n",
       "    <tr>\n",
       "      <th>27</th>\n",
       "      <td>Norepinephrine (Levophed)</td>\n",
       "      <td>29</td>\n",
       "    </tr>\n",
       "    <tr>\n",
       "      <th>28</th>\n",
       "      <td>Calcium Chloride (10%)</td>\n",
       "      <td>19</td>\n",
       "    </tr>\n",
       "    <tr>\n",
       "      <th>29</th>\n",
       "      <td>Tetracaine</td>\n",
       "      <td>14</td>\n",
       "    </tr>\n",
       "    <tr>\n",
       "      <th>30</th>\n",
       "      <td>Cyanokit (Hydroxocobalamin)</td>\n",
       "      <td>10</td>\n",
       "    </tr>\n",
       "    <tr>\n",
       "      <th>31</th>\n",
       "      <td>Sodium Bicarbonate (4.2%) (Infant)</td>\n",
       "      <td>1</td>\n",
       "    </tr>\n",
       "  </tbody>\n",
       "</table>\n",
       "</div>"
      ],
      "text/plain": [
       "            Medication_Given_Description  Count\n",
       "0                                 Oxygen  10707\n",
       "1                          Normal saline   7552\n",
       "2                   Ondansetron (Zofran)   6855\n",
       "3          Fentanyl Citrate (Sublimaze)    6577\n",
       "4       Epinephrine 0.1 MG/ML (1:10,000)   6189\n",
       "5   Acetylsalicylic Acid (Aspirin, ASA)    4349\n",
       "6                  Albuterol (Ventolin)    3837\n",
       "7          Ipratropium Bromide(Atrovent)   2817\n",
       "8                          Nitroglycerin   2721\n",
       "9                      Naloxone (Narcan)   2056\n",
       "10                    Midazolam (Versed)   1395\n",
       "11                   Dextrose 10 % (D10)   1187\n",
       "12                        Glucose (Oral)    999\n",
       "13     Methylprednisolone (Solu-Medrol)     981\n",
       "14            Diphenhydramine (Benadryl)    915\n",
       "15                   Dextrose 50 % (D50)    866\n",
       "16                    Ketamine (Ketalar)    642\n",
       "17         Epinephrine 1 MG/ML (1:1,000)    565\n",
       "18                 Adenosine (Adenocard)    393\n",
       "19          Atropine (Atropine Sulfate)     313\n",
       "20                Amiodarone (Cordarone)    294\n",
       "21                   Glucagon (Glucagen)    227\n",
       "22              Magnesium Sulfate (50%)      91\n",
       "23            Sodium Bicarbonate (8.4%)      89\n",
       "24                 Tranexamic Acid (TXA)     80\n",
       "25           Lidocaine (2%) (Xylocaine)      67\n",
       "26          Morphine (Morphine Sulfate)      38\n",
       "27             Norepinephrine (Levophed)     29\n",
       "28               Calcium Chloride (10%)      19\n",
       "29                            Tetracaine     14\n",
       "30           Cyanokit (Hydroxocobalamin)     10\n",
       "31    Sodium Bicarbonate (4.2%) (Infant)      1"
      ]
     },
     "execution_count": 12,
     "metadata": {},
     "output_type": "execute_result"
    }
   ],
   "source": [
    "#Put the value_counts into a dataframe for later use\n",
    "value_countsMedGiven=dfMedPatient['Medication_Given_Description'].value_counts()\n",
    "df_MedicationGivenDescription=pd.DataFrame(value_countsMedGiven)\n",
    "df_MedicationGivenDescription.reset_index(inplace=True)\n",
    "df_MedicationGivenDescription.columns=[\"Medication_Given_Description\",\"Count\"]\n",
    "df_MedicationGivenDescription.set_index(keys=[\"Medication_Given_Description\"])\n",
    "df_MedicationGivenDescription"
   ]
  },
  {
   "cell_type": "code",
   "execution_count": 13,
   "id": "concrete-performer",
   "metadata": {},
   "outputs": [
    {
     "data": {
      "text/plain": [
       "array(['Oxygen', 'Normal saline', 'Ondansetron (Zofran)',\n",
       "       'Fentanyl Citrate (Sublimaze) ',\n",
       "       'Epinephrine 0.1 MG/ML (1:10,000)',\n",
       "       'Acetylsalicylic Acid (Aspirin, ASA) ', 'Albuterol (Ventolin) ',\n",
       "       'Ipratropium Bromide(Atrovent)', 'Nitroglycerin',\n",
       "       'Naloxone (Narcan)', 'Midazolam (Versed)', 'Dextrose 10 % (D10)',\n",
       "       'Glucose (Oral)', 'Methylprednisolone (Solu-Medrol) ',\n",
       "       'Diphenhydramine (Benadryl)', 'Dextrose 50 % (D50)',\n",
       "       'Ketamine (Ketalar)', 'Epinephrine 1 MG/ML (1:1,000)',\n",
       "       'Adenosine (Adenocard)', 'Atropine (Atropine Sulfate) ',\n",
       "       'Amiodarone (Cordarone)', 'Glucagon (Glucagen)',\n",
       "       'Magnesium Sulfate (50%) ', 'Sodium Bicarbonate (8.4%) ',\n",
       "       'Tranexamic Acid (TXA)', 'Lidocaine (2%) (Xylocaine) ',\n",
       "       'Morphine (Morphine Sulfate) ', 'Norepinephrine (Levophed)',\n",
       "       'Calcium Chloride (10%) ', 'Tetracaine',\n",
       "       'Cyanokit (Hydroxocobalamin)',\n",
       "       'Sodium Bicarbonate (4.2%) (Infant)'], dtype=object)"
      ]
     },
     "execution_count": 13,
     "metadata": {},
     "output_type": "execute_result"
    }
   ],
   "source": [
    "#Create the MedicationGivenOrder array from the newly created dataframe\n",
    "MedicationGivenOrder=np.array(df_MedicationGivenDescription[\"Medication_Given_Description\"])\n",
    "MedicationGivenOrder"
   ]
  },
  {
   "cell_type": "code",
   "execution_count": 14,
   "id": "subject-annotation",
   "metadata": {},
   "outputs": [
    {
     "name": "stdout",
     "output_type": "stream",
     "text": [
      "Medication_Given_RXCUI_Code Count = 32\n"
     ]
    }
   ],
   "source": [
    "#Confirming unique Medication_Given_RXCUI_Code count\n",
    "print('Medication_Given_RXCUI_Code Count = '+str(dfMedPatient.Medication_Given_RXCUI_Code.nunique()))"
   ]
  },
  {
   "cell_type": "markdown",
   "id": "defined-element",
   "metadata": {},
   "source": [
    "Removing 'Oxygen' and 'Normal saline' from 'MedicationGivenOrder' array for later sorting /indexing purpose\n"
   ]
  },
  {
   "cell_type": "code",
   "execution_count": 15,
   "id": "durable-shopping",
   "metadata": {},
   "outputs": [
    {
     "data": {
      "text/plain": [
       "array(['Ondansetron (Zofran)', 'Fentanyl Citrate (Sublimaze) ',\n",
       "       'Epinephrine 0.1 MG/ML (1:10,000)',\n",
       "       'Acetylsalicylic Acid (Aspirin, ASA) ', 'Albuterol (Ventolin) ',\n",
       "       'Ipratropium Bromide(Atrovent)', 'Nitroglycerin',\n",
       "       'Naloxone (Narcan)', 'Midazolam (Versed)', 'Dextrose 10 % (D10)',\n",
       "       'Glucose (Oral)', 'Methylprednisolone (Solu-Medrol) ',\n",
       "       'Diphenhydramine (Benadryl)', 'Dextrose 50 % (D50)',\n",
       "       'Ketamine (Ketalar)', 'Epinephrine 1 MG/ML (1:1,000)',\n",
       "       'Adenosine (Adenocard)', 'Atropine (Atropine Sulfate) ',\n",
       "       'Amiodarone (Cordarone)', 'Glucagon (Glucagen)',\n",
       "       'Magnesium Sulfate (50%) ', 'Sodium Bicarbonate (8.4%) ',\n",
       "       'Tranexamic Acid (TXA)', 'Lidocaine (2%) (Xylocaine) ',\n",
       "       'Morphine (Morphine Sulfate) ', 'Norepinephrine (Levophed)',\n",
       "       'Calcium Chloride (10%) ', 'Tetracaine',\n",
       "       'Cyanokit (Hydroxocobalamin)',\n",
       "       'Sodium Bicarbonate (4.2%) (Infant)'], dtype=object)"
      ]
     },
     "execution_count": 15,
     "metadata": {},
     "output_type": "execute_result"
    }
   ],
   "source": [
    "#Removing MedicationGivenOrder 'Oxygen' and 'Normal saline' from 'MedicationGivenOrder' numpy array using 'numpy.delete(array, index)'\n",
    "\n",
    "## index : 0='Oxygen' ; 1 ='Normal saline'\n",
    "index = [0, 1]\n",
    "MedicationGivenOrderWithoutOxySaline= np.delete(MedicationGivenOrder,index)\n",
    "MedicationGivenOrderWithoutOxySaline"
   ]
  },
  {
   "cell_type": "markdown",
   "id": "commercial-finance",
   "metadata": {},
   "source": [
    "Confirmed that the unique Medication_Given_Description coun matches the Medication_Given_RXCUI_Code count of <b>32.</b>"
   ]
  },
  {
   "cell_type": "code",
   "execution_count": 16,
   "id": "waiting-reconstruction",
   "metadata": {},
   "outputs": [
    {
     "name": "stdout",
     "output_type": "stream",
     "text": [
      "Tenure Months list =\n",
      " [-20 -11   3   5   6   7   8   9  10  11  12  13  14  15  16  17  18  19\n",
      "  20  21  22  23  24  25  26  27  28  29  30  31  32  33  34  35  36  37\n",
      "  38  39  40  41  42  43  44  45  46  47  48  49  50  51  52  53  54  55\n",
      "  56  57  58  59  60  61  62  63  64  65  66  67  68  69  70  71  72  73\n",
      "  74  75  76  77  78  79  80  81  82  83  84  85  86  87  88  89  90  91\n",
      "  92  93  94  95  96  97  98  99 100 101 102 103 104 105 106 107 108 109\n",
      " 110 111 112 113 114 115 116 117 118 119 120 121 122 123 124 125 126 127\n",
      " 128 129 130 131 132 133 134 135 136 137 138 139 140 141 142 143 144 145\n",
      " 146 147 148 149 150 151 152 153 154 155 156 157 158 159 160 161 162 163\n",
      " 164 165 166 167 168 169 170 171 172 173 174 175 176 177 178 179 180 181\n",
      " 182 183 184 185 186 187 188 189 190 191 192 193 194 195 196 197 198 199\n",
      " 200 201 202 203 204 205 206 207 208 209 210 211 212 213 214 215 216 217\n",
      " 218 219 220 221 222 223 224 225 226 227 228 229 230 231 232 233 234 235\n",
      " 236 237 238 239 240 241 242 243 244 245 246 247 248 249 250 251 252 253\n",
      " 254 255 256 257 258 259 260 261 262 263 264 265 266 267 268 269 270 271\n",
      " 272 273 274 275 276 277 278 279 280 281 282 283 284 285 286 287 288 289\n",
      " 290 291 292 293 294 295 296 297 298 299 300 301 302 303 304 305 306 307\n",
      " 308 309 310 311 312 313 314 315 316 317 318 319 320 321 322 323 324 325\n",
      " 326 327 328 329 330 331 332 333 334 335 336 337 338 339 340 341 342 343\n",
      " 344 345 346 347 348 349 350 351 352 353 354 355 356 357 358 359 360 361\n",
      " 362 363 364 365 366 367 368 369 370 371 374 375 376 377 378 379 380 381\n",
      " 382 383 384 385 386 387 388 389 390 391 392 393 394 395 396 397 398 399\n",
      " 400 401 402 403 404 405 406 407 408 409 410 411 412 413 414 415 416 418\n",
      " 419 420 430 436 437 440]\n"
     ]
    }
   ],
   "source": [
    "#Confirming Tenure Months(unique) in sorted order\n",
    "print('Tenure Months list =\\n '+str(dfMedPatient.TenureMonths.sort_values().unique()))\n",
    "##dfMedPatient.TenureMonths.sort_values().unique()"
   ]
  },
  {
   "cell_type": "code",
   "execution_count": 17,
   "id": "prime-shark",
   "metadata": {},
   "outputs": [
    {
     "data": {
      "text/plain": [
       "PatientId                       38384\n",
       "PatientGender                       4\n",
       "PatientGenderCode                   4\n",
       "FRDPersonnelID                    843\n",
       "FRDPersonnelGender                  2\n",
       "ProviderGenderCode                  2\n",
       "Medication_Given_RXCUI_Code        32\n",
       "Medication_Given_Description       32\n",
       "TenureMonths                      420\n",
       "DispatchTime                    38378\n",
       "FRDPersonnelStartDate             165\n",
       "PersonelStartYear                  38\n",
       "PersonelStartMonthYear            142\n",
       "MedicationGivenYear                 4\n",
       "dtype: int64"
      ]
     },
     "execution_count": 17,
     "metadata": {},
     "output_type": "execute_result"
    }
   ],
   "source": [
    "#Show number of unique values per column\n",
    "dfMedPatient.nunique(dropna=False)"
   ]
  },
  {
   "cell_type": "code",
   "execution_count": 18,
   "id": "advanced-accounting",
   "metadata": {},
   "outputs": [
    {
     "data": {
      "text/plain": [
       "PatientId                        0\n",
       "PatientGender                   32\n",
       "PatientGenderCode                0\n",
       "FRDPersonnelID                   0\n",
       "FRDPersonnelGender               0\n",
       "ProviderGenderCode               0\n",
       "Medication_Given_RXCUI_Code      0\n",
       "Medication_Given_Description     0\n",
       "TenureMonths                     0\n",
       "DispatchTime                     0\n",
       "FRDPersonnelStartDate            0\n",
       "PersonelStartYear                0\n",
       "PersonelStartMonthYear           0\n",
       "MedicationGivenYear              0\n",
       "dtype: int64"
      ]
     },
     "execution_count": 18,
     "metadata": {},
     "output_type": "execute_result"
    }
   ],
   "source": [
    "#Show number of nulls per column again, just to make sure\n",
    "dfMedPatient.isnull().sum()"
   ]
  },
  {
   "cell_type": "markdown",
   "id": "married-target",
   "metadata": {},
   "source": [
    "Dispalying Time Traveler - Providers ( TenureMonths in future (<0 months) )"
   ]
  },
  {
   "cell_type": "code",
   "execution_count": 19,
   "id": "consecutive-zealand",
   "metadata": {},
   "outputs": [
    {
     "data": {
      "text/html": [
       "<div>\n",
       "<style scoped>\n",
       "    .dataframe tbody tr th:only-of-type {\n",
       "        vertical-align: middle;\n",
       "    }\n",
       "\n",
       "    .dataframe tbody tr th {\n",
       "        vertical-align: top;\n",
       "    }\n",
       "\n",
       "    .dataframe thead th {\n",
       "        text-align: right;\n",
       "    }\n",
       "</style>\n",
       "<table border=\"1\" class=\"dataframe\">\n",
       "  <thead>\n",
       "    <tr style=\"text-align: right;\">\n",
       "      <th></th>\n",
       "      <th>PatientId</th>\n",
       "      <th>PatientGender</th>\n",
       "      <th>PatientGenderCode</th>\n",
       "      <th>FRDPersonnelID</th>\n",
       "      <th>FRDPersonnelGender</th>\n",
       "      <th>ProviderGenderCode</th>\n",
       "      <th>Medication_Given_RXCUI_Code</th>\n",
       "      <th>Medication_Given_Description</th>\n",
       "      <th>TenureMonths</th>\n",
       "      <th>DispatchTime</th>\n",
       "      <th>FRDPersonnelStartDate</th>\n",
       "      <th>PersonelStartYear</th>\n",
       "      <th>PersonelStartMonthYear</th>\n",
       "      <th>MedicationGivenYear</th>\n",
       "    </tr>\n",
       "  </thead>\n",
       "  <tbody>\n",
       "    <tr>\n",
       "      <th>4207</th>\n",
       "      <td>547276</td>\n",
       "      <td>Male</td>\n",
       "      <td>2</td>\n",
       "      <td>6FB584B8-F37D-45E3-8FCC-C820ACF46816</td>\n",
       "      <td>Male</td>\n",
       "      <td>2</td>\n",
       "      <td>7806.0</td>\n",
       "      <td>Oxygen</td>\n",
       "      <td>-20</td>\n",
       "      <td>2018-03-17 10:43:35</td>\n",
       "      <td>2019-12-09</td>\n",
       "      <td>2019</td>\n",
       "      <td>2019-12</td>\n",
       "      <td>2018</td>\n",
       "    </tr>\n",
       "    <tr>\n",
       "      <th>16830</th>\n",
       "      <td>754276</td>\n",
       "      <td>Male</td>\n",
       "      <td>2</td>\n",
       "      <td>86D2C99E-9E01-E211-B5F5-78E7D18CFD3C</td>\n",
       "      <td>Female</td>\n",
       "      <td>1</td>\n",
       "      <td>7806.0</td>\n",
       "      <td>Oxygen</td>\n",
       "      <td>-11</td>\n",
       "      <td>2018-11-05 18:55:39</td>\n",
       "      <td>2019-10-29</td>\n",
       "      <td>2019</td>\n",
       "      <td>2019-10</td>\n",
       "      <td>2018</td>\n",
       "    </tr>\n",
       "  </tbody>\n",
       "</table>\n",
       "</div>"
      ],
      "text/plain": [
       "       PatientId PatientGender  PatientGenderCode  \\\n",
       "4207      547276          Male                  2   \n",
       "16830     754276          Male                  2   \n",
       "\n",
       "                             FRDPersonnelID FRDPersonnelGender  \\\n",
       "4207   6FB584B8-F37D-45E3-8FCC-C820ACF46816               Male   \n",
       "16830  86D2C99E-9E01-E211-B5F5-78E7D18CFD3C             Female   \n",
       "\n",
       "       ProviderGenderCode  Medication_Given_RXCUI_Code  \\\n",
       "4207                    2                       7806.0   \n",
       "16830                   1                       7806.0   \n",
       "\n",
       "      Medication_Given_Description  TenureMonths         DispatchTime  \\\n",
       "4207                        Oxygen           -20  2018-03-17 10:43:35   \n",
       "16830                       Oxygen           -11  2018-11-05 18:55:39   \n",
       "\n",
       "      FRDPersonnelStartDate  PersonelStartYear PersonelStartMonthYear  \\\n",
       "4207             2019-12-09               2019                2019-12   \n",
       "16830            2019-10-29               2019                2019-10   \n",
       "\n",
       "       MedicationGivenYear  \n",
       "4207                  2018  \n",
       "16830                 2018  "
      ]
     },
     "execution_count": 19,
     "metadata": {},
     "output_type": "execute_result"
    }
   ],
   "source": [
    "# showing dfMedPatient for those records that have a negative tenure ( time travellers)\n",
    "dfMedPatient[(dfMedPatient['TenureMonths'] < 0)]"
   ]
  },
  {
   "cell_type": "markdown",
   "id": "loved-malpractice",
   "metadata": {},
   "source": [
    "### Reduce Data"
   ]
  },
  {
   "cell_type": "markdown",
   "id": "honest-daughter",
   "metadata": {},
   "source": [
    "Going to drop the \"time traveler\" (negative tenure) rows"
   ]
  },
  {
   "cell_type": "code",
   "execution_count": 20,
   "id": "destroyed-preference",
   "metadata": {},
   "outputs": [
    {
     "name": "stdout",
     "output_type": "stream",
     "text": [
      "99.9968% remaining!\n"
     ]
    }
   ],
   "source": [
    "#Remove -ve Tenure for PatientProvider ( Removing time traveler records)\n",
    "dfMedPatientReduced = dfMedPatient[(dfMedPatient['TenureMonths'] >= 0)]\n",
    "\n",
    "#Calculate percentage of dataset remaining\n",
    "ratio=len(dfMedPatientReduced)/len(dfMedPatient)*100\n",
    "print(\"%.4f%% data remaining!\" % ratio)"
   ]
  },
  {
   "cell_type": "markdown",
   "id": "restricted-departure",
   "metadata": {},
   "source": [
    "<B> Now adding a new column 'TenureYears' for further analytics </b>.Here we simply divide the TenureMonths by 12 and drop the remainder.\n",
    "Calculation of Tenure in Months results in value that represents number of completed years of service. (e.g. 35 months -> 2 years, 36 months -> 3 years)"
   ]
  },
  {
   "cell_type": "code",
   "execution_count": 21,
   "id": "thousand-detector",
   "metadata": {},
   "outputs": [
    {
     "name": "stderr",
     "output_type": "stream",
     "text": [
      "C:\\Users\\anupd\\Anaconda3\\envs\\emspe\\lib\\site-packages\\pandas\\core\\indexing.py:1597: SettingWithCopyWarning: \n",
      "A value is trying to be set on a copy of a slice from a DataFrame.\n",
      "Try using .loc[row_indexer,col_indexer] = value instead\n",
      "\n",
      "See the caveats in the documentation: https://pandas.pydata.org/pandas-docs/stable/user_guide/indexing.html#returning-a-view-versus-a-copy\n",
      "  self.obj[key] = value\n",
      "C:\\Users\\anupd\\Anaconda3\\envs\\emspe\\lib\\site-packages\\pandas\\core\\indexing.py:1676: SettingWithCopyWarning: \n",
      "A value is trying to be set on a copy of a slice from a DataFrame.\n",
      "Try using .loc[row_indexer,col_indexer] = value instead\n",
      "\n",
      "See the caveats in the documentation: https://pandas.pydata.org/pandas-docs/stable/user_guide/indexing.html#returning-a-view-versus-a-copy\n",
      "  self._setitem_single_column(ilocs[0], value, pi)\n"
     ]
    }
   ],
   "source": [
    "dfMedPatientReduced.loc[:,\"TenureYears\"]=np.floor(dfMedPatientReduced[\"TenureMonths\"]/12)"
   ]
  },
  {
   "cell_type": "code",
   "execution_count": null,
   "id": "amateur-programming",
   "metadata": {},
   "outputs": [],
   "source": [
    "##dfMedPatientReduced.head()"
   ]
  },
  {
   "cell_type": "code",
   "execution_count": null,
   "id": "separated-sewing",
   "metadata": {},
   "outputs": [],
   "source": [
    "# Cross tabulation between  TenureMonths and Medications from 'dfMedPatientReduced' datarframe  -- Keeping this code line from -cross-validation/checking----\n",
    "CrosstabResult=pd.crosstab(index=dfMedPatientReduced['TenureMonths'],columns=dfMedPatientReduced['Medication_Given_Description'])\n",
    "##print(CrosstabResult)"
   ]
  },
  {
   "cell_type": "markdown",
   "id": "regional-blackberry",
   "metadata": {},
   "source": [
    "Chi-square Test in Python can be done using the chi2_contingency() function from the scipy.stats module."
   ]
  },
  {
   "cell_type": "code",
   "execution_count": null,
   "id": "realistic-fifteen",
   "metadata": {},
   "outputs": [],
   "source": [
    "# importing the required function\n",
    "from scipy.stats import chi2_contingency"
   ]
  },
  {
   "cell_type": "code",
   "execution_count": null,
   "id": "available-nancy",
   "metadata": {},
   "outputs": [],
   "source": [
    "# Cross tabulation between TenureMonths and Medications from 'dfMedPatientReduced' datarframe \n",
    "pd.crosstab(dfMedPatientReduced.Medication_Given_Description,dfMedPatientReduced.TenureMonths)"
   ]
  },
  {
   "cell_type": "markdown",
   "id": "assisted-delhi",
   "metadata": {},
   "source": [
    "Chi-square test finds the probability of a Null hypothesis(H0).\n",
    "\n",
    " - Assumption(H0): The two variables are NOT related to each other\n",
    " - Result of Chi-Sq Test: if the Probability of H0 being True, The two variables are NOT related to each other\n",
    "<p>It can help us to understand whether both the categorical variables are correlated with each other or not."
   ]
  },
  {
   "cell_type": "code",
   "execution_count": null,
   "id": "numeric-ebony",
   "metadata": {},
   "outputs": [],
   "source": [
    "## Performing Chi-sq test, to test the association between two variables, using the cross tab sequence\n",
    "##ChiSquareResult=chi2_contingency(pd.crosstab( dfMedPatientReduced.TenureMonths, dfMedPatientReduced.Medication_Given_Description))\n",
    "ChiSquareResult=chi2_contingency(pd.crosstab( dfMedPatientReduced.TenureMonths, dfMedPatientReduced.Medication_Given_RXCUI_Code))"
   ]
  },
  {
   "cell_type": "code",
   "execution_count": null,
   "id": "manual-commercial",
   "metadata": {},
   "outputs": [],
   "source": [
    "# P-Value is the Probability of H0 being True\n",
    "# If P-Value>0.05 then only we Accept the assumption(H0)\n",
    " \n",
    "print('The P-Value of the ChiSquare Test is:', ChiSquareResult[1])"
   ]
  },
  {
   "cell_type": "markdown",
   "id": "neutral-pursuit",
   "metadata": {},
   "source": [
    "As evident, the <b>p-value is less than 0.05 </b>, hence we <b>reject the Null Hypothesis(H0) that the 'TenureMonths' of the Providers are not associated with the 'Medication_Given'</b>"
   ]
  },
  {
   "cell_type": "markdown",
   "id": "bacterial-durham",
   "metadata": {},
   "source": [
    "As the P-value came lower than 0.05 in our result, hence H0 will not be accepted, which means the <b>variables 'TenureMonths' and 'Medication_Given' are correlated  to each other</b>. This is based on if two variables are correlated, then the P-value will come very close to zero, which in our case is : <b>4.5781793145246635e-174</b>"
   ]
  },
  {
   "cell_type": "markdown",
   "id": "optional-layout",
   "metadata": {},
   "source": [
    "<b>Performing Chi-square test with TenureYears values </b>"
   ]
  },
  {
   "cell_type": "code",
   "execution_count": null,
   "id": "respected-hepatitis",
   "metadata": {},
   "outputs": [],
   "source": [
    "## Performing Chi-sq test with TenureYears, to test the association between two variables, using the cross tab sequence\n",
    "ChiSquareResultforTYears=chi2_contingency(pd.crosstab( dfMedPatientReduced.TenureYears, dfMedPatientReduced.Medication_Given_RXCUI_Code))"
   ]
  },
  {
   "cell_type": "code",
   "execution_count": null,
   "id": "treated-attraction",
   "metadata": {},
   "outputs": [],
   "source": [
    "# P-Value is the Probability of H0 being True\n",
    "# If P-Value>0.05 then only we Accept the assumption(H0)\n",
    " \n",
    "print('The P-Value of the ChiSquare Test( Teure Years) is:', ChiSquareResultforTYears[1])"
   ]
  },
  {
   "cell_type": "markdown",
   "id": "sophisticated-sailing",
   "metadata": {},
   "source": [
    "<b>Now, further investigating relationship between the provider's TenureMonths and Medications Given follows </b>:........"
   ]
  },
  {
   "cell_type": "markdown",
   "id": "american-pixel",
   "metadata": {},
   "source": [
    "Create a pivot-like dataframe using tenure, Medication Code and  Medication Description to get a Medication Given count break down by tenure and medication."
   ]
  },
  {
   "cell_type": "code",
   "execution_count": null,
   "id": "designing-eight",
   "metadata": {},
   "outputs": [],
   "source": [
    "## Creating pivot dataframe from'dfMedPatientReduced' \n",
    "dfMedPatientReduced_pvt = dfMedPatientReduced.groupby(['TenureMonths','TenureYears',\n",
    "                                    'Medication_Given_RXCUI_Code',\n",
    "                                    'Medication_Given_Description']).size().to_frame(name='Medication_Count').reset_index()\n",
    "\n",
    "dfMedPatientReduced_pvt.shape"
   ]
  },
  {
   "cell_type": "markdown",
   "id": "civilian-astronomy",
   "metadata": {},
   "source": [
    "<b>What are counts of all 32 Medication Given overall? </b>"
   ]
  },
  {
   "cell_type": "code",
   "execution_count": null,
   "id": "joint-karaoke",
   "metadata": {},
   "outputs": [],
   "source": [
    "dfMedPatientReduced_pvt.groupby(['Medication_Given_RXCUI_Code',\n",
    "                          'Medication_Given_Description'])[['Medication_Count']].sum().nlargest(32,['Medication_Count'])"
   ]
  },
  {
   "cell_type": "markdown",
   "id": "premier-notion",
   "metadata": {},
   "source": [
    "<b> Removing data where Medication_Given_Description = 'Oxygen' and 'Normal saline' from dfMedPatientReduced dataframe, before 2nd round of Chi-Square Test  </b>"
   ]
  },
  {
   "cell_type": "code",
   "execution_count": null,
   "id": "nutritional-contributor",
   "metadata": {},
   "outputs": [],
   "source": [
    "#Remove 'oxygen' for 'Medication_Given_Description'\n",
    "dfMedPatientReduced_NoOxy=dfMedPatientReduced.loc[dfMedPatientReduced['Medication_Given_Description']!='Oxygen',:]\n",
    "\n",
    "#size of remaining dataset \n",
    "len(dfMedPatientReduced_NoOxy)"
   ]
  },
  {
   "cell_type": "code",
   "execution_count": null,
   "id": "continuous-minute",
   "metadata": {},
   "outputs": [],
   "source": [
    "#Remove 'Normal saline' for 'Medication_Given_Description'\n",
    "dfMedPatientReduced_NoOxySaline=dfMedPatientReduced_NoOxy.loc[dfMedPatientReduced_NoOxy['Medication_Given_Description']!='Normal saline',:]\n",
    "\n",
    "#size of remaining dataset \n",
    "len(dfMedPatientReduced_NoOxySaline)"
   ]
  },
  {
   "cell_type": "code",
   "execution_count": null,
   "id": "robust-collapse",
   "metadata": {},
   "outputs": [],
   "source": [
    "# Now again creating Cross tabulation between TenureYears(this time) and Medications from 'dfMedPatientReduced_NoOxySaline' datarframe \n",
    "pd.crosstab(dfMedPatientReduced_NoOxySaline.Medication_Given_Description,dfMedPatientReduced_NoOxySaline.TenureYears)"
   ]
  },
  {
   "cell_type": "code",
   "execution_count": null,
   "id": "promotional-northern",
   "metadata": {},
   "outputs": [],
   "source": [
    "## Now Performing Chi-sq test, without 'oxygen' and 'Normal saline' and 'TenureYears' to test the association between two variables, using the cross tab sequence\n",
    "ChiSquareResult_NoOxySaline=chi2_contingency(pd.crosstab(dfMedPatientReduced_NoOxySaline.TenureYears, dfMedPatientReduced_NoOxySaline.Medication_Given_Description))"
   ]
  },
  {
   "cell_type": "code",
   "execution_count": null,
   "id": "dirty-heading",
   "metadata": {},
   "outputs": [],
   "source": [
    "# P-Value is the Probability of H0 being True\n",
    "# If P-Value>0.05 then only we Accept the assumption(H0)\n",
    " \n",
    "print('The P-Value of the ChiSquare Test is:', ChiSquareResult_NoOxySaline[1])"
   ]
  },
  {
   "cell_type": "markdown",
   "id": "fixed-capitol",
   "metadata": {},
   "source": [
    "Again, we see the <b>p-value is less than 0.05 </b>, hence we <b>reject the Null Hypothesis(H0) that the 'TenureMonths' of the Providers are not associated with the 'Medication_Given'</b>"
   ]
  },
  {
   "cell_type": "markdown",
   "id": "aggressive-husband",
   "metadata": {},
   "source": [
    "<b>Using dfMedPatientReduced_pvt for further analysis</b>"
   ]
  },
  {
   "cell_type": "code",
   "execution_count": null,
   "id": "solar-adelaide",
   "metadata": {},
   "outputs": [],
   "source": [
    "## Changing 'Medication_Given_RXCUI_Code' from Numerical(float) to int64 for consistency\n",
    "dfMedPatientReduced_pvt['Medication_Given_RXCUI_Code'] = dfMedPatientReduced_pvt['Medication_Given_RXCUI_Code'].apply(np.int64) "
   ]
  },
  {
   "cell_type": "code",
   "execution_count": null,
   "id": "rental-dividend",
   "metadata": {},
   "outputs": [],
   "source": [
    "#Create the MedicationOrder array from the dataframe\n",
    "MedicationOrder=np.array(dfMedPatientReduced[\"Medication_Given_Description\"])\n",
    "MedicationOrder"
   ]
  },
  {
   "cell_type": "code",
   "execution_count": null,
   "id": "boxed-surfing",
   "metadata": {},
   "outputs": [],
   "source": [
    "## Lowest 3 tenure months Medication given, count break down by tenuremonths\n",
    "dfMedPatientReduced_pvt.head(3)"
   ]
  },
  {
   "cell_type": "code",
   "execution_count": null,
   "id": "compact-recognition",
   "metadata": {},
   "outputs": [],
   "source": [
    "## Top 3 tenuremonths for Medication given, count break down by tenuremonths\n",
    "dfMedPatientReduced_pvt.tail(3)"
   ]
  },
  {
   "cell_type": "markdown",
   "id": "turkish-tuning",
   "metadata": {},
   "source": [
    "Generate a hex bin plot using tenure, medication given code, and medication count from dfMedPatient_pvt as the x, y and C values, respectively."
   ]
  },
  {
   "cell_type": "code",
   "execution_count": null,
   "id": "strong-round",
   "metadata": {},
   "outputs": [],
   "source": [
    "# in order to get the medication given code to show in the y-axis, need to format the values as strings instead of numbers\n",
    "hb = dfMedPatientReduced_pvt.plot.hexbin(\n",
    "                       x='TenureYears', \n",
    "                       y='Medication_Given_RXCUI_Code', \n",
    "                       C='Medication_Count',\n",
    "                       reduce_C_function=np.sum,\n",
    "                       gridsize=110,\n",
    "                       cmap=\"nipy_spectral_r\",\n",
    "                       xlabel=\"Provider Tenure(Years)\",\n",
    "                       ylabel=\"Medication Code\",\n",
    "                       title=\"Provider Tenure and Medication Given\",\n",
    "                       figsize=(16,14)\n",
    "                       ##sharex=False\n",
    ")\n",
    "plt.gca().yaxis.set_major_formatter(plt.matplotlib.ticker.StrMethodFormatter('{x:.0f}'))\n",
    "plt.show"
   ]
  },
  {
   "cell_type": "markdown",
   "id": "indonesian-collaboration",
   "metadata": {},
   "source": [
    "The hex bin plots of dfMedPatientReduced_pvt shows the use of 3 attributes from the dataframe. Using x, y, and C means that the reduce_C_function now comes into play and it is the reason for all of the white showing - it is where there is no sum to show."
   ]
  },
  {
   "cell_type": "markdown",
   "id": "roman-cosmetic",
   "metadata": {},
   "source": [
    "Using dfMedPatientReduced_pvt, generate descriptive statistics about the tenure, medicine count, and medication given description attributes."
   ]
  },
  {
   "cell_type": "code",
   "execution_count": null,
   "id": "dirty-fellow",
   "metadata": {},
   "outputs": [],
   "source": [
    "dfMedPatientReduced_pvt[['TenureYears','Medication_Count']].describe()"
   ]
  },
  {
   "cell_type": "code",
   "execution_count": null,
   "id": "brown-disorder",
   "metadata": {},
   "outputs": [],
   "source": [
    "plt.figure(figsize=(18,20))\n",
    "##sns.set_theme(style=\"whitegrid\")\n",
    "sns.set(style=\"darkgrid\")\n",
    "sns.set(font_scale = 2)\n",
    "sns.violinplot(\"TenureYears\",\"Medication_Given_Description\",\n",
    "               data=dfMedPatientReduced[dfMedPatientReduced.TenureYears < 40], \n",
    "               scale='width', linewidth=2.5,\n",
    "              order=MedicationGivenOrder, cut=0, palette=\"muted\", inner=\"quartile\");\n",
    "plt.title('Medications Given by Provider Tenure')\n",
    "plt.xlabel(\"Tenure (Years)\", size=16)\n",
    "plt.ylabel(\"Medication Description\", size=16)\n",
    "##plt.savefig(\"barplot_MedicationGiven_byProviderTenure.png\")"
   ]
  },
  {
   "cell_type": "code",
   "execution_count": null,
   "id": "aging-bacteria",
   "metadata": {},
   "outputs": [],
   "source": [
    "##plt.title('Medication Given vs Tenure Violinplot')\n",
    "plt.figure(figsize=(16,18))\n",
    "sns.set(style=\"darkgrid\")\n",
    "sns.set(font_scale = 2)\n",
    "sns.violinplot(x=\"TenureYears\",y=\"Medication_Given_Description\",\n",
    "               data=dfMedPatientReduced, hue=\"FRDPersonnelGender\", split=True, dodge =True,\n",
    "               scale='area',\n",
    "              order=MedicationGivenOrder, cut=0, inner=\"quartile\", height=15, aspect=.8, palette={\"Male\": \"b\", \"Female\": \"y\"});\n",
    "plt.title('Medications Given by Provider Tenure and Gender')\n",
    "plt.xlabel(\"Tenure (Years)\", size=16)\n",
    "plt.ylabel(\"Medication Description\", size=16)\n",
    "##plt.savefig(\"barplot_MedicationGiven_byProviderTenureGender.png\")"
   ]
  },
  {
   "cell_type": "markdown",
   "id": "turkish-vietnam",
   "metadata": {},
   "source": [
    "<b>Now, Creating violin plot after removing Oxygen' & 'Normal Saline' with high skewness for comparision</b>"
   ]
  },
  {
   "cell_type": "code",
   "execution_count": null,
   "id": "isolated-cherry",
   "metadata": {},
   "outputs": [],
   "source": [
    "## Using dataframe 'dfMedPatientReduced_NoOxySaline' removing medicine 'Oxygen' & 'Normal Saline' for violin plot \n",
    "\n",
    "plt.figure(figsize=(16,18))\n",
    "sns.set(style=\"darkgrid\")\n",
    "sns.set(font_scale = 2)\n",
    "sns.violinplot(x=\"TenureYears\",y=\"Medication_Given_Description\",\n",
    "               data=dfMedPatientReduced_NoOxySaline, hue=\"FRDPersonnelGender\", split=True, dodge =True,\n",
    "               scale='count',\n",
    "              order=MedicationGivenOrderWithoutOxySaline, cut=0, palette={\"Male\": \"b\", \"Female\": \"y\"}, inner=\"quartile\", height=15, aspect=.8);\n",
    "plt.title('Medications Given by Provider Tenure(years) - No Oxygen/Saline')\n",
    "plt.xlabel(\"Tenure (Years)\", size=16)\n",
    "plt.ylabel(\"Medication Description\", size=16)\n",
    "##plt.savefig(\"violinplot_MedicationGiven_byProvTenureGender.png\")"
   ]
  },
  {
   "cell_type": "markdown",
   "id": "authorized-native",
   "metadata": {},
   "source": [
    "Now,looking for more details on the data frame"
   ]
  },
  {
   "cell_type": "code",
   "execution_count": null,
   "id": "physical-retrieval",
   "metadata": {},
   "outputs": [],
   "source": [
    "dfMedPatientReduced_pvt[['Medication_Given_Description']].describe(include='all')"
   ]
  },
  {
   "cell_type": "markdown",
   "id": "nearby-bowling",
   "metadata": {},
   "source": [
    "Generate histograms of the tenure and medication given using all records to see frequency from dfMedPatient_pvt"
   ]
  },
  {
   "cell_type": "code",
   "execution_count": null,
   "id": "responsible-mentor",
   "metadata": {},
   "outputs": [],
   "source": [
    "## histogram of the tenure\n",
    "##dfMedPatientReduced.hist(column='TenureYears',bins=40)\n",
    "dfMedPatientReduced.hist(column='TenureYears',bins=int(dfMedPatientReduced[\"TenureYears\"].max()))"
   ]
  },
  {
   "cell_type": "markdown",
   "id": "union-saying",
   "metadata": {},
   "source": [
    "Finding the distributions for tenure years of the providers(also gender)"
   ]
  },
  {
   "cell_type": "code",
   "execution_count": null,
   "id": "persistent-format",
   "metadata": {},
   "outputs": [],
   "source": [
    "sns.set_palette(\"RdBu\")\n",
    "sns.violinplot(x=\"TenureYears\",y=\"FRDPersonnelGender\",\n",
    "               data=dfMedPatientReduced,\n",
    "               split=True,\n",
    "               scale='count', cut=-0, palette={\"Male\": \"b\", \"Female\": \"y\"}, bw=0.04);\n",
    "sns.despine(left=True)\n",
    "plt.title('Provider Tenure and Gender - Distribution', size=20)\n",
    "plt.xlabel(\"Tenure Year\", size=16)\n",
    "plt.ylabel(\"Provider Gender\", size=16)"
   ]
  },
  {
   "cell_type": "markdown",
   "id": "monthly-allah",
   "metadata": {},
   "source": [
    "<b>Reviewing distribution of Medication_Given_Description </b>"
   ]
  },
  {
   "cell_type": "code",
   "execution_count": null,
   "id": "smart-adams",
   "metadata": {},
   "outputs": [],
   "source": [
    "## bar plot for medication given distribution \n",
    "fig=plt.figure(figsize=(20,14))\n",
    "value_counts=dfMedPatientReduced['Medication_Given_Description'].value_counts()\n",
    "df_GivenMedicationByProviders=pd.DataFrame(value_counts)\n",
    "df_GivenMedicationByProviders.reset_index(inplace=True)\n",
    "df_GivenMedicationByProviders.columns=[\"Medication_Given_Description\",\"Count\"]\n",
    "\n",
    "#Bar chart\n",
    "ax1=plt.subplot()\n",
    "ax1.barh(df_GivenMedicationByProviders['Medication_Given_Description'],width=df_GivenMedicationByProviders['Count'],color='purple')\n",
    "ax1.set_xlabel(' Medications Given - Number ')\n",
    "ax1.grid(axis='x', alpha=.75, which='both')\n",
    "\n",
    "ax1.set_xticks(minor=True, ticks=[100,200,300,400,600,700,800,900,1100, 1200,1300,1400])\n",
    "ax1.set_xticks(minor=False, ticks=[500,1000,1500,2000,2500,3000,3500,4000,4500,5000,5500, 6000, 6500, 7000, 7500, 8000, 8500, 9000, 9500, 10000, 10500])\n",
    "                                  \n",
    "fig.suptitle('Medication Given - Distribution')\n",
    "plt.show()\n",
    "##plt.savefig(\"Barplot_MedicationGiven_Distribution.png\")"
   ]
  },
  {
   "cell_type": "code",
   "execution_count": null,
   "id": "daily-lawsuit",
   "metadata": {},
   "outputs": [],
   "source": [
    "## !! Check, if this is valid !!! histogram of the 'Medication_Count' (by tenure)\n",
    "##dfMedPatientReduced_pvt.hist(column='Medication_Count', bins=40)"
   ]
  },
  {
   "cell_type": "markdown",
   "id": "complex-greensboro",
   "metadata": {},
   "source": [
    "Please remember there are some \"time traveler\" tenure values (2 records) where the porvider start date is after the dispatch date resulting in a negative value for the calculated provider tenure. Those records were removed for analysis."
   ]
  },
  {
   "cell_type": "markdown",
   "id": "uniform-leadership",
   "metadata": {},
   "source": [
    "<b>What are the top 10 Medication Given overall? </b>"
   ]
  },
  {
   "cell_type": "code",
   "execution_count": null,
   "id": "paperback-chester",
   "metadata": {},
   "outputs": [],
   "source": [
    "dfMedPatientReduced_pvt.groupby(['Medication_Given_RXCUI_Code',\n",
    "                          'Medication_Given_Description'])[['Medication_Count']].sum().nlargest(10,['Medication_Count'])"
   ]
  },
  {
   "cell_type": "markdown",
   "id": "wrong-production",
   "metadata": {},
   "source": [
    "Based on the tenure histogram, the highest tenure count  falls between the 0 years (< 1 year) and 20 years value(mean tenure 13.37 years) . Now going to look at provider tenure values less than or equal to 20 years tenure to see what can be found around these \"high\" range."
   ]
  },
  {
   "cell_type": "code",
   "execution_count": null,
   "id": "artistic-storage",
   "metadata": {},
   "outputs": [],
   "source": [
    "# how many records from dfMedPatientReduced_pvt will be used limiting the tenure to 100 months or less\n",
    "dfMedPatientReduced_pvt[(dfMedPatientReduced_pvt['TenureYears'] <= 20)].shape"
   ]
  },
  {
   "cell_type": "markdown",
   "id": "loving-visibility",
   "metadata": {},
   "source": [
    "<b>Generate the respective descriptive statistics and histograms. </b>"
   ]
  },
  {
   "cell_type": "code",
   "execution_count": null,
   "id": "trying-abraham",
   "metadata": {},
   "outputs": [],
   "source": [
    "dfMedPatientReduced_pvt[(dfMedPatientReduced_pvt['TenureYears'] <= 20)][['TenureYears','TenureMonths','Medication_Count']].describe()"
   ]
  },
  {
   "cell_type": "code",
   "execution_count": null,
   "id": "metric-parallel",
   "metadata": {},
   "outputs": [],
   "source": [
    "dfMedPatientReduced_pvt[(dfMedPatientReduced_pvt['TenureYears'] <= 20)][['Medication_Given_Description']].describe(include='all')"
   ]
  },
  {
   "cell_type": "code",
   "execution_count": null,
   "id": "under-relaxation",
   "metadata": {},
   "outputs": [],
   "source": [
    "dfMedPatientReduced_pvt[(dfMedPatientReduced_pvt['TenureYears'] <= 20)].hist(column='Medication_Given_RXCUI_Code', bins=40)"
   ]
  },
  {
   "cell_type": "markdown",
   "id": "weird-block",
   "metadata": {},
   "source": [
    "A comparison of the medication given histograms for all dfMedPatientReduced_pvt rows and the subset limited to tenure of 20 years or less shows the distribution of medication given is seemingly distributed evenly except for certain medications."
   ]
  },
  {
   "cell_type": "markdown",
   "id": "legal-objective",
   "metadata": {},
   "source": [
    "The mean of the tenure values for those providers with 20 years or less, is <b>9.46 </b> years, as seen above earlier."
   ]
  },
  {
   "cell_type": "markdown",
   "id": "yellow-emphasis",
   "metadata": {},
   "source": [
    "<b> What are the top 10 procedures by count for medication given by providers with 20 or less years of tenure? </b>"
   ]
  },
  {
   "cell_type": "code",
   "execution_count": null,
   "id": "sacred-language",
   "metadata": {},
   "outputs": [],
   "source": [
    "dfMedPatientReduced_pvt[(dfMedPatientReduced_pvt['TenureYears'] <= 20)].groupby(['Medication_Given_RXCUI_Code',\n",
    "     'Medication_Given_Description'])[['Medication_Count']].sum().nlargest(10,['Medication_Count'])"
   ]
  },
  {
   "cell_type": "code",
   "execution_count": null,
   "id": "heavy-pregnancy",
   "metadata": {},
   "outputs": [],
   "source": [
    "# create a dataframe for medication given by providers with 20 or less years of tenure for repeated use in analysis\n",
    "dfMedPatientReduced_pvt_lte20Yrs= dfMedPatientReduced_pvt[(dfMedPatientReduced_pvt['TenureYears'] <= 20)]\n",
    "dfMedPatientReduced_pvt_lte20Yrs.shape"
   ]
  },
  {
   "cell_type": "markdown",
   "id": "educational-smart",
   "metadata": {},
   "source": [
    "<b>What are the top 10 procedures by count for procedures performed by providers with more than 20 or more years of tenure? </b>"
   ]
  },
  {
   "cell_type": "code",
   "execution_count": null,
   "id": "surface-extra",
   "metadata": {},
   "outputs": [],
   "source": [
    "dfMedPatientReduced_pvt[(dfMedPatientReduced_pvt['TenureYears'] > 20)].groupby(['Medication_Given_RXCUI_Code',\n",
    "     'Medication_Given_Description'])[['Medication_Count']].sum().nlargest(10,['Medication_Count'])"
   ]
  },
  {
   "cell_type": "code",
   "execution_count": null,
   "id": "tired-borough",
   "metadata": {},
   "outputs": [],
   "source": [
    "# create a dataframe for medication given by providers with more than 20 years of tenure for repeated use in analysis\n",
    "dfMedPatientReduced_pvt_gt20Yrs= dfMedPatientReduced_pvt[(dfMedPatientReduced_pvt['TenureYears'] > 20)]\n",
    "dfMedPatientReduced_pvt_gt20Yrs.shape"
   ]
  },
  {
   "cell_type": "markdown",
   "id": "declared-gambling",
   "metadata": {},
   "source": [
    "<b>Generate the respective descriptive statistics and histograms for medication given by providers with more than 20 years of tenure. </b>"
   ]
  },
  {
   "cell_type": "code",
   "execution_count": null,
   "id": "assisted-example",
   "metadata": {},
   "outputs": [],
   "source": [
    "# describe for dataframe dfMedPatientReduced_pvt_gt20Yrs\n",
    "dfMedPatientReduced_pvt_gt20Yrs[['TenureYears','TenureMonths','Medication_Count']].describe()"
   ]
  },
  {
   "cell_type": "code",
   "execution_count": null,
   "id": "internal-lawsuit",
   "metadata": {},
   "outputs": [],
   "source": [
    "# describe for 'Medication_Given_Description'\n",
    "dfMedPatientReduced_pvt_gt20Yrs[['Medication_Given_Description']].describe(include='all')"
   ]
  },
  {
   "cell_type": "markdown",
   "id": "afraid-potter",
   "metadata": {},
   "source": [
    "The medication histogram for providers with 20 years or less and greater than 20 years continues to display a similar distribution pattern of medication given (even scales are less)"
   ]
  },
  {
   "cell_type": "code",
   "execution_count": null,
   "id": "union-harris",
   "metadata": {},
   "outputs": [],
   "source": [
    "# show procedure histograms from all tenures, tenure < = 20 years and  tenure > 300 years side by side\n",
    "\n",
    "fig=plt.figure(figsize=(12,4))\n",
    "\n",
    "# all tenure\n",
    "ax1=plt.subplot(121)\n",
    "ax1.hist(x=dfMedPatientReduced_pvt['Medication_Given_RXCUI_Code'],bins= 40, alpha = 0.5)\n",
    "ax1.set_xlabel('Medication Given Code')\n",
    "ax1.set_ylabel('Medication Count')\n",
    "ax1.set_title('Med. Given by All Providers')\n",
    "ax1.ticklabel_format(style='plain')\n",
    "ax1.grid()\n",
    "plt.xticks(rotation=45)\n",
    "\n",
    "\n",
    "# lte >=20 years tenure\n",
    "ax2=plt.subplot(122)\n",
    "ax2.hist(x=dfMedPatientReduced_pvt_lte20Yrs['Medication_Given_RXCUI_Code'], bins=40, color='red')\n",
    "ax2.set_xlabel('Medication Given Code')\n",
    "ax2.set_ylabel('Medication Count')\n",
    "ax2.set_title('Med. Given by Tenure < 20 years')\n",
    "ax2.ticklabel_format(style='plain')\n",
    "ax2.grid()\n",
    "plt.xticks(rotation=45)\n",
    "\n",
    "# show the first 2 plots\n",
    "plt.show()\n",
    "\n",
    "fig=plt.figure(figsize=(12,4))\n",
    "\n",
    "# gt > 30 years tenure\n",
    "ax1=plt.subplot(121)\n",
    "ax1.hist(x=dfMedPatientReduced_pvt_gt20Yrs['Medication_Given_RXCUI_Code'], bins=40, color='purple')\n",
    "ax1.set_xlabel('Medication Given Code')\n",
    "ax1.set_ylabel('Medication Count')\n",
    "ax1.set_title('Med. Given by Providers with tenure > 20 years')\n",
    "ax1.ticklabel_format(style='plain')\n",
    "ax1.grid()\n",
    "plt.xticks(rotation=45)\n",
    "\n",
    "# show all the plots\n",
    "plt.show()\n"
   ]
  },
  {
   "cell_type": "markdown",
   "id": "least-regard",
   "metadata": {},
   "source": [
    "Now showing the histograms as overlays so thie comparision can be seen  on the same scale"
   ]
  },
  {
   "cell_type": "code",
   "execution_count": null,
   "id": "modified-chain",
   "metadata": {},
   "outputs": [],
   "source": [
    "## overlays histograms \n",
    "fig=plt.figure(figsize=(16,8))\n",
    "\n",
    "ax1=plt.subplot(121)\n",
    "ax1.hist(x=dfMedPatientReduced_pvt['Medication_Given_RXCUI_Code'],bins= 40, alpha = 0.5, label='all tenures')\n",
    "ax1.hist(x=dfMedPatientReduced_pvt_lte20Yrs['Medication_Given_RXCUI_Code'], bins=40, color='red', label='<= 20 years')\n",
    "ax1.hist(x=dfMedPatientReduced_pvt_gt20Yrs['Medication_Given_RXCUI_Code'], bins=40, color='purple', label='> 20 years')\n",
    "ax1.set_xlabel('Medication Given Code')\n",
    "ax1.set_ylabel('Medication Count')\n",
    "ax1.set_title('Medication Given by Providers Tenure - Overlay')\n",
    "ax1.ticklabel_format(style='plain')\n",
    "ax1.grid()\n",
    "plt.xticks(rotation=45)\n",
    "plt.legend(loc='upper right')\n",
    "plt.show()\n"
   ]
  },
  {
   "cell_type": "markdown",
   "id": "removable-third",
   "metadata": {},
   "source": [
    "<b>Now looking for the following medications which has adminstered by providers with specific tenures </b>\n",
    "  (Medication Name    Code     Group)\n",
    " - Magnesium Sulfate (50%) - 6585 - Multi-Use\n",
    " - Tranexamic Acid (TXA) - 10691 - Hemorrhaging\n",
    " - Lidocaine (2%) (Xylocaine) - 6387 - Pain\n",
    " - Morphine (Morphine Sulfate) - 7052 - Pain\n",
    " - Norepinephrine (Levophed) - 328853 - Hypotension\n",
    " - Calcium Chloride (10%) - 1901 - Cardiac\n",
    "- Tetracaine - 91189 - Eye Pain\n",
    " - Cyanokit (Hydroxocobalamin) - 5514 - Poisoning\n",
    "\n"
   ]
  },
  {
   "cell_type": "code",
   "execution_count": null,
   "id": "plain-guard",
   "metadata": {},
   "outputs": [],
   "source": [
    "## Checking info about dfMedPatientReduced for data format check\n",
    "dfMedPatientReduced.head()"
   ]
  },
  {
   "cell_type": "code",
   "execution_count": null,
   "id": "derived-helmet",
   "metadata": {},
   "outputs": [],
   "source": [
    "## Checking 'data types' of dataframe dfMedPatientReduced\n",
    "##dfMedPatientReduced.dtypes"
   ]
  },
  {
   "cell_type": "code",
   "execution_count": null,
   "id": "typical-shannon",
   "metadata": {},
   "outputs": [],
   "source": [
    "# Now converting 'Medication_Given_RXCUI_Code' from float to int for consistency\n",
    "dfMedPatientReduced['Medication_Given_RXCUI_Code'] = dfMedPatientReduced['Medication_Given_RXCUI_Code'].apply(np.int64)\n",
    "dfMedPatientReduced.dtypes"
   ]
  },
  {
   "cell_type": "code",
   "execution_count": null,
   "id": "major-flesh",
   "metadata": {},
   "outputs": [],
   "source": [
    "## Filtering records by Medication_Given_RXCUI_Code\n",
    "Medication_CodeList_toInclude = [6585, 10691,6387,7052, 328853, 1901, 91189, 5514 ]"
   ]
  },
  {
   "cell_type": "code",
   "execution_count": null,
   "id": "romance-coordination",
   "metadata": {},
   "outputs": [],
   "source": [
    "## Keep the records where the Medication_Given_RXCUI_Code is in the list:\n",
    "dfMedPatientReduced_Filtered = dfMedPatientReduced[dfMedPatientReduced['Medication_Given_RXCUI_Code'].isin(Medication_CodeList_toInclude)]"
   ]
  },
  {
   "cell_type": "code",
   "execution_count": null,
   "id": "eligible-nashville",
   "metadata": {},
   "outputs": [],
   "source": [
    "###dfMedPatientReduced_Filtered = dfMedPatientReduced[dfMedPatientReduced.Medication_Given_Description.isin([\"Glucagon (Glucagen)\",\"Magnesium Sulfate (50%)\", \"Tranexamic Acid (TXA)\", \"Lidocaine (2%) (Xylocaine)\",\"Morphine (Morphine Sulfate)\", \"Norepinephrine (Levophed)\",\"Calcium Chloride (10%)\", \"Tetracaine\",\"Cyanokit (Hydroxocobalamin)\"])]\n",
    "##dfMedPatientReduced_Filtered.head()"
   ]
  },
  {
   "cell_type": "code",
   "execution_count": null,
   "id": "constant-license",
   "metadata": {},
   "outputs": [],
   "source": [
    "dfMedPatientReduced_Filtered.size"
   ]
  },
  {
   "cell_type": "code",
   "execution_count": null,
   "id": "excessive-hollow",
   "metadata": {},
   "outputs": [],
   "source": [
    "#Put the value_counts into a dataframe for later use\n",
    "value_countsMedGivenReducedList=dfMedPatientReduced_Filtered['Medication_Given_Description'].value_counts()\n",
    "df_ReducedListMedicationGivenDescription=pd.DataFrame(value_countsMedGivenReducedList)\n",
    "df_ReducedListMedicationGivenDescription.reset_index(inplace=True)\n",
    "df_ReducedListMedicationGivenDescription.columns=[\"Medication_Given_Description\",\"Count\"]\n",
    "df_ReducedListMedicationGivenDescription.set_index(keys=[\"Medication_Given_Description\"])\n",
    "df_ReducedListMedicationGivenDescription"
   ]
  },
  {
   "cell_type": "code",
   "execution_count": null,
   "id": "fewer-valuation",
   "metadata": {},
   "outputs": [],
   "source": [
    "#Create the MedicationGivenOrder(Reduce list) array from the newly created dataframe\n",
    "ReducedList_MedicationGivenOrder=np.array(df_ReducedListMedicationGivenDescription[\"Medication_Given_Description\"])\n",
    "##ReducedList_MedicationGivenOrder"
   ]
  },
  {
   "cell_type": "code",
   "execution_count": null,
   "id": "indoor-rocket",
   "metadata": {},
   "outputs": [],
   "source": [
    "## Creating pivot dataframe from'dfMedPatientReduced' by Provider start Year\n",
    "dfMedPatientReducedByStartYear_FilteredPvt = dfMedPatientReduced_Filtered.groupby(['PersonelStartYear','Medication_Given_RXCUI_Code',\n",
    "     'Medication_Given_Description']).size().to_frame(name='MedGiven_Count').reset_index()"
   ]
  },
  {
   "cell_type": "code",
   "execution_count": null,
   "id": "periodic-tradition",
   "metadata": {},
   "outputs": [],
   "source": [
    "dfMedPatientReducedByStartYear_FilteredPvt.size"
   ]
  },
  {
   "cell_type": "code",
   "execution_count": null,
   "id": "tracked-shadow",
   "metadata": {},
   "outputs": [],
   "source": [
    "## Creating pivot dataframe from'dfMedPatientReduced' group by Medication GivenYear\n",
    "dfMedPatientReducedByMedGivenYear_FilteredPvt = dfMedPatientReduced_Filtered.groupby(['MedicationGivenYear','Medication_Given_RXCUI_Code',\n",
    "     'Medication_Given_Description']).size().to_frame(name='MedGiven_Count').reset_index()"
   ]
  },
  {
   "cell_type": "code",
   "execution_count": null,
   "id": "julian-franchise",
   "metadata": {},
   "outputs": [],
   "source": [
    "dfMedPatientReducedByMedGivenYear_FilteredPvt.size"
   ]
  },
  {
   "cell_type": "code",
   "execution_count": null,
   "id": "aerial-intelligence",
   "metadata": {},
   "outputs": [],
   "source": [
    "## Creating pivot dataframe from'dfMedPatientReduced' for Medication given by tenure years\n",
    "dfMedPatientReducedByMedGivenTenureYears_FilteredPvt = dfMedPatientReduced_Filtered.groupby(['TenureYears','Medication_Given_RXCUI_Code',\n",
    "     'Medication_Given_Description']).size().to_frame(name='MedGiven_Count').reset_index()"
   ]
  },
  {
   "cell_type": "code",
   "execution_count": null,
   "id": "otherwise-student",
   "metadata": {},
   "outputs": [],
   "source": [
    "dfMedPatientReducedByMedGivenTenureYears_FilteredPvt"
   ]
  },
  {
   "cell_type": "code",
   "execution_count": null,
   "id": "charitable-motivation",
   "metadata": {},
   "outputs": [],
   "source": [
    "##sns.color_palette(\"RdBu\", 10)\n",
    "sns.color_palette(\"BuPu\", 10)\n",
    "\n",
    "plt.figure(figsize=(18,12))\n",
    "sns.set_color_codes(\"pastel\")\n",
    "sns.set_context(\"paper\", font_scale=1.5) \n",
    "ax = sns.barplot(y=\"MedGiven_Count\", x=\"PersonelStartYear\",\n",
    "    data=dfMedPatientReducedByStartYear_FilteredPvt,\n",
    "    ci=None, hue= \"Medication_Given_Description\")\n",
    "ax.set_xlabel(\"MedGiven_Count\")\n",
    "plt.rcParams[\"axes.labelsize\"] = 6\n",
    "plt.ylabel(\"Medication Given Count\", size=15)\n",
    "plt.xlabel(\"Personel Start Year\", size=15)\n",
    "plt.title(\"Medication Administered - by Provider's Start Year(for filtered 8 medications only)\", size=16)\n",
    "plt.legend(loc='upper left')\n",
    "##plt.savefig(\"barplot_MedicationGiven_byPersonalStartYear.png\")\n"
   ]
  },
  {
   "cell_type": "markdown",
   "id": "psychological-conducting",
   "metadata": {},
   "source": [
    "Find Medication Administered by Medication given Year( for filtered 8 medications only )"
   ]
  },
  {
   "cell_type": "code",
   "execution_count": null,
   "id": "amended-coffee",
   "metadata": {},
   "outputs": [],
   "source": [
    "dfMedPatientReducedByMedGivenYear_FilteredPvt"
   ]
  },
  {
   "cell_type": "code",
   "execution_count": null,
   "id": "minor-spice",
   "metadata": {},
   "outputs": [],
   "source": [
    "plt.figure(figsize=(12,10))\n",
    "sns.set(style=\"darkgrid\")\n",
    "sns.set(font_scale = 2)\n",
    "sns.violinplot(\"MedGiven_Count\",\"Medication_Given_Description\",\n",
    "               data=dfMedPatientReducedByMedGivenYear_FilteredPvt, \n",
    "               scale='count', linewidth=2.5,\n",
    "              order=ReducedList_MedicationGivenOrder, cut=0, palette=\"muted\");\n",
    "plt.title('Medications Given Count (8 Medications)')\n",
    "plt.xlabel(\"Medication Count\", size=16)\n",
    "plt.ylabel(\"Medication Description\", size=16)\n",
    "##plt.savefig(\"Violinplot_MedicationGiven_byPersonalMedGivenYear.png\")"
   ]
  },
  {
   "cell_type": "code",
   "execution_count": null,
   "id": "after-graduation",
   "metadata": {},
   "outputs": [],
   "source": [
    "plt.figure(figsize=(16,12))\n",
    "sns.set_color_codes(\"pastel\")\n",
    "##sns.set_color_codes(\"dark\")\n",
    "##sns.set_color_codes(\"muted\")\n",
    "\n",
    "sns.set_context(\"paper\", font_scale=1.5) \n",
    "ax = sns.barplot(y=\"MedGiven_Count\", x=\"MedicationGivenYear\",\n",
    "    data=dfMedPatientReducedByMedGivenYear_FilteredPvt,\n",
    "    ci=None, hue= \"Medication_Given_Description\")\n",
    "ax.set_xlabel(\"MedGiven_Count\")\n",
    "plt.rcParams[\"axes.labelsize\"] = 8\n",
    "plt.ylabel(\"Medication Given Count\", size=15)\n",
    "plt.xlabel(\"Medication Given Year\", size=15)\n",
    "plt.title(\"Medication Administered - per Year(for filtered 8 medications)\", size=16)\n",
    "plt.legend(loc='upper right')\n",
    "##plt.savefig(\"barplot_MedicationGivenByYear.png\")"
   ]
  },
  {
   "cell_type": "code",
   "execution_count": null,
   "id": "modified-report",
   "metadata": {},
   "outputs": [],
   "source": [
    "# Now converting 'TenureYears' from float to int for better display\n",
    "dfMedPatientReducedByMedGivenTenureYears_FilteredPvt['TenureYears'] = dfMedPatientReducedByMedGivenTenureYears_FilteredPvt['TenureYears'].apply(np.int64)\n",
    "dfMedPatientReducedByMedGivenTenureYears_FilteredPvt.dtypes"
   ]
  },
  {
   "cell_type": "code",
   "execution_count": null,
   "id": "missing-duncan",
   "metadata": {},
   "outputs": [],
   "source": [
    "plt.figure(figsize=(16,12))\n",
    "##sns.set_color_codes(\"pastel\")\n",
    "sns.set_color_codes(\"bright\")\n",
    "\n",
    "sns.set_context(\"paper\", font_scale=1.5) \n",
    "ax = sns.barplot(y=\"MedGiven_Count\", x=\"TenureYears\",\n",
    "    data=dfMedPatientReducedByMedGivenTenureYears_FilteredPvt,\n",
    "    ci=None, hue= \"Medication_Given_Description\" )\n",
    "ax.set_xlabel(\"MedGiven_Count\")\n",
    "plt.rcParams[\"axes.labelsize\"] = 8\n",
    "plt.ylabel(\"Medication Given Count\", size=15)\n",
    "plt.xlabel(\"Provider Tenure Year\", size=15)\n",
    "plt.title(\"Medication Administered - by Provider'ss Tenure Year(for filtered 8 medications)\", size=16)\n",
    "plt.legend(loc='upper right')\n",
    "##plt.savefig(\"barplot_MedicationGiven_byPersonalStartYear.png\")"
   ]
  },
  {
   "cell_type": "markdown",
   "id": "blond-three",
   "metadata": {},
   "source": [
    "#### Now lets add the MedicationGroup column to the main dataset to group its value and further analyze with provider tenure"
   ]
  },
  {
   "cell_type": "code",
   "execution_count": null,
   "id": "incorporated-century",
   "metadata": {},
   "outputs": [],
   "source": [
    "#Import Medication Group\n",
    "localFolder='../data/02_intermediate/' #If run from Git Hub project folder structure, script must be in \"notebooks\" folder\n",
    "dfmedicationClasses=pd.read_csv(localFolder+'MedicationGroups.csv',usecols=['Medication_Given_RXCUI_Code','MedicationGroup'])"
   ]
  },
  {
   "cell_type": "code",
   "execution_count": null,
   "id": "experimental-friendship",
   "metadata": {},
   "outputs": [],
   "source": [
    "dfmedicationClasses.head(5)"
   ]
  },
  {
   "cell_type": "code",
   "execution_count": null,
   "id": "fewer-laptop",
   "metadata": {},
   "outputs": [],
   "source": [
    "#Add a column for 'Medication Group' in dataframe dfMedPatientReduced to create the new column\n",
    "##dfMedPatientReduced.merge(dfmedicationClasses,how='left',on='Medication_Given_RXCUI_Code')\n",
    "\n",
    "#Add a column for 'Medication Group' in dataframe dfMedPatientReduced to create the new column\n",
    "dfMedPatientReduced_withMedGroup = pd.merge(dfMedPatientReduced,dfmedicationClasses,how='left',on='Medication_Given_RXCUI_Code')\n",
    "\n",
    "#drop the Count column as it is not needed here\n",
    "##dfMedPatientReduced_withMedGroup.drop(columns=['Count'], inplace=True)\n",
    "print(\"There are {} records in dfMedPatientReduced\".format(len(dfMedPatientReduced)))\n",
    "print(\"There are {} records in dfMedPatientReduced_withMedGroup\".format(len(dfMedPatientReduced_withMedGroup)))\n",
    "##dfMedPatientReduced_withMedGroup.head()"
   ]
  },
  {
   "cell_type": "markdown",
   "id": "naughty-control",
   "metadata": {},
   "source": [
    "#### Medication Groups and Medication Given List: \n",
    "1. <b>Allergic Reaction</b>\n",
    " - Diphenhydramine (Benadryl)\n",
    " - Epinephrine 1 MG/ML (1:1,000)\n",
    "2. <b>Behavioral Control & Pain </b>\n",
    " - Ketamine (Ketalar)\n",
    "3. <b>Cardiac</b>\n",
    " - Acetylsalicylic Acid (Aspirin, ASA) \n",
    " - Adenosine (Adenocard)\n",
    " - Amiodarone (Cordarone)\n",
    " - Atropine (Atropine Sulfate) \n",
    " - Calcium Chloride (10%) \n",
    " - Epinephrine 0.1 MG/ML (1:10,000)\n",
    " - Nitroglycerin\n",
    "4. <b>Diabetic</b>\n",
    " - Dextrose 10 % (D10)\n",
    " - Dextrose 50 % (D50)\n",
    " - Glucagon (Glucagen)\n",
    " - Glucose (Oral)\n",
    "5. <b>Eye Pain</b>\n",
    " - Tetracaine\n",
    "6. <b>General</b>\n",
    " - Normal saline\n",
    " - Oxygen\n",
    "7. <b>Hemorrhaging </b>\n",
    " - Tranexamic Acid (TXA)\n",
    "8. <b>Hypotension </b>\n",
    " - Norepinephrine (Levophed)\n",
    "9. <b>Multi-Use </b>\n",
    " - Magnesium Sulfate (50%) \n",
    " - Methylprednisolone (Solu-Medrol) \n",
    " - Sodium Bicarbonate (4.2%) (Infant)\n",
    " - Sodium Bicarbonate (8.4%)\n",
    "10. <b>Nausea & Vomiting </b>\n",
    " - Ondansetron (Zofran)\n",
    "11. <b>Overdose </b>\n",
    " - Naloxone (Narcan)\n",
    "12. <b>Pain </b>\n",
    " - Fentanyl Citrate (Sublimaze) \n",
    " - Lidocaine (2%) (Xylocaine) \n",
    " - Morphine (Morphine Sulfate) \n",
    "13. <b>Poisoning </b>\n",
    " - Cyanokit (Hydroxocobalamin)\n",
    "14. <b>Respiratory </b>\n",
    " - Albuterol (Ventolin) \n",
    " - Ipratropium Bromide(Atrovent)\n",
    "15.<b>Seizures & Sedation </b>\n",
    " - Midazolam (Versed)"
   ]
  },
  {
   "cell_type": "code",
   "execution_count": null,
   "id": "handled-greeting",
   "metadata": {},
   "outputs": [],
   "source": [
    "plt.figure(figsize=(16,18))\n",
    "##sns.set_theme(style=\"whitegrid\")\n",
    "sns.set(style=\"darkgrid\")\n",
    "sns.set(font_scale = 2)\n",
    "sns.violinplot(\"TenureYears\",\"MedicationGroup\",\n",
    "               data=dfMedPatientReduced_withMedGroup, hue=\"FRDPersonnelGender\",\n",
    "               scale='area', linewidth=2.2,\n",
    "               inner=\"box\",\n",
    "              cut=0, palette={\"Male\": \"b\", \"Female\": \"y\"});\n",
    "plt.title('Medications Group by Provider Tenure(years)')\n",
    "plt.ylabel(\"Medication Group\", size=18)\n",
    "plt.xlabel(\"Provider Tenure Year\", size=18)\n",
    "##sns.despine(left=True)\n",
    "##plt.savefig(\"ViolinPlot_MedicationGroup_byProviderTenure.png\")"
   ]
  },
  {
   "cell_type": "markdown",
   "id": "rotary-bolivia",
   "metadata": {},
   "source": [
    "### Findings\n",
    "Question: Is there a relationship between category(name) of medication given and the provider tenure?\n",
    "<p>Answer: In my initial analysis ( using chi-square Chi-square Test of Independence)  it is suggested to be some indicaton of a relationship between medication given and the provider tenure. I further analyzed the relationship between medication given and the provider tenure using various data analytical and visualization methods. In some cases I find there are relationship between medication given and the provider tenure. However, we do not see anomaly associated with provider tenure and the medication given."
   ]
  },
  {
   "cell_type": "markdown",
   "id": "offensive-madison",
   "metadata": {},
   "source": [
    "<b>Conclusions / Observations </b>\n",
    " - The distribution of medication given is nominally similar across all tenures (by year), with some slight variation.\n",
    " - The distribution of tenures (by year) is nominally similar across all medication given, with some slight variation.\n",
    " - These distributions are consistent with the distributions of their underlying factors.\n",
    " - Certain medications groups/types are administered more by a certain Provider Tenure. However no anomaly of medication administration was found.\n",
    " - Certain of Medications Type(Name) administered can be relate to the Provider's Start year/tenure.\n",
    " - Certain number of medications types ( among 8 medications reviewed) were given more(or less) on a certain year.\n",
    "<li><b> More...</b>\n"
   ]
  }
 ],
 "metadata": {
  "kernelspec": {
   "display_name": "Python 3",
   "language": "python",
   "name": "python3"
  },
  "language_info": {
   "codemirror_mode": {
    "name": "ipython",
    "version": 3
   },
   "file_extension": ".py",
   "mimetype": "text/x-python",
   "name": "python",
   "nbconvert_exporter": "python",
   "pygments_lexer": "ipython3",
   "version": "3.8.6"
  }
 },
 "nbformat": 4,
 "nbformat_minor": 5
}
