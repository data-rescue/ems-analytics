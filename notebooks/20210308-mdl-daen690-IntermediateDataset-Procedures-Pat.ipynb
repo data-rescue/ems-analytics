{
 "cells": [
  {
   "cell_type": "markdown",
   "metadata": {},
   "source": [
    "# Merge and Prepare Intermediate Datasets -- Procedures and Patients\n",
    "\n",
    "The script for Procedures: \n",
    "- reads in the raw data provided by our project partner,\n",
    "- drops duplicate records for a particular FRDPersonnelID\n",
    "\n",
    "The script for Patients: \n",
    "- drops unneeded columns\n",
    "- removes duplicate rows,\n",
    "- Drops NULL rows for Provider Gender and Start Date\n",
    "\n",
    "Then the script performs a merge of the Procedures and Patients datasets with:\n",
    "- an inner join on PatientId and FRDPersonnelID\n",
    "- a left outer join on Procedures back to Patients to build Orphan rows dataframe\n",
    "- build lookup reference dataframe from Patients of all Providers\n",
    "- inner join lookup dataframe with Orphan rows dataframe\n",
    "- build lookup reference dataframe from Patients of all Patients\n",
    "- merge lookup dataframe with Orphan rows dataframe on PatientId only\n",
    "- append Orphan rows dataframe back to Procedure+Patients dataframe\n",
    "- add tenure by month attribute,\n",
    "- converts categorical data into numeric,\n",
    "- adds new numeric columns utilizing the the \"One Hot Encoding\" method, then\n",
    "- outputs dataframe to a CSV file.\n",
    "\n",
    "_Author: Mark Lee_\n"
   ]
  },
  {
   "cell_type": "code",
   "execution_count": 1,
   "metadata": {},
   "outputs": [],
   "source": [
    "# Function to identify and print easy to understand variable types \n",
    "def get_var_category(series):\n",
    "    unique_count = series.nunique(dropna=False)\n",
    "    total_count = len(series)\n",
    "    if pd.api.types.is_numeric_dtype(series):\n",
    "        return 'Numerical'\n",
    "    elif pd.api.types.is_datetime64_dtype(series):\n",
    "        return 'Date'\n",
    "    elif unique_count == total_count:\n",
    "        return 'Text (Unique)'\n",
    "    else:\n",
    "        return 'Categorical'\n",
    "\n",
    "def print_categories(df):\n",
    "    for column_name in df.columns:\n",
    "        print(column_name, \": \", get_var_category(df[column_name]))"
   ]
  },
  {
   "cell_type": "code",
   "execution_count": 2,
   "metadata": {},
   "outputs": [
    {
     "data": {
      "text/html": [
       "<style>.container { width:80% !important; }</style>"
      ],
      "text/plain": [
       "<IPython.core.display.HTML object>"
      ]
     },
     "metadata": {},
     "output_type": "display_data"
    }
   ],
   "source": [
    "# Import libraries\n",
    "import numpy as np\n",
    "import pandas as pd\n",
    "import os, time\n",
    "\n",
    "# Setup HTML display\n",
    "from IPython.core.display import display, HTML\n",
    "# Notebook cell width adjustment\n",
    "display(HTML('<style>.container { width:80% !important; }</style>'))"
   ]
  },
  {
   "cell_type": "markdown",
   "metadata": {},
   "source": [
    "## Read in Procedures dataset"
   ]
  },
  {
   "cell_type": "code",
   "execution_count": 3,
   "metadata": {},
   "outputs": [
    {
     "name": "stdout",
     "output_type": "stream",
     "text": [
      "The file was read in 1 minutes and 36 seconds.\n"
     ]
    },
    {
     "data": {
      "text/plain": [
       "(170808, 6)"
      ]
     },
     "execution_count": 3,
     "metadata": {},
     "output_type": "execute_result"
    }
   ],
   "source": [
    "# Read in Procedures dataset and capture how long it takes\n",
    "print(os.getcwd())\n",
    "readStart=time.time()\n",
    "\n",
    "dfProcedures = pd.read_excel(r'../data/01_raw/20210225-ems-raw-v04.xlsx', \n",
    "                        sheet_name='Procedures',\n",
    "                        na_values=['NA'])\n",
    "\n",
    "# Stop the clock and calculate read time\n",
    "readStop=time.time()\n",
    "readTime=readStop-readStart\n",
    "readMin=np.floor(readTime/60)\n",
    "readSec=np.floor(readTime-(readMin*60))\n",
    "print(\"The file was read in {0:.0f} minutes and {1:.0f} seconds.\".format(readMin,readSec))\n",
    "\n",
    "dfProcedures.shape"
   ]
  },
  {
   "cell_type": "markdown",
   "metadata": {},
   "source": [
    "## Read in Patients dataset"
   ]
  },
  {
   "cell_type": "code",
   "execution_count": 4,
   "metadata": {},
   "outputs": [
    {
     "name": "stdout",
     "output_type": "stream",
     "text": [
      "The file was read in 1 minutes and 48 seconds.\n"
     ]
    },
    {
     "data": {
      "text/plain": [
       "(543774, 12)"
      ]
     },
     "execution_count": 4,
     "metadata": {},
     "output_type": "execute_result"
    }
   ],
   "source": [
    "# Read in Patients dataset and capture how long it takes\n",
    "print(os.getcwd())\n",
    "readStart=time.time()\n",
    "\n",
    "dfPatients = pd.read_excel(r'../data/01_raw/20210225-ems-raw-v04.xlsx', \n",
    "                        sheet_name='Patients', \n",
    "                        na_values=['NA'])\n",
    "\n",
    "# Stop the clock and calculate read time\n",
    "readStop=time.time()\n",
    "readTime=readStop-readStart\n",
    "readMin=np.floor(readTime/60)\n",
    "readSec=np.floor(readTime-(readMin*60))\n",
    "print(\"The file was read in {0:.0f} minutes and {1:.0f} seconds.\".format(readMin,readSec))\n",
    "\n",
    "dfPatients.shape"
   ]
  },
  {
   "cell_type": "markdown",
   "metadata": {},
   "source": [
    "# Working with Procedures dataframe\n",
    "\n",
    "### Capture Procedures record count in variable to track how many rows ultimately get removed"
   ]
  },
  {
   "cell_type": "code",
   "execution_count": 5,
   "metadata": {},
   "outputs": [
    {
     "name": "stdout",
     "output_type": "stream",
     "text": [
      "Procedures record count:  170808\n"
     ]
    }
   ],
   "source": [
    "varProceduresCount = len(dfProcedures.index)\n",
    "print('Procedures record count: ', varProceduresCount)"
   ]
  },
  {
   "cell_type": "markdown",
   "metadata": {},
   "source": [
    "### Getting a count of NULL values, but not dropping them yet"
   ]
  },
  {
   "cell_type": "code",
   "execution_count": 6,
   "metadata": {},
   "outputs": [
    {
     "data": {
      "text/plain": [
       "(' \\nCount total NaN at each column in a Procedures dataFrame : \\n\\n',\n",
       " Dim_Procedure_PK                    0\n",
       " PatientId                           0\n",
       " Procedure_Performed_Code            0\n",
       " Procedure_Performed_Description     0\n",
       " FRDPersonnelID                      0\n",
       " Procedure_Performed_Date_Time      31\n",
       " dtype: int64)"
      ]
     },
     "execution_count": 6,
     "metadata": {},
     "output_type": "execute_result"
    }
   ],
   "source": [
    "(\" \\nCount total NaN at each column in a Procedures dataFrame : \\n\\n\", dfProcedures.isnull().sum())"
   ]
  },
  {
   "cell_type": "markdown",
   "metadata": {},
   "source": [
    "### Display data types"
   ]
  },
  {
   "cell_type": "code",
   "execution_count": 7,
   "metadata": {},
   "outputs": [
    {
     "name": "stdout",
     "output_type": "stream",
     "text": [
      "Dim_Procedure_PK :  Numerical\n",
      "PatientId :  Numerical\n",
      "Procedure_Performed_Code :  Numerical\n",
      "Procedure_Performed_Description :  Categorical\n",
      "FRDPersonnelID :  Categorical\n",
      "Procedure_Performed_Date_Time :  Date\n"
     ]
    }
   ],
   "source": [
    "print_categories(dfProcedures)"
   ]
  },
  {
   "cell_type": "markdown",
   "metadata": {},
   "source": [
    "### Drop Procedure_Performed_Date_Time column which is not needed for analytics, Dim_Procedure_PK acts as a record-level unique identifier"
   ]
  },
  {
   "cell_type": "code",
   "execution_count": 8,
   "metadata": {},
   "outputs": [
    {
     "name": "stdout",
     "output_type": "stream",
     "text": [
      "\n",
      "After modifying first column:\n",
      " Index(['Dim_Procedure_PK', 'PatientId', 'Procedure_Performed_Code',\n",
      "       'Procedure_Performed_Description', 'FRDPersonnelID'],\n",
      "      dtype='object')\n"
     ]
    }
   ],
   "source": [
    "dfProcedures = dfProcedures.drop(['Procedure_Performed_Date_Time'],axis=1)\n",
    "print(\"\\nAfter modifying first column:\\n\", dfProcedures.columns)"
   ]
  },
  {
   "cell_type": "code",
   "execution_count": 9,
   "metadata": {},
   "outputs": [
    {
     "data": {
      "text/html": [
       "<div>\n",
       "<style scoped>\n",
       "    .dataframe tbody tr th:only-of-type {\n",
       "        vertical-align: middle;\n",
       "    }\n",
       "\n",
       "    .dataframe tbody tr th {\n",
       "        vertical-align: top;\n",
       "    }\n",
       "\n",
       "    .dataframe thead th {\n",
       "        text-align: right;\n",
       "    }\n",
       "</style>\n",
       "<table border=\"1\" class=\"dataframe\">\n",
       "  <thead>\n",
       "    <tr style=\"text-align: right;\">\n",
       "      <th></th>\n",
       "      <th>Dim_Procedure_PK</th>\n",
       "      <th>PatientId</th>\n",
       "      <th>Procedure_Performed_Code</th>\n",
       "      <th>Procedure_Performed_Description</th>\n",
       "      <th>FRDPersonnelID</th>\n",
       "    </tr>\n",
       "  </thead>\n",
       "  <tbody>\n",
       "    <tr>\n",
       "      <th>0</th>\n",
       "      <td>180498</td>\n",
       "      <td>479853</td>\n",
       "      <td>392230005</td>\n",
       "      <td>IV Start - Extremity Vein (arm or leg)</td>\n",
       "      <td>58D5C99E-9E01-E211-B5F5-78E7D18CFD3C</td>\n",
       "    </tr>\n",
       "    <tr>\n",
       "      <th>1</th>\n",
       "      <td>180499</td>\n",
       "      <td>479853</td>\n",
       "      <td>268400002</td>\n",
       "      <td>CV - ECG - 12 Lead Obtained</td>\n",
       "      <td>58D5C99E-9E01-E211-B5F5-78E7D18CFD3C</td>\n",
       "    </tr>\n",
       "    <tr>\n",
       "      <th>2</th>\n",
       "      <td>180500</td>\n",
       "      <td>479853</td>\n",
       "      <td>268400002</td>\n",
       "      <td>CV - ECG - 12 Lead Obtained</td>\n",
       "      <td>58D5C99E-9E01-E211-B5F5-78E7D18CFD3C</td>\n",
       "    </tr>\n",
       "    <tr>\n",
       "      <th>3</th>\n",
       "      <td>180501</td>\n",
       "      <td>479853</td>\n",
       "      <td>268400002</td>\n",
       "      <td>CV - ECG - 12 Lead Obtained</td>\n",
       "      <td>58D5C99E-9E01-E211-B5F5-78E7D18CFD3C</td>\n",
       "    </tr>\n",
       "    <tr>\n",
       "      <th>4</th>\n",
       "      <td>180508</td>\n",
       "      <td>479862</td>\n",
       "      <td>268400002</td>\n",
       "      <td>CV - ECG - 12 Lead Obtained</td>\n",
       "      <td>1D18E8FC-EE92-E211-A596-78E7D18C3D20</td>\n",
       "    </tr>\n",
       "  </tbody>\n",
       "</table>\n",
       "</div>"
      ],
      "text/plain": [
       "   Dim_Procedure_PK  PatientId  Procedure_Performed_Code  \\\n",
       "0            180498     479853                 392230005   \n",
       "1            180499     479853                 268400002   \n",
       "2            180500     479853                 268400002   \n",
       "3            180501     479853                 268400002   \n",
       "4            180508     479862                 268400002   \n",
       "\n",
       "          Procedure_Performed_Description  \\\n",
       "0  IV Start - Extremity Vein (arm or leg)   \n",
       "1             CV - ECG - 12 Lead Obtained   \n",
       "2             CV - ECG - 12 Lead Obtained   \n",
       "3             CV - ECG - 12 Lead Obtained   \n",
       "4             CV - ECG - 12 Lead Obtained   \n",
       "\n",
       "                         FRDPersonnelID  \n",
       "0  58D5C99E-9E01-E211-B5F5-78E7D18CFD3C  \n",
       "1  58D5C99E-9E01-E211-B5F5-78E7D18CFD3C  \n",
       "2  58D5C99E-9E01-E211-B5F5-78E7D18CFD3C  \n",
       "3  58D5C99E-9E01-E211-B5F5-78E7D18CFD3C  \n",
       "4  1D18E8FC-EE92-E211-A596-78E7D18C3D20  "
      ]
     },
     "execution_count": 9,
     "metadata": {},
     "output_type": "execute_result"
    }
   ],
   "source": [
    "dfProcedures.head()"
   ]
  },
  {
   "cell_type": "markdown",
   "metadata": {},
   "source": [
    "### No need to drop PatientGender NULL rows for intermediate dataset, may drop in analytics design step"
   ]
  },
  {
   "cell_type": "code",
   "execution_count": 10,
   "metadata": {},
   "outputs": [],
   "source": [
    "#dfProcedures = dfProcedures.drop(dfProcedures[(dfProcedures.PatientGender.isnull())].index)\n",
    "#dfProcedures.shape"
   ]
  },
  {
   "cell_type": "markdown",
   "metadata": {},
   "source": [
    "### Drop duplicate Procedures rows, these are related to where FRDPersonnelID = 9E5D40DC-5DC6-E411-80C7-001DD8B71D38"
   ]
  },
  {
   "cell_type": "code",
   "execution_count": 11,
   "metadata": {},
   "outputs": [
    {
     "data": {
      "text/plain": [
       "(170161, 5)"
      ]
     },
     "execution_count": 11,
     "metadata": {},
     "output_type": "execute_result"
    }
   ],
   "source": [
    "dfProcedures = pd.DataFrame.drop_duplicates(dfProcedures)\n",
    "dfProcedures.shape"
   ]
  },
  {
   "cell_type": "markdown",
   "metadata": {},
   "source": [
    "### Capture revised Procedures record count in variable"
   ]
  },
  {
   "cell_type": "code",
   "execution_count": 12,
   "metadata": {},
   "outputs": [
    {
     "name": "stdout",
     "output_type": "stream",
     "text": [
      "Procedures revised record count:  170161\n"
     ]
    }
   ],
   "source": [
    "varProceduresCount2 = len(dfProcedures.index)\n",
    "print('Procedures revised record count: ', varProceduresCount2)"
   ]
  },
  {
   "cell_type": "markdown",
   "metadata": {},
   "source": [
    "### Display duplicate records dropped count"
   ]
  },
  {
   "cell_type": "code",
   "execution_count": 13,
   "metadata": {},
   "outputs": [
    {
     "name": "stdout",
     "output_type": "stream",
     "text": [
      "Duplicate records count:  647\n"
     ]
    }
   ],
   "source": [
    "varProceduresDiff = varProceduresCount - varProceduresCount2\n",
    "print('Duplicate records count: ', varProceduresDiff)"
   ]
  },
  {
   "cell_type": "markdown",
   "metadata": {},
   "source": [
    "# Working with Patients dataframe\n",
    "\n",
    "### Capture Patients record count in variable to track how many rows ultimately get removed"
   ]
  },
  {
   "cell_type": "code",
   "execution_count": 14,
   "metadata": {},
   "outputs": [
    {
     "name": "stdout",
     "output_type": "stream",
     "text": [
      "Patients record count:  543774\n"
     ]
    }
   ],
   "source": [
    "varPatientsCount = len(dfPatients.index)\n",
    "print('Patients record count: ', varPatientsCount)"
   ]
  },
  {
   "cell_type": "code",
   "execution_count": 15,
   "metadata": {},
   "outputs": [
    {
     "name": "stdout",
     "output_type": "stream",
     "text": [
      " \n",
      "Count total NaN at each column in a Patients dataFrame : \n",
      "\n",
      " PatientId                     0\n",
      "FRDPersonnelID                0\n",
      "Shift                         0\n",
      "UnitId                        0\n",
      "FireStation                   0\n",
      "Battalion                     0\n",
      "PatientOutcome                2\n",
      "PatientGender            131378\n",
      "CrewMemberRoles               0\n",
      "DispatchTime                  0\n",
      "FRDPersonnelGender          474\n",
      "FRDPersonnelStartDate       474\n",
      "dtype: int64\n"
     ]
    }
   ],
   "source": [
    "print(\" \\nCount total NaN at each column in a Patients dataFrame : \\n\\n\", dfPatients.isnull().sum())"
   ]
  },
  {
   "cell_type": "markdown",
   "metadata": {},
   "source": [
    "Work on Patients dataset first"
   ]
  },
  {
   "cell_type": "code",
   "execution_count": 16,
   "metadata": {},
   "outputs": [
    {
     "name": "stdout",
     "output_type": "stream",
     "text": [
      "PatientId :  Numerical\n",
      "FRDPersonnelID :  Categorical\n",
      "Shift :  Categorical\n",
      "UnitId :  Categorical\n",
      "FireStation :  Numerical\n",
      "Battalion :  Numerical\n",
      "PatientOutcome :  Categorical\n",
      "PatientGender :  Categorical\n",
      "CrewMemberRoles :  Categorical\n",
      "DispatchTime :  Date\n",
      "FRDPersonnelGender :  Categorical\n",
      "FRDPersonnelStartDate :  Date\n"
     ]
    }
   ],
   "source": [
    "print_categories(dfPatients)"
   ]
  },
  {
   "cell_type": "markdown",
   "metadata": {},
   "source": [
    "## Keeping necessary columns for Focus Questions\n",
    "```\n",
    "PatientId\n",
    "FRDPersonnelID\n",
    "PatientOutcome\n",
    "PatientGender\n",
    "DispatchTime\n",
    "FRDPersonnelGender\n",
    "FRDPersonnelStartDate\n",
    "```"
   ]
  },
  {
   "cell_type": "markdown",
   "metadata": {},
   "source": [
    "### Create new dataframe with only columns needed for Focus Questions"
   ]
  },
  {
   "cell_type": "code",
   "execution_count": 17,
   "metadata": {},
   "outputs": [
    {
     "data": {
      "text/plain": [
       "(543774, 7)"
      ]
     },
     "execution_count": 17,
     "metadata": {},
     "output_type": "execute_result"
    }
   ],
   "source": [
    "dfPatientsSub = dfPatients.iloc[:, [0,1,6,7,9,10,11]]\n",
    "dfPatientsSub.shape"
   ]
  },
  {
   "cell_type": "code",
   "execution_count": 18,
   "metadata": {},
   "outputs": [
    {
     "data": {
      "text/html": [
       "<div>\n",
       "<style scoped>\n",
       "    .dataframe tbody tr th:only-of-type {\n",
       "        vertical-align: middle;\n",
       "    }\n",
       "\n",
       "    .dataframe tbody tr th {\n",
       "        vertical-align: top;\n",
       "    }\n",
       "\n",
       "    .dataframe thead th {\n",
       "        text-align: right;\n",
       "    }\n",
       "</style>\n",
       "<table border=\"1\" class=\"dataframe\">\n",
       "  <thead>\n",
       "    <tr style=\"text-align: right;\">\n",
       "      <th></th>\n",
       "      <th>PatientId</th>\n",
       "      <th>FRDPersonnelID</th>\n",
       "      <th>PatientOutcome</th>\n",
       "      <th>PatientGender</th>\n",
       "      <th>DispatchTime</th>\n",
       "      <th>FRDPersonnelGender</th>\n",
       "      <th>FRDPersonnelStartDate</th>\n",
       "    </tr>\n",
       "  </thead>\n",
       "  <tbody>\n",
       "    <tr>\n",
       "      <th>0</th>\n",
       "      <td>479838</td>\n",
       "      <td>6ED7C99E-9E01-E211-B5F5-78E7D18CFD3C</td>\n",
       "      <td>Standby (No Services Performed)</td>\n",
       "      <td>NaN</td>\n",
       "      <td>2018-01-01 00:29:02</td>\n",
       "      <td>Male</td>\n",
       "      <td>1997-08-18</td>\n",
       "    </tr>\n",
       "    <tr>\n",
       "      <th>1</th>\n",
       "      <td>479838</td>\n",
       "      <td>F39A55F0-C619-E511-80CA-001DD8B71D38</td>\n",
       "      <td>Standby (No Services Performed)</td>\n",
       "      <td>NaN</td>\n",
       "      <td>2018-01-01 00:29:02</td>\n",
       "      <td>Male</td>\n",
       "      <td>2007-02-19</td>\n",
       "    </tr>\n",
       "    <tr>\n",
       "      <th>2</th>\n",
       "      <td>479838</td>\n",
       "      <td>D6D3C99E-9E01-E211-B5F5-78E7D18CFD3C</td>\n",
       "      <td>Standby (No Services Performed)</td>\n",
       "      <td>NaN</td>\n",
       "      <td>2018-01-01 00:29:02</td>\n",
       "      <td>Male</td>\n",
       "      <td>2008-08-18</td>\n",
       "    </tr>\n",
       "    <tr>\n",
       "      <th>3</th>\n",
       "      <td>479839</td>\n",
       "      <td>71D4C99E-9E01-E211-B5F5-78E7D18CFD3C</td>\n",
       "      <td>No Treatment/Transport Required</td>\n",
       "      <td>NaN</td>\n",
       "      <td>2018-01-01 00:40:54</td>\n",
       "      <td>Male</td>\n",
       "      <td>2011-10-24</td>\n",
       "    </tr>\n",
       "    <tr>\n",
       "      <th>4</th>\n",
       "      <td>479839</td>\n",
       "      <td>F9D4C99E-9E01-E211-B5F5-78E7D18CFD3C</td>\n",
       "      <td>No Treatment/Transport Required</td>\n",
       "      <td>NaN</td>\n",
       "      <td>2018-01-01 00:40:54</td>\n",
       "      <td>Male</td>\n",
       "      <td>2012-02-27</td>\n",
       "    </tr>\n",
       "  </tbody>\n",
       "</table>\n",
       "</div>"
      ],
      "text/plain": [
       "   PatientId                        FRDPersonnelID  \\\n",
       "0     479838  6ED7C99E-9E01-E211-B5F5-78E7D18CFD3C   \n",
       "1     479838  F39A55F0-C619-E511-80CA-001DD8B71D38   \n",
       "2     479838  D6D3C99E-9E01-E211-B5F5-78E7D18CFD3C   \n",
       "3     479839  71D4C99E-9E01-E211-B5F5-78E7D18CFD3C   \n",
       "4     479839  F9D4C99E-9E01-E211-B5F5-78E7D18CFD3C   \n",
       "\n",
       "                    PatientOutcome PatientGender        DispatchTime  \\\n",
       "0  Standby (No Services Performed)           NaN 2018-01-01 00:29:02   \n",
       "1  Standby (No Services Performed)           NaN 2018-01-01 00:29:02   \n",
       "2  Standby (No Services Performed)           NaN 2018-01-01 00:29:02   \n",
       "3  No Treatment/Transport Required           NaN 2018-01-01 00:40:54   \n",
       "4  No Treatment/Transport Required           NaN 2018-01-01 00:40:54   \n",
       "\n",
       "  FRDPersonnelGender FRDPersonnelStartDate  \n",
       "0               Male            1997-08-18  \n",
       "1               Male            2007-02-19  \n",
       "2               Male            2008-08-18  \n",
       "3               Male            2011-10-24  \n",
       "4               Male            2012-02-27  "
      ]
     },
     "execution_count": 18,
     "metadata": {},
     "output_type": "execute_result"
    }
   ],
   "source": [
    "dfPatientsSub.head()"
   ]
  },
  {
   "cell_type": "markdown",
   "metadata": {},
   "source": [
    "### Remove duplicate records "
   ]
  },
  {
   "cell_type": "code",
   "execution_count": 19,
   "metadata": {},
   "outputs": [
    {
     "data": {
      "text/plain": [
       "(543718, 7)"
      ]
     },
     "execution_count": 19,
     "metadata": {},
     "output_type": "execute_result"
    }
   ],
   "source": [
    "dfPatientsSub = pd.DataFrame.drop_duplicates(dfPatientsSub)\n",
    "dfPatientsSub.shape"
   ]
  },
  {
   "cell_type": "markdown",
   "metadata": {},
   "source": [
    "### Capture revised Patients record count in variable"
   ]
  },
  {
   "cell_type": "code",
   "execution_count": 20,
   "metadata": {},
   "outputs": [
    {
     "name": "stdout",
     "output_type": "stream",
     "text": [
      "Patients record count:  543718\n"
     ]
    }
   ],
   "source": [
    "varPatientsSubCount = len(dfPatientsSub.index)\n",
    "print('Patients record count: ', varPatientsSubCount)"
   ]
  },
  {
   "cell_type": "markdown",
   "metadata": {},
   "source": [
    "### Display duplicate records dropped count"
   ]
  },
  {
   "cell_type": "code",
   "execution_count": 21,
   "metadata": {},
   "outputs": [
    {
     "name": "stdout",
     "output_type": "stream",
     "text": [
      "Duplicate records count:  56\n"
     ]
    }
   ],
   "source": [
    "varPatientsSubDiff = varPatientsCount - varPatientsSubCount\n",
    "print('Duplicate records count: ', varPatientsSubDiff)"
   ]
  },
  {
   "cell_type": "markdown",
   "metadata": {},
   "source": [
    "### Just getting a count of NULL values, but not dropping them yet"
   ]
  },
  {
   "cell_type": "code",
   "execution_count": 22,
   "metadata": {},
   "outputs": [
    {
     "data": {
      "text/plain": [
       "(' \\nCount total NaN at each column in a Procedures Sub dataFrame : \\n\\n',\n",
       " PatientId                     0\n",
       " FRDPersonnelID                0\n",
       " PatientOutcome                2\n",
       " PatientGender            131365\n",
       " DispatchTime                  0\n",
       " FRDPersonnelGender          460\n",
       " FRDPersonnelStartDate       460\n",
       " dtype: int64)"
      ]
     },
     "execution_count": 22,
     "metadata": {},
     "output_type": "execute_result"
    }
   ],
   "source": [
    "(\" \\nCount total NaN at each column in a Procedures Sub dataFrame : \\n\\n\", dfPatientsSub.isnull().sum())"
   ]
  },
  {
   "cell_type": "markdown",
   "metadata": {},
   "source": [
    "### Drop NULL PatientGender records"
   ]
  },
  {
   "cell_type": "code",
   "execution_count": 23,
   "metadata": {},
   "outputs": [],
   "source": [
    "# Don't run yet\n",
    "\n",
    "#dfPatientsSub = dfPatientsSub.drop(dfPatientsSub[(dfPatientsSub.PatientGender.isnull())].index)\n",
    "#dfPatientsSub.shape"
   ]
  },
  {
   "cell_type": "markdown",
   "metadata": {},
   "source": [
    "### Drop NULL rows for Provider Gender and Start Date (FRDPersonnelGender and FRDPersonnelStartDate are both 460)"
   ]
  },
  {
   "cell_type": "code",
   "execution_count": 24,
   "metadata": {},
   "outputs": [
    {
     "data": {
      "text/plain": [
       "(543258, 7)"
      ]
     },
     "execution_count": 24,
     "metadata": {},
     "output_type": "execute_result"
    }
   ],
   "source": [
    "dfPatientsSub = dfPatientsSub.drop(dfPatientsSub[(dfPatientsSub.FRDPersonnelGender.isnull())].index)\n",
    "dfPatientsSub.shape"
   ]
  },
  {
   "cell_type": "markdown",
   "metadata": {},
   "source": [
    "### Capture revised Patients record count in variable"
   ]
  },
  {
   "cell_type": "code",
   "execution_count": 25,
   "metadata": {},
   "outputs": [
    {
     "name": "stdout",
     "output_type": "stream",
     "text": [
      "Patients record count:  543258\n"
     ]
    }
   ],
   "source": [
    "varPatientsSubCount2 = len(dfPatientsSub.index)\n",
    "print('Patients record count: ', varPatientsSubCount2)"
   ]
  },
  {
   "cell_type": "markdown",
   "metadata": {},
   "source": [
    "### Display duplicate records dropped count"
   ]
  },
  {
   "cell_type": "code",
   "execution_count": 26,
   "metadata": {},
   "outputs": [
    {
     "name": "stdout",
     "output_type": "stream",
     "text": [
      "Duplicate records count:  460\n"
     ]
    }
   ],
   "source": [
    "varPatientsSubDiff2 = varPatientsSubCount - varPatientsSubCount2\n",
    "print('Duplicate records count: ', varPatientsSubDiff2)"
   ]
  },
  {
   "cell_type": "markdown",
   "metadata": {},
   "source": [
    "# Merge Procedures and Patients datasets\n",
    "\n",
    "Start with an inner join Between the Procedures and Patients dataframes on `PatientId` and `FRDPersonnelID`"
   ]
  },
  {
   "cell_type": "code",
   "execution_count": 27,
   "metadata": {},
   "outputs": [
    {
     "data": {
      "text/plain": [
       "(147281, 10)"
      ]
     },
     "execution_count": 27,
     "metadata": {},
     "output_type": "execute_result"
    }
   ],
   "source": [
    "dfProcPat = dfPatientsSub.merge(dfProcedures, \n",
    "                        on=('PatientId','FRDPersonnelID'))\n",
    "dfProcPat.shape"
   ]
  },
  {
   "cell_type": "code",
   "execution_count": 28,
   "metadata": {},
   "outputs": [
    {
     "data": {
      "text/html": [
       "<div>\n",
       "<style scoped>\n",
       "    .dataframe tbody tr th:only-of-type {\n",
       "        vertical-align: middle;\n",
       "    }\n",
       "\n",
       "    .dataframe tbody tr th {\n",
       "        vertical-align: top;\n",
       "    }\n",
       "\n",
       "    .dataframe thead th {\n",
       "        text-align: right;\n",
       "    }\n",
       "</style>\n",
       "<table border=\"1\" class=\"dataframe\">\n",
       "  <thead>\n",
       "    <tr style=\"text-align: right;\">\n",
       "      <th></th>\n",
       "      <th>PatientId</th>\n",
       "      <th>FRDPersonnelID</th>\n",
       "      <th>PatientOutcome</th>\n",
       "      <th>PatientGender</th>\n",
       "      <th>DispatchTime</th>\n",
       "      <th>FRDPersonnelGender</th>\n",
       "      <th>FRDPersonnelStartDate</th>\n",
       "      <th>Dim_Procedure_PK</th>\n",
       "      <th>Procedure_Performed_Code</th>\n",
       "      <th>Procedure_Performed_Description</th>\n",
       "    </tr>\n",
       "  </thead>\n",
       "  <tbody>\n",
       "    <tr>\n",
       "      <th>0</th>\n",
       "      <td>479853</td>\n",
       "      <td>58D5C99E-9E01-E211-B5F5-78E7D18CFD3C</td>\n",
       "      <td>Treated &amp; Transported</td>\n",
       "      <td>Male</td>\n",
       "      <td>2018-01-01 00:04:06</td>\n",
       "      <td>Male</td>\n",
       "      <td>2004-07-12</td>\n",
       "      <td>180498</td>\n",
       "      <td>392230005</td>\n",
       "      <td>IV Start - Extremity Vein (arm or leg)</td>\n",
       "    </tr>\n",
       "    <tr>\n",
       "      <th>1</th>\n",
       "      <td>479853</td>\n",
       "      <td>58D5C99E-9E01-E211-B5F5-78E7D18CFD3C</td>\n",
       "      <td>Treated &amp; Transported</td>\n",
       "      <td>Male</td>\n",
       "      <td>2018-01-01 00:04:06</td>\n",
       "      <td>Male</td>\n",
       "      <td>2004-07-12</td>\n",
       "      <td>180499</td>\n",
       "      <td>268400002</td>\n",
       "      <td>CV - ECG - 12 Lead Obtained</td>\n",
       "    </tr>\n",
       "    <tr>\n",
       "      <th>2</th>\n",
       "      <td>479853</td>\n",
       "      <td>58D5C99E-9E01-E211-B5F5-78E7D18CFD3C</td>\n",
       "      <td>Treated &amp; Transported</td>\n",
       "      <td>Male</td>\n",
       "      <td>2018-01-01 00:04:06</td>\n",
       "      <td>Male</td>\n",
       "      <td>2004-07-12</td>\n",
       "      <td>180500</td>\n",
       "      <td>268400002</td>\n",
       "      <td>CV - ECG - 12 Lead Obtained</td>\n",
       "    </tr>\n",
       "    <tr>\n",
       "      <th>3</th>\n",
       "      <td>479853</td>\n",
       "      <td>58D5C99E-9E01-E211-B5F5-78E7D18CFD3C</td>\n",
       "      <td>Treated &amp; Transported</td>\n",
       "      <td>Male</td>\n",
       "      <td>2018-01-01 00:04:06</td>\n",
       "      <td>Male</td>\n",
       "      <td>2004-07-12</td>\n",
       "      <td>180501</td>\n",
       "      <td>268400002</td>\n",
       "      <td>CV - ECG - 12 Lead Obtained</td>\n",
       "    </tr>\n",
       "    <tr>\n",
       "      <th>4</th>\n",
       "      <td>479862</td>\n",
       "      <td>32D8C99E-9E01-E211-B5F5-78E7D18CFD3C</td>\n",
       "      <td>Treated &amp; Transported</td>\n",
       "      <td>Female</td>\n",
       "      <td>2018-01-01 00:44:31</td>\n",
       "      <td>Male</td>\n",
       "      <td>2006-12-11</td>\n",
       "      <td>180510</td>\n",
       "      <td>392230005</td>\n",
       "      <td>IV Start - Extremity Vein (arm or leg)</td>\n",
       "    </tr>\n",
       "  </tbody>\n",
       "</table>\n",
       "</div>"
      ],
      "text/plain": [
       "   PatientId                        FRDPersonnelID          PatientOutcome  \\\n",
       "0     479853  58D5C99E-9E01-E211-B5F5-78E7D18CFD3C  Treated & Transported    \n",
       "1     479853  58D5C99E-9E01-E211-B5F5-78E7D18CFD3C  Treated & Transported    \n",
       "2     479853  58D5C99E-9E01-E211-B5F5-78E7D18CFD3C  Treated & Transported    \n",
       "3     479853  58D5C99E-9E01-E211-B5F5-78E7D18CFD3C  Treated & Transported    \n",
       "4     479862  32D8C99E-9E01-E211-B5F5-78E7D18CFD3C  Treated & Transported    \n",
       "\n",
       "  PatientGender        DispatchTime FRDPersonnelGender FRDPersonnelStartDate  \\\n",
       "0          Male 2018-01-01 00:04:06               Male            2004-07-12   \n",
       "1          Male 2018-01-01 00:04:06               Male            2004-07-12   \n",
       "2          Male 2018-01-01 00:04:06               Male            2004-07-12   \n",
       "3          Male 2018-01-01 00:04:06               Male            2004-07-12   \n",
       "4        Female 2018-01-01 00:44:31               Male            2006-12-11   \n",
       "\n",
       "   Dim_Procedure_PK  Procedure_Performed_Code  \\\n",
       "0            180498                 392230005   \n",
       "1            180499                 268400002   \n",
       "2            180500                 268400002   \n",
       "3            180501                 268400002   \n",
       "4            180510                 392230005   \n",
       "\n",
       "          Procedure_Performed_Description  \n",
       "0  IV Start - Extremity Vein (arm or leg)  \n",
       "1             CV - ECG - 12 Lead Obtained  \n",
       "2             CV - ECG - 12 Lead Obtained  \n",
       "3             CV - ECG - 12 Lead Obtained  \n",
       "4  IV Start - Extremity Vein (arm or leg)  "
      ]
     },
     "execution_count": 28,
     "metadata": {},
     "output_type": "execute_result"
    }
   ],
   "source": [
    "dfProcPat.head()"
   ]
  },
  {
   "cell_type": "markdown",
   "metadata": {},
   "source": [
    "### Display count of NULLs by column"
   ]
  },
  {
   "cell_type": "code",
   "execution_count": 29,
   "metadata": {},
   "outputs": [
    {
     "data": {
      "text/plain": [
       "(' \\nCount total NaN at each column in a Procedures+Patients dataFrame : \\n\\n',\n",
       " PatientId                            0\n",
       " FRDPersonnelID                       0\n",
       " PatientOutcome                       0\n",
       " PatientGender                      104\n",
       " DispatchTime                         0\n",
       " FRDPersonnelGender                   0\n",
       " FRDPersonnelStartDate                0\n",
       " Dim_Procedure_PK                     0\n",
       " Procedure_Performed_Code             0\n",
       " Procedure_Performed_Description      0\n",
       " dtype: int64)"
      ]
     },
     "execution_count": 29,
     "metadata": {},
     "output_type": "execute_result"
    }
   ],
   "source": [
    "(\" \\nCount total NaN at each column in a Procedures+Patients dataFrame : \\n\\n\", dfProcPat.isnull().sum())"
   ]
  },
  {
   "cell_type": "markdown",
   "metadata": {},
   "source": [
    "## Perform a left outer join on Procedures back to Procedures+Patients where NULL"
   ]
  },
  {
   "cell_type": "markdown",
   "metadata": {},
   "source": [
    "### Add Composite Key using PatientId and FRDPersonnelID to both Procedures and Procedures+Patients datasets for left outer joins"
   ]
  },
  {
   "cell_type": "code",
   "execution_count": 30,
   "metadata": {},
   "outputs": [],
   "source": [
    "dfProcedures['PK'] = dfProcedures['PatientId'].map(str) + '_' + dfProcedures['FRDPersonnelID']\n",
    "dfProcPat['_PK'] = dfProcPat['PatientId'].map(str) + '_' + dfProcPat['FRDPersonnelID']"
   ]
  },
  {
   "cell_type": "markdown",
   "metadata": {},
   "source": [
    "### Check columns"
   ]
  },
  {
   "cell_type": "code",
   "execution_count": 31,
   "metadata": {},
   "outputs": [
    {
     "data": {
      "text/plain": [
       "Index(['PatientId', 'FRDPersonnelID', 'PatientOutcome', 'PatientGender',\n",
       "       'DispatchTime', 'FRDPersonnelGender', 'FRDPersonnelStartDate',\n",
       "       'Dim_Procedure_PK', 'Procedure_Performed_Code',\n",
       "       'Procedure_Performed_Description', '_PK'],\n",
       "      dtype='object')"
      ]
     },
     "execution_count": 31,
     "metadata": {},
     "output_type": "execute_result"
    }
   ],
   "source": [
    "dfProcPat.columns"
   ]
  },
  {
   "cell_type": "markdown",
   "metadata": {},
   "source": [
    "### Display count of NULLs by column"
   ]
  },
  {
   "cell_type": "code",
   "execution_count": 32,
   "metadata": {},
   "outputs": [
    {
     "name": "stdout",
     "output_type": "stream",
     "text": [
      " \n",
      "Count total NaN at each column in a Procedures+Patients dataFrame : \n",
      "\n",
      " PatientId                            0\n",
      "FRDPersonnelID                       0\n",
      "PatientOutcome                       0\n",
      "PatientGender                      104\n",
      "DispatchTime                         0\n",
      "FRDPersonnelGender                   0\n",
      "FRDPersonnelStartDate                0\n",
      "Dim_Procedure_PK                     0\n",
      "Procedure_Performed_Code             0\n",
      "Procedure_Performed_Description      0\n",
      "_PK                                  0\n",
      "dtype: int64\n"
     ]
    }
   ],
   "source": [
    "print(\" \\nCount total NaN at each column in a Procedures+Patients dataFrame : \\n\\n\", dfProcPat.isnull().sum())"
   ]
  },
  {
   "cell_type": "markdown",
   "metadata": {},
   "source": [
    "### Perform left outer join on Composite Keys (PK and _PK) and create a new dataframe to append to exising dfProcPat"
   ]
  },
  {
   "cell_type": "code",
   "execution_count": 33,
   "metadata": {},
   "outputs": [],
   "source": [
    "procPKi = dfProcedures.set_index('PK')\n",
    "procPatPKi = dfProcPat.set_index('_PK')\n",
    "\n",
    "dfProcLeftJoin = dfProcedures.merge(procPatPKi, \n",
    "                             how = 'left', \n",
    "                             left_on = ('PK'),\n",
    "                             right_on = ('_PK'), \n",
    "                             indicator = 'i').query('i == \"left_only\"')"
   ]
  },
  {
   "cell_type": "code",
   "execution_count": 34,
   "metadata": {},
   "outputs": [
    {
     "data": {
      "text/plain": [
       "(22880, 17)"
      ]
     },
     "execution_count": 34,
     "metadata": {},
     "output_type": "execute_result"
    }
   ],
   "source": [
    "dfProcLeftJoin.shape"
   ]
  },
  {
   "cell_type": "code",
   "execution_count": 35,
   "metadata": {},
   "outputs": [
    {
     "data": {
      "text/html": [
       "<div>\n",
       "<style scoped>\n",
       "    .dataframe tbody tr th:only-of-type {\n",
       "        vertical-align: middle;\n",
       "    }\n",
       "\n",
       "    .dataframe tbody tr th {\n",
       "        vertical-align: top;\n",
       "    }\n",
       "\n",
       "    .dataframe thead th {\n",
       "        text-align: right;\n",
       "    }\n",
       "</style>\n",
       "<table border=\"1\" class=\"dataframe\">\n",
       "  <thead>\n",
       "    <tr style=\"text-align: right;\">\n",
       "      <th></th>\n",
       "      <th>Dim_Procedure_PK_x</th>\n",
       "      <th>PatientId_x</th>\n",
       "      <th>Procedure_Performed_Code_x</th>\n",
       "      <th>Procedure_Performed_Description_x</th>\n",
       "      <th>FRDPersonnelID_x</th>\n",
       "      <th>PK</th>\n",
       "      <th>PatientId_y</th>\n",
       "      <th>FRDPersonnelID_y</th>\n",
       "      <th>PatientOutcome</th>\n",
       "      <th>PatientGender</th>\n",
       "      <th>DispatchTime</th>\n",
       "      <th>FRDPersonnelGender</th>\n",
       "      <th>FRDPersonnelStartDate</th>\n",
       "      <th>Dim_Procedure_PK_y</th>\n",
       "      <th>Procedure_Performed_Code_y</th>\n",
       "      <th>Procedure_Performed_Description_y</th>\n",
       "      <th>i</th>\n",
       "    </tr>\n",
       "  </thead>\n",
       "  <tbody>\n",
       "    <tr>\n",
       "      <th>27</th>\n",
       "      <td>180516</td>\n",
       "      <td>479885</td>\n",
       "      <td>392230005</td>\n",
       "      <td>IV Start - Extremity Vein (arm or leg)</td>\n",
       "      <td>17D3C99E-9E01-E211-B5F5-78E7D18CFD3C</td>\n",
       "      <td>479885_17D3C99E-9E01-E211-B5F5-78E7D18CFD3C</td>\n",
       "      <td>NaN</td>\n",
       "      <td>NaN</td>\n",
       "      <td>NaN</td>\n",
       "      <td>NaN</td>\n",
       "      <td>NaT</td>\n",
       "      <td>NaN</td>\n",
       "      <td>NaT</td>\n",
       "      <td>NaN</td>\n",
       "      <td>NaN</td>\n",
       "      <td>NaN</td>\n",
       "      <td>left_only</td>\n",
       "    </tr>\n",
       "    <tr>\n",
       "      <th>30</th>\n",
       "      <td>180519</td>\n",
       "      <td>479920</td>\n",
       "      <td>392230005</td>\n",
       "      <td>IV Start - Extremity Vein (arm or leg)</td>\n",
       "      <td>C387923A-F613-E411-A585-F305C4522FCB</td>\n",
       "      <td>479920_C387923A-F613-E411-A585-F305C4522FCB</td>\n",
       "      <td>NaN</td>\n",
       "      <td>NaN</td>\n",
       "      <td>NaN</td>\n",
       "      <td>NaN</td>\n",
       "      <td>NaT</td>\n",
       "      <td>NaN</td>\n",
       "      <td>NaT</td>\n",
       "      <td>NaN</td>\n",
       "      <td>NaN</td>\n",
       "      <td>NaN</td>\n",
       "      <td>left_only</td>\n",
       "    </tr>\n",
       "    <tr>\n",
       "      <th>31</th>\n",
       "      <td>180532</td>\n",
       "      <td>480011</td>\n",
       "      <td>392230005</td>\n",
       "      <td>IV Start - Extremity Vein (arm or leg)</td>\n",
       "      <td>9BD2C99E-9E01-E211-B5F5-78E7D18CFD3C</td>\n",
       "      <td>480011_9BD2C99E-9E01-E211-B5F5-78E7D18CFD3C</td>\n",
       "      <td>NaN</td>\n",
       "      <td>NaN</td>\n",
       "      <td>NaN</td>\n",
       "      <td>NaN</td>\n",
       "      <td>NaT</td>\n",
       "      <td>NaN</td>\n",
       "      <td>NaT</td>\n",
       "      <td>NaN</td>\n",
       "      <td>NaN</td>\n",
       "      <td>NaN</td>\n",
       "      <td>left_only</td>\n",
       "    </tr>\n",
       "    <tr>\n",
       "      <th>35</th>\n",
       "      <td>180549</td>\n",
       "      <td>480042</td>\n",
       "      <td>392230005</td>\n",
       "      <td>IV Start - Extremity Vein (arm or leg)</td>\n",
       "      <td>F1D2C99E-9E01-E211-B5F5-78E7D18CFD3C</td>\n",
       "      <td>480042_F1D2C99E-9E01-E211-B5F5-78E7D18CFD3C</td>\n",
       "      <td>NaN</td>\n",
       "      <td>NaN</td>\n",
       "      <td>NaN</td>\n",
       "      <td>NaN</td>\n",
       "      <td>NaT</td>\n",
       "      <td>NaN</td>\n",
       "      <td>NaT</td>\n",
       "      <td>NaN</td>\n",
       "      <td>NaN</td>\n",
       "      <td>NaN</td>\n",
       "      <td>left_only</td>\n",
       "    </tr>\n",
       "    <tr>\n",
       "      <th>36</th>\n",
       "      <td>180557</td>\n",
       "      <td>480049</td>\n",
       "      <td>392230005</td>\n",
       "      <td>IV Start - Extremity Vein (arm or leg)</td>\n",
       "      <td>72D2C99E-9E01-E211-B5F5-78E7D18CFD3C</td>\n",
       "      <td>480049_72D2C99E-9E01-E211-B5F5-78E7D18CFD3C</td>\n",
       "      <td>NaN</td>\n",
       "      <td>NaN</td>\n",
       "      <td>NaN</td>\n",
       "      <td>NaN</td>\n",
       "      <td>NaT</td>\n",
       "      <td>NaN</td>\n",
       "      <td>NaT</td>\n",
       "      <td>NaN</td>\n",
       "      <td>NaN</td>\n",
       "      <td>NaN</td>\n",
       "      <td>left_only</td>\n",
       "    </tr>\n",
       "  </tbody>\n",
       "</table>\n",
       "</div>"
      ],
      "text/plain": [
       "    Dim_Procedure_PK_x  PatientId_x  Procedure_Performed_Code_x  \\\n",
       "27              180516       479885                   392230005   \n",
       "30              180519       479920                   392230005   \n",
       "31              180532       480011                   392230005   \n",
       "35              180549       480042                   392230005   \n",
       "36              180557       480049                   392230005   \n",
       "\n",
       "         Procedure_Performed_Description_x  \\\n",
       "27  IV Start - Extremity Vein (arm or leg)   \n",
       "30  IV Start - Extremity Vein (arm or leg)   \n",
       "31  IV Start - Extremity Vein (arm or leg)   \n",
       "35  IV Start - Extremity Vein (arm or leg)   \n",
       "36  IV Start - Extremity Vein (arm or leg)   \n",
       "\n",
       "                        FRDPersonnelID_x  \\\n",
       "27  17D3C99E-9E01-E211-B5F5-78E7D18CFD3C   \n",
       "30  C387923A-F613-E411-A585-F305C4522FCB   \n",
       "31  9BD2C99E-9E01-E211-B5F5-78E7D18CFD3C   \n",
       "35  F1D2C99E-9E01-E211-B5F5-78E7D18CFD3C   \n",
       "36  72D2C99E-9E01-E211-B5F5-78E7D18CFD3C   \n",
       "\n",
       "                                             PK  PatientId_y FRDPersonnelID_y  \\\n",
       "27  479885_17D3C99E-9E01-E211-B5F5-78E7D18CFD3C          NaN              NaN   \n",
       "30  479920_C387923A-F613-E411-A585-F305C4522FCB          NaN              NaN   \n",
       "31  480011_9BD2C99E-9E01-E211-B5F5-78E7D18CFD3C          NaN              NaN   \n",
       "35  480042_F1D2C99E-9E01-E211-B5F5-78E7D18CFD3C          NaN              NaN   \n",
       "36  480049_72D2C99E-9E01-E211-B5F5-78E7D18CFD3C          NaN              NaN   \n",
       "\n",
       "   PatientOutcome PatientGender DispatchTime FRDPersonnelGender  \\\n",
       "27            NaN           NaN          NaT                NaN   \n",
       "30            NaN           NaN          NaT                NaN   \n",
       "31            NaN           NaN          NaT                NaN   \n",
       "35            NaN           NaN          NaT                NaN   \n",
       "36            NaN           NaN          NaT                NaN   \n",
       "\n",
       "   FRDPersonnelStartDate  Dim_Procedure_PK_y  Procedure_Performed_Code_y  \\\n",
       "27                   NaT                 NaN                         NaN   \n",
       "30                   NaT                 NaN                         NaN   \n",
       "31                   NaT                 NaN                         NaN   \n",
       "35                   NaT                 NaN                         NaN   \n",
       "36                   NaT                 NaN                         NaN   \n",
       "\n",
       "   Procedure_Performed_Description_y          i  \n",
       "27                               NaN  left_only  \n",
       "30                               NaN  left_only  \n",
       "31                               NaN  left_only  \n",
       "35                               NaN  left_only  \n",
       "36                               NaN  left_only  "
      ]
     },
     "execution_count": 35,
     "metadata": {},
     "output_type": "execute_result"
    }
   ],
   "source": [
    "dfProcLeftJoin.head()"
   ]
  },
  {
   "cell_type": "markdown",
   "metadata": {},
   "source": [
    "### Display count of NULLs by column"
   ]
  },
  {
   "cell_type": "code",
   "execution_count": 36,
   "metadata": {},
   "outputs": [
    {
     "name": "stdout",
     "output_type": "stream",
     "text": [
      " \n",
      "Count total NaN at each column in a Procedures+Patients dataFrame : \n",
      "\n",
      " Dim_Procedure_PK_x                       0\n",
      "PatientId_x                              0\n",
      "Procedure_Performed_Code_x               0\n",
      "Procedure_Performed_Description_x        0\n",
      "FRDPersonnelID_x                         0\n",
      "PK                                       0\n",
      "PatientId_y                          22880\n",
      "FRDPersonnelID_y                     22880\n",
      "PatientOutcome                       22880\n",
      "PatientGender                        22880\n",
      "DispatchTime                         22880\n",
      "FRDPersonnelGender                   22880\n",
      "FRDPersonnelStartDate                22880\n",
      "Dim_Procedure_PK_y                   22880\n",
      "Procedure_Performed_Code_y           22880\n",
      "Procedure_Performed_Description_y    22880\n",
      "i                                        0\n",
      "dtype: int64\n"
     ]
    }
   ],
   "source": [
    "print(\" \\nCount total NaN at each column in a Procedures+Patients dataFrame : \\n\\n\", dfProcLeftJoin.isnull().sum())"
   ]
  },
  {
   "cell_type": "markdown",
   "metadata": {},
   "source": [
    "### Rename columns with _x"
   ]
  },
  {
   "cell_type": "code",
   "execution_count": 37,
   "metadata": {},
   "outputs": [
    {
     "name": "stdout",
     "output_type": "stream",
     "text": [
      "\n",
      "After modifying first column:\n",
      " Index(['Dim_Procedure_PK', 'PatientId', 'Procedure_Performed_Code',\n",
      "       'Procedure_Performed_Description', 'FRDPersonnelID', 'PK',\n",
      "       'PatientId_y', 'FRDPersonnelID_y', 'PatientOutcome', 'PatientGender',\n",
      "       'DispatchTime', 'FRDPersonnelGender', 'FRDPersonnelStartDate',\n",
      "       'Dim_Procedure_PK_y', 'Procedure_Performed_Code_y',\n",
      "       'Procedure_Performed_Description_y', 'i'],\n",
      "      dtype='object')\n"
     ]
    }
   ],
   "source": [
    "dfProcLeftJoin.rename(columns = {'Dim_Procedure_PK_x':'Dim_Procedure_PK',\n",
    "                                     'PatientId_x':'PatientId',\n",
    "                                     'Procedure_Performed_Code_x':'Procedure_Performed_Code',\n",
    "                                     'Procedure_Performed_Description_x':'Procedure_Performed_Description',\n",
    "                                     'FRDPersonnelID_x':'FRDPersonnelID'}, inplace = True) \n",
    "print(\"\\nAfter modifying first column:\\n\", dfProcLeftJoin.columns)"
   ]
  },
  {
   "cell_type": "markdown",
   "metadata": {},
   "source": [
    "### Drop all NaN, _y columns, don't need them anymore"
   ]
  },
  {
   "cell_type": "code",
   "execution_count": 38,
   "metadata": {},
   "outputs": [
    {
     "name": "stdout",
     "output_type": "stream",
     "text": [
      "\n",
      "After modifying first column:\n",
      " Index(['Dim_Procedure_PK', 'PatientId', 'Procedure_Performed_Code',\n",
      "       'Procedure_Performed_Description', 'FRDPersonnelID', 'PK'],\n",
      "      dtype='object')\n"
     ]
    }
   ],
   "source": [
    "dfProcLeftJoin = dfProcLeftJoin.drop(['PatientId_y', 'FRDPersonnelID_y', 'PatientOutcome', 'PatientGender',\n",
    "                                      'DispatchTime', 'FRDPersonnelGender', 'FRDPersonnelStartDate',\n",
    "                                      'Dim_Procedure_PK_y', 'Procedure_Performed_Code_y', \n",
    "                                      'Procedure_Performed_Description_y', 'i'],axis=1)\n",
    "print(\"\\nAfter modifying first column:\\n\", dfProcLeftJoin.columns)"
   ]
  },
  {
   "cell_type": "code",
   "execution_count": 39,
   "metadata": {},
   "outputs": [
    {
     "data": {
      "text/plain": [
       "(22880, 6)"
      ]
     },
     "execution_count": 39,
     "metadata": {},
     "output_type": "execute_result"
    }
   ],
   "source": [
    "dfProcLeftJoin.shape"
   ]
  },
  {
   "cell_type": "markdown",
   "metadata": {},
   "source": [
    "### Display count of NULLs by column"
   ]
  },
  {
   "cell_type": "code",
   "execution_count": 40,
   "metadata": {},
   "outputs": [
    {
     "name": "stdout",
     "output_type": "stream",
     "text": [
      " \n",
      "Count total NaN at each column in a Procedures+Patients dataFrame : \n",
      "\n",
      " Dim_Procedure_PK                   0\n",
      "PatientId                          0\n",
      "Procedure_Performed_Code           0\n",
      "Procedure_Performed_Description    0\n",
      "FRDPersonnelID                     0\n",
      "PK                                 0\n",
      "dtype: int64\n"
     ]
    }
   ],
   "source": [
    "print(\" \\nCount total NaN at each column in a Procedures+Patients dataFrame : \\n\\n\", dfProcLeftJoin.isnull().sum())"
   ]
  },
  {
   "cell_type": "markdown",
   "metadata": {},
   "source": [
    "## Build lookup reference dataframe from Patients dataframe containing a distinct list of \n",
    "```\n",
    "FRDPersonnelID\n",
    "FRDPersonnelGender\n",
    "FRDPersonnelStartDate\n",
    "```\n",
    "## Then join lookup dataframe luProvider with dfProcLeftJoin on PatientId only"
   ]
  },
  {
   "cell_type": "code",
   "execution_count": 41,
   "metadata": {},
   "outputs": [
    {
     "data": {
      "text/plain": [
       "(1830, 4)"
      ]
     },
     "execution_count": 41,
     "metadata": {},
     "output_type": "execute_result"
    }
   ],
   "source": [
    "# Create Lookup table for Providers\n",
    "luProvider = dfPatients.groupby(['FRDPersonnelID','FRDPersonnelGender', 'FRDPersonnelStartDate']).size().reset_index(name='count')\n",
    "luProvider.shape"
   ]
  },
  {
   "cell_type": "code",
   "execution_count": 42,
   "metadata": {},
   "outputs": [
    {
     "data": {
      "text/html": [
       "<div>\n",
       "<style scoped>\n",
       "    .dataframe tbody tr th:only-of-type {\n",
       "        vertical-align: middle;\n",
       "    }\n",
       "\n",
       "    .dataframe tbody tr th {\n",
       "        vertical-align: top;\n",
       "    }\n",
       "\n",
       "    .dataframe thead th {\n",
       "        text-align: right;\n",
       "    }\n",
       "</style>\n",
       "<table border=\"1\" class=\"dataframe\">\n",
       "  <thead>\n",
       "    <tr style=\"text-align: right;\">\n",
       "      <th></th>\n",
       "      <th>FRDPersonnelID</th>\n",
       "      <th>FRDPersonnelGender</th>\n",
       "      <th>FRDPersonnelStartDate</th>\n",
       "      <th>count</th>\n",
       "    </tr>\n",
       "  </thead>\n",
       "  <tbody>\n",
       "    <tr>\n",
       "      <th>0</th>\n",
       "      <td>00D5C99E-9E01-E211-B5F5-78E7D18CFD3C</td>\n",
       "      <td>Male</td>\n",
       "      <td>2008-04-28</td>\n",
       "      <td>1200</td>\n",
       "    </tr>\n",
       "    <tr>\n",
       "      <th>1</th>\n",
       "      <td>00D6C99E-9E01-E211-B5F5-78E7D18CFD3C</td>\n",
       "      <td>Male</td>\n",
       "      <td>2007-09-17</td>\n",
       "      <td>388</td>\n",
       "    </tr>\n",
       "    <tr>\n",
       "      <th>2</th>\n",
       "      <td>00D7C99E-9E01-E211-B5F5-78E7D18CFD3C</td>\n",
       "      <td>Male</td>\n",
       "      <td>1993-09-20</td>\n",
       "      <td>21</td>\n",
       "    </tr>\n",
       "    <tr>\n",
       "      <th>3</th>\n",
       "      <td>00D8C99E-9E01-E211-B5F5-78E7D18CFD3C</td>\n",
       "      <td>Male</td>\n",
       "      <td>1991-06-03</td>\n",
       "      <td>5</td>\n",
       "    </tr>\n",
       "    <tr>\n",
       "      <th>4</th>\n",
       "      <td>00D9C99E-9E01-E211-B5F5-78E7D18CFD3C</td>\n",
       "      <td>Male</td>\n",
       "      <td>2003-04-19</td>\n",
       "      <td>249</td>\n",
       "    </tr>\n",
       "  </tbody>\n",
       "</table>\n",
       "</div>"
      ],
      "text/plain": [
       "                         FRDPersonnelID FRDPersonnelGender  \\\n",
       "0  00D5C99E-9E01-E211-B5F5-78E7D18CFD3C               Male   \n",
       "1  00D6C99E-9E01-E211-B5F5-78E7D18CFD3C               Male   \n",
       "2  00D7C99E-9E01-E211-B5F5-78E7D18CFD3C               Male   \n",
       "3  00D8C99E-9E01-E211-B5F5-78E7D18CFD3C               Male   \n",
       "4  00D9C99E-9E01-E211-B5F5-78E7D18CFD3C               Male   \n",
       "\n",
       "  FRDPersonnelStartDate  count  \n",
       "0            2008-04-28   1200  \n",
       "1            2007-09-17    388  \n",
       "2            1993-09-20     21  \n",
       "3            1991-06-03      5  \n",
       "4            2003-04-19    249  "
      ]
     },
     "execution_count": 42,
     "metadata": {},
     "output_type": "execute_result"
    }
   ],
   "source": [
    "luProvider.head(5)"
   ]
  },
  {
   "cell_type": "code",
   "execution_count": 43,
   "metadata": {},
   "outputs": [],
   "source": [
    "# Drop count column, not needed\n",
    "luProvider = luProvider.drop(['count'],axis=1)"
   ]
  },
  {
   "cell_type": "markdown",
   "metadata": {},
   "source": [
    "# Join lookup dataframe luProvider with dfProcLeftJoin on PatientId only"
   ]
  },
  {
   "cell_type": "code",
   "execution_count": 44,
   "metadata": {},
   "outputs": [
    {
     "data": {
      "text/plain": [
       "(22869, 8)"
      ]
     },
     "execution_count": 44,
     "metadata": {},
     "output_type": "execute_result"
    }
   ],
   "source": [
    "dfProcPatOrphans = dfProcLeftJoin.merge(luProvider, \n",
    "                        on=('FRDPersonnelID'))\n",
    "dfProcPatOrphans.shape"
   ]
  },
  {
   "cell_type": "code",
   "execution_count": 45,
   "metadata": {},
   "outputs": [
    {
     "data": {
      "text/html": [
       "<div>\n",
       "<style scoped>\n",
       "    .dataframe tbody tr th:only-of-type {\n",
       "        vertical-align: middle;\n",
       "    }\n",
       "\n",
       "    .dataframe tbody tr th {\n",
       "        vertical-align: top;\n",
       "    }\n",
       "\n",
       "    .dataframe thead th {\n",
       "        text-align: right;\n",
       "    }\n",
       "</style>\n",
       "<table border=\"1\" class=\"dataframe\">\n",
       "  <thead>\n",
       "    <tr style=\"text-align: right;\">\n",
       "      <th></th>\n",
       "      <th>Dim_Procedure_PK</th>\n",
       "      <th>PatientId</th>\n",
       "      <th>Procedure_Performed_Code</th>\n",
       "      <th>Procedure_Performed_Description</th>\n",
       "      <th>FRDPersonnelID</th>\n",
       "      <th>PK</th>\n",
       "      <th>FRDPersonnelGender</th>\n",
       "      <th>FRDPersonnelStartDate</th>\n",
       "    </tr>\n",
       "  </thead>\n",
       "  <tbody>\n",
       "    <tr>\n",
       "      <th>0</th>\n",
       "      <td>180516</td>\n",
       "      <td>479885</td>\n",
       "      <td>392230005</td>\n",
       "      <td>IV Start - Extremity Vein (arm or leg)</td>\n",
       "      <td>17D3C99E-9E01-E211-B5F5-78E7D18CFD3C</td>\n",
       "      <td>479885_17D3C99E-9E01-E211-B5F5-78E7D18CFD3C</td>\n",
       "      <td>Male</td>\n",
       "      <td>2005-07-25</td>\n",
       "    </tr>\n",
       "    <tr>\n",
       "      <th>1</th>\n",
       "      <td>185426</td>\n",
       "      <td>486284</td>\n",
       "      <td>392230005</td>\n",
       "      <td>IV Start - Extremity Vein (arm or leg)</td>\n",
       "      <td>17D3C99E-9E01-E211-B5F5-78E7D18CFD3C</td>\n",
       "      <td>486284_17D3C99E-9E01-E211-B5F5-78E7D18CFD3C</td>\n",
       "      <td>Male</td>\n",
       "      <td>2005-07-25</td>\n",
       "    </tr>\n",
       "    <tr>\n",
       "      <th>2</th>\n",
       "      <td>186800</td>\n",
       "      <td>488083</td>\n",
       "      <td>392230005</td>\n",
       "      <td>IV Start - Extremity Vein (arm or leg)</td>\n",
       "      <td>17D3C99E-9E01-E211-B5F5-78E7D18CFD3C</td>\n",
       "      <td>488083_17D3C99E-9E01-E211-B5F5-78E7D18CFD3C</td>\n",
       "      <td>Male</td>\n",
       "      <td>2005-07-25</td>\n",
       "    </tr>\n",
       "    <tr>\n",
       "      <th>3</th>\n",
       "      <td>209301</td>\n",
       "      <td>514333</td>\n",
       "      <td>392230005</td>\n",
       "      <td>IV Start - Extremity Vein (arm or leg)</td>\n",
       "      <td>17D3C99E-9E01-E211-B5F5-78E7D18CFD3C</td>\n",
       "      <td>514333_17D3C99E-9E01-E211-B5F5-78E7D18CFD3C</td>\n",
       "      <td>Male</td>\n",
       "      <td>2005-07-25</td>\n",
       "    </tr>\n",
       "    <tr>\n",
       "      <th>4</th>\n",
       "      <td>214483</td>\n",
       "      <td>522281</td>\n",
       "      <td>392230005</td>\n",
       "      <td>IV Start - Extremity Vein (arm or leg)</td>\n",
       "      <td>17D3C99E-9E01-E211-B5F5-78E7D18CFD3C</td>\n",
       "      <td>522281_17D3C99E-9E01-E211-B5F5-78E7D18CFD3C</td>\n",
       "      <td>Male</td>\n",
       "      <td>2005-07-25</td>\n",
       "    </tr>\n",
       "  </tbody>\n",
       "</table>\n",
       "</div>"
      ],
      "text/plain": [
       "   Dim_Procedure_PK  PatientId  Procedure_Performed_Code  \\\n",
       "0            180516     479885                 392230005   \n",
       "1            185426     486284                 392230005   \n",
       "2            186800     488083                 392230005   \n",
       "3            209301     514333                 392230005   \n",
       "4            214483     522281                 392230005   \n",
       "\n",
       "          Procedure_Performed_Description  \\\n",
       "0  IV Start - Extremity Vein (arm or leg)   \n",
       "1  IV Start - Extremity Vein (arm or leg)   \n",
       "2  IV Start - Extremity Vein (arm or leg)   \n",
       "3  IV Start - Extremity Vein (arm or leg)   \n",
       "4  IV Start - Extremity Vein (arm or leg)   \n",
       "\n",
       "                         FRDPersonnelID  \\\n",
       "0  17D3C99E-9E01-E211-B5F5-78E7D18CFD3C   \n",
       "1  17D3C99E-9E01-E211-B5F5-78E7D18CFD3C   \n",
       "2  17D3C99E-9E01-E211-B5F5-78E7D18CFD3C   \n",
       "3  17D3C99E-9E01-E211-B5F5-78E7D18CFD3C   \n",
       "4  17D3C99E-9E01-E211-B5F5-78E7D18CFD3C   \n",
       "\n",
       "                                            PK FRDPersonnelGender  \\\n",
       "0  479885_17D3C99E-9E01-E211-B5F5-78E7D18CFD3C               Male   \n",
       "1  486284_17D3C99E-9E01-E211-B5F5-78E7D18CFD3C               Male   \n",
       "2  488083_17D3C99E-9E01-E211-B5F5-78E7D18CFD3C               Male   \n",
       "3  514333_17D3C99E-9E01-E211-B5F5-78E7D18CFD3C               Male   \n",
       "4  522281_17D3C99E-9E01-E211-B5F5-78E7D18CFD3C               Male   \n",
       "\n",
       "  FRDPersonnelStartDate  \n",
       "0            2005-07-25  \n",
       "1            2005-07-25  \n",
       "2            2005-07-25  \n",
       "3            2005-07-25  \n",
       "4            2005-07-25  "
      ]
     },
     "execution_count": 45,
     "metadata": {},
     "output_type": "execute_result"
    }
   ],
   "source": [
    "dfProcPatOrphans.head()"
   ]
  },
  {
   "cell_type": "markdown",
   "metadata": {},
   "source": [
    "### The count of dfProcPatOrphans is 11 records difference, so quick analysis to see why dfProcLeftJoin = 22880, dfProcPatOrphans = 22869, diff 11 rows"
   ]
  },
  {
   "cell_type": "code",
   "execution_count": 46,
   "metadata": {},
   "outputs": [],
   "source": [
    "dfProcPatOrphansAnalysis = dfProcPatOrphans"
   ]
  },
  {
   "cell_type": "code",
   "execution_count": 47,
   "metadata": {},
   "outputs": [],
   "source": [
    "dfProcPatOrphansAnalysis.rename(columns = {'PK':'_PK'}, inplace = True)"
   ]
  },
  {
   "cell_type": "code",
   "execution_count": 48,
   "metadata": {},
   "outputs": [],
   "source": [
    "procPKi = dfProcLeftJoin.set_index('PK')\n",
    "procPatPKi = dfProcPatOrphansAnalysis.set_index('_PK')\n",
    "\n",
    "dfProcLeftJoinAnalysis = dfProcLeftJoin.merge(procPatPKi, \n",
    "                             how = 'left', \n",
    "                             left_on = ('PK'),\n",
    "                             right_on = ('_PK'), \n",
    "                             indicator = 'i').query('i == \"left_only\"')"
   ]
  },
  {
   "cell_type": "code",
   "execution_count": 49,
   "metadata": {},
   "outputs": [
    {
     "data": {
      "text/plain": [
       "(11, 14)"
      ]
     },
     "execution_count": 49,
     "metadata": {},
     "output_type": "execute_result"
    }
   ],
   "source": [
    "dfProcLeftJoinAnalysis.shape"
   ]
  },
  {
   "cell_type": "code",
   "execution_count": 50,
   "metadata": {},
   "outputs": [
    {
     "data": {
      "text/html": [
       "<div>\n",
       "<style scoped>\n",
       "    .dataframe tbody tr th:only-of-type {\n",
       "        vertical-align: middle;\n",
       "    }\n",
       "\n",
       "    .dataframe tbody tr th {\n",
       "        vertical-align: top;\n",
       "    }\n",
       "\n",
       "    .dataframe thead th {\n",
       "        text-align: right;\n",
       "    }\n",
       "</style>\n",
       "<table border=\"1\" class=\"dataframe\">\n",
       "  <thead>\n",
       "    <tr style=\"text-align: right;\">\n",
       "      <th></th>\n",
       "      <th>Dim_Procedure_PK_x</th>\n",
       "      <th>PatientId_x</th>\n",
       "      <th>Procedure_Performed_Code_x</th>\n",
       "      <th>Procedure_Performed_Description_x</th>\n",
       "      <th>FRDPersonnelID_x</th>\n",
       "      <th>PK</th>\n",
       "      <th>Dim_Procedure_PK_y</th>\n",
       "      <th>PatientId_y</th>\n",
       "      <th>Procedure_Performed_Code_y</th>\n",
       "      <th>Procedure_Performed_Description_y</th>\n",
       "      <th>FRDPersonnelID_y</th>\n",
       "      <th>FRDPersonnelGender</th>\n",
       "      <th>FRDPersonnelStartDate</th>\n",
       "      <th>i</th>\n",
       "    </tr>\n",
       "  </thead>\n",
       "  <tbody>\n",
       "    <tr>\n",
       "      <th>146</th>\n",
       "      <td>184565</td>\n",
       "      <td>485335</td>\n",
       "      <td>392230005</td>\n",
       "      <td>IV Start - Extremity Vein (arm or leg)</td>\n",
       "      <td>4CD8C99E-9E01-E211-B5F5-78E7D18CFD3C</td>\n",
       "      <td>485335_4CD8C99E-9E01-E211-B5F5-78E7D18CFD3C</td>\n",
       "      <td>NaN</td>\n",
       "      <td>NaN</td>\n",
       "      <td>NaN</td>\n",
       "      <td>NaN</td>\n",
       "      <td>NaN</td>\n",
       "      <td>NaN</td>\n",
       "      <td>NaT</td>\n",
       "      <td>left_only</td>\n",
       "    </tr>\n",
       "    <tr>\n",
       "      <th>414</th>\n",
       "      <td>192135</td>\n",
       "      <td>494708</td>\n",
       "      <td>392230005</td>\n",
       "      <td>IV Start - Extremity Vein (arm or leg)</td>\n",
       "      <td>AAD8C99E-9E01-E211-B5F5-78E7D18CFD3C</td>\n",
       "      <td>494708_AAD8C99E-9E01-E211-B5F5-78E7D18CFD3C</td>\n",
       "      <td>NaN</td>\n",
       "      <td>NaN</td>\n",
       "      <td>NaN</td>\n",
       "      <td>NaN</td>\n",
       "      <td>NaN</td>\n",
       "      <td>NaN</td>\n",
       "      <td>NaT</td>\n",
       "      <td>left_only</td>\n",
       "    </tr>\n",
       "    <tr>\n",
       "      <th>1509</th>\n",
       "      <td>223503</td>\n",
       "      <td>531908</td>\n",
       "      <td>392230005</td>\n",
       "      <td>IV Start - Extremity Vein (arm or leg)</td>\n",
       "      <td>6AD7C99E-9E01-E211-B5F5-78E7D18CFD3C</td>\n",
       "      <td>531908_6AD7C99E-9E01-E211-B5F5-78E7D18CFD3C</td>\n",
       "      <td>NaN</td>\n",
       "      <td>NaN</td>\n",
       "      <td>NaN</td>\n",
       "      <td>NaN</td>\n",
       "      <td>NaN</td>\n",
       "      <td>NaN</td>\n",
       "      <td>NaT</td>\n",
       "      <td>left_only</td>\n",
       "    </tr>\n",
       "    <tr>\n",
       "      <th>1657</th>\n",
       "      <td>228522</td>\n",
       "      <td>538259</td>\n",
       "      <td>392230005</td>\n",
       "      <td>IV Start - Extremity Vein (arm or leg)</td>\n",
       "      <td>AAD8C99E-9E01-E211-B5F5-78E7D18CFD3C</td>\n",
       "      <td>538259_AAD8C99E-9E01-E211-B5F5-78E7D18CFD3C</td>\n",
       "      <td>NaN</td>\n",
       "      <td>NaN</td>\n",
       "      <td>NaN</td>\n",
       "      <td>NaN</td>\n",
       "      <td>NaN</td>\n",
       "      <td>NaN</td>\n",
       "      <td>NaT</td>\n",
       "      <td>left_only</td>\n",
       "    </tr>\n",
       "    <tr>\n",
       "      <th>4512</th>\n",
       "      <td>956627</td>\n",
       "      <td>621689</td>\n",
       "      <td>392230005</td>\n",
       "      <td>IV Start - Extremity Vein (arm or leg)</td>\n",
       "      <td>AAD8C99E-9E01-E211-B5F5-78E7D18CFD3C</td>\n",
       "      <td>621689_AAD8C99E-9E01-E211-B5F5-78E7D18CFD3C</td>\n",
       "      <td>NaN</td>\n",
       "      <td>NaN</td>\n",
       "      <td>NaN</td>\n",
       "      <td>NaN</td>\n",
       "      <td>NaN</td>\n",
       "      <td>NaN</td>\n",
       "      <td>NaT</td>\n",
       "      <td>left_only</td>\n",
       "    </tr>\n",
       "    <tr>\n",
       "      <th>8329</th>\n",
       "      <td>1068456</td>\n",
       "      <td>731691</td>\n",
       "      <td>392230005</td>\n",
       "      <td>IV Start - Extremity Vein (arm or leg)</td>\n",
       "      <td>0707D573-B26A-4E75-99AC-5C135B8F3271</td>\n",
       "      <td>731691_0707D573-B26A-4E75-99AC-5C135B8F3271</td>\n",
       "      <td>NaN</td>\n",
       "      <td>NaN</td>\n",
       "      <td>NaN</td>\n",
       "      <td>NaN</td>\n",
       "      <td>NaN</td>\n",
       "      <td>NaN</td>\n",
       "      <td>NaT</td>\n",
       "      <td>left_only</td>\n",
       "    </tr>\n",
       "    <tr>\n",
       "      <th>8937</th>\n",
       "      <td>1087195</td>\n",
       "      <td>751013</td>\n",
       "      <td>392230005</td>\n",
       "      <td>IV Start - Extremity Vein (arm or leg)</td>\n",
       "      <td>AAD8C99E-9E01-E211-B5F5-78E7D18CFD3C</td>\n",
       "      <td>751013_AAD8C99E-9E01-E211-B5F5-78E7D18CFD3C</td>\n",
       "      <td>NaN</td>\n",
       "      <td>NaN</td>\n",
       "      <td>NaN</td>\n",
       "      <td>NaN</td>\n",
       "      <td>NaN</td>\n",
       "      <td>NaN</td>\n",
       "      <td>NaT</td>\n",
       "      <td>left_only</td>\n",
       "    </tr>\n",
       "    <tr>\n",
       "      <th>13213</th>\n",
       "      <td>1156914</td>\n",
       "      <td>892544</td>\n",
       "      <td>268400002</td>\n",
       "      <td>CV - ECG - 12 Lead Obtained</td>\n",
       "      <td>11D6C99E-9E01-E211-B5F5-78E7D18CFD3C</td>\n",
       "      <td>892544_11D6C99E-9E01-E211-B5F5-78E7D18CFD3C</td>\n",
       "      <td>NaN</td>\n",
       "      <td>NaN</td>\n",
       "      <td>NaN</td>\n",
       "      <td>NaN</td>\n",
       "      <td>NaN</td>\n",
       "      <td>NaN</td>\n",
       "      <td>NaT</td>\n",
       "      <td>left_only</td>\n",
       "    </tr>\n",
       "    <tr>\n",
       "      <th>18642</th>\n",
       "      <td>1188677</td>\n",
       "      <td>1075825</td>\n",
       "      <td>392230005</td>\n",
       "      <td>IV Start - Extremity Vein (arm or leg)</td>\n",
       "      <td>43D2C99E-9E01-E211-B5F5-78E7D18CFD3C</td>\n",
       "      <td>1075825_43D2C99E-9E01-E211-B5F5-78E7D18CFD3C</td>\n",
       "      <td>NaN</td>\n",
       "      <td>NaN</td>\n",
       "      <td>NaN</td>\n",
       "      <td>NaN</td>\n",
       "      <td>NaN</td>\n",
       "      <td>NaN</td>\n",
       "      <td>NaT</td>\n",
       "      <td>left_only</td>\n",
       "    </tr>\n",
       "    <tr>\n",
       "      <th>24339</th>\n",
       "      <td>1221439</td>\n",
       "      <td>1261788</td>\n",
       "      <td>268400002</td>\n",
       "      <td>CV - ECG - 12 Lead Obtained</td>\n",
       "      <td>1AC85E51-5ED2-468F-B317-41181CF6720C</td>\n",
       "      <td>1261788_1AC85E51-5ED2-468F-B317-41181CF6720C</td>\n",
       "      <td>NaN</td>\n",
       "      <td>NaN</td>\n",
       "      <td>NaN</td>\n",
       "      <td>NaN</td>\n",
       "      <td>NaN</td>\n",
       "      <td>NaN</td>\n",
       "      <td>NaT</td>\n",
       "      <td>left_only</td>\n",
       "    </tr>\n",
       "    <tr>\n",
       "      <th>27911</th>\n",
       "      <td>1245490</td>\n",
       "      <td>1387086</td>\n",
       "      <td>392230005</td>\n",
       "      <td>IV Start - Extremity Vein (arm or leg)</td>\n",
       "      <td>8F31A24D-3506-4978-9197-4B16E5AA82A5</td>\n",
       "      <td>1387086_8F31A24D-3506-4978-9197-4B16E5AA82A5</td>\n",
       "      <td>NaN</td>\n",
       "      <td>NaN</td>\n",
       "      <td>NaN</td>\n",
       "      <td>NaN</td>\n",
       "      <td>NaN</td>\n",
       "      <td>NaN</td>\n",
       "      <td>NaT</td>\n",
       "      <td>left_only</td>\n",
       "    </tr>\n",
       "  </tbody>\n",
       "</table>\n",
       "</div>"
      ],
      "text/plain": [
       "       Dim_Procedure_PK_x  PatientId_x  Procedure_Performed_Code_x  \\\n",
       "146                184565       485335                   392230005   \n",
       "414                192135       494708                   392230005   \n",
       "1509               223503       531908                   392230005   \n",
       "1657               228522       538259                   392230005   \n",
       "4512               956627       621689                   392230005   \n",
       "8329              1068456       731691                   392230005   \n",
       "8937              1087195       751013                   392230005   \n",
       "13213             1156914       892544                   268400002   \n",
       "18642             1188677      1075825                   392230005   \n",
       "24339             1221439      1261788                   268400002   \n",
       "27911             1245490      1387086                   392230005   \n",
       "\n",
       "            Procedure_Performed_Description_x  \\\n",
       "146    IV Start - Extremity Vein (arm or leg)   \n",
       "414    IV Start - Extremity Vein (arm or leg)   \n",
       "1509   IV Start - Extremity Vein (arm or leg)   \n",
       "1657   IV Start - Extremity Vein (arm or leg)   \n",
       "4512   IV Start - Extremity Vein (arm or leg)   \n",
       "8329   IV Start - Extremity Vein (arm or leg)   \n",
       "8937   IV Start - Extremity Vein (arm or leg)   \n",
       "13213             CV - ECG - 12 Lead Obtained   \n",
       "18642  IV Start - Extremity Vein (arm or leg)   \n",
       "24339             CV - ECG - 12 Lead Obtained   \n",
       "27911  IV Start - Extremity Vein (arm or leg)   \n",
       "\n",
       "                           FRDPersonnelID_x  \\\n",
       "146    4CD8C99E-9E01-E211-B5F5-78E7D18CFD3C   \n",
       "414    AAD8C99E-9E01-E211-B5F5-78E7D18CFD3C   \n",
       "1509   6AD7C99E-9E01-E211-B5F5-78E7D18CFD3C   \n",
       "1657   AAD8C99E-9E01-E211-B5F5-78E7D18CFD3C   \n",
       "4512   AAD8C99E-9E01-E211-B5F5-78E7D18CFD3C   \n",
       "8329   0707D573-B26A-4E75-99AC-5C135B8F3271   \n",
       "8937   AAD8C99E-9E01-E211-B5F5-78E7D18CFD3C   \n",
       "13213  11D6C99E-9E01-E211-B5F5-78E7D18CFD3C   \n",
       "18642  43D2C99E-9E01-E211-B5F5-78E7D18CFD3C   \n",
       "24339  1AC85E51-5ED2-468F-B317-41181CF6720C   \n",
       "27911  8F31A24D-3506-4978-9197-4B16E5AA82A5   \n",
       "\n",
       "                                                 PK  Dim_Procedure_PK_y  \\\n",
       "146     485335_4CD8C99E-9E01-E211-B5F5-78E7D18CFD3C                 NaN   \n",
       "414     494708_AAD8C99E-9E01-E211-B5F5-78E7D18CFD3C                 NaN   \n",
       "1509    531908_6AD7C99E-9E01-E211-B5F5-78E7D18CFD3C                 NaN   \n",
       "1657    538259_AAD8C99E-9E01-E211-B5F5-78E7D18CFD3C                 NaN   \n",
       "4512    621689_AAD8C99E-9E01-E211-B5F5-78E7D18CFD3C                 NaN   \n",
       "8329    731691_0707D573-B26A-4E75-99AC-5C135B8F3271                 NaN   \n",
       "8937    751013_AAD8C99E-9E01-E211-B5F5-78E7D18CFD3C                 NaN   \n",
       "13213   892544_11D6C99E-9E01-E211-B5F5-78E7D18CFD3C                 NaN   \n",
       "18642  1075825_43D2C99E-9E01-E211-B5F5-78E7D18CFD3C                 NaN   \n",
       "24339  1261788_1AC85E51-5ED2-468F-B317-41181CF6720C                 NaN   \n",
       "27911  1387086_8F31A24D-3506-4978-9197-4B16E5AA82A5                 NaN   \n",
       "\n",
       "       PatientId_y  Procedure_Performed_Code_y  \\\n",
       "146            NaN                         NaN   \n",
       "414            NaN                         NaN   \n",
       "1509           NaN                         NaN   \n",
       "1657           NaN                         NaN   \n",
       "4512           NaN                         NaN   \n",
       "8329           NaN                         NaN   \n",
       "8937           NaN                         NaN   \n",
       "13213          NaN                         NaN   \n",
       "18642          NaN                         NaN   \n",
       "24339          NaN                         NaN   \n",
       "27911          NaN                         NaN   \n",
       "\n",
       "      Procedure_Performed_Description_y FRDPersonnelID_y FRDPersonnelGender  \\\n",
       "146                                 NaN              NaN                NaN   \n",
       "414                                 NaN              NaN                NaN   \n",
       "1509                                NaN              NaN                NaN   \n",
       "1657                                NaN              NaN                NaN   \n",
       "4512                                NaN              NaN                NaN   \n",
       "8329                                NaN              NaN                NaN   \n",
       "8937                                NaN              NaN                NaN   \n",
       "13213                               NaN              NaN                NaN   \n",
       "18642                               NaN              NaN                NaN   \n",
       "24339                               NaN              NaN                NaN   \n",
       "27911                               NaN              NaN                NaN   \n",
       "\n",
       "      FRDPersonnelStartDate          i  \n",
       "146                     NaT  left_only  \n",
       "414                     NaT  left_only  \n",
       "1509                    NaT  left_only  \n",
       "1657                    NaT  left_only  \n",
       "4512                    NaT  left_only  \n",
       "8329                    NaT  left_only  \n",
       "8937                    NaT  left_only  \n",
       "13213                   NaT  left_only  \n",
       "18642                   NaT  left_only  \n",
       "24339                   NaT  left_only  \n",
       "27911                   NaT  left_only  "
      ]
     },
     "execution_count": 50,
     "metadata": {},
     "output_type": "execute_result"
    }
   ],
   "source": [
    "dfProcLeftJoinAnalysis"
   ]
  },
  {
   "cell_type": "markdown",
   "metadata": {},
   "source": [
    "### These 8 Provider IDs are not found at all in the Patients dataframe (or the Provider lookup dataframe)"
   ]
  },
  {
   "cell_type": "code",
   "execution_count": 51,
   "metadata": {},
   "outputs": [
    {
     "data": {
      "text/html": [
       "<div>\n",
       "<style scoped>\n",
       "    .dataframe tbody tr th:only-of-type {\n",
       "        vertical-align: middle;\n",
       "    }\n",
       "\n",
       "    .dataframe tbody tr th {\n",
       "        vertical-align: top;\n",
       "    }\n",
       "\n",
       "    .dataframe thead th {\n",
       "        text-align: right;\n",
       "    }\n",
       "</style>\n",
       "<table border=\"1\" class=\"dataframe\">\n",
       "  <thead>\n",
       "    <tr style=\"text-align: right;\">\n",
       "      <th></th>\n",
       "      <th>FRDPersonnelID_x</th>\n",
       "      <th>count</th>\n",
       "    </tr>\n",
       "  </thead>\n",
       "  <tbody>\n",
       "    <tr>\n",
       "      <th>0</th>\n",
       "      <td>0707D573-B26A-4E75-99AC-5C135B8F3271</td>\n",
       "      <td>1</td>\n",
       "    </tr>\n",
       "    <tr>\n",
       "      <th>1</th>\n",
       "      <td>11D6C99E-9E01-E211-B5F5-78E7D18CFD3C</td>\n",
       "      <td>1</td>\n",
       "    </tr>\n",
       "    <tr>\n",
       "      <th>2</th>\n",
       "      <td>1AC85E51-5ED2-468F-B317-41181CF6720C</td>\n",
       "      <td>1</td>\n",
       "    </tr>\n",
       "    <tr>\n",
       "      <th>3</th>\n",
       "      <td>43D2C99E-9E01-E211-B5F5-78E7D18CFD3C</td>\n",
       "      <td>1</td>\n",
       "    </tr>\n",
       "    <tr>\n",
       "      <th>4</th>\n",
       "      <td>4CD8C99E-9E01-E211-B5F5-78E7D18CFD3C</td>\n",
       "      <td>1</td>\n",
       "    </tr>\n",
       "    <tr>\n",
       "      <th>5</th>\n",
       "      <td>6AD7C99E-9E01-E211-B5F5-78E7D18CFD3C</td>\n",
       "      <td>1</td>\n",
       "    </tr>\n",
       "    <tr>\n",
       "      <th>6</th>\n",
       "      <td>8F31A24D-3506-4978-9197-4B16E5AA82A5</td>\n",
       "      <td>1</td>\n",
       "    </tr>\n",
       "    <tr>\n",
       "      <th>7</th>\n",
       "      <td>AAD8C99E-9E01-E211-B5F5-78E7D18CFD3C</td>\n",
       "      <td>4</td>\n",
       "    </tr>\n",
       "  </tbody>\n",
       "</table>\n",
       "</div>"
      ],
      "text/plain": [
       "                       FRDPersonnelID_x  count\n",
       "0  0707D573-B26A-4E75-99AC-5C135B8F3271      1\n",
       "1  11D6C99E-9E01-E211-B5F5-78E7D18CFD3C      1\n",
       "2  1AC85E51-5ED2-468F-B317-41181CF6720C      1\n",
       "3  43D2C99E-9E01-E211-B5F5-78E7D18CFD3C      1\n",
       "4  4CD8C99E-9E01-E211-B5F5-78E7D18CFD3C      1\n",
       "5  6AD7C99E-9E01-E211-B5F5-78E7D18CFD3C      1\n",
       "6  8F31A24D-3506-4978-9197-4B16E5AA82A5      1\n",
       "7  AAD8C99E-9E01-E211-B5F5-78E7D18CFD3C      4"
      ]
     },
     "execution_count": 51,
     "metadata": {},
     "output_type": "execute_result"
    }
   ],
   "source": [
    "dfProcLeftJoinAnalysis.groupby(['FRDPersonnelID_x']).size().reset_index(name='count')"
   ]
  },
  {
   "cell_type": "markdown",
   "metadata": {},
   "source": [
    "# Join dfProcPatOrphans dataframe back with dfPatients to bring back in\n",
    "```\n",
    "PatientOutcome\n",
    "PatientGender\n",
    "```"
   ]
  },
  {
   "cell_type": "code",
   "execution_count": 52,
   "metadata": {},
   "outputs": [
    {
     "data": {
      "text/plain": [
       "Index(['PatientId', 'FRDPersonnelID', 'Shift', 'UnitId', 'FireStation',\n",
       "       'Battalion', 'PatientOutcome', 'PatientGender', 'CrewMemberRoles',\n",
       "       'DispatchTime', 'FRDPersonnelGender', 'FRDPersonnelStartDate'],\n",
       "      dtype='object')"
      ]
     },
     "execution_count": 52,
     "metadata": {},
     "output_type": "execute_result"
    }
   ],
   "source": [
    "# A quick reminder of dfPatients schema\n",
    "dfPatients.columns"
   ]
  },
  {
   "cell_type": "code",
   "execution_count": 53,
   "metadata": {},
   "outputs": [
    {
     "data": {
      "text/plain": [
       "Index(['Dim_Procedure_PK', 'PatientId', 'Procedure_Performed_Code',\n",
       "       'Procedure_Performed_Description', 'FRDPersonnelID', '_PK',\n",
       "       'FRDPersonnelGender', 'FRDPersonnelStartDate'],\n",
       "      dtype='object')"
      ]
     },
     "execution_count": 53,
     "metadata": {},
     "output_type": "execute_result"
    }
   ],
   "source": [
    "# A quick reminder of dfProcPatOrphans schema\n",
    "dfProcPatOrphans.columns"
   ]
  },
  {
   "cell_type": "markdown",
   "metadata": {},
   "source": [
    "## Build lookup reference dataframe from Patients dataframe containing a distinct list of \n",
    "```\n",
    "PatientId\n",
    "PatientOutcome\n",
    "PatientGender\n",
    "DispatchTime\n",
    "```\n",
    "## Then join/merge lookup dataframe luPatients with dfProcPatOrphans on PatientId only"
   ]
  },
  {
   "cell_type": "code",
   "execution_count": 54,
   "metadata": {},
   "outputs": [
    {
     "data": {
      "text/plain": [
       "(189513, 5)"
      ]
     },
     "execution_count": 54,
     "metadata": {},
     "output_type": "execute_result"
    }
   ],
   "source": [
    "luPatients = dfPatients.groupby(['PatientId', 'PatientOutcome', 'PatientGender','DispatchTime']).size().reset_index(name='count')\n",
    "luPatients.shape"
   ]
  },
  {
   "cell_type": "code",
   "execution_count": 55,
   "metadata": {},
   "outputs": [
    {
     "data": {
      "text/plain": [
       "PatientId                  int64\n",
       "PatientOutcome            object\n",
       "PatientGender             object\n",
       "DispatchTime      datetime64[ns]\n",
       "count                      int64\n",
       "dtype: object"
      ]
     },
     "execution_count": 55,
     "metadata": {},
     "output_type": "execute_result"
    }
   ],
   "source": [
    "luPatients.dtypes"
   ]
  },
  {
   "cell_type": "code",
   "execution_count": 56,
   "metadata": {},
   "outputs": [
    {
     "data": {
      "text/html": [
       "<div>\n",
       "<style scoped>\n",
       "    .dataframe tbody tr th:only-of-type {\n",
       "        vertical-align: middle;\n",
       "    }\n",
       "\n",
       "    .dataframe tbody tr th {\n",
       "        vertical-align: top;\n",
       "    }\n",
       "\n",
       "    .dataframe thead th {\n",
       "        text-align: right;\n",
       "    }\n",
       "</style>\n",
       "<table border=\"1\" class=\"dataframe\">\n",
       "  <thead>\n",
       "    <tr style=\"text-align: right;\">\n",
       "      <th></th>\n",
       "      <th>PatientId</th>\n",
       "      <th>PatientOutcome</th>\n",
       "      <th>PatientGender</th>\n",
       "      <th>DispatchTime</th>\n",
       "      <th>count</th>\n",
       "    </tr>\n",
       "  </thead>\n",
       "  <tbody>\n",
       "    <tr>\n",
       "      <th>0</th>\n",
       "      <td>479851</td>\n",
       "      <td>Patient Refusal  (AMA)</td>\n",
       "      <td>Male</td>\n",
       "      <td>2018-01-01 00:20:49</td>\n",
       "      <td>2</td>\n",
       "    </tr>\n",
       "    <tr>\n",
       "      <th>1</th>\n",
       "      <td>479853</td>\n",
       "      <td>Treated &amp; Transported</td>\n",
       "      <td>Male</td>\n",
       "      <td>2018-01-01 00:04:06</td>\n",
       "      <td>2</td>\n",
       "    </tr>\n",
       "    <tr>\n",
       "      <th>2</th>\n",
       "      <td>479862</td>\n",
       "      <td>Treated &amp; Transported</td>\n",
       "      <td>Female</td>\n",
       "      <td>2018-01-01 00:44:31</td>\n",
       "      <td>4</td>\n",
       "    </tr>\n",
       "    <tr>\n",
       "      <th>3</th>\n",
       "      <td>479876</td>\n",
       "      <td>Treated &amp; Transported</td>\n",
       "      <td>Male</td>\n",
       "      <td>2018-01-01 00:42:53</td>\n",
       "      <td>3</td>\n",
       "    </tr>\n",
       "    <tr>\n",
       "      <th>4</th>\n",
       "      <td>479879</td>\n",
       "      <td>Treated &amp; Transported</td>\n",
       "      <td>Female</td>\n",
       "      <td>2018-01-01 01:17:54</td>\n",
       "      <td>2</td>\n",
       "    </tr>\n",
       "  </tbody>\n",
       "</table>\n",
       "</div>"
      ],
      "text/plain": [
       "   PatientId          PatientOutcome PatientGender        DispatchTime  count\n",
       "0     479851  Patient Refusal  (AMA)          Male 2018-01-01 00:20:49      2\n",
       "1     479853  Treated & Transported           Male 2018-01-01 00:04:06      2\n",
       "2     479862  Treated & Transported         Female 2018-01-01 00:44:31      4\n",
       "3     479876  Treated & Transported           Male 2018-01-01 00:42:53      3\n",
       "4     479879  Treated & Transported         Female 2018-01-01 01:17:54      2"
      ]
     },
     "execution_count": 56,
     "metadata": {},
     "output_type": "execute_result"
    }
   ],
   "source": [
    "luPatients.head()"
   ]
  },
  {
   "cell_type": "code",
   "execution_count": 57,
   "metadata": {},
   "outputs": [],
   "source": [
    "# Drop count column, not needed\n",
    "luPatients = luPatients.drop(['count'],axis=1)"
   ]
  },
  {
   "cell_type": "markdown",
   "metadata": {},
   "source": [
    "### Merge lookup dataframe luPatients with dfProcPatOrphans on PatientId only"
   ]
  },
  {
   "cell_type": "code",
   "execution_count": 58,
   "metadata": {},
   "outputs": [
    {
     "data": {
      "text/plain": [
       "(22791, 11)"
      ]
     },
     "execution_count": 58,
     "metadata": {},
     "output_type": "execute_result"
    }
   ],
   "source": [
    "dfProcPatSub = dfProcPatOrphans.merge(luPatients,on=('PatientId'))\n",
    "dfProcPatSub.shape"
   ]
  },
  {
   "cell_type": "code",
   "execution_count": 59,
   "metadata": {},
   "outputs": [
    {
     "data": {
      "text/html": [
       "<div>\n",
       "<style scoped>\n",
       "    .dataframe tbody tr th:only-of-type {\n",
       "        vertical-align: middle;\n",
       "    }\n",
       "\n",
       "    .dataframe tbody tr th {\n",
       "        vertical-align: top;\n",
       "    }\n",
       "\n",
       "    .dataframe thead th {\n",
       "        text-align: right;\n",
       "    }\n",
       "</style>\n",
       "<table border=\"1\" class=\"dataframe\">\n",
       "  <thead>\n",
       "    <tr style=\"text-align: right;\">\n",
       "      <th></th>\n",
       "      <th>Dim_Procedure_PK</th>\n",
       "      <th>PatientId</th>\n",
       "      <th>Procedure_Performed_Code</th>\n",
       "      <th>Procedure_Performed_Description</th>\n",
       "      <th>FRDPersonnelID</th>\n",
       "      <th>_PK</th>\n",
       "      <th>FRDPersonnelGender</th>\n",
       "      <th>FRDPersonnelStartDate</th>\n",
       "      <th>PatientOutcome</th>\n",
       "      <th>PatientGender</th>\n",
       "      <th>DispatchTime</th>\n",
       "    </tr>\n",
       "  </thead>\n",
       "  <tbody>\n",
       "    <tr>\n",
       "      <th>0</th>\n",
       "      <td>180516</td>\n",
       "      <td>479885</td>\n",
       "      <td>392230005</td>\n",
       "      <td>IV Start - Extremity Vein (arm or leg)</td>\n",
       "      <td>17D3C99E-9E01-E211-B5F5-78E7D18CFD3C</td>\n",
       "      <td>479885_17D3C99E-9E01-E211-B5F5-78E7D18CFD3C</td>\n",
       "      <td>Male</td>\n",
       "      <td>2005-07-25</td>\n",
       "      <td>Treated &amp; Transported</td>\n",
       "      <td>Male</td>\n",
       "      <td>2018-01-01 01:08:08</td>\n",
       "    </tr>\n",
       "    <tr>\n",
       "      <th>1</th>\n",
       "      <td>185426</td>\n",
       "      <td>486284</td>\n",
       "      <td>392230005</td>\n",
       "      <td>IV Start - Extremity Vein (arm or leg)</td>\n",
       "      <td>17D3C99E-9E01-E211-B5F5-78E7D18CFD3C</td>\n",
       "      <td>486284_17D3C99E-9E01-E211-B5F5-78E7D18CFD3C</td>\n",
       "      <td>Male</td>\n",
       "      <td>2005-07-25</td>\n",
       "      <td>Treated &amp; Transported</td>\n",
       "      <td>Female</td>\n",
       "      <td>2018-01-07 14:42:01</td>\n",
       "    </tr>\n",
       "    <tr>\n",
       "      <th>2</th>\n",
       "      <td>186800</td>\n",
       "      <td>488083</td>\n",
       "      <td>392230005</td>\n",
       "      <td>IV Start - Extremity Vein (arm or leg)</td>\n",
       "      <td>17D3C99E-9E01-E211-B5F5-78E7D18CFD3C</td>\n",
       "      <td>488083_17D3C99E-9E01-E211-B5F5-78E7D18CFD3C</td>\n",
       "      <td>Male</td>\n",
       "      <td>2005-07-25</td>\n",
       "      <td>Treated &amp; Transported</td>\n",
       "      <td>Female</td>\n",
       "      <td>2018-01-09 06:51:21</td>\n",
       "    </tr>\n",
       "    <tr>\n",
       "      <th>3</th>\n",
       "      <td>209301</td>\n",
       "      <td>514333</td>\n",
       "      <td>392230005</td>\n",
       "      <td>IV Start - Extremity Vein (arm or leg)</td>\n",
       "      <td>17D3C99E-9E01-E211-B5F5-78E7D18CFD3C</td>\n",
       "      <td>514333_17D3C99E-9E01-E211-B5F5-78E7D18CFD3C</td>\n",
       "      <td>Male</td>\n",
       "      <td>2005-07-25</td>\n",
       "      <td>Treated &amp; Transported</td>\n",
       "      <td>Female</td>\n",
       "      <td>2018-02-07 19:32:10</td>\n",
       "    </tr>\n",
       "    <tr>\n",
       "      <th>4</th>\n",
       "      <td>214483</td>\n",
       "      <td>522281</td>\n",
       "      <td>392230005</td>\n",
       "      <td>IV Start - Extremity Vein (arm or leg)</td>\n",
       "      <td>17D3C99E-9E01-E211-B5F5-78E7D18CFD3C</td>\n",
       "      <td>522281_17D3C99E-9E01-E211-B5F5-78E7D18CFD3C</td>\n",
       "      <td>Male</td>\n",
       "      <td>2005-07-25</td>\n",
       "      <td>Treated &amp; Transported</td>\n",
       "      <td>Female</td>\n",
       "      <td>2018-02-16 15:45:03</td>\n",
       "    </tr>\n",
       "  </tbody>\n",
       "</table>\n",
       "</div>"
      ],
      "text/plain": [
       "   Dim_Procedure_PK  PatientId  Procedure_Performed_Code  \\\n",
       "0            180516     479885                 392230005   \n",
       "1            185426     486284                 392230005   \n",
       "2            186800     488083                 392230005   \n",
       "3            209301     514333                 392230005   \n",
       "4            214483     522281                 392230005   \n",
       "\n",
       "          Procedure_Performed_Description  \\\n",
       "0  IV Start - Extremity Vein (arm or leg)   \n",
       "1  IV Start - Extremity Vein (arm or leg)   \n",
       "2  IV Start - Extremity Vein (arm or leg)   \n",
       "3  IV Start - Extremity Vein (arm or leg)   \n",
       "4  IV Start - Extremity Vein (arm or leg)   \n",
       "\n",
       "                         FRDPersonnelID  \\\n",
       "0  17D3C99E-9E01-E211-B5F5-78E7D18CFD3C   \n",
       "1  17D3C99E-9E01-E211-B5F5-78E7D18CFD3C   \n",
       "2  17D3C99E-9E01-E211-B5F5-78E7D18CFD3C   \n",
       "3  17D3C99E-9E01-E211-B5F5-78E7D18CFD3C   \n",
       "4  17D3C99E-9E01-E211-B5F5-78E7D18CFD3C   \n",
       "\n",
       "                                           _PK FRDPersonnelGender  \\\n",
       "0  479885_17D3C99E-9E01-E211-B5F5-78E7D18CFD3C               Male   \n",
       "1  486284_17D3C99E-9E01-E211-B5F5-78E7D18CFD3C               Male   \n",
       "2  488083_17D3C99E-9E01-E211-B5F5-78E7D18CFD3C               Male   \n",
       "3  514333_17D3C99E-9E01-E211-B5F5-78E7D18CFD3C               Male   \n",
       "4  522281_17D3C99E-9E01-E211-B5F5-78E7D18CFD3C               Male   \n",
       "\n",
       "  FRDPersonnelStartDate          PatientOutcome PatientGender  \\\n",
       "0            2005-07-25  Treated & Transported           Male   \n",
       "1            2005-07-25  Treated & Transported         Female   \n",
       "2            2005-07-25  Treated & Transported         Female   \n",
       "3            2005-07-25  Treated & Transported         Female   \n",
       "4            2005-07-25  Treated & Transported         Female   \n",
       "\n",
       "         DispatchTime  \n",
       "0 2018-01-01 01:08:08  \n",
       "1 2018-01-07 14:42:01  \n",
       "2 2018-01-09 06:51:21  \n",
       "3 2018-02-07 19:32:10  \n",
       "4 2018-02-16 15:45:03  "
      ]
     },
     "execution_count": 59,
     "metadata": {},
     "output_type": "execute_result"
    }
   ],
   "source": [
    "dfProcPatSub.head()"
   ]
  },
  {
   "cell_type": "code",
   "execution_count": 60,
   "metadata": {},
   "outputs": [
    {
     "data": {
      "text/plain": [
       "Index(['Dim_Procedure_PK', 'PatientId', 'Procedure_Performed_Code',\n",
       "       'Procedure_Performed_Description', 'FRDPersonnelID', '_PK',\n",
       "       'FRDPersonnelGender', 'FRDPersonnelStartDate', 'PatientOutcome',\n",
       "       'PatientGender', 'DispatchTime'],\n",
       "      dtype='object')"
      ]
     },
     "execution_count": 60,
     "metadata": {},
     "output_type": "execute_result"
    }
   ],
   "source": [
    "dfProcPatSub.columns"
   ]
  },
  {
   "cell_type": "code",
   "execution_count": 61,
   "metadata": {},
   "outputs": [
    {
     "data": {
      "text/plain": [
       "(' \\nCount total NaN at each column in a Procedures dataFrame : \\n\\n',\n",
       " Dim_Procedure_PK                   0\n",
       " PatientId                          0\n",
       " Procedure_Performed_Code           0\n",
       " Procedure_Performed_Description    0\n",
       " FRDPersonnelID                     0\n",
       " _PK                                0\n",
       " FRDPersonnelGender                 0\n",
       " FRDPersonnelStartDate              0\n",
       " PatientOutcome                     0\n",
       " PatientGender                      0\n",
       " DispatchTime                       0\n",
       " dtype: int64)"
      ]
     },
     "execution_count": 61,
     "metadata": {},
     "output_type": "execute_result"
    }
   ],
   "source": [
    "(\" \\nCount total NaN at each column in a Procedures dataFrame : \\n\\n\", dfProcPatSub.isnull().sum())"
   ]
  },
  {
   "cell_type": "code",
   "execution_count": 62,
   "metadata": {},
   "outputs": [
    {
     "data": {
      "text/plain": [
       "(' \\nCount total NaN at each column in a Procedures dataFrame : \\n\\n',\n",
       " PatientId                            0\n",
       " FRDPersonnelID                       0\n",
       " PatientOutcome                       0\n",
       " PatientGender                      104\n",
       " DispatchTime                         0\n",
       " FRDPersonnelGender                   0\n",
       " FRDPersonnelStartDate                0\n",
       " Dim_Procedure_PK                     0\n",
       " Procedure_Performed_Code             0\n",
       " Procedure_Performed_Description      0\n",
       " _PK                                  0\n",
       " dtype: int64)"
      ]
     },
     "execution_count": 62,
     "metadata": {},
     "output_type": "execute_result"
    }
   ],
   "source": [
    "(\" \\nCount total NaN at each column in a Procedures dataFrame : \\n\\n\", dfProcPat.isnull().sum())"
   ]
  },
  {
   "cell_type": "markdown",
   "metadata": {},
   "source": [
    "# Append dfProcPatSub back to dfProcPat and do not reindex"
   ]
  },
  {
   "cell_type": "code",
   "execution_count": 63,
   "metadata": {},
   "outputs": [
    {
     "data": {
      "text/plain": [
       "(170072, 11)"
      ]
     },
     "execution_count": 63,
     "metadata": {},
     "output_type": "execute_result"
    }
   ],
   "source": [
    "dfProcPatAppend = dfProcPat.append(dfProcPatSub, ignore_index=True)\n",
    "dfProcPatAppend.shape"
   ]
  },
  {
   "cell_type": "code",
   "execution_count": 64,
   "metadata": {},
   "outputs": [
    {
     "data": {
      "text/plain": [
       "(' \\nCount total NaN at each column in a Procedures dataFrame : \\n\\n',\n",
       " PatientId                            0\n",
       " FRDPersonnelID                       0\n",
       " PatientOutcome                       0\n",
       " PatientGender                      104\n",
       " DispatchTime                         0\n",
       " FRDPersonnelGender                   0\n",
       " FRDPersonnelStartDate                0\n",
       " Dim_Procedure_PK                     0\n",
       " Procedure_Performed_Code             0\n",
       " Procedure_Performed_Description      0\n",
       " _PK                                  0\n",
       " dtype: int64)"
      ]
     },
     "execution_count": 64,
     "metadata": {},
     "output_type": "execute_result"
    }
   ],
   "source": [
    "(\" \\nCount total NaN at each column in a Procedures dataFrame : \\n\\n\", dfProcPatAppend.isnull().sum())"
   ]
  },
  {
   "cell_type": "code",
   "execution_count": 65,
   "metadata": {},
   "outputs": [
    {
     "name": "stdout",
     "output_type": "stream",
     "text": [
      "PatientId :  Numerical\n",
      "FRDPersonnelID :  Categorical\n",
      "PatientOutcome :  Categorical\n",
      "PatientGender :  Categorical\n",
      "DispatchTime :  Date\n",
      "FRDPersonnelGender :  Categorical\n",
      "FRDPersonnelStartDate :  Date\n",
      "Dim_Procedure_PK :  Numerical\n",
      "Procedure_Performed_Code :  Numerical\n",
      "Procedure_Performed_Description :  Categorical\n",
      "_PK :  Categorical\n"
     ]
    }
   ],
   "source": [
    "print_categories(dfProcPatAppend)"
   ]
  },
  {
   "cell_type": "code",
   "execution_count": 66,
   "metadata": {},
   "outputs": [
    {
     "data": {
      "text/plain": [
       "Treated & Transported                        161083\n",
       "Patient Refusal  (AMA)                         6672\n",
       "Patient Dead at Scene (EMS CPR Attempted)      1591\n",
       "Patient Dead at Scene (No EMS CPR)              371\n",
       "Treated, Transferred Care                       243\n",
       "EMS Assist (Other Agency)                       103\n",
       "No Treatment/Transport Required                   7\n",
       "Standby (Operational Support Provided)            1\n",
       "Canceled (On Scene, No Patient Contact)           1\n",
       "Name: PatientOutcome, dtype: int64"
      ]
     },
     "execution_count": 66,
     "metadata": {},
     "output_type": "execute_result"
    }
   ],
   "source": [
    "dfProcPatAppend['PatientOutcome'].value_counts()"
   ]
  },
  {
   "cell_type": "code",
   "execution_count": 67,
   "metadata": {},
   "outputs": [
    {
     "data": {
      "text/plain": [
       "Male                             89956\n",
       "Female                           79942\n",
       "Unknown (Unable to Determine)       70\n",
       "Name: PatientGender, dtype: int64"
      ]
     },
     "execution_count": 67,
     "metadata": {},
     "output_type": "execute_result"
    }
   ],
   "source": [
    "dfProcPatAppend['PatientGender'].value_counts()"
   ]
  },
  {
   "cell_type": "code",
   "execution_count": 68,
   "metadata": {},
   "outputs": [
    {
     "data": {
      "text/plain": [
       "Male      140225\n",
       "Female     29847\n",
       "Name: FRDPersonnelGender, dtype: int64"
      ]
     },
     "execution_count": 68,
     "metadata": {},
     "output_type": "execute_result"
    }
   ],
   "source": [
    "dfProcPatAppend['FRDPersonnelGender'].value_counts()"
   ]
  },
  {
   "cell_type": "code",
   "execution_count": 69,
   "metadata": {},
   "outputs": [
    {
     "data": {
      "text/plain": [
       "CV - ECG - 12 Lead Obtained                   66977\n",
       "IV Start - Extremity Vein (arm or leg)        59840\n",
       "Electrocardiographic monitoring                4756\n",
       "MS - Cervical Spinal Restriction of Motion     4699\n",
       "Assess - Assessment of Patient                 4192\n",
       "                                              ...  \n",
       "Laryngoscopy - Indirect                           4\n",
       "Cricothyrotomy - Needle                           3\n",
       "Enviro - Hypothermia Induction Therapy            3\n",
       "Intubation - Existing Tracheostomy Stoma          3\n",
       "Infectious - Decontamination of Patient           3\n",
       "Name: Procedure_Performed_Description, Length: 68, dtype: int64"
      ]
     },
     "execution_count": 69,
     "metadata": {},
     "output_type": "execute_result"
    }
   ],
   "source": [
    "dfProcPatAppend['Procedure_Performed_Description'].value_counts()"
   ]
  },
  {
   "cell_type": "markdown",
   "metadata": {},
   "source": [
    "# Add TenureMonths, which is the count of months working at the time of the dispatch call"
   ]
  },
  {
   "cell_type": "code",
   "execution_count": 70,
   "metadata": {},
   "outputs": [
    {
     "data": {
      "text/plain": [
       "(170072, 12)"
      ]
     },
     "execution_count": 70,
     "metadata": {},
     "output_type": "execute_result"
    }
   ],
   "source": [
    "dfProcPatAppend['TenureMonths'] = ((dfProcPatAppend.loc[:, 'DispatchTime'].dt.date - \\\n",
    "                                     dfProcPatAppend.loc[:, 'FRDPersonnelStartDate'].dt.date) / \\\n",
    "                                    np.timedelta64(1, 'M')).astype(int)\n",
    "dfProcPatAppend.shape\n",
    "# error is just a warning, need to figure out even though using loc"
   ]
  },
  {
   "cell_type": "code",
   "execution_count": 71,
   "metadata": {},
   "outputs": [
    {
     "data": {
      "text/plain": [
       " 51     1790\n",
       " 56     1725\n",
       " 49     1713\n",
       " 48     1696\n",
       " 50     1664\n",
       "        ... \n",
       " 420       1\n",
       "-27        1\n",
       " 453       1\n",
       " 373       1\n",
       " 417       1\n",
       "Name: TenureMonths, Length: 437, dtype: int64"
      ]
     },
     "execution_count": 71,
     "metadata": {},
     "output_type": "execute_result"
    }
   ],
   "source": [
    "dfProcPatAppend['TenureMonths'].value_counts()"
   ]
  },
  {
   "cell_type": "markdown",
   "metadata": {},
   "source": [
    "### Add a factorized column starting with 1 as opposed to the normal python 0"
   ]
  },
  {
   "cell_type": "code",
   "execution_count": 72,
   "metadata": {},
   "outputs": [],
   "source": [
    "dfProcPatAppend['PatientOutcomeCode'] = pd.factorize(dfProcPatAppend['PatientOutcome'])[0] + 1"
   ]
  },
  {
   "cell_type": "code",
   "execution_count": 73,
   "metadata": {},
   "outputs": [
    {
     "data": {
      "text/plain": [
       "1    161083\n",
       "2      6672\n",
       "6      1591\n",
       "5       371\n",
       "3       243\n",
       "4       103\n",
       "8         7\n",
       "9         1\n",
       "7         1\n",
       "Name: PatientOutcomeCode, dtype: int64"
      ]
     },
     "execution_count": 73,
     "metadata": {},
     "output_type": "execute_result"
    }
   ],
   "source": [
    "dfProcPatAppend['PatientOutcomeCode'].value_counts()"
   ]
  },
  {
   "cell_type": "code",
   "execution_count": 74,
   "metadata": {},
   "outputs": [],
   "source": [
    "dfProcPatAppend['PatientGenderCode'] = pd.factorize(dfProcPatAppend['PatientGender'])[0] + 1"
   ]
  },
  {
   "cell_type": "code",
   "execution_count": 75,
   "metadata": {},
   "outputs": [
    {
     "data": {
      "text/plain": [
       "1    89956\n",
       "2    79942\n",
       "0      104\n",
       "3       70\n",
       "Name: PatientGenderCode, dtype: int64"
      ]
     },
     "execution_count": 75,
     "metadata": {},
     "output_type": "execute_result"
    }
   ],
   "source": [
    "dfProcPatAppend['PatientGenderCode'].value_counts()"
   ]
  },
  {
   "cell_type": "markdown",
   "metadata": {},
   "source": [
    "### Use the \"One Hot Encoding\" method using get_dummies to create a row of 1,0 for each PatientGender"
   ]
  },
  {
   "cell_type": "code",
   "execution_count": 76,
   "metadata": {},
   "outputs": [],
   "source": [
    "dumDumPatient = pd.get_dummies(dfProcPatAppend['PatientGender'], prefix='PatientGender',)"
   ]
  },
  {
   "cell_type": "code",
   "execution_count": 77,
   "metadata": {},
   "outputs": [
    {
     "data": {
      "text/html": [
       "<div>\n",
       "<style scoped>\n",
       "    .dataframe tbody tr th:only-of-type {\n",
       "        vertical-align: middle;\n",
       "    }\n",
       "\n",
       "    .dataframe tbody tr th {\n",
       "        vertical-align: top;\n",
       "    }\n",
       "\n",
       "    .dataframe thead th {\n",
       "        text-align: right;\n",
       "    }\n",
       "</style>\n",
       "<table border=\"1\" class=\"dataframe\">\n",
       "  <thead>\n",
       "    <tr style=\"text-align: right;\">\n",
       "      <th></th>\n",
       "      <th>PatientGender_Female</th>\n",
       "      <th>PatientGender_Male</th>\n",
       "      <th>PatientGender_Unknown (Unable to Determine)</th>\n",
       "    </tr>\n",
       "  </thead>\n",
       "  <tbody>\n",
       "    <tr>\n",
       "      <th>0</th>\n",
       "      <td>0</td>\n",
       "      <td>1</td>\n",
       "      <td>0</td>\n",
       "    </tr>\n",
       "    <tr>\n",
       "      <th>1</th>\n",
       "      <td>0</td>\n",
       "      <td>1</td>\n",
       "      <td>0</td>\n",
       "    </tr>\n",
       "    <tr>\n",
       "      <th>2</th>\n",
       "      <td>0</td>\n",
       "      <td>1</td>\n",
       "      <td>0</td>\n",
       "    </tr>\n",
       "    <tr>\n",
       "      <th>3</th>\n",
       "      <td>0</td>\n",
       "      <td>1</td>\n",
       "      <td>0</td>\n",
       "    </tr>\n",
       "    <tr>\n",
       "      <th>4</th>\n",
       "      <td>1</td>\n",
       "      <td>0</td>\n",
       "      <td>0</td>\n",
       "    </tr>\n",
       "  </tbody>\n",
       "</table>\n",
       "</div>"
      ],
      "text/plain": [
       "   PatientGender_Female  PatientGender_Male  \\\n",
       "0                     0                   1   \n",
       "1                     0                   1   \n",
       "2                     0                   1   \n",
       "3                     0                   1   \n",
       "4                     1                   0   \n",
       "\n",
       "   PatientGender_Unknown (Unable to Determine)  \n",
       "0                                            0  \n",
       "1                                            0  \n",
       "2                                            0  \n",
       "3                                            0  \n",
       "4                                            0  "
      ]
     },
     "execution_count": 77,
     "metadata": {},
     "output_type": "execute_result"
    }
   ],
   "source": [
    "dumDumPatient.head()"
   ]
  },
  {
   "cell_type": "code",
   "execution_count": 78,
   "metadata": {},
   "outputs": [
    {
     "data": {
      "text/plain": [
       "PatientGender_Female  PatientGender_Male  PatientGender_Unknown (Unable to Determine)\n",
       "0                     1                   0                                              89956\n",
       "1                     0                   0                                              79942\n",
       "0                     0                   0                                                104\n",
       "                                          1                                                 70\n",
       "dtype: int64"
      ]
     },
     "execution_count": 78,
     "metadata": {},
     "output_type": "execute_result"
    }
   ],
   "source": [
    "dumDumPatient.value_counts()"
   ]
  },
  {
   "cell_type": "code",
   "execution_count": 79,
   "metadata": {},
   "outputs": [],
   "source": [
    "dfProcPatAppend = pd.concat([dfProcPatAppend, dumDumPatient], axis=1)"
   ]
  },
  {
   "cell_type": "code",
   "execution_count": 80,
   "metadata": {},
   "outputs": [
    {
     "data": {
      "text/html": [
       "<div>\n",
       "<style scoped>\n",
       "    .dataframe tbody tr th:only-of-type {\n",
       "        vertical-align: middle;\n",
       "    }\n",
       "\n",
       "    .dataframe tbody tr th {\n",
       "        vertical-align: top;\n",
       "    }\n",
       "\n",
       "    .dataframe thead th {\n",
       "        text-align: right;\n",
       "    }\n",
       "</style>\n",
       "<table border=\"1\" class=\"dataframe\">\n",
       "  <thead>\n",
       "    <tr style=\"text-align: right;\">\n",
       "      <th></th>\n",
       "      <th>PatientId</th>\n",
       "      <th>FRDPersonnelID</th>\n",
       "      <th>PatientOutcome</th>\n",
       "      <th>PatientGender</th>\n",
       "      <th>DispatchTime</th>\n",
       "      <th>FRDPersonnelGender</th>\n",
       "      <th>FRDPersonnelStartDate</th>\n",
       "      <th>Dim_Procedure_PK</th>\n",
       "      <th>Procedure_Performed_Code</th>\n",
       "      <th>Procedure_Performed_Description</th>\n",
       "      <th>_PK</th>\n",
       "      <th>TenureMonths</th>\n",
       "      <th>PatientOutcomeCode</th>\n",
       "      <th>PatientGenderCode</th>\n",
       "      <th>PatientGender_Female</th>\n",
       "      <th>PatientGender_Male</th>\n",
       "      <th>PatientGender_Unknown (Unable to Determine)</th>\n",
       "    </tr>\n",
       "  </thead>\n",
       "  <tbody>\n",
       "    <tr>\n",
       "      <th>0</th>\n",
       "      <td>479853</td>\n",
       "      <td>58D5C99E-9E01-E211-B5F5-78E7D18CFD3C</td>\n",
       "      <td>Treated &amp; Transported</td>\n",
       "      <td>Male</td>\n",
       "      <td>2018-01-01 00:04:06</td>\n",
       "      <td>Male</td>\n",
       "      <td>2004-07-12</td>\n",
       "      <td>180498</td>\n",
       "      <td>392230005</td>\n",
       "      <td>IV Start - Extremity Vein (arm or leg)</td>\n",
       "      <td>479853_58D5C99E-9E01-E211-B5F5-78E7D18CFD3C</td>\n",
       "      <td>161</td>\n",
       "      <td>1</td>\n",
       "      <td>1</td>\n",
       "      <td>0</td>\n",
       "      <td>1</td>\n",
       "      <td>0</td>\n",
       "    </tr>\n",
       "    <tr>\n",
       "      <th>1</th>\n",
       "      <td>479853</td>\n",
       "      <td>58D5C99E-9E01-E211-B5F5-78E7D18CFD3C</td>\n",
       "      <td>Treated &amp; Transported</td>\n",
       "      <td>Male</td>\n",
       "      <td>2018-01-01 00:04:06</td>\n",
       "      <td>Male</td>\n",
       "      <td>2004-07-12</td>\n",
       "      <td>180499</td>\n",
       "      <td>268400002</td>\n",
       "      <td>CV - ECG - 12 Lead Obtained</td>\n",
       "      <td>479853_58D5C99E-9E01-E211-B5F5-78E7D18CFD3C</td>\n",
       "      <td>161</td>\n",
       "      <td>1</td>\n",
       "      <td>1</td>\n",
       "      <td>0</td>\n",
       "      <td>1</td>\n",
       "      <td>0</td>\n",
       "    </tr>\n",
       "    <tr>\n",
       "      <th>2</th>\n",
       "      <td>479853</td>\n",
       "      <td>58D5C99E-9E01-E211-B5F5-78E7D18CFD3C</td>\n",
       "      <td>Treated &amp; Transported</td>\n",
       "      <td>Male</td>\n",
       "      <td>2018-01-01 00:04:06</td>\n",
       "      <td>Male</td>\n",
       "      <td>2004-07-12</td>\n",
       "      <td>180500</td>\n",
       "      <td>268400002</td>\n",
       "      <td>CV - ECG - 12 Lead Obtained</td>\n",
       "      <td>479853_58D5C99E-9E01-E211-B5F5-78E7D18CFD3C</td>\n",
       "      <td>161</td>\n",
       "      <td>1</td>\n",
       "      <td>1</td>\n",
       "      <td>0</td>\n",
       "      <td>1</td>\n",
       "      <td>0</td>\n",
       "    </tr>\n",
       "    <tr>\n",
       "      <th>3</th>\n",
       "      <td>479853</td>\n",
       "      <td>58D5C99E-9E01-E211-B5F5-78E7D18CFD3C</td>\n",
       "      <td>Treated &amp; Transported</td>\n",
       "      <td>Male</td>\n",
       "      <td>2018-01-01 00:04:06</td>\n",
       "      <td>Male</td>\n",
       "      <td>2004-07-12</td>\n",
       "      <td>180501</td>\n",
       "      <td>268400002</td>\n",
       "      <td>CV - ECG - 12 Lead Obtained</td>\n",
       "      <td>479853_58D5C99E-9E01-E211-B5F5-78E7D18CFD3C</td>\n",
       "      <td>161</td>\n",
       "      <td>1</td>\n",
       "      <td>1</td>\n",
       "      <td>0</td>\n",
       "      <td>1</td>\n",
       "      <td>0</td>\n",
       "    </tr>\n",
       "    <tr>\n",
       "      <th>4</th>\n",
       "      <td>479862</td>\n",
       "      <td>32D8C99E-9E01-E211-B5F5-78E7D18CFD3C</td>\n",
       "      <td>Treated &amp; Transported</td>\n",
       "      <td>Female</td>\n",
       "      <td>2018-01-01 00:44:31</td>\n",
       "      <td>Male</td>\n",
       "      <td>2006-12-11</td>\n",
       "      <td>180510</td>\n",
       "      <td>392230005</td>\n",
       "      <td>IV Start - Extremity Vein (arm or leg)</td>\n",
       "      <td>479862_32D8C99E-9E01-E211-B5F5-78E7D18CFD3C</td>\n",
       "      <td>132</td>\n",
       "      <td>1</td>\n",
       "      <td>2</td>\n",
       "      <td>1</td>\n",
       "      <td>0</td>\n",
       "      <td>0</td>\n",
       "    </tr>\n",
       "  </tbody>\n",
       "</table>\n",
       "</div>"
      ],
      "text/plain": [
       "   PatientId                        FRDPersonnelID          PatientOutcome  \\\n",
       "0     479853  58D5C99E-9E01-E211-B5F5-78E7D18CFD3C  Treated & Transported    \n",
       "1     479853  58D5C99E-9E01-E211-B5F5-78E7D18CFD3C  Treated & Transported    \n",
       "2     479853  58D5C99E-9E01-E211-B5F5-78E7D18CFD3C  Treated & Transported    \n",
       "3     479853  58D5C99E-9E01-E211-B5F5-78E7D18CFD3C  Treated & Transported    \n",
       "4     479862  32D8C99E-9E01-E211-B5F5-78E7D18CFD3C  Treated & Transported    \n",
       "\n",
       "  PatientGender        DispatchTime FRDPersonnelGender FRDPersonnelStartDate  \\\n",
       "0          Male 2018-01-01 00:04:06               Male            2004-07-12   \n",
       "1          Male 2018-01-01 00:04:06               Male            2004-07-12   \n",
       "2          Male 2018-01-01 00:04:06               Male            2004-07-12   \n",
       "3          Male 2018-01-01 00:04:06               Male            2004-07-12   \n",
       "4        Female 2018-01-01 00:44:31               Male            2006-12-11   \n",
       "\n",
       "   Dim_Procedure_PK  Procedure_Performed_Code  \\\n",
       "0            180498                 392230005   \n",
       "1            180499                 268400002   \n",
       "2            180500                 268400002   \n",
       "3            180501                 268400002   \n",
       "4            180510                 392230005   \n",
       "\n",
       "          Procedure_Performed_Description  \\\n",
       "0  IV Start - Extremity Vein (arm or leg)   \n",
       "1             CV - ECG - 12 Lead Obtained   \n",
       "2             CV - ECG - 12 Lead Obtained   \n",
       "3             CV - ECG - 12 Lead Obtained   \n",
       "4  IV Start - Extremity Vein (arm or leg)   \n",
       "\n",
       "                                           _PK  TenureMonths  \\\n",
       "0  479853_58D5C99E-9E01-E211-B5F5-78E7D18CFD3C           161   \n",
       "1  479853_58D5C99E-9E01-E211-B5F5-78E7D18CFD3C           161   \n",
       "2  479853_58D5C99E-9E01-E211-B5F5-78E7D18CFD3C           161   \n",
       "3  479853_58D5C99E-9E01-E211-B5F5-78E7D18CFD3C           161   \n",
       "4  479862_32D8C99E-9E01-E211-B5F5-78E7D18CFD3C           132   \n",
       "\n",
       "   PatientOutcomeCode  PatientGenderCode  PatientGender_Female  \\\n",
       "0                   1                  1                     0   \n",
       "1                   1                  1                     0   \n",
       "2                   1                  1                     0   \n",
       "3                   1                  1                     0   \n",
       "4                   1                  2                     1   \n",
       "\n",
       "   PatientGender_Male  PatientGender_Unknown (Unable to Determine)  \n",
       "0                   1                                            0  \n",
       "1                   1                                            0  \n",
       "2                   1                                            0  \n",
       "3                   1                                            0  \n",
       "4                   0                                            0  "
      ]
     },
     "execution_count": 80,
     "metadata": {},
     "output_type": "execute_result"
    }
   ],
   "source": [
    "dfProcPatAppend.head()"
   ]
  },
  {
   "cell_type": "markdown",
   "metadata": {},
   "source": [
    "### Use the \"One Hot Encoding\" method using get_dummies to create a row of 1,0 for each Provider Gender"
   ]
  },
  {
   "cell_type": "code",
   "execution_count": 81,
   "metadata": {},
   "outputs": [],
   "source": [
    "dfProcPatAppend['ProviderGenderCode'] = pd.factorize(dfProcPatAppend['FRDPersonnelGender'])[0] + 1"
   ]
  },
  {
   "cell_type": "code",
   "execution_count": 82,
   "metadata": {},
   "outputs": [
    {
     "data": {
      "text/plain": [
       "1    140225\n",
       "2     29847\n",
       "Name: ProviderGenderCode, dtype: int64"
      ]
     },
     "execution_count": 82,
     "metadata": {},
     "output_type": "execute_result"
    }
   ],
   "source": [
    "dfProcPatAppend['ProviderGenderCode'].value_counts()"
   ]
  },
  {
   "cell_type": "code",
   "execution_count": 83,
   "metadata": {},
   "outputs": [
    {
     "name": "stdout",
     "output_type": "stream",
     "text": [
      "PatientId :  Numerical\n",
      "FRDPersonnelID :  Categorical\n",
      "PatientOutcome :  Categorical\n",
      "PatientGender :  Categorical\n",
      "DispatchTime :  Date\n",
      "FRDPersonnelGender :  Categorical\n",
      "FRDPersonnelStartDate :  Date\n",
      "Dim_Procedure_PK :  Numerical\n",
      "Procedure_Performed_Code :  Numerical\n",
      "Procedure_Performed_Description :  Categorical\n",
      "_PK :  Categorical\n",
      "TenureMonths :  Numerical\n",
      "PatientOutcomeCode :  Numerical\n",
      "PatientGenderCode :  Numerical\n",
      "PatientGender_Female :  Numerical\n",
      "PatientGender_Male :  Numerical\n",
      "PatientGender_Unknown (Unable to Determine) :  Numerical\n",
      "ProviderGenderCode :  Numerical\n"
     ]
    }
   ],
   "source": [
    "print_categories(dfProcPatAppend)"
   ]
  },
  {
   "cell_type": "markdown",
   "metadata": {},
   "source": [
    "### Output the intemediate data Procedures+Patients dataframe to CSV into the Intermediate data directory"
   ]
  },
  {
   "cell_type": "code",
   "execution_count": 85,
   "metadata": {},
   "outputs": [],
   "source": [
    "dfProcPatAppend.to_csv(r'../data/02_intermediate/ProceduresPatients-Intermediate.csv', index = False)"
   ]
  },
  {
   "cell_type": "code",
   "execution_count": null,
   "metadata": {},
   "outputs": [],
   "source": []
  }
 ],
 "metadata": {
  "kernelspec": {
   "display_name": "Python 3",
   "language": "python",
   "name": "python3"
  },
  "language_info": {
   "codemirror_mode": {
    "name": "ipython",
    "version": 3
   },
   "file_extension": ".py",
   "mimetype": "text/x-python",
   "name": "python",
   "nbconvert_exporter": "python",
   "pygments_lexer": "ipython3",
   "version": "3.7.9"
  }
 },
 "nbformat": 4,
 "nbformat_minor": 4
}
