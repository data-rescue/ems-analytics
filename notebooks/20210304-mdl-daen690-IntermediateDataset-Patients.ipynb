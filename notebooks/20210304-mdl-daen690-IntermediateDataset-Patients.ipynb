{
 "cells": [
  {
   "cell_type": "markdown",
   "metadata": {},
   "source": [
    "# Merge and Prepare Intermediate Datasets -- Patients\n",
    "\n",
    "This notebook is the data engineering for creating the intermediate dataset for the \"Patients\" dataset. The script reads in the raw data provided by our project partner, drops records where FRDPersonnelStartDate is NULL, removes remaining duplicates, add tenure by month attribute, converts categorical data into numeric, and adds new numeric columns utilizing the the \"One Hot Encoding\" method, then outputs dataframe ro a CSV file. I will document and comment the notebook later. Enjoy!"
   ]
  },
  {
   "cell_type": "code",
   "execution_count": 1,
   "metadata": {},
   "outputs": [],
   "source": [
    "# Funtion to identify and print easy to understand variable types \n",
    "def get_var_category(series):\n",
    "    unique_count = series.nunique(dropna=False)\n",
    "    total_count = len(series)\n",
    "    if pd.api.types.is_numeric_dtype(series):\n",
    "        return 'Numerical'\n",
    "    elif pd.api.types.is_datetime64_dtype(series):\n",
    "        return 'Date'\n",
    "    elif unique_count == total_count:\n",
    "        return 'Text (Unique)'\n",
    "    else:\n",
    "        return 'Categorical'\n",
    "\n",
    "def print_categories(df):\n",
    "    for column_name in df.columns:\n",
    "        print(column_name, \": \", get_var_category(df[column_name]))"
   ]
  },
  {
   "cell_type": "code",
   "execution_count": 2,
   "metadata": {},
   "outputs": [
    {
     "data": {
      "text/html": [
       "<style>.container { width:80% !important; }</style>"
      ],
      "text/plain": [
       "<IPython.core.display.HTML object>"
      ]
     },
     "metadata": {},
     "output_type": "display_data"
    }
   ],
   "source": [
    "import numpy as np\n",
    "import pandas as pd\n",
    "\n",
    "# Setup HTML display\n",
    "from IPython.core.display import display, HTML\n",
    "# Notebook cell width adjustment\n",
    "display(HTML('<style>.container { width:80% !important; }</style>'))"
   ]
  },
  {
   "cell_type": "code",
   "execution_count": 3,
   "metadata": {},
   "outputs": [
    {
     "data": {
      "text/plain": [
       "(543774, 12)"
      ]
     },
     "execution_count": 3,
     "metadata": {},
     "output_type": "execute_result"
    }
   ],
   "source": [
    "dfPatients = pd.read_excel(r'./data/20210225-ems-raw-v04.xlsx', \n",
    "                        sheet_name='Patients', \n",
    "                        na_values=['NA'])\n",
    "dfPatients.shape"
   ]
  },
  {
   "cell_type": "code",
   "execution_count": 4,
   "metadata": {},
   "outputs": [
    {
     "name": "stdout",
     "output_type": "stream",
     "text": [
      "PatientId :  Numerical\n",
      "FRDPersonnelID :  Categorical\n",
      "Shift :  Categorical\n",
      "UnitId :  Categorical\n",
      "FireStation :  Numerical\n",
      "Battalion :  Numerical\n",
      "PatientOutcome :  Categorical\n",
      "PatientGender :  Categorical\n",
      "CrewMemberRoles :  Categorical\n",
      "DispatchTime :  Date\n",
      "FRDPersonnelGender :  Categorical\n",
      "FRDPersonnelStartDate :  Date\n"
     ]
    }
   ],
   "source": [
    "print_categories(dfPatients)"
   ]
  },
  {
   "cell_type": "code",
   "execution_count": 5,
   "metadata": {},
   "outputs": [
    {
     "data": {
      "text/plain": [
       "(543300, 12)"
      ]
     },
     "execution_count": 5,
     "metadata": {},
     "output_type": "execute_result"
    }
   ],
   "source": [
    "dfPatients = dfPatients.drop(dfPatients[(dfPatients.FRDPersonnelStartDate.isnull())].index)\n",
    "dfPatients.shape"
   ]
  },
  {
   "cell_type": "code",
   "execution_count": 6,
   "metadata": {},
   "outputs": [
    {
     "data": {
      "text/plain": [
       "(543298, 12)"
      ]
     },
     "execution_count": 6,
     "metadata": {},
     "output_type": "execute_result"
    }
   ],
   "source": [
    "# Drop duplicate records\n",
    "dfPatients_dedup = pd.DataFrame.drop_duplicates(dfPatients)\n",
    "dfPatients_dedup.shape\n",
    "# diff 543774 - 543760 = 14"
   ]
  },
  {
   "cell_type": "code",
   "execution_count": 7,
   "metadata": {},
   "outputs": [
    {
     "name": "stderr",
     "output_type": "stream",
     "text": [
      "C:\\Users\\MDL\\Anaconda3\\lib\\site-packages\\ipykernel_launcher.py:4: SettingWithCopyWarning: \n",
      "A value is trying to be set on a copy of a slice from a DataFrame.\n",
      "Try using .loc[row_indexer,col_indexer] = value instead\n",
      "\n",
      "See the caveats in the documentation: https://pandas.pydata.org/pandas-docs/stable/user_guide/indexing.html#returning-a-view-versus-a-copy\n",
      "  after removing the cwd from sys.path.\n"
     ]
    },
    {
     "data": {
      "text/plain": [
       "(543298, 13)"
      ]
     },
     "execution_count": 7,
     "metadata": {},
     "output_type": "execute_result"
    }
   ],
   "source": [
    "# Add TenureMonths, which is the count of months working at the time of the dispatch call\n",
    "dfPatients_dedup['TenureMonths'] = ((dfPatients_dedup.loc[:, 'DispatchTime'].dt.date - \\\n",
    "                                     dfPatients_dedup.loc[:, 'FRDPersonnelStartDate'].dt.date) / \\\n",
    "                                    np.timedelta64(1, 'M')).astype(int)\n",
    "dfPatients_dedup.shape\n",
    "# error is just a warning, need to figure out even though using loc"
   ]
  },
  {
   "cell_type": "code",
   "execution_count": 8,
   "metadata": {},
   "outputs": [
    {
     "data": {
      "text/html": [
       "<div>\n",
       "<style scoped>\n",
       "    .dataframe tbody tr th:only-of-type {\n",
       "        vertical-align: middle;\n",
       "    }\n",
       "\n",
       "    .dataframe tbody tr th {\n",
       "        vertical-align: top;\n",
       "    }\n",
       "\n",
       "    .dataframe thead th {\n",
       "        text-align: right;\n",
       "    }\n",
       "</style>\n",
       "<table border=\"1\" class=\"dataframe\">\n",
       "  <thead>\n",
       "    <tr style=\"text-align: right;\">\n",
       "      <th></th>\n",
       "      <th>PatientId</th>\n",
       "      <th>FRDPersonnelID</th>\n",
       "      <th>Shift</th>\n",
       "      <th>UnitId</th>\n",
       "      <th>FireStation</th>\n",
       "      <th>Battalion</th>\n",
       "      <th>PatientOutcome</th>\n",
       "      <th>PatientGender</th>\n",
       "      <th>CrewMemberRoles</th>\n",
       "      <th>DispatchTime</th>\n",
       "      <th>FRDPersonnelGender</th>\n",
       "      <th>FRDPersonnelStartDate</th>\n",
       "      <th>TenureMonths</th>\n",
       "    </tr>\n",
       "  </thead>\n",
       "  <tbody>\n",
       "    <tr>\n",
       "      <th>0</th>\n",
       "      <td>479838</td>\n",
       "      <td>6ED7C99E-9E01-E211-B5F5-78E7D18CFD3C</td>\n",
       "      <td>A - Shift</td>\n",
       "      <td>M404</td>\n",
       "      <td>4</td>\n",
       "      <td>401</td>\n",
       "      <td>Standby (No Services Performed)</td>\n",
       "      <td>NaN</td>\n",
       "      <td>Primary Patient Caregiver-At Scene,Primary Pat...</td>\n",
       "      <td>2018-01-01 00:29:02</td>\n",
       "      <td>Male</td>\n",
       "      <td>1997-08-18</td>\n",
       "      <td>244</td>\n",
       "    </tr>\n",
       "    <tr>\n",
       "      <th>1</th>\n",
       "      <td>479838</td>\n",
       "      <td>F39A55F0-C619-E511-80CA-001DD8B71D38</td>\n",
       "      <td>A - Shift</td>\n",
       "      <td>M404</td>\n",
       "      <td>4</td>\n",
       "      <td>401</td>\n",
       "      <td>Standby (No Services Performed)</td>\n",
       "      <td>NaN</td>\n",
       "      <td>Driver-Transport,Other Patient Caregiver-At Scene</td>\n",
       "      <td>2018-01-01 00:29:02</td>\n",
       "      <td>Male</td>\n",
       "      <td>2007-02-19</td>\n",
       "      <td>130</td>\n",
       "    </tr>\n",
       "    <tr>\n",
       "      <th>2</th>\n",
       "      <td>479838</td>\n",
       "      <td>D6D3C99E-9E01-E211-B5F5-78E7D18CFD3C</td>\n",
       "      <td>A - Shift</td>\n",
       "      <td>M404</td>\n",
       "      <td>4</td>\n",
       "      <td>401</td>\n",
       "      <td>Standby (No Services Performed)</td>\n",
       "      <td>NaN</td>\n",
       "      <td>Intern/Student,Other Patient Caregiver-At Scen...</td>\n",
       "      <td>2018-01-01 00:29:02</td>\n",
       "      <td>Male</td>\n",
       "      <td>2008-08-18</td>\n",
       "      <td>112</td>\n",
       "    </tr>\n",
       "    <tr>\n",
       "      <th>3</th>\n",
       "      <td>479839</td>\n",
       "      <td>71D4C99E-9E01-E211-B5F5-78E7D18CFD3C</td>\n",
       "      <td>A - Shift</td>\n",
       "      <td>M401</td>\n",
       "      <td>1</td>\n",
       "      <td>402</td>\n",
       "      <td>No Treatment/Transport Required</td>\n",
       "      <td>NaN</td>\n",
       "      <td>Primary Patient Caregiver-At Scene,Primary Pat...</td>\n",
       "      <td>2018-01-01 00:40:54</td>\n",
       "      <td>Male</td>\n",
       "      <td>2011-10-24</td>\n",
       "      <td>74</td>\n",
       "    </tr>\n",
       "    <tr>\n",
       "      <th>4</th>\n",
       "      <td>479839</td>\n",
       "      <td>F9D4C99E-9E01-E211-B5F5-78E7D18CFD3C</td>\n",
       "      <td>A - Shift</td>\n",
       "      <td>M401</td>\n",
       "      <td>1</td>\n",
       "      <td>402</td>\n",
       "      <td>No Treatment/Transport Required</td>\n",
       "      <td>NaN</td>\n",
       "      <td>Driver-Response,Driver-Transport</td>\n",
       "      <td>2018-01-01 00:40:54</td>\n",
       "      <td>Male</td>\n",
       "      <td>2012-02-27</td>\n",
       "      <td>70</td>\n",
       "    </tr>\n",
       "  </tbody>\n",
       "</table>\n",
       "</div>"
      ],
      "text/plain": [
       "   PatientId                        FRDPersonnelID      Shift UnitId  \\\n",
       "0     479838  6ED7C99E-9E01-E211-B5F5-78E7D18CFD3C  A - Shift   M404   \n",
       "1     479838  F39A55F0-C619-E511-80CA-001DD8B71D38  A - Shift   M404   \n",
       "2     479838  D6D3C99E-9E01-E211-B5F5-78E7D18CFD3C  A - Shift   M404   \n",
       "3     479839  71D4C99E-9E01-E211-B5F5-78E7D18CFD3C  A - Shift   M401   \n",
       "4     479839  F9D4C99E-9E01-E211-B5F5-78E7D18CFD3C  A - Shift   M401   \n",
       "\n",
       "   FireStation  Battalion                   PatientOutcome PatientGender  \\\n",
       "0            4        401  Standby (No Services Performed)           NaN   \n",
       "1            4        401  Standby (No Services Performed)           NaN   \n",
       "2            4        401  Standby (No Services Performed)           NaN   \n",
       "3            1        402  No Treatment/Transport Required           NaN   \n",
       "4            1        402  No Treatment/Transport Required           NaN   \n",
       "\n",
       "                                     CrewMemberRoles        DispatchTime  \\\n",
       "0  Primary Patient Caregiver-At Scene,Primary Pat... 2018-01-01 00:29:02   \n",
       "1  Driver-Transport,Other Patient Caregiver-At Scene 2018-01-01 00:29:02   \n",
       "2  Intern/Student,Other Patient Caregiver-At Scen... 2018-01-01 00:29:02   \n",
       "3  Primary Patient Caregiver-At Scene,Primary Pat... 2018-01-01 00:40:54   \n",
       "4                   Driver-Response,Driver-Transport 2018-01-01 00:40:54   \n",
       "\n",
       "  FRDPersonnelGender FRDPersonnelStartDate  TenureMonths  \n",
       "0               Male            1997-08-18           244  \n",
       "1               Male            2007-02-19           130  \n",
       "2               Male            2008-08-18           112  \n",
       "3               Male            2011-10-24            74  \n",
       "4               Male            2012-02-27            70  "
      ]
     },
     "execution_count": 8,
     "metadata": {},
     "output_type": "execute_result"
    }
   ],
   "source": [
    "dfPatients_dedup.head()"
   ]
  },
  {
   "cell_type": "code",
   "execution_count": 9,
   "metadata": {},
   "outputs": [
    {
     "data": {
      "text/plain": [
       "C - Shift    183309\n",
       "B - Shift    181976\n",
       "A - Shift    178013\n",
       "Name: Shift, dtype: int64"
      ]
     },
     "execution_count": 9,
     "metadata": {},
     "output_type": "execute_result"
    }
   ],
   "source": [
    "dfPatients_dedup['Shift'].value_counts()"
   ]
  },
  {
   "cell_type": "code",
   "execution_count": 10,
   "metadata": {},
   "outputs": [
    {
     "name": "stderr",
     "output_type": "stream",
     "text": [
      "C:\\Users\\MDL\\Anaconda3\\lib\\site-packages\\ipykernel_launcher.py:2: SettingWithCopyWarning: \n",
      "A value is trying to be set on a copy of a slice from a DataFrame.\n",
      "Try using .loc[row_indexer,col_indexer] = value instead\n",
      "\n",
      "See the caveats in the documentation: https://pandas.pydata.org/pandas-docs/stable/user_guide/indexing.html#returning-a-view-versus-a-copy\n",
      "  \n"
     ]
    }
   ],
   "source": [
    "# First just going to to add a factorized column starting with 1 as opposed to the normal python 0\n",
    "dfPatients_dedup['ShiftCode'] = pd.factorize(dfPatients_dedup['Shift'])[0] + 1"
   ]
  },
  {
   "cell_type": "code",
   "execution_count": 11,
   "metadata": {},
   "outputs": [
    {
     "data": {
      "text/html": [
       "<div>\n",
       "<style scoped>\n",
       "    .dataframe tbody tr th:only-of-type {\n",
       "        vertical-align: middle;\n",
       "    }\n",
       "\n",
       "    .dataframe tbody tr th {\n",
       "        vertical-align: top;\n",
       "    }\n",
       "\n",
       "    .dataframe thead th {\n",
       "        text-align: right;\n",
       "    }\n",
       "</style>\n",
       "<table border=\"1\" class=\"dataframe\">\n",
       "  <thead>\n",
       "    <tr style=\"text-align: right;\">\n",
       "      <th></th>\n",
       "      <th>PatientId</th>\n",
       "      <th>FRDPersonnelID</th>\n",
       "      <th>Shift</th>\n",
       "      <th>UnitId</th>\n",
       "      <th>FireStation</th>\n",
       "      <th>Battalion</th>\n",
       "      <th>PatientOutcome</th>\n",
       "      <th>PatientGender</th>\n",
       "      <th>CrewMemberRoles</th>\n",
       "      <th>DispatchTime</th>\n",
       "      <th>FRDPersonnelGender</th>\n",
       "      <th>FRDPersonnelStartDate</th>\n",
       "      <th>TenureMonths</th>\n",
       "      <th>ShiftCode</th>\n",
       "    </tr>\n",
       "  </thead>\n",
       "  <tbody>\n",
       "    <tr>\n",
       "      <th>0</th>\n",
       "      <td>479838</td>\n",
       "      <td>6ED7C99E-9E01-E211-B5F5-78E7D18CFD3C</td>\n",
       "      <td>A - Shift</td>\n",
       "      <td>M404</td>\n",
       "      <td>4</td>\n",
       "      <td>401</td>\n",
       "      <td>Standby (No Services Performed)</td>\n",
       "      <td>NaN</td>\n",
       "      <td>Primary Patient Caregiver-At Scene,Primary Pat...</td>\n",
       "      <td>2018-01-01 00:29:02</td>\n",
       "      <td>Male</td>\n",
       "      <td>1997-08-18</td>\n",
       "      <td>244</td>\n",
       "      <td>1</td>\n",
       "    </tr>\n",
       "    <tr>\n",
       "      <th>1</th>\n",
       "      <td>479838</td>\n",
       "      <td>F39A55F0-C619-E511-80CA-001DD8B71D38</td>\n",
       "      <td>A - Shift</td>\n",
       "      <td>M404</td>\n",
       "      <td>4</td>\n",
       "      <td>401</td>\n",
       "      <td>Standby (No Services Performed)</td>\n",
       "      <td>NaN</td>\n",
       "      <td>Driver-Transport,Other Patient Caregiver-At Scene</td>\n",
       "      <td>2018-01-01 00:29:02</td>\n",
       "      <td>Male</td>\n",
       "      <td>2007-02-19</td>\n",
       "      <td>130</td>\n",
       "      <td>1</td>\n",
       "    </tr>\n",
       "    <tr>\n",
       "      <th>2</th>\n",
       "      <td>479838</td>\n",
       "      <td>D6D3C99E-9E01-E211-B5F5-78E7D18CFD3C</td>\n",
       "      <td>A - Shift</td>\n",
       "      <td>M404</td>\n",
       "      <td>4</td>\n",
       "      <td>401</td>\n",
       "      <td>Standby (No Services Performed)</td>\n",
       "      <td>NaN</td>\n",
       "      <td>Intern/Student,Other Patient Caregiver-At Scen...</td>\n",
       "      <td>2018-01-01 00:29:02</td>\n",
       "      <td>Male</td>\n",
       "      <td>2008-08-18</td>\n",
       "      <td>112</td>\n",
       "      <td>1</td>\n",
       "    </tr>\n",
       "    <tr>\n",
       "      <th>3</th>\n",
       "      <td>479839</td>\n",
       "      <td>71D4C99E-9E01-E211-B5F5-78E7D18CFD3C</td>\n",
       "      <td>A - Shift</td>\n",
       "      <td>M401</td>\n",
       "      <td>1</td>\n",
       "      <td>402</td>\n",
       "      <td>No Treatment/Transport Required</td>\n",
       "      <td>NaN</td>\n",
       "      <td>Primary Patient Caregiver-At Scene,Primary Pat...</td>\n",
       "      <td>2018-01-01 00:40:54</td>\n",
       "      <td>Male</td>\n",
       "      <td>2011-10-24</td>\n",
       "      <td>74</td>\n",
       "      <td>1</td>\n",
       "    </tr>\n",
       "    <tr>\n",
       "      <th>4</th>\n",
       "      <td>479839</td>\n",
       "      <td>F9D4C99E-9E01-E211-B5F5-78E7D18CFD3C</td>\n",
       "      <td>A - Shift</td>\n",
       "      <td>M401</td>\n",
       "      <td>1</td>\n",
       "      <td>402</td>\n",
       "      <td>No Treatment/Transport Required</td>\n",
       "      <td>NaN</td>\n",
       "      <td>Driver-Response,Driver-Transport</td>\n",
       "      <td>2018-01-01 00:40:54</td>\n",
       "      <td>Male</td>\n",
       "      <td>2012-02-27</td>\n",
       "      <td>70</td>\n",
       "      <td>1</td>\n",
       "    </tr>\n",
       "  </tbody>\n",
       "</table>\n",
       "</div>"
      ],
      "text/plain": [
       "   PatientId                        FRDPersonnelID      Shift UnitId  \\\n",
       "0     479838  6ED7C99E-9E01-E211-B5F5-78E7D18CFD3C  A - Shift   M404   \n",
       "1     479838  F39A55F0-C619-E511-80CA-001DD8B71D38  A - Shift   M404   \n",
       "2     479838  D6D3C99E-9E01-E211-B5F5-78E7D18CFD3C  A - Shift   M404   \n",
       "3     479839  71D4C99E-9E01-E211-B5F5-78E7D18CFD3C  A - Shift   M401   \n",
       "4     479839  F9D4C99E-9E01-E211-B5F5-78E7D18CFD3C  A - Shift   M401   \n",
       "\n",
       "   FireStation  Battalion                   PatientOutcome PatientGender  \\\n",
       "0            4        401  Standby (No Services Performed)           NaN   \n",
       "1            4        401  Standby (No Services Performed)           NaN   \n",
       "2            4        401  Standby (No Services Performed)           NaN   \n",
       "3            1        402  No Treatment/Transport Required           NaN   \n",
       "4            1        402  No Treatment/Transport Required           NaN   \n",
       "\n",
       "                                     CrewMemberRoles        DispatchTime  \\\n",
       "0  Primary Patient Caregiver-At Scene,Primary Pat... 2018-01-01 00:29:02   \n",
       "1  Driver-Transport,Other Patient Caregiver-At Scene 2018-01-01 00:29:02   \n",
       "2  Intern/Student,Other Patient Caregiver-At Scen... 2018-01-01 00:29:02   \n",
       "3  Primary Patient Caregiver-At Scene,Primary Pat... 2018-01-01 00:40:54   \n",
       "4                   Driver-Response,Driver-Transport 2018-01-01 00:40:54   \n",
       "\n",
       "  FRDPersonnelGender FRDPersonnelStartDate  TenureMonths  ShiftCode  \n",
       "0               Male            1997-08-18           244          1  \n",
       "1               Male            2007-02-19           130          1  \n",
       "2               Male            2008-08-18           112          1  \n",
       "3               Male            2011-10-24            74          1  \n",
       "4               Male            2012-02-27            70          1  "
      ]
     },
     "execution_count": 11,
     "metadata": {},
     "output_type": "execute_result"
    }
   ],
   "source": [
    "dfPatients_dedup.head()"
   ]
  },
  {
   "cell_type": "code",
   "execution_count": 12,
   "metadata": {},
   "outputs": [
    {
     "data": {
      "text/plain": [
       "3    183309\n",
       "2    181976\n",
       "1    178013\n",
       "Name: ShiftCode, dtype: int64"
      ]
     },
     "execution_count": 12,
     "metadata": {},
     "output_type": "execute_result"
    }
   ],
   "source": [
    "dfPatients_dedup['ShiftCode'].value_counts()"
   ]
  },
  {
   "cell_type": "code",
   "execution_count": 13,
   "metadata": {},
   "outputs": [],
   "source": [
    "# For fun and experimentation going to use the \"One Hot Encoding\" method using get_dummies to create a row of 1,0 for each Shift A, B, and C\n",
    "dingdongs = pd.get_dummies(dfPatients_dedup['Shift'])"
   ]
  },
  {
   "cell_type": "code",
   "execution_count": 14,
   "metadata": {},
   "outputs": [
    {
     "data": {
      "text/html": [
       "<div>\n",
       "<style scoped>\n",
       "    .dataframe tbody tr th:only-of-type {\n",
       "        vertical-align: middle;\n",
       "    }\n",
       "\n",
       "    .dataframe tbody tr th {\n",
       "        vertical-align: top;\n",
       "    }\n",
       "\n",
       "    .dataframe thead th {\n",
       "        text-align: right;\n",
       "    }\n",
       "</style>\n",
       "<table border=\"1\" class=\"dataframe\">\n",
       "  <thead>\n",
       "    <tr style=\"text-align: right;\">\n",
       "      <th></th>\n",
       "      <th>A - Shift</th>\n",
       "      <th>B - Shift</th>\n",
       "      <th>C - Shift</th>\n",
       "    </tr>\n",
       "  </thead>\n",
       "  <tbody>\n",
       "    <tr>\n",
       "      <th>0</th>\n",
       "      <td>1</td>\n",
       "      <td>0</td>\n",
       "      <td>0</td>\n",
       "    </tr>\n",
       "    <tr>\n",
       "      <th>1</th>\n",
       "      <td>1</td>\n",
       "      <td>0</td>\n",
       "      <td>0</td>\n",
       "    </tr>\n",
       "    <tr>\n",
       "      <th>2</th>\n",
       "      <td>1</td>\n",
       "      <td>0</td>\n",
       "      <td>0</td>\n",
       "    </tr>\n",
       "    <tr>\n",
       "      <th>3</th>\n",
       "      <td>1</td>\n",
       "      <td>0</td>\n",
       "      <td>0</td>\n",
       "    </tr>\n",
       "    <tr>\n",
       "      <th>4</th>\n",
       "      <td>1</td>\n",
       "      <td>0</td>\n",
       "      <td>0</td>\n",
       "    </tr>\n",
       "  </tbody>\n",
       "</table>\n",
       "</div>"
      ],
      "text/plain": [
       "   A - Shift  B - Shift  C - Shift\n",
       "0          1          0          0\n",
       "1          1          0          0\n",
       "2          1          0          0\n",
       "3          1          0          0\n",
       "4          1          0          0"
      ]
     },
     "execution_count": 14,
     "metadata": {},
     "output_type": "execute_result"
    }
   ],
   "source": [
    "dingdongs.head()"
   ]
  },
  {
   "cell_type": "code",
   "execution_count": 15,
   "metadata": {},
   "outputs": [
    {
     "data": {
      "text/plain": [
       "A - Shift  B - Shift  C - Shift\n",
       "0          0          1            183309\n",
       "           1          0            181976\n",
       "1          0          0            178013\n",
       "dtype: int64"
      ]
     },
     "execution_count": 15,
     "metadata": {},
     "output_type": "execute_result"
    }
   ],
   "source": [
    "dingdongs.value_counts()"
   ]
  },
  {
   "cell_type": "code",
   "execution_count": 16,
   "metadata": {},
   "outputs": [],
   "source": [
    "dingdongs.rename(columns={'A - Shift': 'Shift_A', 'B - Shift': 'Shift_B', 'C - Shift': 'Shift_C'}, inplace=True)"
   ]
  },
  {
   "cell_type": "code",
   "execution_count": 17,
   "metadata": {},
   "outputs": [
    {
     "data": {
      "text/plain": [
       "Shift_A  Shift_B  Shift_C\n",
       "0        0        1          183309\n",
       "         1        0          181976\n",
       "1        0        0          178013\n",
       "dtype: int64"
      ]
     },
     "execution_count": 17,
     "metadata": {},
     "output_type": "execute_result"
    }
   ],
   "source": [
    "dingdongs.value_counts()"
   ]
  },
  {
   "cell_type": "code",
   "execution_count": 18,
   "metadata": {},
   "outputs": [],
   "source": [
    "dfPatients_dedup = pd.concat([dfPatients_dedup, dingdongs], axis=1)"
   ]
  },
  {
   "cell_type": "code",
   "execution_count": 19,
   "metadata": {},
   "outputs": [
    {
     "data": {
      "text/html": [
       "<div>\n",
       "<style scoped>\n",
       "    .dataframe tbody tr th:only-of-type {\n",
       "        vertical-align: middle;\n",
       "    }\n",
       "\n",
       "    .dataframe tbody tr th {\n",
       "        vertical-align: top;\n",
       "    }\n",
       "\n",
       "    .dataframe thead th {\n",
       "        text-align: right;\n",
       "    }\n",
       "</style>\n",
       "<table border=\"1\" class=\"dataframe\">\n",
       "  <thead>\n",
       "    <tr style=\"text-align: right;\">\n",
       "      <th></th>\n",
       "      <th>PatientId</th>\n",
       "      <th>FRDPersonnelID</th>\n",
       "      <th>Shift</th>\n",
       "      <th>UnitId</th>\n",
       "      <th>FireStation</th>\n",
       "      <th>Battalion</th>\n",
       "      <th>PatientOutcome</th>\n",
       "      <th>PatientGender</th>\n",
       "      <th>CrewMemberRoles</th>\n",
       "      <th>DispatchTime</th>\n",
       "      <th>FRDPersonnelGender</th>\n",
       "      <th>FRDPersonnelStartDate</th>\n",
       "      <th>TenureMonths</th>\n",
       "      <th>ShiftCode</th>\n",
       "      <th>Shift_A</th>\n",
       "      <th>Shift_B</th>\n",
       "      <th>Shift_C</th>\n",
       "    </tr>\n",
       "  </thead>\n",
       "  <tbody>\n",
       "    <tr>\n",
       "      <th>0</th>\n",
       "      <td>479838</td>\n",
       "      <td>6ED7C99E-9E01-E211-B5F5-78E7D18CFD3C</td>\n",
       "      <td>A - Shift</td>\n",
       "      <td>M404</td>\n",
       "      <td>4</td>\n",
       "      <td>401</td>\n",
       "      <td>Standby (No Services Performed)</td>\n",
       "      <td>NaN</td>\n",
       "      <td>Primary Patient Caregiver-At Scene,Primary Pat...</td>\n",
       "      <td>2018-01-01 00:29:02</td>\n",
       "      <td>Male</td>\n",
       "      <td>1997-08-18</td>\n",
       "      <td>244</td>\n",
       "      <td>1</td>\n",
       "      <td>1</td>\n",
       "      <td>0</td>\n",
       "      <td>0</td>\n",
       "    </tr>\n",
       "    <tr>\n",
       "      <th>1</th>\n",
       "      <td>479838</td>\n",
       "      <td>F39A55F0-C619-E511-80CA-001DD8B71D38</td>\n",
       "      <td>A - Shift</td>\n",
       "      <td>M404</td>\n",
       "      <td>4</td>\n",
       "      <td>401</td>\n",
       "      <td>Standby (No Services Performed)</td>\n",
       "      <td>NaN</td>\n",
       "      <td>Driver-Transport,Other Patient Caregiver-At Scene</td>\n",
       "      <td>2018-01-01 00:29:02</td>\n",
       "      <td>Male</td>\n",
       "      <td>2007-02-19</td>\n",
       "      <td>130</td>\n",
       "      <td>1</td>\n",
       "      <td>1</td>\n",
       "      <td>0</td>\n",
       "      <td>0</td>\n",
       "    </tr>\n",
       "    <tr>\n",
       "      <th>2</th>\n",
       "      <td>479838</td>\n",
       "      <td>D6D3C99E-9E01-E211-B5F5-78E7D18CFD3C</td>\n",
       "      <td>A - Shift</td>\n",
       "      <td>M404</td>\n",
       "      <td>4</td>\n",
       "      <td>401</td>\n",
       "      <td>Standby (No Services Performed)</td>\n",
       "      <td>NaN</td>\n",
       "      <td>Intern/Student,Other Patient Caregiver-At Scen...</td>\n",
       "      <td>2018-01-01 00:29:02</td>\n",
       "      <td>Male</td>\n",
       "      <td>2008-08-18</td>\n",
       "      <td>112</td>\n",
       "      <td>1</td>\n",
       "      <td>1</td>\n",
       "      <td>0</td>\n",
       "      <td>0</td>\n",
       "    </tr>\n",
       "    <tr>\n",
       "      <th>3</th>\n",
       "      <td>479839</td>\n",
       "      <td>71D4C99E-9E01-E211-B5F5-78E7D18CFD3C</td>\n",
       "      <td>A - Shift</td>\n",
       "      <td>M401</td>\n",
       "      <td>1</td>\n",
       "      <td>402</td>\n",
       "      <td>No Treatment/Transport Required</td>\n",
       "      <td>NaN</td>\n",
       "      <td>Primary Patient Caregiver-At Scene,Primary Pat...</td>\n",
       "      <td>2018-01-01 00:40:54</td>\n",
       "      <td>Male</td>\n",
       "      <td>2011-10-24</td>\n",
       "      <td>74</td>\n",
       "      <td>1</td>\n",
       "      <td>1</td>\n",
       "      <td>0</td>\n",
       "      <td>0</td>\n",
       "    </tr>\n",
       "    <tr>\n",
       "      <th>4</th>\n",
       "      <td>479839</td>\n",
       "      <td>F9D4C99E-9E01-E211-B5F5-78E7D18CFD3C</td>\n",
       "      <td>A - Shift</td>\n",
       "      <td>M401</td>\n",
       "      <td>1</td>\n",
       "      <td>402</td>\n",
       "      <td>No Treatment/Transport Required</td>\n",
       "      <td>NaN</td>\n",
       "      <td>Driver-Response,Driver-Transport</td>\n",
       "      <td>2018-01-01 00:40:54</td>\n",
       "      <td>Male</td>\n",
       "      <td>2012-02-27</td>\n",
       "      <td>70</td>\n",
       "      <td>1</td>\n",
       "      <td>1</td>\n",
       "      <td>0</td>\n",
       "      <td>0</td>\n",
       "    </tr>\n",
       "  </tbody>\n",
       "</table>\n",
       "</div>"
      ],
      "text/plain": [
       "   PatientId                        FRDPersonnelID      Shift UnitId  \\\n",
       "0     479838  6ED7C99E-9E01-E211-B5F5-78E7D18CFD3C  A - Shift   M404   \n",
       "1     479838  F39A55F0-C619-E511-80CA-001DD8B71D38  A - Shift   M404   \n",
       "2     479838  D6D3C99E-9E01-E211-B5F5-78E7D18CFD3C  A - Shift   M404   \n",
       "3     479839  71D4C99E-9E01-E211-B5F5-78E7D18CFD3C  A - Shift   M401   \n",
       "4     479839  F9D4C99E-9E01-E211-B5F5-78E7D18CFD3C  A - Shift   M401   \n",
       "\n",
       "   FireStation  Battalion                   PatientOutcome PatientGender  \\\n",
       "0            4        401  Standby (No Services Performed)           NaN   \n",
       "1            4        401  Standby (No Services Performed)           NaN   \n",
       "2            4        401  Standby (No Services Performed)           NaN   \n",
       "3            1        402  No Treatment/Transport Required           NaN   \n",
       "4            1        402  No Treatment/Transport Required           NaN   \n",
       "\n",
       "                                     CrewMemberRoles        DispatchTime  \\\n",
       "0  Primary Patient Caregiver-At Scene,Primary Pat... 2018-01-01 00:29:02   \n",
       "1  Driver-Transport,Other Patient Caregiver-At Scene 2018-01-01 00:29:02   \n",
       "2  Intern/Student,Other Patient Caregiver-At Scen... 2018-01-01 00:29:02   \n",
       "3  Primary Patient Caregiver-At Scene,Primary Pat... 2018-01-01 00:40:54   \n",
       "4                   Driver-Response,Driver-Transport 2018-01-01 00:40:54   \n",
       "\n",
       "  FRDPersonnelGender FRDPersonnelStartDate  TenureMonths  ShiftCode  Shift_A  \\\n",
       "0               Male            1997-08-18           244          1        1   \n",
       "1               Male            2007-02-19           130          1        1   \n",
       "2               Male            2008-08-18           112          1        1   \n",
       "3               Male            2011-10-24            74          1        1   \n",
       "4               Male            2012-02-27            70          1        1   \n",
       "\n",
       "   Shift_B  Shift_C  \n",
       "0        0        0  \n",
       "1        0        0  \n",
       "2        0        0  \n",
       "3        0        0  \n",
       "4        0        0  "
      ]
     },
     "execution_count": 19,
     "metadata": {},
     "output_type": "execute_result"
    }
   ],
   "source": [
    "dfPatients_dedup.head()"
   ]
  },
  {
   "cell_type": "code",
   "execution_count": 20,
   "metadata": {},
   "outputs": [
    {
     "data": {
      "text/plain": [
       "M422     18653\n",
       "M430     18102\n",
       "M405     15942\n",
       "M404     15897\n",
       "M425     15383\n",
       "         ...  \n",
       "BC405        2\n",
       "BC402        2\n",
       "LA436        2\n",
       "LA437        2\n",
       "K441         1\n",
       "Name: UnitId, Length: 167, dtype: int64"
      ]
     },
     "execution_count": 20,
     "metadata": {},
     "output_type": "execute_result"
    }
   ],
   "source": [
    "dfPatients_dedup['UnitId'].value_counts()"
   ]
  },
  {
   "cell_type": "code",
   "execution_count": 21,
   "metadata": {},
   "outputs": [],
   "source": [
    "dfPatients_dedup['UnitIdCode'] = pd.factorize(dfPatients_dedup['UnitId'])[0] + 1"
   ]
  },
  {
   "cell_type": "code",
   "execution_count": 22,
   "metadata": {},
   "outputs": [
    {
     "data": {
      "text/plain": [
       "26     18653\n",
       "22     18102\n",
       "24     15942\n",
       "1      15897\n",
       "37     15383\n",
       "       ...  \n",
       "148        2\n",
       "145        2\n",
       "162        2\n",
       "143        2\n",
       "146        1\n",
       "Name: UnitIdCode, Length: 167, dtype: int64"
      ]
     },
     "execution_count": 22,
     "metadata": {},
     "output_type": "execute_result"
    }
   ],
   "source": [
    "dfPatients_dedup['UnitIdCode'].value_counts()"
   ]
  },
  {
   "cell_type": "code",
   "execution_count": 23,
   "metadata": {},
   "outputs": [
    {
     "data": {
      "text/plain": [
       "Treated & Transported                        356209\n",
       "Patient Refusal  (AMA)                        46608\n",
       "No Treatment/Transport Required               44876\n",
       "Canceled (Prior to Arrival)                   38680\n",
       "EMS Assist (Other Agency)                     13697\n",
       "Canceled (On Scene, No Patient Contact)       12195\n",
       "No Patient Found                              10500\n",
       "Standby (No Services Performed)                8660\n",
       "Patient Dead at Scene (No EMS CPR)             4860\n",
       "Standby (Operational Support Provided)         3238\n",
       "Treated, Transferred Care                      2471\n",
       "Patient Dead at Scene (EMS CPR Attempted)      1302\n",
       "Name: PatientOutcome, dtype: int64"
      ]
     },
     "execution_count": 23,
     "metadata": {},
     "output_type": "execute_result"
    }
   ],
   "source": [
    "dfPatients_dedup['PatientOutcome'].value_counts()"
   ]
  },
  {
   "cell_type": "code",
   "execution_count": 24,
   "metadata": {},
   "outputs": [],
   "source": [
    "dfPatients_dedup['PatientOutcomeCode'] = pd.factorize(dfPatients_dedup['PatientOutcome'])[0] + 1"
   ]
  },
  {
   "cell_type": "code",
   "execution_count": 25,
   "metadata": {},
   "outputs": [
    {
     "data": {
      "text/plain": [
       "4     356209\n",
       "3      46608\n",
       "2      44876\n",
       "7      38680\n",
       "11     13697\n",
       "5      12195\n",
       "6      10500\n",
       "1       8660\n",
       "9       4860\n",
       "8       3238\n",
       "10      2471\n",
       "12      1302\n",
       "0          2\n",
       "Name: PatientOutcomeCode, dtype: int64"
      ]
     },
     "execution_count": 25,
     "metadata": {},
     "output_type": "execute_result"
    }
   ],
   "source": [
    "dfPatients_dedup['PatientOutcomeCode'].value_counts()"
   ]
  },
  {
   "cell_type": "code",
   "execution_count": 26,
   "metadata": {},
   "outputs": [
    {
     "data": {
      "text/plain": [
       "Female                           210378\n",
       "Male                             201452\n",
       "Unknown (Unable to Determine)       178\n",
       "Name: PatientGender, dtype: int64"
      ]
     },
     "execution_count": 26,
     "metadata": {},
     "output_type": "execute_result"
    }
   ],
   "source": [
    "dfPatients_dedup['PatientGender'].value_counts()"
   ]
  },
  {
   "cell_type": "code",
   "execution_count": 27,
   "metadata": {},
   "outputs": [
    {
     "data": {
      "text/plain": [
       "Male      455727\n",
       "Female     87571\n",
       "Name: FRDPersonnelGender, dtype: int64"
      ]
     },
     "execution_count": 27,
     "metadata": {},
     "output_type": "execute_result"
    }
   ],
   "source": [
    "dfPatients_dedup['FRDPersonnelGender'].value_counts()"
   ]
  },
  {
   "cell_type": "code",
   "execution_count": 28,
   "metadata": {},
   "outputs": [],
   "source": [
    "dfPatients_dedup['ProviderGenderCode'] = pd.factorize(dfPatients_dedup['FRDPersonnelGender'])[0] + 1"
   ]
  },
  {
   "cell_type": "code",
   "execution_count": 29,
   "metadata": {},
   "outputs": [
    {
     "data": {
      "text/plain": [
       "1    455727\n",
       "2     87571\n",
       "Name: ProviderGenderCode, dtype: int64"
      ]
     },
     "execution_count": 29,
     "metadata": {},
     "output_type": "execute_result"
    }
   ],
   "source": [
    "dfPatients_dedup['ProviderGenderCode'].value_counts()"
   ]
  },
  {
   "cell_type": "code",
   "execution_count": 30,
   "metadata": {},
   "outputs": [
    {
     "data": {
      "text/html": [
       "<div>\n",
       "<style scoped>\n",
       "    .dataframe tbody tr th:only-of-type {\n",
       "        vertical-align: middle;\n",
       "    }\n",
       "\n",
       "    .dataframe tbody tr th {\n",
       "        vertical-align: top;\n",
       "    }\n",
       "\n",
       "    .dataframe thead th {\n",
       "        text-align: right;\n",
       "    }\n",
       "</style>\n",
       "<table border=\"1\" class=\"dataframe\">\n",
       "  <thead>\n",
       "    <tr style=\"text-align: right;\">\n",
       "      <th></th>\n",
       "      <th>PatientId</th>\n",
       "      <th>FRDPersonnelID</th>\n",
       "      <th>Shift</th>\n",
       "      <th>UnitId</th>\n",
       "      <th>FireStation</th>\n",
       "      <th>Battalion</th>\n",
       "      <th>PatientOutcome</th>\n",
       "      <th>PatientGender</th>\n",
       "      <th>CrewMemberRoles</th>\n",
       "      <th>DispatchTime</th>\n",
       "      <th>FRDPersonnelGender</th>\n",
       "      <th>FRDPersonnelStartDate</th>\n",
       "      <th>TenureMonths</th>\n",
       "      <th>ShiftCode</th>\n",
       "      <th>Shift_A</th>\n",
       "      <th>Shift_B</th>\n",
       "      <th>Shift_C</th>\n",
       "      <th>UnitIdCode</th>\n",
       "      <th>PatientOutcomeCode</th>\n",
       "      <th>ProviderGenderCode</th>\n",
       "    </tr>\n",
       "  </thead>\n",
       "  <tbody>\n",
       "    <tr>\n",
       "      <th>0</th>\n",
       "      <td>479838</td>\n",
       "      <td>6ED7C99E-9E01-E211-B5F5-78E7D18CFD3C</td>\n",
       "      <td>A - Shift</td>\n",
       "      <td>M404</td>\n",
       "      <td>4</td>\n",
       "      <td>401</td>\n",
       "      <td>Standby (No Services Performed)</td>\n",
       "      <td>NaN</td>\n",
       "      <td>Primary Patient Caregiver-At Scene,Primary Pat...</td>\n",
       "      <td>2018-01-01 00:29:02</td>\n",
       "      <td>Male</td>\n",
       "      <td>1997-08-18</td>\n",
       "      <td>244</td>\n",
       "      <td>1</td>\n",
       "      <td>1</td>\n",
       "      <td>0</td>\n",
       "      <td>0</td>\n",
       "      <td>1</td>\n",
       "      <td>1</td>\n",
       "      <td>1</td>\n",
       "    </tr>\n",
       "    <tr>\n",
       "      <th>1</th>\n",
       "      <td>479838</td>\n",
       "      <td>F39A55F0-C619-E511-80CA-001DD8B71D38</td>\n",
       "      <td>A - Shift</td>\n",
       "      <td>M404</td>\n",
       "      <td>4</td>\n",
       "      <td>401</td>\n",
       "      <td>Standby (No Services Performed)</td>\n",
       "      <td>NaN</td>\n",
       "      <td>Driver-Transport,Other Patient Caregiver-At Scene</td>\n",
       "      <td>2018-01-01 00:29:02</td>\n",
       "      <td>Male</td>\n",
       "      <td>2007-02-19</td>\n",
       "      <td>130</td>\n",
       "      <td>1</td>\n",
       "      <td>1</td>\n",
       "      <td>0</td>\n",
       "      <td>0</td>\n",
       "      <td>1</td>\n",
       "      <td>1</td>\n",
       "      <td>1</td>\n",
       "    </tr>\n",
       "    <tr>\n",
       "      <th>2</th>\n",
       "      <td>479838</td>\n",
       "      <td>D6D3C99E-9E01-E211-B5F5-78E7D18CFD3C</td>\n",
       "      <td>A - Shift</td>\n",
       "      <td>M404</td>\n",
       "      <td>4</td>\n",
       "      <td>401</td>\n",
       "      <td>Standby (No Services Performed)</td>\n",
       "      <td>NaN</td>\n",
       "      <td>Intern/Student,Other Patient Caregiver-At Scen...</td>\n",
       "      <td>2018-01-01 00:29:02</td>\n",
       "      <td>Male</td>\n",
       "      <td>2008-08-18</td>\n",
       "      <td>112</td>\n",
       "      <td>1</td>\n",
       "      <td>1</td>\n",
       "      <td>0</td>\n",
       "      <td>0</td>\n",
       "      <td>1</td>\n",
       "      <td>1</td>\n",
       "      <td>1</td>\n",
       "    </tr>\n",
       "    <tr>\n",
       "      <th>3</th>\n",
       "      <td>479839</td>\n",
       "      <td>71D4C99E-9E01-E211-B5F5-78E7D18CFD3C</td>\n",
       "      <td>A - Shift</td>\n",
       "      <td>M401</td>\n",
       "      <td>1</td>\n",
       "      <td>402</td>\n",
       "      <td>No Treatment/Transport Required</td>\n",
       "      <td>NaN</td>\n",
       "      <td>Primary Patient Caregiver-At Scene,Primary Pat...</td>\n",
       "      <td>2018-01-01 00:40:54</td>\n",
       "      <td>Male</td>\n",
       "      <td>2011-10-24</td>\n",
       "      <td>74</td>\n",
       "      <td>1</td>\n",
       "      <td>1</td>\n",
       "      <td>0</td>\n",
       "      <td>0</td>\n",
       "      <td>2</td>\n",
       "      <td>2</td>\n",
       "      <td>1</td>\n",
       "    </tr>\n",
       "    <tr>\n",
       "      <th>4</th>\n",
       "      <td>479839</td>\n",
       "      <td>F9D4C99E-9E01-E211-B5F5-78E7D18CFD3C</td>\n",
       "      <td>A - Shift</td>\n",
       "      <td>M401</td>\n",
       "      <td>1</td>\n",
       "      <td>402</td>\n",
       "      <td>No Treatment/Transport Required</td>\n",
       "      <td>NaN</td>\n",
       "      <td>Driver-Response,Driver-Transport</td>\n",
       "      <td>2018-01-01 00:40:54</td>\n",
       "      <td>Male</td>\n",
       "      <td>2012-02-27</td>\n",
       "      <td>70</td>\n",
       "      <td>1</td>\n",
       "      <td>1</td>\n",
       "      <td>0</td>\n",
       "      <td>0</td>\n",
       "      <td>2</td>\n",
       "      <td>2</td>\n",
       "      <td>1</td>\n",
       "    </tr>\n",
       "  </tbody>\n",
       "</table>\n",
       "</div>"
      ],
      "text/plain": [
       "   PatientId                        FRDPersonnelID      Shift UnitId  \\\n",
       "0     479838  6ED7C99E-9E01-E211-B5F5-78E7D18CFD3C  A - Shift   M404   \n",
       "1     479838  F39A55F0-C619-E511-80CA-001DD8B71D38  A - Shift   M404   \n",
       "2     479838  D6D3C99E-9E01-E211-B5F5-78E7D18CFD3C  A - Shift   M404   \n",
       "3     479839  71D4C99E-9E01-E211-B5F5-78E7D18CFD3C  A - Shift   M401   \n",
       "4     479839  F9D4C99E-9E01-E211-B5F5-78E7D18CFD3C  A - Shift   M401   \n",
       "\n",
       "   FireStation  Battalion                   PatientOutcome PatientGender  \\\n",
       "0            4        401  Standby (No Services Performed)           NaN   \n",
       "1            4        401  Standby (No Services Performed)           NaN   \n",
       "2            4        401  Standby (No Services Performed)           NaN   \n",
       "3            1        402  No Treatment/Transport Required           NaN   \n",
       "4            1        402  No Treatment/Transport Required           NaN   \n",
       "\n",
       "                                     CrewMemberRoles        DispatchTime  \\\n",
       "0  Primary Patient Caregiver-At Scene,Primary Pat... 2018-01-01 00:29:02   \n",
       "1  Driver-Transport,Other Patient Caregiver-At Scene 2018-01-01 00:29:02   \n",
       "2  Intern/Student,Other Patient Caregiver-At Scen... 2018-01-01 00:29:02   \n",
       "3  Primary Patient Caregiver-At Scene,Primary Pat... 2018-01-01 00:40:54   \n",
       "4                   Driver-Response,Driver-Transport 2018-01-01 00:40:54   \n",
       "\n",
       "  FRDPersonnelGender FRDPersonnelStartDate  TenureMonths  ShiftCode  Shift_A  \\\n",
       "0               Male            1997-08-18           244          1        1   \n",
       "1               Male            2007-02-19           130          1        1   \n",
       "2               Male            2008-08-18           112          1        1   \n",
       "3               Male            2011-10-24            74          1        1   \n",
       "4               Male            2012-02-27            70          1        1   \n",
       "\n",
       "   Shift_B  Shift_C  UnitIdCode  PatientOutcomeCode  ProviderGenderCode  \n",
       "0        0        0           1                   1                   1  \n",
       "1        0        0           1                   1                   1  \n",
       "2        0        0           1                   1                   1  \n",
       "3        0        0           2                   2                   1  \n",
       "4        0        0           2                   2                   1  "
      ]
     },
     "execution_count": 30,
     "metadata": {},
     "output_type": "execute_result"
    }
   ],
   "source": [
    "dfPatients_dedup.head()"
   ]
  },
  {
   "cell_type": "code",
   "execution_count": 31,
   "metadata": {},
   "outputs": [
    {
     "name": "stdout",
     "output_type": "stream",
     "text": [
      "PatientId :  Numerical\n",
      "FRDPersonnelID :  Categorical\n",
      "Shift :  Categorical\n",
      "UnitId :  Categorical\n",
      "FireStation :  Numerical\n",
      "Battalion :  Numerical\n",
      "PatientOutcome :  Categorical\n",
      "PatientGender :  Categorical\n",
      "CrewMemberRoles :  Categorical\n",
      "DispatchTime :  Date\n",
      "FRDPersonnelGender :  Categorical\n",
      "FRDPersonnelStartDate :  Date\n",
      "TenureMonths :  Numerical\n",
      "ShiftCode :  Numerical\n",
      "Shift_A :  Numerical\n",
      "Shift_B :  Numerical\n",
      "Shift_C :  Numerical\n",
      "UnitIdCode :  Numerical\n",
      "PatientOutcomeCode :  Numerical\n",
      "ProviderGenderCode :  Numerical\n"
     ]
    }
   ],
   "source": [
    "print_categories(dfPatients_dedup)"
   ]
  },
  {
   "cell_type": "code",
   "execution_count": 32,
   "metadata": {},
   "outputs": [],
   "source": [
    "dfPatients_dedup.to_csv(r'./data/dfPatients_dedup.csv', index = True)"
   ]
  }
 ],
 "metadata": {
  "kernelspec": {
   "display_name": "Python 3",
   "language": "python",
   "name": "python3"
  },
  "language_info": {
   "codemirror_mode": {
    "name": "ipython",
    "version": 3
   },
   "file_extension": ".py",
   "mimetype": "text/x-python",
   "name": "python",
   "nbconvert_exporter": "python",
   "pygments_lexer": "ipython3",
   "version": "3.7.9"
  }
 },
 "nbformat": 4,
 "nbformat_minor": 4
}
