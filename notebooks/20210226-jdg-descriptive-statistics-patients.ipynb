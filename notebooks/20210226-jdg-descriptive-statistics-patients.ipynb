{
 "cells": [
  {
   "cell_type": "markdown",
   "id": "civil-serum",
   "metadata": {},
   "source": [
    "# Descriptive Statistics for Patients Dataset\n",
    "This script can be run only on the Patients dataset. It create visualizations that would not apply to the other datasets.\n",
    "\n",
    "_Author: Jared Gauntt_"
   ]
  },
  {
   "cell_type": "markdown",
   "id": "essential-trial",
   "metadata": {},
   "source": [
    "## Prepare for Analysis"
   ]
  },
  {
   "cell_type": "markdown",
   "id": "cubic-harbor",
   "metadata": {},
   "source": [
    "### Set Parameters"
   ]
  },
  {
   "cell_type": "code",
   "execution_count": 1,
   "id": "faced-emission",
   "metadata": {},
   "outputs": [],
   "source": [
    "localFolder='../data/01_raw/' #If run from Git Hub project folder structure, script must be in \"notebooks\" folder\n",
    "fileName='20210225-ems-raw-v04.xlsx'\n",
    "sheetName='Patients'\n",
    "removeDuplicates=True"
   ]
  },
  {
   "cell_type": "markdown",
   "id": "rocky-payday",
   "metadata": {},
   "source": [
    "### Import Libraries"
   ]
  },
  {
   "cell_type": "code",
   "execution_count": 2,
   "id": "applicable-receipt",
   "metadata": {},
   "outputs": [],
   "source": [
    "import pandas as pd\n",
    "import matplotlib.pyplot as plt\n",
    "import re"
   ]
  },
  {
   "cell_type": "markdown",
   "id": "discrete-arthur",
   "metadata": {},
   "source": [
    "### Import from Excel Spreadsheet"
   ]
  },
  {
   "cell_type": "code",
   "execution_count": 3,
   "id": "surrounded-speaking",
   "metadata": {},
   "outputs": [],
   "source": [
    "#Import single tab \n",
    "df=pd.read_excel(localFolder+fileName,sheet_name=sheetName)"
   ]
  },
  {
   "cell_type": "markdown",
   "id": "deadly-athens",
   "metadata": {},
   "source": [
    "### Remove Duplicate Rows"
   ]
  },
  {
   "cell_type": "code",
   "execution_count": 4,
   "id": "embedded-fancy",
   "metadata": {},
   "outputs": [
    {
     "name": "stdout",
     "output_type": "stream",
     "text": [
      "Removing Duplicate Rows\n"
     ]
    }
   ],
   "source": [
    "if removeDuplicates:\n",
    "    #Determine which rows are duplicates (True=duplicate, False=first instance of row)\n",
    "    duplicateRowIdentifier=df.duplicated()\n",
    "\n",
    "    #Reduce to the rows that were not flagged as duplicates\n",
    "    df=df.loc[duplicateRowIdentifier==False,:]\n",
    "    print('Removing Duplicate Rows')\n",
    "    \n",
    "else:\n",
    "    print('Duplicate Rows NOT Removed')"
   ]
  },
  {
   "cell_type": "markdown",
   "id": "outer-relations",
   "metadata": {},
   "source": [
    "## Functions"
   ]
  },
  {
   "cell_type": "markdown",
   "id": "finnish-correction",
   "metadata": {},
   "source": [
    "### Confirm Assumption and Reduce to Unique Rows"
   ]
  },
  {
   "cell_type": "code",
   "execution_count": 5,
   "id": "warming-efficiency",
   "metadata": {},
   "outputs": [],
   "source": [
    "def ReduceToOneRowPerID(df,colID,colAnalyze):\n",
    "\n",
    "    #Count the number of unique IDs\n",
    "    numUniqueIDs=df[colID].nunique(dropna=False)\n",
    "\n",
    "    #Count the number of unique rows\n",
    "    numUniqueRows=len(df.index[df[[colID,colAnalyze]].duplicated()==False])\n",
    "\n",
    "    #Confirm assumption that each ID has only one value associated with it\n",
    "    additionalValues=numUniqueRows-numUniqueIDs\n",
    "    if not additionalValues==0:\n",
    "        print('WARNING: ['+colID+','+colAnalyze+'] has '+str(additionalValues)+' more unique row(s) than unique ['+colID+']')\n",
    "\n",
    "    #Reduce dataset to unique rows\n",
    "    dfAnalyze=df.loc[df.index[df[[colID,colAnalyze]].duplicated()==False],[colID,colAnalyze]]\n",
    "    \n",
    "    return(dfAnalyze)"
   ]
  },
  {
   "cell_type": "markdown",
   "id": "integrated-drive",
   "metadata": {},
   "source": [
    "### Pie Chart"
   ]
  },
  {
   "cell_type": "code",
   "execution_count": 6,
   "id": "dental-premiere",
   "metadata": {},
   "outputs": [],
   "source": [
    "def PieChart(df,colID,colAnalyze):\n",
    "\n",
    "    #Confirm assumption and reduce to unique rows\n",
    "    dfAnalyze=ReduceToOneRowPerID(df,colID,colAnalyze)\n",
    "    \n",
    "    #Count number of instances of each value\n",
    "    dsCount=dfAnalyze[colAnalyze].value_counts(dropna=False).sort_index()\n",
    "    \n",
    "    #Convert \"nan\" to \"NULL\"\n",
    "    dsIndex=pd.Series(dsCount.index)\n",
    "    dsIndex.loc[dsIndex.isnull()]='NULL'\n",
    "\n",
    "    #Generate pie chart\n",
    "    fig,ax=plt.subplots()\n",
    "    ax.pie(x=dsCount,labels=dsIndex,autopct='%1.1f%%')\n",
    "    ax.set_title(colAnalyze)\n",
    "    plt.show()"
   ]
  },
  {
   "cell_type": "markdown",
   "id": "early-hampshire",
   "metadata": {},
   "source": [
    "### Histogram"
   ]
  },
  {
   "cell_type": "code",
   "execution_count": 7,
   "id": "prepared-thumb",
   "metadata": {},
   "outputs": [],
   "source": [
    "def Histogram(df,colID,colAnalyze):\n",
    "\n",
    "    #Confirm assumption and reduce to unique rows\n",
    "    dfAnalyze=ReduceToOneRowPerID(df,colID,colAnalyze)\n",
    "\n",
    "    #Generate pie chart\n",
    "    fig,ax=plt.subplots()\n",
    "    ax.hist(dfAnalyze[colAnalyze],bins=20)\n",
    "    ax.set_title(colAnalyze)\n",
    "    ax.set_ylabel('Number of '+colID)\n",
    "    plt.xticks(rotation=45)\n",
    "    plt.show()"
   ]
  },
  {
   "cell_type": "markdown",
   "id": "canadian-cooper",
   "metadata": {},
   "source": [
    "## Visualizations"
   ]
  },
  {
   "cell_type": "markdown",
   "id": "extended-receipt",
   "metadata": {},
   "source": [
    "### Patient Gender"
   ]
  },
  {
   "cell_type": "code",
   "execution_count": 8,
   "id": "armed-colleague",
   "metadata": {},
   "outputs": [
    {
     "data": {
      "image/png": "[encoded data removed]",
      "text/plain": [
       "<Figure size 432x288 with 1 Axes>"
      ]
     },
     "metadata": {},
     "output_type": "display_data"
    }
   ],
   "source": [
    "PieChart(df,'PatientId','PatientGender')"
   ]
  },
  {
   "cell_type": "markdown",
   "id": "tutorial-reach",
   "metadata": {},
   "source": [
    "### FRD Personnel Gender"
   ]
  },
  {
   "cell_type": "code",
   "execution_count": 9,
   "id": "intensive-motivation",
   "metadata": {},
   "outputs": [
    {
     "data": {
      "image/png": "[encoded data removed]",
      "text/plain": [
       "<Figure size 432x288 with 1 Axes>"
      ]
     },
     "metadata": {},
     "output_type": "display_data"
    }
   ],
   "source": [
    "PieChart(df,'FRDPersonnelID','FRDPersonnelGender')"
   ]
  },
  {
   "cell_type": "markdown",
   "id": "southeast-peace",
   "metadata": {},
   "source": [
    "### Shift"
   ]
  },
  {
   "cell_type": "code",
   "execution_count": 10,
   "id": "portuguese-sympathy",
   "metadata": {},
   "outputs": [
    {
     "data": {
      "image/png": "[encoded data removed]",
      "text/plain": [
       "<Figure size 432x288 with 1 Axes>"
      ]
     },
     "metadata": {},
     "output_type": "display_data"
    }
   ],
   "source": [
    "PieChart(df,'PatientId','Shift')"
   ]
  },
  {
   "cell_type": "markdown",
   "id": "hungry-spread",
   "metadata": {},
   "source": [
    "### Battalion"
   ]
  },
  {
   "cell_type": "code",
   "execution_count": 11,
   "id": "impaired-applicant",
   "metadata": {},
   "outputs": [
    {
     "data": {
      "image/png": "[encoded data removed]",
      "text/plain": [
       "<Figure size 432x288 with 1 Axes>"
      ]
     },
     "metadata": {},
     "output_type": "display_data"
    }
   ],
   "source": [
    "PieChart(df,'PatientId','Battalion')"
   ]
  },
  {
   "cell_type": "markdown",
   "id": "blocked-chile",
   "metadata": {},
   "source": [
    "### Unit ID Prefix"
   ]
  },
  {
   "cell_type": "code",
   "execution_count": 12,
   "id": "fewer-rental",
   "metadata": {},
   "outputs": [
    {
     "name": "stdout",
     "output_type": "stream",
     "text": [
      "Unit ID Prefixes\n"
     ]
    },
    {
     "data": {
      "text/html": [
       "<div>\n",
       "<style scoped>\n",
       "    .dataframe tbody tr th:only-of-type {\n",
       "        vertical-align: middle;\n",
       "    }\n",
       "\n",
       "    .dataframe tbody tr th {\n",
       "        vertical-align: top;\n",
       "    }\n",
       "\n",
       "    .dataframe thead th {\n",
       "        text-align: right;\n",
       "    }\n",
       "</style>\n",
       "<table border=\"1\" class=\"dataframe\">\n",
       "  <thead>\n",
       "    <tr style=\"text-align: right;\">\n",
       "      <th></th>\n",
       "      <th>Number of Patient IDs</th>\n",
       "      <th>Percent of Patient IDs</th>\n",
       "    </tr>\n",
       "  </thead>\n",
       "  <tbody>\n",
       "    <tr>\n",
       "      <th>M</th>\n",
       "      <td>236206</td>\n",
       "      <td>95.66</td>\n",
       "    </tr>\n",
       "    <tr>\n",
       "      <th>E</th>\n",
       "      <td>4692</td>\n",
       "      <td>1.90</td>\n",
       "    </tr>\n",
       "    <tr>\n",
       "      <th>A</th>\n",
       "      <td>3383</td>\n",
       "      <td>1.37</td>\n",
       "    </tr>\n",
       "    <tr>\n",
       "      <th>R</th>\n",
       "      <td>1022</td>\n",
       "      <td>0.41</td>\n",
       "    </tr>\n",
       "    <tr>\n",
       "      <th>TT</th>\n",
       "      <td>499</td>\n",
       "      <td>0.20</td>\n",
       "    </tr>\n",
       "    <tr>\n",
       "      <th>TL</th>\n",
       "      <td>485</td>\n",
       "      <td>0.20</td>\n",
       "    </tr>\n",
       "    <tr>\n",
       "      <th>T</th>\n",
       "      <td>378</td>\n",
       "      <td>0.15</td>\n",
       "    </tr>\n",
       "    <tr>\n",
       "      <th>EMS</th>\n",
       "      <td>194</td>\n",
       "      <td>0.08</td>\n",
       "    </tr>\n",
       "    <tr>\n",
       "      <th>HM</th>\n",
       "      <td>62</td>\n",
       "      <td>0.03</td>\n",
       "    </tr>\n",
       "    <tr>\n",
       "      <th>BC</th>\n",
       "      <td>3</td>\n",
       "      <td>0.00</td>\n",
       "    </tr>\n",
       "    <tr>\n",
       "      <th>LA</th>\n",
       "      <td>2</td>\n",
       "      <td>0.00</td>\n",
       "    </tr>\n",
       "    <tr>\n",
       "      <th>UT</th>\n",
       "      <td>1</td>\n",
       "      <td>0.00</td>\n",
       "    </tr>\n",
       "    <tr>\n",
       "      <th>K</th>\n",
       "      <td>1</td>\n",
       "      <td>0.00</td>\n",
       "    </tr>\n",
       "    <tr>\n",
       "      <th>UTV</th>\n",
       "      <td>1</td>\n",
       "      <td>0.00</td>\n",
       "    </tr>\n",
       "  </tbody>\n",
       "</table>\n",
       "</div>"
      ],
      "text/plain": [
       "     Number of Patient IDs  Percent of Patient IDs\n",
       "M                   236206                   95.66\n",
       "E                     4692                    1.90\n",
       "A                     3383                    1.37\n",
       "R                     1022                    0.41\n",
       "TT                     499                    0.20\n",
       "TL                     485                    0.20\n",
       "T                      378                    0.15\n",
       "EMS                    194                    0.08\n",
       "HM                      62                    0.03\n",
       "BC                       3                    0.00\n",
       "LA                       2                    0.00\n",
       "UT                       1                    0.00\n",
       "K                        1                    0.00\n",
       "UTV                      1                    0.00"
      ]
     },
     "execution_count": 12,
     "metadata": {},
     "output_type": "execute_result"
    }
   ],
   "source": [
    "def ExtractPrefix(dsRow):\n",
    "    return(re.search('\\A[a-zA-z]+',dsRow['UnitId']).group(0)) #Extract all letters at start of Unit ID\n",
    "dfUnitID=ReduceToOneRowPerID(df,'PatientId','UnitId') #Reduce unique Patient IDs\n",
    "dfUnitPrefix=pd.DataFrame()\n",
    "dfUnitPrefix['Number of Patient IDs']=dfUnitID.apply(ExtractPrefix,axis=1).value_counts() #Count how many Patient IDs with each Unit ID prefix\n",
    "dfUnitPrefix['Percent of Patient IDs']=(dfUnitPrefix['Number of Patient IDs']/dfUnitPrefix['Number of Patient IDs'].sum()*100).round(2)\n",
    "print('Unit ID Prefixes')\n",
    "dfUnitPrefix"
   ]
  },
  {
   "cell_type": "markdown",
   "id": "coordinate-combining",
   "metadata": {},
   "source": [
    "### Dispatch Time"
   ]
  },
  {
   "cell_type": "code",
   "execution_count": 13,
   "id": "sought-ranch",
   "metadata": {},
   "outputs": [
    {
     "data": {
      "image/png": "[encoded data removed]",
      "text/plain": [
       "<Figure size 432x288 with 1 Axes>"
      ]
     },
     "metadata": {
      "needs_background": "light"
     },
     "output_type": "display_data"
    }
   ],
   "source": [
    "Histogram(df,'PatientId','DispatchTime')"
   ]
  },
  {
   "cell_type": "markdown",
   "id": "optimum-assistant",
   "metadata": {},
   "source": [
    "### FRD Personnel Start Date"
   ]
  },
  {
   "cell_type": "code",
   "execution_count": 14,
   "id": "naughty-colonial",
   "metadata": {},
   "outputs": [
    {
     "data": {
      "image/png": "[encoded data removed]",
      "text/plain": [
       "<Figure size 432x288 with 1 Axes>"
      ]
     },
     "metadata": {
      "needs_background": "light"
     },
     "output_type": "display_data"
    }
   ],
   "source": [
    "Histogram(df,'FRDPersonnelID','FRDPersonnelStartDate')"
   ]
  },
  {
   "cell_type": "markdown",
   "id": "laughing-there",
   "metadata": {},
   "source": [
    "## Confirm Assumptions But No Visualizations\n",
    "These columns don't lend well to visualizations, but we still want to confirm our assumptions that there should be a single value per PatientID. A warning message will be thrown from ReduceToOneRowPerID() if the assumption is violated."
   ]
  },
  {
   "cell_type": "markdown",
   "id": "careful-hurricane",
   "metadata": {},
   "source": [
    "### Unit ID"
   ]
  },
  {
   "cell_type": "code",
   "execution_count": 15,
   "id": "waiting-burning",
   "metadata": {},
   "outputs": [],
   "source": [
    "dontPrint=ReduceToOneRowPerID(df,'PatientId','UnitId')"
   ]
  },
  {
   "cell_type": "markdown",
   "id": "nonprofit-writing",
   "metadata": {},
   "source": [
    "### Fire Station"
   ]
  },
  {
   "cell_type": "code",
   "execution_count": 16,
   "id": "established-charleston",
   "metadata": {},
   "outputs": [],
   "source": [
    "dontPrint=ReduceToOneRowPerID(df,'PatientId','FireStation')"
   ]
  },
  {
   "cell_type": "markdown",
   "id": "turkish-coffee",
   "metadata": {},
   "source": [
    "### Patient Outcome\n",
    "Use jdg-descriptive-statistics-top10 to create a Top 10 horizontal bar chart."
   ]
  },
  {
   "cell_type": "code",
   "execution_count": 17,
   "id": "lasting-novel",
   "metadata": {},
   "outputs": [],
   "source": [
    "dontPrint=ReduceToOneRowPerID(df,'PatientId','PatientOutcome')"
   ]
  }
 ],
 "metadata": {
  "kernelspec": {
   "display_name": "Python 3",
   "language": "python",
   "name": "python3"
  },
  "language_info": {
   "codemirror_mode": {
    "name": "ipython",
    "version": 3
   },
   "file_extension": ".py",
   "mimetype": "text/x-python",
   "name": "python",
   "nbconvert_exporter": "python",
   "pygments_lexer": "ipython3",
   "version": "3.8.8"
  }
 },
 "nbformat": 4,
 "nbformat_minor": 5
}
