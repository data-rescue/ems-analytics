{
 "cells": [
  {
   "cell_type": "markdown",
   "metadata": {},
   "source": [
    "# Single Column Top 10 Table & Bar Chart\n",
    "This script can be run on a single column of any dataset. It lists the top 10 values in the column. This is being used instead of a table or pie chart for all the values since displaying multiple 10s of values would not be useful. This script was written for the following columns:\n",
    "1. Procedures(Procedure_Performed_Description)\n",
    "2. Medications(Medication_Given_Description)\n",
    "\n",
    "_Author: Jared Gauntt_"
   ]
  },
  {
   "cell_type": "markdown",
   "metadata": {},
   "source": [
    "## Prepare for Analysis"
   ]
  },
  {
   "cell_type": "markdown",
   "metadata": {},
   "source": [
    "### Set Parameters"
   ]
  },
  {
   "cell_type": "code",
   "execution_count": 1,
   "metadata": {},
   "outputs": [],
   "source": [
    "localFolder='../data/01_raw/' #If run from Git Hub project folder structure, script must be in \"notebooks\" folder\n",
    "fileName='20210214-ems-raw-v03.xlsx'\n",
    "sheetName='Medications'\n",
    "columnOfInterest='Medication_Given_Description'\n",
    "removeDuplicates=False"
   ]
  },
  {
   "cell_type": "markdown",
   "metadata": {},
   "source": [
    "### Import Libraries"
   ]
  },
  {
   "cell_type": "code",
   "execution_count": 2,
   "metadata": {},
   "outputs": [],
   "source": [
    "import pandas as pd\n",
    "import matplotlib.pyplot as plt"
   ]
  },
  {
   "cell_type": "markdown",
   "metadata": {},
   "source": [
    "### Import From Excel Spreadsheet"
   ]
  },
  {
   "cell_type": "code",
   "execution_count": 3,
   "metadata": {},
   "outputs": [
    {
     "name": "stderr",
     "output_type": "stream",
     "text": [
      "<ipython-input-3-5a568809d87d>:2: FutureWarning: Your version of xlrd is 1.2.0. In xlrd >= 2.0, only the xls format is supported. As a result, the openpyxl engine will be used if it is installed and the engine argument is not specified. Install openpyxl instead.\n",
      "  df=pd.read_excel(localFolder+fileName,sheet_name=sheetName)\n"
     ]
    },
    {
     "name": "stdout",
     "output_type": "stream",
     "text": [
      "Original Number of Rows = 63311\n"
     ]
    }
   ],
   "source": [
    "#Import single tab\n",
    "df=pd.read_excel(localFolder+fileName,sheet_name=sheetName)\n",
    "print('Original Number of Rows = '+str(len(df)))"
   ]
  },
  {
   "cell_type": "markdown",
   "metadata": {},
   "source": [
    "### Remove Duplicate Rows & Reduce To Column Of Interest"
   ]
  },
  {
   "cell_type": "code",
   "execution_count": 4,
   "metadata": {},
   "outputs": [
    {
     "name": "stdout",
     "output_type": "stream",
     "text": [
      "Duplicate Rows NOT Removed\n",
      "Number of Rows = 63311\n"
     ]
    }
   ],
   "source": [
    "if removeDuplicates:\n",
    "    #Determine which rows are duplicates (True=duplicate, False=first instance of row)\n",
    "    duplicateRowIdentifier=df.duplicated()\n",
    "\n",
    "    #Reduce to the rows that were not flagged as duplicates\n",
    "    df=df.loc[duplicateRowIdentifier==False,:]\n",
    "    \n",
    "    print('Removing Duplicate Rows')\n",
    "    \n",
    "else:\n",
    "    print('Duplicate Rows NOT Removed')\n",
    "\n",
    "#Reduce to column of interest\n",
    "ds=df[columnOfInterest]\n",
    "\n",
    "#Confirm\n",
    "print('Number of Rows = '+str(len(ds)))"
   ]
  },
  {
   "cell_type": "markdown",
   "metadata": {},
   "source": [
    "## Analysis"
   ]
  },
  {
   "cell_type": "markdown",
   "metadata": {},
   "source": [
    "### Count Number of Instances of Each Unique Value"
   ]
  },
  {
   "cell_type": "code",
   "execution_count": 5,
   "metadata": {},
   "outputs": [],
   "source": [
    "#Create data frame for counting \n",
    "dfCount=pd.DataFrame(ds.unique(),columns=[columnOfInterest])\n",
    "dfCount['Number of Rows']=0\n",
    "\n",
    "#Count the number of rows per each value\n",
    "for index in dfCount.index:\n",
    "    dfCount.loc[index,'Number of Rows']=len(ds[ds==dfCount.loc[index,columnOfInterest]])\n",
    "dfCount.sort_values(by='Number of Rows',ascending=False,inplace=True)\n",
    "dfCount.reset_index(drop=True,inplace=True)\n",
    "\n",
    "#Calculate the percentage of rows per each value\n",
    "dfCount['Percent of Rows']=round(dfCount['Number of Rows']/len(ds)*100,2)"
   ]
  },
  {
   "cell_type": "markdown",
   "metadata": {},
   "source": [
    "### Visualizations"
   ]
  },
  {
   "cell_type": "code",
   "execution_count": 6,
   "metadata": {},
   "outputs": [
    {
     "name": "stderr",
     "output_type": "stream",
     "text": [
      "C:\\Users\\jared\\Anaconda3\\envs\\emspe\\lib\\site-packages\\pandas\\core\\indexing.py:692: SettingWithCopyWarning: \n",
      "A value is trying to be set on a copy of a slice from a DataFrame\n",
      "\n",
      "See the caveats in the documentation: https://pandas.pydata.org/pandas-docs/stable/user_guide/indexing.html#returning-a-view-versus-a-copy\n",
      "  iloc._setitem_with_indexer(indexer, value, self.name)\n"
     ]
    }
   ],
   "source": [
    "#Prepare data for display\n",
    "dfTop10=dfCount.iloc[0:10,:]\n",
    "percentTop10=dfTop10['Percent of Rows'].sum()\n",
    "dfOthers=dfCount.iloc[10:,]\n",
    "dfTop10.loc[len(dfTop10)]=['Others',dfOthers['Number of Rows'].sum(),dfOthers['Percent of Rows'].sum()]"
   ]
  },
  {
   "cell_type": "code",
   "execution_count": 7,
   "metadata": {},
   "outputs": [
    {
     "name": "stdout",
     "output_type": "stream",
     "text": [
      "Percent of Rows With Top 10 Values = 85.33\n"
     ]
    },
    {
     "data": {
      "text/html": [
       "<div>\n",
       "<style scoped>\n",
       "    .dataframe tbody tr th:only-of-type {\n",
       "        vertical-align: middle;\n",
       "    }\n",
       "\n",
       "    .dataframe tbody tr th {\n",
       "        vertical-align: top;\n",
       "    }\n",
       "\n",
       "    .dataframe thead th {\n",
       "        text-align: right;\n",
       "    }\n",
       "</style>\n",
       "<table border=\"1\" class=\"dataframe\">\n",
       "  <thead>\n",
       "    <tr style=\"text-align: right;\">\n",
       "      <th></th>\n",
       "      <th>Medication_Given_Description</th>\n",
       "      <th>Number of Rows</th>\n",
       "      <th>Percent of Rows</th>\n",
       "    </tr>\n",
       "  </thead>\n",
       "  <tbody>\n",
       "    <tr>\n",
       "      <th>0</th>\n",
       "      <td>Oxygen</td>\n",
       "      <td>10755</td>\n",
       "      <td>16.99</td>\n",
       "    </tr>\n",
       "    <tr>\n",
       "      <th>1</th>\n",
       "      <td>Normal saline</td>\n",
       "      <td>7597</td>\n",
       "      <td>12.00</td>\n",
       "    </tr>\n",
       "    <tr>\n",
       "      <th>2</th>\n",
       "      <td>Ondansetron (Zofran)</td>\n",
       "      <td>6908</td>\n",
       "      <td>10.91</td>\n",
       "    </tr>\n",
       "    <tr>\n",
       "      <th>3</th>\n",
       "      <td>Fentanyl Citrate (Sublimaze)</td>\n",
       "      <td>6639</td>\n",
       "      <td>10.49</td>\n",
       "    </tr>\n",
       "    <tr>\n",
       "      <th>4</th>\n",
       "      <td>Epinephrine 0.1 MG/ML (1:10,000)</td>\n",
       "      <td>6223</td>\n",
       "      <td>9.83</td>\n",
       "    </tr>\n",
       "    <tr>\n",
       "      <th>5</th>\n",
       "      <td>Acetylsalicylic Acid (Aspirin, ASA)</td>\n",
       "      <td>4389</td>\n",
       "      <td>6.93</td>\n",
       "    </tr>\n",
       "    <tr>\n",
       "      <th>6</th>\n",
       "      <td>Albuterol (Ventolin)</td>\n",
       "      <td>3866</td>\n",
       "      <td>6.11</td>\n",
       "    </tr>\n",
       "    <tr>\n",
       "      <th>7</th>\n",
       "      <td>Ipratropium Bromide(Atrovent)</td>\n",
       "      <td>2836</td>\n",
       "      <td>4.48</td>\n",
       "    </tr>\n",
       "    <tr>\n",
       "      <th>8</th>\n",
       "      <td>Nitroglycerin</td>\n",
       "      <td>2732</td>\n",
       "      <td>4.32</td>\n",
       "    </tr>\n",
       "    <tr>\n",
       "      <th>9</th>\n",
       "      <td>Naloxone (Narcan)</td>\n",
       "      <td>2072</td>\n",
       "      <td>3.27</td>\n",
       "    </tr>\n",
       "    <tr>\n",
       "      <th>10</th>\n",
       "      <td>Others</td>\n",
       "      <td>9288</td>\n",
       "      <td>14.67</td>\n",
       "    </tr>\n",
       "  </tbody>\n",
       "</table>\n",
       "</div>"
      ],
      "text/plain": [
       "            Medication_Given_Description  Number of Rows  Percent of Rows\n",
       "0                                 Oxygen           10755            16.99\n",
       "1                          Normal saline            7597            12.00\n",
       "2                   Ondansetron (Zofran)            6908            10.91\n",
       "3          Fentanyl Citrate (Sublimaze)             6639            10.49\n",
       "4       Epinephrine 0.1 MG/ML (1:10,000)            6223             9.83\n",
       "5   Acetylsalicylic Acid (Aspirin, ASA)             4389             6.93\n",
       "6                  Albuterol (Ventolin)             3866             6.11\n",
       "7          Ipratropium Bromide(Atrovent)            2836             4.48\n",
       "8                          Nitroglycerin            2732             4.32\n",
       "9                      Naloxone (Narcan)            2072             3.27\n",
       "10                                Others            9288            14.67"
      ]
     },
     "execution_count": 7,
     "metadata": {},
     "output_type": "execute_result"
    }
   ],
   "source": [
    "print('Percent of Rows With Top 10 Values = '+str(percentTop10))\n",
    "dfTop10"
   ]
  },
  {
   "cell_type": "code",
   "execution_count": 8,
   "metadata": {},
   "outputs": [
    {
     "name": "stderr",
     "output_type": "stream",
     "text": [
      "C:\\Users\\jared\\Anaconda3\\envs\\emspe\\lib\\site-packages\\pandas\\core\\frame.py:5579: SettingWithCopyWarning: \n",
      "A value is trying to be set on a copy of a slice from a DataFrame\n",
      "\n",
      "See the caveats in the documentation: https://pandas.pydata.org/pandas-docs/stable/user_guide/indexing.html#returning-a-view-versus-a-copy\n",
      "  return super().sort_index(\n"
     ]
    }
   ],
   "source": [
    "#Sort to display top value on top\n",
    "dfTop10.index=sorted(list(dfTop10.index),reverse=True)\n",
    "dfTop10.sort_index(inplace=True)"
   ]
  },
  {
   "cell_type": "markdown",
   "metadata": {},
   "source": [
    "Bar Chart showing the top 10 most frequent values (with Others as 11th category) in the dataset."
   ]
  },
  {
   "cell_type": "code",
   "execution_count": 9,
   "metadata": {},
   "outputs": [
    {
     "data": {
      "text/plain": [
       "Text(0.5, 1.0, 'Top 10 Medications')"
      ]
     },
     "execution_count": 9,
     "metadata": {},
     "output_type": "execute_result"
    },
    {
     "data": {
      "image/png": "[encoded data removed]",
      "text/plain": [
       "<Figure size 432x288 with 1 Axes>"
      ]
     },
     "metadata": {
      "needs_background": "light"
     },
     "output_type": "display_data"
    }
   ],
   "source": [
    "#Bar chart\n",
    "fig,ax=plt.subplots()\n",
    "ax.barh(y=dfTop10[columnOfInterest],width=dfTop10['Percent of Rows'])\n",
    "ax.set_xlabel('Percent of Rows')\n",
    "ax.set_title('Top 10 '+sheetName)"
   ]
  }
 ],
 "metadata": {
  "kernelspec": {
   "display_name": "Python 3",
   "language": "python",
   "name": "python3"
  },
  "language_info": {
   "codemirror_mode": {
    "name": "ipython",
    "version": 3
   },
   "file_extension": ".py",
   "mimetype": "text/x-python",
   "name": "python",
   "nbconvert_exporter": "python",
   "pygments_lexer": "ipython3",
   "version": "3.8.6"
  }
 },
 "nbformat": 4,
 "nbformat_minor": 4
}
