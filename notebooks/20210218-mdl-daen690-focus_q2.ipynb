{
 "cells": [
  {
   "cell_type": "markdown",
   "metadata": {},
   "source": [
    "## Determine Data Subset for Focus Question 2\n",
    "\n",
    "The purpose of this analysis is to identify the data subset necessary to explore possible analytic solutions for **Focus Question 2**. This analysis does not create the dataset needed, it is simply an attempt to discover what dataset joins and columns will be used for the actual analysis."
   ]
  },
  {
   "cell_type": "markdown",
   "metadata": {},
   "source": [
    "Entity Relationship Diagram (ERD) model displays the inter-relationships between the Patients, Procedures, and Medicines datasets. \n",
    "\n",
    "Datasets Assumptions:\n",
    "1. Datasets provided where build as views and queried from original base tables\n",
    "2. PatientId and FRDPersonnellID columns are unique to each patient and personnel in base tables but are not a primary key in each provided dataset and may appear more than one time in any of the datasets\n",
    "3. PatientId and FRDPersonnellID in the Procedures and Medicines dataset and will be treated as foreign keys to the Patients dataset, even though in reality they would not be if we were using all the base tables in the data warehouse\n",
    "\n",
    "![](img/ERD_Model.jpg)"
   ]
  },
  {
   "cell_type": "markdown",
   "metadata": {},
   "source": [
    "Restating Focus Question 2 for user story:\n",
    "Determine Data Subset regarding exploring what, if any, relationship there is between \n",
    "1. EMS procedures performed by provider with calulated tenure to an individual patient and \n",
    "2. medications given to an individual patient by a provider with calulated tenure.\n",
    "\n",
    "Dataset Observations:\n",
    "- To retrieve EMS procedures performed, will require most or all rows from the Procedures dataset.\n",
    "- To retrieve EMS medications given, will require rows most or all from the Medications dataset.\n",
    "- To complete the view required, the rows from the Procedures and Medications dataset will need to be joined with the Patients dataset.\n",
    "\n",
    "At a minimum, to begin exploring Focus Question 2 the following columns are needed for\n",
    "- EMS procedures performed by provider with calulated tenure to an individual patient\n",
    " - Patients.PatientId\n",
    " - Patients.FRDPersonnelID\n",
    " - Patients.PatientOutcome\n",
    " - Patients.DispatchTime\n",
    " - Patients.FRDPersonnelStartTime\n",
    " - Calulated Value for months and years of tenre of Provider\n",
    " - Procedures.PatientId\n",
    " - Procedures.Procedure_Performed_Code\n",
    " - Procedures.Procedure_Performed_Description\n",
    " - Procedures.FRDPersonnelID\n",
    "\n",
    "- Medications given to an individual patient by a provider with calulated tenure\n",
    " - Patients.PatientId\n",
    " - Patients.FRDPersonnelID\n",
    " - Patients.PatientOutcome\n",
    " - Patients.DispatchTime\n",
    " - Patients.FRDPersonnelStartTime\n",
    " - Calulated Value for months and years of tenre of Provider\n",
    " - Medications.PatientId\n",
    " - Medications.Medication_Given_RXCUI_Code\n",
    " - Medications.Medication_Given_Description\n",
    " - Medications.FRDPersonnelID"
   ]
  },
  {
   "cell_type": "code",
   "execution_count": 1,
   "metadata": {},
   "outputs": [],
   "source": [
    "# Import libraries\n",
    "import pandas as pd\n",
    "import numpy as np"
   ]
  },
  {
   "cell_type": "code",
   "execution_count": 2,
   "metadata": {},
   "outputs": [],
   "source": [
    "# Reads all sheets into dictionaries. Only importing first thousand rows because it's all that's \n",
    "# needed to get example from original provided unsorted datasets.\n",
    "\n",
    "# Note: for provided dataset 20210214-ems-raw-v03.xlsx, on spreadsheet on Medications manually updated\n",
    "# Personnel_Performer_ID_Internal to FRDPersonnelID\n",
    "\n",
    "all_dfs = pd.read_excel(r'./data/20210214-ems-raw-v03.xlsx',\n",
    "                        sheet_name=None, \n",
    "                        nrows=1000,\n",
    "                        na_values=['NA'])"
   ]
  },
  {
   "cell_type": "code",
   "execution_count": 3,
   "metadata": {},
   "outputs": [
    {
     "data": {
      "text/plain": [
       "dict_keys(['Patients', 'Procedures', 'Medications'])"
      ]
     },
     "execution_count": 3,
     "metadata": {},
     "output_type": "execute_result"
    }
   ],
   "source": [
    "# Display dictionary keys created\n",
    "all_dfs.keys()"
   ]
  },
  {
   "cell_type": "code",
   "execution_count": 4,
   "metadata": {},
   "outputs": [
    {
     "data": {
      "text/plain": [
       "(1000, 12)"
      ]
     },
     "execution_count": 4,
     "metadata": {},
     "output_type": "execute_result"
    }
   ],
   "source": [
    "# Display Patients dataset row and column count\n",
    "all_dfs['Patients'].shape"
   ]
  },
  {
   "cell_type": "code",
   "execution_count": 5,
   "metadata": {},
   "outputs": [
    {
     "data": {
      "text/plain": [
       "(1000, 4)"
      ]
     },
     "execution_count": 5,
     "metadata": {},
     "output_type": "execute_result"
    }
   ],
   "source": [
    "# Display Procedures dataset row and column count\n",
    "all_dfs['Procedures'].shape"
   ]
  },
  {
   "cell_type": "code",
   "execution_count": 6,
   "metadata": {},
   "outputs": [
    {
     "data": {
      "text/plain": [
       "(1000, 4)"
      ]
     },
     "execution_count": 6,
     "metadata": {},
     "output_type": "execute_result"
    }
   ],
   "source": [
    "# Display Medications dataset row and column count\n",
    "all_dfs['Medications'].shape"
   ]
  },
  {
   "cell_type": "code",
   "execution_count": 7,
   "metadata": {},
   "outputs": [
    {
     "data": {
      "text/html": [
       "<div>\n",
       "<style scoped>\n",
       "    .dataframe tbody tr th:only-of-type {\n",
       "        vertical-align: middle;\n",
       "    }\n",
       "\n",
       "    .dataframe tbody tr th {\n",
       "        vertical-align: top;\n",
       "    }\n",
       "\n",
       "    .dataframe thead th {\n",
       "        text-align: right;\n",
       "    }\n",
       "</style>\n",
       "<table border=\"1\" class=\"dataframe\">\n",
       "  <thead>\n",
       "    <tr style=\"text-align: right;\">\n",
       "      <th></th>\n",
       "      <th>PatientId</th>\n",
       "      <th>FRDPersonnelID</th>\n",
       "      <th>Shift</th>\n",
       "      <th>UnitId</th>\n",
       "      <th>FireStation</th>\n",
       "      <th>Battalion</th>\n",
       "      <th>PatientOutcome</th>\n",
       "      <th>PatientGender</th>\n",
       "      <th>CrewMemberRoles</th>\n",
       "      <th>DispatchTime</th>\n",
       "      <th>FRDPersonnelGender</th>\n",
       "      <th>FRDPersonnelStartDate</th>\n",
       "    </tr>\n",
       "  </thead>\n",
       "  <tbody>\n",
       "    <tr>\n",
       "      <th>9</th>\n",
       "      <td>479862</td>\n",
       "      <td>F8D4C99E-9E01-E211-B5F5-78E7D18CFD3C</td>\n",
       "      <td>A - Shift</td>\n",
       "      <td>M437</td>\n",
       "      <td>37</td>\n",
       "      <td>405</td>\n",
       "      <td>Treated &amp; Transported</td>\n",
       "      <td>Female</td>\n",
       "      <td>Other Patient Caregiver-At Scene,Other Patient...</td>\n",
       "      <td>2018-01-01 00:44:31</td>\n",
       "      <td>Female</td>\n",
       "      <td>2006-12-11</td>\n",
       "    </tr>\n",
       "    <tr>\n",
       "      <th>10</th>\n",
       "      <td>479862</td>\n",
       "      <td>32D8C99E-9E01-E211-B5F5-78E7D18CFD3C</td>\n",
       "      <td>A - Shift</td>\n",
       "      <td>M437</td>\n",
       "      <td>37</td>\n",
       "      <td>405</td>\n",
       "      <td>Treated &amp; Transported</td>\n",
       "      <td>Female</td>\n",
       "      <td>Other Patient Caregiver-At Scene,Other Patient...</td>\n",
       "      <td>2018-01-01 00:44:31</td>\n",
       "      <td>Male</td>\n",
       "      <td>2006-12-11</td>\n",
       "    </tr>\n",
       "    <tr>\n",
       "      <th>11</th>\n",
       "      <td>479862</td>\n",
       "      <td>1D18E8FC-EE92-E211-A596-78E7D18C3D20</td>\n",
       "      <td>A - Shift</td>\n",
       "      <td>M437</td>\n",
       "      <td>37</td>\n",
       "      <td>405</td>\n",
       "      <td>Treated &amp; Transported</td>\n",
       "      <td>Female</td>\n",
       "      <td>Primary Patient Caregiver-At Scene,Primary Pat...</td>\n",
       "      <td>2018-01-01 00:44:31</td>\n",
       "      <td>Female</td>\n",
       "      <td>2012-09-24</td>\n",
       "    </tr>\n",
       "    <tr>\n",
       "      <th>12</th>\n",
       "      <td>479862</td>\n",
       "      <td>CED8C99E-9E01-E211-B5F5-78E7D18CFD3C</td>\n",
       "      <td>A - Shift</td>\n",
       "      <td>M437</td>\n",
       "      <td>37</td>\n",
       "      <td>405</td>\n",
       "      <td>Treated &amp; Transported</td>\n",
       "      <td>Female</td>\n",
       "      <td>Driver-Response,Driver-Transport</td>\n",
       "      <td>2018-01-01 00:44:31</td>\n",
       "      <td>Male</td>\n",
       "      <td>2008-03-03</td>\n",
       "    </tr>\n",
       "  </tbody>\n",
       "</table>\n",
       "</div>"
      ],
      "text/plain": [
       "    PatientId                        FRDPersonnelID      Shift UnitId  \\\n",
       "9      479862  F8D4C99E-9E01-E211-B5F5-78E7D18CFD3C  A - Shift   M437   \n",
       "10     479862  32D8C99E-9E01-E211-B5F5-78E7D18CFD3C  A - Shift   M437   \n",
       "11     479862  1D18E8FC-EE92-E211-A596-78E7D18C3D20  A - Shift   M437   \n",
       "12     479862  CED8C99E-9E01-E211-B5F5-78E7D18CFD3C  A - Shift   M437   \n",
       "\n",
       "    FireStation  Battalion          PatientOutcome PatientGender  \\\n",
       "9            37        405  Treated & Transported         Female   \n",
       "10           37        405  Treated & Transported         Female   \n",
       "11           37        405  Treated & Transported         Female   \n",
       "12           37        405  Treated & Transported         Female   \n",
       "\n",
       "                                      CrewMemberRoles        DispatchTime  \\\n",
       "9   Other Patient Caregiver-At Scene,Other Patient... 2018-01-01 00:44:31   \n",
       "10  Other Patient Caregiver-At Scene,Other Patient... 2018-01-01 00:44:31   \n",
       "11  Primary Patient Caregiver-At Scene,Primary Pat... 2018-01-01 00:44:31   \n",
       "12                   Driver-Response,Driver-Transport 2018-01-01 00:44:31   \n",
       "\n",
       "   FRDPersonnelGender FRDPersonnelStartDate  \n",
       "9              Female            2006-12-11  \n",
       "10               Male            2006-12-11  \n",
       "11             Female            2012-09-24  \n",
       "12               Male            2008-03-03  "
      ]
     },
     "execution_count": 7,
     "metadata": {},
     "output_type": "execute_result"
    }
   ],
   "source": [
    "# Select single row for example from Patients dataset where PatientId equals 479862 and display\n",
    "df_pat_ex = all_dfs['Patients'].loc[(all_dfs['Patients']['PatientId'] == 479862)]\n",
    "df_pat_ex"
   ]
  },
  {
   "cell_type": "code",
   "execution_count": 8,
   "metadata": {},
   "outputs": [
    {
     "data": {
      "text/html": [
       "<div>\n",
       "<style scoped>\n",
       "    .dataframe tbody tr th:only-of-type {\n",
       "        vertical-align: middle;\n",
       "    }\n",
       "\n",
       "    .dataframe tbody tr th {\n",
       "        vertical-align: top;\n",
       "    }\n",
       "\n",
       "    .dataframe thead th {\n",
       "        text-align: right;\n",
       "    }\n",
       "</style>\n",
       "<table border=\"1\" class=\"dataframe\">\n",
       "  <thead>\n",
       "    <tr style=\"text-align: right;\">\n",
       "      <th></th>\n",
       "      <th>PatientId</th>\n",
       "      <th>Procedure_Performed_Code</th>\n",
       "      <th>Procedure_Performed_Description</th>\n",
       "      <th>FRDPersonnelID</th>\n",
       "    </tr>\n",
       "  </thead>\n",
       "  <tbody>\n",
       "    <tr>\n",
       "      <th>953</th>\n",
       "      <td>479862</td>\n",
       "      <td>392230005</td>\n",
       "      <td>IV Start - Extremity Vein (arm or leg)</td>\n",
       "      <td>32D8C99E-9E01-E211-B5F5-78E7D18CFD3C</td>\n",
       "    </tr>\n",
       "  </tbody>\n",
       "</table>\n",
       "</div>"
      ],
      "text/plain": [
       "     PatientId  Procedure_Performed_Code  \\\n",
       "953     479862                 392230005   \n",
       "\n",
       "            Procedure_Performed_Description  \\\n",
       "953  IV Start - Extremity Vein (arm or leg)   \n",
       "\n",
       "                           FRDPersonnelID  \n",
       "953  32D8C99E-9E01-E211-B5F5-78E7D18CFD3C  "
      ]
     },
     "execution_count": 8,
     "metadata": {},
     "output_type": "execute_result"
    }
   ],
   "source": [
    "# Select single row for example from Procedures dataset where PatientId equals 479862 and display\n",
    "df_proc_ex = all_dfs['Procedures'].loc[(all_dfs['Procedures']['PatientId'] == 479862)]\n",
    "df_proc_ex"
   ]
  },
  {
   "cell_type": "code",
   "execution_count": 9,
   "metadata": {},
   "outputs": [
    {
     "data": {
      "text/html": [
       "<div>\n",
       "<style scoped>\n",
       "    .dataframe tbody tr th:only-of-type {\n",
       "        vertical-align: middle;\n",
       "    }\n",
       "\n",
       "    .dataframe tbody tr th {\n",
       "        vertical-align: top;\n",
       "    }\n",
       "\n",
       "    .dataframe thead th {\n",
       "        text-align: right;\n",
       "    }\n",
       "</style>\n",
       "<table border=\"1\" class=\"dataframe\">\n",
       "  <thead>\n",
       "    <tr style=\"text-align: right;\">\n",
       "      <th></th>\n",
       "      <th>PatientId</th>\n",
       "      <th>Medication_Given_RXCUI_Code</th>\n",
       "      <th>Medication_Given_Description</th>\n",
       "      <th>FRDPersonnelID</th>\n",
       "    </tr>\n",
       "  </thead>\n",
       "  <tbody>\n",
       "    <tr>\n",
       "      <th>419</th>\n",
       "      <td>479862</td>\n",
       "      <td>7806</td>\n",
       "      <td>Oxygen</td>\n",
       "      <td>1D18E8FC-EE92-E211-A596-78E7D18C3D20</td>\n",
       "    </tr>\n",
       "  </tbody>\n",
       "</table>\n",
       "</div>"
      ],
      "text/plain": [
       "     PatientId  Medication_Given_RXCUI_Code Medication_Given_Description  \\\n",
       "419     479862                         7806                       Oxygen   \n",
       "\n",
       "                           FRDPersonnelID  \n",
       "419  1D18E8FC-EE92-E211-A596-78E7D18C3D20  "
      ]
     },
     "execution_count": 9,
     "metadata": {},
     "output_type": "execute_result"
    }
   ],
   "source": [
    "# Select single row for example from Medications dataset where PatientId equals 479862 and display\n",
    "df_med_ex = all_dfs['Medications'].loc[(all_dfs['Medications']['PatientId'] == 479862)]\n",
    "df_med_ex"
   ]
  },
  {
   "cell_type": "code",
   "execution_count": 10,
   "metadata": {},
   "outputs": [
    {
     "data": {
      "text/html": [
       "<div>\n",
       "<style scoped>\n",
       "    .dataframe tbody tr th:only-of-type {\n",
       "        vertical-align: middle;\n",
       "    }\n",
       "\n",
       "    .dataframe tbody tr th {\n",
       "        vertical-align: top;\n",
       "    }\n",
       "\n",
       "    .dataframe thead th {\n",
       "        text-align: right;\n",
       "    }\n",
       "</style>\n",
       "<table border=\"1\" class=\"dataframe\">\n",
       "  <thead>\n",
       "    <tr style=\"text-align: right;\">\n",
       "      <th></th>\n",
       "      <th>PatientId</th>\n",
       "      <th>FRDPersonnelID</th>\n",
       "      <th>Shift</th>\n",
       "      <th>UnitId</th>\n",
       "      <th>FireStation</th>\n",
       "      <th>Battalion</th>\n",
       "      <th>PatientOutcome</th>\n",
       "      <th>PatientGender</th>\n",
       "      <th>CrewMemberRoles</th>\n",
       "      <th>DispatchTime</th>\n",
       "      <th>FRDPersonnelGender</th>\n",
       "      <th>FRDPersonnelStartDate</th>\n",
       "      <th>Procedure_Performed_Code</th>\n",
       "      <th>Procedure_Performed_Description</th>\n",
       "    </tr>\n",
       "  </thead>\n",
       "  <tbody>\n",
       "    <tr>\n",
       "      <th>0</th>\n",
       "      <td>479862</td>\n",
       "      <td>32D8C99E-9E01-E211-B5F5-78E7D18CFD3C</td>\n",
       "      <td>A - Shift</td>\n",
       "      <td>M437</td>\n",
       "      <td>37</td>\n",
       "      <td>405</td>\n",
       "      <td>Treated &amp; Transported</td>\n",
       "      <td>Female</td>\n",
       "      <td>Other Patient Caregiver-At Scene,Other Patient...</td>\n",
       "      <td>2018-01-01 00:44:31</td>\n",
       "      <td>Male</td>\n",
       "      <td>2006-12-11</td>\n",
       "      <td>392230005</td>\n",
       "      <td>IV Start - Extremity Vein (arm or leg)</td>\n",
       "    </tr>\n",
       "  </tbody>\n",
       "</table>\n",
       "</div>"
      ],
      "text/plain": [
       "   PatientId                        FRDPersonnelID      Shift UnitId  \\\n",
       "0     479862  32D8C99E-9E01-E211-B5F5-78E7D18CFD3C  A - Shift   M437   \n",
       "\n",
       "   FireStation  Battalion          PatientOutcome PatientGender  \\\n",
       "0           37        405  Treated & Transported         Female   \n",
       "\n",
       "                                     CrewMemberRoles        DispatchTime  \\\n",
       "0  Other Patient Caregiver-At Scene,Other Patient... 2018-01-01 00:44:31   \n",
       "\n",
       "  FRDPersonnelGender FRDPersonnelStartDate  Procedure_Performed_Code  \\\n",
       "0               Male            2006-12-11                 392230005   \n",
       "\n",
       "          Procedure_Performed_Description  \n",
       "0  IV Start - Extremity Vein (arm or leg)  "
      ]
     },
     "execution_count": 10,
     "metadata": {},
     "output_type": "execute_result"
    }
   ],
   "source": [
    "# Inner join on Patients and Procedures example and display results\n",
    "df_proc_ex = df_pat_ex.merge(df_proc_ex, \n",
    "                        on=('PatientId','FRDPersonnelID'), \n",
    "                        how='inner')\n",
    "df_proc_ex"
   ]
  },
  {
   "cell_type": "code",
   "execution_count": 11,
   "metadata": {},
   "outputs": [
    {
     "data": {
      "text/html": [
       "<div>\n",
       "<style scoped>\n",
       "    .dataframe tbody tr th:only-of-type {\n",
       "        vertical-align: middle;\n",
       "    }\n",
       "\n",
       "    .dataframe tbody tr th {\n",
       "        vertical-align: top;\n",
       "    }\n",
       "\n",
       "    .dataframe thead th {\n",
       "        text-align: right;\n",
       "    }\n",
       "</style>\n",
       "<table border=\"1\" class=\"dataframe\">\n",
       "  <thead>\n",
       "    <tr style=\"text-align: right;\">\n",
       "      <th></th>\n",
       "      <th>PatientId</th>\n",
       "      <th>FRDPersonnelID</th>\n",
       "      <th>Shift</th>\n",
       "      <th>UnitId</th>\n",
       "      <th>FireStation</th>\n",
       "      <th>Battalion</th>\n",
       "      <th>PatientOutcome</th>\n",
       "      <th>PatientGender</th>\n",
       "      <th>CrewMemberRoles</th>\n",
       "      <th>DispatchTime</th>\n",
       "      <th>FRDPersonnelGender</th>\n",
       "      <th>FRDPersonnelStartDate</th>\n",
       "      <th>Medication_Given_RXCUI_Code</th>\n",
       "      <th>Medication_Given_Description</th>\n",
       "    </tr>\n",
       "  </thead>\n",
       "  <tbody>\n",
       "    <tr>\n",
       "      <th>0</th>\n",
       "      <td>479862</td>\n",
       "      <td>1D18E8FC-EE92-E211-A596-78E7D18C3D20</td>\n",
       "      <td>A - Shift</td>\n",
       "      <td>M437</td>\n",
       "      <td>37</td>\n",
       "      <td>405</td>\n",
       "      <td>Treated &amp; Transported</td>\n",
       "      <td>Female</td>\n",
       "      <td>Primary Patient Caregiver-At Scene,Primary Pat...</td>\n",
       "      <td>2018-01-01 00:44:31</td>\n",
       "      <td>Female</td>\n",
       "      <td>2012-09-24</td>\n",
       "      <td>7806</td>\n",
       "      <td>Oxygen</td>\n",
       "    </tr>\n",
       "  </tbody>\n",
       "</table>\n",
       "</div>"
      ],
      "text/plain": [
       "   PatientId                        FRDPersonnelID      Shift UnitId  \\\n",
       "0     479862  1D18E8FC-EE92-E211-A596-78E7D18C3D20  A - Shift   M437   \n",
       "\n",
       "   FireStation  Battalion          PatientOutcome PatientGender  \\\n",
       "0           37        405  Treated & Transported         Female   \n",
       "\n",
       "                                     CrewMemberRoles        DispatchTime  \\\n",
       "0  Primary Patient Caregiver-At Scene,Primary Pat... 2018-01-01 00:44:31   \n",
       "\n",
       "  FRDPersonnelGender FRDPersonnelStartDate  Medication_Given_RXCUI_Code  \\\n",
       "0             Female            2012-09-24                         7806   \n",
       "\n",
       "  Medication_Given_Description  \n",
       "0                       Oxygen  "
      ]
     },
     "execution_count": 11,
     "metadata": {},
     "output_type": "execute_result"
    }
   ],
   "source": [
    "# Inner join on Patients and Medications example and display results\n",
    "df_med_ex = df_pat_ex.merge(df_med_ex, \n",
    "                        on=('PatientId','FRDPersonnelID'), \n",
    "                        how='inner')\n",
    "df_med_ex"
   ]
  },
  {
   "cell_type": "markdown",
   "metadata": {},
   "source": [
    "**Conclusion:** For best results, recommend creating at least two derivative datasets. One merging Patients with Procedures and a second merging Patients with Medications to access gender of both patients and providers. Could pare-down size of datasets by removing a few unnecessary columns, but there are not that many columns in any of the datasets."
   ]
  }
 ],
 "metadata": {
  "kernelspec": {
   "display_name": "Python 3",
   "language": "python",
   "name": "python3"
  },
  "language_info": {
   "codemirror_mode": {
    "name": "ipython",
    "version": 3
   },
   "file_extension": ".py",
   "mimetype": "text/x-python",
   "name": "python",
   "nbconvert_exporter": "python",
   "pygments_lexer": "ipython3",
   "version": "3.7.9"
  }
 },
 "nbformat": 4,
 "nbformat_minor": 4
}
