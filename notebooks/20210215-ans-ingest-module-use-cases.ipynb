{
 "cells": [
  {
   "cell_type": "markdown",
   "metadata": {},
   "source": [
    "# Ingest Module Use Cases\n",
    "\n",
    "The purpose of this notebook is just to a few examples on how to use the ingest module I have created to interact with S3 bucket. \n",
    "\n",
    "For the moment, the S3 bucket is located in my personal account. However, it is easy to set up in any other AWS account. In the near future I'll research the best approach to interact with SageMaker and observe if it is better for us to move the S3 bucket to the CAPSTONE CLASS AWS account.\n",
    "\n",
    "### S3 Bucket Object List"
   ]
  },
  {
   "cell_type": "code",
   "execution_count": 3,
   "metadata": {},
   "outputs": [
    {
     "data": {
      "text/plain": [
       "['01_raw/20210203-ems-raw-v01.xlsx',\n",
       " '01_raw/20210204-ems-raw-v02.xlsx',\n",
       " '01_raw/20210213-admin-01-raw-test.txt',\n",
       " '01_raw/20210214-ems-raw-v03.xlsx',\n",
       " '01_raw/20210214_v3_patients.parquet',\n",
       " '01_raw/20210215-admin-01-raw-test-upload.txt',\n",
       " '01_raw/20210225-ems-raw-v04.xlsx']"
      ]
     },
     "execution_count": 3,
     "metadata": {},
     "output_type": "execute_result"
    }
   ],
   "source": [
    "from src.d01_data.ingest import ProjectIngest\n",
    "\n",
    "ingest = ProjectIngest('01_raw', '20210225-ems-raw-v04.xlsx')\n",
    "\n",
    "ingest.remote_object_list()"
   ]
  },
  {
   "cell_type": "code",
   "execution_count": 4,
   "metadata": {},
   "outputs": [
    {
     "data": {
      "text/plain": [
       "['01_raw/20210203-ems-raw-v01.xlsx',\n",
       " '01_raw/20210204-ems-raw-v02.xlsx',\n",
       " '01_raw/20210213-admin-01-raw-test.txt',\n",
       " '01_raw/20210214-ems-raw-v03.xlsx',\n",
       " '01_raw/20210214_v3_patients.parquet',\n",
       " '01_raw/20210215-admin-01-raw-test-upload.txt',\n",
       " '01_raw/20210225-ems-raw-v04.xlsx']"
      ]
     },
     "execution_count": 4,
     "metadata": {},
     "output_type": "execute_result"
    }
   ],
   "source": [
    "from src.d01_data.ingest import ProjectIngest\n",
    "\n",
    "ProjectIngest('01_raw', '20210225-ems-raw-v04.xlsx').remote_object_list()"
   ]
  },
  {
   "cell_type": "markdown",
   "metadata": {},
   "source": [
    "In the previous two block sections we can observe two forms to call and use the remote_object_list() method of the ingest class.\n",
    "\n",
    "Key factor to remember is that the class needs two very important inputs to work:\n",
    "* The name of the folder (e.g., 01_raw)\n",
    "* The name of the file ('20210213-ems-raw.xlsx\n",
    "\n",
    "The other observation is that the remote_object_list() only uses the folder name to generate a list of documents that are inside the S3 logical folder.\n",
    "\n",
    "### Remote Upload"
   ]
  },
  {
   "cell_type": "code",
   "execution_count": 5,
   "metadata": {},
   "outputs": [
    {
     "name": "stdout",
     "output_type": "stream",
     "text": [
      "The 20210225-ems-raw-v04.xlsx file already exist in the S3 bucket under the key 01_raw/20210225-ems-raw-v04.xlsx\n"
     ]
    }
   ],
   "source": [
    "from src.d01_data.ingest import ProjectIngest\n",
    "\n",
    "ingest = ProjectIngest('01_raw','20210225-ems-raw-v04.xlsx')\n",
    "\n",
    "ingest.remote_upload()    "
   ]
  },
  {
   "cell_type": "markdown",
   "metadata": {},
   "source": [
    "By looking at the response message from the previous code, we can observe that the S3 bucket already have the file I'm trying to upload. In this particular case the file exist and as such the ingest module will not send the file to the S3 bucket.\n",
    "\n",
    "### Does file exist on S3?"
   ]
  },
  {
   "cell_type": "code",
   "execution_count": 6,
   "metadata": {},
   "outputs": [
    {
     "data": {
      "text/plain": [
       "True"
      ]
     },
     "execution_count": 6,
     "metadata": {},
     "output_type": "execute_result"
    }
   ],
   "source": [
    "from src.d01_data.ingest import ProjectIngest\n",
    "\n",
    "ProjectIngest('01_raw','20210225-ems-raw-v04.xlsx').s3_key_exist()"
   ]
  },
  {
   "cell_type": "markdown",
   "metadata": {},
   "source": [
    "In the previous block we can observe that the ingest module allows you to validate the existance of a file within a logical folder. If the file exists the repsonse will be True and False if it doesn't exist.\n",
    "\n",
    "### Local Download"
   ]
  },
  {
   "cell_type": "code",
   "execution_count": 5,
   "metadata": {},
   "outputs": [],
   "source": [
    "from src.d01_data.ingest import ProjectIngest\n",
    "\n",
    "ingest = ProjectIngest('01_raw', '20210225-ems-raw-v04.xlsx')\n",
    "\n",
    "ingest.local_download_gen()"
   ]
  },
  {
   "cell_type": "markdown",
   "metadata": {},
   "source": [
    "By looking at the response message from the previous code block, we can observe that the file we're trying to download already exist in our local folders. For this reason, the ingest module doesn't re-download the file that already exist in our folders.\n",
    "\n",
    "### Error Handling"
   ]
  },
  {
   "cell_type": "code",
   "execution_count": 7,
   "metadata": {},
   "outputs": [
    {
     "ename": "TypeError",
     "evalue": "Instance Creation: Please validate that '20210225-ems-raw-v04.txt' have a valid file extension",
     "output_type": "error",
     "traceback": [
      "\u001b[1;31m---------------------------------------------------------------------------\u001b[0m",
      "\u001b[1;31mTypeError\u001b[0m                                 Traceback (most recent call last)",
      "\u001b[1;32m<ipython-input-7-6d00556287af>\u001b[0m in \u001b[0;36m<module>\u001b[1;34m\u001b[0m\n\u001b[0;32m      1\u001b[0m \u001b[1;32mfrom\u001b[0m \u001b[0msrc\u001b[0m\u001b[1;33m.\u001b[0m\u001b[0md01_data\u001b[0m\u001b[1;33m.\u001b[0m\u001b[0mingest\u001b[0m \u001b[1;32mimport\u001b[0m \u001b[0mProjectIngest\u001b[0m\u001b[1;33m\u001b[0m\u001b[1;33m\u001b[0m\u001b[0m\n\u001b[0;32m      2\u001b[0m \u001b[1;33m\u001b[0m\u001b[0m\n\u001b[1;32m----> 3\u001b[1;33m \u001b[0mingest\u001b[0m \u001b[1;33m=\u001b[0m \u001b[0mProjectIngest\u001b[0m\u001b[1;33m(\u001b[0m\u001b[1;34m'01_raw'\u001b[0m\u001b[1;33m,\u001b[0m \u001b[1;34m'20210225-ems-raw-v04.txt'\u001b[0m\u001b[1;33m)\u001b[0m\u001b[1;33m\u001b[0m\u001b[1;33m\u001b[0m\u001b[0m\n\u001b[0m\u001b[0;32m      4\u001b[0m \u001b[1;33m\u001b[0m\u001b[0m\n\u001b[0;32m      5\u001b[0m \u001b[0mingest\u001b[0m\u001b[1;33m.\u001b[0m\u001b[0mlocal_download\u001b[0m\u001b[1;33m(\u001b[0m\u001b[1;33m)\u001b[0m\u001b[1;33m\u001b[0m\u001b[1;33m\u001b[0m\u001b[0m\n",
      "\u001b[1;32mC:\\github_anup\\ems-analytics\\src\\d01_data\\ingest.py\u001b[0m in \u001b[0;36m__init__\u001b[1;34m(self, sub_folder, file)\u001b[0m\n\u001b[0;32m    109\u001b[0m \u001b[1;33m\u001b[0m\u001b[0m\n\u001b[0;32m    110\u001b[0m         \u001b[1;32mif\u001b[0m \u001b[0mPath\u001b[0m\u001b[1;33m(\u001b[0m\u001b[0mfile\u001b[0m\u001b[1;33m)\u001b[0m\u001b[1;33m.\u001b[0m\u001b[0msuffix\u001b[0m \u001b[1;32mnot\u001b[0m \u001b[1;32min\u001b[0m \u001b[0m_valid_file_extension\u001b[0m\u001b[1;33m:\u001b[0m\u001b[1;33m\u001b[0m\u001b[1;33m\u001b[0m\u001b[0m\n\u001b[1;32m--> 111\u001b[1;33m             \u001b[1;32mraise\u001b[0m \u001b[0mTypeError\u001b[0m\u001b[1;33m(\u001b[0m\u001b[1;34m\"Instance Creation: Please validate that '{}' have a valid file extension\"\u001b[0m\u001b[1;33m.\u001b[0m\u001b[0mformat\u001b[0m\u001b[1;33m(\u001b[0m\u001b[0mfile\u001b[0m\u001b[1;33m)\u001b[0m\u001b[1;33m)\u001b[0m\u001b[1;33m\u001b[0m\u001b[1;33m\u001b[0m\u001b[0m\n\u001b[0m\u001b[0;32m    112\u001b[0m \u001b[1;33m\u001b[0m\u001b[0m\n\u001b[0;32m    113\u001b[0m         \u001b[1;31m# Assignment of validated input parameters to the instance object\u001b[0m\u001b[1;33m\u001b[0m\u001b[1;33m\u001b[0m\u001b[1;33m\u001b[0m\u001b[0m\n",
      "\u001b[1;31mTypeError\u001b[0m: Instance Creation: Please validate that '20210225-ems-raw-v04.txt' have a valid file extension"
     ]
    }
   ],
   "source": [
    "from src.d01_data.ingest import ProjectIngest\n",
    "\n",
    "ingest = ProjectIngest('01_raw', '20210225-ems-raw-v04.txt')\n",
    "\n",
    "ingest.local_download()"
   ]
  },
  {
   "cell_type": "markdown",
   "metadata": {},
   "source": [
    "At some point I'm expecting errors to occur and as such I try to capture then as much as possible. In this particular case the previous code block is telling us that an error occur.\n",
    "\n",
    "In particular, if you look at the last line of the error information. You will notice that the problem is that you are trying to make an instance of the ProjectIngest class with a non supported data file.\n",
    "\n",
    "For the moment the class is only handling *.csv and *.xlsx\n",
    "\n",
    "### Other Considerations\n",
    "Please, keep in mind that class will not send you a message if the download and upload methods were successful. \n",
    "\n",
    "If you want to validate if the file was downloaded, please look inside the folder you dowloaded the file.\n",
    "\n",
    "If you want to validate if the file was uploaded, please use the s3_key_exist() method. If it returns as True, then the file was successfuly uploaded to the S3 bucket."
   ]
  }
 ],
 "metadata": {
  "kernelspec": {
   "display_name": "Python 3",
   "language": "python",
   "name": "python3"
  },
  "language_info": {
   "codemirror_mode": {
    "name": "ipython",
    "version": 3
   },
   "file_extension": ".py",
   "mimetype": "text/x-python",
   "name": "python",
   "nbconvert_exporter": "python",
   "pygments_lexer": "ipython3",
   "version": "3.8.6"
  }
 },
 "nbformat": 4,
 "nbformat_minor": 4
}
