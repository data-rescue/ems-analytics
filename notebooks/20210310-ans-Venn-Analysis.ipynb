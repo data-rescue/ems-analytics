{
 "cells": [
  {
   "cell_type": "code",
   "execution_count": 1,
   "id": "smart-direction",
   "metadata": {},
   "outputs": [],
   "source": [
    "# Notebok Pre-Set Script: \n",
    "# This section will contain all the necessary libraries and \n",
    "# initial data frames for the analysis.\n",
    "import numpy as np\n",
    "\n",
    "import pandas as pd\n",
    "from pandas import Series, DataFrame\n",
    "\n",
    "import pyarrow as pa\n",
    "import pyarrow.parquet as pq\n",
    "\n",
    "from src.d06_reporting.VennAnalysisReport import venn_analysis_table\n",
    "from src.d06_reporting.VennAnalysisReport import venn_analysis_diagram\n",
    "from src.d06_reporting.VennAnalysisReport import venn_analysis_short_test\n",
    "                                                 \n",
    "%matplotlib inline\n",
    "\n",
    "df_pat = pq.read_table('../data/01_raw/20210225-ems-v04-patients-raw.parquet')\\\n",
    "           .to_pandas(categories=['FireStation','Battalion'])\n",
    "df_pro = pq.read_table('../data/01_raw/20210225-ems-v04-procedures-raw.parquet')\\\n",
    "           .to_pandas(categories=['Procedure_Performed_Code'])\n",
    "df_med = pq.read_table('../data/01_raw/20210225-ems-v04-medications-raw.parquet')\\\n",
    "           .to_pandas(categories=['Medication_Given_RXCUI_Code'])"
   ]
  },
  {
   "cell_type": "markdown",
   "id": "tropical-elizabeth",
   "metadata": {},
   "source": [
    "# Venn Analysis\n",
    "The purpose of this section is to better understand where does the the PatientId should exist from the subject matter expert point of view.\n",
    "\n",
    "The original assumption is that all patients and providers should exist in the 3 datasets. However, we are seeing that the presents of certain patients and providers are present in the procedures and medications datasets but not in the patients dataset.\n",
    "\n",
    "To better represent this findings we will provide a venn diagram and the observations made for each ID.\n",
    "\n",
    "### Patient IDs"
   ]
  },
  {
   "cell_type": "code",
   "execution_count": 2,
   "id": "capital-cabinet",
   "metadata": {
    "scrolled": true
   },
   "outputs": [
    {
     "data": {
      "image/png": "[encoded data removed]",
      "text/plain": [
       "<Figure size 432x288 with 1 Axes>"
      ]
     },
     "metadata": {},
     "output_type": "display_data"
    }
   ],
   "source": [
    "venn_analysis_diagram('PatientId',\n",
    "                    df_pat['PatientId'],\n",
    "                    df_pro['PatientId'],\n",
    "                    df_med['PatientId'])"
   ]
  },
  {
   "cell_type": "code",
   "execution_count": 3,
   "id": "unable-leone",
   "metadata": {},
   "outputs": [
    {
     "data": {
      "text/html": [
       "<div>\n",
       "<style scoped>\n",
       "    .dataframe tbody tr th:only-of-type {\n",
       "        vertical-align: middle;\n",
       "    }\n",
       "\n",
       "    .dataframe tbody tr th {\n",
       "        vertical-align: top;\n",
       "    }\n",
       "\n",
       "    .dataframe thead th {\n",
       "        text-align: right;\n",
       "    }\n",
       "</style>\n",
       "<table border=\"1\" class=\"dataframe\">\n",
       "  <thead>\n",
       "    <tr style=\"text-align: right;\">\n",
       "      <th></th>\n",
       "      <th>Count</th>\n",
       "    </tr>\n",
       "    <tr>\n",
       "      <th>Observations</th>\n",
       "      <th></th>\n",
       "    </tr>\n",
       "  </thead>\n",
       "  <tbody>\n",
       "    <tr>\n",
       "      <th>Patients that only exist in Patients</th>\n",
       "      <td>149211</td>\n",
       "    </tr>\n",
       "    <tr>\n",
       "      <th>Patients that only exist in the Procedures but not in Patients (?)</th>\n",
       "      <td>29</td>\n",
       "    </tr>\n",
       "    <tr>\n",
       "      <th>Patients that exist in Patients and Procedures</th>\n",
       "      <td>59328</td>\n",
       "    </tr>\n",
       "    <tr>\n",
       "      <th>Patients that only exists in the Medications but not in Patients (?)</th>\n",
       "      <td>3</td>\n",
       "    </tr>\n",
       "    <tr>\n",
       "      <th>Patients that exists in Patients and Medications</th>\n",
       "      <td>5572</td>\n",
       "    </tr>\n",
       "    <tr>\n",
       "      <th>Patients that exists in Procedures and Medications only but not in Patients (?)</th>\n",
       "      <td>12</td>\n",
       "    </tr>\n",
       "    <tr>\n",
       "      <th>Patients that exists in all datasets</th>\n",
       "      <td>32818</td>\n",
       "    </tr>\n",
       "  </tbody>\n",
       "</table>\n",
       "</div>"
      ],
      "text/plain": [
       "                                                     Count\n",
       "Observations                                              \n",
       "Patients that only exist in Patients                149211\n",
       "Patients that only exist in the Procedures but ...      29\n",
       "Patients that exist in Patients and Procedures       59328\n",
       "Patients that only exists in the Medications bu...       3\n",
       "Patients that exists in Patients and Medications      5572\n",
       "Patients that exists in Procedures and Medicati...      12\n",
       "Patients that exists in all datasets                 32818"
      ]
     },
     "execution_count": 3,
     "metadata": {},
     "output_type": "execute_result"
    }
   ],
   "source": [
    "venn_analysis_table('PatientId',\n",
    "                    df_pat['PatientId'],\n",
    "                    df_pro['PatientId'],\n",
    "                    df_med['PatientId'])"
   ]
  },
  {
   "cell_type": "markdown",
   "id": "gentle-grass",
   "metadata": {},
   "source": [
    "#### Set of Patient IDs on Providers and Medications Datasets but NOT in Patients"
   ]
  },
  {
   "cell_type": "code",
   "execution_count": 4,
   "id": "supported-belize",
   "metadata": {},
   "outputs": [
    {
     "name": "stdout",
     "output_type": "stream",
     "text": [
      "Total Number of PatientIds not in Patients Dataset is 44\n"
     ]
    },
    {
     "data": {
      "text/html": [
       "<div>\n",
       "<style scoped>\n",
       "    .dataframe tbody tr th:only-of-type {\n",
       "        vertical-align: middle;\n",
       "    }\n",
       "\n",
       "    .dataframe tbody tr th {\n",
       "        vertical-align: top;\n",
       "    }\n",
       "\n",
       "    .dataframe thead th {\n",
       "        text-align: right;\n",
       "    }\n",
       "</style>\n",
       "<table border=\"1\" class=\"dataframe\">\n",
       "  <thead>\n",
       "    <tr style=\"text-align: right;\">\n",
       "      <th></th>\n",
       "      <th>Missing IDs</th>\n",
       "    </tr>\n",
       "  </thead>\n",
       "  <tbody>\n",
       "    <tr>\n",
       "      <th>0</th>\n",
       "      <td>1465241</td>\n",
       "    </tr>\n",
       "    <tr>\n",
       "      <th>1</th>\n",
       "      <td>1465386</td>\n",
       "    </tr>\n",
       "    <tr>\n",
       "      <th>2</th>\n",
       "      <td>1465443</td>\n",
       "    </tr>\n",
       "    <tr>\n",
       "      <th>3</th>\n",
       "      <td>1465415</td>\n",
       "    </tr>\n",
       "    <tr>\n",
       "      <th>4</th>\n",
       "      <td>1465256</td>\n",
       "    </tr>\n",
       "  </tbody>\n",
       "</table>\n",
       "</div>"
      ],
      "text/plain": [
       "  Missing IDs\n",
       "0     1465241\n",
       "1     1465386\n",
       "2     1465443\n",
       "3     1465415\n",
       "4     1465256"
      ]
     },
     "execution_count": 4,
     "metadata": {},
     "output_type": "execute_result"
    }
   ],
   "source": [
    "pat_miss_id = venn_analysis_table('PatientId',\n",
    "                                  df_pat['PatientId'],\n",
    "                                  df_pro['PatientId'],\n",
    "                                  df_med['PatientId'],False)\n",
    "\n",
    "print('Total Number of PatientIds not in Patients Dataset is {}'\\\n",
    "     .format(pat_miss_id.shape[0]))\n",
    "\n",
    "pat_miss_id.head()"
   ]
  },
  {
   "cell_type": "markdown",
   "id": "standing-softball",
   "metadata": {},
   "source": [
    "### Patient IDs Quick Test\n",
    "**Test Description** <br />\n",
    "The script that follows will search for each **PatientId** that was shown in the Venn Diagram to not exist in the Patients table and generate a report that will help us validate the findings shown by the Venn analysis.\n",
    "\n",
    "**Pass Fail Criteria**<br />\n",
    "The shape of the patients data frame will be evaluated after applying the **logical indexing** that results from searching the PatientId within the Patients Raw dataset. If resulting shape is equal to (0,12) the test for that individual PatientId will be marked as 'PASS' as it implies the **PatientId** was not found on the DataFrame."
   ]
  },
  {
   "cell_type": "code",
   "execution_count": 5,
   "id": "minor-howard",
   "metadata": {},
   "outputs": [
    {
     "name": "stdout",
     "output_type": "stream",
     "text": [
      "The total number patient IDs with failed status is 0\n"
     ]
    },
    {
     "data": {
      "text/html": [
       "<div>\n",
       "<style scoped>\n",
       "    .dataframe tbody tr th:only-of-type {\n",
       "        vertical-align: middle;\n",
       "    }\n",
       "\n",
       "    .dataframe tbody tr th {\n",
       "        vertical-align: top;\n",
       "    }\n",
       "\n",
       "    .dataframe thead th {\n",
       "        text-align: right;\n",
       "    }\n",
       "</style>\n",
       "<table border=\"1\" class=\"dataframe\">\n",
       "  <thead>\n",
       "    <tr style=\"text-align: right;\">\n",
       "      <th></th>\n",
       "      <th>PatientId</th>\n",
       "      <th>Raw Shape</th>\n",
       "      <th>Logical Index Shape</th>\n",
       "      <th>Pass/Fail</th>\n",
       "    </tr>\n",
       "  </thead>\n",
       "  <tbody>\n",
       "    <tr>\n",
       "      <th>0</th>\n",
       "      <td>1465241</td>\n",
       "      <td>(543774, 12)</td>\n",
       "      <td>(0, 12)</td>\n",
       "      <td>PASS</td>\n",
       "    </tr>\n",
       "    <tr>\n",
       "      <th>1</th>\n",
       "      <td>1465386</td>\n",
       "      <td>(543774, 12)</td>\n",
       "      <td>(0, 12)</td>\n",
       "      <td>PASS</td>\n",
       "    </tr>\n",
       "    <tr>\n",
       "      <th>2</th>\n",
       "      <td>1465443</td>\n",
       "      <td>(543774, 12)</td>\n",
       "      <td>(0, 12)</td>\n",
       "      <td>PASS</td>\n",
       "    </tr>\n",
       "    <tr>\n",
       "      <th>3</th>\n",
       "      <td>1465415</td>\n",
       "      <td>(543774, 12)</td>\n",
       "      <td>(0, 12)</td>\n",
       "      <td>PASS</td>\n",
       "    </tr>\n",
       "    <tr>\n",
       "      <th>4</th>\n",
       "      <td>1465256</td>\n",
       "      <td>(543774, 12)</td>\n",
       "      <td>(0, 12)</td>\n",
       "      <td>PASS</td>\n",
       "    </tr>\n",
       "  </tbody>\n",
       "</table>\n",
       "</div>"
      ],
      "text/plain": [
       "  PatientId     Raw Shape Logical Index Shape Pass/Fail\n",
       "0   1465241  (543774, 12)             (0, 12)      PASS\n",
       "1   1465386  (543774, 12)             (0, 12)      PASS\n",
       "2   1465443  (543774, 12)             (0, 12)      PASS\n",
       "3   1465415  (543774, 12)             (0, 12)      PASS\n",
       "4   1465256  (543774, 12)             (0, 12)      PASS"
      ]
     },
     "execution_count": 5,
     "metadata": {},
     "output_type": "execute_result"
    }
   ],
   "source": [
    "venn_analysis_short_test('PatientId', df_pat, pat_miss_id).head()"
   ]
  },
  {
   "cell_type": "markdown",
   "id": "closed-passport",
   "metadata": {},
   "source": [
    "### Provider IDs"
   ]
  },
  {
   "cell_type": "code",
   "execution_count": 6,
   "id": "exposed-henry",
   "metadata": {},
   "outputs": [
    {
     "data": {
      "image/png": "[encoded data removed]",
      "text/plain": [
       "<Figure size 432x288 with 1 Axes>"
      ]
     },
     "metadata": {},
     "output_type": "display_data"
    }
   ],
   "source": [
    "venn_analysis_diagram('FRDPersonnelID',\n",
    "                    df_pat['FRDPersonnelID'],\n",
    "                    df_pro['FRDPersonnelID'],\n",
    "                    df_med['FRDPersonnelID'])"
   ]
  },
  {
   "cell_type": "code",
   "execution_count": 7,
   "id": "normal-studio",
   "metadata": {},
   "outputs": [
    {
     "data": {
      "text/html": [
       "<div>\n",
       "<style scoped>\n",
       "    .dataframe tbody tr th:only-of-type {\n",
       "        vertical-align: middle;\n",
       "    }\n",
       "\n",
       "    .dataframe tbody tr th {\n",
       "        vertical-align: top;\n",
       "    }\n",
       "\n",
       "    .dataframe thead th {\n",
       "        text-align: right;\n",
       "    }\n",
       "</style>\n",
       "<table border=\"1\" class=\"dataframe\">\n",
       "  <thead>\n",
       "    <tr style=\"text-align: right;\">\n",
       "      <th></th>\n",
       "      <th>Count</th>\n",
       "    </tr>\n",
       "    <tr>\n",
       "      <th>Observations</th>\n",
       "      <th></th>\n",
       "    </tr>\n",
       "  </thead>\n",
       "  <tbody>\n",
       "    <tr>\n",
       "      <th>Providers that only exist in Patients</th>\n",
       "      <td>553</td>\n",
       "    </tr>\n",
       "    <tr>\n",
       "      <th>Providers that only exist in the Procedures but not in Patients (?)</th>\n",
       "      <td>7</td>\n",
       "    </tr>\n",
       "    <tr>\n",
       "      <th>Providers that exist in Patients and Procedures</th>\n",
       "      <td>436</td>\n",
       "    </tr>\n",
       "    <tr>\n",
       "      <th>Providers that only exists in the Medications but not in Patients (?)</th>\n",
       "      <td>0</td>\n",
       "    </tr>\n",
       "    <tr>\n",
       "      <th>Providers that exists in Patients and Medications</th>\n",
       "      <td>20</td>\n",
       "    </tr>\n",
       "    <tr>\n",
       "      <th>Providers that exists in Procedures and Medications only but not in Patients (?)</th>\n",
       "      <td>1</td>\n",
       "    </tr>\n",
       "    <tr>\n",
       "      <th>Providers that exists in all datasets</th>\n",
       "      <td>824</td>\n",
       "    </tr>\n",
       "  </tbody>\n",
       "</table>\n",
       "</div>"
      ],
      "text/plain": [
       "                                                    Count\n",
       "Observations                                             \n",
       "Providers that only exist in Patients                 553\n",
       "Providers that only exist in the Procedures but...      7\n",
       "Providers that exist in Patients and Procedures       436\n",
       "Providers that only exists in the Medications b...      0\n",
       "Providers that exists in Patients and Medications      20\n",
       "Providers that exists in Procedures and Medicat...      1\n",
       "Providers that exists in all datasets                 824"
      ]
     },
     "execution_count": 7,
     "metadata": {},
     "output_type": "execute_result"
    }
   ],
   "source": [
    "venn_analysis_table('FRDPersonnelID',\n",
    "                    df_pat['FRDPersonnelID'],\n",
    "                    df_pro['FRDPersonnelID'],\n",
    "                    df_med['FRDPersonnelID'])"
   ]
  },
  {
   "cell_type": "markdown",
   "id": "modified-thunder",
   "metadata": {},
   "source": [
    "#### Set of Provider IDs on Providers and Medications Datasets but NOT in Patients"
   ]
  },
  {
   "cell_type": "code",
   "execution_count": 8,
   "id": "communist-little",
   "metadata": {},
   "outputs": [
    {
     "name": "stdout",
     "output_type": "stream",
     "text": [
      "Total Number of PatientIds not in Patients Dataset is 8\n"
     ]
    },
    {
     "data": {
      "text/html": [
       "<div>\n",
       "<style scoped>\n",
       "    .dataframe tbody tr th:only-of-type {\n",
       "        vertical-align: middle;\n",
       "    }\n",
       "\n",
       "    .dataframe tbody tr th {\n",
       "        vertical-align: top;\n",
       "    }\n",
       "\n",
       "    .dataframe thead th {\n",
       "        text-align: right;\n",
       "    }\n",
       "</style>\n",
       "<table border=\"1\" class=\"dataframe\">\n",
       "  <thead>\n",
       "    <tr style=\"text-align: right;\">\n",
       "      <th></th>\n",
       "      <th>Missing IDs</th>\n",
       "    </tr>\n",
       "  </thead>\n",
       "  <tbody>\n",
       "    <tr>\n",
       "      <th>0</th>\n",
       "      <td>AAD8C99E-9E01-E211-B5F5-78E7D18CFD3C</td>\n",
       "    </tr>\n",
       "    <tr>\n",
       "      <th>1</th>\n",
       "      <td>8F31A24D-3506-4978-9197-4B16E5AA82A5</td>\n",
       "    </tr>\n",
       "    <tr>\n",
       "      <th>2</th>\n",
       "      <td>1AC85E51-5ED2-468F-B317-41181CF6720C</td>\n",
       "    </tr>\n",
       "    <tr>\n",
       "      <th>3</th>\n",
       "      <td>4CD8C99E-9E01-E211-B5F5-78E7D18CFD3C</td>\n",
       "    </tr>\n",
       "    <tr>\n",
       "      <th>4</th>\n",
       "      <td>11D6C99E-9E01-E211-B5F5-78E7D18CFD3C</td>\n",
       "    </tr>\n",
       "  </tbody>\n",
       "</table>\n",
       "</div>"
      ],
      "text/plain": [
       "                            Missing IDs\n",
       "0  AAD8C99E-9E01-E211-B5F5-78E7D18CFD3C\n",
       "1  8F31A24D-3506-4978-9197-4B16E5AA82A5\n",
       "2  1AC85E51-5ED2-468F-B317-41181CF6720C\n",
       "3  4CD8C99E-9E01-E211-B5F5-78E7D18CFD3C\n",
       "4  11D6C99E-9E01-E211-B5F5-78E7D18CFD3C"
      ]
     },
     "execution_count": 8,
     "metadata": {},
     "output_type": "execute_result"
    }
   ],
   "source": [
    "pro_miss_id = venn_analysis_table('FRDPersonnelID',\n",
    "                                  df_pat['FRDPersonnelID'],\n",
    "                                  df_pro['FRDPersonnelID'],\n",
    "                                  df_med['FRDPersonnelID'],False)\n",
    "\n",
    "print('Total Number of PatientIds not in Patients Dataset is {}'\\\n",
    "     .format(pro_miss_id.shape[0]))\n",
    "\n",
    "pro_miss_id.head()"
   ]
  },
  {
   "cell_type": "markdown",
   "id": "frank-profession",
   "metadata": {},
   "source": [
    "### Provider IDs Quick Test\n",
    "**Test Description** <br />\n",
    "The script that follows will search for each **FRDPersonnelID** that was shown in the Venn Diagram to not exist in the Patients table and generate a report that will help us validate the findings shown by the Venn analysis.\n",
    "\n",
    "**Pass Fail Criteria**<br />\n",
    "The shape of the patients data frame will be evaluated after applying the **logical indexing** that results from searching the PatientId within the Patients Raw dataset. If resulting shape is equal to (0,12) the test for that individual PatientId will be marked as 'PASS' as it implies the **FRDPersonnelID** was not found on the DataFrame."
   ]
  },
  {
   "cell_type": "code",
   "execution_count": 9,
   "id": "varied-stewart",
   "metadata": {},
   "outputs": [
    {
     "name": "stdout",
     "output_type": "stream",
     "text": [
      "The total number patient IDs with failed status is 0\n"
     ]
    },
    {
     "data": {
      "text/html": [
       "<div>\n",
       "<style scoped>\n",
       "    .dataframe tbody tr th:only-of-type {\n",
       "        vertical-align: middle;\n",
       "    }\n",
       "\n",
       "    .dataframe tbody tr th {\n",
       "        vertical-align: top;\n",
       "    }\n",
       "\n",
       "    .dataframe thead th {\n",
       "        text-align: right;\n",
       "    }\n",
       "</style>\n",
       "<table border=\"1\" class=\"dataframe\">\n",
       "  <thead>\n",
       "    <tr style=\"text-align: right;\">\n",
       "      <th></th>\n",
       "      <th>PatientId</th>\n",
       "      <th>Raw Shape</th>\n",
       "      <th>Logical Index Shape</th>\n",
       "      <th>Pass/Fail</th>\n",
       "    </tr>\n",
       "  </thead>\n",
       "  <tbody>\n",
       "    <tr>\n",
       "      <th>0</th>\n",
       "      <td>AAD8C99E-9E01-E211-B5F5-78E7D18CFD3C</td>\n",
       "      <td>(543774, 12)</td>\n",
       "      <td>(0, 12)</td>\n",
       "      <td>PASS</td>\n",
       "    </tr>\n",
       "    <tr>\n",
       "      <th>1</th>\n",
       "      <td>8F31A24D-3506-4978-9197-4B16E5AA82A5</td>\n",
       "      <td>(543774, 12)</td>\n",
       "      <td>(0, 12)</td>\n",
       "      <td>PASS</td>\n",
       "    </tr>\n",
       "    <tr>\n",
       "      <th>2</th>\n",
       "      <td>1AC85E51-5ED2-468F-B317-41181CF6720C</td>\n",
       "      <td>(543774, 12)</td>\n",
       "      <td>(0, 12)</td>\n",
       "      <td>PASS</td>\n",
       "    </tr>\n",
       "    <tr>\n",
       "      <th>3</th>\n",
       "      <td>4CD8C99E-9E01-E211-B5F5-78E7D18CFD3C</td>\n",
       "      <td>(543774, 12)</td>\n",
       "      <td>(0, 12)</td>\n",
       "      <td>PASS</td>\n",
       "    </tr>\n",
       "    <tr>\n",
       "      <th>4</th>\n",
       "      <td>11D6C99E-9E01-E211-B5F5-78E7D18CFD3C</td>\n",
       "      <td>(543774, 12)</td>\n",
       "      <td>(0, 12)</td>\n",
       "      <td>PASS</td>\n",
       "    </tr>\n",
       "  </tbody>\n",
       "</table>\n",
       "</div>"
      ],
      "text/plain": [
       "                              PatientId     Raw Shape Logical Index Shape  \\\n",
       "0  AAD8C99E-9E01-E211-B5F5-78E7D18CFD3C  (543774, 12)             (0, 12)   \n",
       "1  8F31A24D-3506-4978-9197-4B16E5AA82A5  (543774, 12)             (0, 12)   \n",
       "2  1AC85E51-5ED2-468F-B317-41181CF6720C  (543774, 12)             (0, 12)   \n",
       "3  4CD8C99E-9E01-E211-B5F5-78E7D18CFD3C  (543774, 12)             (0, 12)   \n",
       "4  11D6C99E-9E01-E211-B5F5-78E7D18CFD3C  (543774, 12)             (0, 12)   \n",
       "\n",
       "  Pass/Fail  \n",
       "0      PASS  \n",
       "1      PASS  \n",
       "2      PASS  \n",
       "3      PASS  \n",
       "4      PASS  "
      ]
     },
     "execution_count": 9,
     "metadata": {},
     "output_type": "execute_result"
    }
   ],
   "source": [
    "venn_analysis_short_test('FRDPersonnelID', df_pat, pro_miss_id).head()"
   ]
  }
 ],
 "metadata": {
  "kernelspec": {
   "display_name": "Python 3",
   "language": "python",
   "name": "python3"
  },
  "language_info": {
   "codemirror_mode": {
    "name": "ipython",
    "version": 3
   },
   "file_extension": ".py",
   "mimetype": "text/x-python",
   "name": "python",
   "nbconvert_exporter": "python",
   "pygments_lexer": "ipython3",
   "version": "3.8.8"
  }
 },
 "nbformat": 4,
 "nbformat_minor": 5
}
