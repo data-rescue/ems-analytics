{
 "cells": [
  {
   "cell_type": "markdown",
   "metadata": {},
   "source": [
    "# Descriptive Statistics for Common Datasets\n",
    "This script can be run on each of the datasets. Dataset-specific scripts will be written separately.\n",
    "This script counts and removes duplicate rows, calculates the number of unique values per column, calculates the number/percent of nulls per column, and counts number of rows with the same set of null column(s).\n",
    "\n",
    "_Author: Jared Gauntt_"
   ]
  },
  {
   "cell_type": "markdown",
   "metadata": {},
   "source": [
    "## Prepare for Analysis\n"
   ]
  },
  {
   "cell_type": "markdown",
   "metadata": {},
   "source": [
    "### Set Parameters"
   ]
  },
  {
   "cell_type": "code",
   "execution_count": 1,
   "metadata": {},
   "outputs": [],
   "source": [
    "localFolder='C:/Users/jared/Documents/My Files/DAEN 690/Analysis/'\n",
    "fileName='DAEN 690 2021-02-14 V2.xlsx'\n",
    "sheetName='Medications'"
   ]
  },
  {
   "cell_type": "markdown",
   "metadata": {},
   "source": [
    "### Import Libraries"
   ]
  },
  {
   "cell_type": "code",
   "execution_count": 2,
   "metadata": {},
   "outputs": [],
   "source": [
    "import pandas as pd\n",
    "pd.set_option('display.max_colwidth', None)"
   ]
  },
  {
   "cell_type": "markdown",
   "metadata": {},
   "source": [
    "### Import From Excel Spreadsheet"
   ]
  },
  {
   "cell_type": "code",
   "execution_count": 3,
   "metadata": {},
   "outputs": [
    {
     "name": "stdout",
     "output_type": "stream",
     "text": [
      "Medications\n",
      "Number of Rows = 63311\n",
      "Number of Columns = 4\n"
     ]
    },
    {
     "data": {
      "text/plain": [
       "PatientId                            int64\n",
       "Medication_Given_RXCUI_Code        float64\n",
       "Medication_Given_Description        object\n",
       "Personnel_Performer_ID_Internal     object\n",
       "dtype: object"
      ]
     },
     "execution_count": 3,
     "metadata": {},
     "output_type": "execute_result"
    }
   ],
   "source": [
    "#Import single tab \n",
    "df=pd.read_excel(localFolder+fileName,sheet_name=sheetName)\n",
    "\n",
    "#Print (1) number of rows/columns and (2) column names/types for quick confirmation of successful import\n",
    "numOriginalRows=len(df)\n",
    "numCols=len(df.columns)\n",
    "print(sheetName)\n",
    "print('Number of Rows = '+str(numOriginalRows))\n",
    "print('Number of Columns = '+str(numCols))\n",
    "df.dtypes"
   ]
  },
  {
   "cell_type": "markdown",
   "metadata": {},
   "source": [
    "## Numeric Analysis"
   ]
  },
  {
   "cell_type": "markdown",
   "metadata": {},
   "source": [
    "### Duplicate Rows\n",
    "Duplicate rows will likely need to be removed during data conditioning."
   ]
  },
  {
   "cell_type": "code",
   "execution_count": 4,
   "metadata": {},
   "outputs": [
    {
     "name": "stdout",
     "output_type": "stream",
     "text": [
      "Number of Duplicate Rows =\n",
      "9272\n",
      "Percentage of Rows that are Duplicates = \n",
      "14.6452\n"
     ]
    }
   ],
   "source": [
    "#Determine which rows are duplicates (True=duplicate, False=first instance of row)\n",
    "duplicateRowIdentifier=df.duplicated()\n",
    "\n",
    "#Calculate number of duplicate rows\n",
    "numDuplicateRows=len(duplicateRowIdentifier[duplicateRowIdentifier==True])\n",
    "numUniqueRows=numOriginalRows-numDuplicateRows\n",
    "\n",
    "#Calculate percentage of rows that are duplicates\n",
    "percentDuplicateRows=round(numDuplicateRows/len(df)*100,4)\n",
    "\n",
    "#Print results\n",
    "print('Number of Duplicate Rows =')\n",
    "print(numDuplicateRows)\n",
    "print('Percentage of Rows that are Duplicates = ')\n",
    "print(percentDuplicateRows)"
   ]
  },
  {
   "cell_type": "markdown",
   "metadata": {},
   "source": [
    "Duplicate rows will be removed before conducting the remaining analysis in this script."
   ]
  },
  {
   "cell_type": "code",
   "execution_count": 5,
   "metadata": {},
   "outputs": [
    {
     "name": "stdout",
     "output_type": "stream",
     "text": [
      "Expected Number of Rows = 54039\n",
      "Updated Data Frame Shape =\n",
      "(54039, 4)\n"
     ]
    }
   ],
   "source": [
    "#Reduce to the rows that were not flagged as duplicates\n",
    "df=df.loc[duplicateRowIdentifier==False,:]\n",
    "\n",
    "#Confirm\n",
    "print('Expected Number of Rows = '+str(numUniqueRows))\n",
    "print('Updated Data Frame Shape =')\n",
    "print(df.shape)"
   ]
  },
  {
   "cell_type": "markdown",
   "metadata": {},
   "source": [
    "### Unique Values Per Column\n",
    "This is a simple calculation of the number of unique values per individual column."
   ]
  },
  {
   "cell_type": "code",
   "execution_count": 6,
   "metadata": {},
   "outputs": [
    {
     "name": "stdout",
     "output_type": "stream",
     "text": [
      "PatientId                          38501\n",
      "Medication_Given_RXCUI_Code           33\n",
      "Medication_Given_Description          33\n",
      "Personnel_Performer_ID_Internal      845\n",
      "Name: Number of Unique Values, dtype: int64\n"
     ]
    }
   ],
   "source": [
    "#Calculate the number of unique values per columns (NULL counts as a value)\n",
    "dsNumUnique=df.nunique(dropna=False)\n",
    "dsNumUnique.name='Number of Unique Values'\n",
    "print(dsNumUnique)"
   ]
  },
  {
   "cell_type": "markdown",
   "metadata": {},
   "source": [
    "### Null Values Per Column\n",
    "This is a simple calculation of the number/percentage of null values per individual column."
   ]
  },
  {
   "cell_type": "code",
   "execution_count": 7,
   "metadata": {},
   "outputs": [
    {
     "name": "stdout",
     "output_type": "stream",
     "text": [
      "PatientId                          0\n",
      "Medication_Given_RXCUI_Code        6\n",
      "Medication_Given_Description       6\n",
      "Personnel_Performer_ID_Internal    0\n",
      "Name: Number Rows With Nulls, dtype: int64\n"
     ]
    }
   ],
   "source": [
    "#Calculate the number of null values per columns\n",
    "dsNumNull=df.isnull().sum()\n",
    "dsNumNull.name='Number Rows With Nulls'\n",
    "print(dsNumNull)"
   ]
  },
  {
   "cell_type": "code",
   "execution_count": 8,
   "metadata": {},
   "outputs": [
    {
     "name": "stdout",
     "output_type": "stream",
     "text": [
      "PatientId                          0.00\n",
      "Medication_Given_RXCUI_Code        0.01\n",
      "Medication_Given_Description       0.01\n",
      "Personnel_Performer_ID_Internal    0.00\n",
      "Name: Percent Rows With Nulls, dtype: float64\n"
     ]
    }
   ],
   "source": [
    "#Calculate the percentage of null values per columns\n",
    "dsPercentNull=(dsNumNull/numUniqueRows*100).round(2)\n",
    "dsPercentNull.name='Percent Rows With Nulls'\n",
    "print(dsPercentNull)"
   ]
  },
  {
   "cell_type": "code",
   "execution_count": 9,
   "metadata": {},
   "outputs": [],
   "source": [
    "#Merge data series (by column) together\n",
    "dfPerCol=pd.DataFrame()\n",
    "dfPerCol[dsNumUnique.name]=dsNumUnique\n",
    "dfPerCol[dsNumNull.name]=dsNumNull\n",
    "dfPerCol[dsPercentNull.name]=dsPercentNull"
   ]
  },
  {
   "cell_type": "markdown",
   "metadata": {},
   "source": [
    "### Null Values Per Row\n",
    "This section determines which columns have a null value per each row, resulting in a data series matching the number of unique rows in the dataset. The series values are tuples of column names. The resulting table shows the unique tuples of column names with their corresponding row count. Once the data subsets for the project questions are determined, this will help inform the completeness of those data subsets."
   ]
  },
  {
   "cell_type": "code",
   "execution_count": 10,
   "metadata": {},
   "outputs": [
    {
     "data": {
      "text/html": [
       "<div>\n",
       "<style scoped>\n",
       "    .dataframe tbody tr th:only-of-type {\n",
       "        vertical-align: middle;\n",
       "    }\n",
       "\n",
       "    .dataframe tbody tr th {\n",
       "        vertical-align: top;\n",
       "    }\n",
       "\n",
       "    .dataframe thead th {\n",
       "        text-align: right;\n",
       "    }\n",
       "</style>\n",
       "<table border=\"1\" class=\"dataframe\">\n",
       "  <thead>\n",
       "    <tr style=\"text-align: right;\">\n",
       "      <th></th>\n",
       "      <th>Columns With Null</th>\n",
       "      <th>Number of Rows</th>\n",
       "      <th>Percent of Rows</th>\n",
       "    </tr>\n",
       "  </thead>\n",
       "  <tbody>\n",
       "    <tr>\n",
       "      <th>0</th>\n",
       "      <td>()</td>\n",
       "      <td>54033</td>\n",
       "      <td>99.99</td>\n",
       "    </tr>\n",
       "    <tr>\n",
       "      <th>1</th>\n",
       "      <td>(Medication_Given_Description, Medication_Given_RXCUI_Code)</td>\n",
       "      <td>6</td>\n",
       "      <td>0.01</td>\n",
       "    </tr>\n",
       "  </tbody>\n",
       "</table>\n",
       "</div>"
      ],
      "text/plain": [
       "                                             Columns With Null  \\\n",
       "0                                                           ()   \n",
       "1  (Medication_Given_Description, Medication_Given_RXCUI_Code)   \n",
       "\n",
       "   Number of Rows  Percent of Rows  \n",
       "0           54033            99.99  \n",
       "1               6             0.01  "
      ]
     },
     "execution_count": 10,
     "metadata": {},
     "output_type": "execute_result"
    }
   ],
   "source": [
    "#For a single row, determine which columns have null values\n",
    "def NullsPerRow(dsRow):  \n",
    "    columnsNull=list(dsRow[dsRow.isnull()].index)\n",
    "    columnsNull.sort()\n",
    "    columnsNull=tuple(columnsNull) #used tuple since lists can't be used by pandas unique()\n",
    "    return(columnsNull)\n",
    "dsNulls=df.apply(NullsPerRow,axis=1)\n",
    "\n",
    "#Create data frame for counting \n",
    "dfNulls=pd.DataFrame(dsNulls.unique(),columns=['Columns With Null'])\n",
    "dfNulls['Number of Rows']=0\n",
    "\n",
    "#Count the number of rows per each tuple of null columns\n",
    "for index in dfNulls.index:\n",
    "    dfNulls.loc[index,'Number of Rows']=len(dsNulls[dsNulls==dfNulls.loc[index,'Columns With Null']])\n",
    "dfNulls.sort_values(by='Number of Rows',ascending=False,inplace=True)\n",
    "dfNulls.reset_index(drop=True,inplace=True)\n",
    "\n",
    "#Add a column for percent of rows\n",
    "dfNulls['Percent of Rows']=(dfNulls['Number of Rows']/numUniqueRows*100).round(2)\n",
    "dfNulls"
   ]
  },
  {
   "cell_type": "markdown",
   "metadata": {},
   "source": [
    "## Visualizations"
   ]
  },
  {
   "cell_type": "code",
   "execution_count": 11,
   "metadata": {},
   "outputs": [
    {
     "name": "stdout",
     "output_type": "stream",
     "text": [
      "Medications Dataset\n",
      "\n",
      "Original Number of Rows = 63311\n",
      "Duplicate Number of Rows = 9272\n",
      "Percent Duplicate Rows = 14.6452\n",
      "\n",
      "Duplicate rows removed prior to remaining analysis\n",
      "Unique Number of Rows = 54039\n",
      "\n"
     ]
    }
   ],
   "source": [
    "print(sheetName+' Dataset\\n')\n",
    "print('Original Number of Rows = '+str(numOriginalRows))\n",
    "print('Duplicate Number of Rows = '+str(numDuplicateRows))\n",
    "print('Percent Duplicate Rows = '+str(percentDuplicateRows)+'\\n')\n",
    "print('Duplicate rows removed prior to remaining analysis')\n",
    "print('Unique Number of Rows = '+str(numUniqueRows)+'\\n')"
   ]
  },
  {
   "cell_type": "code",
   "execution_count": 12,
   "metadata": {},
   "outputs": [
    {
     "data": {
      "text/html": [
       "<div>\n",
       "<style scoped>\n",
       "    .dataframe tbody tr th:only-of-type {\n",
       "        vertical-align: middle;\n",
       "    }\n",
       "\n",
       "    .dataframe tbody tr th {\n",
       "        vertical-align: top;\n",
       "    }\n",
       "\n",
       "    .dataframe thead th {\n",
       "        text-align: right;\n",
       "    }\n",
       "</style>\n",
       "<table border=\"1\" class=\"dataframe\">\n",
       "  <thead>\n",
       "    <tr style=\"text-align: right;\">\n",
       "      <th></th>\n",
       "      <th>Number of Unique Values</th>\n",
       "      <th>Number Rows With Nulls</th>\n",
       "      <th>Percent Rows With Nulls</th>\n",
       "    </tr>\n",
       "  </thead>\n",
       "  <tbody>\n",
       "    <tr>\n",
       "      <th>PatientId</th>\n",
       "      <td>38501</td>\n",
       "      <td>0</td>\n",
       "      <td>0.00</td>\n",
       "    </tr>\n",
       "    <tr>\n",
       "      <th>Medication_Given_RXCUI_Code</th>\n",
       "      <td>33</td>\n",
       "      <td>6</td>\n",
       "      <td>0.01</td>\n",
       "    </tr>\n",
       "    <tr>\n",
       "      <th>Medication_Given_Description</th>\n",
       "      <td>33</td>\n",
       "      <td>6</td>\n",
       "      <td>0.01</td>\n",
       "    </tr>\n",
       "    <tr>\n",
       "      <th>Personnel_Performer_ID_Internal</th>\n",
       "      <td>845</td>\n",
       "      <td>0</td>\n",
       "      <td>0.00</td>\n",
       "    </tr>\n",
       "  </tbody>\n",
       "</table>\n",
       "</div>"
      ],
      "text/plain": [
       "                                 Number of Unique Values  \\\n",
       "PatientId                                          38501   \n",
       "Medication_Given_RXCUI_Code                           33   \n",
       "Medication_Given_Description                          33   \n",
       "Personnel_Performer_ID_Internal                      845   \n",
       "\n",
       "                                 Number Rows With Nulls  \\\n",
       "PatientId                                             0   \n",
       "Medication_Given_RXCUI_Code                           6   \n",
       "Medication_Given_Description                          6   \n",
       "Personnel_Performer_ID_Internal                       0   \n",
       "\n",
       "                                 Percent Rows With Nulls  \n",
       "PatientId                                           0.00  \n",
       "Medication_Given_RXCUI_Code                         0.01  \n",
       "Medication_Given_Description                        0.01  \n",
       "Personnel_Performer_ID_Internal                     0.00  "
      ]
     },
     "execution_count": 12,
     "metadata": {},
     "output_type": "execute_result"
    }
   ],
   "source": [
    "dfPerCol"
   ]
  },
  {
   "cell_type": "code",
   "execution_count": 13,
   "metadata": {},
   "outputs": [
    {
     "data": {
      "text/html": [
       "<div>\n",
       "<style scoped>\n",
       "    .dataframe tbody tr th:only-of-type {\n",
       "        vertical-align: middle;\n",
       "    }\n",
       "\n",
       "    .dataframe tbody tr th {\n",
       "        vertical-align: top;\n",
       "    }\n",
       "\n",
       "    .dataframe thead th {\n",
       "        text-align: right;\n",
       "    }\n",
       "</style>\n",
       "<table border=\"1\" class=\"dataframe\">\n",
       "  <thead>\n",
       "    <tr style=\"text-align: right;\">\n",
       "      <th></th>\n",
       "      <th>Columns With Null</th>\n",
       "      <th>Number of Rows</th>\n",
       "      <th>Percent of Rows</th>\n",
       "    </tr>\n",
       "  </thead>\n",
       "  <tbody>\n",
       "    <tr>\n",
       "      <th>0</th>\n",
       "      <td>()</td>\n",
       "      <td>54033</td>\n",
       "      <td>99.99</td>\n",
       "    </tr>\n",
       "    <tr>\n",
       "      <th>1</th>\n",
       "      <td>(Medication_Given_Description, Medication_Given_RXCUI_Code)</td>\n",
       "      <td>6</td>\n",
       "      <td>0.01</td>\n",
       "    </tr>\n",
       "  </tbody>\n",
       "</table>\n",
       "</div>"
      ],
      "text/plain": [
       "                                             Columns With Null  \\\n",
       "0                                                           ()   \n",
       "1  (Medication_Given_Description, Medication_Given_RXCUI_Code)   \n",
       "\n",
       "   Number of Rows  Percent of Rows  \n",
       "0           54033            99.99  \n",
       "1               6             0.01  "
      ]
     },
     "execution_count": 13,
     "metadata": {},
     "output_type": "execute_result"
    }
   ],
   "source": [
    "dfNulls"
   ]
  }
 ],
 "metadata": {
  "kernelspec": {
   "display_name": "Python 3",
   "language": "python",
   "name": "python3"
  },
  "language_info": {
   "codemirror_mode": {
    "name": "ipython",
    "version": 3
   },
   "file_extension": ".py",
   "mimetype": "text/x-python",
   "name": "python",
   "nbconvert_exporter": "python",
   "pygments_lexer": "ipython3",
   "version": "3.7.7"
  }
 },
 "nbformat": 4,
 "nbformat_minor": 4
}
